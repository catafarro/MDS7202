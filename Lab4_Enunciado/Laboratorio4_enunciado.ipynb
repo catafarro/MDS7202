{
 "cells": [
  {
   "cell_type": "markdown",
   "source": "<h1><center>Laboratorio 4: El Pandas no muerde (act. II) 🐼</center></h1>\n\n<center><strong>MDS7202: Laboratorio de Programación Científica para Ciencia de Datos</strong></center>",
   "metadata": {
    "id": "XUZ1dFPHzAHl",
    "cell_id": "00000-1e28e028-8c7c-44ca-8e33-1258582f99e7",
    "deepnote_cell_type": "markdown"
   }
  },
  {
   "cell_type": "markdown",
   "source": "### Cuerpo Docente:\n\n- Profesor: Pablo Badilla\n- Auxiliar: Ignacio Meza D.\n- Ayudante: Constanza Peña",
   "metadata": {
    "id": "UD8X1uhGzAHq",
    "cell_id": "00001-099494b3-01dc-48cc-b8f9-4271b61f420b",
    "deepnote_cell_type": "markdown"
   }
  },
  {
   "cell_type": "markdown",
   "source": "### Equipo: SUPER IMPORTANTE - notebooks sin nombre no serán revisados\n\n- Nombre de alumno 1:Santiago Valdivieso \n- Nombre de alumno 2: Catalina Contreras\n",
   "metadata": {
    "id": "tXflExjqzAHr",
    "cell_id": "00002-92b9aa44-c1e6-4135-8ef3-d7fb7c0f15d8",
    "deepnote_cell_type": "markdown"
   }
  },
  {
   "cell_type": "markdown",
   "source": "### **Link de repositorio de GitHub:** `https://github.com/catafarro/MDS7202/blob/main/Lab4_Enunciado/Laboratorio4_enunciado.ipynb`",
   "metadata": {
    "id": "AD-V0bbZzAHr",
    "cell_id": "00003-747c29f5-d5d2-41f3-8625-c313d400084b",
    "deepnote_cell_type": "markdown"
   }
  },
  {
   "cell_type": "markdown",
   "source": "# Temas a tratar\n\n- Manejo de datos tabulares usando `pandas`. En esta segunda parte se incluye adicionalmente agregaciones, concatenaciones, merge y trabajo con strings.\n- Visualizaciones interactivas de los datos con `plotly`.\n\n### Reglas:\n\n- Fecha de entrega: 8 de octubre (atrasos hasta el 11 de octubre, 1 punto de descuento por día)\n- **Grupos de máximo 2 personas**\n- **Ausentes** deberán realizar la actividad solos. \n- Cualquier duda fuera del horario de clases al foro. Mensajes al equipo docente serán respondidos por este medio.\n- Prohibidas las copias. \n- Pueden usar cualquer matrial del curso que estimen conveniente.\n\n\n### Objetivos principales del laboratorio\n\n- Aplicar y aprovechar las ventajas que nos ofrece la libreria `pandas`.\n- Utilizar `plotly` para obtener información gráfica del dataset.\n- Aplicar el **Análisis Exploratorio de Datos** a un caso en particular.\n\n\n> **Nota**: El laboratorio deberá ser desarrollado sin el uso indiscriminado de iteradores nativos de python (aka \"for\", \"while\"). La idea es que aprendan a exprimir al máximo las funciones optimizadas que nos entrega `pandas`, las cuales vale mencionar, son bastante más eficientes que los iteradores nativos sobre DataFrames.",
   "metadata": {
    "id": "6uBLPj1PzAHs",
    "cell_id": "00004-dfe5b91a-9850-4f6d-b319-7c2d69f0c0e0",
    "deepnote_cell_type": "markdown"
   }
  },
  {
   "cell_type": "markdown",
   "source": "# Importamos librerias utiles 😸",
   "metadata": {
    "id": "MhISwri4zAHy",
    "cell_id": "00005-5a3e76ba-e893-466f-8651-7db0e1d9b651",
    "deepnote_cell_type": "markdown"
   }
  },
  {
   "cell_type": "code",
   "metadata": {
    "ExecuteTime": {
     "end_time": "2021-03-29T00:08:16.884674Z",
     "start_time": "2021-03-29T00:08:16.349846Z"
    },
    "id": "uyc33dKdzAHy",
    "cell_id": "00006-ac1efcdf-6e5f-40c0-9104-230f4d8362d5",
    "deepnote_to_be_reexecuted": false,
    "source_hash": "6f2fb2af",
    "execution_start": 1633729476408,
    "execution_millis": 858,
    "deepnote_cell_type": "code"
   },
   "source": "# Libreria Core del lab.\nimport numpy as np\nimport pandas as pd \n\nfrom IPython.display import display\n\n#Libreria para visualizar\n#!pip install --upgrade plotly\nimport plotly.figure_factory as ff\nimport plotly.express as px",
   "outputs": [],
   "execution_count": 1
  },
  {
   "cell_type": "markdown",
   "source": "# 1. Rendimiento en Estudiantes 📚",
   "metadata": {
    "id": "xpOTbQcxbSiy",
    "cell_id": "00007-2dc347ec-34b6-417a-9387-f92220c73dcd",
    "deepnote_cell_type": "markdown"
   }
  },
  {
   "cell_type": "markdown",
   "source": "\n<p align=\"center\">\n  <img src=\"https://drive.google.com/uc?export=view&id=1hZZaPQlZe4VupFOXt76_wjuUA5NpUhrw\" width=\"300\" height=\"300\">\n</p>",
   "metadata": {
    "id": "3Q93vbNS25bM",
    "cell_id": "00008-609f817c-a156-48e7-9452-166c7f2a0e86",
    "deepnote_cell_type": "markdown"
   }
  },
  {
   "cell_type": "markdown",
   "source": "Para este laboratorio deberán continuar el Análisis Exploratorio de datos sobre el conjunto ```students_grades.csv```, el cual contiene una caracterización sobre el rendimiento y otros atributos de cada alumno de la *Universidad de la Cachaña* .",
   "metadata": {
    "id": "jnmZfFpxTTYX",
    "cell_id": "00009-0921d6ed-c21a-4cb2-a98a-5165fac451ae",
    "deepnote_cell_type": "markdown"
   }
  },
  {
   "cell_type": "code",
   "metadata": {
    "colab": {
     "base_uri": "https://localhost:8080/"
    },
    "id": "Jqq-s010Iwl1",
    "executionInfo": {
     "status": "ok",
     "timestamp": 1619148744159,
     "user_tz": 240,
     "elapsed": 743,
     "user": {
      "displayName": "IGNACIO ALEJANDRO MEZA",
      "photoUrl": "",
      "userId": "17011121633069169364"
     }
    },
    "outputId": "439939e5-ef95-449e-a076-060347cfb431",
    "cell_id": "00010-b149db38-ce5b-4735-bf46-efeed4a4f486",
    "deepnote_to_be_reexecuted": false,
    "source_hash": "c60dc4a7",
    "execution_start": 1633729477281,
    "execution_millis": 659,
    "deepnote_cell_type": "code"
   },
   "source": "# Si usted está utilizando Colabolatory le puede ser útil este código para cargar los archivos.\ntry:\n    from google.colab import drive\n    drive.mount(\"/content/drive\")\n    path = 'Dirección donde tiene los archivos en el Drive'\nexcept: \n    print('Ignorando conexión drive-colab')",
   "outputs": [
    {
     "name": "stdout",
     "text": "Ignorando conexión drive-colab\n",
     "output_type": "stream"
    }
   ],
   "execution_count": 2
  },
  {
   "cell_type": "markdown",
   "source": "# 1. Carga de Datos [0.5 Puntos]\n\nYa finalizado en análisis inicial, ud. y su equipo le entregaron a *Don Caguayo* (rector de la Universidad de la Cachaña) tanto los resultados del análisis como también la base de datos limpia y lista para ser almacenada. Dada la ingente cantidad de los datos, el equipo de TI de la universidad resolvió separar el dataset en dos bases de datos distintas (lo que según argumentan ellos, permitiría hacer agregaciones de forma más eficiente). \n\nGracias a la excelente labor de ud. y su equipo en el análisis previo, el rector le solicita continuar el trabajo con una nueva batería de análisis. Por este motivo, la sección de TI les entrega nuevamente los datos. Sin embargo, argumentan que dada una escazes de personal, solo le entregarán *dumps* (copias) de cada base de datos y su equipo deberá unir las bases de datos. Los datos se encuentran en los siguiente archivos `.json`: ´students_grades_1.json´ y ´students_grades_2.json´. \n\n\nPor ende, ud. y su equipo deciden que la primera tarea se centrará en cargar estos datos y unirlos. No se preocupe por la limpieza ni transformar el tipo de datos de las columnas, ni tampoco transformar a notas chilenas, recuerde que anteriormente ya se encargo de este tema.",
   "metadata": {
    "cell_id": "00011-42dc3689-f347-44c3-9728-3d5ea0ed168b",
    "deepnote_cell_type": "markdown"
   }
  },
  {
   "cell_type": "code",
   "metadata": {
    "cell_id": "00012-12057f0c-526b-4e98-bfeb-e8fa1dd500a5",
    "deepnote_to_be_reexecuted": false,
    "source_hash": "efa065c",
    "execution_start": 1633729477393,
    "execution_millis": 547,
    "deepnote_cell_type": "code"
   },
   "source": "students_grades_1 = pd.read_json (\"students_grades_1.json\")\nstudents_grades_2=  pd.read_json (\"students_grades_2.json\")\n\ndf_grades = students_grades_1.append(students_grades_2)\ndf_grades ",
   "outputs": [
    {
     "output_type": "execute_result",
     "execution_count": 3,
     "data": {
      "application/vnd.deepnote.dataframe.v2+json": {
       "row_count": 875,
       "column_count": 9,
       "columns": [
        {
         "name": "names",
         "dtype": "object",
         "stats": {
          "unique_count": 875,
          "nan_count": 0,
          "categories": [
           {
            "name": "Rita Courtney",
            "count": 1
           },
           {
            "name": "Charles Linstrom",
            "count": 1
           },
           {
            "name": "873 others",
            "count": 873
           }
          ]
         }
        },
        {
         "name": "gender",
         "dtype": "object",
         "stats": {
          "unique_count": 2,
          "nan_count": 0,
          "categories": [
           {
            "name": "female",
            "count": 448
           },
           {
            "name": "male",
            "count": 427
           }
          ]
         }
        },
        {
         "name": "race/ethnicity",
         "dtype": "object",
         "stats": {
          "unique_count": 5,
          "nan_count": 0,
          "categories": [
           {
            "name": "group C",
            "count": 272
           },
           {
            "name": "group D",
            "count": 239
           },
           {
            "name": "3 others",
            "count": 364
           }
          ]
         }
        },
        {
         "name": "parental level of education",
         "dtype": "object",
         "stats": {
          "unique_count": 6,
          "nan_count": 0,
          "categories": [
           {
            "name": "associate's degree",
            "count": 196
           },
           {
            "name": "some college",
            "count": 191
           },
           {
            "name": "4 others",
            "count": 488
           }
          ]
         }
        },
        {
         "name": "lunch",
         "dtype": "object",
         "stats": {
          "unique_count": 2,
          "nan_count": 0,
          "categories": [
           {
            "name": "standard",
            "count": 562
           },
           {
            "name": "free/reduced",
            "count": 313
           }
          ]
         }
        },
        {
         "name": "test preparation course",
         "dtype": "object",
         "stats": {
          "unique_count": 2,
          "nan_count": 0,
          "categories": [
           {
            "name": "none",
            "count": 563
           },
           {
            "name": "completed",
            "count": 312
           }
          ]
         }
        },
        {
         "name": "math score",
         "dtype": "float64",
         "stats": {
          "unique_count": 79,
          "nan_count": 0,
          "min": "1.0",
          "max": "7.0",
          "histogram": [
           {
            "bin_start": 1,
            "bin_end": 1.6,
            "count": 2
           },
           {
            "bin_start": 1.6,
            "bin_end": 2.2,
            "count": 2
           },
           {
            "bin_start": 2.2,
            "bin_end": 2.8,
            "count": 10
           },
           {
            "bin_start": 2.8,
            "bin_end": 3.4,
            "count": 19
           },
           {
            "bin_start": 3.4,
            "bin_end": 4,
            "count": 81
           },
           {
            "bin_start": 4,
            "bin_end": 4.6,
            "count": 158
           },
           {
            "bin_start": 4.6,
            "bin_end": 5.2,
            "count": 245
           },
           {
            "bin_start": 5.2,
            "bin_end": 5.8,
            "count": 191
           },
           {
            "bin_start": 5.8,
            "bin_end": 6.3999999999999995,
            "count": 116
           },
           {
            "bin_start": 6.3999999999999995,
            "bin_end": 7,
            "count": 51
           }
          ]
         }
        },
        {
         "name": "reading score",
         "dtype": "float64",
         "stats": {
          "unique_count": 72,
          "nan_count": 0,
          "min": "2.02",
          "max": "7.0",
          "histogram": [
           {
            "bin_start": 2.02,
            "bin_end": 2.5180000000000002,
            "count": 4
           },
           {
            "bin_start": 2.5180000000000002,
            "bin_end": 3.016,
            "count": 7
           },
           {
            "bin_start": 3.016,
            "bin_end": 3.5140000000000002,
            "count": 19
           },
           {
            "bin_start": 3.5140000000000002,
            "bin_end": 4.0120000000000005,
            "count": 53
           },
           {
            "bin_start": 4.0120000000000005,
            "bin_end": 4.51,
            "count": 124
           },
           {
            "bin_start": 4.51,
            "bin_end": 5.008000000000001,
            "count": 157
           },
           {
            "bin_start": 5.008000000000001,
            "bin_end": 5.506,
            "count": 212
           },
           {
            "bin_start": 5.506,
            "bin_end": 6.0040000000000004,
            "count": 147
           },
           {
            "bin_start": 6.0040000000000004,
            "bin_end": 6.502000000000001,
            "count": 101
           },
           {
            "bin_start": 6.502000000000001,
            "bin_end": 7,
            "count": 51
           }
          ]
         }
        },
        {
         "name": "writing score",
         "dtype": "float64",
         "stats": {
          "unique_count": 77,
          "nan_count": 0,
          "min": "1.6",
          "max": "7.0",
          "histogram": [
           {
            "bin_start": 1.6,
            "bin_end": 2.14,
            "count": 2
           },
           {
            "bin_start": 2.14,
            "bin_end": 2.68,
            "count": 6
           },
           {
            "bin_start": 2.68,
            "bin_end": 3.22,
            "count": 13
           },
           {
            "bin_start": 3.22,
            "bin_end": 3.7600000000000002,
            "count": 52
           },
           {
            "bin_start": 3.7600000000000002,
            "bin_end": 4.300000000000001,
            "count": 115
           },
           {
            "bin_start": 4.300000000000001,
            "bin_end": 4.84,
            "count": 129
           },
           {
            "bin_start": 4.84,
            "bin_end": 5.380000000000001,
            "count": 218
           },
           {
            "bin_start": 5.380000000000001,
            "bin_end": 5.92,
            "count": 174
           },
           {
            "bin_start": 5.92,
            "bin_end": 6.460000000000001,
            "count": 116
           },
           {
            "bin_start": 6.460000000000001,
            "bin_end": 7,
            "count": 50
           }
          ]
         }
        },
        {
         "name": "_deepnote_index_column",
         "dtype": "int64"
        }
       ],
       "rows_top": [
        {
         "names": "Rita Courtney",
         "gender": "female",
         "race/ethnicity": "group B",
         "parental level of education": "some high school",
         "lunch": "standard",
         "test preparation course": "none",
         "math score": 3.22,
         "reading score": 3.76,
         "writing score": 3.76,
         "_deepnote_index_column": 0
        },
        {
         "names": "Charles Linstrom",
         "gender": "male",
         "race/ethnicity": "group A",
         "parental level of education": "bachelor's degree",
         "lunch": "standard",
         "test preparation course": "completed",
         "math score": 5.8,
         "reading score": 5.68,
         "writing score": 5.86,
         "_deepnote_index_column": 1
        },
        {
         "names": "Brian Young",
         "gender": "male",
         "race/ethnicity": "group C",
         "parental level of education": "some high school",
         "lunch": "standard",
         "test preparation course": "none",
         "math score": 5.38,
         "reading score": 4.96,
         "writing score": 4.78,
         "_deepnote_index_column": 2
        },
        {
         "names": "Howard Jimenez",
         "gender": "male",
         "race/ethnicity": "group E",
         "parental level of education": "some high school",
         "lunch": "standard",
         "test preparation course": "completed",
         "math score": 5.86,
         "reading score": 5.5,
         "writing score": 5.5600000000000005,
         "_deepnote_index_column": 3
        },
        {
         "names": "Wayne Wilson",
         "gender": "male",
         "race/ethnicity": "group B",
         "parental level of education": "some high school",
         "lunch": "standard",
         "test preparation course": "completed",
         "math score": 6.64,
         "reading score": 6.16,
         "writing score": 6.22,
         "_deepnote_index_column": 4
        },
        {
         "names": "Jonathan Clingan",
         "gender": "male",
         "race/ethnicity": "group D",
         "parental level of education": "some college",
         "lunch": "standard",
         "test preparation course": "completed",
         "math score": 5.26,
         "reading score": 4.66,
         "writing score": 5.14,
         "_deepnote_index_column": 5
        },
        {
         "names": "William Tang",
         "gender": "male",
         "race/ethnicity": "group D",
         "parental level of education": "associate's degree",
         "lunch": "standard",
         "test preparation course": "none",
         "math score": 5.5,
         "reading score": 5.08,
         "writing score": 4.84,
         "_deepnote_index_column": 6
        },
        {
         "names": "Mikki Amaya",
         "gender": "female",
         "race/ethnicity": "group A",
         "parental level of education": "high school",
         "lunch": "free/reduced",
         "test preparation course": "completed",
         "math score": 3.04,
         "reading score": 3.88,
         "writing score": 3.46,
         "_deepnote_index_column": 7
        },
        {
         "names": "Gerald Wilson",
         "gender": "male",
         "race/ethnicity": "group A",
         "parental level of education": "associate's degree",
         "lunch": "standard",
         "test preparation course": "none",
         "math score": 4.78,
         "reading score": 4.66,
         "writing score": 4.66,
         "_deepnote_index_column": 8
        },
        {
         "names": "Damon Mckee",
         "gender": "male",
         "race/ethnicity": "group E",
         "parental level of education": "high school",
         "lunch": "standard",
         "test preparation course": "none",
         "math score": 6.64,
         "reading score": 5.38,
         "writing score": 5.26,
         "_deepnote_index_column": 9
        },
        {
         "names": "Sophia Bijou",
         "gender": "female",
         "race/ethnicity": "group D",
         "parental level of education": "some high school",
         "lunch": "standard",
         "test preparation course": "completed",
         "math score": 4.9,
         "reading score": 5.68,
         "writing score": 5.92,
         "_deepnote_index_column": 10
        },
        {
         "names": "Monica Schwartz",
         "gender": "female",
         "race/ethnicity": "group B",
         "parental level of education": "associate's degree",
         "lunch": "free/reduced",
         "test preparation course": "none",
         "math score": 4.12,
         "reading score": 5.5600000000000005,
         "writing score": 5.2,
         "_deepnote_index_column": 11
        },
        {
         "names": "Donald Upchurch",
         "gender": "male",
         "race/ethnicity": "group C",
         "parental level of education": "associate's degree",
         "lunch": "standard",
         "test preparation course": "none",
         "math score": 4.72,
         "reading score": 4.9,
         "writing score": 4.48,
         "_deepnote_index_column": 12
        },
        {
         "names": "Donald Dunnings",
         "gender": "male",
         "race/ethnicity": "group D",
         "parental level of education": "some high school",
         "lunch": "standard",
         "test preparation course": "none",
         "math score": 5.44,
         "reading score": 5.44,
         "writing score": 5.32,
         "_deepnote_index_column": 13
        },
        {
         "names": "Joseph Mccoy",
         "gender": "male",
         "race/ethnicity": "group D",
         "parental level of education": "some college",
         "lunch": "free/reduced",
         "test preparation course": "none",
         "math score": 4.72,
         "reading score": 4.42,
         "writing score": 4.72,
         "_deepnote_index_column": 14
        },
        {
         "names": "David Dupree",
         "gender": "male",
         "race/ethnicity": "group B",
         "parental level of education": "high school",
         "lunch": "standard",
         "test preparation course": "completed",
         "math score": 5.38,
         "reading score": 5.14,
         "writing score": 5.08,
         "_deepnote_index_column": 15
        },
        {
         "names": "Samuel Dougal",
         "gender": "male",
         "race/ethnicity": "group C",
         "parental level of education": "master's degree",
         "lunch": "free/reduced",
         "test preparation course": "completed",
         "math score": 3.76,
         "reading score": 3.52,
         "writing score": 3.76,
         "_deepnote_index_column": 16
        },
        {
         "names": "Richard Pina",
         "gender": "male",
         "race/ethnicity": "group D",
         "parental level of education": "master's degree",
         "lunch": "standard",
         "test preparation course": "none",
         "math score": 5.92,
         "reading score": 5.92,
         "writing score": 5.44,
         "_deepnote_index_column": 17
        },
        {
         "names": "Dale Sylvain",
         "gender": "male",
         "race/ethnicity": "group D",
         "parental level of education": "some college",
         "lunch": "free/reduced",
         "test preparation course": "none",
         "math score": 4.78,
         "reading score": 4.66,
         "writing score": 4.6,
         "_deepnote_index_column": 18
        },
        {
         "names": "Janine Taylor",
         "gender": "female",
         "race/ethnicity": "group C",
         "parental level of education": "associate's degree",
         "lunch": "free/reduced",
         "test preparation course": "none",
         "math score": 4.84,
         "reading score": 5.38,
         "writing score": 5.08,
         "_deepnote_index_column": 19
        },
        {
         "names": "Alexander Dillon",
         "gender": "male",
         "race/ethnicity": "group D",
         "parental level of education": "associate's degree",
         "lunch": "standard",
         "test preparation course": "none",
         "math score": 5.8,
         "reading score": 5.5,
         "writing score": 5.62,
         "_deepnote_index_column": 20
        },
        {
         "names": "Shanna Braswell",
         "gender": "female",
         "race/ethnicity": "group D",
         "parental level of education": "bachelor's degree",
         "lunch": "free/reduced",
         "test preparation course": "completed",
         "math score": 6.58,
         "reading score": 7,
         "writing score": 7,
         "_deepnote_index_column": 21
        },
        {
         "names": "Bonnie Ramos",
         "gender": "female",
         "race/ethnicity": "group B",
         "parental level of education": "high school",
         "lunch": "standard",
         "test preparation course": "completed",
         "math score": 5.14,
         "reading score": 5.5600000000000005,
         "writing score": 5.44,
         "_deepnote_index_column": 22
        },
        {
         "names": "Connie Shinn",
         "gender": "female",
         "race/ethnicity": "group B",
         "parental level of education": "associate's degree",
         "lunch": "free/reduced",
         "test preparation course": "none",
         "math score": 3.76,
         "reading score": 4.66,
         "writing score": 4.3,
         "_deepnote_index_column": 23
        },
        {
         "names": "Daniel Cartwright",
         "gender": "male",
         "race/ethnicity": "group C",
         "parental level of education": "high school",
         "lunch": "standard",
         "test preparation course": "completed",
         "math score": 6.16,
         "reading score": 5.86,
         "writing score": 5.8,
         "_deepnote_index_column": 24
        },
        {
         "names": "Betty Buntin",
         "gender": "female",
         "race/ethnicity": "group A",
         "parental level of education": "bachelor's degree",
         "lunch": "standard",
         "test preparation course": "none",
         "math score": 4.54,
         "reading score": 5.32,
         "writing score": 5.2,
         "_deepnote_index_column": 25
        },
        {
         "names": "Francis Seibold",
         "gender": "male",
         "race/ethnicity": "group B",
         "parental level of education": "some high school",
         "lunch": "standard",
         "test preparation course": "completed",
         "math score": 6.04,
         "reading score": 5.98,
         "writing score": 5.5,
         "_deepnote_index_column": 26
        },
        {
         "names": "Arthur Byer",
         "gender": "male",
         "race/ethnicity": "group D",
         "parental level of education": "high school",
         "lunch": "free/reduced",
         "test preparation course": "completed",
         "math score": 4.84,
         "reading score": 4.84,
         "writing score": 5.02,
         "_deepnote_index_column": 27
        },
        {
         "names": "Willie Neff",
         "gender": "female",
         "race/ethnicity": "group E",
         "parental level of education": "associate's degree",
         "lunch": "free/reduced",
         "test preparation course": "none",
         "math score": 5.38,
         "reading score": 5.5600000000000005,
         "writing score": 5.68,
         "_deepnote_index_column": 28
        },
        {
         "names": "Thelma Yeates",
         "gender": "female",
         "race/ethnicity": "group E",
         "parental level of education": "associate's degree",
         "lunch": "free/reduced",
         "test preparation course": "completed",
         "math score": 5.98,
         "reading score": 6.16,
         "writing score": 6.28,
         "_deepnote_index_column": 29
        },
        {
         "names": "Mary Piotrowski",
         "gender": "female",
         "race/ethnicity": "group E",
         "parental level of education": "some college",
         "lunch": "free/reduced",
         "test preparation course": "completed",
         "math score": 5.5,
         "reading score": 6.28,
         "writing score": 6.1,
         "_deepnote_index_column": 30
        },
        {
         "names": "Hazel Montoya",
         "gender": "female",
         "race/ethnicity": "group D",
         "parental level of education": "some college",
         "lunch": "standard",
         "test preparation course": "none",
         "math score": 5.14,
         "reading score": 5.44,
         "writing score": 5.44,
         "_deepnote_index_column": 31
        },
        {
         "names": "James Eury",
         "gender": "male",
         "race/ethnicity": "group E",
         "parental level of education": "some college",
         "lunch": "standard",
         "test preparation course": "none",
         "math score": 5.08,
         "reading score": 5.32,
         "writing score": 4.9,
         "_deepnote_index_column": 32
        },
        {
         "names": "Larry Dunn",
         "gender": "male",
         "race/ethnicity": "group C",
         "parental level of education": "some high school",
         "lunch": "standard",
         "test preparation course": "none",
         "math score": 4.42,
         "reading score": 4.66,
         "writing score": 4.24,
         "_deepnote_index_column": 33
        },
        {
         "names": "David Dunham",
         "gender": "male",
         "race/ethnicity": "group A",
         "parental level of education": "bachelor's degree",
         "lunch": "standard",
         "test preparation course": "none",
         "math score": 4.96,
         "reading score": 4.84,
         "writing score": 4.72,
         "_deepnote_index_column": 34
        },
        {
         "names": "Jeffery Wiedmann",
         "gender": "male",
         "race/ethnicity": "group C",
         "parental level of education": "some college",
         "lunch": "standard",
         "test preparation course": "none",
         "math score": 4.66,
         "reading score": 4.66,
         "writing score": 4.72,
         "_deepnote_index_column": 35
        },
        {
         "names": "Lisa Watters",
         "gender": "female",
         "race/ethnicity": "group D",
         "parental level of education": "master's degree",
         "lunch": "free/reduced",
         "test preparation course": "none",
         "math score": 3.4,
         "reading score": 4.54,
         "writing score": 4.24,
         "_deepnote_index_column": 36
        },
        {
         "names": "Katharine Kellum",
         "gender": "female",
         "race/ethnicity": "group B",
         "parental level of education": "high school",
         "lunch": "free/reduced",
         "test preparation course": "none",
         "math score": 4,
         "reading score": 5.02,
         "writing score": 4.78,
         "_deepnote_index_column": 37
        },
        {
         "names": "Marjorie Brown",
         "gender": "female",
         "race/ethnicity": "group B",
         "parental level of education": "high school",
         "lunch": "standard",
         "test preparation course": "none",
         "math score": 3.88,
         "reading score": 4.72,
         "writing score": 4.6,
         "_deepnote_index_column": 38
        },
        {
         "names": "Rodger Talavera",
         "gender": "male",
         "race/ethnicity": "group B",
         "parental level of education": "high school",
         "lunch": "free/reduced",
         "test preparation course": "none",
         "math score": 3.16,
         "reading score": 2.74,
         "writing score": 2.62,
         "_deepnote_index_column": 39
        },
        {
         "names": "Mary Jackson",
         "gender": "female",
         "race/ethnicity": "group B",
         "parental level of education": "bachelor's degree",
         "lunch": "free/reduced",
         "test preparation course": "none",
         "math score": 5.68,
         "reading score": 5.74,
         "writing score": 5.5600000000000005,
         "_deepnote_index_column": 40
        },
        {
         "names": "Rebecca Dalton",
         "gender": "female",
         "race/ethnicity": "group B",
         "parental level of education": "some high school",
         "lunch": "standard",
         "test preparation course": "none",
         "math score": 4.42,
         "reading score": 5.02,
         "writing score": 5.32,
         "_deepnote_index_column": 41
        },
        {
         "names": "David Fisk",
         "gender": "male",
         "race/ethnicity": "group D",
         "parental level of education": "bachelor's degree",
         "lunch": "standard",
         "test preparation course": "none",
         "math score": 5.14,
         "reading score": 4.48,
         "writing score": 4.42,
         "_deepnote_index_column": 42
        },
        {
         "names": "Morris Johnson",
         "gender": "male",
         "race/ethnicity": "group A",
         "parental level of education": "associate's degree",
         "lunch": "free/reduced",
         "test preparation course": "completed",
         "math score": 3.4,
         "reading score": 4.3,
         "writing score": 4.18,
         "_deepnote_index_column": 43
        },
        {
         "names": "Rodrick Rasch",
         "gender": "male",
         "race/ethnicity": "group E",
         "parental level of education": "some high school",
         "lunch": "standard",
         "test preparation course": "none",
         "math score": 6.52,
         "reading score": 6.22,
         "writing score": 5.68,
         "_deepnote_index_column": 44
        },
        {
         "names": "Anthony Malcomb",
         "gender": "male",
         "race/ethnicity": "group C",
         "parental level of education": "some college",
         "lunch": "free/reduced",
         "test preparation course": "none",
         "math score": 3.1,
         "reading score": 2.68,
         "writing score": 2.62,
         "_deepnote_index_column": 45
        },
        {
         "names": "Joyce Amos",
         "gender": "female",
         "race/ethnicity": "group C",
         "parental level of education": "associate's degree",
         "lunch": "standard",
         "test preparation course": "none",
         "math score": 4.78,
         "reading score": 5.02,
         "writing score": 5.2,
         "_deepnote_index_column": 46
        },
        {
         "names": "Donald Chestnut",
         "gender": "male",
         "race/ethnicity": "group C",
         "parental level of education": "some college",
         "lunch": "standard",
         "test preparation course": "none",
         "math score": 5.38,
         "reading score": 5.44,
         "writing score": 4.66,
         "_deepnote_index_column": 47
        },
        {
         "names": "Lynne Rodgers",
         "gender": "female",
         "race/ethnicity": "group D",
         "parental level of education": "some college",
         "lunch": "standard",
         "test preparation course": "none",
         "math score": 4.78,
         "reading score": 4.84,
         "writing score": 5.02,
         "_deepnote_index_column": 48
        },
        {
         "names": "Diane Preister",
         "gender": "female",
         "race/ethnicity": "group D",
         "parental level of education": "some college",
         "lunch": "free/reduced",
         "test preparation course": "completed",
         "math score": 4.12,
         "reading score": 4.54,
         "writing score": 4.9,
         "_deepnote_index_column": 49
        },
        {
         "names": "Brenda Kitchin",
         "gender": "female",
         "race/ethnicity": "group B",
         "parental level of education": "some high school",
         "lunch": "standard",
         "test preparation course": "none",
         "math score": 5.38,
         "reading score": 5.74,
         "writing score": 5.74,
         "_deepnote_index_column": 50
        },
        {
         "names": "Susan Palmo",
         "gender": "female",
         "race/ethnicity": "group C",
         "parental level of education": "some college",
         "lunch": "free/reduced",
         "test preparation course": "completed",
         "math score": 4.78,
         "reading score": 5.38,
         "writing score": 5.26,
         "_deepnote_index_column": 51
        },
        {
         "names": "Edward Hohn",
         "gender": "male",
         "race/ethnicity": "group C",
         "parental level of education": "high school",
         "lunch": "standard",
         "test preparation course": "none",
         "math score": 5.26,
         "reading score": 4.6,
         "writing score": 4.66,
         "_deepnote_index_column": 52
        },
        {
         "names": "Donita Hill",
         "gender": "female",
         "race/ethnicity": "group A",
         "parental level of education": "bachelor's degree",
         "lunch": "standard",
         "test preparation course": "none",
         "math score": 3.7,
         "reading score": 4.54,
         "writing score": 4.84,
         "_deepnote_index_column": 53
        },
        {
         "names": "Natalie Turney",
         "gender": "female",
         "race/ethnicity": "group E",
         "parental level of education": "associate's degree",
         "lunch": "standard",
         "test preparation course": "none",
         "math score": 6.1,
         "reading score": 6.52,
         "writing score": 6.1,
         "_deepnote_index_column": 54
        }
       ],
       "rows_bottom": [
        {
         "names": "Stuart Stanford",
         "gender": "male",
         "race/ethnicity": "group D",
         "parental level of education": "associate's degree",
         "lunch": "standard",
         "test preparation course": "completed",
         "math score": 5.02,
         "reading score": 5.32,
         "writing score": 5.02,
         "_deepnote_index_column": 419
        },
        {
         "names": "James King",
         "gender": "male",
         "race/ethnicity": "group B",
         "parental level of education": "some college",
         "lunch": "standard",
         "test preparation course": "completed",
         "math score": 6.46,
         "reading score": 6.76,
         "writing score": 6.46,
         "_deepnote_index_column": 420
        },
        {
         "names": "Verda Perryman",
         "gender": "female",
         "race/ethnicity": "group C",
         "parental level of education": "bachelor's degree",
         "lunch": "free/reduced",
         "test preparation course": "none",
         "math score": 5.02,
         "reading score": 5.5,
         "writing score": 5.32,
         "_deepnote_index_column": 421
        },
        {
         "names": "Wendy Freel",
         "gender": "female",
         "race/ethnicity": "group C",
         "parental level of education": "some high school",
         "lunch": "standard",
         "test preparation course": "completed",
         "math score": 4.9,
         "reading score": 5.44,
         "writing score": 5.62,
         "_deepnote_index_column": 422
        },
        {
         "names": "Kathryn White",
         "gender": "female",
         "race/ethnicity": "group C",
         "parental level of education": "some college",
         "lunch": "standard",
         "test preparation course": "none",
         "math score": 4.48,
         "reading score": 4.54,
         "writing score": 4.96,
         "_deepnote_index_column": 423
        },
        {
         "names": "Martin Wilson",
         "gender": "male",
         "race/ethnicity": "group D",
         "parental level of education": "high school",
         "lunch": "standard",
         "test preparation course": "completed",
         "math score": 4.3,
         "reading score": 3.46,
         "writing score": 3.88,
         "_deepnote_index_column": 424
        },
        {
         "names": "Kelly Bowar",
         "gender": "female",
         "race/ethnicity": "group D",
         "parental level of education": "some high school",
         "lunch": "standard",
         "test preparation course": "none",
         "math score": 3.88,
         "reading score": 4.48,
         "writing score": 4.24,
         "_deepnote_index_column": 425
        },
        {
         "names": "Kelly Greer",
         "gender": "female",
         "race/ethnicity": "group C",
         "parental level of education": "associate's degree",
         "lunch": "free/reduced",
         "test preparation course": "none",
         "math score": 4.18,
         "reading score": 4.66,
         "writing score": 4.72,
         "_deepnote_index_column": 426
        },
        {
         "names": "Fred Jaeger",
         "gender": "male",
         "race/ethnicity": "group E",
         "parental level of education": "bachelor's degree",
         "lunch": "standard",
         "test preparation course": "completed",
         "math score": 6.1,
         "reading score": 4.96,
         "writing score": 5.26,
         "_deepnote_index_column": 427
        },
        {
         "names": "Haydee Kunkel",
         "gender": "female",
         "race/ethnicity": "group C",
         "parental level of education": "high school",
         "lunch": "free/reduced",
         "test preparation course": "none",
         "math score": 4.72,
         "reading score": 5.02,
         "writing score": 4.84,
         "_deepnote_index_column": 428
        },
        {
         "names": "Kayla Lopez",
         "gender": "female",
         "race/ethnicity": "group C",
         "parental level of education": "associate's degree",
         "lunch": "standard",
         "test preparation course": "completed",
         "math score": 4.9,
         "reading score": 6.04,
         "writing score": 6.04,
         "_deepnote_index_column": 429
        },
        {
         "names": "Paul Brownell",
         "gender": "male",
         "race/ethnicity": "group B",
         "parental level of education": "high school",
         "lunch": "standard",
         "test preparation course": "none",
         "math score": 5.92,
         "reading score": 5.92,
         "writing score": 5.8,
         "_deepnote_index_column": 430
        },
        {
         "names": "Jose Rogers",
         "gender": "male",
         "race/ethnicity": "group D",
         "parental level of education": "some college",
         "lunch": "free/reduced",
         "test preparation course": "none",
         "math score": 5.62,
         "reading score": 4.72,
         "writing score": 4.84,
         "_deepnote_index_column": 431
        },
        {
         "names": "Joyce Bland",
         "gender": "female",
         "race/ethnicity": "group D",
         "parental level of education": "some high school",
         "lunch": "free/reduced",
         "test preparation course": "none",
         "math score": 4,
         "reading score": 4.84,
         "writing score": 4.54,
         "_deepnote_index_column": 432
        },
        {
         "names": "Fannie Alvarez",
         "gender": "female",
         "race/ethnicity": "group D",
         "parental level of education": "some college",
         "lunch": "free/reduced",
         "test preparation course": "none",
         "math score": 5.14,
         "reading score": 4.9,
         "writing score": 5.44,
         "_deepnote_index_column": 433
        },
        {
         "names": "Melissa Johnston",
         "gender": "female",
         "race/ethnicity": "group C",
         "parental level of education": "some high school",
         "lunch": "free/reduced",
         "test preparation course": "none",
         "math score": 1,
         "reading score": 2.02,
         "writing score": 1.6,
         "_deepnote_index_column": 434
        },
        {
         "names": "Judith Mcenany",
         "gender": "female",
         "race/ethnicity": "group D",
         "parental level of education": "bachelor's degree",
         "lunch": "standard",
         "test preparation course": "none",
         "math score": 4.9,
         "reading score": 5.02,
         "writing score": 4.72,
         "_deepnote_index_column": 435
        },
        {
         "names": "Nancy Mccormick",
         "gender": "female",
         "race/ethnicity": "group D",
         "parental level of education": "some high school",
         "lunch": "free/reduced",
         "test preparation course": "completed",
         "math score": 5.14,
         "reading score": 6.16,
         "writing score": 5.86,
         "_deepnote_index_column": 436
        },
        {
         "names": "Timothy Long",
         "gender": "male",
         "race/ethnicity": "group C",
         "parental level of education": "high school",
         "lunch": "standard",
         "test preparation course": "completed",
         "math score": 5.32,
         "reading score": 5.02,
         "writing score": 4.84,
         "_deepnote_index_column": 437
        },
        {
         "names": "Sandra Pompey",
         "gender": "female",
         "race/ethnicity": "group E",
         "parental level of education": "associate's degree",
         "lunch": "standard",
         "test preparation course": "none",
         "math score": 7,
         "reading score": 7,
         "writing score": 7,
         "_deepnote_index_column": 438
        },
        {
         "names": "Steven Marriot",
         "gender": "male",
         "race/ethnicity": "group C",
         "parental level of education": "some college",
         "lunch": "free/reduced",
         "test preparation course": "none",
         "math score": 4.9,
         "reading score": 4.48,
         "writing score": 3.94,
         "_deepnote_index_column": 439
        },
        {
         "names": "Stanley Chappell",
         "gender": "male",
         "race/ethnicity": "group A",
         "parental level of education": "associate's degree",
         "lunch": "free/reduced",
         "test preparation course": "none",
         "math score": 3.8200000000000003,
         "reading score": 4.42,
         "writing score": 3.64,
         "_deepnote_index_column": 440
        },
        {
         "names": "Michelle Smithson",
         "gender": "female",
         "race/ethnicity": "group E",
         "parental level of education": "associate's degree",
         "lunch": "standard",
         "test preparation course": "none",
         "math score": 4.06,
         "reading score": 4.06,
         "writing score": 4.24,
         "_deepnote_index_column": 441
        },
        {
         "names": "Jeffrey Bostrom",
         "gender": "male",
         "race/ethnicity": "group E",
         "parental level of education": "associate's degree",
         "lunch": "standard",
         "test preparation course": "completed",
         "math score": 5.26,
         "reading score": 5.44,
         "writing score": 5.08,
         "_deepnote_index_column": 442
        },
        {
         "names": "Earnest Cole",
         "gender": "male",
         "race/ethnicity": "group D",
         "parental level of education": "some college",
         "lunch": "standard",
         "test preparation course": "completed",
         "math score": 5.92,
         "reading score": 5.92,
         "writing score": 6.28,
         "_deepnote_index_column": 443
        },
        {
         "names": "Sharon Garcia",
         "gender": "female",
         "race/ethnicity": "group C",
         "parental level of education": "some high school",
         "lunch": "free/reduced",
         "test preparation course": "none",
         "math score": 4.3,
         "reading score": 4.9,
         "writing score": 4.72,
         "_deepnote_index_column": 444
        },
        {
         "names": "Carol Miller",
         "gender": "female",
         "race/ethnicity": "group C",
         "parental level of education": "associate's degree",
         "lunch": "standard",
         "test preparation course": "completed",
         "math score": 5.5,
         "reading score": 5.92,
         "writing score": 6.4,
         "_deepnote_index_column": 445
        },
        {
         "names": "Antonio Evans",
         "gender": "male",
         "race/ethnicity": "group C",
         "parental level of education": "high school",
         "lunch": "free/reduced",
         "test preparation course": "none",
         "math score": 4.96,
         "reading score": 4.96,
         "writing score": 4.54,
         "_deepnote_index_column": 446
        },
        {
         "names": "Pam Otoole",
         "gender": "female",
         "race/ethnicity": "group B",
         "parental level of education": "bachelor's degree",
         "lunch": "standard",
         "test preparation course": "none",
         "math score": 5.32,
         "reading score": 5.32,
         "writing score": 5.44,
         "_deepnote_index_column": 447
        },
        {
         "names": "Matthew Burns",
         "gender": "male",
         "race/ethnicity": "group E",
         "parental level of education": "high school",
         "lunch": "standard",
         "test preparation course": "none",
         "math score": 5.2,
         "reading score": 4.3,
         "writing score": 4.36,
         "_deepnote_index_column": 448
        },
        {
         "names": "Gregory Fernandez",
         "gender": "male",
         "race/ethnicity": "group E",
         "parental level of education": "high school",
         "lunch": "free/reduced",
         "test preparation course": "completed",
         "math score": 4.42,
         "reading score": 4.36,
         "writing score": 4.24,
         "_deepnote_index_column": 449
        },
        {
         "names": "Charles Herandez",
         "gender": "male",
         "race/ethnicity": "group D",
         "parental level of education": "master's degree",
         "lunch": "free/reduced",
         "test preparation course": "completed",
         "math score": 6.04,
         "reading score": 6.34,
         "writing score": 6.4,
         "_deepnote_index_column": 450
        },
        {
         "names": "Aaron Shelly",
         "gender": "male",
         "race/ethnicity": "group D",
         "parental level of education": "associate's degree",
         "lunch": "standard",
         "test preparation course": "none",
         "math score": 4.66,
         "reading score": 3.88,
         "writing score": 3.76,
         "_deepnote_index_column": 451
        },
        {
         "names": "Charles Harian",
         "gender": "male",
         "race/ethnicity": "group C",
         "parental level of education": "some high school",
         "lunch": "free/reduced",
         "test preparation course": "completed",
         "math score": 3.7,
         "reading score": 4.12,
         "writing score": 3.94,
         "_deepnote_index_column": 452
        },
        {
         "names": "Steven Hacker",
         "gender": "male",
         "race/ethnicity": "group A",
         "parental level of education": "some high school",
         "lunch": "free/reduced",
         "test preparation course": "none",
         "math score": 4.9,
         "reading score": 4.54,
         "writing score": 4.18,
         "_deepnote_index_column": 453
        },
        {
         "names": "Wendy Gunnell",
         "gender": "female",
         "race/ethnicity": "group D",
         "parental level of education": "some high school",
         "lunch": "free/reduced",
         "test preparation course": "none",
         "math score": 2.62,
         "reading score": 3.04,
         "writing score": 2.92,
         "_deepnote_index_column": 454
        },
        {
         "names": "Manuel Glover",
         "gender": "male",
         "race/ethnicity": "group D",
         "parental level of education": "some college",
         "lunch": "standard",
         "test preparation course": "none",
         "math score": 6.28,
         "reading score": 5.38,
         "writing score": 5.68,
         "_deepnote_index_column": 455
        },
        {
         "names": "Linda Nevin",
         "gender": "female",
         "race/ethnicity": "group B",
         "parental level of education": "some high school",
         "lunch": "standard",
         "test preparation course": "completed",
         "math score": 4.9,
         "reading score": 5.92,
         "writing score": 5.68,
         "_deepnote_index_column": 456
        },
        {
         "names": "James Piper",
         "gender": "male",
         "race/ethnicity": "group D",
         "parental level of education": "bachelor's degree",
         "lunch": "free/reduced",
         "test preparation course": "none",
         "math score": 4.78,
         "reading score": 4.96,
         "writing score": 5.02,
         "_deepnote_index_column": 457
        },
        {
         "names": "Timothy Anderson",
         "gender": "male",
         "race/ethnicity": "group C",
         "parental level of education": "associate's degree",
         "lunch": "free/reduced",
         "test preparation course": "completed",
         "math score": 5.68,
         "reading score": 5.86,
         "writing score": 5.92,
         "_deepnote_index_column": 458
        },
        {
         "names": "Julie Sciancalepore",
         "gender": "female",
         "race/ethnicity": "group C",
         "parental level of education": "bachelor's degree",
         "lunch": "standard",
         "test preparation course": "none",
         "math score": 4.9,
         "reading score": 5.32,
         "writing score": 5.44,
         "_deepnote_index_column": 459
        },
        {
         "names": "Brandon Palmer",
         "gender": "male",
         "race/ethnicity": "group D",
         "parental level of education": "associate's degree",
         "lunch": "free/reduced",
         "test preparation course": "none",
         "math score": 6.4,
         "reading score": 6.22,
         "writing score": 5.5,
         "_deepnote_index_column": 460
        },
        {
         "names": "Robert Morrison",
         "gender": "male",
         "race/ethnicity": "group D",
         "parental level of education": "some college",
         "lunch": "standard",
         "test preparation course": "completed",
         "math score": 7,
         "reading score": 6.82,
         "writing score": 6.94,
         "_deepnote_index_column": 461
        },
        {
         "names": "Claudio Millender",
         "gender": "male",
         "race/ethnicity": "group C",
         "parental level of education": "some college",
         "lunch": "free/reduced",
         "test preparation course": "completed",
         "math score": 5.02,
         "reading score": 5.44,
         "writing score": 5.2,
         "_deepnote_index_column": 462
        },
        {
         "names": "Emily King",
         "gender": "female",
         "race/ethnicity": "group D",
         "parental level of education": "some college",
         "lunch": "standard",
         "test preparation course": "completed",
         "math score": 5.44,
         "reading score": 5.5,
         "writing score": 5.74,
         "_deepnote_index_column": 463
        },
        {
         "names": "William Sakkinen",
         "gender": "male",
         "race/ethnicity": "group E",
         "parental level of education": "some college",
         "lunch": "standard",
         "test preparation course": "none",
         "math score": 5.5600000000000005,
         "reading score": 5.02,
         "writing score": 5.02,
         "_deepnote_index_column": 464
        },
        {
         "names": "Elsa Hyman",
         "gender": "female",
         "race/ethnicity": "group B",
         "parental level of education": "high school",
         "lunch": "standard",
         "test preparation course": "none",
         "math score": 4.96,
         "reading score": 5.32,
         "writing score": 5.2,
         "_deepnote_index_column": 465
        },
        {
         "names": "Virginia Sievers",
         "gender": "female",
         "race/ethnicity": "group C",
         "parental level of education": "bachelor's degree",
         "lunch": "standard",
         "test preparation course": "completed",
         "math score": 4.54,
         "reading score": 4.84,
         "writing score": 5.5,
         "_deepnote_index_column": 466
        },
        {
         "names": "Laura Cavanaugh",
         "gender": "female",
         "race/ethnicity": "group C",
         "parental level of education": "associate's degree",
         "lunch": "standard",
         "test preparation course": "completed",
         "math score": 4.72,
         "reading score": 5.5600000000000005,
         "writing score": 5.8,
         "_deepnote_index_column": 467
        },
        {
         "names": "Diana Costa",
         "gender": "female",
         "race/ethnicity": "group C",
         "parental level of education": "high school",
         "lunch": "free/reduced",
         "test preparation course": "none",
         "math score": 3.46,
         "reading score": 3.76,
         "writing score": 3.58,
         "_deepnote_index_column": 468
        },
        {
         "names": "Amy Sieving",
         "gender": "female",
         "race/ethnicity": "group C",
         "parental level of education": "high school",
         "lunch": "standard",
         "test preparation course": "none",
         "math score": 2.74,
         "reading score": 2.74,
         "writing score": 2.8,
         "_deepnote_index_column": 469
        },
        {
         "names": "Richard Young",
         "gender": "male",
         "race/ethnicity": "group D",
         "parental level of education": "high school",
         "lunch": "standard",
         "test preparation course": "none",
         "math score": 5.14,
         "reading score": 5.5,
         "writing score": 5.26,
         "_deepnote_index_column": 470
        },
        {
         "names": "Wanda Russell",
         "gender": "female",
         "race/ethnicity": "group B",
         "parental level of education": "high school",
         "lunch": "free/reduced",
         "test preparation course": "completed",
         "math score": 2.38,
         "reading score": 3.64,
         "writing score": 3.16,
         "_deepnote_index_column": 471
        },
        {
         "names": "Marina Zeigler",
         "gender": "female",
         "race/ethnicity": "group C",
         "parental level of education": "bachelor's degree",
         "lunch": "free/reduced",
         "test preparation course": "completed",
         "math score": 4.96,
         "reading score": 5.44,
         "writing score": 5.86,
         "_deepnote_index_column": 472
        },
        {
         "names": "Laurie Carter",
         "gender": "female",
         "race/ethnicity": "group B",
         "parental level of education": "some high school",
         "lunch": "standard",
         "test preparation course": "completed",
         "math score": 4.24,
         "reading score": 4.66,
         "writing score": 4.72,
         "_deepnote_index_column": 473
        },
        {
         "names": "Amanda Perez",
         "gender": "female",
         "race/ethnicity": "group A",
         "parental level of education": "high school",
         "lunch": "standard",
         "test preparation course": "completed",
         "math score": 5.08,
         "reading score": 5.8,
         "writing score": 5.5600000000000005,
         "_deepnote_index_column": 474
        }
       ]
      },
      "text/plain": "                names  gender race/ethnicity parental level of education  \\\n0       Rita Courtney  female        group B            some high school   \n1    Charles Linstrom    male        group A           bachelor's degree   \n2         Brian Young    male        group C            some high school   \n3      Howard Jimenez    male        group E            some high school   \n4        Wayne Wilson    male        group B            some high school   \n..                ...     ...            ...                         ...   \n470     Richard Young    male        group D                 high school   \n471     Wanda Russell  female        group B                 high school   \n472    Marina Zeigler  female        group C           bachelor's degree   \n473     Laurie Carter  female        group B            some high school   \n474      Amanda Perez  female        group A                 high school   \n\n            lunch test preparation course  math score  reading score  \\\n0        standard                    none        3.22           3.76   \n1        standard               completed        5.80           5.68   \n2        standard                    none        5.38           4.96   \n3        standard               completed        5.86           5.50   \n4        standard               completed        6.64           6.16   \n..            ...                     ...         ...            ...   \n470      standard                    none        5.14           5.50   \n471  free/reduced               completed        2.38           3.64   \n472  free/reduced               completed        4.96           5.44   \n473      standard               completed        4.24           4.66   \n474      standard               completed        5.08           5.80   \n\n     writing score  \n0             3.76  \n1             5.86  \n2             4.78  \n3             5.56  \n4             6.22  \n..             ...  \n470           5.26  \n471           3.16  \n472           5.86  \n473           4.72  \n474           5.56  \n\n[875 rows x 9 columns]",
      "text/html": "<div>\n<style scoped>\n    .dataframe tbody tr th:only-of-type {\n        vertical-align: middle;\n    }\n\n    .dataframe tbody tr th {\n        vertical-align: top;\n    }\n\n    .dataframe thead th {\n        text-align: right;\n    }\n</style>\n<table border=\"1\" class=\"dataframe\">\n  <thead>\n    <tr style=\"text-align: right;\">\n      <th></th>\n      <th>names</th>\n      <th>gender</th>\n      <th>race/ethnicity</th>\n      <th>parental level of education</th>\n      <th>lunch</th>\n      <th>test preparation course</th>\n      <th>math score</th>\n      <th>reading score</th>\n      <th>writing score</th>\n    </tr>\n  </thead>\n  <tbody>\n    <tr>\n      <th>0</th>\n      <td>Rita Courtney</td>\n      <td>female</td>\n      <td>group B</td>\n      <td>some high school</td>\n      <td>standard</td>\n      <td>none</td>\n      <td>3.22</td>\n      <td>3.76</td>\n      <td>3.76</td>\n    </tr>\n    <tr>\n      <th>1</th>\n      <td>Charles Linstrom</td>\n      <td>male</td>\n      <td>group A</td>\n      <td>bachelor's degree</td>\n      <td>standard</td>\n      <td>completed</td>\n      <td>5.80</td>\n      <td>5.68</td>\n      <td>5.86</td>\n    </tr>\n    <tr>\n      <th>2</th>\n      <td>Brian Young</td>\n      <td>male</td>\n      <td>group C</td>\n      <td>some high school</td>\n      <td>standard</td>\n      <td>none</td>\n      <td>5.38</td>\n      <td>4.96</td>\n      <td>4.78</td>\n    </tr>\n    <tr>\n      <th>3</th>\n      <td>Howard Jimenez</td>\n      <td>male</td>\n      <td>group E</td>\n      <td>some high school</td>\n      <td>standard</td>\n      <td>completed</td>\n      <td>5.86</td>\n      <td>5.50</td>\n      <td>5.56</td>\n    </tr>\n    <tr>\n      <th>4</th>\n      <td>Wayne Wilson</td>\n      <td>male</td>\n      <td>group B</td>\n      <td>some high school</td>\n      <td>standard</td>\n      <td>completed</td>\n      <td>6.64</td>\n      <td>6.16</td>\n      <td>6.22</td>\n    </tr>\n    <tr>\n      <th>...</th>\n      <td>...</td>\n      <td>...</td>\n      <td>...</td>\n      <td>...</td>\n      <td>...</td>\n      <td>...</td>\n      <td>...</td>\n      <td>...</td>\n      <td>...</td>\n    </tr>\n    <tr>\n      <th>470</th>\n      <td>Richard Young</td>\n      <td>male</td>\n      <td>group D</td>\n      <td>high school</td>\n      <td>standard</td>\n      <td>none</td>\n      <td>5.14</td>\n      <td>5.50</td>\n      <td>5.26</td>\n    </tr>\n    <tr>\n      <th>471</th>\n      <td>Wanda Russell</td>\n      <td>female</td>\n      <td>group B</td>\n      <td>high school</td>\n      <td>free/reduced</td>\n      <td>completed</td>\n      <td>2.38</td>\n      <td>3.64</td>\n      <td>3.16</td>\n    </tr>\n    <tr>\n      <th>472</th>\n      <td>Marina Zeigler</td>\n      <td>female</td>\n      <td>group C</td>\n      <td>bachelor's degree</td>\n      <td>free/reduced</td>\n      <td>completed</td>\n      <td>4.96</td>\n      <td>5.44</td>\n      <td>5.86</td>\n    </tr>\n    <tr>\n      <th>473</th>\n      <td>Laurie Carter</td>\n      <td>female</td>\n      <td>group B</td>\n      <td>some high school</td>\n      <td>standard</td>\n      <td>completed</td>\n      <td>4.24</td>\n      <td>4.66</td>\n      <td>4.72</td>\n    </tr>\n    <tr>\n      <th>474</th>\n      <td>Amanda Perez</td>\n      <td>female</td>\n      <td>group A</td>\n      <td>high school</td>\n      <td>standard</td>\n      <td>completed</td>\n      <td>5.08</td>\n      <td>5.80</td>\n      <td>5.56</td>\n    </tr>\n  </tbody>\n</table>\n<p>875 rows × 9 columns</p>\n</div>"
     },
     "metadata": {}
    }
   ],
   "execution_count": 3
  },
  {
   "cell_type": "markdown",
   "source": "Resultado esperado:",
   "metadata": {
    "cell_id": "00013-17550248-0c8c-4803-8e13-d829a97ba1a6",
    "deepnote_cell_type": "markdown"
   }
  },
  {
   "cell_type": "code",
   "metadata": {
    "id": "bED3w3tDbSCf",
    "cell_id": "00014-1f6d8afc-ec5f-4866-a621-b08b79b201f0",
    "deepnote_to_be_reexecuted": false,
    "source_hash": "1e181112",
    "execution_start": 1633729477435,
    "execution_millis": 695,
    "deepnote_cell_type": "code"
   },
   "source": "df_grades",
   "outputs": [
    {
     "output_type": "execute_result",
     "execution_count": 4,
     "data": {
      "application/vnd.deepnote.dataframe.v2+json": {
       "row_count": 875,
       "column_count": 9,
       "columns": [
        {
         "name": "names",
         "dtype": "object",
         "stats": {
          "unique_count": 875,
          "nan_count": 0,
          "categories": [
           {
            "name": "Rita Courtney",
            "count": 1
           },
           {
            "name": "Charles Linstrom",
            "count": 1
           },
           {
            "name": "873 others",
            "count": 873
           }
          ]
         }
        },
        {
         "name": "gender",
         "dtype": "object",
         "stats": {
          "unique_count": 2,
          "nan_count": 0,
          "categories": [
           {
            "name": "female",
            "count": 448
           },
           {
            "name": "male",
            "count": 427
           }
          ]
         }
        },
        {
         "name": "race/ethnicity",
         "dtype": "object",
         "stats": {
          "unique_count": 5,
          "nan_count": 0,
          "categories": [
           {
            "name": "group C",
            "count": 272
           },
           {
            "name": "group D",
            "count": 239
           },
           {
            "name": "3 others",
            "count": 364
           }
          ]
         }
        },
        {
         "name": "parental level of education",
         "dtype": "object",
         "stats": {
          "unique_count": 6,
          "nan_count": 0,
          "categories": [
           {
            "name": "associate's degree",
            "count": 196
           },
           {
            "name": "some college",
            "count": 191
           },
           {
            "name": "4 others",
            "count": 488
           }
          ]
         }
        },
        {
         "name": "lunch",
         "dtype": "object",
         "stats": {
          "unique_count": 2,
          "nan_count": 0,
          "categories": [
           {
            "name": "standard",
            "count": 562
           },
           {
            "name": "free/reduced",
            "count": 313
           }
          ]
         }
        },
        {
         "name": "test preparation course",
         "dtype": "object",
         "stats": {
          "unique_count": 2,
          "nan_count": 0,
          "categories": [
           {
            "name": "none",
            "count": 563
           },
           {
            "name": "completed",
            "count": 312
           }
          ]
         }
        },
        {
         "name": "math score",
         "dtype": "float64",
         "stats": {
          "unique_count": 79,
          "nan_count": 0,
          "min": "1.0",
          "max": "7.0",
          "histogram": [
           {
            "bin_start": 1,
            "bin_end": 1.6,
            "count": 2
           },
           {
            "bin_start": 1.6,
            "bin_end": 2.2,
            "count": 2
           },
           {
            "bin_start": 2.2,
            "bin_end": 2.8,
            "count": 10
           },
           {
            "bin_start": 2.8,
            "bin_end": 3.4,
            "count": 19
           },
           {
            "bin_start": 3.4,
            "bin_end": 4,
            "count": 81
           },
           {
            "bin_start": 4,
            "bin_end": 4.6,
            "count": 158
           },
           {
            "bin_start": 4.6,
            "bin_end": 5.2,
            "count": 245
           },
           {
            "bin_start": 5.2,
            "bin_end": 5.8,
            "count": 191
           },
           {
            "bin_start": 5.8,
            "bin_end": 6.3999999999999995,
            "count": 116
           },
           {
            "bin_start": 6.3999999999999995,
            "bin_end": 7,
            "count": 51
           }
          ]
         }
        },
        {
         "name": "reading score",
         "dtype": "float64",
         "stats": {
          "unique_count": 72,
          "nan_count": 0,
          "min": "2.02",
          "max": "7.0",
          "histogram": [
           {
            "bin_start": 2.02,
            "bin_end": 2.5180000000000002,
            "count": 4
           },
           {
            "bin_start": 2.5180000000000002,
            "bin_end": 3.016,
            "count": 7
           },
           {
            "bin_start": 3.016,
            "bin_end": 3.5140000000000002,
            "count": 19
           },
           {
            "bin_start": 3.5140000000000002,
            "bin_end": 4.0120000000000005,
            "count": 53
           },
           {
            "bin_start": 4.0120000000000005,
            "bin_end": 4.51,
            "count": 124
           },
           {
            "bin_start": 4.51,
            "bin_end": 5.008000000000001,
            "count": 157
           },
           {
            "bin_start": 5.008000000000001,
            "bin_end": 5.506,
            "count": 212
           },
           {
            "bin_start": 5.506,
            "bin_end": 6.0040000000000004,
            "count": 147
           },
           {
            "bin_start": 6.0040000000000004,
            "bin_end": 6.502000000000001,
            "count": 101
           },
           {
            "bin_start": 6.502000000000001,
            "bin_end": 7,
            "count": 51
           }
          ]
         }
        },
        {
         "name": "writing score",
         "dtype": "float64",
         "stats": {
          "unique_count": 77,
          "nan_count": 0,
          "min": "1.6",
          "max": "7.0",
          "histogram": [
           {
            "bin_start": 1.6,
            "bin_end": 2.14,
            "count": 2
           },
           {
            "bin_start": 2.14,
            "bin_end": 2.68,
            "count": 6
           },
           {
            "bin_start": 2.68,
            "bin_end": 3.22,
            "count": 13
           },
           {
            "bin_start": 3.22,
            "bin_end": 3.7600000000000002,
            "count": 52
           },
           {
            "bin_start": 3.7600000000000002,
            "bin_end": 4.300000000000001,
            "count": 115
           },
           {
            "bin_start": 4.300000000000001,
            "bin_end": 4.84,
            "count": 129
           },
           {
            "bin_start": 4.84,
            "bin_end": 5.380000000000001,
            "count": 218
           },
           {
            "bin_start": 5.380000000000001,
            "bin_end": 5.92,
            "count": 174
           },
           {
            "bin_start": 5.92,
            "bin_end": 6.460000000000001,
            "count": 116
           },
           {
            "bin_start": 6.460000000000001,
            "bin_end": 7,
            "count": 50
           }
          ]
         }
        },
        {
         "name": "_deepnote_index_column",
         "dtype": "int64"
        }
       ],
       "rows_top": [
        {
         "names": "Rita Courtney",
         "gender": "female",
         "race/ethnicity": "group B",
         "parental level of education": "some high school",
         "lunch": "standard",
         "test preparation course": "none",
         "math score": 3.22,
         "reading score": 3.76,
         "writing score": 3.76,
         "_deepnote_index_column": 0
        },
        {
         "names": "Charles Linstrom",
         "gender": "male",
         "race/ethnicity": "group A",
         "parental level of education": "bachelor's degree",
         "lunch": "standard",
         "test preparation course": "completed",
         "math score": 5.8,
         "reading score": 5.68,
         "writing score": 5.86,
         "_deepnote_index_column": 1
        },
        {
         "names": "Brian Young",
         "gender": "male",
         "race/ethnicity": "group C",
         "parental level of education": "some high school",
         "lunch": "standard",
         "test preparation course": "none",
         "math score": 5.38,
         "reading score": 4.96,
         "writing score": 4.78,
         "_deepnote_index_column": 2
        },
        {
         "names": "Howard Jimenez",
         "gender": "male",
         "race/ethnicity": "group E",
         "parental level of education": "some high school",
         "lunch": "standard",
         "test preparation course": "completed",
         "math score": 5.86,
         "reading score": 5.5,
         "writing score": 5.5600000000000005,
         "_deepnote_index_column": 3
        },
        {
         "names": "Wayne Wilson",
         "gender": "male",
         "race/ethnicity": "group B",
         "parental level of education": "some high school",
         "lunch": "standard",
         "test preparation course": "completed",
         "math score": 6.64,
         "reading score": 6.16,
         "writing score": 6.22,
         "_deepnote_index_column": 4
        },
        {
         "names": "Jonathan Clingan",
         "gender": "male",
         "race/ethnicity": "group D",
         "parental level of education": "some college",
         "lunch": "standard",
         "test preparation course": "completed",
         "math score": 5.26,
         "reading score": 4.66,
         "writing score": 5.14,
         "_deepnote_index_column": 5
        },
        {
         "names": "William Tang",
         "gender": "male",
         "race/ethnicity": "group D",
         "parental level of education": "associate's degree",
         "lunch": "standard",
         "test preparation course": "none",
         "math score": 5.5,
         "reading score": 5.08,
         "writing score": 4.84,
         "_deepnote_index_column": 6
        },
        {
         "names": "Mikki Amaya",
         "gender": "female",
         "race/ethnicity": "group A",
         "parental level of education": "high school",
         "lunch": "free/reduced",
         "test preparation course": "completed",
         "math score": 3.04,
         "reading score": 3.88,
         "writing score": 3.46,
         "_deepnote_index_column": 7
        },
        {
         "names": "Gerald Wilson",
         "gender": "male",
         "race/ethnicity": "group A",
         "parental level of education": "associate's degree",
         "lunch": "standard",
         "test preparation course": "none",
         "math score": 4.78,
         "reading score": 4.66,
         "writing score": 4.66,
         "_deepnote_index_column": 8
        },
        {
         "names": "Damon Mckee",
         "gender": "male",
         "race/ethnicity": "group E",
         "parental level of education": "high school",
         "lunch": "standard",
         "test preparation course": "none",
         "math score": 6.64,
         "reading score": 5.38,
         "writing score": 5.26,
         "_deepnote_index_column": 9
        },
        {
         "names": "Sophia Bijou",
         "gender": "female",
         "race/ethnicity": "group D",
         "parental level of education": "some high school",
         "lunch": "standard",
         "test preparation course": "completed",
         "math score": 4.9,
         "reading score": 5.68,
         "writing score": 5.92,
         "_deepnote_index_column": 10
        },
        {
         "names": "Monica Schwartz",
         "gender": "female",
         "race/ethnicity": "group B",
         "parental level of education": "associate's degree",
         "lunch": "free/reduced",
         "test preparation course": "none",
         "math score": 4.12,
         "reading score": 5.5600000000000005,
         "writing score": 5.2,
         "_deepnote_index_column": 11
        },
        {
         "names": "Donald Upchurch",
         "gender": "male",
         "race/ethnicity": "group C",
         "parental level of education": "associate's degree",
         "lunch": "standard",
         "test preparation course": "none",
         "math score": 4.72,
         "reading score": 4.9,
         "writing score": 4.48,
         "_deepnote_index_column": 12
        },
        {
         "names": "Donald Dunnings",
         "gender": "male",
         "race/ethnicity": "group D",
         "parental level of education": "some high school",
         "lunch": "standard",
         "test preparation course": "none",
         "math score": 5.44,
         "reading score": 5.44,
         "writing score": 5.32,
         "_deepnote_index_column": 13
        },
        {
         "names": "Joseph Mccoy",
         "gender": "male",
         "race/ethnicity": "group D",
         "parental level of education": "some college",
         "lunch": "free/reduced",
         "test preparation course": "none",
         "math score": 4.72,
         "reading score": 4.42,
         "writing score": 4.72,
         "_deepnote_index_column": 14
        },
        {
         "names": "David Dupree",
         "gender": "male",
         "race/ethnicity": "group B",
         "parental level of education": "high school",
         "lunch": "standard",
         "test preparation course": "completed",
         "math score": 5.38,
         "reading score": 5.14,
         "writing score": 5.08,
         "_deepnote_index_column": 15
        },
        {
         "names": "Samuel Dougal",
         "gender": "male",
         "race/ethnicity": "group C",
         "parental level of education": "master's degree",
         "lunch": "free/reduced",
         "test preparation course": "completed",
         "math score": 3.76,
         "reading score": 3.52,
         "writing score": 3.76,
         "_deepnote_index_column": 16
        },
        {
         "names": "Richard Pina",
         "gender": "male",
         "race/ethnicity": "group D",
         "parental level of education": "master's degree",
         "lunch": "standard",
         "test preparation course": "none",
         "math score": 5.92,
         "reading score": 5.92,
         "writing score": 5.44,
         "_deepnote_index_column": 17
        },
        {
         "names": "Dale Sylvain",
         "gender": "male",
         "race/ethnicity": "group D",
         "parental level of education": "some college",
         "lunch": "free/reduced",
         "test preparation course": "none",
         "math score": 4.78,
         "reading score": 4.66,
         "writing score": 4.6,
         "_deepnote_index_column": 18
        },
        {
         "names": "Janine Taylor",
         "gender": "female",
         "race/ethnicity": "group C",
         "parental level of education": "associate's degree",
         "lunch": "free/reduced",
         "test preparation course": "none",
         "math score": 4.84,
         "reading score": 5.38,
         "writing score": 5.08,
         "_deepnote_index_column": 19
        },
        {
         "names": "Alexander Dillon",
         "gender": "male",
         "race/ethnicity": "group D",
         "parental level of education": "associate's degree",
         "lunch": "standard",
         "test preparation course": "none",
         "math score": 5.8,
         "reading score": 5.5,
         "writing score": 5.62,
         "_deepnote_index_column": 20
        },
        {
         "names": "Shanna Braswell",
         "gender": "female",
         "race/ethnicity": "group D",
         "parental level of education": "bachelor's degree",
         "lunch": "free/reduced",
         "test preparation course": "completed",
         "math score": 6.58,
         "reading score": 7,
         "writing score": 7,
         "_deepnote_index_column": 21
        },
        {
         "names": "Bonnie Ramos",
         "gender": "female",
         "race/ethnicity": "group B",
         "parental level of education": "high school",
         "lunch": "standard",
         "test preparation course": "completed",
         "math score": 5.14,
         "reading score": 5.5600000000000005,
         "writing score": 5.44,
         "_deepnote_index_column": 22
        },
        {
         "names": "Connie Shinn",
         "gender": "female",
         "race/ethnicity": "group B",
         "parental level of education": "associate's degree",
         "lunch": "free/reduced",
         "test preparation course": "none",
         "math score": 3.76,
         "reading score": 4.66,
         "writing score": 4.3,
         "_deepnote_index_column": 23
        },
        {
         "names": "Daniel Cartwright",
         "gender": "male",
         "race/ethnicity": "group C",
         "parental level of education": "high school",
         "lunch": "standard",
         "test preparation course": "completed",
         "math score": 6.16,
         "reading score": 5.86,
         "writing score": 5.8,
         "_deepnote_index_column": 24
        },
        {
         "names": "Betty Buntin",
         "gender": "female",
         "race/ethnicity": "group A",
         "parental level of education": "bachelor's degree",
         "lunch": "standard",
         "test preparation course": "none",
         "math score": 4.54,
         "reading score": 5.32,
         "writing score": 5.2,
         "_deepnote_index_column": 25
        },
        {
         "names": "Francis Seibold",
         "gender": "male",
         "race/ethnicity": "group B",
         "parental level of education": "some high school",
         "lunch": "standard",
         "test preparation course": "completed",
         "math score": 6.04,
         "reading score": 5.98,
         "writing score": 5.5,
         "_deepnote_index_column": 26
        },
        {
         "names": "Arthur Byer",
         "gender": "male",
         "race/ethnicity": "group D",
         "parental level of education": "high school",
         "lunch": "free/reduced",
         "test preparation course": "completed",
         "math score": 4.84,
         "reading score": 4.84,
         "writing score": 5.02,
         "_deepnote_index_column": 27
        },
        {
         "names": "Willie Neff",
         "gender": "female",
         "race/ethnicity": "group E",
         "parental level of education": "associate's degree",
         "lunch": "free/reduced",
         "test preparation course": "none",
         "math score": 5.38,
         "reading score": 5.5600000000000005,
         "writing score": 5.68,
         "_deepnote_index_column": 28
        },
        {
         "names": "Thelma Yeates",
         "gender": "female",
         "race/ethnicity": "group E",
         "parental level of education": "associate's degree",
         "lunch": "free/reduced",
         "test preparation course": "completed",
         "math score": 5.98,
         "reading score": 6.16,
         "writing score": 6.28,
         "_deepnote_index_column": 29
        },
        {
         "names": "Mary Piotrowski",
         "gender": "female",
         "race/ethnicity": "group E",
         "parental level of education": "some college",
         "lunch": "free/reduced",
         "test preparation course": "completed",
         "math score": 5.5,
         "reading score": 6.28,
         "writing score": 6.1,
         "_deepnote_index_column": 30
        },
        {
         "names": "Hazel Montoya",
         "gender": "female",
         "race/ethnicity": "group D",
         "parental level of education": "some college",
         "lunch": "standard",
         "test preparation course": "none",
         "math score": 5.14,
         "reading score": 5.44,
         "writing score": 5.44,
         "_deepnote_index_column": 31
        },
        {
         "names": "James Eury",
         "gender": "male",
         "race/ethnicity": "group E",
         "parental level of education": "some college",
         "lunch": "standard",
         "test preparation course": "none",
         "math score": 5.08,
         "reading score": 5.32,
         "writing score": 4.9,
         "_deepnote_index_column": 32
        },
        {
         "names": "Larry Dunn",
         "gender": "male",
         "race/ethnicity": "group C",
         "parental level of education": "some high school",
         "lunch": "standard",
         "test preparation course": "none",
         "math score": 4.42,
         "reading score": 4.66,
         "writing score": 4.24,
         "_deepnote_index_column": 33
        },
        {
         "names": "David Dunham",
         "gender": "male",
         "race/ethnicity": "group A",
         "parental level of education": "bachelor's degree",
         "lunch": "standard",
         "test preparation course": "none",
         "math score": 4.96,
         "reading score": 4.84,
         "writing score": 4.72,
         "_deepnote_index_column": 34
        },
        {
         "names": "Jeffery Wiedmann",
         "gender": "male",
         "race/ethnicity": "group C",
         "parental level of education": "some college",
         "lunch": "standard",
         "test preparation course": "none",
         "math score": 4.66,
         "reading score": 4.66,
         "writing score": 4.72,
         "_deepnote_index_column": 35
        },
        {
         "names": "Lisa Watters",
         "gender": "female",
         "race/ethnicity": "group D",
         "parental level of education": "master's degree",
         "lunch": "free/reduced",
         "test preparation course": "none",
         "math score": 3.4,
         "reading score": 4.54,
         "writing score": 4.24,
         "_deepnote_index_column": 36
        },
        {
         "names": "Katharine Kellum",
         "gender": "female",
         "race/ethnicity": "group B",
         "parental level of education": "high school",
         "lunch": "free/reduced",
         "test preparation course": "none",
         "math score": 4,
         "reading score": 5.02,
         "writing score": 4.78,
         "_deepnote_index_column": 37
        },
        {
         "names": "Marjorie Brown",
         "gender": "female",
         "race/ethnicity": "group B",
         "parental level of education": "high school",
         "lunch": "standard",
         "test preparation course": "none",
         "math score": 3.88,
         "reading score": 4.72,
         "writing score": 4.6,
         "_deepnote_index_column": 38
        },
        {
         "names": "Rodger Talavera",
         "gender": "male",
         "race/ethnicity": "group B",
         "parental level of education": "high school",
         "lunch": "free/reduced",
         "test preparation course": "none",
         "math score": 3.16,
         "reading score": 2.74,
         "writing score": 2.62,
         "_deepnote_index_column": 39
        },
        {
         "names": "Mary Jackson",
         "gender": "female",
         "race/ethnicity": "group B",
         "parental level of education": "bachelor's degree",
         "lunch": "free/reduced",
         "test preparation course": "none",
         "math score": 5.68,
         "reading score": 5.74,
         "writing score": 5.5600000000000005,
         "_deepnote_index_column": 40
        },
        {
         "names": "Rebecca Dalton",
         "gender": "female",
         "race/ethnicity": "group B",
         "parental level of education": "some high school",
         "lunch": "standard",
         "test preparation course": "none",
         "math score": 4.42,
         "reading score": 5.02,
         "writing score": 5.32,
         "_deepnote_index_column": 41
        },
        {
         "names": "David Fisk",
         "gender": "male",
         "race/ethnicity": "group D",
         "parental level of education": "bachelor's degree",
         "lunch": "standard",
         "test preparation course": "none",
         "math score": 5.14,
         "reading score": 4.48,
         "writing score": 4.42,
         "_deepnote_index_column": 42
        },
        {
         "names": "Morris Johnson",
         "gender": "male",
         "race/ethnicity": "group A",
         "parental level of education": "associate's degree",
         "lunch": "free/reduced",
         "test preparation course": "completed",
         "math score": 3.4,
         "reading score": 4.3,
         "writing score": 4.18,
         "_deepnote_index_column": 43
        },
        {
         "names": "Rodrick Rasch",
         "gender": "male",
         "race/ethnicity": "group E",
         "parental level of education": "some high school",
         "lunch": "standard",
         "test preparation course": "none",
         "math score": 6.52,
         "reading score": 6.22,
         "writing score": 5.68,
         "_deepnote_index_column": 44
        },
        {
         "names": "Anthony Malcomb",
         "gender": "male",
         "race/ethnicity": "group C",
         "parental level of education": "some college",
         "lunch": "free/reduced",
         "test preparation course": "none",
         "math score": 3.1,
         "reading score": 2.68,
         "writing score": 2.62,
         "_deepnote_index_column": 45
        },
        {
         "names": "Joyce Amos",
         "gender": "female",
         "race/ethnicity": "group C",
         "parental level of education": "associate's degree",
         "lunch": "standard",
         "test preparation course": "none",
         "math score": 4.78,
         "reading score": 5.02,
         "writing score": 5.2,
         "_deepnote_index_column": 46
        },
        {
         "names": "Donald Chestnut",
         "gender": "male",
         "race/ethnicity": "group C",
         "parental level of education": "some college",
         "lunch": "standard",
         "test preparation course": "none",
         "math score": 5.38,
         "reading score": 5.44,
         "writing score": 4.66,
         "_deepnote_index_column": 47
        },
        {
         "names": "Lynne Rodgers",
         "gender": "female",
         "race/ethnicity": "group D",
         "parental level of education": "some college",
         "lunch": "standard",
         "test preparation course": "none",
         "math score": 4.78,
         "reading score": 4.84,
         "writing score": 5.02,
         "_deepnote_index_column": 48
        },
        {
         "names": "Diane Preister",
         "gender": "female",
         "race/ethnicity": "group D",
         "parental level of education": "some college",
         "lunch": "free/reduced",
         "test preparation course": "completed",
         "math score": 4.12,
         "reading score": 4.54,
         "writing score": 4.9,
         "_deepnote_index_column": 49
        },
        {
         "names": "Brenda Kitchin",
         "gender": "female",
         "race/ethnicity": "group B",
         "parental level of education": "some high school",
         "lunch": "standard",
         "test preparation course": "none",
         "math score": 5.38,
         "reading score": 5.74,
         "writing score": 5.74,
         "_deepnote_index_column": 50
        },
        {
         "names": "Susan Palmo",
         "gender": "female",
         "race/ethnicity": "group C",
         "parental level of education": "some college",
         "lunch": "free/reduced",
         "test preparation course": "completed",
         "math score": 4.78,
         "reading score": 5.38,
         "writing score": 5.26,
         "_deepnote_index_column": 51
        },
        {
         "names": "Edward Hohn",
         "gender": "male",
         "race/ethnicity": "group C",
         "parental level of education": "high school",
         "lunch": "standard",
         "test preparation course": "none",
         "math score": 5.26,
         "reading score": 4.6,
         "writing score": 4.66,
         "_deepnote_index_column": 52
        },
        {
         "names": "Donita Hill",
         "gender": "female",
         "race/ethnicity": "group A",
         "parental level of education": "bachelor's degree",
         "lunch": "standard",
         "test preparation course": "none",
         "math score": 3.7,
         "reading score": 4.54,
         "writing score": 4.84,
         "_deepnote_index_column": 53
        },
        {
         "names": "Natalie Turney",
         "gender": "female",
         "race/ethnicity": "group E",
         "parental level of education": "associate's degree",
         "lunch": "standard",
         "test preparation course": "none",
         "math score": 6.1,
         "reading score": 6.52,
         "writing score": 6.1,
         "_deepnote_index_column": 54
        }
       ],
       "rows_bottom": [
        {
         "names": "Stuart Stanford",
         "gender": "male",
         "race/ethnicity": "group D",
         "parental level of education": "associate's degree",
         "lunch": "standard",
         "test preparation course": "completed",
         "math score": 5.02,
         "reading score": 5.32,
         "writing score": 5.02,
         "_deepnote_index_column": 419
        },
        {
         "names": "James King",
         "gender": "male",
         "race/ethnicity": "group B",
         "parental level of education": "some college",
         "lunch": "standard",
         "test preparation course": "completed",
         "math score": 6.46,
         "reading score": 6.76,
         "writing score": 6.46,
         "_deepnote_index_column": 420
        },
        {
         "names": "Verda Perryman",
         "gender": "female",
         "race/ethnicity": "group C",
         "parental level of education": "bachelor's degree",
         "lunch": "free/reduced",
         "test preparation course": "none",
         "math score": 5.02,
         "reading score": 5.5,
         "writing score": 5.32,
         "_deepnote_index_column": 421
        },
        {
         "names": "Wendy Freel",
         "gender": "female",
         "race/ethnicity": "group C",
         "parental level of education": "some high school",
         "lunch": "standard",
         "test preparation course": "completed",
         "math score": 4.9,
         "reading score": 5.44,
         "writing score": 5.62,
         "_deepnote_index_column": 422
        },
        {
         "names": "Kathryn White",
         "gender": "female",
         "race/ethnicity": "group C",
         "parental level of education": "some college",
         "lunch": "standard",
         "test preparation course": "none",
         "math score": 4.48,
         "reading score": 4.54,
         "writing score": 4.96,
         "_deepnote_index_column": 423
        },
        {
         "names": "Martin Wilson",
         "gender": "male",
         "race/ethnicity": "group D",
         "parental level of education": "high school",
         "lunch": "standard",
         "test preparation course": "completed",
         "math score": 4.3,
         "reading score": 3.46,
         "writing score": 3.88,
         "_deepnote_index_column": 424
        },
        {
         "names": "Kelly Bowar",
         "gender": "female",
         "race/ethnicity": "group D",
         "parental level of education": "some high school",
         "lunch": "standard",
         "test preparation course": "none",
         "math score": 3.88,
         "reading score": 4.48,
         "writing score": 4.24,
         "_deepnote_index_column": 425
        },
        {
         "names": "Kelly Greer",
         "gender": "female",
         "race/ethnicity": "group C",
         "parental level of education": "associate's degree",
         "lunch": "free/reduced",
         "test preparation course": "none",
         "math score": 4.18,
         "reading score": 4.66,
         "writing score": 4.72,
         "_deepnote_index_column": 426
        },
        {
         "names": "Fred Jaeger",
         "gender": "male",
         "race/ethnicity": "group E",
         "parental level of education": "bachelor's degree",
         "lunch": "standard",
         "test preparation course": "completed",
         "math score": 6.1,
         "reading score": 4.96,
         "writing score": 5.26,
         "_deepnote_index_column": 427
        },
        {
         "names": "Haydee Kunkel",
         "gender": "female",
         "race/ethnicity": "group C",
         "parental level of education": "high school",
         "lunch": "free/reduced",
         "test preparation course": "none",
         "math score": 4.72,
         "reading score": 5.02,
         "writing score": 4.84,
         "_deepnote_index_column": 428
        },
        {
         "names": "Kayla Lopez",
         "gender": "female",
         "race/ethnicity": "group C",
         "parental level of education": "associate's degree",
         "lunch": "standard",
         "test preparation course": "completed",
         "math score": 4.9,
         "reading score": 6.04,
         "writing score": 6.04,
         "_deepnote_index_column": 429
        },
        {
         "names": "Paul Brownell",
         "gender": "male",
         "race/ethnicity": "group B",
         "parental level of education": "high school",
         "lunch": "standard",
         "test preparation course": "none",
         "math score": 5.92,
         "reading score": 5.92,
         "writing score": 5.8,
         "_deepnote_index_column": 430
        },
        {
         "names": "Jose Rogers",
         "gender": "male",
         "race/ethnicity": "group D",
         "parental level of education": "some college",
         "lunch": "free/reduced",
         "test preparation course": "none",
         "math score": 5.62,
         "reading score": 4.72,
         "writing score": 4.84,
         "_deepnote_index_column": 431
        },
        {
         "names": "Joyce Bland",
         "gender": "female",
         "race/ethnicity": "group D",
         "parental level of education": "some high school",
         "lunch": "free/reduced",
         "test preparation course": "none",
         "math score": 4,
         "reading score": 4.84,
         "writing score": 4.54,
         "_deepnote_index_column": 432
        },
        {
         "names": "Fannie Alvarez",
         "gender": "female",
         "race/ethnicity": "group D",
         "parental level of education": "some college",
         "lunch": "free/reduced",
         "test preparation course": "none",
         "math score": 5.14,
         "reading score": 4.9,
         "writing score": 5.44,
         "_deepnote_index_column": 433
        },
        {
         "names": "Melissa Johnston",
         "gender": "female",
         "race/ethnicity": "group C",
         "parental level of education": "some high school",
         "lunch": "free/reduced",
         "test preparation course": "none",
         "math score": 1,
         "reading score": 2.02,
         "writing score": 1.6,
         "_deepnote_index_column": 434
        },
        {
         "names": "Judith Mcenany",
         "gender": "female",
         "race/ethnicity": "group D",
         "parental level of education": "bachelor's degree",
         "lunch": "standard",
         "test preparation course": "none",
         "math score": 4.9,
         "reading score": 5.02,
         "writing score": 4.72,
         "_deepnote_index_column": 435
        },
        {
         "names": "Nancy Mccormick",
         "gender": "female",
         "race/ethnicity": "group D",
         "parental level of education": "some high school",
         "lunch": "free/reduced",
         "test preparation course": "completed",
         "math score": 5.14,
         "reading score": 6.16,
         "writing score": 5.86,
         "_deepnote_index_column": 436
        },
        {
         "names": "Timothy Long",
         "gender": "male",
         "race/ethnicity": "group C",
         "parental level of education": "high school",
         "lunch": "standard",
         "test preparation course": "completed",
         "math score": 5.32,
         "reading score": 5.02,
         "writing score": 4.84,
         "_deepnote_index_column": 437
        },
        {
         "names": "Sandra Pompey",
         "gender": "female",
         "race/ethnicity": "group E",
         "parental level of education": "associate's degree",
         "lunch": "standard",
         "test preparation course": "none",
         "math score": 7,
         "reading score": 7,
         "writing score": 7,
         "_deepnote_index_column": 438
        },
        {
         "names": "Steven Marriot",
         "gender": "male",
         "race/ethnicity": "group C",
         "parental level of education": "some college",
         "lunch": "free/reduced",
         "test preparation course": "none",
         "math score": 4.9,
         "reading score": 4.48,
         "writing score": 3.94,
         "_deepnote_index_column": 439
        },
        {
         "names": "Stanley Chappell",
         "gender": "male",
         "race/ethnicity": "group A",
         "parental level of education": "associate's degree",
         "lunch": "free/reduced",
         "test preparation course": "none",
         "math score": 3.8200000000000003,
         "reading score": 4.42,
         "writing score": 3.64,
         "_deepnote_index_column": 440
        },
        {
         "names": "Michelle Smithson",
         "gender": "female",
         "race/ethnicity": "group E",
         "parental level of education": "associate's degree",
         "lunch": "standard",
         "test preparation course": "none",
         "math score": 4.06,
         "reading score": 4.06,
         "writing score": 4.24,
         "_deepnote_index_column": 441
        },
        {
         "names": "Jeffrey Bostrom",
         "gender": "male",
         "race/ethnicity": "group E",
         "parental level of education": "associate's degree",
         "lunch": "standard",
         "test preparation course": "completed",
         "math score": 5.26,
         "reading score": 5.44,
         "writing score": 5.08,
         "_deepnote_index_column": 442
        },
        {
         "names": "Earnest Cole",
         "gender": "male",
         "race/ethnicity": "group D",
         "parental level of education": "some college",
         "lunch": "standard",
         "test preparation course": "completed",
         "math score": 5.92,
         "reading score": 5.92,
         "writing score": 6.28,
         "_deepnote_index_column": 443
        },
        {
         "names": "Sharon Garcia",
         "gender": "female",
         "race/ethnicity": "group C",
         "parental level of education": "some high school",
         "lunch": "free/reduced",
         "test preparation course": "none",
         "math score": 4.3,
         "reading score": 4.9,
         "writing score": 4.72,
         "_deepnote_index_column": 444
        },
        {
         "names": "Carol Miller",
         "gender": "female",
         "race/ethnicity": "group C",
         "parental level of education": "associate's degree",
         "lunch": "standard",
         "test preparation course": "completed",
         "math score": 5.5,
         "reading score": 5.92,
         "writing score": 6.4,
         "_deepnote_index_column": 445
        },
        {
         "names": "Antonio Evans",
         "gender": "male",
         "race/ethnicity": "group C",
         "parental level of education": "high school",
         "lunch": "free/reduced",
         "test preparation course": "none",
         "math score": 4.96,
         "reading score": 4.96,
         "writing score": 4.54,
         "_deepnote_index_column": 446
        },
        {
         "names": "Pam Otoole",
         "gender": "female",
         "race/ethnicity": "group B",
         "parental level of education": "bachelor's degree",
         "lunch": "standard",
         "test preparation course": "none",
         "math score": 5.32,
         "reading score": 5.32,
         "writing score": 5.44,
         "_deepnote_index_column": 447
        },
        {
         "names": "Matthew Burns",
         "gender": "male",
         "race/ethnicity": "group E",
         "parental level of education": "high school",
         "lunch": "standard",
         "test preparation course": "none",
         "math score": 5.2,
         "reading score": 4.3,
         "writing score": 4.36,
         "_deepnote_index_column": 448
        },
        {
         "names": "Gregory Fernandez",
         "gender": "male",
         "race/ethnicity": "group E",
         "parental level of education": "high school",
         "lunch": "free/reduced",
         "test preparation course": "completed",
         "math score": 4.42,
         "reading score": 4.36,
         "writing score": 4.24,
         "_deepnote_index_column": 449
        },
        {
         "names": "Charles Herandez",
         "gender": "male",
         "race/ethnicity": "group D",
         "parental level of education": "master's degree",
         "lunch": "free/reduced",
         "test preparation course": "completed",
         "math score": 6.04,
         "reading score": 6.34,
         "writing score": 6.4,
         "_deepnote_index_column": 450
        },
        {
         "names": "Aaron Shelly",
         "gender": "male",
         "race/ethnicity": "group D",
         "parental level of education": "associate's degree",
         "lunch": "standard",
         "test preparation course": "none",
         "math score": 4.66,
         "reading score": 3.88,
         "writing score": 3.76,
         "_deepnote_index_column": 451
        },
        {
         "names": "Charles Harian",
         "gender": "male",
         "race/ethnicity": "group C",
         "parental level of education": "some high school",
         "lunch": "free/reduced",
         "test preparation course": "completed",
         "math score": 3.7,
         "reading score": 4.12,
         "writing score": 3.94,
         "_deepnote_index_column": 452
        },
        {
         "names": "Steven Hacker",
         "gender": "male",
         "race/ethnicity": "group A",
         "parental level of education": "some high school",
         "lunch": "free/reduced",
         "test preparation course": "none",
         "math score": 4.9,
         "reading score": 4.54,
         "writing score": 4.18,
         "_deepnote_index_column": 453
        },
        {
         "names": "Wendy Gunnell",
         "gender": "female",
         "race/ethnicity": "group D",
         "parental level of education": "some high school",
         "lunch": "free/reduced",
         "test preparation course": "none",
         "math score": 2.62,
         "reading score": 3.04,
         "writing score": 2.92,
         "_deepnote_index_column": 454
        },
        {
         "names": "Manuel Glover",
         "gender": "male",
         "race/ethnicity": "group D",
         "parental level of education": "some college",
         "lunch": "standard",
         "test preparation course": "none",
         "math score": 6.28,
         "reading score": 5.38,
         "writing score": 5.68,
         "_deepnote_index_column": 455
        },
        {
         "names": "Linda Nevin",
         "gender": "female",
         "race/ethnicity": "group B",
         "parental level of education": "some high school",
         "lunch": "standard",
         "test preparation course": "completed",
         "math score": 4.9,
         "reading score": 5.92,
         "writing score": 5.68,
         "_deepnote_index_column": 456
        },
        {
         "names": "James Piper",
         "gender": "male",
         "race/ethnicity": "group D",
         "parental level of education": "bachelor's degree",
         "lunch": "free/reduced",
         "test preparation course": "none",
         "math score": 4.78,
         "reading score": 4.96,
         "writing score": 5.02,
         "_deepnote_index_column": 457
        },
        {
         "names": "Timothy Anderson",
         "gender": "male",
         "race/ethnicity": "group C",
         "parental level of education": "associate's degree",
         "lunch": "free/reduced",
         "test preparation course": "completed",
         "math score": 5.68,
         "reading score": 5.86,
         "writing score": 5.92,
         "_deepnote_index_column": 458
        },
        {
         "names": "Julie Sciancalepore",
         "gender": "female",
         "race/ethnicity": "group C",
         "parental level of education": "bachelor's degree",
         "lunch": "standard",
         "test preparation course": "none",
         "math score": 4.9,
         "reading score": 5.32,
         "writing score": 5.44,
         "_deepnote_index_column": 459
        },
        {
         "names": "Brandon Palmer",
         "gender": "male",
         "race/ethnicity": "group D",
         "parental level of education": "associate's degree",
         "lunch": "free/reduced",
         "test preparation course": "none",
         "math score": 6.4,
         "reading score": 6.22,
         "writing score": 5.5,
         "_deepnote_index_column": 460
        },
        {
         "names": "Robert Morrison",
         "gender": "male",
         "race/ethnicity": "group D",
         "parental level of education": "some college",
         "lunch": "standard",
         "test preparation course": "completed",
         "math score": 7,
         "reading score": 6.82,
         "writing score": 6.94,
         "_deepnote_index_column": 461
        },
        {
         "names": "Claudio Millender",
         "gender": "male",
         "race/ethnicity": "group C",
         "parental level of education": "some college",
         "lunch": "free/reduced",
         "test preparation course": "completed",
         "math score": 5.02,
         "reading score": 5.44,
         "writing score": 5.2,
         "_deepnote_index_column": 462
        },
        {
         "names": "Emily King",
         "gender": "female",
         "race/ethnicity": "group D",
         "parental level of education": "some college",
         "lunch": "standard",
         "test preparation course": "completed",
         "math score": 5.44,
         "reading score": 5.5,
         "writing score": 5.74,
         "_deepnote_index_column": 463
        },
        {
         "names": "William Sakkinen",
         "gender": "male",
         "race/ethnicity": "group E",
         "parental level of education": "some college",
         "lunch": "standard",
         "test preparation course": "none",
         "math score": 5.5600000000000005,
         "reading score": 5.02,
         "writing score": 5.02,
         "_deepnote_index_column": 464
        },
        {
         "names": "Elsa Hyman",
         "gender": "female",
         "race/ethnicity": "group B",
         "parental level of education": "high school",
         "lunch": "standard",
         "test preparation course": "none",
         "math score": 4.96,
         "reading score": 5.32,
         "writing score": 5.2,
         "_deepnote_index_column": 465
        },
        {
         "names": "Virginia Sievers",
         "gender": "female",
         "race/ethnicity": "group C",
         "parental level of education": "bachelor's degree",
         "lunch": "standard",
         "test preparation course": "completed",
         "math score": 4.54,
         "reading score": 4.84,
         "writing score": 5.5,
         "_deepnote_index_column": 466
        },
        {
         "names": "Laura Cavanaugh",
         "gender": "female",
         "race/ethnicity": "group C",
         "parental level of education": "associate's degree",
         "lunch": "standard",
         "test preparation course": "completed",
         "math score": 4.72,
         "reading score": 5.5600000000000005,
         "writing score": 5.8,
         "_deepnote_index_column": 467
        },
        {
         "names": "Diana Costa",
         "gender": "female",
         "race/ethnicity": "group C",
         "parental level of education": "high school",
         "lunch": "free/reduced",
         "test preparation course": "none",
         "math score": 3.46,
         "reading score": 3.76,
         "writing score": 3.58,
         "_deepnote_index_column": 468
        },
        {
         "names": "Amy Sieving",
         "gender": "female",
         "race/ethnicity": "group C",
         "parental level of education": "high school",
         "lunch": "standard",
         "test preparation course": "none",
         "math score": 2.74,
         "reading score": 2.74,
         "writing score": 2.8,
         "_deepnote_index_column": 469
        },
        {
         "names": "Richard Young",
         "gender": "male",
         "race/ethnicity": "group D",
         "parental level of education": "high school",
         "lunch": "standard",
         "test preparation course": "none",
         "math score": 5.14,
         "reading score": 5.5,
         "writing score": 5.26,
         "_deepnote_index_column": 470
        },
        {
         "names": "Wanda Russell",
         "gender": "female",
         "race/ethnicity": "group B",
         "parental level of education": "high school",
         "lunch": "free/reduced",
         "test preparation course": "completed",
         "math score": 2.38,
         "reading score": 3.64,
         "writing score": 3.16,
         "_deepnote_index_column": 471
        },
        {
         "names": "Marina Zeigler",
         "gender": "female",
         "race/ethnicity": "group C",
         "parental level of education": "bachelor's degree",
         "lunch": "free/reduced",
         "test preparation course": "completed",
         "math score": 4.96,
         "reading score": 5.44,
         "writing score": 5.86,
         "_deepnote_index_column": 472
        },
        {
         "names": "Laurie Carter",
         "gender": "female",
         "race/ethnicity": "group B",
         "parental level of education": "some high school",
         "lunch": "standard",
         "test preparation course": "completed",
         "math score": 4.24,
         "reading score": 4.66,
         "writing score": 4.72,
         "_deepnote_index_column": 473
        },
        {
         "names": "Amanda Perez",
         "gender": "female",
         "race/ethnicity": "group A",
         "parental level of education": "high school",
         "lunch": "standard",
         "test preparation course": "completed",
         "math score": 5.08,
         "reading score": 5.8,
         "writing score": 5.5600000000000005,
         "_deepnote_index_column": 474
        }
       ]
      },
      "text/plain": "                names  gender race/ethnicity parental level of education  \\\n0       Rita Courtney  female        group B            some high school   \n1    Charles Linstrom    male        group A           bachelor's degree   \n2         Brian Young    male        group C            some high school   \n3      Howard Jimenez    male        group E            some high school   \n4        Wayne Wilson    male        group B            some high school   \n..                ...     ...            ...                         ...   \n470     Richard Young    male        group D                 high school   \n471     Wanda Russell  female        group B                 high school   \n472    Marina Zeigler  female        group C           bachelor's degree   \n473     Laurie Carter  female        group B            some high school   \n474      Amanda Perez  female        group A                 high school   \n\n            lunch test preparation course  math score  reading score  \\\n0        standard                    none        3.22           3.76   \n1        standard               completed        5.80           5.68   \n2        standard                    none        5.38           4.96   \n3        standard               completed        5.86           5.50   \n4        standard               completed        6.64           6.16   \n..            ...                     ...         ...            ...   \n470      standard                    none        5.14           5.50   \n471  free/reduced               completed        2.38           3.64   \n472  free/reduced               completed        4.96           5.44   \n473      standard               completed        4.24           4.66   \n474      standard               completed        5.08           5.80   \n\n     writing score  \n0             3.76  \n1             5.86  \n2             4.78  \n3             5.56  \n4             6.22  \n..             ...  \n470           5.26  \n471           3.16  \n472           5.86  \n473           4.72  \n474           5.56  \n\n[875 rows x 9 columns]",
      "text/html": "<div>\n<style scoped>\n    .dataframe tbody tr th:only-of-type {\n        vertical-align: middle;\n    }\n\n    .dataframe tbody tr th {\n        vertical-align: top;\n    }\n\n    .dataframe thead th {\n        text-align: right;\n    }\n</style>\n<table border=\"1\" class=\"dataframe\">\n  <thead>\n    <tr style=\"text-align: right;\">\n      <th></th>\n      <th>names</th>\n      <th>gender</th>\n      <th>race/ethnicity</th>\n      <th>parental level of education</th>\n      <th>lunch</th>\n      <th>test preparation course</th>\n      <th>math score</th>\n      <th>reading score</th>\n      <th>writing score</th>\n    </tr>\n  </thead>\n  <tbody>\n    <tr>\n      <th>0</th>\n      <td>Rita Courtney</td>\n      <td>female</td>\n      <td>group B</td>\n      <td>some high school</td>\n      <td>standard</td>\n      <td>none</td>\n      <td>3.22</td>\n      <td>3.76</td>\n      <td>3.76</td>\n    </tr>\n    <tr>\n      <th>1</th>\n      <td>Charles Linstrom</td>\n      <td>male</td>\n      <td>group A</td>\n      <td>bachelor's degree</td>\n      <td>standard</td>\n      <td>completed</td>\n      <td>5.80</td>\n      <td>5.68</td>\n      <td>5.86</td>\n    </tr>\n    <tr>\n      <th>2</th>\n      <td>Brian Young</td>\n      <td>male</td>\n      <td>group C</td>\n      <td>some high school</td>\n      <td>standard</td>\n      <td>none</td>\n      <td>5.38</td>\n      <td>4.96</td>\n      <td>4.78</td>\n    </tr>\n    <tr>\n      <th>3</th>\n      <td>Howard Jimenez</td>\n      <td>male</td>\n      <td>group E</td>\n      <td>some high school</td>\n      <td>standard</td>\n      <td>completed</td>\n      <td>5.86</td>\n      <td>5.50</td>\n      <td>5.56</td>\n    </tr>\n    <tr>\n      <th>4</th>\n      <td>Wayne Wilson</td>\n      <td>male</td>\n      <td>group B</td>\n      <td>some high school</td>\n      <td>standard</td>\n      <td>completed</td>\n      <td>6.64</td>\n      <td>6.16</td>\n      <td>6.22</td>\n    </tr>\n    <tr>\n      <th>...</th>\n      <td>...</td>\n      <td>...</td>\n      <td>...</td>\n      <td>...</td>\n      <td>...</td>\n      <td>...</td>\n      <td>...</td>\n      <td>...</td>\n      <td>...</td>\n    </tr>\n    <tr>\n      <th>470</th>\n      <td>Richard Young</td>\n      <td>male</td>\n      <td>group D</td>\n      <td>high school</td>\n      <td>standard</td>\n      <td>none</td>\n      <td>5.14</td>\n      <td>5.50</td>\n      <td>5.26</td>\n    </tr>\n    <tr>\n      <th>471</th>\n      <td>Wanda Russell</td>\n      <td>female</td>\n      <td>group B</td>\n      <td>high school</td>\n      <td>free/reduced</td>\n      <td>completed</td>\n      <td>2.38</td>\n      <td>3.64</td>\n      <td>3.16</td>\n    </tr>\n    <tr>\n      <th>472</th>\n      <td>Marina Zeigler</td>\n      <td>female</td>\n      <td>group C</td>\n      <td>bachelor's degree</td>\n      <td>free/reduced</td>\n      <td>completed</td>\n      <td>4.96</td>\n      <td>5.44</td>\n      <td>5.86</td>\n    </tr>\n    <tr>\n      <th>473</th>\n      <td>Laurie Carter</td>\n      <td>female</td>\n      <td>group B</td>\n      <td>some high school</td>\n      <td>standard</td>\n      <td>completed</td>\n      <td>4.24</td>\n      <td>4.66</td>\n      <td>4.72</td>\n    </tr>\n    <tr>\n      <th>474</th>\n      <td>Amanda Perez</td>\n      <td>female</td>\n      <td>group A</td>\n      <td>high school</td>\n      <td>standard</td>\n      <td>completed</td>\n      <td>5.08</td>\n      <td>5.80</td>\n      <td>5.56</td>\n    </tr>\n  </tbody>\n</table>\n<p>875 rows × 9 columns</p>\n</div>"
     },
     "metadata": {}
    }
   ],
   "execution_count": 4
  },
  {
   "cell_type": "markdown",
   "source": "## Análisis de Las Notas v2 [1.5 Puntos]\n\nPreocupado por la dificultad que representan los boxplot, el rector le solicita buscar alternativas de visualización la distribución de las notas. \n\nPara esto, muestre el [boxplot](https://plotly.com/python/box-plots/) mostrado la clase anterior, utilice un [displot](https://plotly.com/python/distplot/#distplot-with-pandas) como también un [histograma con un gráfico marginal de caja](https://plotly.com/python/histograms/#visualizing-the-distribution) como también un [histograma con el ramo como faceta de fila](https://plotly.com/python/facet-plots/#histogram-facet-grids).\n\nLuego, responda las siguientes pregunta: \n\n> 1. ¿Existe una diferencia notable entre las notas?\n\n> 2. ¿Cuál de los gráficos mostrados cree que es adecuado para mostrarle al rector? ¿Y a los padres? ¿Y a un centro de estudios educativos? ¿Por qué?. Base sus respuestas en lo visto en la clase de visualizaciones como también en lo que usted y su equipo consideren correcto.\n\n> Hint: Para elaborar el histograma, puede que le sea de utilidad hacer un `melt` del DataFrame, dejando como variables los ramos y valores las notas. Por otra parte, visiten la documentación para generar los gráficos.\n",
   "metadata": {
    "cell_id": "00015-3fe6990e-9588-4406-aed1-769ebf715b58",
    "deepnote_cell_type": "markdown"
   }
  },
  {
   "cell_type": "code",
   "source": "df_grades_melted = pd.melt(df_grades, id_vars=[\"names\",\"gender\",\"race/ethnicity\",\"parental level of education\",\"lunch\",\"test preparation course\"], value_vars=[\"math score\",\"reading score\",\"writing score\"])\ndf_grades_melted",
   "metadata": {
    "tags": [],
    "cell_id": "00016-eeee0f9f-7fef-40db-a624-606a4878837f",
    "deepnote_to_be_reexecuted": false,
    "source_hash": "111a9a6d",
    "execution_start": 1633729477629,
    "execution_millis": 501,
    "deepnote_cell_type": "code"
   },
   "outputs": [
    {
     "output_type": "execute_result",
     "execution_count": 5,
     "data": {
      "application/vnd.deepnote.dataframe.v2+json": {
       "row_count": 2625,
       "column_count": 8,
       "columns": [
        {
         "name": "names",
         "dtype": "object",
         "stats": {
          "unique_count": 875,
          "nan_count": 0,
          "categories": [
           {
            "name": "Rita Courtney",
            "count": 3
           },
           {
            "name": "Charles Linstrom",
            "count": 3
           },
           {
            "name": "873 others",
            "count": 2619
           }
          ]
         }
        },
        {
         "name": "gender",
         "dtype": "object",
         "stats": {
          "unique_count": 2,
          "nan_count": 0,
          "categories": [
           {
            "name": "female",
            "count": 1344
           },
           {
            "name": "male",
            "count": 1281
           }
          ]
         }
        },
        {
         "name": "race/ethnicity",
         "dtype": "object",
         "stats": {
          "unique_count": 5,
          "nan_count": 0,
          "categories": [
           {
            "name": "group C",
            "count": 816
           },
           {
            "name": "group D",
            "count": 717
           },
           {
            "name": "3 others",
            "count": 1092
           }
          ]
         }
        },
        {
         "name": "parental level of education",
         "dtype": "object",
         "stats": {
          "unique_count": 6,
          "nan_count": 0,
          "categories": [
           {
            "name": "associate's degree",
            "count": 588
           },
           {
            "name": "some college",
            "count": 573
           },
           {
            "name": "4 others",
            "count": 1464
           }
          ]
         }
        },
        {
         "name": "lunch",
         "dtype": "object",
         "stats": {
          "unique_count": 2,
          "nan_count": 0,
          "categories": [
           {
            "name": "standard",
            "count": 1686
           },
           {
            "name": "free/reduced",
            "count": 939
           }
          ]
         }
        },
        {
         "name": "test preparation course",
         "dtype": "object",
         "stats": {
          "unique_count": 2,
          "nan_count": 0,
          "categories": [
           {
            "name": "none",
            "count": 1689
           },
           {
            "name": "completed",
            "count": 936
           }
          ]
         }
        },
        {
         "name": "variable",
         "dtype": "object",
         "stats": {
          "unique_count": 3,
          "nan_count": 0,
          "categories": [
           {
            "name": "math score",
            "count": 875
           },
           {
            "name": "reading score",
            "count": 875
           },
           {
            "name": "writing score",
            "count": 875
           }
          ]
         }
        },
        {
         "name": "value",
         "dtype": "float64",
         "stats": {
          "unique_count": 85,
          "nan_count": 0,
          "min": "1.0",
          "max": "7.0",
          "histogram": [
           {
            "bin_start": 1,
            "bin_end": 1.6,
            "count": 2
           },
           {
            "bin_start": 1.6,
            "bin_end": 2.2,
            "count": 6
           },
           {
            "bin_start": 2.2,
            "bin_end": 2.8,
            "count": 23
           },
           {
            "bin_start": 2.8,
            "bin_end": 3.4,
            "count": 53
           },
           {
            "bin_start": 3.4,
            "bin_end": 4,
            "count": 205
           },
           {
            "bin_start": 4,
            "bin_end": 4.6,
            "count": 447
           },
           {
            "bin_start": 4.6,
            "bin_end": 5.2,
            "count": 652
           },
           {
            "bin_start": 5.2,
            "bin_end": 5.8,
            "count": 651
           },
           {
            "bin_start": 5.8,
            "bin_end": 6.3999999999999995,
            "count": 398
           },
           {
            "bin_start": 6.3999999999999995,
            "bin_end": 7,
            "count": 188
           }
          ]
         }
        },
        {
         "name": "_deepnote_index_column",
         "dtype": "int64"
        }
       ],
       "rows_top": [
        {
         "names": "Rita Courtney",
         "gender": "female",
         "race/ethnicity": "group B",
         "parental level of education": "some high school",
         "lunch": "standard",
         "test preparation course": "none",
         "variable": "math score",
         "value": 3.22,
         "_deepnote_index_column": 0
        },
        {
         "names": "Charles Linstrom",
         "gender": "male",
         "race/ethnicity": "group A",
         "parental level of education": "bachelor's degree",
         "lunch": "standard",
         "test preparation course": "completed",
         "variable": "math score",
         "value": 5.8,
         "_deepnote_index_column": 1
        },
        {
         "names": "Brian Young",
         "gender": "male",
         "race/ethnicity": "group C",
         "parental level of education": "some high school",
         "lunch": "standard",
         "test preparation course": "none",
         "variable": "math score",
         "value": 5.38,
         "_deepnote_index_column": 2
        },
        {
         "names": "Howard Jimenez",
         "gender": "male",
         "race/ethnicity": "group E",
         "parental level of education": "some high school",
         "lunch": "standard",
         "test preparation course": "completed",
         "variable": "math score",
         "value": 5.86,
         "_deepnote_index_column": 3
        },
        {
         "names": "Wayne Wilson",
         "gender": "male",
         "race/ethnicity": "group B",
         "parental level of education": "some high school",
         "lunch": "standard",
         "test preparation course": "completed",
         "variable": "math score",
         "value": 6.64,
         "_deepnote_index_column": 4
        },
        {
         "names": "Jonathan Clingan",
         "gender": "male",
         "race/ethnicity": "group D",
         "parental level of education": "some college",
         "lunch": "standard",
         "test preparation course": "completed",
         "variable": "math score",
         "value": 5.26,
         "_deepnote_index_column": 5
        },
        {
         "names": "William Tang",
         "gender": "male",
         "race/ethnicity": "group D",
         "parental level of education": "associate's degree",
         "lunch": "standard",
         "test preparation course": "none",
         "variable": "math score",
         "value": 5.5,
         "_deepnote_index_column": 6
        },
        {
         "names": "Mikki Amaya",
         "gender": "female",
         "race/ethnicity": "group A",
         "parental level of education": "high school",
         "lunch": "free/reduced",
         "test preparation course": "completed",
         "variable": "math score",
         "value": 3.04,
         "_deepnote_index_column": 7
        },
        {
         "names": "Gerald Wilson",
         "gender": "male",
         "race/ethnicity": "group A",
         "parental level of education": "associate's degree",
         "lunch": "standard",
         "test preparation course": "none",
         "variable": "math score",
         "value": 4.78,
         "_deepnote_index_column": 8
        },
        {
         "names": "Damon Mckee",
         "gender": "male",
         "race/ethnicity": "group E",
         "parental level of education": "high school",
         "lunch": "standard",
         "test preparation course": "none",
         "variable": "math score",
         "value": 6.64,
         "_deepnote_index_column": 9
        },
        {
         "names": "Sophia Bijou",
         "gender": "female",
         "race/ethnicity": "group D",
         "parental level of education": "some high school",
         "lunch": "standard",
         "test preparation course": "completed",
         "variable": "math score",
         "value": 4.9,
         "_deepnote_index_column": 10
        },
        {
         "names": "Monica Schwartz",
         "gender": "female",
         "race/ethnicity": "group B",
         "parental level of education": "associate's degree",
         "lunch": "free/reduced",
         "test preparation course": "none",
         "variable": "math score",
         "value": 4.12,
         "_deepnote_index_column": 11
        },
        {
         "names": "Donald Upchurch",
         "gender": "male",
         "race/ethnicity": "group C",
         "parental level of education": "associate's degree",
         "lunch": "standard",
         "test preparation course": "none",
         "variable": "math score",
         "value": 4.72,
         "_deepnote_index_column": 12
        },
        {
         "names": "Donald Dunnings",
         "gender": "male",
         "race/ethnicity": "group D",
         "parental level of education": "some high school",
         "lunch": "standard",
         "test preparation course": "none",
         "variable": "math score",
         "value": 5.44,
         "_deepnote_index_column": 13
        },
        {
         "names": "Joseph Mccoy",
         "gender": "male",
         "race/ethnicity": "group D",
         "parental level of education": "some college",
         "lunch": "free/reduced",
         "test preparation course": "none",
         "variable": "math score",
         "value": 4.72,
         "_deepnote_index_column": 14
        },
        {
         "names": "David Dupree",
         "gender": "male",
         "race/ethnicity": "group B",
         "parental level of education": "high school",
         "lunch": "standard",
         "test preparation course": "completed",
         "variable": "math score",
         "value": 5.38,
         "_deepnote_index_column": 15
        },
        {
         "names": "Samuel Dougal",
         "gender": "male",
         "race/ethnicity": "group C",
         "parental level of education": "master's degree",
         "lunch": "free/reduced",
         "test preparation course": "completed",
         "variable": "math score",
         "value": 3.76,
         "_deepnote_index_column": 16
        },
        {
         "names": "Richard Pina",
         "gender": "male",
         "race/ethnicity": "group D",
         "parental level of education": "master's degree",
         "lunch": "standard",
         "test preparation course": "none",
         "variable": "math score",
         "value": 5.92,
         "_deepnote_index_column": 17
        },
        {
         "names": "Dale Sylvain",
         "gender": "male",
         "race/ethnicity": "group D",
         "parental level of education": "some college",
         "lunch": "free/reduced",
         "test preparation course": "none",
         "variable": "math score",
         "value": 4.78,
         "_deepnote_index_column": 18
        },
        {
         "names": "Janine Taylor",
         "gender": "female",
         "race/ethnicity": "group C",
         "parental level of education": "associate's degree",
         "lunch": "free/reduced",
         "test preparation course": "none",
         "variable": "math score",
         "value": 4.84,
         "_deepnote_index_column": 19
        },
        {
         "names": "Alexander Dillon",
         "gender": "male",
         "race/ethnicity": "group D",
         "parental level of education": "associate's degree",
         "lunch": "standard",
         "test preparation course": "none",
         "variable": "math score",
         "value": 5.8,
         "_deepnote_index_column": 20
        },
        {
         "names": "Shanna Braswell",
         "gender": "female",
         "race/ethnicity": "group D",
         "parental level of education": "bachelor's degree",
         "lunch": "free/reduced",
         "test preparation course": "completed",
         "variable": "math score",
         "value": 6.58,
         "_deepnote_index_column": 21
        },
        {
         "names": "Bonnie Ramos",
         "gender": "female",
         "race/ethnicity": "group B",
         "parental level of education": "high school",
         "lunch": "standard",
         "test preparation course": "completed",
         "variable": "math score",
         "value": 5.14,
         "_deepnote_index_column": 22
        },
        {
         "names": "Connie Shinn",
         "gender": "female",
         "race/ethnicity": "group B",
         "parental level of education": "associate's degree",
         "lunch": "free/reduced",
         "test preparation course": "none",
         "variable": "math score",
         "value": 3.76,
         "_deepnote_index_column": 23
        },
        {
         "names": "Daniel Cartwright",
         "gender": "male",
         "race/ethnicity": "group C",
         "parental level of education": "high school",
         "lunch": "standard",
         "test preparation course": "completed",
         "variable": "math score",
         "value": 6.16,
         "_deepnote_index_column": 24
        },
        {
         "names": "Betty Buntin",
         "gender": "female",
         "race/ethnicity": "group A",
         "parental level of education": "bachelor's degree",
         "lunch": "standard",
         "test preparation course": "none",
         "variable": "math score",
         "value": 4.54,
         "_deepnote_index_column": 25
        },
        {
         "names": "Francis Seibold",
         "gender": "male",
         "race/ethnicity": "group B",
         "parental level of education": "some high school",
         "lunch": "standard",
         "test preparation course": "completed",
         "variable": "math score",
         "value": 6.04,
         "_deepnote_index_column": 26
        },
        {
         "names": "Arthur Byer",
         "gender": "male",
         "race/ethnicity": "group D",
         "parental level of education": "high school",
         "lunch": "free/reduced",
         "test preparation course": "completed",
         "variable": "math score",
         "value": 4.84,
         "_deepnote_index_column": 27
        },
        {
         "names": "Willie Neff",
         "gender": "female",
         "race/ethnicity": "group E",
         "parental level of education": "associate's degree",
         "lunch": "free/reduced",
         "test preparation course": "none",
         "variable": "math score",
         "value": 5.38,
         "_deepnote_index_column": 28
        },
        {
         "names": "Thelma Yeates",
         "gender": "female",
         "race/ethnicity": "group E",
         "parental level of education": "associate's degree",
         "lunch": "free/reduced",
         "test preparation course": "completed",
         "variable": "math score",
         "value": 5.98,
         "_deepnote_index_column": 29
        },
        {
         "names": "Mary Piotrowski",
         "gender": "female",
         "race/ethnicity": "group E",
         "parental level of education": "some college",
         "lunch": "free/reduced",
         "test preparation course": "completed",
         "variable": "math score",
         "value": 5.5,
         "_deepnote_index_column": 30
        },
        {
         "names": "Hazel Montoya",
         "gender": "female",
         "race/ethnicity": "group D",
         "parental level of education": "some college",
         "lunch": "standard",
         "test preparation course": "none",
         "variable": "math score",
         "value": 5.14,
         "_deepnote_index_column": 31
        },
        {
         "names": "James Eury",
         "gender": "male",
         "race/ethnicity": "group E",
         "parental level of education": "some college",
         "lunch": "standard",
         "test preparation course": "none",
         "variable": "math score",
         "value": 5.08,
         "_deepnote_index_column": 32
        },
        {
         "names": "Larry Dunn",
         "gender": "male",
         "race/ethnicity": "group C",
         "parental level of education": "some high school",
         "lunch": "standard",
         "test preparation course": "none",
         "variable": "math score",
         "value": 4.42,
         "_deepnote_index_column": 33
        },
        {
         "names": "David Dunham",
         "gender": "male",
         "race/ethnicity": "group A",
         "parental level of education": "bachelor's degree",
         "lunch": "standard",
         "test preparation course": "none",
         "variable": "math score",
         "value": 4.96,
         "_deepnote_index_column": 34
        },
        {
         "names": "Jeffery Wiedmann",
         "gender": "male",
         "race/ethnicity": "group C",
         "parental level of education": "some college",
         "lunch": "standard",
         "test preparation course": "none",
         "variable": "math score",
         "value": 4.66,
         "_deepnote_index_column": 35
        },
        {
         "names": "Lisa Watters",
         "gender": "female",
         "race/ethnicity": "group D",
         "parental level of education": "master's degree",
         "lunch": "free/reduced",
         "test preparation course": "none",
         "variable": "math score",
         "value": 3.4,
         "_deepnote_index_column": 36
        },
        {
         "names": "Katharine Kellum",
         "gender": "female",
         "race/ethnicity": "group B",
         "parental level of education": "high school",
         "lunch": "free/reduced",
         "test preparation course": "none",
         "variable": "math score",
         "value": 4,
         "_deepnote_index_column": 37
        },
        {
         "names": "Marjorie Brown",
         "gender": "female",
         "race/ethnicity": "group B",
         "parental level of education": "high school",
         "lunch": "standard",
         "test preparation course": "none",
         "variable": "math score",
         "value": 3.88,
         "_deepnote_index_column": 38
        },
        {
         "names": "Rodger Talavera",
         "gender": "male",
         "race/ethnicity": "group B",
         "parental level of education": "high school",
         "lunch": "free/reduced",
         "test preparation course": "none",
         "variable": "math score",
         "value": 3.16,
         "_deepnote_index_column": 39
        },
        {
         "names": "Mary Jackson",
         "gender": "female",
         "race/ethnicity": "group B",
         "parental level of education": "bachelor's degree",
         "lunch": "free/reduced",
         "test preparation course": "none",
         "variable": "math score",
         "value": 5.68,
         "_deepnote_index_column": 40
        },
        {
         "names": "Rebecca Dalton",
         "gender": "female",
         "race/ethnicity": "group B",
         "parental level of education": "some high school",
         "lunch": "standard",
         "test preparation course": "none",
         "variable": "math score",
         "value": 4.42,
         "_deepnote_index_column": 41
        },
        {
         "names": "David Fisk",
         "gender": "male",
         "race/ethnicity": "group D",
         "parental level of education": "bachelor's degree",
         "lunch": "standard",
         "test preparation course": "none",
         "variable": "math score",
         "value": 5.14,
         "_deepnote_index_column": 42
        },
        {
         "names": "Morris Johnson",
         "gender": "male",
         "race/ethnicity": "group A",
         "parental level of education": "associate's degree",
         "lunch": "free/reduced",
         "test preparation course": "completed",
         "variable": "math score",
         "value": 3.4,
         "_deepnote_index_column": 43
        },
        {
         "names": "Rodrick Rasch",
         "gender": "male",
         "race/ethnicity": "group E",
         "parental level of education": "some high school",
         "lunch": "standard",
         "test preparation course": "none",
         "variable": "math score",
         "value": 6.52,
         "_deepnote_index_column": 44
        },
        {
         "names": "Anthony Malcomb",
         "gender": "male",
         "race/ethnicity": "group C",
         "parental level of education": "some college",
         "lunch": "free/reduced",
         "test preparation course": "none",
         "variable": "math score",
         "value": 3.1,
         "_deepnote_index_column": 45
        },
        {
         "names": "Joyce Amos",
         "gender": "female",
         "race/ethnicity": "group C",
         "parental level of education": "associate's degree",
         "lunch": "standard",
         "test preparation course": "none",
         "variable": "math score",
         "value": 4.78,
         "_deepnote_index_column": 46
        },
        {
         "names": "Donald Chestnut",
         "gender": "male",
         "race/ethnicity": "group C",
         "parental level of education": "some college",
         "lunch": "standard",
         "test preparation course": "none",
         "variable": "math score",
         "value": 5.38,
         "_deepnote_index_column": 47
        },
        {
         "names": "Lynne Rodgers",
         "gender": "female",
         "race/ethnicity": "group D",
         "parental level of education": "some college",
         "lunch": "standard",
         "test preparation course": "none",
         "variable": "math score",
         "value": 4.78,
         "_deepnote_index_column": 48
        },
        {
         "names": "Diane Preister",
         "gender": "female",
         "race/ethnicity": "group D",
         "parental level of education": "some college",
         "lunch": "free/reduced",
         "test preparation course": "completed",
         "variable": "math score",
         "value": 4.12,
         "_deepnote_index_column": 49
        },
        {
         "names": "Brenda Kitchin",
         "gender": "female",
         "race/ethnicity": "group B",
         "parental level of education": "some high school",
         "lunch": "standard",
         "test preparation course": "none",
         "variable": "math score",
         "value": 5.38,
         "_deepnote_index_column": 50
        },
        {
         "names": "Susan Palmo",
         "gender": "female",
         "race/ethnicity": "group C",
         "parental level of education": "some college",
         "lunch": "free/reduced",
         "test preparation course": "completed",
         "variable": "math score",
         "value": 4.78,
         "_deepnote_index_column": 51
        },
        {
         "names": "Edward Hohn",
         "gender": "male",
         "race/ethnicity": "group C",
         "parental level of education": "high school",
         "lunch": "standard",
         "test preparation course": "none",
         "variable": "math score",
         "value": 5.26,
         "_deepnote_index_column": 52
        },
        {
         "names": "Donita Hill",
         "gender": "female",
         "race/ethnicity": "group A",
         "parental level of education": "bachelor's degree",
         "lunch": "standard",
         "test preparation course": "none",
         "variable": "math score",
         "value": 3.7,
         "_deepnote_index_column": 53
        },
        {
         "names": "Natalie Turney",
         "gender": "female",
         "race/ethnicity": "group E",
         "parental level of education": "associate's degree",
         "lunch": "standard",
         "test preparation course": "none",
         "variable": "math score",
         "value": 6.1,
         "_deepnote_index_column": 54
        },
        {
         "names": "Joe Burks",
         "gender": "male",
         "race/ethnicity": "group E",
         "parental level of education": "high school",
         "lunch": "standard",
         "test preparation course": "none",
         "variable": "math score",
         "value": 5.8,
         "_deepnote_index_column": 55
        },
        {
         "names": "Kim Stallard",
         "gender": "female",
         "race/ethnicity": "group C",
         "parental level of education": "bachelor's degree",
         "lunch": "standard",
         "test preparation course": "completed",
         "variable": "math score",
         "value": 5.62,
         "_deepnote_index_column": 56
        },
        {
         "names": "Dennis Campbell",
         "gender": "male",
         "race/ethnicity": "group C",
         "parental level of education": "master's degree",
         "lunch": "standard",
         "test preparation course": "completed",
         "variable": "math score",
         "value": 6.46,
         "_deepnote_index_column": 57
        },
        {
         "names": "Alan Mccloud",
         "gender": "male",
         "race/ethnicity": "group B",
         "parental level of education": "some college",
         "lunch": "free/reduced",
         "test preparation course": "completed",
         "variable": "math score",
         "value": 4.6,
         "_deepnote_index_column": 58
        },
        {
         "names": "Troy Kittleson",
         "gender": "male",
         "race/ethnicity": "group B",
         "parental level of education": "high school",
         "lunch": "free/reduced",
         "test preparation course": "none",
         "variable": "math score",
         "value": 4.78,
         "_deepnote_index_column": 59
        },
        {
         "names": "Ann Pence",
         "gender": "female",
         "race/ethnicity": "group B",
         "parental level of education": "associate's degree",
         "lunch": "standard",
         "test preparation course": "none",
         "variable": "math score",
         "value": 3.4,
         "_deepnote_index_column": 60
        },
        {
         "names": "William Austin",
         "gender": "male",
         "race/ethnicity": "group C",
         "parental level of education": "associate's degree",
         "lunch": "standard",
         "test preparation course": "completed",
         "variable": "math score",
         "value": 4.42,
         "_deepnote_index_column": 61
        }
       ],
       "rows_bottom": [
        {
         "names": "Audrey Shaffer",
         "gender": "female",
         "race/ethnicity": "group D",
         "parental level of education": "some college",
         "lunch": "free/reduced",
         "test preparation course": "none",
         "variable": "writing score",
         "value": 5.62,
         "_deepnote_index_column": 2562
        },
        {
         "names": "Derrick Crasco",
         "gender": "male",
         "race/ethnicity": "group B",
         "parental level of education": "associate's degree",
         "lunch": "free/reduced",
         "test preparation course": "completed",
         "variable": "writing score",
         "value": 5.44,
         "_deepnote_index_column": 2563
        },
        {
         "names": "Lee Trent",
         "gender": "female",
         "race/ethnicity": "group D",
         "parental level of education": "associate's degree",
         "lunch": "standard",
         "test preparation course": "none",
         "variable": "writing score",
         "value": 5.2,
         "_deepnote_index_column": 2564
        },
        {
         "names": "Dustin Henry",
         "gender": "male",
         "race/ethnicity": "group C",
         "parental level of education": "high school",
         "lunch": "free/reduced",
         "test preparation course": "completed",
         "variable": "writing score",
         "value": 4,
         "_deepnote_index_column": 2565
        },
        {
         "names": "Joy Hasler",
         "gender": "female",
         "race/ethnicity": "group C",
         "parental level of education": "some college",
         "lunch": "standard",
         "test preparation course": "none",
         "variable": "writing score",
         "value": 5.92,
         "_deepnote_index_column": 2566
        },
        {
         "names": "Shirley Nicholls",
         "gender": "female",
         "race/ethnicity": "group E",
         "parental level of education": "master's degree",
         "lunch": "free/reduced",
         "test preparation course": "none",
         "variable": "writing score",
         "value": 4.9,
         "_deepnote_index_column": 2567
        },
        {
         "names": "Jonathan Pearson",
         "gender": "male",
         "race/ethnicity": "group C",
         "parental level of education": "high school",
         "lunch": "standard",
         "test preparation course": "completed",
         "variable": "writing score",
         "value": 4.18,
         "_deepnote_index_column": 2568
        },
        {
         "names": "Stuart Stanford",
         "gender": "male",
         "race/ethnicity": "group D",
         "parental level of education": "associate's degree",
         "lunch": "standard",
         "test preparation course": "completed",
         "variable": "writing score",
         "value": 5.02,
         "_deepnote_index_column": 2569
        },
        {
         "names": "James King",
         "gender": "male",
         "race/ethnicity": "group B",
         "parental level of education": "some college",
         "lunch": "standard",
         "test preparation course": "completed",
         "variable": "writing score",
         "value": 6.46,
         "_deepnote_index_column": 2570
        },
        {
         "names": "Verda Perryman",
         "gender": "female",
         "race/ethnicity": "group C",
         "parental level of education": "bachelor's degree",
         "lunch": "free/reduced",
         "test preparation course": "none",
         "variable": "writing score",
         "value": 5.32,
         "_deepnote_index_column": 2571
        },
        {
         "names": "Wendy Freel",
         "gender": "female",
         "race/ethnicity": "group C",
         "parental level of education": "some high school",
         "lunch": "standard",
         "test preparation course": "completed",
         "variable": "writing score",
         "value": 5.62,
         "_deepnote_index_column": 2572
        },
        {
         "names": "Kathryn White",
         "gender": "female",
         "race/ethnicity": "group C",
         "parental level of education": "some college",
         "lunch": "standard",
         "test preparation course": "none",
         "variable": "writing score",
         "value": 4.96,
         "_deepnote_index_column": 2573
        },
        {
         "names": "Martin Wilson",
         "gender": "male",
         "race/ethnicity": "group D",
         "parental level of education": "high school",
         "lunch": "standard",
         "test preparation course": "completed",
         "variable": "writing score",
         "value": 3.88,
         "_deepnote_index_column": 2574
        },
        {
         "names": "Kelly Bowar",
         "gender": "female",
         "race/ethnicity": "group D",
         "parental level of education": "some high school",
         "lunch": "standard",
         "test preparation course": "none",
         "variable": "writing score",
         "value": 4.24,
         "_deepnote_index_column": 2575
        },
        {
         "names": "Kelly Greer",
         "gender": "female",
         "race/ethnicity": "group C",
         "parental level of education": "associate's degree",
         "lunch": "free/reduced",
         "test preparation course": "none",
         "variable": "writing score",
         "value": 4.72,
         "_deepnote_index_column": 2576
        },
        {
         "names": "Fred Jaeger",
         "gender": "male",
         "race/ethnicity": "group E",
         "parental level of education": "bachelor's degree",
         "lunch": "standard",
         "test preparation course": "completed",
         "variable": "writing score",
         "value": 5.26,
         "_deepnote_index_column": 2577
        },
        {
         "names": "Haydee Kunkel",
         "gender": "female",
         "race/ethnicity": "group C",
         "parental level of education": "high school",
         "lunch": "free/reduced",
         "test preparation course": "none",
         "variable": "writing score",
         "value": 4.84,
         "_deepnote_index_column": 2578
        },
        {
         "names": "Kayla Lopez",
         "gender": "female",
         "race/ethnicity": "group C",
         "parental level of education": "associate's degree",
         "lunch": "standard",
         "test preparation course": "completed",
         "variable": "writing score",
         "value": 6.04,
         "_deepnote_index_column": 2579
        },
        {
         "names": "Paul Brownell",
         "gender": "male",
         "race/ethnicity": "group B",
         "parental level of education": "high school",
         "lunch": "standard",
         "test preparation course": "none",
         "variable": "writing score",
         "value": 5.8,
         "_deepnote_index_column": 2580
        },
        {
         "names": "Jose Rogers",
         "gender": "male",
         "race/ethnicity": "group D",
         "parental level of education": "some college",
         "lunch": "free/reduced",
         "test preparation course": "none",
         "variable": "writing score",
         "value": 4.84,
         "_deepnote_index_column": 2581
        },
        {
         "names": "Joyce Bland",
         "gender": "female",
         "race/ethnicity": "group D",
         "parental level of education": "some high school",
         "lunch": "free/reduced",
         "test preparation course": "none",
         "variable": "writing score",
         "value": 4.54,
         "_deepnote_index_column": 2582
        },
        {
         "names": "Fannie Alvarez",
         "gender": "female",
         "race/ethnicity": "group D",
         "parental level of education": "some college",
         "lunch": "free/reduced",
         "test preparation course": "none",
         "variable": "writing score",
         "value": 5.44,
         "_deepnote_index_column": 2583
        },
        {
         "names": "Melissa Johnston",
         "gender": "female",
         "race/ethnicity": "group C",
         "parental level of education": "some high school",
         "lunch": "free/reduced",
         "test preparation course": "none",
         "variable": "writing score",
         "value": 1.6,
         "_deepnote_index_column": 2584
        },
        {
         "names": "Judith Mcenany",
         "gender": "female",
         "race/ethnicity": "group D",
         "parental level of education": "bachelor's degree",
         "lunch": "standard",
         "test preparation course": "none",
         "variable": "writing score",
         "value": 4.72,
         "_deepnote_index_column": 2585
        },
        {
         "names": "Nancy Mccormick",
         "gender": "female",
         "race/ethnicity": "group D",
         "parental level of education": "some high school",
         "lunch": "free/reduced",
         "test preparation course": "completed",
         "variable": "writing score",
         "value": 5.86,
         "_deepnote_index_column": 2586
        },
        {
         "names": "Timothy Long",
         "gender": "male",
         "race/ethnicity": "group C",
         "parental level of education": "high school",
         "lunch": "standard",
         "test preparation course": "completed",
         "variable": "writing score",
         "value": 4.84,
         "_deepnote_index_column": 2587
        },
        {
         "names": "Sandra Pompey",
         "gender": "female",
         "race/ethnicity": "group E",
         "parental level of education": "associate's degree",
         "lunch": "standard",
         "test preparation course": "none",
         "variable": "writing score",
         "value": 7,
         "_deepnote_index_column": 2588
        },
        {
         "names": "Steven Marriot",
         "gender": "male",
         "race/ethnicity": "group C",
         "parental level of education": "some college",
         "lunch": "free/reduced",
         "test preparation course": "none",
         "variable": "writing score",
         "value": 3.94,
         "_deepnote_index_column": 2589
        },
        {
         "names": "Stanley Chappell",
         "gender": "male",
         "race/ethnicity": "group A",
         "parental level of education": "associate's degree",
         "lunch": "free/reduced",
         "test preparation course": "none",
         "variable": "writing score",
         "value": 3.64,
         "_deepnote_index_column": 2590
        },
        {
         "names": "Michelle Smithson",
         "gender": "female",
         "race/ethnicity": "group E",
         "parental level of education": "associate's degree",
         "lunch": "standard",
         "test preparation course": "none",
         "variable": "writing score",
         "value": 4.24,
         "_deepnote_index_column": 2591
        },
        {
         "names": "Jeffrey Bostrom",
         "gender": "male",
         "race/ethnicity": "group E",
         "parental level of education": "associate's degree",
         "lunch": "standard",
         "test preparation course": "completed",
         "variable": "writing score",
         "value": 5.08,
         "_deepnote_index_column": 2592
        },
        {
         "names": "Earnest Cole",
         "gender": "male",
         "race/ethnicity": "group D",
         "parental level of education": "some college",
         "lunch": "standard",
         "test preparation course": "completed",
         "variable": "writing score",
         "value": 6.28,
         "_deepnote_index_column": 2593
        },
        {
         "names": "Sharon Garcia",
         "gender": "female",
         "race/ethnicity": "group C",
         "parental level of education": "some high school",
         "lunch": "free/reduced",
         "test preparation course": "none",
         "variable": "writing score",
         "value": 4.72,
         "_deepnote_index_column": 2594
        },
        {
         "names": "Carol Miller",
         "gender": "female",
         "race/ethnicity": "group C",
         "parental level of education": "associate's degree",
         "lunch": "standard",
         "test preparation course": "completed",
         "variable": "writing score",
         "value": 6.4,
         "_deepnote_index_column": 2595
        },
        {
         "names": "Antonio Evans",
         "gender": "male",
         "race/ethnicity": "group C",
         "parental level of education": "high school",
         "lunch": "free/reduced",
         "test preparation course": "none",
         "variable": "writing score",
         "value": 4.54,
         "_deepnote_index_column": 2596
        },
        {
         "names": "Pam Otoole",
         "gender": "female",
         "race/ethnicity": "group B",
         "parental level of education": "bachelor's degree",
         "lunch": "standard",
         "test preparation course": "none",
         "variable": "writing score",
         "value": 5.44,
         "_deepnote_index_column": 2597
        },
        {
         "names": "Matthew Burns",
         "gender": "male",
         "race/ethnicity": "group E",
         "parental level of education": "high school",
         "lunch": "standard",
         "test preparation course": "none",
         "variable": "writing score",
         "value": 4.36,
         "_deepnote_index_column": 2598
        },
        {
         "names": "Gregory Fernandez",
         "gender": "male",
         "race/ethnicity": "group E",
         "parental level of education": "high school",
         "lunch": "free/reduced",
         "test preparation course": "completed",
         "variable": "writing score",
         "value": 4.24,
         "_deepnote_index_column": 2599
        },
        {
         "names": "Charles Herandez",
         "gender": "male",
         "race/ethnicity": "group D",
         "parental level of education": "master's degree",
         "lunch": "free/reduced",
         "test preparation course": "completed",
         "variable": "writing score",
         "value": 6.4,
         "_deepnote_index_column": 2600
        },
        {
         "names": "Aaron Shelly",
         "gender": "male",
         "race/ethnicity": "group D",
         "parental level of education": "associate's degree",
         "lunch": "standard",
         "test preparation course": "none",
         "variable": "writing score",
         "value": 3.76,
         "_deepnote_index_column": 2601
        },
        {
         "names": "Charles Harian",
         "gender": "male",
         "race/ethnicity": "group C",
         "parental level of education": "some high school",
         "lunch": "free/reduced",
         "test preparation course": "completed",
         "variable": "writing score",
         "value": 3.94,
         "_deepnote_index_column": 2602
        },
        {
         "names": "Steven Hacker",
         "gender": "male",
         "race/ethnicity": "group A",
         "parental level of education": "some high school",
         "lunch": "free/reduced",
         "test preparation course": "none",
         "variable": "writing score",
         "value": 4.18,
         "_deepnote_index_column": 2603
        },
        {
         "names": "Wendy Gunnell",
         "gender": "female",
         "race/ethnicity": "group D",
         "parental level of education": "some high school",
         "lunch": "free/reduced",
         "test preparation course": "none",
         "variable": "writing score",
         "value": 2.92,
         "_deepnote_index_column": 2604
        },
        {
         "names": "Manuel Glover",
         "gender": "male",
         "race/ethnicity": "group D",
         "parental level of education": "some college",
         "lunch": "standard",
         "test preparation course": "none",
         "variable": "writing score",
         "value": 5.68,
         "_deepnote_index_column": 2605
        },
        {
         "names": "Linda Nevin",
         "gender": "female",
         "race/ethnicity": "group B",
         "parental level of education": "some high school",
         "lunch": "standard",
         "test preparation course": "completed",
         "variable": "writing score",
         "value": 5.68,
         "_deepnote_index_column": 2606
        },
        {
         "names": "James Piper",
         "gender": "male",
         "race/ethnicity": "group D",
         "parental level of education": "bachelor's degree",
         "lunch": "free/reduced",
         "test preparation course": "none",
         "variable": "writing score",
         "value": 5.02,
         "_deepnote_index_column": 2607
        },
        {
         "names": "Timothy Anderson",
         "gender": "male",
         "race/ethnicity": "group C",
         "parental level of education": "associate's degree",
         "lunch": "free/reduced",
         "test preparation course": "completed",
         "variable": "writing score",
         "value": 5.92,
         "_deepnote_index_column": 2608
        },
        {
         "names": "Julie Sciancalepore",
         "gender": "female",
         "race/ethnicity": "group C",
         "parental level of education": "bachelor's degree",
         "lunch": "standard",
         "test preparation course": "none",
         "variable": "writing score",
         "value": 5.44,
         "_deepnote_index_column": 2609
        },
        {
         "names": "Brandon Palmer",
         "gender": "male",
         "race/ethnicity": "group D",
         "parental level of education": "associate's degree",
         "lunch": "free/reduced",
         "test preparation course": "none",
         "variable": "writing score",
         "value": 5.5,
         "_deepnote_index_column": 2610
        },
        {
         "names": "Robert Morrison",
         "gender": "male",
         "race/ethnicity": "group D",
         "parental level of education": "some college",
         "lunch": "standard",
         "test preparation course": "completed",
         "variable": "writing score",
         "value": 6.94,
         "_deepnote_index_column": 2611
        },
        {
         "names": "Claudio Millender",
         "gender": "male",
         "race/ethnicity": "group C",
         "parental level of education": "some college",
         "lunch": "free/reduced",
         "test preparation course": "completed",
         "variable": "writing score",
         "value": 5.2,
         "_deepnote_index_column": 2612
        },
        {
         "names": "Emily King",
         "gender": "female",
         "race/ethnicity": "group D",
         "parental level of education": "some college",
         "lunch": "standard",
         "test preparation course": "completed",
         "variable": "writing score",
         "value": 5.74,
         "_deepnote_index_column": 2613
        },
        {
         "names": "William Sakkinen",
         "gender": "male",
         "race/ethnicity": "group E",
         "parental level of education": "some college",
         "lunch": "standard",
         "test preparation course": "none",
         "variable": "writing score",
         "value": 5.02,
         "_deepnote_index_column": 2614
        },
        {
         "names": "Elsa Hyman",
         "gender": "female",
         "race/ethnicity": "group B",
         "parental level of education": "high school",
         "lunch": "standard",
         "test preparation course": "none",
         "variable": "writing score",
         "value": 5.2,
         "_deepnote_index_column": 2615
        },
        {
         "names": "Virginia Sievers",
         "gender": "female",
         "race/ethnicity": "group C",
         "parental level of education": "bachelor's degree",
         "lunch": "standard",
         "test preparation course": "completed",
         "variable": "writing score",
         "value": 5.5,
         "_deepnote_index_column": 2616
        },
        {
         "names": "Laura Cavanaugh",
         "gender": "female",
         "race/ethnicity": "group C",
         "parental level of education": "associate's degree",
         "lunch": "standard",
         "test preparation course": "completed",
         "variable": "writing score",
         "value": 5.8,
         "_deepnote_index_column": 2617
        },
        {
         "names": "Diana Costa",
         "gender": "female",
         "race/ethnicity": "group C",
         "parental level of education": "high school",
         "lunch": "free/reduced",
         "test preparation course": "none",
         "variable": "writing score",
         "value": 3.58,
         "_deepnote_index_column": 2618
        },
        {
         "names": "Amy Sieving",
         "gender": "female",
         "race/ethnicity": "group C",
         "parental level of education": "high school",
         "lunch": "standard",
         "test preparation course": "none",
         "variable": "writing score",
         "value": 2.8,
         "_deepnote_index_column": 2619
        },
        {
         "names": "Richard Young",
         "gender": "male",
         "race/ethnicity": "group D",
         "parental level of education": "high school",
         "lunch": "standard",
         "test preparation course": "none",
         "variable": "writing score",
         "value": 5.26,
         "_deepnote_index_column": 2620
        },
        {
         "names": "Wanda Russell",
         "gender": "female",
         "race/ethnicity": "group B",
         "parental level of education": "high school",
         "lunch": "free/reduced",
         "test preparation course": "completed",
         "variable": "writing score",
         "value": 3.16,
         "_deepnote_index_column": 2621
        },
        {
         "names": "Marina Zeigler",
         "gender": "female",
         "race/ethnicity": "group C",
         "parental level of education": "bachelor's degree",
         "lunch": "free/reduced",
         "test preparation course": "completed",
         "variable": "writing score",
         "value": 5.86,
         "_deepnote_index_column": 2622
        },
        {
         "names": "Laurie Carter",
         "gender": "female",
         "race/ethnicity": "group B",
         "parental level of education": "some high school",
         "lunch": "standard",
         "test preparation course": "completed",
         "variable": "writing score",
         "value": 4.72,
         "_deepnote_index_column": 2623
        },
        {
         "names": "Amanda Perez",
         "gender": "female",
         "race/ethnicity": "group A",
         "parental level of education": "high school",
         "lunch": "standard",
         "test preparation course": "completed",
         "variable": "writing score",
         "value": 5.5600000000000005,
         "_deepnote_index_column": 2624
        }
       ]
      },
      "text/plain": "                 names  gender race/ethnicity parental level of education  \\\n0        Rita Courtney  female        group B            some high school   \n1     Charles Linstrom    male        group A           bachelor's degree   \n2          Brian Young    male        group C            some high school   \n3       Howard Jimenez    male        group E            some high school   \n4         Wayne Wilson    male        group B            some high school   \n...                ...     ...            ...                         ...   \n2620     Richard Young    male        group D                 high school   \n2621     Wanda Russell  female        group B                 high school   \n2622    Marina Zeigler  female        group C           bachelor's degree   \n2623     Laurie Carter  female        group B            some high school   \n2624      Amanda Perez  female        group A                 high school   \n\n             lunch test preparation course       variable  value  \n0         standard                    none     math score   3.22  \n1         standard               completed     math score   5.80  \n2         standard                    none     math score   5.38  \n3         standard               completed     math score   5.86  \n4         standard               completed     math score   6.64  \n...            ...                     ...            ...    ...  \n2620      standard                    none  writing score   5.26  \n2621  free/reduced               completed  writing score   3.16  \n2622  free/reduced               completed  writing score   5.86  \n2623      standard               completed  writing score   4.72  \n2624      standard               completed  writing score   5.56  \n\n[2625 rows x 8 columns]",
      "text/html": "<div>\n<style scoped>\n    .dataframe tbody tr th:only-of-type {\n        vertical-align: middle;\n    }\n\n    .dataframe tbody tr th {\n        vertical-align: top;\n    }\n\n    .dataframe thead th {\n        text-align: right;\n    }\n</style>\n<table border=\"1\" class=\"dataframe\">\n  <thead>\n    <tr style=\"text-align: right;\">\n      <th></th>\n      <th>names</th>\n      <th>gender</th>\n      <th>race/ethnicity</th>\n      <th>parental level of education</th>\n      <th>lunch</th>\n      <th>test preparation course</th>\n      <th>variable</th>\n      <th>value</th>\n    </tr>\n  </thead>\n  <tbody>\n    <tr>\n      <th>0</th>\n      <td>Rita Courtney</td>\n      <td>female</td>\n      <td>group B</td>\n      <td>some high school</td>\n      <td>standard</td>\n      <td>none</td>\n      <td>math score</td>\n      <td>3.22</td>\n    </tr>\n    <tr>\n      <th>1</th>\n      <td>Charles Linstrom</td>\n      <td>male</td>\n      <td>group A</td>\n      <td>bachelor's degree</td>\n      <td>standard</td>\n      <td>completed</td>\n      <td>math score</td>\n      <td>5.80</td>\n    </tr>\n    <tr>\n      <th>2</th>\n      <td>Brian Young</td>\n      <td>male</td>\n      <td>group C</td>\n      <td>some high school</td>\n      <td>standard</td>\n      <td>none</td>\n      <td>math score</td>\n      <td>5.38</td>\n    </tr>\n    <tr>\n      <th>3</th>\n      <td>Howard Jimenez</td>\n      <td>male</td>\n      <td>group E</td>\n      <td>some high school</td>\n      <td>standard</td>\n      <td>completed</td>\n      <td>math score</td>\n      <td>5.86</td>\n    </tr>\n    <tr>\n      <th>4</th>\n      <td>Wayne Wilson</td>\n      <td>male</td>\n      <td>group B</td>\n      <td>some high school</td>\n      <td>standard</td>\n      <td>completed</td>\n      <td>math score</td>\n      <td>6.64</td>\n    </tr>\n    <tr>\n      <th>...</th>\n      <td>...</td>\n      <td>...</td>\n      <td>...</td>\n      <td>...</td>\n      <td>...</td>\n      <td>...</td>\n      <td>...</td>\n      <td>...</td>\n    </tr>\n    <tr>\n      <th>2620</th>\n      <td>Richard Young</td>\n      <td>male</td>\n      <td>group D</td>\n      <td>high school</td>\n      <td>standard</td>\n      <td>none</td>\n      <td>writing score</td>\n      <td>5.26</td>\n    </tr>\n    <tr>\n      <th>2621</th>\n      <td>Wanda Russell</td>\n      <td>female</td>\n      <td>group B</td>\n      <td>high school</td>\n      <td>free/reduced</td>\n      <td>completed</td>\n      <td>writing score</td>\n      <td>3.16</td>\n    </tr>\n    <tr>\n      <th>2622</th>\n      <td>Marina Zeigler</td>\n      <td>female</td>\n      <td>group C</td>\n      <td>bachelor's degree</td>\n      <td>free/reduced</td>\n      <td>completed</td>\n      <td>writing score</td>\n      <td>5.86</td>\n    </tr>\n    <tr>\n      <th>2623</th>\n      <td>Laurie Carter</td>\n      <td>female</td>\n      <td>group B</td>\n      <td>some high school</td>\n      <td>standard</td>\n      <td>completed</td>\n      <td>writing score</td>\n      <td>4.72</td>\n    </tr>\n    <tr>\n      <th>2624</th>\n      <td>Amanda Perez</td>\n      <td>female</td>\n      <td>group A</td>\n      <td>high school</td>\n      <td>standard</td>\n      <td>completed</td>\n      <td>writing score</td>\n      <td>5.56</td>\n    </tr>\n  </tbody>\n</table>\n<p>2625 rows × 8 columns</p>\n</div>"
     },
     "metadata": {}
    }
   ],
   "execution_count": 5
  },
  {
   "cell_type": "markdown",
   "source": "**Gráfico de Caja:**",
   "metadata": {
    "cell_id": "00016-f89b7f50-751c-402e-8c08-7b1e91d84336",
    "deepnote_cell_type": "markdown"
   }
  },
  {
   "cell_type": "code",
   "metadata": {
    "cell_id": "00017-c9fa6110-5997-4279-9fcb-2389f411b883",
    "deepnote_to_be_reexecuted": false,
    "source_hash": "4f91bec8",
    "execution_start": 1633732352912,
    "execution_millis": 444,
    "deepnote_cell_type": "code"
   },
   "source": "#No se si tengo que hacerlo con las distintas variables\n\nimport plotly.express as px\ndf = px.data.tips()\nfig = px.box(df_grades_melted,x=\"variable\", y=\"value\")\nfig.show()",
   "outputs": [
    {
     "data": {
      "text/html": "<html>\n<head><meta charset=\"utf-8\" /></head>\n<body>\n    <div>            <script src=\"https://cdnjs.cloudflare.com/ajax/libs/mathjax/2.7.5/MathJax.js?config=TeX-AMS-MML_SVG\"></script><script type=\"text/javascript\">if (window.MathJax) {MathJax.Hub.Config({SVG: {font: \"STIX-Web\"}});}</script>                <script type=\"text/javascript\">window.PlotlyConfig = {MathJaxConfig: 'local'};</script>\n        <script src=\"https://cdn.plot.ly/plotly-2.4.2.min.js\"></script>                <div id=\"d28ce1a9-aa80-44a3-872e-5a85f25f80f2\" class=\"plotly-graph-div\" style=\"height:525px; width:100%;\"></div>            <script type=\"text/javascript\">                                    window.PLOTLYENV=window.PLOTLYENV || {};                                    if (document.getElementById(\"d28ce1a9-aa80-44a3-872e-5a85f25f80f2\")) {                    Plotly.newPlot(                        \"d28ce1a9-aa80-44a3-872e-5a85f25f80f2\",                        [{\"alignmentgroup\":\"True\",\"hovertemplate\":\"variable=%{x}<br>value=%{y}<extra></extra>\",\"legendgroup\":\"\",\"marker\":{\"color\":\"#636efa\"},\"name\":\"\",\"notched\":false,\"offsetgroup\":\"\",\"orientation\":\"v\",\"showlegend\":false,\"type\":\"box\",\"x\":[\"math score\",\"math score\",\"math score\",\"math score\",\"math score\",\"math score\",\"math score\",\"math score\",\"math score\",\"math score\",\"math score\",\"math score\",\"math score\",\"math score\",\"math score\",\"math score\",\"math score\",\"math score\",\"math score\",\"math score\",\"math score\",\"math score\",\"math score\",\"math score\",\"math score\",\"math score\",\"math score\",\"math score\",\"math score\",\"math score\",\"math score\",\"math score\",\"math score\",\"math score\",\"math score\",\"math score\",\"math score\",\"math score\",\"math score\",\"math score\",\"math score\",\"math score\",\"math score\",\"math score\",\"math score\",\"math score\",\"math score\",\"math score\",\"math score\",\"math score\",\"math score\",\"math score\",\"math score\",\"math score\",\"math score\",\"math score\",\"math score\",\"math score\",\"math score\",\"math score\",\"math score\",\"math score\",\"math score\",\"math score\",\"math score\",\"math score\",\"math score\",\"math score\",\"math score\",\"math score\",\"math score\",\"math score\",\"math score\",\"math score\",\"math score\",\"math score\",\"math score\",\"math score\",\"math score\",\"math score\",\"math score\",\"math score\",\"math score\",\"math score\",\"math score\",\"math score\",\"math score\",\"math score\",\"math score\",\"math score\",\"math score\",\"math score\",\"math score\",\"math score\",\"math score\",\"math score\",\"math score\",\"math score\",\"math score\",\"math score\",\"math score\",\"math score\",\"math score\",\"math score\",\"math score\",\"math score\",\"math score\",\"math score\",\"math score\",\"math score\",\"math score\",\"math score\",\"math score\",\"math score\",\"math score\",\"math score\",\"math score\",\"math score\",\"math score\",\"math score\",\"math score\",\"math score\",\"math score\",\"math score\",\"math score\",\"math score\",\"math score\",\"math score\",\"math score\",\"math score\",\"math score\",\"math score\",\"math score\",\"math score\",\"math score\",\"math score\",\"math score\",\"math score\",\"math score\",\"math score\",\"math score\",\"math score\",\"math score\",\"math score\",\"math score\",\"math score\",\"math score\",\"math score\",\"math score\",\"math score\",\"math score\",\"math score\",\"math score\",\"math score\",\"math score\",\"math score\",\"math score\",\"math score\",\"math score\",\"math score\",\"math score\",\"math score\",\"math score\",\"math score\",\"math score\",\"math score\",\"math score\",\"math score\",\"math score\",\"math score\",\"math score\",\"math score\",\"math score\",\"math score\",\"math score\",\"math score\",\"math score\",\"math score\",\"math score\",\"math score\",\"math score\",\"math score\",\"math score\",\"math score\",\"math score\",\"math score\",\"math score\",\"math score\",\"math score\",\"math score\",\"math score\",\"math score\",\"math score\",\"math score\",\"math score\",\"math score\",\"math score\",\"math score\",\"math score\",\"math score\",\"math score\",\"math score\",\"math score\",\"math score\",\"math score\",\"math score\",\"math score\",\"math score\",\"math score\",\"math score\",\"math score\",\"math score\",\"math score\",\"math score\",\"math score\",\"math score\",\"math score\",\"math score\",\"math score\",\"math score\",\"math score\",\"math score\",\"math score\",\"math score\",\"math score\",\"math score\",\"math score\",\"math score\",\"math score\",\"math score\",\"math score\",\"math score\",\"math score\",\"math score\",\"math score\",\"math score\",\"math score\",\"math score\",\"math score\",\"math score\",\"math score\",\"math score\",\"math score\",\"math score\",\"math score\",\"math score\",\"math score\",\"math score\",\"math score\",\"math score\",\"math score\",\"math score\",\"math score\",\"math score\",\"math score\",\"math score\",\"math score\",\"math score\",\"math score\",\"math score\",\"math score\",\"math score\",\"math score\",\"math score\",\"math score\",\"math score\",\"math score\",\"math score\",\"math score\",\"math score\",\"math score\",\"math score\",\"math score\",\"math score\",\"math score\",\"math score\",\"math score\",\"math score\",\"math score\",\"math score\",\"math score\",\"math score\",\"math score\",\"math score\",\"math score\",\"math score\",\"math score\",\"math score\",\"math score\",\"math score\",\"math score\",\"math score\",\"math score\",\"math score\",\"math score\",\"math score\",\"math score\",\"math score\",\"math score\",\"math score\",\"math score\",\"math score\",\"math score\",\"math score\",\"math score\",\"math score\",\"math score\",\"math score\",\"math score\",\"math score\",\"math score\",\"math score\",\"math score\",\"math score\",\"math score\",\"math score\",\"math score\",\"math score\",\"math score\",\"math score\",\"math score\",\"math score\",\"math score\",\"math score\",\"math score\",\"math score\",\"math score\",\"math score\",\"math score\",\"math score\",\"math score\",\"math score\",\"math score\",\"math score\",\"math score\",\"math score\",\"math score\",\"math score\",\"math score\",\"math score\",\"math score\",\"math score\",\"math score\",\"math score\",\"math score\",\"math score\",\"math score\",\"math score\",\"math score\",\"math score\",\"math score\",\"math score\",\"math score\",\"math score\",\"math score\",\"math score\",\"math score\",\"math score\",\"math score\",\"math score\",\"math score\",\"math score\",\"math score\",\"math score\",\"math score\",\"math score\",\"math score\",\"math score\",\"math score\",\"math score\",\"math score\",\"math score\",\"math score\",\"math score\",\"math score\",\"math score\",\"math score\",\"math score\",\"math score\",\"math score\",\"math score\",\"math score\",\"math score\",\"math score\",\"math score\",\"math score\",\"math score\",\"math score\",\"math score\",\"math score\",\"math score\",\"math score\",\"math score\",\"math score\",\"math score\",\"math score\",\"math score\",\"math score\",\"math score\",\"math score\",\"math score\",\"math score\",\"math score\",\"math score\",\"math score\",\"math score\",\"math score\",\"math score\",\"math score\",\"math score\",\"math score\",\"math score\",\"math score\",\"math score\",\"math score\",\"math score\",\"math score\",\"math score\",\"math score\",\"math score\",\"math score\",\"math score\",\"math score\",\"math score\",\"math score\",\"math score\",\"math score\",\"math score\",\"math score\",\"math score\",\"math score\",\"math score\",\"math score\",\"math score\",\"math score\",\"math score\",\"math score\",\"math score\",\"math score\",\"math score\",\"math score\",\"math score\",\"math score\",\"math score\",\"math score\",\"math score\",\"math score\",\"math score\",\"math score\",\"math score\",\"math score\",\"math score\",\"math score\",\"math score\",\"math score\",\"math score\",\"math score\",\"math score\",\"math score\",\"math score\",\"math score\",\"math score\",\"math score\",\"math score\",\"math score\",\"math score\",\"math score\",\"math score\",\"math score\",\"math score\",\"math score\",\"math score\",\"math score\",\"math score\",\"math score\",\"math score\",\"math score\",\"math score\",\"math score\",\"math score\",\"math score\",\"math score\",\"math score\",\"math score\",\"math score\",\"math score\",\"math score\",\"math score\",\"math score\",\"math score\",\"math score\",\"math score\",\"math score\",\"math score\",\"math score\",\"math score\",\"math score\",\"math score\",\"math score\",\"math score\",\"math score\",\"math score\",\"math score\",\"math score\",\"math score\",\"math score\",\"math score\",\"math score\",\"math score\",\"math score\",\"math score\",\"math score\",\"math score\",\"math score\",\"math score\",\"math score\",\"math score\",\"math score\",\"math score\",\"math score\",\"math score\",\"math score\",\"math score\",\"math score\",\"math score\",\"math score\",\"math score\",\"math score\",\"math score\",\"math score\",\"math score\",\"math score\",\"math score\",\"math score\",\"math score\",\"math score\",\"math score\",\"math score\",\"math score\",\"math score\",\"math score\",\"math score\",\"math score\",\"math score\",\"math score\",\"math score\",\"math score\",\"math score\",\"math score\",\"math score\",\"math score\",\"math score\",\"math score\",\"math score\",\"math score\",\"math score\",\"math score\",\"math score\",\"math score\",\"math score\",\"math score\",\"math score\",\"math score\",\"math score\",\"math score\",\"math score\",\"math score\",\"math score\",\"math score\",\"math score\",\"math score\",\"math score\",\"math score\",\"math score\",\"math score\",\"math score\",\"math score\",\"math score\",\"math score\",\"math score\",\"math score\",\"math score\",\"math score\",\"math score\",\"math score\",\"math score\",\"math score\",\"math score\",\"math score\",\"math score\",\"math score\",\"math score\",\"math score\",\"math score\",\"math score\",\"math score\",\"math score\",\"math score\",\"math score\",\"math score\",\"math score\",\"math score\",\"math score\",\"math score\",\"math score\",\"math score\",\"math score\",\"math score\",\"math score\",\"math score\",\"math score\",\"math score\",\"math score\",\"math score\",\"math score\",\"math score\",\"math score\",\"math score\",\"math score\",\"math score\",\"math score\",\"math score\",\"math score\",\"math score\",\"math score\",\"math score\",\"math score\",\"math score\",\"math score\",\"math score\",\"math score\",\"math score\",\"math score\",\"math score\",\"math score\",\"math score\",\"math score\",\"math score\",\"math score\",\"math score\",\"math score\",\"math score\",\"math score\",\"math score\",\"math score\",\"math score\",\"math score\",\"math score\",\"math score\",\"math score\",\"math score\",\"math score\",\"math score\",\"math score\",\"math score\",\"math score\",\"math score\",\"math score\",\"math score\",\"math score\",\"math score\",\"math score\",\"math score\",\"math score\",\"math score\",\"math score\",\"math score\",\"math score\",\"math score\",\"math score\",\"math score\",\"math score\",\"math score\",\"math score\",\"math score\",\"math score\",\"math score\",\"math score\",\"math score\",\"math score\",\"math score\",\"math score\",\"math score\",\"math score\",\"math score\",\"math score\",\"math score\",\"math score\",\"math score\",\"math score\",\"math score\",\"math score\",\"math score\",\"math score\",\"math score\",\"math score\",\"math score\",\"math score\",\"math score\",\"math score\",\"math score\",\"math score\",\"math score\",\"math score\",\"math score\",\"math score\",\"math score\",\"math score\",\"math score\",\"math score\",\"math score\",\"math score\",\"math score\",\"math score\",\"math score\",\"math score\",\"math score\",\"math score\",\"math score\",\"math score\",\"math score\",\"math score\",\"math score\",\"math score\",\"math score\",\"math score\",\"math score\",\"math score\",\"math score\",\"math score\",\"math score\",\"math score\",\"math score\",\"math score\",\"math score\",\"math score\",\"math score\",\"math score\",\"math score\",\"math score\",\"math score\",\"math score\",\"math score\",\"math score\",\"math score\",\"math score\",\"math score\",\"math score\",\"math score\",\"math score\",\"math score\",\"math score\",\"math score\",\"math score\",\"math score\",\"math score\",\"math score\",\"math score\",\"math score\",\"math score\",\"math score\",\"math score\",\"math score\",\"math score\",\"math score\",\"math score\",\"math score\",\"math score\",\"math score\",\"math score\",\"math score\",\"math score\",\"math score\",\"math score\",\"math score\",\"math score\",\"math score\",\"math score\",\"math score\",\"math score\",\"math score\",\"math score\",\"math score\",\"math score\",\"math score\",\"math score\",\"math score\",\"math score\",\"math score\",\"math score\",\"math score\",\"math score\",\"math score\",\"math score\",\"math score\",\"math score\",\"math score\",\"math score\",\"math score\",\"math score\",\"math score\",\"math score\",\"math score\",\"math score\",\"math score\",\"math score\",\"math score\",\"math score\",\"math score\",\"math score\",\"math score\",\"math score\",\"math score\",\"math score\",\"math score\",\"math score\",\"math score\",\"math score\",\"math score\",\"math score\",\"math score\",\"math score\",\"math score\",\"math score\",\"math score\",\"math score\",\"math score\",\"math score\",\"math score\",\"math score\",\"math score\",\"math score\",\"math score\",\"math score\",\"math score\",\"math score\",\"math score\",\"math score\",\"math score\",\"math score\",\"math score\",\"math score\",\"math score\",\"math score\",\"math score\",\"math score\",\"math score\",\"math score\",\"math score\",\"math score\",\"math score\",\"math score\",\"math score\",\"math score\",\"math score\",\"math score\",\"math score\",\"math score\",\"math score\",\"math score\",\"math score\",\"math score\",\"math score\",\"math score\",\"math score\",\"math score\",\"math score\",\"math score\",\"math score\",\"math score\",\"math score\",\"math score\",\"math score\",\"math score\",\"math score\",\"reading score\",\"reading score\",\"reading score\",\"reading score\",\"reading score\",\"reading score\",\"reading score\",\"reading score\",\"reading score\",\"reading score\",\"reading score\",\"reading score\",\"reading score\",\"reading score\",\"reading score\",\"reading score\",\"reading score\",\"reading score\",\"reading score\",\"reading score\",\"reading score\",\"reading score\",\"reading score\",\"reading score\",\"reading score\",\"reading score\",\"reading score\",\"reading score\",\"reading score\",\"reading score\",\"reading score\",\"reading score\",\"reading score\",\"reading score\",\"reading score\",\"reading score\",\"reading score\",\"reading score\",\"reading score\",\"reading score\",\"reading score\",\"reading score\",\"reading score\",\"reading score\",\"reading score\",\"reading score\",\"reading score\",\"reading score\",\"reading score\",\"reading score\",\"reading score\",\"reading score\",\"reading score\",\"reading score\",\"reading score\",\"reading score\",\"reading score\",\"reading score\",\"reading score\",\"reading score\",\"reading score\",\"reading score\",\"reading score\",\"reading score\",\"reading score\",\"reading score\",\"reading score\",\"reading score\",\"reading score\",\"reading score\",\"reading score\",\"reading score\",\"reading score\",\"reading score\",\"reading score\",\"reading score\",\"reading score\",\"reading score\",\"reading score\",\"reading score\",\"reading score\",\"reading score\",\"reading score\",\"reading score\",\"reading score\",\"reading score\",\"reading score\",\"reading score\",\"reading score\",\"reading score\",\"reading score\",\"reading score\",\"reading score\",\"reading score\",\"reading score\",\"reading score\",\"reading score\",\"reading score\",\"reading score\",\"reading score\",\"reading score\",\"reading score\",\"reading score\",\"reading score\",\"reading score\",\"reading score\",\"reading score\",\"reading score\",\"reading score\",\"reading score\",\"reading score\",\"reading score\",\"reading score\",\"reading score\",\"reading score\",\"reading score\",\"reading score\",\"reading score\",\"reading score\",\"reading score\",\"reading score\",\"reading score\",\"reading score\",\"reading score\",\"reading score\",\"reading score\",\"reading score\",\"reading score\",\"reading score\",\"reading score\",\"reading score\",\"reading score\",\"reading score\",\"reading score\",\"reading score\",\"reading score\",\"reading score\",\"reading score\",\"reading score\",\"reading score\",\"reading score\",\"reading score\",\"reading score\",\"reading score\",\"reading score\",\"reading score\",\"reading score\",\"reading score\",\"reading score\",\"reading score\",\"reading score\",\"reading score\",\"reading score\",\"reading score\",\"reading score\",\"reading score\",\"reading score\",\"reading score\",\"reading score\",\"reading score\",\"reading score\",\"reading score\",\"reading score\",\"reading score\",\"reading score\",\"reading score\",\"reading score\",\"reading score\",\"reading score\",\"reading score\",\"reading score\",\"reading score\",\"reading score\",\"reading score\",\"reading score\",\"reading score\",\"reading score\",\"reading score\",\"reading score\",\"reading score\",\"reading score\",\"reading score\",\"reading score\",\"reading score\",\"reading score\",\"reading score\",\"reading score\",\"reading score\",\"reading score\",\"reading score\",\"reading score\",\"reading score\",\"reading score\",\"reading score\",\"reading score\",\"reading score\",\"reading score\",\"reading score\",\"reading score\",\"reading score\",\"reading score\",\"reading score\",\"reading score\",\"reading score\",\"reading score\",\"reading score\",\"reading score\",\"reading score\",\"reading score\",\"reading score\",\"reading score\",\"reading score\",\"reading score\",\"reading score\",\"reading score\",\"reading score\",\"reading score\",\"reading score\",\"reading score\",\"reading score\",\"reading score\",\"reading score\",\"reading score\",\"reading score\",\"reading score\",\"reading score\",\"reading score\",\"reading score\",\"reading score\",\"reading score\",\"reading score\",\"reading score\",\"reading score\",\"reading score\",\"reading score\",\"reading score\",\"reading score\",\"reading score\",\"reading score\",\"reading score\",\"reading score\",\"reading score\",\"reading score\",\"reading score\",\"reading score\",\"reading score\",\"reading score\",\"reading score\",\"reading score\",\"reading score\",\"reading score\",\"reading score\",\"reading score\",\"reading score\",\"reading score\",\"reading score\",\"reading score\",\"reading score\",\"reading score\",\"reading score\",\"reading score\",\"reading score\",\"reading score\",\"reading score\",\"reading score\",\"reading score\",\"reading score\",\"reading score\",\"reading score\",\"reading score\",\"reading score\",\"reading score\",\"reading score\",\"reading score\",\"reading score\",\"reading score\",\"reading score\",\"reading score\",\"reading score\",\"reading score\",\"reading score\",\"reading score\",\"reading score\",\"reading score\",\"reading score\",\"reading score\",\"reading score\",\"reading score\",\"reading score\",\"reading score\",\"reading score\",\"reading score\",\"reading score\",\"reading score\",\"reading score\",\"reading score\",\"reading score\",\"reading score\",\"reading score\",\"reading score\",\"reading score\",\"reading score\",\"reading score\",\"reading score\",\"reading score\",\"reading score\",\"reading score\",\"reading score\",\"reading score\",\"reading score\",\"reading score\",\"reading score\",\"reading score\",\"reading score\",\"reading score\",\"reading score\",\"reading score\",\"reading score\",\"reading score\",\"reading score\",\"reading score\",\"reading score\",\"reading score\",\"reading score\",\"reading score\",\"reading score\",\"reading score\",\"reading score\",\"reading score\",\"reading score\",\"reading score\",\"reading score\",\"reading score\",\"reading score\",\"reading score\",\"reading score\",\"reading score\",\"reading score\",\"reading score\",\"reading score\",\"reading score\",\"reading score\",\"reading score\",\"reading score\",\"reading score\",\"reading score\",\"reading score\",\"reading score\",\"reading score\",\"reading score\",\"reading score\",\"reading score\",\"reading score\",\"reading score\",\"reading score\",\"reading score\",\"reading score\",\"reading score\",\"reading score\",\"reading score\",\"reading score\",\"reading score\",\"reading score\",\"reading score\",\"reading score\",\"reading score\",\"reading score\",\"reading score\",\"reading score\",\"reading score\",\"reading score\",\"reading score\",\"reading score\",\"reading score\",\"reading score\",\"reading score\",\"reading score\",\"reading score\",\"reading score\",\"reading score\",\"reading score\",\"reading score\",\"reading score\",\"reading score\",\"reading score\",\"reading score\",\"reading score\",\"reading score\",\"reading score\",\"reading score\",\"reading score\",\"reading score\",\"reading score\",\"reading score\",\"reading score\",\"reading score\",\"reading score\",\"reading score\",\"reading score\",\"reading score\",\"reading score\",\"reading score\",\"reading score\",\"reading score\",\"reading score\",\"reading score\",\"reading score\",\"reading score\",\"reading score\",\"reading score\",\"reading score\",\"reading score\",\"reading score\",\"reading score\",\"reading score\",\"reading score\",\"reading score\",\"reading score\",\"reading score\",\"reading score\",\"reading score\",\"reading score\",\"reading score\",\"reading score\",\"reading score\",\"reading score\",\"reading score\",\"reading score\",\"reading score\",\"reading score\",\"reading score\",\"reading score\",\"reading score\",\"reading score\",\"reading score\",\"reading score\",\"reading score\",\"reading score\",\"reading score\",\"reading score\",\"reading score\",\"reading score\",\"reading score\",\"reading score\",\"reading score\",\"reading score\",\"reading score\",\"reading score\",\"reading score\",\"reading score\",\"reading score\",\"reading score\",\"reading score\",\"reading score\",\"reading score\",\"reading score\",\"reading score\",\"reading score\",\"reading score\",\"reading score\",\"reading score\",\"reading score\",\"reading score\",\"reading score\",\"reading score\",\"reading score\",\"reading score\",\"reading score\",\"reading score\",\"reading score\",\"reading score\",\"reading score\",\"reading score\",\"reading score\",\"reading score\",\"reading score\",\"reading score\",\"reading score\",\"reading score\",\"reading score\",\"reading score\",\"reading score\",\"reading score\",\"reading score\",\"reading score\",\"reading score\",\"reading score\",\"reading score\",\"reading score\",\"reading score\",\"reading score\",\"reading score\",\"reading score\",\"reading score\",\"reading score\",\"reading score\",\"reading score\",\"reading score\",\"reading score\",\"reading score\",\"reading score\",\"reading score\",\"reading score\",\"reading score\",\"reading score\",\"reading score\",\"reading score\",\"reading score\",\"reading score\",\"reading score\",\"reading score\",\"reading score\",\"reading score\",\"reading score\",\"reading score\",\"reading score\",\"reading score\",\"reading score\",\"reading score\",\"reading score\",\"reading score\",\"reading score\",\"reading score\",\"reading score\",\"reading score\",\"reading score\",\"reading score\",\"reading score\",\"reading score\",\"reading score\",\"reading score\",\"reading score\",\"reading score\",\"reading score\",\"reading score\",\"reading score\",\"reading score\",\"reading score\",\"reading score\",\"reading score\",\"reading score\",\"reading score\",\"reading score\",\"reading score\",\"reading score\",\"reading score\",\"reading score\",\"reading score\",\"reading score\",\"reading score\",\"reading score\",\"reading score\",\"reading score\",\"reading score\",\"reading score\",\"reading score\",\"reading score\",\"reading score\",\"reading score\",\"reading score\",\"reading score\",\"reading score\",\"reading score\",\"reading score\",\"reading score\",\"reading score\",\"reading score\",\"reading score\",\"reading score\",\"reading score\",\"reading score\",\"reading score\",\"reading score\",\"reading score\",\"reading score\",\"reading score\",\"reading score\",\"reading score\",\"reading score\",\"reading score\",\"reading score\",\"reading score\",\"reading score\",\"reading score\",\"reading score\",\"reading score\",\"reading score\",\"reading score\",\"reading score\",\"reading score\",\"reading score\",\"reading score\",\"reading score\",\"reading score\",\"reading score\",\"reading score\",\"reading score\",\"reading score\",\"reading score\",\"reading score\",\"reading score\",\"reading score\",\"reading score\",\"reading score\",\"reading score\",\"reading score\",\"reading score\",\"reading score\",\"reading score\",\"reading score\",\"reading score\",\"reading score\",\"reading score\",\"reading score\",\"reading score\",\"reading score\",\"reading score\",\"reading score\",\"reading score\",\"reading score\",\"reading score\",\"reading score\",\"reading score\",\"reading score\",\"reading score\",\"reading score\",\"reading score\",\"reading score\",\"reading score\",\"reading score\",\"reading score\",\"reading score\",\"reading score\",\"reading score\",\"reading score\",\"reading score\",\"reading score\",\"reading score\",\"reading score\",\"reading score\",\"reading score\",\"reading score\",\"reading score\",\"reading score\",\"reading score\",\"reading score\",\"reading score\",\"reading score\",\"reading score\",\"reading score\",\"reading score\",\"reading score\",\"reading score\",\"reading score\",\"reading score\",\"reading score\",\"reading score\",\"reading score\",\"reading score\",\"reading score\",\"reading score\",\"reading score\",\"reading score\",\"reading score\",\"reading score\",\"reading score\",\"reading score\",\"reading score\",\"reading score\",\"reading score\",\"reading score\",\"reading score\",\"reading score\",\"reading score\",\"reading score\",\"reading score\",\"reading score\",\"reading score\",\"reading score\",\"reading score\",\"reading score\",\"reading score\",\"reading score\",\"reading score\",\"reading score\",\"reading score\",\"reading score\",\"reading score\",\"reading score\",\"reading score\",\"reading score\",\"reading score\",\"reading score\",\"reading score\",\"reading score\",\"reading score\",\"reading score\",\"reading score\",\"reading score\",\"reading score\",\"reading score\",\"reading score\",\"reading score\",\"reading score\",\"reading score\",\"reading score\",\"reading score\",\"reading score\",\"reading score\",\"reading score\",\"reading score\",\"reading score\",\"reading score\",\"reading score\",\"reading score\",\"reading score\",\"reading score\",\"reading score\",\"reading score\",\"reading score\",\"reading score\",\"reading score\",\"reading score\",\"reading score\",\"reading score\",\"reading score\",\"reading score\",\"reading score\",\"reading score\",\"reading score\",\"reading score\",\"reading score\",\"reading score\",\"reading score\",\"reading score\",\"reading score\",\"reading score\",\"reading score\",\"reading score\",\"reading score\",\"reading score\",\"reading score\",\"reading score\",\"reading score\",\"reading score\",\"reading score\",\"reading score\",\"reading score\",\"reading score\",\"reading score\",\"reading score\",\"reading score\",\"reading score\",\"reading score\",\"reading score\",\"reading score\",\"reading score\",\"reading score\",\"reading score\",\"reading score\",\"reading score\",\"reading score\",\"reading score\",\"reading score\",\"reading score\",\"reading score\",\"reading score\",\"reading score\",\"reading score\",\"reading score\",\"reading score\",\"reading score\",\"reading score\",\"reading score\",\"reading score\",\"reading score\",\"reading score\",\"reading score\",\"reading score\",\"reading score\",\"reading score\",\"reading score\",\"reading score\",\"reading score\",\"reading score\",\"reading score\",\"reading score\",\"reading score\",\"reading score\",\"reading score\",\"reading score\",\"reading score\",\"reading score\",\"reading score\",\"reading score\",\"reading score\",\"reading score\",\"reading score\",\"reading score\",\"reading score\",\"reading score\",\"reading score\",\"reading score\",\"reading score\",\"reading score\",\"reading score\",\"reading score\",\"reading score\",\"reading score\",\"reading score\",\"reading score\",\"reading score\",\"reading score\",\"reading score\",\"reading score\",\"reading score\",\"reading score\",\"reading score\",\"reading score\",\"reading score\",\"reading score\",\"reading score\",\"reading score\",\"reading score\",\"reading score\",\"reading score\",\"reading score\",\"reading score\",\"reading score\",\"reading score\",\"reading score\",\"reading score\",\"reading score\",\"reading score\",\"reading score\",\"reading score\",\"reading score\",\"reading score\",\"reading score\",\"reading score\",\"reading score\",\"reading score\",\"reading score\",\"reading score\",\"reading score\",\"reading score\",\"reading score\",\"reading score\",\"reading score\",\"reading score\",\"reading score\",\"reading score\",\"reading score\",\"reading score\",\"reading score\",\"reading score\",\"reading score\",\"reading score\",\"reading score\",\"reading score\",\"reading score\",\"reading score\",\"reading score\",\"reading score\",\"reading score\",\"reading score\",\"reading score\",\"reading score\",\"reading score\",\"reading score\",\"reading score\",\"reading score\",\"reading score\",\"reading score\",\"reading score\",\"writing score\",\"writing score\",\"writing score\",\"writing score\",\"writing score\",\"writing score\",\"writing score\",\"writing score\",\"writing score\",\"writing score\",\"writing score\",\"writing score\",\"writing score\",\"writing score\",\"writing score\",\"writing score\",\"writing score\",\"writing score\",\"writing score\",\"writing score\",\"writing score\",\"writing score\",\"writing score\",\"writing score\",\"writing score\",\"writing score\",\"writing score\",\"writing score\",\"writing score\",\"writing score\",\"writing score\",\"writing score\",\"writing score\",\"writing score\",\"writing score\",\"writing score\",\"writing score\",\"writing score\",\"writing score\",\"writing score\",\"writing score\",\"writing score\",\"writing score\",\"writing score\",\"writing score\",\"writing score\",\"writing score\",\"writing score\",\"writing score\",\"writing score\",\"writing score\",\"writing score\",\"writing score\",\"writing score\",\"writing score\",\"writing score\",\"writing score\",\"writing score\",\"writing score\",\"writing score\",\"writing score\",\"writing score\",\"writing score\",\"writing score\",\"writing score\",\"writing score\",\"writing score\",\"writing score\",\"writing score\",\"writing score\",\"writing score\",\"writing score\",\"writing score\",\"writing score\",\"writing score\",\"writing score\",\"writing score\",\"writing score\",\"writing score\",\"writing score\",\"writing score\",\"writing score\",\"writing score\",\"writing score\",\"writing score\",\"writing score\",\"writing score\",\"writing score\",\"writing score\",\"writing score\",\"writing score\",\"writing score\",\"writing score\",\"writing score\",\"writing score\",\"writing score\",\"writing score\",\"writing score\",\"writing score\",\"writing score\",\"writing score\",\"writing score\",\"writing score\",\"writing score\",\"writing score\",\"writing score\",\"writing score\",\"writing score\",\"writing score\",\"writing score\",\"writing score\",\"writing score\",\"writing score\",\"writing score\",\"writing score\",\"writing score\",\"writing score\",\"writing score\",\"writing score\",\"writing score\",\"writing score\",\"writing score\",\"writing score\",\"writing score\",\"writing score\",\"writing score\",\"writing score\",\"writing score\",\"writing score\",\"writing score\",\"writing score\",\"writing score\",\"writing score\",\"writing score\",\"writing score\",\"writing score\",\"writing score\",\"writing score\",\"writing score\",\"writing score\",\"writing score\",\"writing score\",\"writing score\",\"writing score\",\"writing score\",\"writing score\",\"writing score\",\"writing score\",\"writing score\",\"writing score\",\"writing score\",\"writing score\",\"writing score\",\"writing score\",\"writing score\",\"writing score\",\"writing score\",\"writing score\",\"writing score\",\"writing score\",\"writing score\",\"writing score\",\"writing score\",\"writing score\",\"writing score\",\"writing score\",\"writing score\",\"writing score\",\"writing score\",\"writing score\",\"writing score\",\"writing score\",\"writing score\",\"writing score\",\"writing score\",\"writing score\",\"writing score\",\"writing score\",\"writing score\",\"writing score\",\"writing score\",\"writing score\",\"writing score\",\"writing score\",\"writing score\",\"writing score\",\"writing score\",\"writing score\",\"writing score\",\"writing score\",\"writing score\",\"writing score\",\"writing score\",\"writing score\",\"writing score\",\"writing score\",\"writing score\",\"writing score\",\"writing score\",\"writing score\",\"writing score\",\"writing score\",\"writing score\",\"writing score\",\"writing score\",\"writing score\",\"writing score\",\"writing score\",\"writing score\",\"writing score\",\"writing score\",\"writing score\",\"writing score\",\"writing score\",\"writing score\",\"writing score\",\"writing score\",\"writing score\",\"writing score\",\"writing score\",\"writing score\",\"writing score\",\"writing score\",\"writing score\",\"writing score\",\"writing score\",\"writing score\",\"writing score\",\"writing score\",\"writing score\",\"writing score\",\"writing score\",\"writing score\",\"writing score\",\"writing score\",\"writing score\",\"writing score\",\"writing score\",\"writing score\",\"writing score\",\"writing score\",\"writing score\",\"writing score\",\"writing score\",\"writing score\",\"writing score\",\"writing score\",\"writing score\",\"writing score\",\"writing score\",\"writing score\",\"writing score\",\"writing score\",\"writing score\",\"writing score\",\"writing score\",\"writing score\",\"writing score\",\"writing score\",\"writing score\",\"writing score\",\"writing score\",\"writing score\",\"writing score\",\"writing score\",\"writing score\",\"writing score\",\"writing score\",\"writing score\",\"writing score\",\"writing score\",\"writing score\",\"writing score\",\"writing score\",\"writing score\",\"writing score\",\"writing score\",\"writing score\",\"writing score\",\"writing score\",\"writing score\",\"writing score\",\"writing score\",\"writing score\",\"writing score\",\"writing score\",\"writing score\",\"writing score\",\"writing score\",\"writing score\",\"writing score\",\"writing score\",\"writing score\",\"writing score\",\"writing score\",\"writing score\",\"writing score\",\"writing score\",\"writing score\",\"writing score\",\"writing score\",\"writing score\",\"writing score\",\"writing score\",\"writing score\",\"writing score\",\"writing score\",\"writing score\",\"writing score\",\"writing score\",\"writing score\",\"writing score\",\"writing score\",\"writing score\",\"writing score\",\"writing score\",\"writing score\",\"writing score\",\"writing score\",\"writing score\",\"writing score\",\"writing score\",\"writing score\",\"writing score\",\"writing score\",\"writing score\",\"writing score\",\"writing score\",\"writing score\",\"writing score\",\"writing score\",\"writing score\",\"writing score\",\"writing score\",\"writing score\",\"writing score\",\"writing score\",\"writing score\",\"writing score\",\"writing score\",\"writing score\",\"writing score\",\"writing score\",\"writing score\",\"writing score\",\"writing score\",\"writing score\",\"writing score\",\"writing score\",\"writing score\",\"writing score\",\"writing score\",\"writing score\",\"writing score\",\"writing score\",\"writing score\",\"writing score\",\"writing score\",\"writing score\",\"writing score\",\"writing score\",\"writing score\",\"writing score\",\"writing score\",\"writing score\",\"writing score\",\"writing score\",\"writing score\",\"writing score\",\"writing score\",\"writing score\",\"writing score\",\"writing score\",\"writing score\",\"writing score\",\"writing score\",\"writing score\",\"writing score\",\"writing score\",\"writing score\",\"writing score\",\"writing score\",\"writing score\",\"writing score\",\"writing score\",\"writing score\",\"writing score\",\"writing score\",\"writing score\",\"writing score\",\"writing score\",\"writing score\",\"writing score\",\"writing score\",\"writing score\",\"writing score\",\"writing score\",\"writing score\",\"writing score\",\"writing score\",\"writing score\",\"writing score\",\"writing score\",\"writing score\",\"writing score\",\"writing score\",\"writing score\",\"writing score\",\"writing score\",\"writing score\",\"writing score\",\"writing score\",\"writing score\",\"writing score\",\"writing score\",\"writing score\",\"writing score\",\"writing score\",\"writing score\",\"writing score\",\"writing score\",\"writing score\",\"writing score\",\"writing score\",\"writing score\",\"writing score\",\"writing score\",\"writing score\",\"writing score\",\"writing score\",\"writing score\",\"writing score\",\"writing score\",\"writing score\",\"writing score\",\"writing score\",\"writing score\",\"writing score\",\"writing score\",\"writing score\",\"writing score\",\"writing score\",\"writing score\",\"writing score\",\"writing score\",\"writing score\",\"writing score\",\"writing score\",\"writing score\",\"writing score\",\"writing score\",\"writing score\",\"writing score\",\"writing score\",\"writing score\",\"writing score\",\"writing score\",\"writing score\",\"writing score\",\"writing score\",\"writing score\",\"writing score\",\"writing score\",\"writing score\",\"writing score\",\"writing score\",\"writing score\",\"writing score\",\"writing score\",\"writing score\",\"writing score\",\"writing score\",\"writing score\",\"writing score\",\"writing score\",\"writing score\",\"writing score\",\"writing score\",\"writing score\",\"writing score\",\"writing score\",\"writing score\",\"writing score\",\"writing score\",\"writing score\",\"writing score\",\"writing score\",\"writing score\",\"writing score\",\"writing score\",\"writing score\",\"writing score\",\"writing score\",\"writing score\",\"writing score\",\"writing score\",\"writing score\",\"writing score\",\"writing score\",\"writing score\",\"writing score\",\"writing score\",\"writing score\",\"writing score\",\"writing score\",\"writing score\",\"writing score\",\"writing score\",\"writing score\",\"writing score\",\"writing score\",\"writing score\",\"writing score\",\"writing score\",\"writing score\",\"writing score\",\"writing score\",\"writing score\",\"writing score\",\"writing score\",\"writing score\",\"writing score\",\"writing score\",\"writing score\",\"writing score\",\"writing score\",\"writing score\",\"writing score\",\"writing score\",\"writing score\",\"writing score\",\"writing score\",\"writing score\",\"writing score\",\"writing score\",\"writing score\",\"writing score\",\"writing score\",\"writing score\",\"writing score\",\"writing score\",\"writing score\",\"writing score\",\"writing score\",\"writing score\",\"writing score\",\"writing score\",\"writing score\",\"writing score\",\"writing score\",\"writing score\",\"writing score\",\"writing score\",\"writing score\",\"writing score\",\"writing score\",\"writing score\",\"writing score\",\"writing score\",\"writing score\",\"writing score\",\"writing score\",\"writing score\",\"writing score\",\"writing score\",\"writing score\",\"writing score\",\"writing score\",\"writing score\",\"writing score\",\"writing score\",\"writing score\",\"writing score\",\"writing score\",\"writing score\",\"writing score\",\"writing score\",\"writing score\",\"writing score\",\"writing score\",\"writing score\",\"writing score\",\"writing score\",\"writing score\",\"writing score\",\"writing score\",\"writing score\",\"writing score\",\"writing score\",\"writing score\",\"writing score\",\"writing score\",\"writing score\",\"writing score\",\"writing score\",\"writing score\",\"writing score\",\"writing score\",\"writing score\",\"writing score\",\"writing score\",\"writing score\",\"writing score\",\"writing score\",\"writing score\",\"writing score\",\"writing score\",\"writing score\",\"writing score\",\"writing score\",\"writing score\",\"writing score\",\"writing score\",\"writing score\",\"writing score\",\"writing score\",\"writing score\",\"writing score\",\"writing score\",\"writing score\",\"writing score\",\"writing score\",\"writing score\",\"writing score\",\"writing score\",\"writing score\",\"writing score\",\"writing score\",\"writing score\",\"writing score\",\"writing score\",\"writing score\",\"writing score\",\"writing score\",\"writing score\",\"writing score\",\"writing score\",\"writing score\",\"writing score\",\"writing score\",\"writing score\",\"writing score\",\"writing score\",\"writing score\",\"writing score\",\"writing score\",\"writing score\",\"writing score\",\"writing score\",\"writing score\",\"writing score\",\"writing score\",\"writing score\",\"writing score\",\"writing score\",\"writing score\",\"writing score\",\"writing score\",\"writing score\",\"writing score\",\"writing score\",\"writing score\",\"writing score\",\"writing score\",\"writing score\",\"writing score\",\"writing score\",\"writing score\",\"writing score\",\"writing score\",\"writing score\",\"writing score\",\"writing score\",\"writing score\",\"writing score\",\"writing score\",\"writing score\",\"writing score\",\"writing score\",\"writing score\",\"writing score\",\"writing score\",\"writing score\",\"writing score\",\"writing score\",\"writing score\",\"writing score\",\"writing score\",\"writing score\",\"writing score\",\"writing score\",\"writing score\",\"writing score\",\"writing score\",\"writing score\",\"writing score\",\"writing score\",\"writing score\",\"writing score\",\"writing score\",\"writing score\",\"writing score\",\"writing score\",\"writing score\",\"writing score\",\"writing score\",\"writing score\",\"writing score\",\"writing score\",\"writing score\",\"writing score\",\"writing score\",\"writing score\",\"writing score\",\"writing score\",\"writing score\",\"writing score\",\"writing score\",\"writing score\",\"writing score\",\"writing score\",\"writing score\",\"writing score\",\"writing score\",\"writing score\",\"writing score\",\"writing score\",\"writing score\",\"writing score\",\"writing score\",\"writing score\",\"writing score\",\"writing score\",\"writing score\",\"writing score\",\"writing score\",\"writing score\",\"writing score\",\"writing score\",\"writing score\",\"writing score\",\"writing score\",\"writing score\",\"writing score\",\"writing score\",\"writing score\",\"writing score\",\"writing score\",\"writing score\",\"writing score\",\"writing score\",\"writing score\",\"writing score\",\"writing score\",\"writing score\",\"writing score\",\"writing score\",\"writing score\",\"writing score\",\"writing score\",\"writing score\",\"writing score\",\"writing score\",\"writing score\",\"writing score\",\"writing score\",\"writing score\",\"writing score\",\"writing score\",\"writing score\",\"writing score\",\"writing score\",\"writing score\",\"writing score\",\"writing score\",\"writing score\",\"writing score\",\"writing score\",\"writing score\",\"writing score\",\"writing score\",\"writing score\",\"writing score\",\"writing score\",\"writing score\",\"writing score\",\"writing score\",\"writing score\",\"writing score\",\"writing score\",\"writing score\",\"writing score\",\"writing score\",\"writing score\",\"writing score\",\"writing score\",\"writing score\",\"writing score\",\"writing score\",\"writing score\",\"writing score\",\"writing score\",\"writing score\",\"writing score\",\"writing score\",\"writing score\",\"writing score\",\"writing score\",\"writing score\",\"writing score\",\"writing score\",\"writing score\",\"writing score\",\"writing score\",\"writing score\",\"writing score\",\"writing score\",\"writing score\",\"writing score\",\"writing score\",\"writing score\",\"writing score\",\"writing score\",\"writing score\",\"writing score\",\"writing score\",\"writing score\",\"writing score\",\"writing score\",\"writing score\",\"writing score\",\"writing score\",\"writing score\",\"writing score\",\"writing score\",\"writing score\",\"writing score\",\"writing score\",\"writing score\",\"writing score\",\"writing score\",\"writing score\",\"writing score\",\"writing score\",\"writing score\",\"writing score\",\"writing score\",\"writing score\",\"writing score\",\"writing score\",\"writing score\",\"writing score\",\"writing score\",\"writing score\",\"writing score\",\"writing score\",\"writing score\",\"writing score\",\"writing score\",\"writing score\",\"writing score\",\"writing score\",\"writing score\",\"writing score\",\"writing score\",\"writing score\",\"writing score\",\"writing score\",\"writing score\",\"writing score\",\"writing score\",\"writing score\",\"writing score\",\"writing score\",\"writing score\"],\"x0\":\" \",\"xaxis\":\"x\",\"y\":[3.22,5.8,5.38,5.86,6.64,5.26,5.5,3.04,4.78,6.64,4.9,4.12,4.72,5.44,4.72,5.38,3.76,5.92,4.78,4.84,5.8,6.58,5.14,3.76,6.16,4.54,6.04,4.84,5.38,5.98,5.5,5.14,5.08,4.42,4.96,4.66,3.4,4.0,3.88,3.16,5.68,4.42,5.14,3.4,6.52,3.1,4.78,5.38,4.78,4.12,5.38,4.78,5.26,3.7,6.1,5.8,5.62,6.46,4.6,4.78,3.4,4.42,4.48,6.82,5.86,5.08,4.54,6.76,6.22,4.42,6.64,6.82,4.9,5.92,5.32,4.72,3.64,5.92,5.5,4.54,5.5,5.32,5.08,4.96,5.02,6.58,5.14,4.78,3.76,4.96,4.72,3.88,5.26,4.24,5.8,4.3,6.4,6.64,5.86,4.18,4.66,5.5,5.44,4.72,5.2,4.54,4.72,4.18,5.8,5.14,5.14,5.14,3.94,5.98,4.9,5.38,5.08,4.84,4.9,3.94,4.48,4.96,4.9,4.9,5.2,5.74,4.0,4.84,5.08,2.92,5.08,4.48,2.14,5.14,5.32,4.18,4.66,5.68,4.18,3.7,3.64,5.98,4.9,6.28,6.28,6.46,6.04,4.06,3.2800000000000002,3.8200000000000003,4.96,4.66,4.6,5.26,3.7,5.62,4.18,4.42,5.32,5.5600000000000005,3.7,6.94,4.06,4.84,4.12,5.8,4.06,4.0,4.84,5.44,5.26,4.42,5.14,5.62,5.5,3.58,5.8,4.54,6.1,4.3,3.64,3.52,4.48,4.66,4.0,6.28,5.38,5.02,6.82,4.66,4.72,4.24,4.96,5.68,6.1,6.04,5.5600000000000005,3.64,5.86,4.24,4.48,5.86,5.32,5.26,4.66,4.96,5.26,5.26,6.34,5.38,5.86,3.76,2.32,3.88,3.64,6.46,5.5600000000000005,5.62,4.72,5.02,6.16,4.48,4.18,4.42,5.14,4.72,3.22,6.28,6.4,5.08,4.9,4.78,4.12,3.88,4.9,4.24,2.74,2.56,5.2,5.5,4.6,6.88,6.58,4.54,3.76,5.5600000000000005,5.74,2.68,4.3,4.66,3.1,6.64,3.76,7.0,5.02,4.0,5.74,5.26,5.98,4.3,3.88,5.5600000000000005,5.62,4.72,4.36,5.08,6.04,5.8,4.72,4.6,4.84,2.74,4.12,4.18,5.02,5.92,4.36,5.74,5.38,4.96,5.38,4.96,6.04,5.44,5.5600000000000005,5.86,5.74,5.08,4.78,4.0,5.32,6.1,5.98,6.04,4.9,6.1,5.2,4.48,6.16,4.84,4.9,4.66,3.94,4.18,6.82,5.5,5.32,5.44,4.54,5.08,5.68,4.18,5.32,6.94,5.74,6.46,5.98,5.32,4.66,5.38,4.54,7.0,4.66,5.62,5.26,3.94,4.72,6.16,5.5,3.8200000000000003,4.78,5.2,5.08,4.66,5.26,5.86,7.0,5.62,4.18,5.26,5.38,4.9,3.94,4.12,4.9,4.54,5.8,4.72,4.42,3.76,4.48,5.02,5.38,5.32,3.4,5.68,4.78,4.66,5.74,5.62,5.2,4.18,3.7,3.4,5.92,5.68,5.5,5.2,4.3,5.2,2.8,5.5,4.78,5.92,5.44,4.24,5.26,5.38,5.62,5.62,6.22,6.22,5.44,5.02,3.58,3.94,3.94,4.18,4.84,4.66,5.74,5.14,4.24,4.9,5.62,4.48,5.38,4.24,4.24,4.84,4.54,5.5600000000000005,6.1,6.82,4.18,4.12,5.62,5.74,4.42,4.96,4.78,4.9,5.08,4.3,5.32,6.16,6.82,5.5,4.12,5.44,5.2,3.34,4.66,3.64,6.22,4.96,5.08,4.72,5.86,5.2,5.44,5.5600000000000005,4.54,5.08,5.38,7.0,1.48,4.9,3.4,3.88,6.34,5.62,4.9,5.14,5.08,3.94,4.72,4.36,3.76,4.6,6.46,6.4,5.38,5.2,3.8200000000000003,4.9,5.86,4.3,6.58,4.9,4.72,3.88,5.08,4.96,4.3,3.52,5.44,3.22,4.96,6.28,5.14,4.66,3.34,6.22,4.84,3.64,4.54,5.8,5.26,4.18,5.68,4.3,5.2,4.9,6.16,4.24,3.46,6.4,4.54,4.9,5.02,6.34,4.54,5.38,5.44,6.16,4.66,4.42,4.48,3.7,4.78,5.02,6.64,4.36,4.72,5.2,5.2,5.5600000000000005,4.84,3.8200000000000003,4.96,3.4,4.96,5.08,4.06,6.28,6.4,4.12,3.94,4.18,5.26,4.0,4.48,3.52,5.02,3.34,6.1,5.68,5.38,5.08,6.34,3.4,5.92,5.62,5.14,5.74,4.18,3.58,4.48,6.28,5.14,6.1,5.14,5.32,4.42,4.48,4.72,5.5,6.28,5.86,5.02,5.02,5.44,5.26,6.1,4.36,5.92,4.6,5.86,6.22,3.76,4.48,4.72,5.5600000000000005,4.6,4.0,5.62,4.84,4.66,4.6,5.02,4.84,6.4,4.18,3.88,4.6,5.92,4.48,4.6,4.96,6.1,3.94,5.62,5.02,5.14,4.0,4.72,5.98,5.86,5.32,6.52,5.26,6.28,5.92,5.26,5.5,4.06,4.72,5.5,4.78,5.26,5.02,5.26,4.66,4.36,6.88,5.92,5.5,4.54,5.26,3.64,5.62,4.9,4.42,4.6,2.62,4.48,5.2,3.2800000000000002,3.52,7.0,6.34,3.1,5.62,4.72,5.74,3.76,4.54,4.96,3.8200000000000003,5.62,5.68,4.12,5.2,4.48,5.08,5.14,6.22,4.12,5.32,6.1,3.46,4.66,5.02,4.24,4.78,4.12,4.72,4.48,4.72,4.9,5.44,5.74,5.08,4.78,4.12,4.54,4.3,4.96,5.44,6.46,5.44,5.86,5.74,6.4,4.24,5.68,6.28,4.72,5.8,5.8,5.26,5.5,4.6,6.28,4.3,4.0,3.52,5.14,3.52,4.48,2.44,5.02,4.54,4.54,6.76,3.7,6.28,5.32,4.66,5.86,5.74,3.8200000000000003,3.94,4.24,5.26,4.54,6.34,4.54,4.42,5.62,5.62,4.6,5.5600000000000005,2.92,3.94,5.5600000000000005,4.84,4.78,4.0,3.64,4.96,5.02,4.66,5.14,4.9,4.18,6.22,4.18,4.96,3.94,5.02,4.3,2.8,5.38,4.72,5.74,4.78,4.12,4.48,5.68,5.44,5.08,5.92,5.38,4.54,5.44,6.04,5.02,6.22,5.62,4.48,5.14,4.9,6.52,6.22,5.14,5.38,4.66,5.02,5.14,5.44,4.84,3.16,3.46,3.94,4.54,6.04,5.5600000000000005,4.66,4.72,5.02,4.24,4.54,5.08,6.46,6.76,5.08,5.44,5.26,3.1,5.86,4.18,5.8,5.5600000000000005,4.78,4.42,4.48,5.32,4.3,5.8,3.46,4.06,6.1,5.86,4.12,2.08,5.38,4.78,4.54,4.78,4.78,5.8,4.6,4.84,6.88,4.54,4.9,6.22,4.96,4.12,5.38,6.22,5.74,5.14,3.8200000000000003,6.52,4.42,6.28,5.74,5.26,5.86,4.9,5.92,4.9,3.4,5.38,4.36,5.14,5.02,6.46,5.02,4.9,4.48,4.3,3.88,4.18,6.1,4.72,4.9,5.92,5.62,4.0,5.14,1.0,4.9,5.14,5.32,7.0,4.9,3.8200000000000003,4.06,5.26,5.92,4.3,5.5,4.96,5.32,5.2,4.42,6.04,4.66,3.7,4.9,2.62,6.28,4.9,4.78,5.68,4.9,6.4,7.0,5.02,5.44,5.5600000000000005,4.96,4.54,4.72,3.46,2.74,5.14,2.38,4.96,4.24,5.08,3.76,5.68,4.96,5.5,6.16,4.66,5.08,3.88,4.66,5.38,5.68,5.5600000000000005,4.9,5.44,4.42,5.14,3.52,5.92,4.66,5.38,5.5,7.0,5.5600000000000005,4.66,5.86,5.32,5.98,4.84,5.5600000000000005,6.16,6.28,5.44,5.32,4.66,4.84,4.66,4.54,5.02,4.72,2.74,5.74,5.02,4.48,4.3,6.22,2.68,5.02,5.44,4.84,4.54,5.74,5.38,4.6,4.54,6.52,5.5600000000000005,6.64,6.1,4.72,3.88,3.88,4.24,4.24,5.92,5.92,4.9,5.26,6.4,6.04,5.5,6.28,6.58,5.86,6.58,4.42,5.44,4.24,6.04,6.4,3.46,5.38,5.08,5.68,5.44,4.72,6.4,4.78,5.44,4.84,5.08,5.38,4.36,5.2,5.32,5.98,4.54,6.22,6.94,5.38,3.58,5.08,6.1,5.86,5.32,5.68,4.06,5.32,4.0,6.1,4.96,5.68,5.62,3.7,6.58,4.66,4.84,5.98,4.96,5.62,4.42,5.02,5.68,5.2,5.74,5.08,5.86,5.02,4.24,4.6,4.06,4.06,4.42,3.2800000000000002,5.62,5.74,4.48,4.06,5.32,4.72,4.36,4.06,5.98,5.5600000000000005,5.68,6.7,6.34,6.22,4.96,3.94,4.18,4.42,5.38,5.08,5.26,4.78,6.16,4.48,4.06,4.84,5.26,3.88,6.58,5.32,4.6,4.66,5.38,4.24,3.88,5.38,5.44,5.62,5.44,5.2,6.4,5.44,4.06,5.08,5.32,5.86,5.5600000000000005,4.78,4.72,4.54,3.8200000000000003,4.96,5.44,5.68,6.16,7.0,4.48,4.84,4.78,5.26,6.46,5.5,6.04,6.64,4.66,6.04,3.94,4.78,5.92,5.86,3.94,3.52,5.62,5.5600000000000005,4.96,6.28,5.98,5.86,3.04,3.34,4.12,4.84,5.86,5.8,5.68,5.32,4.84,5.86,5.2,4.12,4.48,5.38,4.96,4.42,6.34,5.5,5.2,5.5,5.14,4.42,3.58,4.24,4.24,3.46,2.86,5.5,5.44,4.42,6.22,6.04,4.24,4.24,4.84,6.28,2.38,5.26,4.42,4.18,6.1,4.48,7.0,5.8,3.8200000000000003,6.04,5.86,5.92,4.84,4.48,5.38,5.62,5.68,5.08,6.16,5.62,5.5,5.2,4.96,4.72,3.4,4.9,4.66,4.66,6.7,5.74,5.5600000000000005,5.08,5.44,6.16,4.9,5.38,5.62,5.26,5.32,6.34,5.26,5.68,4.36,4.9,6.52,5.68,6.7,5.62,6.16,5.2,4.78,5.8,5.92,5.86,4.3,4.06,4.06,6.82,5.32,5.38,5.74,5.02,5.08,5.62,4.48,4.42,7.0,6.34,5.38,5.32,5.74,4.72,5.44,4.24,6.76,4.96,5.74,5.02,4.18,4.66,6.52,5.86,4.54,5.5,5.5,4.78,4.36,4.96,6.82,7.0,6.4,3.64,5.98,5.08,5.92,3.94,4.54,5.5,4.6,4.84,3.94,3.58,3.58,5.38,4.24,4.96,5.32,3.58,5.98,4.9,5.32,5.44,5.92,6.04,4.24,4.18,4.48,6.1,5.32,4.96,4.84,4.3,6.34,2.56,6.04,4.84,5.92,5.86,4.54,6.04,6.04,6.28,6.28,6.04,5.44,5.38,4.84,4.72,4.12,4.9,4.24,4.18,6.16,6.52,5.26,4.12,6.16,6.46,4.66,5.5600000000000005,4.84,4.18,4.48,5.32,5.44,6.04,6.52,5.2,4.3,5.5600000000000005,5.32,5.62,5.14,5.38,6.1,5.02,4.48,4.96,5.5600000000000005,6.22,5.08,3.94,5.2,5.92,4.12,5.44,4.0,6.04,4.9,5.62,5.02,4.96,4.78,5.5,5.68,5.2,5.08,4.96,7.0,2.44,4.84,4.9,4.96,6.04,5.92,5.38,5.62,5.32,4.06,5.14,5.08,4.36,4.06,6.7,6.4,4.36,5.32,3.94,4.9,5.62,3.76,7.0,5.2,4.66,3.7,4.54,5.14,3.76,4.3,5.62,4.36,4.78,5.68,5.62,5.26,4.84,7.0,4.78,3.46,5.68,5.74,6.22,4.48,5.86,5.38,5.2,5.14,5.38,4.12,4.06,6.4,4.48,5.86,5.74,6.04,4.78,5.26,6.4,5.98,4.48,5.68,4.12,3.22,4.78,5.38,6.22,4.12,4.96,4.9,5.44,5.98,5.44,4.24,5.44,4.12,5.44,5.44,2.86,6.04,6.7,4.42,4.18,4.12,5.44,3.88,4.3,4.12,4.42,3.34,6.4,5.44,5.68,5.2,7.0,3.52,5.02,6.1,6.04,6.16,4.72,3.7,4.3,5.62,5.2,6.46,4.6,5.8,4.0,4.66,4.78,5.62,6.94,6.46,5.68,5.14,5.74,5.44,6.04,4.24,4.72,4.84,5.5,6.1,3.58,5.08,4.3,5.32,5.08,3.52,6.34,4.0,5.08,4.54,4.42,5.38,6.1,3.7,4.36,5.2,6.4,5.02,5.5,4.54,6.7,4.12,5.14,5.5600000000000005,5.74,4.6,4.36,6.1,5.26,5.74,7.0,5.2,6.94,6.58,5.14,5.92,3.94,4.3,5.86,4.3,5.98,5.32,5.98,4.36,4.66,6.16,6.04,6.28,4.72,5.5,3.7,5.08,5.5600000000000005,3.88,4.6,3.04,4.0,4.84,3.58,4.96,6.52,5.5600000000000005,3.64,4.72,4.84,5.92,3.46,5.2,5.62,3.22,5.08,5.62,3.88,5.26,4.42,4.24,5.32,6.64,4.18,5.8,6.34,3.34,5.26,6.34,3.88,4.78,4.48,4.3,4.6,5.02,5.62,6.28,5.38,5.08,5.8,5.2,3.52,3.8200000000000003,4.6,5.5600000000000005,6.16,4.78,5.44,5.92,5.68,4.48,5.92,6.52,5.02,6.16,4.78,5.74,6.16,5.32,5.5,4.66,4.6,4.66,5.5,3.34,5.5,3.2800000000000002,6.04,4.72,4.72,6.76,3.8200000000000003,6.1,5.02,5.02,5.8,6.1,4.72,4.48,4.6,5.26,4.48,6.22,6.1,4.48,5.02,5.02,4.78,5.68,3.04,4.42,4.72,5.5600000000000005,5.68,4.18,4.06,4.72,6.04,4.6,6.04,5.38,5.32,6.4,4.96,5.98,4.9,5.44,5.32,2.44,6.52,4.72,4.6,4.42,4.9,5.5600000000000005,6.4,6.34,5.5600000000000005,6.82,5.2,4.96,6.16,5.98,6.16,6.7,6.82,4.06,4.96,4.96,7.0,5.44,4.24,5.02,4.6,5.86,6.4,5.86,4.6,4.18,4.12,4.48,5.14,6.22,5.98,5.32,5.02,5.5,4.84,4.78,5.02,5.44,7.0,4.84,5.5,5.5600000000000005,4.66,5.68,3.22,5.5600000000000005,5.2,5.26,5.08,5.2,4.96,4.9,6.52,4.3,4.36,5.5600000000000005,6.52,4.54,2.92,5.74,5.02,5.38,4.6,5.38,6.4,3.64,4.36,7.0,5.26,5.14,6.46,5.5600000000000005,4.3,5.5,6.04,5.02,4.6,4.48,5.74,5.14,6.7,5.68,4.72,5.86,5.86,5.68,5.14,3.76,5.8,5.32,4.48,5.32,6.76,5.5,5.44,4.54,3.46,4.48,4.66,4.96,5.02,6.04,5.92,4.72,4.84,4.9,2.02,5.02,6.16,5.02,7.0,4.48,4.42,4.06,5.44,5.92,4.9,5.92,4.96,5.32,4.3,4.36,6.34,3.88,4.12,4.54,3.04,5.38,5.92,4.96,5.86,5.32,6.22,6.82,5.44,5.5,5.02,5.32,4.84,5.5600000000000005,3.76,2.74,5.5,3.64,5.44,4.66,5.8,3.76,5.86,4.78,5.5600000000000005,6.22,5.14,4.84,3.46,4.66,5.26,5.92,5.2,4.48,5.32,4.72,5.08,3.76,5.44,4.6,5.08,5.62,7.0,5.44,4.3,5.8,5.2,5.5,5.02,5.68,6.28,6.1,5.44,4.9,4.24,4.72,4.72,4.24,4.78,4.6,2.62,5.5600000000000005,5.32,4.42,4.18,5.68,2.62,5.2,4.66,5.02,4.9,5.74,5.26,4.66,4.84,6.1,4.9,6.7,6.1,4.6,3.8200000000000003,4.0,4.36,4.12,6.28,5.92,4.66,4.9,6.52,6.16,5.38,5.68,6.46,5.86,6.58,4.48,5.2,4.18,5.68,6.28,3.52,5.44,5.02,5.62,5.68,4.6,5.98,4.66,5.44,4.96,4.84,5.2,4.06,5.2,4.54,5.98,4.24,6.1,7.0,5.32,3.58,4.78,5.92,5.26,4.9,5.68,3.58,5.44,4.6,6.1,4.66,5.5600000000000005,5.62,3.7,6.7,5.26,4.42,5.68,4.54,5.44,3.76,4.72,5.68,5.44,5.86,5.32,5.92,5.38,4.0,4.54,3.64,4.42,4.24,2.92,5.38,5.44,4.42,4.12,5.14,4.18,4.24,3.88,6.4,5.5,5.98,6.64,6.52,6.46,4.72,3.7,4.48,4.12,4.78,4.6,5.44,4.54,6.16,4.3,4.24,4.78,5.38,3.76,6.4,5.74,4.48,4.96,5.32,3.46,3.52,5.2,5.32,5.62,5.5600000000000005,5.02,6.1,4.96,4.24,5.32,5.08,6.1,5.5600000000000005,4.72,4.6,4.48,4.36,4.84,5.5,5.32,5.98,7.0,4.36,4.96,5.02,5.5600000000000005,6.76,5.08,5.8,6.22,4.12,5.92,3.8200000000000003,4.9,6.04,5.74,4.12,3.46,5.38,5.98,4.9,5.92,5.5600000000000005,5.74,3.16,2.98,3.7,4.48,5.74,5.38,5.38,5.2,4.66,5.5,5.08,3.94,4.84,5.38,5.08,4.36,6.16,5.14,4.96,5.2,5.44,4.36,3.7,4.42,3.7,3.8200000000000003,3.2800000000000002,5.68,5.14,4.06,6.4,6.4,4.06,4.48,4.96,6.64,2.14,5.14,4.36,3.76,5.92,4.42,7.0,5.86,4.24,6.46,5.8,6.04,5.2,4.12,5.08,5.38,5.74,5.2,6.04,5.44,5.14,5.5,5.2,5.08,3.64,5.14,5.08,5.08,6.34,5.32,4.9,4.96,5.14,5.92,5.14,5.14,5.38,5.32,5.62,6.16,5.5,5.8,4.24,5.08,6.58,5.38,6.52,5.44,6.88,5.2,5.38,5.5,5.62,5.86,4.12,4.06,4.06,6.76,4.72,5.44,5.5,4.66,5.02,5.62,3.64,4.72,7.0,6.34,5.8,5.68,5.62,4.66,5.32,5.02,6.16,4.66,5.8,5.02,4.18,4.3,6.22,5.26,4.0,5.86,5.44,4.24,4.3,4.6,6.76,6.58,6.46,3.52,5.98,4.96,5.86,3.46,4.36,5.62,4.48,4.96,4.12,3.8200000000000003,3.46,5.08,4.78,4.72,5.26,3.34,5.8,4.66,5.2,5.32,6.34,5.86,3.88,4.3,4.24,6.16,5.2,5.38,5.32,3.8200000000000003,6.28,2.32,5.8,4.96,5.8,5.98,4.0,6.22,6.1,6.22,6.1,6.22,5.2,5.02,5.2,4.66,4.06,4.66,3.88,4.42,6.22,6.34,4.9,4.12,5.8,6.28,4.12,5.8,5.08,3.8200000000000003,4.06,5.8,5.38,6.34,6.16,5.2,4.42,5.62,5.14,5.8,4.78,5.68,5.5600000000000005,5.38,4.12,4.96,5.44,5.92,4.9,3.76,5.14,5.5600000000000005,3.76,5.32,4.06,6.1,4.6,5.8,4.48,4.84,4.48,5.98,5.8,4.96,4.84,4.96,7.0,2.38,4.72,4.84,4.9,5.92,6.46,5.5,5.14,4.84,3.58,5.14,5.44,4.42,4.36,6.64,6.46,4.42,5.5600000000000005,4.0,4.78,5.74,3.64,6.7,5.26,4.42,3.46,4.72,5.08,3.58,4.24,5.5600000000000005,3.8200000000000003,4.84,5.5,5.68,5.38,4.42,6.7,4.96,3.2800000000000002,5.5600000000000005,5.74,5.92,4.9,6.16,5.38,4.9,5.5600000000000005,5.2,4.06,3.88,5.92,4.54,5.38,6.04,5.62,5.5,5.08,6.28,6.16,4.72,5.74,4.24,3.22,4.72,5.08,6.52,4.3,5.08,4.6,5.26,6.28,5.5,4.18,5.38,3.58,5.86,5.44,3.16,5.5,6.58,4.0,4.12,3.52,4.84,4.18,4.18,4.06,4.18,3.04,6.52,5.32,5.5600000000000005,4.96,7.0,3.2800000000000002,4.66,6.22,6.1,6.52,4.36,4.0,3.88,5.62,4.78,6.34,4.24,5.98,4.24,4.96,4.36,5.98,7.0,6.22,5.74,5.5,5.92,5.08,5.68,4.12,4.72,5.44,5.68,6.58,3.64,4.66,4.3,5.26,5.32,3.88,6.88,3.58,4.96,4.24,4.54,5.26,6.04,3.4,4.48,5.2,6.64,5.32,5.44,4.12,7.0,4.24,5.08,5.5,5.86,4.54,4.18,6.4,5.38,5.92,7.0,5.5600000000000005,6.7,6.58,5.08,5.74,4.06,3.94,6.04,4.78,5.68,5.44,5.62,4.36,4.6,6.4,5.92,6.1,4.84,5.2,3.7,5.14,5.5600000000000005,4.06,4.6,3.16,3.7,5.2,3.58,5.14,6.82,5.44,3.58,4.72,4.84,5.92,3.58,4.9,5.2,3.1,5.62,5.8,3.94,5.44,4.18,4.18,5.62,6.7,3.94,5.5,6.7,3.04,5.68,5.92,4.12,4.6,4.48,4.24,4.42,5.02,5.44,6.4,5.02,4.66,5.8,4.72,3.46,3.64,4.42,5.38,6.04,4.42,5.26,5.38,5.86,4.66,5.74,6.7,4.72,5.98,4.78,5.26,5.74,5.44,5.5600000000000005,4.24,4.6,4.48,5.68,3.04,5.62,2.62,6.16,5.14,4.66,6.94,3.94,5.5600000000000005,4.9,4.96,5.5600000000000005,6.16,4.96,4.3,4.78,5.8,3.8200000000000003,5.74,5.8,4.42,4.84,5.08,4.54,5.5,3.2800000000000002,4.12,4.96,5.44,5.74,4.3,4.3,4.84,5.86,4.3,5.92,5.08,4.84,6.28,5.38,5.98,4.3,5.62,5.74,1.9,6.04,4.78,4.9,4.36,4.66,5.68,6.58,6.04,5.02,6.76,5.5,5.02,6.34,5.68,5.98,6.16,6.64,4.12,4.6,4.72,6.94,5.5600000000000005,4.3,4.54,4.42,5.74,6.28,5.5600000000000005,5.44,3.58,4.06,4.6,4.9,5.86,5.74,5.2,4.66,5.2,5.02,4.84,5.14,5.5600000000000005,7.0,4.96,5.92,5.2,4.24,5.68,3.4,4.84,5.14,5.14,5.38,5.02,5.32,4.72,6.28,4.06,4.18,5.26,6.46,4.72,2.68,6.04,5.02,5.14,4.42,5.08,5.92,3.8200000000000003,4.12,6.94,5.2,5.02,5.86,5.08,3.94,5.8,5.5600000000000005,5.02,4.78,5.02,6.04,5.08,6.52,5.62,4.0,6.04,5.62,5.44,5.2,4.0,5.92,4.9,4.18,5.02,6.46,5.32,5.62,4.96,3.88,4.24,4.72,5.26,4.84,6.04,5.8,4.84,4.54,5.44,1.6,4.72,5.86,4.84,7.0,3.94,3.64,4.24,5.08,6.28,4.72,6.4,4.54,5.44,4.36,4.24,6.4,3.76,3.94,4.18,2.92,5.68,5.68,5.02,5.92,5.44,5.5,6.94,5.2,5.74,5.02,5.2,5.5,5.8,3.58,2.8,5.26,3.16,5.86,4.72,5.5600000000000005],\"y0\":\" \",\"yaxis\":\"y\"}],                        {\"boxmode\":\"group\",\"legend\":{\"tracegroupgap\":0},\"margin\":{\"t\":60},\"template\":{\"data\":{\"bar\":[{\"error_x\":{\"color\":\"#2a3f5f\"},\"error_y\":{\"color\":\"#2a3f5f\"},\"marker\":{\"line\":{\"color\":\"#E5ECF6\",\"width\":0.5},\"pattern\":{\"fillmode\":\"overlay\",\"size\":10,\"solidity\":0.2}},\"type\":\"bar\"}],\"barpolar\":[{\"marker\":{\"line\":{\"color\":\"#E5ECF6\",\"width\":0.5},\"pattern\":{\"fillmode\":\"overlay\",\"size\":10,\"solidity\":0.2}},\"type\":\"barpolar\"}],\"carpet\":[{\"aaxis\":{\"endlinecolor\":\"#2a3f5f\",\"gridcolor\":\"white\",\"linecolor\":\"white\",\"minorgridcolor\":\"white\",\"startlinecolor\":\"#2a3f5f\"},\"baxis\":{\"endlinecolor\":\"#2a3f5f\",\"gridcolor\":\"white\",\"linecolor\":\"white\",\"minorgridcolor\":\"white\",\"startlinecolor\":\"#2a3f5f\"},\"type\":\"carpet\"}],\"choropleth\":[{\"colorbar\":{\"outlinewidth\":0,\"ticks\":\"\"},\"type\":\"choropleth\"}],\"contour\":[{\"colorbar\":{\"outlinewidth\":0,\"ticks\":\"\"},\"colorscale\":[[0.0,\"#0d0887\"],[0.1111111111111111,\"#46039f\"],[0.2222222222222222,\"#7201a8\"],[0.3333333333333333,\"#9c179e\"],[0.4444444444444444,\"#bd3786\"],[0.5555555555555556,\"#d8576b\"],[0.6666666666666666,\"#ed7953\"],[0.7777777777777778,\"#fb9f3a\"],[0.8888888888888888,\"#fdca26\"],[1.0,\"#f0f921\"]],\"type\":\"contour\"}],\"contourcarpet\":[{\"colorbar\":{\"outlinewidth\":0,\"ticks\":\"\"},\"type\":\"contourcarpet\"}],\"heatmap\":[{\"colorbar\":{\"outlinewidth\":0,\"ticks\":\"\"},\"colorscale\":[[0.0,\"#0d0887\"],[0.1111111111111111,\"#46039f\"],[0.2222222222222222,\"#7201a8\"],[0.3333333333333333,\"#9c179e\"],[0.4444444444444444,\"#bd3786\"],[0.5555555555555556,\"#d8576b\"],[0.6666666666666666,\"#ed7953\"],[0.7777777777777778,\"#fb9f3a\"],[0.8888888888888888,\"#fdca26\"],[1.0,\"#f0f921\"]],\"type\":\"heatmap\"}],\"heatmapgl\":[{\"colorbar\":{\"outlinewidth\":0,\"ticks\":\"\"},\"colorscale\":[[0.0,\"#0d0887\"],[0.1111111111111111,\"#46039f\"],[0.2222222222222222,\"#7201a8\"],[0.3333333333333333,\"#9c179e\"],[0.4444444444444444,\"#bd3786\"],[0.5555555555555556,\"#d8576b\"],[0.6666666666666666,\"#ed7953\"],[0.7777777777777778,\"#fb9f3a\"],[0.8888888888888888,\"#fdca26\"],[1.0,\"#f0f921\"]],\"type\":\"heatmapgl\"}],\"histogram\":[{\"marker\":{\"pattern\":{\"fillmode\":\"overlay\",\"size\":10,\"solidity\":0.2}},\"type\":\"histogram\"}],\"histogram2d\":[{\"colorbar\":{\"outlinewidth\":0,\"ticks\":\"\"},\"colorscale\":[[0.0,\"#0d0887\"],[0.1111111111111111,\"#46039f\"],[0.2222222222222222,\"#7201a8\"],[0.3333333333333333,\"#9c179e\"],[0.4444444444444444,\"#bd3786\"],[0.5555555555555556,\"#d8576b\"],[0.6666666666666666,\"#ed7953\"],[0.7777777777777778,\"#fb9f3a\"],[0.8888888888888888,\"#fdca26\"],[1.0,\"#f0f921\"]],\"type\":\"histogram2d\"}],\"histogram2dcontour\":[{\"colorbar\":{\"outlinewidth\":0,\"ticks\":\"\"},\"colorscale\":[[0.0,\"#0d0887\"],[0.1111111111111111,\"#46039f\"],[0.2222222222222222,\"#7201a8\"],[0.3333333333333333,\"#9c179e\"],[0.4444444444444444,\"#bd3786\"],[0.5555555555555556,\"#d8576b\"],[0.6666666666666666,\"#ed7953\"],[0.7777777777777778,\"#fb9f3a\"],[0.8888888888888888,\"#fdca26\"],[1.0,\"#f0f921\"]],\"type\":\"histogram2dcontour\"}],\"mesh3d\":[{\"colorbar\":{\"outlinewidth\":0,\"ticks\":\"\"},\"type\":\"mesh3d\"}],\"parcoords\":[{\"line\":{\"colorbar\":{\"outlinewidth\":0,\"ticks\":\"\"}},\"type\":\"parcoords\"}],\"pie\":[{\"automargin\":true,\"type\":\"pie\"}],\"scatter\":[{\"marker\":{\"colorbar\":{\"outlinewidth\":0,\"ticks\":\"\"}},\"type\":\"scatter\"}],\"scatter3d\":[{\"line\":{\"colorbar\":{\"outlinewidth\":0,\"ticks\":\"\"}},\"marker\":{\"colorbar\":{\"outlinewidth\":0,\"ticks\":\"\"}},\"type\":\"scatter3d\"}],\"scattercarpet\":[{\"marker\":{\"colorbar\":{\"outlinewidth\":0,\"ticks\":\"\"}},\"type\":\"scattercarpet\"}],\"scattergeo\":[{\"marker\":{\"colorbar\":{\"outlinewidth\":0,\"ticks\":\"\"}},\"type\":\"scattergeo\"}],\"scattergl\":[{\"marker\":{\"colorbar\":{\"outlinewidth\":0,\"ticks\":\"\"}},\"type\":\"scattergl\"}],\"scattermapbox\":[{\"marker\":{\"colorbar\":{\"outlinewidth\":0,\"ticks\":\"\"}},\"type\":\"scattermapbox\"}],\"scatterpolar\":[{\"marker\":{\"colorbar\":{\"outlinewidth\":0,\"ticks\":\"\"}},\"type\":\"scatterpolar\"}],\"scatterpolargl\":[{\"marker\":{\"colorbar\":{\"outlinewidth\":0,\"ticks\":\"\"}},\"type\":\"scatterpolargl\"}],\"scatterternary\":[{\"marker\":{\"colorbar\":{\"outlinewidth\":0,\"ticks\":\"\"}},\"type\":\"scatterternary\"}],\"surface\":[{\"colorbar\":{\"outlinewidth\":0,\"ticks\":\"\"},\"colorscale\":[[0.0,\"#0d0887\"],[0.1111111111111111,\"#46039f\"],[0.2222222222222222,\"#7201a8\"],[0.3333333333333333,\"#9c179e\"],[0.4444444444444444,\"#bd3786\"],[0.5555555555555556,\"#d8576b\"],[0.6666666666666666,\"#ed7953\"],[0.7777777777777778,\"#fb9f3a\"],[0.8888888888888888,\"#fdca26\"],[1.0,\"#f0f921\"]],\"type\":\"surface\"}],\"table\":[{\"cells\":{\"fill\":{\"color\":\"#EBF0F8\"},\"line\":{\"color\":\"white\"}},\"header\":{\"fill\":{\"color\":\"#C8D4E3\"},\"line\":{\"color\":\"white\"}},\"type\":\"table\"}]},\"layout\":{\"annotationdefaults\":{\"arrowcolor\":\"#2a3f5f\",\"arrowhead\":0,\"arrowwidth\":1},\"autotypenumbers\":\"strict\",\"coloraxis\":{\"colorbar\":{\"outlinewidth\":0,\"ticks\":\"\"}},\"colorscale\":{\"diverging\":[[0,\"#8e0152\"],[0.1,\"#c51b7d\"],[0.2,\"#de77ae\"],[0.3,\"#f1b6da\"],[0.4,\"#fde0ef\"],[0.5,\"#f7f7f7\"],[0.6,\"#e6f5d0\"],[0.7,\"#b8e186\"],[0.8,\"#7fbc41\"],[0.9,\"#4d9221\"],[1,\"#276419\"]],\"sequential\":[[0.0,\"#0d0887\"],[0.1111111111111111,\"#46039f\"],[0.2222222222222222,\"#7201a8\"],[0.3333333333333333,\"#9c179e\"],[0.4444444444444444,\"#bd3786\"],[0.5555555555555556,\"#d8576b\"],[0.6666666666666666,\"#ed7953\"],[0.7777777777777778,\"#fb9f3a\"],[0.8888888888888888,\"#fdca26\"],[1.0,\"#f0f921\"]],\"sequentialminus\":[[0.0,\"#0d0887\"],[0.1111111111111111,\"#46039f\"],[0.2222222222222222,\"#7201a8\"],[0.3333333333333333,\"#9c179e\"],[0.4444444444444444,\"#bd3786\"],[0.5555555555555556,\"#d8576b\"],[0.6666666666666666,\"#ed7953\"],[0.7777777777777778,\"#fb9f3a\"],[0.8888888888888888,\"#fdca26\"],[1.0,\"#f0f921\"]]},\"colorway\":[\"#636efa\",\"#EF553B\",\"#00cc96\",\"#ab63fa\",\"#FFA15A\",\"#19d3f3\",\"#FF6692\",\"#B6E880\",\"#FF97FF\",\"#FECB52\"],\"font\":{\"color\":\"#2a3f5f\"},\"geo\":{\"bgcolor\":\"white\",\"lakecolor\":\"white\",\"landcolor\":\"#E5ECF6\",\"showlakes\":true,\"showland\":true,\"subunitcolor\":\"white\"},\"hoverlabel\":{\"align\":\"left\"},\"hovermode\":\"closest\",\"mapbox\":{\"style\":\"light\"},\"paper_bgcolor\":\"white\",\"plot_bgcolor\":\"#E5ECF6\",\"polar\":{\"angularaxis\":{\"gridcolor\":\"white\",\"linecolor\":\"white\",\"ticks\":\"\"},\"bgcolor\":\"#E5ECF6\",\"radialaxis\":{\"gridcolor\":\"white\",\"linecolor\":\"white\",\"ticks\":\"\"}},\"scene\":{\"xaxis\":{\"backgroundcolor\":\"#E5ECF6\",\"gridcolor\":\"white\",\"gridwidth\":2,\"linecolor\":\"white\",\"showbackground\":true,\"ticks\":\"\",\"zerolinecolor\":\"white\"},\"yaxis\":{\"backgroundcolor\":\"#E5ECF6\",\"gridcolor\":\"white\",\"gridwidth\":2,\"linecolor\":\"white\",\"showbackground\":true,\"ticks\":\"\",\"zerolinecolor\":\"white\"},\"zaxis\":{\"backgroundcolor\":\"#E5ECF6\",\"gridcolor\":\"white\",\"gridwidth\":2,\"linecolor\":\"white\",\"showbackground\":true,\"ticks\":\"\",\"zerolinecolor\":\"white\"}},\"shapedefaults\":{\"line\":{\"color\":\"#2a3f5f\"}},\"ternary\":{\"aaxis\":{\"gridcolor\":\"white\",\"linecolor\":\"white\",\"ticks\":\"\"},\"baxis\":{\"gridcolor\":\"white\",\"linecolor\":\"white\",\"ticks\":\"\"},\"bgcolor\":\"#E5ECF6\",\"caxis\":{\"gridcolor\":\"white\",\"linecolor\":\"white\",\"ticks\":\"\"}},\"title\":{\"x\":0.05},\"xaxis\":{\"automargin\":true,\"gridcolor\":\"white\",\"linecolor\":\"white\",\"ticks\":\"\",\"title\":{\"standoff\":15},\"zerolinecolor\":\"white\",\"zerolinewidth\":2},\"yaxis\":{\"automargin\":true,\"gridcolor\":\"white\",\"linecolor\":\"white\",\"ticks\":\"\",\"title\":{\"standoff\":15},\"zerolinecolor\":\"white\",\"zerolinewidth\":2}}},\"xaxis\":{\"anchor\":\"y\",\"domain\":[0.0,1.0],\"title\":{\"text\":\"variable\"}},\"yaxis\":{\"anchor\":\"x\",\"domain\":[0.0,1.0],\"title\":{\"text\":\"value\"}}},                        {\"responsive\": true}                    ).then(function(){\n                            \nvar gd = document.getElementById('d28ce1a9-aa80-44a3-872e-5a85f25f80f2');\nvar x = new MutationObserver(function (mutations, observer) {{\n        var display = window.getComputedStyle(gd).display;\n        if (!display || display === 'none') {{\n            console.log([gd, 'removed!']);\n            Plotly.purge(gd);\n            observer.disconnect();\n        }}\n}});\n\n// Listen for the removal of the full notebook cells\nvar notebookContainer = gd.closest('#notebook-container');\nif (notebookContainer) {{\n    x.observe(notebookContainer, {childList: true});\n}}\n\n// Listen for the clearing of the current output cell\nvar outputEl = gd.closest('.output');\nif (outputEl) {{\n    x.observe(outputEl, {childList: true});\n}}\n\n                        })                };                            </script>        </div>\n</body>\n</html>"
     },
     "metadata": {},
     "output_type": "display_data"
    }
   ],
   "execution_count": 62
  },
  {
   "cell_type": "markdown",
   "source": "**Distplot:**",
   "metadata": {
    "cell_id": "00018-23dc5110-fcdf-4914-a908-786103dc894a",
    "deepnote_cell_type": "markdown"
   }
  },
  {
   "cell_type": "code",
   "metadata": {
    "cell_id": "00019-991da387-1435-4a09-b53c-172f9f5c2daa",
    "deepnote_to_be_reexecuted": false,
    "source_hash": "5eb85e9b",
    "execution_start": 1633734011016,
    "execution_millis": 483,
    "deepnote_cell_type": "code"
   },
   "source": "# use displot figurefactory\n\ndf = px.data.tips()\nfig = px.histogram(df_grades_melted, x=\"value\",color=\"variable\", nbins=30,barmode=\"group\" )\nfig.show()\n",
   "outputs": [
    {
     "data": {
      "text/html": "<html>\n<head><meta charset=\"utf-8\" /></head>\n<body>\n    <div>            <script src=\"https://cdnjs.cloudflare.com/ajax/libs/mathjax/2.7.5/MathJax.js?config=TeX-AMS-MML_SVG\"></script><script type=\"text/javascript\">if (window.MathJax) {MathJax.Hub.Config({SVG: {font: \"STIX-Web\"}});}</script>                <script type=\"text/javascript\">window.PlotlyConfig = {MathJaxConfig: 'local'};</script>\n        <script src=\"https://cdn.plot.ly/plotly-2.4.2.min.js\"></script>                <div id=\"996b9e98-885b-4bcf-b118-a45f414093f9\" class=\"plotly-graph-div\" style=\"height:525px; width:100%;\"></div>            <script type=\"text/javascript\">                                    window.PLOTLYENV=window.PLOTLYENV || {};                                    if (document.getElementById(\"996b9e98-885b-4bcf-b118-a45f414093f9\")) {                    Plotly.newPlot(                        \"996b9e98-885b-4bcf-b118-a45f414093f9\",                        [{\"alignmentgroup\":\"True\",\"bingroup\":\"x\",\"hovertemplate\":\"variable=math score<br>value=%{x}<br>count=%{y}<extra></extra>\",\"legendgroup\":\"math score\",\"marker\":{\"color\":\"#636efa\",\"pattern\":{\"shape\":\"\"}},\"name\":\"math score\",\"nbinsx\":30,\"offsetgroup\":\"math score\",\"orientation\":\"v\",\"showlegend\":true,\"type\":\"histogram\",\"x\":[3.22,5.8,5.38,5.86,6.64,5.26,5.5,3.04,4.78,6.64,4.9,4.12,4.72,5.44,4.72,5.38,3.76,5.92,4.78,4.84,5.8,6.58,5.14,3.76,6.16,4.54,6.04,4.84,5.38,5.98,5.5,5.14,5.08,4.42,4.96,4.66,3.4,4.0,3.88,3.16,5.68,4.42,5.14,3.4,6.52,3.1,4.78,5.38,4.78,4.12,5.38,4.78,5.26,3.7,6.1,5.8,5.62,6.46,4.6,4.78,3.4,4.42,4.48,6.82,5.86,5.08,4.54,6.76,6.22,4.42,6.64,6.82,4.9,5.92,5.32,4.72,3.64,5.92,5.5,4.54,5.5,5.32,5.08,4.96,5.02,6.58,5.14,4.78,3.76,4.96,4.72,3.88,5.26,4.24,5.8,4.3,6.4,6.64,5.86,4.18,4.66,5.5,5.44,4.72,5.2,4.54,4.72,4.18,5.8,5.14,5.14,5.14,3.94,5.98,4.9,5.38,5.08,4.84,4.9,3.94,4.48,4.96,4.9,4.9,5.2,5.74,4.0,4.84,5.08,2.92,5.08,4.48,2.14,5.14,5.32,4.18,4.66,5.68,4.18,3.7,3.64,5.98,4.9,6.28,6.28,6.46,6.04,4.06,3.2800000000000002,3.8200000000000003,4.96,4.66,4.6,5.26,3.7,5.62,4.18,4.42,5.32,5.5600000000000005,3.7,6.94,4.06,4.84,4.12,5.8,4.06,4.0,4.84,5.44,5.26,4.42,5.14,5.62,5.5,3.58,5.8,4.54,6.1,4.3,3.64,3.52,4.48,4.66,4.0,6.28,5.38,5.02,6.82,4.66,4.72,4.24,4.96,5.68,6.1,6.04,5.5600000000000005,3.64,5.86,4.24,4.48,5.86,5.32,5.26,4.66,4.96,5.26,5.26,6.34,5.38,5.86,3.76,2.32,3.88,3.64,6.46,5.5600000000000005,5.62,4.72,5.02,6.16,4.48,4.18,4.42,5.14,4.72,3.22,6.28,6.4,5.08,4.9,4.78,4.12,3.88,4.9,4.24,2.74,2.56,5.2,5.5,4.6,6.88,6.58,4.54,3.76,5.5600000000000005,5.74,2.68,4.3,4.66,3.1,6.64,3.76,7.0,5.02,4.0,5.74,5.26,5.98,4.3,3.88,5.5600000000000005,5.62,4.72,4.36,5.08,6.04,5.8,4.72,4.6,4.84,2.74,4.12,4.18,5.02,5.92,4.36,5.74,5.38,4.96,5.38,4.96,6.04,5.44,5.5600000000000005,5.86,5.74,5.08,4.78,4.0,5.32,6.1,5.98,6.04,4.9,6.1,5.2,4.48,6.16,4.84,4.9,4.66,3.94,4.18,6.82,5.5,5.32,5.44,4.54,5.08,5.68,4.18,5.32,6.94,5.74,6.46,5.98,5.32,4.66,5.38,4.54,7.0,4.66,5.62,5.26,3.94,4.72,6.16,5.5,3.8200000000000003,4.78,5.2,5.08,4.66,5.26,5.86,7.0,5.62,4.18,5.26,5.38,4.9,3.94,4.12,4.9,4.54,5.8,4.72,4.42,3.76,4.48,5.02,5.38,5.32,3.4,5.68,4.78,4.66,5.74,5.62,5.2,4.18,3.7,3.4,5.92,5.68,5.5,5.2,4.3,5.2,2.8,5.5,4.78,5.92,5.44,4.24,5.26,5.38,5.62,5.62,6.22,6.22,5.44,5.02,3.58,3.94,3.94,4.18,4.84,4.66,5.74,5.14,4.24,4.9,5.62,4.48,5.38,4.24,4.24,4.84,4.54,5.5600000000000005,6.1,6.82,4.18,4.12,5.62,5.74,4.42,4.96,4.78,4.9,5.08,4.3,5.32,6.16,6.82,5.5,4.12,5.44,5.2,3.34,4.66,3.64,6.22,4.96,5.08,4.72,5.86,5.2,5.44,5.5600000000000005,4.54,5.08,5.38,7.0,1.48,4.9,3.4,3.88,6.34,5.62,4.9,5.14,5.08,3.94,4.72,4.36,3.76,4.6,6.46,6.4,5.38,5.2,3.8200000000000003,4.9,5.86,4.3,6.58,4.9,4.72,3.88,5.08,4.96,4.3,3.52,5.44,3.22,4.96,6.28,5.14,4.66,3.34,6.22,4.84,3.64,4.54,5.8,5.26,4.18,5.68,4.3,5.2,4.9,6.16,4.24,3.46,6.4,4.54,4.9,5.02,6.34,4.54,5.38,5.44,6.16,4.66,4.42,4.48,3.7,4.78,5.02,6.64,4.36,4.72,5.2,5.2,5.5600000000000005,4.84,3.8200000000000003,4.96,3.4,4.96,5.08,4.06,6.28,6.4,4.12,3.94,4.18,5.26,4.0,4.48,3.52,5.02,3.34,6.1,5.68,5.38,5.08,6.34,3.4,5.92,5.62,5.14,5.74,4.18,3.58,4.48,6.28,5.14,6.1,5.14,5.32,4.42,4.48,4.72,5.5,6.28,5.86,5.02,5.02,5.44,5.26,6.1,4.36,5.92,4.6,5.86,6.22,3.76,4.48,4.72,5.5600000000000005,4.6,4.0,5.62,4.84,4.66,4.6,5.02,4.84,6.4,4.18,3.88,4.6,5.92,4.48,4.6,4.96,6.1,3.94,5.62,5.02,5.14,4.0,4.72,5.98,5.86,5.32,6.52,5.26,6.28,5.92,5.26,5.5,4.06,4.72,5.5,4.78,5.26,5.02,5.26,4.66,4.36,6.88,5.92,5.5,4.54,5.26,3.64,5.62,4.9,4.42,4.6,2.62,4.48,5.2,3.2800000000000002,3.52,7.0,6.34,3.1,5.62,4.72,5.74,3.76,4.54,4.96,3.8200000000000003,5.62,5.68,4.12,5.2,4.48,5.08,5.14,6.22,4.12,5.32,6.1,3.46,4.66,5.02,4.24,4.78,4.12,4.72,4.48,4.72,4.9,5.44,5.74,5.08,4.78,4.12,4.54,4.3,4.96,5.44,6.46,5.44,5.86,5.74,6.4,4.24,5.68,6.28,4.72,5.8,5.8,5.26,5.5,4.6,6.28,4.3,4.0,3.52,5.14,3.52,4.48,2.44,5.02,4.54,4.54,6.76,3.7,6.28,5.32,4.66,5.86,5.74,3.8200000000000003,3.94,4.24,5.26,4.54,6.34,4.54,4.42,5.62,5.62,4.6,5.5600000000000005,2.92,3.94,5.5600000000000005,4.84,4.78,4.0,3.64,4.96,5.02,4.66,5.14,4.9,4.18,6.22,4.18,4.96,3.94,5.02,4.3,2.8,5.38,4.72,5.74,4.78,4.12,4.48,5.68,5.44,5.08,5.92,5.38,4.54,5.44,6.04,5.02,6.22,5.62,4.48,5.14,4.9,6.52,6.22,5.14,5.38,4.66,5.02,5.14,5.44,4.84,3.16,3.46,3.94,4.54,6.04,5.5600000000000005,4.66,4.72,5.02,4.24,4.54,5.08,6.46,6.76,5.08,5.44,5.26,3.1,5.86,4.18,5.8,5.5600000000000005,4.78,4.42,4.48,5.32,4.3,5.8,3.46,4.06,6.1,5.86,4.12,2.08,5.38,4.78,4.54,4.78,4.78,5.8,4.6,4.84,6.88,4.54,4.9,6.22,4.96,4.12,5.38,6.22,5.74,5.14,3.8200000000000003,6.52,4.42,6.28,5.74,5.26,5.86,4.9,5.92,4.9,3.4,5.38,4.36,5.14,5.02,6.46,5.02,4.9,4.48,4.3,3.88,4.18,6.1,4.72,4.9,5.92,5.62,4.0,5.14,1.0,4.9,5.14,5.32,7.0,4.9,3.8200000000000003,4.06,5.26,5.92,4.3,5.5,4.96,5.32,5.2,4.42,6.04,4.66,3.7,4.9,2.62,6.28,4.9,4.78,5.68,4.9,6.4,7.0,5.02,5.44,5.5600000000000005,4.96,4.54,4.72,3.46,2.74,5.14,2.38,4.96,4.24,5.08],\"xaxis\":\"x\",\"yaxis\":\"y\"},{\"alignmentgroup\":\"True\",\"bingroup\":\"x\",\"hovertemplate\":\"variable=reading score<br>value=%{x}<br>count=%{y}<extra></extra>\",\"legendgroup\":\"reading score\",\"marker\":{\"color\":\"#EF553B\",\"pattern\":{\"shape\":\"\"}},\"name\":\"reading score\",\"nbinsx\":30,\"offsetgroup\":\"reading score\",\"orientation\":\"v\",\"showlegend\":true,\"type\":\"histogram\",\"x\":[3.76,5.68,4.96,5.5,6.16,4.66,5.08,3.88,4.66,5.38,5.68,5.5600000000000005,4.9,5.44,4.42,5.14,3.52,5.92,4.66,5.38,5.5,7.0,5.5600000000000005,4.66,5.86,5.32,5.98,4.84,5.5600000000000005,6.16,6.28,5.44,5.32,4.66,4.84,4.66,4.54,5.02,4.72,2.74,5.74,5.02,4.48,4.3,6.22,2.68,5.02,5.44,4.84,4.54,5.74,5.38,4.6,4.54,6.52,5.5600000000000005,6.64,6.1,4.72,3.88,3.88,4.24,4.24,5.92,5.92,4.9,5.26,6.4,6.04,5.5,6.28,6.58,5.86,6.58,4.42,5.44,4.24,6.04,6.4,3.46,5.38,5.08,5.68,5.44,4.72,6.4,4.78,5.44,4.84,5.08,5.38,4.36,5.2,5.32,5.98,4.54,6.22,6.94,5.38,3.58,5.08,6.1,5.86,5.32,5.68,4.06,5.32,4.0,6.1,4.96,5.68,5.62,3.7,6.58,4.66,4.84,5.98,4.96,5.62,4.42,5.02,5.68,5.2,5.74,5.08,5.86,5.02,4.24,4.6,4.06,4.06,4.42,3.2800000000000002,5.62,5.74,4.48,4.06,5.32,4.72,4.36,4.06,5.98,5.5600000000000005,5.68,6.7,6.34,6.22,4.96,3.94,4.18,4.42,5.38,5.08,5.26,4.78,6.16,4.48,4.06,4.84,5.26,3.88,6.58,5.32,4.6,4.66,5.38,4.24,3.88,5.38,5.44,5.62,5.44,5.2,6.4,5.44,4.06,5.08,5.32,5.86,5.5600000000000005,4.78,4.72,4.54,3.8200000000000003,4.96,5.44,5.68,6.16,7.0,4.48,4.84,4.78,5.26,6.46,5.5,6.04,6.64,4.66,6.04,3.94,4.78,5.92,5.86,3.94,3.52,5.62,5.5600000000000005,4.96,6.28,5.98,5.86,3.04,3.34,4.12,4.84,5.86,5.8,5.68,5.32,4.84,5.86,5.2,4.12,4.48,5.38,4.96,4.42,6.34,5.5,5.2,5.5,5.14,4.42,3.58,4.24,4.24,3.46,2.86,5.5,5.44,4.42,6.22,6.04,4.24,4.24,4.84,6.28,2.38,5.26,4.42,4.18,6.1,4.48,7.0,5.8,3.8200000000000003,6.04,5.86,5.92,4.84,4.48,5.38,5.62,5.68,5.08,6.16,5.62,5.5,5.2,4.96,4.72,3.4,4.9,4.66,4.66,6.7,5.74,5.5600000000000005,5.08,5.44,6.16,4.9,5.38,5.62,5.26,5.32,6.34,5.26,5.68,4.36,4.9,6.52,5.68,6.7,5.62,6.16,5.2,4.78,5.8,5.92,5.86,4.3,4.06,4.06,6.82,5.32,5.38,5.74,5.02,5.08,5.62,4.48,4.42,7.0,6.34,5.38,5.32,5.74,4.72,5.44,4.24,6.76,4.96,5.74,5.02,4.18,4.66,6.52,5.86,4.54,5.5,5.5,4.78,4.36,4.96,6.82,7.0,6.4,3.64,5.98,5.08,5.92,3.94,4.54,5.5,4.6,4.84,3.94,3.58,3.58,5.38,4.24,4.96,5.32,3.58,5.98,4.9,5.32,5.44,5.92,6.04,4.24,4.18,4.48,6.1,5.32,4.96,4.84,4.3,6.34,2.56,6.04,4.84,5.92,5.86,4.54,6.04,6.04,6.28,6.28,6.04,5.44,5.38,4.84,4.72,4.12,4.9,4.24,4.18,6.16,6.52,5.26,4.12,6.16,6.46,4.66,5.5600000000000005,4.84,4.18,4.48,5.32,5.44,6.04,6.52,5.2,4.3,5.5600000000000005,5.32,5.62,5.14,5.38,6.1,5.02,4.48,4.96,5.5600000000000005,6.22,5.08,3.94,5.2,5.92,4.12,5.44,4.0,6.04,4.9,5.62,5.02,4.96,4.78,5.5,5.68,5.2,5.08,4.96,7.0,2.44,4.84,4.9,4.96,6.04,5.92,5.38,5.62,5.32,4.06,5.14,5.08,4.36,4.06,6.7,6.4,4.36,5.32,3.94,4.9,5.62,3.76,7.0,5.2,4.66,3.7,4.54,5.14,3.76,4.3,5.62,4.36,4.78,5.68,5.62,5.26,4.84,7.0,4.78,3.46,5.68,5.74,6.22,4.48,5.86,5.38,5.2,5.14,5.38,4.12,4.06,6.4,4.48,5.86,5.74,6.04,4.78,5.26,6.4,5.98,4.48,5.68,4.12,3.22,4.78,5.38,6.22,4.12,4.96,4.9,5.44,5.98,5.44,4.24,5.44,4.12,5.44,5.44,2.86,6.04,6.7,4.42,4.18,4.12,5.44,3.88,4.3,4.12,4.42,3.34,6.4,5.44,5.68,5.2,7.0,3.52,5.02,6.1,6.04,6.16,4.72,3.7,4.3,5.62,5.2,6.46,4.6,5.8,4.0,4.66,4.78,5.62,6.94,6.46,5.68,5.14,5.74,5.44,6.04,4.24,4.72,4.84,5.5,6.1,3.58,5.08,4.3,5.32,5.08,3.52,6.34,4.0,5.08,4.54,4.42,5.38,6.1,3.7,4.36,5.2,6.4,5.02,5.5,4.54,6.7,4.12,5.14,5.5600000000000005,5.74,4.6,4.36,6.1,5.26,5.74,7.0,5.2,6.94,6.58,5.14,5.92,3.94,4.3,5.86,4.3,5.98,5.32,5.98,4.36,4.66,6.16,6.04,6.28,4.72,5.5,3.7,5.08,5.5600000000000005,3.88,4.6,3.04,4.0,4.84,3.58,4.96,6.52,5.5600000000000005,3.64,4.72,4.84,5.92,3.46,5.2,5.62,3.22,5.08,5.62,3.88,5.26,4.42,4.24,5.32,6.64,4.18,5.8,6.34,3.34,5.26,6.34,3.88,4.78,4.48,4.3,4.6,5.02,5.62,6.28,5.38,5.08,5.8,5.2,3.52,3.8200000000000003,4.6,5.5600000000000005,6.16,4.78,5.44,5.92,5.68,4.48,5.92,6.52,5.02,6.16,4.78,5.74,6.16,5.32,5.5,4.66,4.6,4.66,5.5,3.34,5.5,3.2800000000000002,6.04,4.72,4.72,6.76,3.8200000000000003,6.1,5.02,5.02,5.8,6.1,4.72,4.48,4.6,5.26,4.48,6.22,6.1,4.48,5.02,5.02,4.78,5.68,3.04,4.42,4.72,5.5600000000000005,5.68,4.18,4.06,4.72,6.04,4.6,6.04,5.38,5.32,6.4,4.96,5.98,4.9,5.44,5.32,2.44,6.52,4.72,4.6,4.42,4.9,5.5600000000000005,6.4,6.34,5.5600000000000005,6.82,5.2,4.96,6.16,5.98,6.16,6.7,6.82,4.06,4.96,4.96,7.0,5.44,4.24,5.02,4.6,5.86,6.4,5.86,4.6,4.18,4.12,4.48,5.14,6.22,5.98,5.32,5.02,5.5,4.84,4.78,5.02,5.44,7.0,4.84,5.5,5.5600000000000005,4.66,5.68,3.22,5.5600000000000005,5.2,5.26,5.08,5.2,4.96,4.9,6.52,4.3,4.36,5.5600000000000005,6.52,4.54,2.92,5.74,5.02,5.38,4.6,5.38,6.4,3.64,4.36,7.0,5.26,5.14,6.46,5.5600000000000005,4.3,5.5,6.04,5.02,4.6,4.48,5.74,5.14,6.7,5.68,4.72,5.86,5.86,5.68,5.14,3.76,5.8,5.32,4.48,5.32,6.76,5.5,5.44,4.54,3.46,4.48,4.66,4.96,5.02,6.04,5.92,4.72,4.84,4.9,2.02,5.02,6.16,5.02,7.0,4.48,4.42,4.06,5.44,5.92,4.9,5.92,4.96,5.32,4.3,4.36,6.34,3.88,4.12,4.54,3.04,5.38,5.92,4.96,5.86,5.32,6.22,6.82,5.44,5.5,5.02,5.32,4.84,5.5600000000000005,3.76,2.74,5.5,3.64,5.44,4.66,5.8],\"xaxis\":\"x\",\"yaxis\":\"y\"},{\"alignmentgroup\":\"True\",\"bingroup\":\"x\",\"hovertemplate\":\"variable=writing score<br>value=%{x}<br>count=%{y}<extra></extra>\",\"legendgroup\":\"writing score\",\"marker\":{\"color\":\"#00cc96\",\"pattern\":{\"shape\":\"\"}},\"name\":\"writing score\",\"nbinsx\":30,\"offsetgroup\":\"writing score\",\"orientation\":\"v\",\"showlegend\":true,\"type\":\"histogram\",\"x\":[3.76,5.86,4.78,5.5600000000000005,6.22,5.14,4.84,3.46,4.66,5.26,5.92,5.2,4.48,5.32,4.72,5.08,3.76,5.44,4.6,5.08,5.62,7.0,5.44,4.3,5.8,5.2,5.5,5.02,5.68,6.28,6.1,5.44,4.9,4.24,4.72,4.72,4.24,4.78,4.6,2.62,5.5600000000000005,5.32,4.42,4.18,5.68,2.62,5.2,4.66,5.02,4.9,5.74,5.26,4.66,4.84,6.1,4.9,6.7,6.1,4.6,3.8200000000000003,4.0,4.36,4.12,6.28,5.92,4.66,4.9,6.52,6.16,5.38,5.68,6.46,5.86,6.58,4.48,5.2,4.18,5.68,6.28,3.52,5.44,5.02,5.62,5.68,4.6,5.98,4.66,5.44,4.96,4.84,5.2,4.06,5.2,4.54,5.98,4.24,6.1,7.0,5.32,3.58,4.78,5.92,5.26,4.9,5.68,3.58,5.44,4.6,6.1,4.66,5.5600000000000005,5.62,3.7,6.7,5.26,4.42,5.68,4.54,5.44,3.76,4.72,5.68,5.44,5.86,5.32,5.92,5.38,4.0,4.54,3.64,4.42,4.24,2.92,5.38,5.44,4.42,4.12,5.14,4.18,4.24,3.88,6.4,5.5,5.98,6.64,6.52,6.46,4.72,3.7,4.48,4.12,4.78,4.6,5.44,4.54,6.16,4.3,4.24,4.78,5.38,3.76,6.4,5.74,4.48,4.96,5.32,3.46,3.52,5.2,5.32,5.62,5.5600000000000005,5.02,6.1,4.96,4.24,5.32,5.08,6.1,5.5600000000000005,4.72,4.6,4.48,4.36,4.84,5.5,5.32,5.98,7.0,4.36,4.96,5.02,5.5600000000000005,6.76,5.08,5.8,6.22,4.12,5.92,3.8200000000000003,4.9,6.04,5.74,4.12,3.46,5.38,5.98,4.9,5.92,5.5600000000000005,5.74,3.16,2.98,3.7,4.48,5.74,5.38,5.38,5.2,4.66,5.5,5.08,3.94,4.84,5.38,5.08,4.36,6.16,5.14,4.96,5.2,5.44,4.36,3.7,4.42,3.7,3.8200000000000003,3.2800000000000002,5.68,5.14,4.06,6.4,6.4,4.06,4.48,4.96,6.64,2.14,5.14,4.36,3.76,5.92,4.42,7.0,5.86,4.24,6.46,5.8,6.04,5.2,4.12,5.08,5.38,5.74,5.2,6.04,5.44,5.14,5.5,5.2,5.08,3.64,5.14,5.08,5.08,6.34,5.32,4.9,4.96,5.14,5.92,5.14,5.14,5.38,5.32,5.62,6.16,5.5,5.8,4.24,5.08,6.58,5.38,6.52,5.44,6.88,5.2,5.38,5.5,5.62,5.86,4.12,4.06,4.06,6.76,4.72,5.44,5.5,4.66,5.02,5.62,3.64,4.72,7.0,6.34,5.8,5.68,5.62,4.66,5.32,5.02,6.16,4.66,5.8,5.02,4.18,4.3,6.22,5.26,4.0,5.86,5.44,4.24,4.3,4.6,6.76,6.58,6.46,3.52,5.98,4.96,5.86,3.46,4.36,5.62,4.48,4.96,4.12,3.8200000000000003,3.46,5.08,4.78,4.72,5.26,3.34,5.8,4.66,5.2,5.32,6.34,5.86,3.88,4.3,4.24,6.16,5.2,5.38,5.32,3.8200000000000003,6.28,2.32,5.8,4.96,5.8,5.98,4.0,6.22,6.1,6.22,6.1,6.22,5.2,5.02,5.2,4.66,4.06,4.66,3.88,4.42,6.22,6.34,4.9,4.12,5.8,6.28,4.12,5.8,5.08,3.8200000000000003,4.06,5.8,5.38,6.34,6.16,5.2,4.42,5.62,5.14,5.8,4.78,5.68,5.5600000000000005,5.38,4.12,4.96,5.44,5.92,4.9,3.76,5.14,5.5600000000000005,3.76,5.32,4.06,6.1,4.6,5.8,4.48,4.84,4.48,5.98,5.8,4.96,4.84,4.96,7.0,2.38,4.72,4.84,4.9,5.92,6.46,5.5,5.14,4.84,3.58,5.14,5.44,4.42,4.36,6.64,6.46,4.42,5.5600000000000005,4.0,4.78,5.74,3.64,6.7,5.26,4.42,3.46,4.72,5.08,3.58,4.24,5.5600000000000005,3.8200000000000003,4.84,5.5,5.68,5.38,4.42,6.7,4.96,3.2800000000000002,5.5600000000000005,5.74,5.92,4.9,6.16,5.38,4.9,5.5600000000000005,5.2,4.06,3.88,5.92,4.54,5.38,6.04,5.62,5.5,5.08,6.28,6.16,4.72,5.74,4.24,3.22,4.72,5.08,6.52,4.3,5.08,4.6,5.26,6.28,5.5,4.18,5.38,3.58,5.86,5.44,3.16,5.5,6.58,4.0,4.12,3.52,4.84,4.18,4.18,4.06,4.18,3.04,6.52,5.32,5.5600000000000005,4.96,7.0,3.2800000000000002,4.66,6.22,6.1,6.52,4.36,4.0,3.88,5.62,4.78,6.34,4.24,5.98,4.24,4.96,4.36,5.98,7.0,6.22,5.74,5.5,5.92,5.08,5.68,4.12,4.72,5.44,5.68,6.58,3.64,4.66,4.3,5.26,5.32,3.88,6.88,3.58,4.96,4.24,4.54,5.26,6.04,3.4,4.48,5.2,6.64,5.32,5.44,4.12,7.0,4.24,5.08,5.5,5.86,4.54,4.18,6.4,5.38,5.92,7.0,5.5600000000000005,6.7,6.58,5.08,5.74,4.06,3.94,6.04,4.78,5.68,5.44,5.62,4.36,4.6,6.4,5.92,6.1,4.84,5.2,3.7,5.14,5.5600000000000005,4.06,4.6,3.16,3.7,5.2,3.58,5.14,6.82,5.44,3.58,4.72,4.84,5.92,3.58,4.9,5.2,3.1,5.62,5.8,3.94,5.44,4.18,4.18,5.62,6.7,3.94,5.5,6.7,3.04,5.68,5.92,4.12,4.6,4.48,4.24,4.42,5.02,5.44,6.4,5.02,4.66,5.8,4.72,3.46,3.64,4.42,5.38,6.04,4.42,5.26,5.38,5.86,4.66,5.74,6.7,4.72,5.98,4.78,5.26,5.74,5.44,5.5600000000000005,4.24,4.6,4.48,5.68,3.04,5.62,2.62,6.16,5.14,4.66,6.94,3.94,5.5600000000000005,4.9,4.96,5.5600000000000005,6.16,4.96,4.3,4.78,5.8,3.8200000000000003,5.74,5.8,4.42,4.84,5.08,4.54,5.5,3.2800000000000002,4.12,4.96,5.44,5.74,4.3,4.3,4.84,5.86,4.3,5.92,5.08,4.84,6.28,5.38,5.98,4.3,5.62,5.74,1.9,6.04,4.78,4.9,4.36,4.66,5.68,6.58,6.04,5.02,6.76,5.5,5.02,6.34,5.68,5.98,6.16,6.64,4.12,4.6,4.72,6.94,5.5600000000000005,4.3,4.54,4.42,5.74,6.28,5.5600000000000005,5.44,3.58,4.06,4.6,4.9,5.86,5.74,5.2,4.66,5.2,5.02,4.84,5.14,5.5600000000000005,7.0,4.96,5.92,5.2,4.24,5.68,3.4,4.84,5.14,5.14,5.38,5.02,5.32,4.72,6.28,4.06,4.18,5.26,6.46,4.72,2.68,6.04,5.02,5.14,4.42,5.08,5.92,3.8200000000000003,4.12,6.94,5.2,5.02,5.86,5.08,3.94,5.8,5.5600000000000005,5.02,4.78,5.02,6.04,5.08,6.52,5.62,4.0,6.04,5.62,5.44,5.2,4.0,5.92,4.9,4.18,5.02,6.46,5.32,5.62,4.96,3.88,4.24,4.72,5.26,4.84,6.04,5.8,4.84,4.54,5.44,1.6,4.72,5.86,4.84,7.0,3.94,3.64,4.24,5.08,6.28,4.72,6.4,4.54,5.44,4.36,4.24,6.4,3.76,3.94,4.18,2.92,5.68,5.68,5.02,5.92,5.44,5.5,6.94,5.2,5.74,5.02,5.2,5.5,5.8,3.58,2.8,5.26,3.16,5.86,4.72,5.5600000000000005],\"xaxis\":\"x\",\"yaxis\":\"y\"}],                        {\"barmode\":\"group\",\"legend\":{\"title\":{\"text\":\"variable\"},\"tracegroupgap\":0},\"margin\":{\"t\":60},\"template\":{\"data\":{\"bar\":[{\"error_x\":{\"color\":\"#2a3f5f\"},\"error_y\":{\"color\":\"#2a3f5f\"},\"marker\":{\"line\":{\"color\":\"#E5ECF6\",\"width\":0.5},\"pattern\":{\"fillmode\":\"overlay\",\"size\":10,\"solidity\":0.2}},\"type\":\"bar\"}],\"barpolar\":[{\"marker\":{\"line\":{\"color\":\"#E5ECF6\",\"width\":0.5},\"pattern\":{\"fillmode\":\"overlay\",\"size\":10,\"solidity\":0.2}},\"type\":\"barpolar\"}],\"carpet\":[{\"aaxis\":{\"endlinecolor\":\"#2a3f5f\",\"gridcolor\":\"white\",\"linecolor\":\"white\",\"minorgridcolor\":\"white\",\"startlinecolor\":\"#2a3f5f\"},\"baxis\":{\"endlinecolor\":\"#2a3f5f\",\"gridcolor\":\"white\",\"linecolor\":\"white\",\"minorgridcolor\":\"white\",\"startlinecolor\":\"#2a3f5f\"},\"type\":\"carpet\"}],\"choropleth\":[{\"colorbar\":{\"outlinewidth\":0,\"ticks\":\"\"},\"type\":\"choropleth\"}],\"contour\":[{\"colorbar\":{\"outlinewidth\":0,\"ticks\":\"\"},\"colorscale\":[[0.0,\"#0d0887\"],[0.1111111111111111,\"#46039f\"],[0.2222222222222222,\"#7201a8\"],[0.3333333333333333,\"#9c179e\"],[0.4444444444444444,\"#bd3786\"],[0.5555555555555556,\"#d8576b\"],[0.6666666666666666,\"#ed7953\"],[0.7777777777777778,\"#fb9f3a\"],[0.8888888888888888,\"#fdca26\"],[1.0,\"#f0f921\"]],\"type\":\"contour\"}],\"contourcarpet\":[{\"colorbar\":{\"outlinewidth\":0,\"ticks\":\"\"},\"type\":\"contourcarpet\"}],\"heatmap\":[{\"colorbar\":{\"outlinewidth\":0,\"ticks\":\"\"},\"colorscale\":[[0.0,\"#0d0887\"],[0.1111111111111111,\"#46039f\"],[0.2222222222222222,\"#7201a8\"],[0.3333333333333333,\"#9c179e\"],[0.4444444444444444,\"#bd3786\"],[0.5555555555555556,\"#d8576b\"],[0.6666666666666666,\"#ed7953\"],[0.7777777777777778,\"#fb9f3a\"],[0.8888888888888888,\"#fdca26\"],[1.0,\"#f0f921\"]],\"type\":\"heatmap\"}],\"heatmapgl\":[{\"colorbar\":{\"outlinewidth\":0,\"ticks\":\"\"},\"colorscale\":[[0.0,\"#0d0887\"],[0.1111111111111111,\"#46039f\"],[0.2222222222222222,\"#7201a8\"],[0.3333333333333333,\"#9c179e\"],[0.4444444444444444,\"#bd3786\"],[0.5555555555555556,\"#d8576b\"],[0.6666666666666666,\"#ed7953\"],[0.7777777777777778,\"#fb9f3a\"],[0.8888888888888888,\"#fdca26\"],[1.0,\"#f0f921\"]],\"type\":\"heatmapgl\"}],\"histogram\":[{\"marker\":{\"pattern\":{\"fillmode\":\"overlay\",\"size\":10,\"solidity\":0.2}},\"type\":\"histogram\"}],\"histogram2d\":[{\"colorbar\":{\"outlinewidth\":0,\"ticks\":\"\"},\"colorscale\":[[0.0,\"#0d0887\"],[0.1111111111111111,\"#46039f\"],[0.2222222222222222,\"#7201a8\"],[0.3333333333333333,\"#9c179e\"],[0.4444444444444444,\"#bd3786\"],[0.5555555555555556,\"#d8576b\"],[0.6666666666666666,\"#ed7953\"],[0.7777777777777778,\"#fb9f3a\"],[0.8888888888888888,\"#fdca26\"],[1.0,\"#f0f921\"]],\"type\":\"histogram2d\"}],\"histogram2dcontour\":[{\"colorbar\":{\"outlinewidth\":0,\"ticks\":\"\"},\"colorscale\":[[0.0,\"#0d0887\"],[0.1111111111111111,\"#46039f\"],[0.2222222222222222,\"#7201a8\"],[0.3333333333333333,\"#9c179e\"],[0.4444444444444444,\"#bd3786\"],[0.5555555555555556,\"#d8576b\"],[0.6666666666666666,\"#ed7953\"],[0.7777777777777778,\"#fb9f3a\"],[0.8888888888888888,\"#fdca26\"],[1.0,\"#f0f921\"]],\"type\":\"histogram2dcontour\"}],\"mesh3d\":[{\"colorbar\":{\"outlinewidth\":0,\"ticks\":\"\"},\"type\":\"mesh3d\"}],\"parcoords\":[{\"line\":{\"colorbar\":{\"outlinewidth\":0,\"ticks\":\"\"}},\"type\":\"parcoords\"}],\"pie\":[{\"automargin\":true,\"type\":\"pie\"}],\"scatter\":[{\"marker\":{\"colorbar\":{\"outlinewidth\":0,\"ticks\":\"\"}},\"type\":\"scatter\"}],\"scatter3d\":[{\"line\":{\"colorbar\":{\"outlinewidth\":0,\"ticks\":\"\"}},\"marker\":{\"colorbar\":{\"outlinewidth\":0,\"ticks\":\"\"}},\"type\":\"scatter3d\"}],\"scattercarpet\":[{\"marker\":{\"colorbar\":{\"outlinewidth\":0,\"ticks\":\"\"}},\"type\":\"scattercarpet\"}],\"scattergeo\":[{\"marker\":{\"colorbar\":{\"outlinewidth\":0,\"ticks\":\"\"}},\"type\":\"scattergeo\"}],\"scattergl\":[{\"marker\":{\"colorbar\":{\"outlinewidth\":0,\"ticks\":\"\"}},\"type\":\"scattergl\"}],\"scattermapbox\":[{\"marker\":{\"colorbar\":{\"outlinewidth\":0,\"ticks\":\"\"}},\"type\":\"scattermapbox\"}],\"scatterpolar\":[{\"marker\":{\"colorbar\":{\"outlinewidth\":0,\"ticks\":\"\"}},\"type\":\"scatterpolar\"}],\"scatterpolargl\":[{\"marker\":{\"colorbar\":{\"outlinewidth\":0,\"ticks\":\"\"}},\"type\":\"scatterpolargl\"}],\"scatterternary\":[{\"marker\":{\"colorbar\":{\"outlinewidth\":0,\"ticks\":\"\"}},\"type\":\"scatterternary\"}],\"surface\":[{\"colorbar\":{\"outlinewidth\":0,\"ticks\":\"\"},\"colorscale\":[[0.0,\"#0d0887\"],[0.1111111111111111,\"#46039f\"],[0.2222222222222222,\"#7201a8\"],[0.3333333333333333,\"#9c179e\"],[0.4444444444444444,\"#bd3786\"],[0.5555555555555556,\"#d8576b\"],[0.6666666666666666,\"#ed7953\"],[0.7777777777777778,\"#fb9f3a\"],[0.8888888888888888,\"#fdca26\"],[1.0,\"#f0f921\"]],\"type\":\"surface\"}],\"table\":[{\"cells\":{\"fill\":{\"color\":\"#EBF0F8\"},\"line\":{\"color\":\"white\"}},\"header\":{\"fill\":{\"color\":\"#C8D4E3\"},\"line\":{\"color\":\"white\"}},\"type\":\"table\"}]},\"layout\":{\"annotationdefaults\":{\"arrowcolor\":\"#2a3f5f\",\"arrowhead\":0,\"arrowwidth\":1},\"autotypenumbers\":\"strict\",\"coloraxis\":{\"colorbar\":{\"outlinewidth\":0,\"ticks\":\"\"}},\"colorscale\":{\"diverging\":[[0,\"#8e0152\"],[0.1,\"#c51b7d\"],[0.2,\"#de77ae\"],[0.3,\"#f1b6da\"],[0.4,\"#fde0ef\"],[0.5,\"#f7f7f7\"],[0.6,\"#e6f5d0\"],[0.7,\"#b8e186\"],[0.8,\"#7fbc41\"],[0.9,\"#4d9221\"],[1,\"#276419\"]],\"sequential\":[[0.0,\"#0d0887\"],[0.1111111111111111,\"#46039f\"],[0.2222222222222222,\"#7201a8\"],[0.3333333333333333,\"#9c179e\"],[0.4444444444444444,\"#bd3786\"],[0.5555555555555556,\"#d8576b\"],[0.6666666666666666,\"#ed7953\"],[0.7777777777777778,\"#fb9f3a\"],[0.8888888888888888,\"#fdca26\"],[1.0,\"#f0f921\"]],\"sequentialminus\":[[0.0,\"#0d0887\"],[0.1111111111111111,\"#46039f\"],[0.2222222222222222,\"#7201a8\"],[0.3333333333333333,\"#9c179e\"],[0.4444444444444444,\"#bd3786\"],[0.5555555555555556,\"#d8576b\"],[0.6666666666666666,\"#ed7953\"],[0.7777777777777778,\"#fb9f3a\"],[0.8888888888888888,\"#fdca26\"],[1.0,\"#f0f921\"]]},\"colorway\":[\"#636efa\",\"#EF553B\",\"#00cc96\",\"#ab63fa\",\"#FFA15A\",\"#19d3f3\",\"#FF6692\",\"#B6E880\",\"#FF97FF\",\"#FECB52\"],\"font\":{\"color\":\"#2a3f5f\"},\"geo\":{\"bgcolor\":\"white\",\"lakecolor\":\"white\",\"landcolor\":\"#E5ECF6\",\"showlakes\":true,\"showland\":true,\"subunitcolor\":\"white\"},\"hoverlabel\":{\"align\":\"left\"},\"hovermode\":\"closest\",\"mapbox\":{\"style\":\"light\"},\"paper_bgcolor\":\"white\",\"plot_bgcolor\":\"#E5ECF6\",\"polar\":{\"angularaxis\":{\"gridcolor\":\"white\",\"linecolor\":\"white\",\"ticks\":\"\"},\"bgcolor\":\"#E5ECF6\",\"radialaxis\":{\"gridcolor\":\"white\",\"linecolor\":\"white\",\"ticks\":\"\"}},\"scene\":{\"xaxis\":{\"backgroundcolor\":\"#E5ECF6\",\"gridcolor\":\"white\",\"gridwidth\":2,\"linecolor\":\"white\",\"showbackground\":true,\"ticks\":\"\",\"zerolinecolor\":\"white\"},\"yaxis\":{\"backgroundcolor\":\"#E5ECF6\",\"gridcolor\":\"white\",\"gridwidth\":2,\"linecolor\":\"white\",\"showbackground\":true,\"ticks\":\"\",\"zerolinecolor\":\"white\"},\"zaxis\":{\"backgroundcolor\":\"#E5ECF6\",\"gridcolor\":\"white\",\"gridwidth\":2,\"linecolor\":\"white\",\"showbackground\":true,\"ticks\":\"\",\"zerolinecolor\":\"white\"}},\"shapedefaults\":{\"line\":{\"color\":\"#2a3f5f\"}},\"ternary\":{\"aaxis\":{\"gridcolor\":\"white\",\"linecolor\":\"white\",\"ticks\":\"\"},\"baxis\":{\"gridcolor\":\"white\",\"linecolor\":\"white\",\"ticks\":\"\"},\"bgcolor\":\"#E5ECF6\",\"caxis\":{\"gridcolor\":\"white\",\"linecolor\":\"white\",\"ticks\":\"\"}},\"title\":{\"x\":0.05},\"xaxis\":{\"automargin\":true,\"gridcolor\":\"white\",\"linecolor\":\"white\",\"ticks\":\"\",\"title\":{\"standoff\":15},\"zerolinecolor\":\"white\",\"zerolinewidth\":2},\"yaxis\":{\"automargin\":true,\"gridcolor\":\"white\",\"linecolor\":\"white\",\"ticks\":\"\",\"title\":{\"standoff\":15},\"zerolinecolor\":\"white\",\"zerolinewidth\":2}}},\"xaxis\":{\"anchor\":\"y\",\"domain\":[0.0,1.0],\"title\":{\"text\":\"value\"}},\"yaxis\":{\"anchor\":\"x\",\"domain\":[0.0,1.0],\"title\":{\"text\":\"count\"}}},                        {\"responsive\": true}                    ).then(function(){\n                            \nvar gd = document.getElementById('996b9e98-885b-4bcf-b118-a45f414093f9');\nvar x = new MutationObserver(function (mutations, observer) {{\n        var display = window.getComputedStyle(gd).display;\n        if (!display || display === 'none') {{\n            console.log([gd, 'removed!']);\n            Plotly.purge(gd);\n            observer.disconnect();\n        }}\n}});\n\n// Listen for the removal of the full notebook cells\nvar notebookContainer = gd.closest('#notebook-container');\nif (notebookContainer) {{\n    x.observe(notebookContainer, {childList: true});\n}}\n\n// Listen for the clearing of the current output cell\nvar outputEl = gd.closest('.output');\nif (outputEl) {{\n    x.observe(outputEl, {childList: true});\n}}\n\n                        })                };                            </script>        </div>\n</body>\n</html>"
     },
     "metadata": {},
     "output_type": "display_data"
    }
   ],
   "execution_count": 75
  },
  {
   "cell_type": "markdown",
   "source": "**Histograma con Boxplots:**",
   "metadata": {
    "cell_id": "00020-9926ac5f-6d0c-4e32-9f7d-813501c03af8",
    "deepnote_cell_type": "markdown"
   }
  },
  {
   "cell_type": "code",
   "metadata": {
    "cell_id": "00021-a8b684c8-2ab0-41b5-a5d5-4f0c97d25f45",
    "deepnote_to_be_reexecuted": false,
    "source_hash": "6a985281",
    "execution_start": 1633734105391,
    "execution_millis": 449,
    "deepnote_cell_type": "code"
   },
   "source": "df = px.data.tips()\nfig = px.histogram(df_grades_melted, x=\"value\",color=\"variable\" ,marginal=\"box\", # or violin, rug\n                   hover_data=df_grades_melted.columns)\nfig.show()\n",
   "outputs": [
    {
     "data": {
      "text/html": "<html>\n<head><meta charset=\"utf-8\" /></head>\n<body>\n    <div>            <script src=\"https://cdnjs.cloudflare.com/ajax/libs/mathjax/2.7.5/MathJax.js?config=TeX-AMS-MML_SVG\"></script><script type=\"text/javascript\">if (window.MathJax) {MathJax.Hub.Config({SVG: {font: \"STIX-Web\"}});}</script>                <script type=\"text/javascript\">window.PlotlyConfig = {MathJaxConfig: 'local'};</script>\n        <script src=\"https://cdn.plot.ly/plotly-2.4.2.min.js\"></script>                <div id=\"eed4355c-013a-429a-a121-53ac92f31cdd\" class=\"plotly-graph-div\" style=\"height:525px; width:100%;\"></div>            <script type=\"text/javascript\">                                    window.PLOTLYENV=window.PLOTLYENV || {};                                    if (document.getElementById(\"eed4355c-013a-429a-a121-53ac92f31cdd\")) {                    Plotly.newPlot(                        \"eed4355c-013a-429a-a121-53ac92f31cdd\",                        [{\"alignmentgroup\":\"True\",\"bingroup\":\"x\",\"hovertemplate\":\"variable=math score<br>value=%{x}<br>count=%{y}<extra></extra>\",\"legendgroup\":\"math score\",\"marker\":{\"color\":\"#636efa\",\"pattern\":{\"shape\":\"\"}},\"name\":\"math score\",\"offsetgroup\":\"math score\",\"orientation\":\"v\",\"showlegend\":true,\"type\":\"histogram\",\"x\":[3.22,5.8,5.38,5.86,6.64,5.26,5.5,3.04,4.78,6.64,4.9,4.12,4.72,5.44,4.72,5.38,3.76,5.92,4.78,4.84,5.8,6.58,5.14,3.76,6.16,4.54,6.04,4.84,5.38,5.98,5.5,5.14,5.08,4.42,4.96,4.66,3.4,4.0,3.88,3.16,5.68,4.42,5.14,3.4,6.52,3.1,4.78,5.38,4.78,4.12,5.38,4.78,5.26,3.7,6.1,5.8,5.62,6.46,4.6,4.78,3.4,4.42,4.48,6.82,5.86,5.08,4.54,6.76,6.22,4.42,6.64,6.82,4.9,5.92,5.32,4.72,3.64,5.92,5.5,4.54,5.5,5.32,5.08,4.96,5.02,6.58,5.14,4.78,3.76,4.96,4.72,3.88,5.26,4.24,5.8,4.3,6.4,6.64,5.86,4.18,4.66,5.5,5.44,4.72,5.2,4.54,4.72,4.18,5.8,5.14,5.14,5.14,3.94,5.98,4.9,5.38,5.08,4.84,4.9,3.94,4.48,4.96,4.9,4.9,5.2,5.74,4.0,4.84,5.08,2.92,5.08,4.48,2.14,5.14,5.32,4.18,4.66,5.68,4.18,3.7,3.64,5.98,4.9,6.28,6.28,6.46,6.04,4.06,3.2800000000000002,3.8200000000000003,4.96,4.66,4.6,5.26,3.7,5.62,4.18,4.42,5.32,5.5600000000000005,3.7,6.94,4.06,4.84,4.12,5.8,4.06,4.0,4.84,5.44,5.26,4.42,5.14,5.62,5.5,3.58,5.8,4.54,6.1,4.3,3.64,3.52,4.48,4.66,4.0,6.28,5.38,5.02,6.82,4.66,4.72,4.24,4.96,5.68,6.1,6.04,5.5600000000000005,3.64,5.86,4.24,4.48,5.86,5.32,5.26,4.66,4.96,5.26,5.26,6.34,5.38,5.86,3.76,2.32,3.88,3.64,6.46,5.5600000000000005,5.62,4.72,5.02,6.16,4.48,4.18,4.42,5.14,4.72,3.22,6.28,6.4,5.08,4.9,4.78,4.12,3.88,4.9,4.24,2.74,2.56,5.2,5.5,4.6,6.88,6.58,4.54,3.76,5.5600000000000005,5.74,2.68,4.3,4.66,3.1,6.64,3.76,7.0,5.02,4.0,5.74,5.26,5.98,4.3,3.88,5.5600000000000005,5.62,4.72,4.36,5.08,6.04,5.8,4.72,4.6,4.84,2.74,4.12,4.18,5.02,5.92,4.36,5.74,5.38,4.96,5.38,4.96,6.04,5.44,5.5600000000000005,5.86,5.74,5.08,4.78,4.0,5.32,6.1,5.98,6.04,4.9,6.1,5.2,4.48,6.16,4.84,4.9,4.66,3.94,4.18,6.82,5.5,5.32,5.44,4.54,5.08,5.68,4.18,5.32,6.94,5.74,6.46,5.98,5.32,4.66,5.38,4.54,7.0,4.66,5.62,5.26,3.94,4.72,6.16,5.5,3.8200000000000003,4.78,5.2,5.08,4.66,5.26,5.86,7.0,5.62,4.18,5.26,5.38,4.9,3.94,4.12,4.9,4.54,5.8,4.72,4.42,3.76,4.48,5.02,5.38,5.32,3.4,5.68,4.78,4.66,5.74,5.62,5.2,4.18,3.7,3.4,5.92,5.68,5.5,5.2,4.3,5.2,2.8,5.5,4.78,5.92,5.44,4.24,5.26,5.38,5.62,5.62,6.22,6.22,5.44,5.02,3.58,3.94,3.94,4.18,4.84,4.66,5.74,5.14,4.24,4.9,5.62,4.48,5.38,4.24,4.24,4.84,4.54,5.5600000000000005,6.1,6.82,4.18,4.12,5.62,5.74,4.42,4.96,4.78,4.9,5.08,4.3,5.32,6.16,6.82,5.5,4.12,5.44,5.2,3.34,4.66,3.64,6.22,4.96,5.08,4.72,5.86,5.2,5.44,5.5600000000000005,4.54,5.08,5.38,7.0,1.48,4.9,3.4,3.88,6.34,5.62,4.9,5.14,5.08,3.94,4.72,4.36,3.76,4.6,6.46,6.4,5.38,5.2,3.8200000000000003,4.9,5.86,4.3,6.58,4.9,4.72,3.88,5.08,4.96,4.3,3.52,5.44,3.22,4.96,6.28,5.14,4.66,3.34,6.22,4.84,3.64,4.54,5.8,5.26,4.18,5.68,4.3,5.2,4.9,6.16,4.24,3.46,6.4,4.54,4.9,5.02,6.34,4.54,5.38,5.44,6.16,4.66,4.42,4.48,3.7,4.78,5.02,6.64,4.36,4.72,5.2,5.2,5.5600000000000005,4.84,3.8200000000000003,4.96,3.4,4.96,5.08,4.06,6.28,6.4,4.12,3.94,4.18,5.26,4.0,4.48,3.52,5.02,3.34,6.1,5.68,5.38,5.08,6.34,3.4,5.92,5.62,5.14,5.74,4.18,3.58,4.48,6.28,5.14,6.1,5.14,5.32,4.42,4.48,4.72,5.5,6.28,5.86,5.02,5.02,5.44,5.26,6.1,4.36,5.92,4.6,5.86,6.22,3.76,4.48,4.72,5.5600000000000005,4.6,4.0,5.62,4.84,4.66,4.6,5.02,4.84,6.4,4.18,3.88,4.6,5.92,4.48,4.6,4.96,6.1,3.94,5.62,5.02,5.14,4.0,4.72,5.98,5.86,5.32,6.52,5.26,6.28,5.92,5.26,5.5,4.06,4.72,5.5,4.78,5.26,5.02,5.26,4.66,4.36,6.88,5.92,5.5,4.54,5.26,3.64,5.62,4.9,4.42,4.6,2.62,4.48,5.2,3.2800000000000002,3.52,7.0,6.34,3.1,5.62,4.72,5.74,3.76,4.54,4.96,3.8200000000000003,5.62,5.68,4.12,5.2,4.48,5.08,5.14,6.22,4.12,5.32,6.1,3.46,4.66,5.02,4.24,4.78,4.12,4.72,4.48,4.72,4.9,5.44,5.74,5.08,4.78,4.12,4.54,4.3,4.96,5.44,6.46,5.44,5.86,5.74,6.4,4.24,5.68,6.28,4.72,5.8,5.8,5.26,5.5,4.6,6.28,4.3,4.0,3.52,5.14,3.52,4.48,2.44,5.02,4.54,4.54,6.76,3.7,6.28,5.32,4.66,5.86,5.74,3.8200000000000003,3.94,4.24,5.26,4.54,6.34,4.54,4.42,5.62,5.62,4.6,5.5600000000000005,2.92,3.94,5.5600000000000005,4.84,4.78,4.0,3.64,4.96,5.02,4.66,5.14,4.9,4.18,6.22,4.18,4.96,3.94,5.02,4.3,2.8,5.38,4.72,5.74,4.78,4.12,4.48,5.68,5.44,5.08,5.92,5.38,4.54,5.44,6.04,5.02,6.22,5.62,4.48,5.14,4.9,6.52,6.22,5.14,5.38,4.66,5.02,5.14,5.44,4.84,3.16,3.46,3.94,4.54,6.04,5.5600000000000005,4.66,4.72,5.02,4.24,4.54,5.08,6.46,6.76,5.08,5.44,5.26,3.1,5.86,4.18,5.8,5.5600000000000005,4.78,4.42,4.48,5.32,4.3,5.8,3.46,4.06,6.1,5.86,4.12,2.08,5.38,4.78,4.54,4.78,4.78,5.8,4.6,4.84,6.88,4.54,4.9,6.22,4.96,4.12,5.38,6.22,5.74,5.14,3.8200000000000003,6.52,4.42,6.28,5.74,5.26,5.86,4.9,5.92,4.9,3.4,5.38,4.36,5.14,5.02,6.46,5.02,4.9,4.48,4.3,3.88,4.18,6.1,4.72,4.9,5.92,5.62,4.0,5.14,1.0,4.9,5.14,5.32,7.0,4.9,3.8200000000000003,4.06,5.26,5.92,4.3,5.5,4.96,5.32,5.2,4.42,6.04,4.66,3.7,4.9,2.62,6.28,4.9,4.78,5.68,4.9,6.4,7.0,5.02,5.44,5.5600000000000005,4.96,4.54,4.72,3.46,2.74,5.14,2.38,4.96,4.24,5.08],\"xaxis\":\"x\",\"yaxis\":\"y\"},{\"alignmentgroup\":\"True\",\"customdata\":[[\"Rita Courtney\",\"female\",\"group B\",\"some high school\",\"standard\",\"none\",\"math score\"],[\"Charles Linstrom\",\"male\",\"group A\",\"bachelor's degree\",\"standard\",\"completed\",\"math score\"],[\"Brian Young\",\"male\",\"group C\",\"some high school\",\"standard\",\"none\",\"math score\"],[\"Howard Jimenez\",\"male\",\"group E\",\"some high school\",\"standard\",\"completed\",\"math score\"],[\"Wayne Wilson\",\"male\",\"group B\",\"some high school\",\"standard\",\"completed\",\"math score\"],[\"Jonathan Clingan\",\"male\",\"group D\",\"some college\",\"standard\",\"completed\",\"math score\"],[\"William Tang\",\"male\",\"group D\",\"associate's degree\",\"standard\",\"none\",\"math score\"],[\"Mikki Amaya\",\"female\",\"group A\",\"high school\",\"free/reduced\",\"completed\",\"math score\"],[\"Gerald Wilson\",\"male\",\"group A\",\"associate's degree\",\"standard\",\"none\",\"math score\"],[\"Damon Mckee\",\"male\",\"group E\",\"high school\",\"standard\",\"none\",\"math score\"],[\"Sophia Bijou\",\"female\",\"group D\",\"some high school\",\"standard\",\"completed\",\"math score\"],[\"Monica Schwartz\",\"female\",\"group B\",\"associate's degree\",\"free/reduced\",\"none\",\"math score\"],[\"Donald Upchurch\",\"male\",\"group C\",\"associate's degree\",\"standard\",\"none\",\"math score\"],[\"Donald Dunnings\",\"male\",\"group D\",\"some high school\",\"standard\",\"none\",\"math score\"],[\"Joseph Mccoy\",\"male\",\"group D\",\"some college\",\"free/reduced\",\"none\",\"math score\"],[\"David Dupree\",\"male\",\"group B\",\"high school\",\"standard\",\"completed\",\"math score\"],[\"Samuel Dougal\",\"male\",\"group C\",\"master's degree\",\"free/reduced\",\"completed\",\"math score\"],[\"Richard Pina\",\"male\",\"group D\",\"master's degree\",\"standard\",\"none\",\"math score\"],[\"Dale Sylvain\",\"male\",\"group D\",\"some college\",\"free/reduced\",\"none\",\"math score\"],[\"Janine Taylor\",\"female\",\"group C\",\"associate's degree\",\"free/reduced\",\"none\",\"math score\"],[\"Alexander Dillon\",\"male\",\"group D\",\"associate's degree\",\"standard\",\"none\",\"math score\"],[\"Shanna Braswell\",\"female\",\"group D\",\"bachelor's degree\",\"free/reduced\",\"completed\",\"math score\"],[\"Bonnie Ramos\",\"female\",\"group B\",\"high school\",\"standard\",\"completed\",\"math score\"],[\"Connie Shinn\",\"female\",\"group B\",\"associate's degree\",\"free/reduced\",\"none\",\"math score\"],[\"Daniel Cartwright\",\"male\",\"group C\",\"high school\",\"standard\",\"completed\",\"math score\"],[\"Betty Buntin\",\"female\",\"group A\",\"bachelor's degree\",\"standard\",\"none\",\"math score\"],[\"Francis Seibold\",\"male\",\"group B\",\"some high school\",\"standard\",\"completed\",\"math score\"],[\"Arthur Byer\",\"male\",\"group D\",\"high school\",\"free/reduced\",\"completed\",\"math score\"],[\"Willie Neff\",\"female\",\"group E\",\"associate's degree\",\"free/reduced\",\"none\",\"math score\"],[\"Thelma Yeates\",\"female\",\"group E\",\"associate's degree\",\"free/reduced\",\"completed\",\"math score\"],[\"Mary Piotrowski\",\"female\",\"group E\",\"some college\",\"free/reduced\",\"completed\",\"math score\"],[\"Hazel Montoya\",\"female\",\"group D\",\"some college\",\"standard\",\"none\",\"math score\"],[\"James Eury\",\"male\",\"group E\",\"some college\",\"standard\",\"none\",\"math score\"],[\"Larry Dunn\",\"male\",\"group C\",\"some high school\",\"standard\",\"none\",\"math score\"],[\"David Dunham\",\"male\",\"group A\",\"bachelor's degree\",\"standard\",\"none\",\"math score\"],[\"Jeffery Wiedmann\",\"male\",\"group C\",\"some college\",\"standard\",\"none\",\"math score\"],[\"Lisa Watters\",\"female\",\"group D\",\"master's degree\",\"free/reduced\",\"none\",\"math score\"],[\"Katharine Kellum\",\"female\",\"group B\",\"high school\",\"free/reduced\",\"none\",\"math score\"],[\"Marjorie Brown\",\"female\",\"group B\",\"high school\",\"standard\",\"none\",\"math score\"],[\"Rodger Talavera\",\"male\",\"group B\",\"high school\",\"free/reduced\",\"none\",\"math score\"],[\"Mary Jackson\",\"female\",\"group B\",\"bachelor's degree\",\"free/reduced\",\"none\",\"math score\"],[\"Rebecca Dalton\",\"female\",\"group B\",\"some high school\",\"standard\",\"none\",\"math score\"],[\"David Fisk\",\"male\",\"group D\",\"bachelor's degree\",\"standard\",\"none\",\"math score\"],[\"Morris Johnson\",\"male\",\"group A\",\"associate's degree\",\"free/reduced\",\"completed\",\"math score\"],[\"Rodrick Rasch\",\"male\",\"group E\",\"some high school\",\"standard\",\"none\",\"math score\"],[\"Anthony Malcomb\",\"male\",\"group C\",\"some college\",\"free/reduced\",\"none\",\"math score\"],[\"Joyce Amos\",\"female\",\"group C\",\"associate's degree\",\"standard\",\"none\",\"math score\"],[\"Donald Chestnut\",\"male\",\"group C\",\"some college\",\"standard\",\"none\",\"math score\"],[\"Lynne Rodgers\",\"female\",\"group D\",\"some college\",\"standard\",\"none\",\"math score\"],[\"Diane Preister\",\"female\",\"group D\",\"some college\",\"free/reduced\",\"completed\",\"math score\"],[\"Brenda Kitchin\",\"female\",\"group B\",\"some high school\",\"standard\",\"none\",\"math score\"],[\"Susan Palmo\",\"female\",\"group C\",\"some college\",\"free/reduced\",\"completed\",\"math score\"],[\"Edward Hohn\",\"male\",\"group C\",\"high school\",\"standard\",\"none\",\"math score\"],[\"Donita Hill\",\"female\",\"group A\",\"bachelor's degree\",\"standard\",\"none\",\"math score\"],[\"Natalie Turney\",\"female\",\"group E\",\"associate's degree\",\"standard\",\"none\",\"math score\"],[\"Joe Burks\",\"male\",\"group E\",\"high school\",\"standard\",\"none\",\"math score\"],[\"Kim Stallard\",\"female\",\"group C\",\"bachelor's degree\",\"standard\",\"completed\",\"math score\"],[\"Dennis Campbell\",\"male\",\"group C\",\"master's degree\",\"standard\",\"completed\",\"math score\"],[\"Alan Mccloud\",\"male\",\"group B\",\"some college\",\"free/reduced\",\"completed\",\"math score\"],[\"Troy Kittleson\",\"male\",\"group B\",\"high school\",\"free/reduced\",\"none\",\"math score\"],[\"Ann Pence\",\"female\",\"group B\",\"associate's degree\",\"standard\",\"none\",\"math score\"],[\"William Austin\",\"male\",\"group C\",\"associate's degree\",\"standard\",\"completed\",\"math score\"],[\"Shaun Johnson\",\"male\",\"group C\",\"associate's degree\",\"standard\",\"none\",\"math score\"],[\"Darryl Ruble\",\"male\",\"group E\",\"associate's degree\",\"standard\",\"completed\",\"math score\"],[\"Harry Berry\",\"male\",\"group B\",\"associate's degree\",\"standard\",\"completed\",\"math score\"],[\"Logan Camp\",\"male\",\"group C\",\"associate's degree\",\"free/reduced\",\"none\",\"math score\"],[\"Margaret Spannaus\",\"female\",\"group C\",\"high school\",\"free/reduced\",\"completed\",\"math score\"],[\"Joseph Dean\",\"male\",\"group C\",\"bachelor's degree\",\"standard\",\"completed\",\"math score\"],[\"Leon Shipley\",\"male\",\"group B\",\"some college\",\"standard\",\"completed\",\"math score\"],[\"Cathy Kuhl\",\"female\",\"group E\",\"high school\",\"free/reduced\",\"completed\",\"math score\"],[\"Sylvester Beveridge\",\"male\",\"group E\",\"some high school\",\"standard\",\"none\",\"math score\"],[\"Joseph Sisk\",\"male\",\"group C\",\"associate's degree\",\"standard\",\"none\",\"math score\"],[\"Debra Fannin\",\"female\",\"group B\",\"bachelor's degree\",\"standard\",\"completed\",\"math score\"],[\"Susan Cook\",\"female\",\"group C\",\"associate's degree\",\"free/reduced\",\"completed\",\"math score\"],[\"Andrew Duran\",\"male\",\"group D\",\"some college\",\"standard\",\"none\",\"math score\"],[\"Tina Spillman\",\"female\",\"group C\",\"associate's degree\",\"standard\",\"none\",\"math score\"],[\"John Salter\",\"male\",\"group D\",\"some college\",\"standard\",\"none\",\"math score\"],[\"Francisco Johnson\",\"male\",\"group B\",\"associate's degree\",\"standard\",\"completed\",\"math score\"],[\"Audrey Vargas\",\"female\",\"group D\",\"associate's degree\",\"free/reduced\",\"completed\",\"math score\"],[\"Brian Green\",\"male\",\"group C\",\"some college\",\"standard\",\"none\",\"math score\"],[\"Rodney Guerrera\",\"male\",\"group D\",\"bachelor's degree\",\"standard\",\"none\",\"math score\"],[\"Floyd Annino\",\"male\",\"group B\",\"some high school\",\"standard\",\"none\",\"math score\"],[\"Vickie Sellers\",\"female\",\"group D\",\"some college\",\"standard\",\"completed\",\"math score\"],[\"Estelle Jackson\",\"female\",\"group E\",\"high school\",\"free/reduced\",\"completed\",\"math score\"],[\"Sergio Littlejohn\",\"male\",\"group B\",\"associate's degree\",\"free/reduced\",\"none\",\"math score\"],[\"Norman Arnold\",\"male\",\"group E\",\"some college\",\"free/reduced\",\"none\",\"math score\"],[\"Bruce Tang\",\"male\",\"group C\",\"bachelor's degree\",\"standard\",\"none\",\"math score\"],[\"Heather Cunningham\",\"female\",\"group C\",\"some college\",\"standard\",\"none\",\"math score\"],[\"Tamara Mckinney\",\"female\",\"group C\",\"some college\",\"free/reduced\",\"none\",\"math score\"],[\"David Okeeffe\",\"male\",\"group A\",\"some high school\",\"standard\",\"completed\",\"math score\"],[\"Martha Johnson\",\"female\",\"group E\",\"some college\",\"standard\",\"none\",\"math score\"],[\"Kathy Castro\",\"female\",\"group C\",\"some high school\",\"free/reduced\",\"none\",\"math score\"],[\"Ayana Childs\",\"female\",\"group E\",\"bachelor's degree\",\"standard\",\"completed\",\"math score\"],[\"Robert Miranda\",\"male\",\"group C\",\"high school\",\"free/reduced\",\"none\",\"math score\"],[\"Katrina Wilcox\",\"female\",\"group E\",\"bachelor's degree\",\"standard\",\"none\",\"math score\"],[\"Robert Wallace\",\"male\",\"group B\",\"bachelor's degree\",\"free/reduced\",\"none\",\"math score\"],[\"John Echols\",\"male\",\"group D\",\"associate's degree\",\"standard\",\"none\",\"math score\"],[\"Ana Loredo\",\"female\",\"group E\",\"master's degree\",\"standard\",\"completed\",\"math score\"],[\"Bobby Labounty\",\"male\",\"group B\",\"associate's degree\",\"standard\",\"none\",\"math score\"],[\"Carl Caruthers\",\"male\",\"group A\",\"some college\",\"standard\",\"none\",\"math score\"],[\"Lessie Thompson\",\"female\",\"group A\",\"high school\",\"standard\",\"none\",\"math score\"],[\"Pamela Cannady\",\"female\",\"group B\",\"bachelor's degree\",\"free/reduced\",\"none\",\"math score\"],[\"Stacy Wickman\",\"female\",\"group E\",\"high school\",\"standard\",\"none\",\"math score\"],[\"Matthew Harris\",\"male\",\"group A\",\"bachelor's degree\",\"free/reduced\",\"none\",\"math score\"],[\"Melissa Flores\",\"female\",\"group D\",\"some college\",\"free/reduced\",\"completed\",\"math score\"],[\"Scott Mercer\",\"male\",\"group E\",\"some college\",\"standard\",\"none\",\"math score\"],[\"Ethel Kirby\",\"female\",\"group D\",\"bachelor's degree\",\"free/reduced\",\"none\",\"math score\"],[\"Karen Ogburn\",\"female\",\"group A\",\"high school\",\"free/reduced\",\"completed\",\"math score\"],[\"Marilyn Provino\",\"female\",\"group E\",\"some high school\",\"standard\",\"completed\",\"math score\"],[\"Jose Hines\",\"male\",\"group D\",\"some high school\",\"standard\",\"none\",\"math score\"],[\"Ma Smith\",\"female\",\"group C\",\"some college\",\"standard\",\"none\",\"math score\"],[\"Audrey Mcdonald\",\"female\",\"group D\",\"some college\",\"standard\",\"none\",\"math score\"],[\"Paul Sherrill\",\"male\",\"group B\",\"high school\",\"free/reduced\",\"none\",\"math score\"],[\"Judith Foster\",\"female\",\"group C\",\"bachelor's degree\",\"standard\",\"none\",\"math score\"],[\"Janice Wells\",\"female\",\"group D\",\"high school\",\"free/reduced\",\"completed\",\"math score\"],[\"Anthony Murphy\",\"male\",\"group E\",\"high school\",\"standard\",\"none\",\"math score\"],[\"Denise Chavez\",\"female\",\"group B\",\"high school\",\"standard\",\"completed\",\"math score\"],[\"Dan Atchley\",\"male\",\"group C\",\"associate's degree\",\"free/reduced\",\"none\",\"math score\"],[\"Carmen Tenery\",\"female\",\"group C\",\"associate's degree\",\"free/reduced\",\"none\",\"math score\"],[\"Richard Harden\",\"male\",\"group D\",\"some college\",\"free/reduced\",\"none\",\"math score\"],[\"Patricia Hearn\",\"female\",\"group D\",\"some college\",\"free/reduced\",\"none\",\"math score\"],[\"Audrey Darby\",\"female\",\"group D\",\"some high school\",\"standard\",\"completed\",\"math score\"],[\"Vivian Elliott\",\"female\",\"group A\",\"associate's degree\",\"standard\",\"completed\",\"math score\"],[\"Joanna Gardner\",\"female\",\"group C\",\"bachelor's degree\",\"standard\",\"none\",\"math score\"],[\"Alan Roll\",\"male\",\"group E\",\"bachelor's degree\",\"free/reduced\",\"completed\",\"math score\"],[\"Lisa Forry\",\"female\",\"group E\",\"bachelor's degree\",\"standard\",\"completed\",\"math score\"],[\"Jacqueline Mcneill\",\"female\",\"group A\",\"master's degree\",\"free/reduced\",\"none\",\"math score\"],[\"Russell Newlin\",\"male\",\"group D\",\"high school\",\"standard\",\"none\",\"math score\"],[\"Matthew Aucoin\",\"male\",\"group E\",\"some college\",\"standard\",\"none\",\"math score\"],[\"Alicia Ratliff\",\"female\",\"group B\",\"some high school\",\"standard\",\"completed\",\"math score\"],[\"Jason Throneberry\",\"male\",\"group E\",\"some high school\",\"standard\",\"completed\",\"math score\"],[\"Eric Mitchell\",\"male\",\"group C\",\"some college\",\"free/reduced\",\"none\",\"math score\"],[\"Patricia Briney\",\"female\",\"group B\",\"some college\",\"standard\",\"none\",\"math score\"],[\"Christine Everhart\",\"female\",\"group D\",\"high school\",\"standard\",\"none\",\"math score\"],[\"Daniel Adams\",\"male\",\"group D\",\"associate's degree\",\"standard\",\"none\",\"math score\"],[\"Carmen Tyson\",\"female\",\"group E\",\"some college\",\"free/reduced\",\"none\",\"math score\"],[\"John Johnson\",\"male\",\"group A\",\"some college\",\"standard\",\"completed\",\"math score\"],[\"Curt Ruiz\",\"male\",\"group C\",\"some high school\",\"standard\",\"completed\",\"math score\"],[\"Amy Cook\",\"female\",\"group C\",\"associate's degree\",\"standard\",\"none\",\"math score\"],[\"Chanelle Mauricio\",\"female\",\"group E\",\"master's degree\",\"free/reduced\",\"none\",\"math score\"],[\"Chris Chauncey\",\"male\",\"group D\",\"high school\",\"free/reduced\",\"none\",\"math score\"],[\"Arlene Calhoun\",\"female\",\"group C\",\"some college\",\"standard\",\"none\",\"math score\"],[\"Therese Dobbins\",\"female\",\"group C\",\"some high school\",\"free/reduced\",\"completed\",\"math score\"],[\"Alfred Penn\",\"male\",\"group D\",\"bachelor's degree\",\"standard\",\"none\",\"math score\"],[\"Kelly Summers\",\"female\",\"group C\",\"some college\",\"standard\",\"completed\",\"math score\"],[\"Earl Rodriguez\",\"male\",\"group B\",\"associate's degree\",\"standard\",\"completed\",\"math score\"],[\"Ulrike Davidson\",\"female\",\"group C\",\"some college\",\"standard\",\"none\",\"math score\"],[\"Autumn Miller\",\"female\",\"group D\",\"high school\",\"standard\",\"none\",\"math score\"],[\"Julie Watkins\",\"female\",\"group E\",\"some high school\",\"free/reduced\",\"none\",\"math score\"],[\"Marie Mcgovern\",\"female\",\"group D\",\"associate's degree\",\"free/reduced\",\"none\",\"math score\"],[\"Mark Lewis\",\"male\",\"group E\",\"some college\",\"standard\",\"none\",\"math score\"],[\"Ana Rodriguez\",\"female\",\"group C\",\"high school\",\"standard\",\"none\",\"math score\"],[\"Duane Baisley\",\"male\",\"group B\",\"high school\",\"standard\",\"none\",\"math score\"],[\"Mable Collins\",\"female\",\"group D\",\"associate's degree\",\"standard\",\"none\",\"math score\"],[\"Concepcion Burkett\",\"female\",\"group D\",\"high school\",\"standard\",\"none\",\"math score\"],[\"Kari Mitchell\",\"female\",\"group D\",\"some college\",\"free/reduced\",\"none\",\"math score\"],[\"David Davis\",\"male\",\"group C\",\"bachelor's degree\",\"free/reduced\",\"none\",\"math score\"],[\"Harry Murphy\",\"male\",\"group A\",\"high school\",\"standard\",\"none\",\"math score\"],[\"Casey Brenneman\",\"male\",\"group E\",\"associate's degree\",\"standard\",\"none\",\"math score\"],[\"Donald Griffin\",\"male\",\"group D\",\"some college\",\"standard\",\"none\",\"math score\"],[\"Michael Reel\",\"male\",\"group D\",\"high school\",\"standard\",\"none\",\"math score\"],[\"Cheryl Leonard\",\"female\",\"group E\",\"high school\",\"standard\",\"none\",\"math score\"],[\"Judith Lindsay\",\"female\",\"group C\",\"bachelor's degree\",\"free/reduced\",\"completed\",\"math score\"],[\"Anthony Casey\",\"male\",\"group A\",\"bachelor's degree\",\"standard\",\"none\",\"math score\"],[\"Michele Montgomery\",\"female\",\"group C\",\"bachelor's degree\",\"standard\",\"completed\",\"math score\"],[\"James Deluca\",\"male\",\"group D\",\"bachelor's degree\",\"standard\",\"none\",\"math score\"],[\"Gary Spencer\",\"male\",\"group B\",\"some high school\",\"standard\",\"completed\",\"math score\"],[\"Michael Mederos\",\"male\",\"group C\",\"high school\",\"standard\",\"none\",\"math score\"],[\"Thelma Kabat\",\"female\",\"group E\",\"bachelor's degree\",\"standard\",\"none\",\"math score\"],[\"Maxine Walton\",\"female\",\"group E\",\"some high school\",\"free/reduced\",\"none\",\"math score\"],[\"Rosalind Knauer\",\"female\",\"group C\",\"associate's degree\",\"standard\",\"completed\",\"math score\"],[\"Tanya Favela\",\"female\",\"group D\",\"associate's degree\",\"free/reduced\",\"completed\",\"math score\"],[\"Joseph Guerriero\",\"male\",\"group D\",\"high school\",\"free/reduced\",\"none\",\"math score\"],[\"Mollie Vasquez\",\"female\",\"group C\",\"some high school\",\"standard\",\"completed\",\"math score\"],[\"Darrell Xiong\",\"male\",\"group D\",\"high school\",\"free/reduced\",\"none\",\"math score\"],[\"Callie Mork\",\"female\",\"group C\",\"bachelor's degree\",\"free/reduced\",\"completed\",\"math score\"],[\"Shelby Flores\",\"male\",\"group D\",\"associate's degree\",\"standard\",\"none\",\"math score\"],[\"Virginia Griest\",\"female\",\"group C\",\"high school\",\"standard\",\"none\",\"math score\"],[\"David Moss\",\"male\",\"group D\",\"some college\",\"standard\",\"completed\",\"math score\"],[\"Rebecca Souliere\",\"female\",\"group D\",\"associate's degree\",\"free/reduced\",\"none\",\"math score\"],[\"Ashley Atkinson\",\"female\",\"group C\",\"bachelor's degree\",\"free/reduced\",\"none\",\"math score\"],[\"Tina Willis\",\"female\",\"group C\",\"high school\",\"free/reduced\",\"none\",\"math score\"],[\"Shawn Lopez\",\"male\",\"group D\",\"some college\",\"standard\",\"completed\",\"math score\"],[\"Ivan King\",\"male\",\"group D\",\"some college\",\"free/reduced\",\"none\",\"math score\"],[\"Caroline Atchison\",\"female\",\"group C\",\"high school\",\"free/reduced\",\"completed\",\"math score\"],[\"Joel Reed\",\"male\",\"group D\",\"some high school\",\"standard\",\"completed\",\"math score\"],[\"David Lafave\",\"male\",\"group C\",\"associate's degree\",\"standard\",\"completed\",\"math score\"],[\"Audrey Love\",\"female\",\"group B\",\"bachelor's degree\",\"standard\",\"none\",\"math score\"],[\"Emma Brasher\",\"female\",\"group D\",\"some high school\",\"standard\",\"completed\",\"math score\"],[\"Michael Young\",\"male\",\"group B\",\"associate's degree\",\"free/reduced\",\"none\",\"math score\"],[\"Georgia Collins\",\"female\",\"group B\",\"some high school\",\"standard\",\"none\",\"math score\"],[\"Denise Potts\",\"female\",\"group A\",\"some college\",\"standard\",\"none\",\"math score\"],[\"Donna Cortez\",\"female\",\"group C\",\"high school\",\"standard\",\"none\",\"math score\"],[\"Barbar Gonzalez\",\"female\",\"group D\",\"master's degree\",\"standard\",\"none\",\"math score\"],[\"Andrew Bledsoe\",\"male\",\"group E\",\"some college\",\"standard\",\"completed\",\"math score\"],[\"James Cambron\",\"male\",\"group D\",\"some high school\",\"standard\",\"none\",\"math score\"],[\"Marybeth Mazzone\",\"female\",\"group B\",\"associate's degree\",\"free/reduced\",\"completed\",\"math score\"],[\"Mary Nelson\",\"female\",\"group C\",\"high school\",\"standard\",\"none\",\"math score\"],[\"Lucille Stanphill\",\"female\",\"group C\",\"high school\",\"standard\",\"none\",\"math score\"],[\"Jim Burkhart\",\"male\",\"group D\",\"bachelor's degree\",\"standard\",\"none\",\"math score\"],[\"Maria Holscher\",\"female\",\"group B\",\"associate's degree\",\"standard\",\"none\",\"math score\"],[\"Steven Kelly\",\"male\",\"group D\",\"some college\",\"standard\",\"none\",\"math score\"],[\"Eileen Parra\",\"female\",\"group B\",\"some high school\",\"free/reduced\",\"none\",\"math score\"],[\"Charles Smith\",\"male\",\"group D\",\"some college\",\"standard\",\"none\",\"math score\"],[\"William Saska\",\"male\",\"group B\",\"associate's degree\",\"standard\",\"none\",\"math score\"],[\"Anna Lauterbach\",\"female\",\"group C\",\"associate's degree\",\"standard\",\"none\",\"math score\"],[\"Ruth Bolduc\",\"female\",\"group D\",\"bachelor's degree\",\"standard\",\"completed\",\"math score\"],[\"David Osteen\",\"male\",\"group C\",\"high school\",\"standard\",\"none\",\"math score\"],[\"Edward Lee\",\"male\",\"group D\",\"some high school\",\"standard\",\"completed\",\"math score\"],[\"Rosemary Pratt\",\"female\",\"group B\",\"associate's degree\",\"standard\",\"none\",\"math score\"],[\"Arthur William\",\"male\",\"group E\",\"associate's degree\",\"standard\",\"completed\",\"math score\"],[\"Gerald Brunner\",\"male\",\"group D\",\"high school\",\"standard\",\"none\",\"math score\"],[\"Barbara Henriques\",\"female\",\"group C\",\"some college\",\"free/reduced\",\"none\",\"math score\"],[\"John Moreno\",\"male\",\"group B\",\"some high school\",\"free/reduced\",\"none\",\"math score\"],[\"Leona Cohen\",\"female\",\"group A\",\"some high school\",\"free/reduced\",\"none\",\"math score\"],[\"Benjamin Finch\",\"male\",\"group C\",\"bachelor's degree\",\"standard\",\"completed\",\"math score\"],[\"John Greenway\",\"male\",\"group C\",\"some high school\",\"standard\",\"completed\",\"math score\"],[\"Thomas Schweitzer\",\"male\",\"group D\",\"associate's degree\",\"free/reduced\",\"none\",\"math score\"],[\"Allison Tankersley\",\"female\",\"group C\",\"some college\",\"free/reduced\",\"none\",\"math score\"],[\"Solomon Washington\",\"male\",\"group B\",\"some high school\",\"standard\",\"none\",\"math score\"],[\"Robert Taylor\",\"male\",\"group E\",\"high school\",\"free/reduced\",\"completed\",\"math score\"],[\"Pamela Tanguay\",\"female\",\"group B\",\"high school\",\"standard\",\"completed\",\"math score\"],[\"Adam Romero\",\"male\",\"group C\",\"high school\",\"standard\",\"completed\",\"math score\"],[\"Sarah Mcbride\",\"female\",\"group D\",\"high school\",\"standard\",\"completed\",\"math score\"],[\"Denise Harstad\",\"female\",\"group C\",\"some high school\",\"standard\",\"none\",\"math score\"],[\"Frank Moran\",\"male\",\"group B\",\"some college\",\"standard\",\"completed\",\"math score\"],[\"Florencia Morrison\",\"female\",\"group A\",\"associate's degree\",\"free/reduced\",\"none\",\"math score\"],[\"Charles Johnson\",\"male\",\"group C\",\"high school\",\"standard\",\"none\",\"math score\"],[\"Mark Wilson\",\"male\",\"group C\",\"high school\",\"standard\",\"none\",\"math score\"],[\"James Lydon\",\"male\",\"group A\",\"high school\",\"standard\",\"none\",\"math score\"],[\"Judith Malone\",\"female\",\"group B\",\"some college\",\"free/reduced\",\"completed\",\"math score\"],[\"Vanessa Welch\",\"female\",\"group C\",\"high school\",\"standard\",\"none\",\"math score\"],[\"Leona Martinez\",\"female\",\"group D\",\"high school\",\"free/reduced\",\"completed\",\"math score\"],[\"Kermit Gates\",\"male\",\"group B\",\"associate's degree\",\"standard\",\"none\",\"math score\"],[\"Lawrence Cormier\",\"male\",\"group B\",\"associate's degree\",\"standard\",\"none\",\"math score\"],[\"Michael Gaccione\",\"male\",\"group B\",\"some college\",\"free/reduced\",\"none\",\"math score\"],[\"Paula Barriere\",\"female\",\"group D\",\"bachelor's degree\",\"free/reduced\",\"none\",\"math score\"],[\"Marina Smith\",\"female\",\"group D\",\"associate's degree\",\"free/reduced\",\"none\",\"math score\"],[\"Kathryn Dale\",\"female\",\"group B\",\"some college\",\"standard\",\"none\",\"math score\"],[\"Larry Werts\",\"male\",\"group D\",\"some high school\",\"standard\",\"none\",\"math score\"],[\"Stanley Warren\",\"male\",\"group D\",\"high school\",\"free/reduced\",\"none\",\"math score\"],[\"Clyde Gay\",\"male\",\"group C\",\"associate's degree\",\"standard\",\"completed\",\"math score\"],[\"Walter Ortiz\",\"male\",\"group C\",\"some college\",\"standard\",\"completed\",\"math score\"],[\"Jose Dunagan\",\"male\",\"group B\",\"bachelor's degree\",\"standard\",\"none\",\"math score\"],[\"Aurelia Spaulding\",\"female\",\"group B\",\"high school\",\"free/reduced\",\"completed\",\"math score\"],[\"Ray Juul\",\"male\",\"group D\",\"some college\",\"standard\",\"none\",\"math score\"],[\"Sherri Turner\",\"female\",\"group E\",\"associate's degree\",\"standard\",\"completed\",\"math score\"],[\"John Gunter\",\"male\",\"group A\",\"some college\",\"free/reduced\",\"none\",\"math score\"],[\"Lorene Hall\",\"female\",\"group D\",\"some college\",\"free/reduced\",\"none\",\"math score\"],[\"Victor Kinkead\",\"male\",\"group C\",\"some high school\",\"free/reduced\",\"none\",\"math score\"],[\"Sara Ray\",\"female\",\"group C\",\"high school\",\"free/reduced\",\"none\",\"math score\"],[\"Ronald Mason\",\"male\",\"group E\",\"associate's degree\",\"standard\",\"completed\",\"math score\"],[\"Dawn Cummings\",\"female\",\"group C\",\"associate's degree\",\"standard\",\"none\",\"math score\"],[\"Elizabeth Beasley\",\"female\",\"group E\",\"bachelor's degree\",\"standard\",\"none\",\"math score\"],[\"Maribel Gates\",\"female\",\"group B\",\"high school\",\"free/reduced\",\"completed\",\"math score\"],[\"Scott Oviedo\",\"male\",\"group A\",\"some college\",\"free/reduced\",\"completed\",\"math score\"],[\"Gaylene Hunt\",\"female\",\"group D\",\"some college\",\"standard\",\"completed\",\"math score\"],[\"Doris Arujo\",\"female\",\"group C\",\"some college\",\"standard\",\"none\",\"math score\"],[\"Christopher Martinez\",\"male\",\"group C\",\"bachelor's degree\",\"standard\",\"completed\",\"math score\"],[\"Kimberly Vega\",\"female\",\"group D\",\"master's degree\",\"standard\",\"none\",\"math score\"],[\"Jennifer Koczera\",\"female\",\"group C\",\"some high school\",\"free/reduced\",\"none\",\"math score\"],[\"Julian Burke\",\"male\",\"group D\",\"high school\",\"standard\",\"none\",\"math score\"],[\"Kimberly Moberg\",\"female\",\"group D\",\"associate's degree\",\"standard\",\"none\",\"math score\"],[\"Shirley Damon\",\"female\",\"group C\",\"bachelor's degree\",\"free/reduced\",\"none\",\"math score\"],[\"Kathleen Taylor\",\"female\",\"group C\",\"associate's degree\",\"free/reduced\",\"completed\",\"math score\"],[\"Ann Cain\",\"female\",\"group C\",\"associate's degree\",\"standard\",\"completed\",\"math score\"],[\"Josh Moore\",\"male\",\"group C\",\"high school\",\"standard\",\"none\",\"math score\"],[\"David Carnagey\",\"male\",\"group D\",\"associate's degree\",\"standard\",\"none\",\"math score\"],[\"Viola Santiago\",\"female\",\"group D\",\"master's degree\",\"standard\",\"none\",\"math score\"],[\"Mary Levy\",\"female\",\"group D\",\"some college\",\"free/reduced\",\"none\",\"math score\"],[\"Terry Wingerd\",\"female\",\"group E\",\"high school\",\"free/reduced\",\"none\",\"math score\"],[\"Flossie Streeter\",\"female\",\"group C\",\"some high school\",\"free/reduced\",\"completed\",\"math score\"],[\"Kimberly Bradford\",\"female\",\"group B\",\"bachelor's degree\",\"standard\",\"none\",\"math score\"],[\"Erica Maynard\",\"female\",\"group D\",\"master's degree\",\"standard\",\"none\",\"math score\"],[\"David Haffner\",\"male\",\"group D\",\"bachelor's degree\",\"standard\",\"completed\",\"math score\"],[\"Anna Cotman\",\"female\",\"group D\",\"associate's degree\",\"standard\",\"none\",\"math score\"],[\"Mary Trager\",\"female\",\"group C\",\"bachelor's degree\",\"standard\",\"completed\",\"math score\"],[\"Joseph Agustin\",\"male\",\"group C\",\"some high school\",\"free/reduced\",\"none\",\"math score\"],[\"Thomas Watson\",\"male\",\"group D\",\"high school\",\"free/reduced\",\"completed\",\"math score\"],[\"Aaron Oakden\",\"male\",\"group D\",\"high school\",\"free/reduced\",\"none\",\"math score\"],[\"Maritza Gasaway\",\"female\",\"group D\",\"some high school\",\"standard\",\"none\",\"math score\"],[\"Gail Cassady\",\"female\",\"group E\",\"associate's degree\",\"standard\",\"none\",\"math score\"],[\"Joe Thomas\",\"male\",\"group E\",\"high school\",\"standard\",\"none\",\"math score\"],[\"Charles Suggs\",\"male\",\"group C\",\"some college\",\"free/reduced\",\"none\",\"math score\"],[\"Henry Mcgowen\",\"male\",\"group E\",\"some college\",\"standard\",\"none\",\"math score\"],[\"Greg Westerberg\",\"male\",\"group D\",\"associate's degree\",\"standard\",\"completed\",\"math score\"],[\"Sherri Todd\",\"female\",\"group D\",\"some college\",\"free/reduced\",\"none\",\"math score\"],[\"Karen Flye\",\"female\",\"group D\",\"some high school\",\"standard\",\"none\",\"math score\"],[\"Judith Mckay\",\"female\",\"group C\",\"some college\",\"standard\",\"completed\",\"math score\"],[\"Celeste Petch\",\"female\",\"group E\",\"associate's degree\",\"free/reduced\",\"none\",\"math score\"],[\"Charles Dearing\",\"male\",\"group B\",\"high school\",\"standard\",\"completed\",\"math score\"],[\"Molly House\",\"female\",\"group C\",\"some high school\",\"standard\",\"completed\",\"math score\"],[\"Michael Bashaw\",\"male\",\"group C\",\"bachelor's degree\",\"standard\",\"none\",\"math score\"],[\"Tracy Fowler\",\"female\",\"group E\",\"associate's degree\",\"standard\",\"none\",\"math score\"],[\"Aletha Bonds\",\"female\",\"group C\",\"associate's degree\",\"standard\",\"none\",\"math score\"],[\"Carmen Simcoe\",\"female\",\"group D\",\"some college\",\"standard\",\"completed\",\"math score\"],[\"Milton Chaput\",\"male\",\"group D\",\"high school\",\"standard\",\"none\",\"math score\"],[\"Denise Mcdonald\",\"female\",\"group D\",\"some college\",\"free/reduced\",\"completed\",\"math score\"],[\"Osvaldo Barraza\",\"male\",\"group D\",\"some high school\",\"standard\",\"none\",\"math score\"],[\"Nicole Roberts\",\"female\",\"group C\",\"some college\",\"standard\",\"completed\",\"math score\"],[\"Agnes Dobbs\",\"female\",\"group C\",\"master's degree\",\"free/reduced\",\"completed\",\"math score\"],[\"Richard Henry\",\"male\",\"group D\",\"associate's degree\",\"standard\",\"none\",\"math score\"],[\"Marvin Cooper\",\"male\",\"group C\",\"associate's degree\",\"free/reduced\",\"none\",\"math score\"],[\"Daniel Deas\",\"male\",\"group C\",\"high school\",\"free/reduced\",\"completed\",\"math score\"],[\"Jeanine Diaz\",\"female\",\"group B\",\"bachelor's degree\",\"standard\",\"none\",\"math score\"],[\"Alfonzo Kellar\",\"male\",\"group C\",\"some high school\",\"standard\",\"none\",\"math score\"],[\"Richard Royals\",\"male\",\"group A\",\"high school\",\"standard\",\"completed\",\"math score\"],[\"Matthew Mcdonald\",\"male\",\"group D\",\"bachelor's degree\",\"free/reduced\",\"completed\",\"math score\"],[\"Nancy Sumler\",\"female\",\"group D\",\"some high school\",\"standard\",\"none\",\"math score\"],[\"Evan Ammons\",\"male\",\"group D\",\"bachelor's degree\",\"free/reduced\",\"none\",\"math score\"],[\"Jamie Jackson\",\"male\",\"group C\",\"associate's degree\",\"standard\",\"completed\",\"math score\"],[\"Travis Shoun\",\"male\",\"group A\",\"high school\",\"free/reduced\",\"none\",\"math score\"],[\"Randy Mccarthy\",\"male\",\"group E\",\"associate's degree\",\"standard\",\"none\",\"math score\"],[\"Emma Gray\",\"female\",\"group E\",\"bachelor's degree\",\"standard\",\"completed\",\"math score\"],[\"Sara Kochan\",\"female\",\"group D\",\"bachelor's degree\",\"standard\",\"none\",\"math score\"],[\"Edward Lowman\",\"male\",\"group E\",\"associate's degree\",\"free/reduced\",\"completed\",\"math score\"],[\"Corey Brown\",\"male\",\"group C\",\"associate's degree\",\"standard\",\"none\",\"math score\"],[\"Jacqueline Mayrant\",\"female\",\"group E\",\"some high school\",\"free/reduced\",\"none\",\"math score\"],[\"Joseph Holsapple\",\"male\",\"group A\",\"some high school\",\"free/reduced\",\"completed\",\"math score\"],[\"Edward Hutcheson\",\"male\",\"group A\",\"master's degree\",\"free/reduced\",\"none\",\"math score\"],[\"Aimee Tamayo\",\"female\",\"group C\",\"some high school\",\"standard\",\"completed\",\"math score\"],[\"Raymond Stuart\",\"male\",\"group A\",\"some college\",\"standard\",\"completed\",\"math score\"],[\"Ralph Cleveland\",\"male\",\"group C\",\"bachelor's degree\",\"free/reduced\",\"none\",\"math score\"],[\"Helen Pince\",\"female\",\"group E\",\"some high school\",\"standard\",\"none\",\"math score\"],[\"Stephen Boers\",\"male\",\"group C\",\"master's degree\",\"standard\",\"none\",\"math score\"],[\"Heather Banks\",\"female\",\"group C\",\"associate's degree\",\"standard\",\"none\",\"math score\"],[\"Jeffrey Massa\",\"male\",\"group A\",\"associate's degree\",\"free/reduced\",\"none\",\"math score\"],[\"Marguerite Ramos\",\"female\",\"group C\",\"bachelor's degree\",\"standard\",\"none\",\"math score\"],[\"Frank Barrera\",\"male\",\"group C\",\"high school\",\"standard\",\"none\",\"math score\"],[\"Quiana Rohrbach\",\"female\",\"group A\",\"some high school\",\"free/reduced\",\"none\",\"math score\"],[\"May Kelly\",\"female\",\"group C\",\"bachelor's degree\",\"standard\",\"none\",\"math score\"],[\"Damien Gomez\",\"male\",\"group C\",\"bachelor's degree\",\"free/reduced\",\"completed\",\"math score\"],[\"Thomas Rabb\",\"male\",\"group C\",\"some high school\",\"free/reduced\",\"none\",\"math score\"],[\"Darron Allen\",\"male\",\"group C\",\"high school\",\"standard\",\"none\",\"math score\"],[\"Alan Harper\",\"male\",\"group D\",\"associate's degree\",\"standard\",\"none\",\"math score\"],[\"Linda Michael\",\"female\",\"group D\",\"some high school\",\"standard\",\"none\",\"math score\"],[\"David Martinez\",\"male\",\"group E\",\"associate's degree\",\"free/reduced\",\"completed\",\"math score\"],[\"Katharine Martinez\",\"female\",\"group C\",\"some college\",\"free/reduced\",\"none\",\"math score\"],[\"Charles Ayala\",\"male\",\"group C\",\"some college\",\"standard\",\"none\",\"math score\"],[\"Dawn Tamborlane\",\"female\",\"group D\",\"some college\",\"free/reduced\",\"none\",\"math score\"],[\"Randy Olson\",\"male\",\"group C\",\"associate's degree\",\"free/reduced\",\"none\",\"math score\"],[\"Monica Howington\",\"female\",\"group D\",\"some high school\",\"standard\",\"none\",\"math score\"],[\"Anthony Hinerman\",\"male\",\"group C\",\"some high school\",\"standard\",\"none\",\"math score\"],[\"Bambi Dyer\",\"female\",\"group D\",\"associate's degree\",\"free/reduced\",\"none\",\"math score\"],[\"Barbara Otto\",\"female\",\"group E\",\"associate's degree\",\"standard\",\"completed\",\"math score\"],[\"Joseph Alfaro\",\"male\",\"group C\",\"some college\",\"standard\",\"none\",\"math score\"],[\"Roy Williams\",\"male\",\"group C\",\"some college\",\"free/reduced\",\"none\",\"math score\"],[\"Michael Dudas\",\"male\",\"group D\",\"some high school\",\"free/reduced\",\"none\",\"math score\"],[\"Doyle Johnson\",\"male\",\"group A\",\"high school\",\"standard\",\"none\",\"math score\"],[\"Evan Smith\",\"male\",\"group E\",\"associate's degree\",\"free/reduced\",\"none\",\"math score\"],[\"Margery Rattan\",\"female\",\"group C\",\"associate's degree\",\"standard\",\"none\",\"math score\"],[\"Jonathan Rochon\",\"male\",\"group D\",\"associate's degree\",\"standard\",\"completed\",\"math score\"],[\"Edward Sullivan\",\"male\",\"group D\",\"some high school\",\"standard\",\"none\",\"math score\"],[\"Helen Mcatee\",\"female\",\"group C\",\"some college\",\"standard\",\"none\",\"math score\"],[\"Joseph Jaco\",\"male\",\"group B\",\"some college\",\"free/reduced\",\"none\",\"math score\"],[\"Matthew Thompson\",\"male\",\"group E\",\"some high school\",\"free/reduced\",\"completed\",\"math score\"],[\"Dana Belcher\",\"female\",\"group B\",\"some college\",\"standard\",\"none\",\"math score\"],[\"Joyce Jennings\",\"female\",\"group C\",\"high school\",\"standard\",\"none\",\"math score\"],[\"Richard Bratcher\",\"male\",\"group E\",\"bachelor's degree\",\"free/reduced\",\"completed\",\"math score\"],[\"Stephanie Jun\",\"female\",\"group B\",\"high school\",\"standard\",\"completed\",\"math score\"],[\"Karen Hankinson\",\"female\",\"group E\",\"associate's degree\",\"free/reduced\",\"none\",\"math score\"],[\"Sam Barnette\",\"male\",\"group A\",\"some high school\",\"standard\",\"none\",\"math score\"],[\"Robbie Stevens\",\"female\",\"group B\",\"some college\",\"free/reduced\",\"none\",\"math score\"],[\"Emilia Porat\",\"female\",\"group C\",\"master's degree\",\"free/reduced\",\"none\",\"math score\"],[\"Dorothea Martin\",\"female\",\"group E\",\"associate's degree\",\"standard\",\"completed\",\"math score\"],[\"Anthony Brown\",\"male\",\"group A\",\"some college\",\"standard\",\"completed\",\"math score\"],[\"Michael King\",\"male\",\"group D\",\"associate's degree\",\"free/reduced\",\"none\",\"math score\"],[\"Gladys Thompson\",\"female\",\"group B\",\"some high school\",\"standard\",\"none\",\"math score\"],[\"Michael Hughes\",\"male\",\"group B\",\"some college\",\"free/reduced\",\"none\",\"math score\"],[\"Virginia Trible\",\"female\",\"group C\",\"some college\",\"standard\",\"completed\",\"math score\"],[\"Charles Jackson\",\"male\",\"group E\",\"some high school\",\"standard\",\"none\",\"math score\"],[\"Amy Hawes\",\"female\",\"group B\",\"bachelor's degree\",\"standard\",\"none\",\"math score\"],[\"Marcus Mcfarland\",\"male\",\"group C\",\"bachelor's degree\",\"standard\",\"completed\",\"math score\"],[\"Annie Roeder\",\"female\",\"group B\",\"some high school\",\"standard\",\"none\",\"math score\"],[\"Joyce Turpen\",\"female\",\"group D\",\"associate's degree\",\"standard\",\"none\",\"math score\"],[\"Stanley Denny\",\"male\",\"group C\",\"master's degree\",\"free/reduced\",\"none\",\"math score\"],[\"Sharon Sikes\",\"female\",\"group C\",\"some high school\",\"free/reduced\",\"completed\",\"math score\"],[\"Sheryl Johnson\",\"female\",\"group D\",\"some high school\",\"standard\",\"none\",\"math score\"],[\"Kimberly Chavez\",\"female\",\"group C\",\"bachelor's degree\",\"standard\",\"none\",\"math score\"],[\"Jennie Ferguson\",\"female\",\"group A\",\"high school\",\"free/reduced\",\"completed\",\"math score\"],[\"Kenneth Robertson\",\"male\",\"group A\",\"bachelor's degree\",\"standard\",\"completed\",\"math score\"],[\"Albert Vaughn\",\"male\",\"group E\",\"some college\",\"free/reduced\",\"completed\",\"math score\"],[\"Louis Mckinzie\",\"male\",\"group C\",\"associate's degree\",\"standard\",\"none\",\"math score\"],[\"Darryl Ward\",\"male\",\"group D\",\"some college\",\"standard\",\"none\",\"math score\"],[\"Patricia Mcninch\",\"female\",\"group C\",\"bachelor's degree\",\"free/reduced\",\"none\",\"math score\"],[\"Robert Dickerson\",\"male\",\"group E\",\"some college\",\"free/reduced\",\"completed\",\"math score\"],[\"Barbara Torres\",\"female\",\"group D\",\"some college\",\"free/reduced\",\"none\",\"math score\"],[\"Larry Torres\",\"male\",\"group D\",\"associate's degree\",\"free/reduced\",\"none\",\"math score\"],[\"John Lopez\",\"male\",\"group B\",\"some high school\",\"standard\",\"completed\",\"math score\"],[\"Clora Machado\",\"female\",\"group B\",\"associate's degree\",\"standard\",\"completed\",\"math score\"],[\"Diane Hopkins\",\"female\",\"group C\",\"bachelor's degree\",\"standard\",\"completed\",\"math score\"],[\"Dwight Zapata\",\"male\",\"group C\",\"some high school\",\"free/reduced\",\"none\",\"math score\"],[\"John Ratcliff\",\"male\",\"group D\",\"high school\",\"standard\",\"none\",\"math score\"],[\"Sarah Defazio\",\"female\",\"group C\",\"some high school\",\"free/reduced\",\"none\",\"math score\"],[\"Karl Dietrich\",\"female\",\"group C\",\"some high school\",\"standard\",\"none\",\"math score\"],[\"Vincent Tucker\",\"male\",\"group C\",\"high school\",\"free/reduced\",\"none\",\"math score\"],[\"Janet Housel\",\"female\",\"group B\",\"associate's degree\",\"standard\",\"none\",\"math score\"],[\"Gloria Bradford\",\"female\",\"group B\",\"high school\",\"standard\",\"none\",\"math score\"],[\"Arthur Patterson\",\"male\",\"group A\",\"associate's degree\",\"standard\",\"none\",\"math score\"],[\"Ronald Wilson\",\"male\",\"group C\",\"some high school\",\"standard\",\"none\",\"math score\"],[\"Cheryl Kraus\",\"female\",\"group D\",\"some high school\",\"standard\",\"none\",\"math score\"],[\"Kristy Glass\",\"female\",\"group D\",\"associate's degree\",\"standard\",\"none\",\"math score\"],[\"Timothy Botello\",\"male\",\"group D\",\"master's degree\",\"standard\",\"none\",\"math score\"],[\"Ronald Coria\",\"male\",\"group A\",\"associate's degree\",\"standard\",\"completed\",\"math score\"],[\"Jessica Martin\",\"female\",\"group B\",\"associate's degree\",\"free/reduced\",\"none\",\"math score\"],[\"Valarie Trujillo\",\"female\",\"group C\",\"associate's degree\",\"standard\",\"none\",\"math score\"],[\"Santiago Luther\",\"male\",\"group E\",\"some high school\",\"standard\",\"completed\",\"math score\"],[\"William Novoa\",\"male\",\"group C\",\"master's degree\",\"standard\",\"none\",\"math score\"],[\"Frances Archer\",\"female\",\"group C\",\"associate's degree\",\"standard\",\"completed\",\"math score\"],[\"Hubert Mitchell\",\"male\",\"group D\",\"high school\",\"standard\",\"none\",\"math score\"],[\"Marcia York\",\"female\",\"group D\",\"bachelor's degree\",\"free/reduced\",\"none\",\"math score\"],[\"Anita Hill\",\"female\",\"group A\",\"associate's degree\",\"free/reduced\",\"none\",\"math score\"],[\"Mary Kovac\",\"female\",\"group C\",\"associate's degree\",\"standard\",\"completed\",\"math score\"],[\"Rodney Torres\",\"male\",\"group D\",\"some college\",\"standard\",\"none\",\"math score\"],[\"Julio Fuller\",\"male\",\"group D\",\"high school\",\"standard\",\"none\",\"math score\"],[\"Norman Reed\",\"male\",\"group E\",\"some college\",\"standard\",\"none\",\"math score\"],[\"Matthew Demelis\",\"male\",\"group E\",\"some college\",\"standard\",\"none\",\"math score\"],[\"Darryl Skinner\",\"male\",\"group B\",\"some college\",\"free/reduced\",\"none\",\"math score\"],[\"Matthew Freeman\",\"male\",\"group B\",\"high school\",\"standard\",\"completed\",\"math score\"],[\"Mauricio Deering\",\"male\",\"group D\",\"high school\",\"free/reduced\",\"none\",\"math score\"],[\"Viki Fraser\",\"female\",\"group C\",\"some high school\",\"standard\",\"completed\",\"math score\"],[\"Dana Mojica\",\"female\",\"group D\",\"high school\",\"free/reduced\",\"none\",\"math score\"],[\"Kara Greene\",\"female\",\"group D\",\"some high school\",\"standard\",\"completed\",\"math score\"],[\"Lauren Warren\",\"female\",\"group C\",\"some high school\",\"free/reduced\",\"none\",\"math score\"],[\"Gary Hunter\",\"male\",\"group D\",\"associate's degree\",\"standard\",\"completed\",\"math score\"],[\"Irving Wheeler\",\"male\",\"group B\",\"some college\",\"standard\",\"none\",\"math score\"],[\"Teresa Yanez\",\"female\",\"group B\",\"associate's degree\",\"free/reduced\",\"completed\",\"math score\"],[\"Brent Sollenberger\",\"male\",\"group C\",\"high school\",\"standard\",\"none\",\"math score\"],[\"James Muir\",\"male\",\"group C\",\"high school\",\"standard\",\"none\",\"math score\"],[\"Sean Staples\",\"male\",\"group D\",\"some college\",\"free/reduced\",\"none\",\"math score\"],[\"Evangelina Hahn\",\"female\",\"group C\",\"associate's degree\",\"standard\",\"completed\",\"math score\"],[\"Joann Liesmann\",\"female\",\"group E\",\"some college\",\"standard\",\"none\",\"math score\"],[\"Ronnie Lim\",\"female\",\"group B\",\"associate's degree\",\"standard\",\"completed\",\"math score\"],[\"James Walker\",\"male\",\"group E\",\"bachelor's degree\",\"standard\",\"none\",\"math score\"],[\"Jerome Herring\",\"male\",\"group C\",\"some high school\",\"standard\",\"none\",\"math score\"],[\"Richard Pryor\",\"male\",\"group E\",\"bachelor's degree\",\"standard\",\"completed\",\"math score\"],[\"Luetta Caponigro\",\"female\",\"group B\",\"high school\",\"free/reduced\",\"none\",\"math score\"],[\"Jacqueline Akers\",\"female\",\"group B\",\"high school\",\"standard\",\"none\",\"math score\"],[\"Angela Atterberry\",\"female\",\"group D\",\"some high school\",\"free/reduced\",\"completed\",\"math score\"],[\"Maggie Rugg\",\"female\",\"group A\",\"some high school\",\"standard\",\"none\",\"math score\"],[\"James Crawford\",\"male\",\"group D\",\"master's degree\",\"standard\",\"none\",\"math score\"],[\"Marlene Sullivan\",\"female\",\"group D\",\"master's degree\",\"standard\",\"completed\",\"math score\"],[\"Patricia Farias\",\"female\",\"group E\",\"bachelor's degree\",\"standard\",\"none\",\"math score\"],[\"Brenton Graap\",\"male\",\"group C\",\"associate's degree\",\"standard\",\"none\",\"math score\"],[\"Henry Rogers\",\"male\",\"group A\",\"some high school\",\"free/reduced\",\"none\",\"math score\"],[\"Antonio Pelaez\",\"male\",\"group C\",\"associate's degree\",\"standard\",\"none\",\"math score\"],[\"Edith Cervera\",\"female\",\"group C\",\"some college\",\"standard\",\"none\",\"math score\"],[\"Kathleen Johnson\",\"female\",\"group D\",\"high school\",\"standard\",\"completed\",\"math score\"],[\"Deborah Ladner\",\"female\",\"group D\",\"associate's degree\",\"free/reduced\",\"none\",\"math score\"],[\"Justin Esparza\",\"male\",\"group C\",\"associate's degree\",\"free/reduced\",\"completed\",\"math score\"],[\"Belinda Tuholski\",\"female\",\"group C\",\"associate's degree\",\"standard\",\"none\",\"math score\"],[\"Bette Williams\",\"female\",\"group B\",\"associate's degree\",\"standard\",\"completed\",\"math score\"],[\"Richard Christiansen\",\"male\",\"group B\",\"bachelor's degree\",\"free/reduced\",\"none\",\"math score\"],[\"Carol Gamboa\",\"female\",\"group C\",\"some college\",\"standard\",\"completed\",\"math score\"],[\"Emily Devins\",\"female\",\"group B\",\"associate's degree\",\"standard\",\"none\",\"math score\"],[\"Richard Zayas\",\"male\",\"group B\",\"associate's degree\",\"standard\",\"completed\",\"math score\"],[\"Pura Ross\",\"female\",\"group C\",\"associate's degree\",\"standard\",\"none\",\"math score\"],[\"Harvey Pribbenow\",\"male\",\"group D\",\"bachelor's degree\",\"free/reduced\",\"none\",\"math score\"],[\"Sharon Matthews\",\"female\",\"group E\",\"associate's degree\",\"standard\",\"completed\",\"math score\"],[\"Krystal Ford\",\"female\",\"group D\",\"some college\",\"standard\",\"none\",\"math score\"],[\"Harold Ackerson\",\"male\",\"group B\",\"some college\",\"standard\",\"none\",\"math score\"],[\"Joseph Rains\",\"male\",\"group A\",\"high school\",\"free/reduced\",\"none\",\"math score\"],[\"Samuel Low\",\"male\",\"group D\",\"some college\",\"standard\",\"none\",\"math score\"],[\"Mary Hahn\",\"female\",\"group B\",\"some high school\",\"standard\",\"none\",\"math score\"],[\"Charles Vaughan\",\"male\",\"group A\",\"some high school\",\"free/reduced\",\"none\",\"math score\"],[\"Mary Delgado\",\"female\",\"group E\",\"some college\",\"free/reduced\",\"completed\",\"math score\"],[\"Steven Maness\",\"male\",\"group B\",\"some college\",\"free/reduced\",\"completed\",\"math score\"],[\"Walter Simmons\",\"male\",\"group C\",\"bachelor's degree\",\"free/reduced\",\"none\",\"math score\"],[\"Larry Workman\",\"male\",\"group E\",\"associate's degree\",\"standard\",\"completed\",\"math score\"],[\"Anthony Anderson\",\"male\",\"group D\",\"high school\",\"standard\",\"none\",\"math score\"],[\"Shannon Zamarripa\",\"female\",\"group D\",\"high school\",\"standard\",\"completed\",\"math score\"],[\"Melvin Mastrangelo\",\"male\",\"group D\",\"associate's degree\",\"free/reduced\",\"completed\",\"math score\"],[\"Clarissa Mccarthy\",\"female\",\"group C\",\"associate's degree\",\"standard\",\"none\",\"math score\"],[\"Garth Zayas\",\"male\",\"group C\",\"associate's degree\",\"standard\",\"completed\",\"math score\"],[\"Camille Rodrigue\",\"female\",\"group D\",\"master's degree\",\"standard\",\"none\",\"math score\"],[\"Larry Matthews\",\"male\",\"group B\",\"associate's degree\",\"free/reduced\",\"none\",\"math score\"],[\"Melissa Hughes\",\"female\",\"group D\",\"some college\",\"free/reduced\",\"completed\",\"math score\"],[\"Horace Morefield\",\"male\",\"group D\",\"some high school\",\"free/reduced\",\"completed\",\"math score\"],[\"Marion Murdy\",\"female\",\"group B\",\"high school\",\"free/reduced\",\"none\",\"math score\"],[\"Heike Miller\",\"female\",\"group B\",\"associate's degree\",\"standard\",\"none\",\"math score\"],[\"Terry Davis\",\"male\",\"group D\",\"some high school\",\"standard\",\"completed\",\"math score\"],[\"Micki Banks\",\"female\",\"group A\",\"high school\",\"standard\",\"none\",\"math score\"],[\"Edward Killingsworth\",\"male\",\"group C\",\"high school\",\"standard\",\"none\",\"math score\"],[\"Ashley Church\",\"female\",\"group C\",\"some high school\",\"standard\",\"none\",\"math score\"],[\"Cameron Estrada\",\"male\",\"group D\",\"some high school\",\"standard\",\"none\",\"math score\"],[\"Stephen Broenneke\",\"male\",\"group B\",\"some college\",\"standard\",\"none\",\"math score\"],[\"Olga Hatcher\",\"female\",\"group A\",\"associate's degree\",\"free/reduced\",\"none\",\"math score\"],[\"Larry Mclane\",\"male\",\"group E\",\"associate's degree\",\"free/reduced\",\"none\",\"math score\"],[\"Dana Bolyard\",\"female\",\"group D\",\"some high school\",\"standard\",\"none\",\"math score\"],[\"Camie Hamilton\",\"female\",\"group B\",\"high school\",\"standard\",\"none\",\"math score\"],[\"Jacqueline Holton\",\"female\",\"group C\",\"high school\",\"free/reduced\",\"completed\",\"math score\"],[\"Todd Price\",\"male\",\"group E\",\"some high school\",\"standard\",\"completed\",\"math score\"],[\"Joyce Lamarche\",\"female\",\"group E\",\"high school\",\"standard\",\"completed\",\"math score\"],[\"Donald Durbin\",\"male\",\"group B\",\"high school\",\"standard\",\"completed\",\"math score\"],[\"Kimberly Ross\",\"female\",\"group B\",\"some high school\",\"free/reduced\",\"completed\",\"math score\"],[\"James Hughey\",\"male\",\"group C\",\"bachelor's degree\",\"standard\",\"none\",\"math score\"],[\"Laura Hunter\",\"female\",\"group E\",\"bachelor's degree\",\"free/reduced\",\"none\",\"math score\"],[\"Anna Larios\",\"female\",\"group D\",\"associate's degree\",\"standard\",\"completed\",\"math score\"],[\"Alex Estimable\",\"male\",\"group C\",\"high school\",\"standard\",\"completed\",\"math score\"],[\"Jean Stamdifer\",\"male\",\"group D\",\"some high school\",\"free/reduced\",\"none\",\"math score\"],[\"Arturo Brown\",\"male\",\"group A\",\"high school\",\"standard\",\"none\",\"math score\"],[\"Richard Anderson\",\"male\",\"group C\",\"some high school\",\"standard\",\"completed\",\"math score\"],[\"Monica Duggins\",\"female\",\"group B\",\"associate's degree\",\"standard\",\"completed\",\"math score\"],[\"Fallon Simson\",\"female\",\"group D\",\"high school\",\"standard\",\"none\",\"math score\"],[\"Hans Crabtree\",\"male\",\"group D\",\"some high school\",\"standard\",\"completed\",\"math score\"],[\"Paul Smith\",\"male\",\"group B\",\"high school\",\"standard\",\"none\",\"math score\"],[\"Gerald Brannon\",\"male\",\"group C\",\"high school\",\"standard\",\"none\",\"math score\"],[\"Nancy Rand\",\"female\",\"group C\",\"some college\",\"free/reduced\",\"none\",\"math score\"],[\"Helen Alexander\",\"female\",\"group D\",\"some college\",\"free/reduced\",\"none\",\"math score\"],[\"Susan Cuevas\",\"female\",\"group C\",\"some high school\",\"standard\",\"none\",\"math score\"],[\"Diana Bertran\",\"female\",\"group E\",\"some college\",\"standard\",\"completed\",\"math score\"],[\"Lamar Becker\",\"male\",\"group D\",\"associate's degree\",\"standard\",\"none\",\"math score\"],[\"Faye Schatz\",\"female\",\"group B\",\"bachelor's degree\",\"standard\",\"completed\",\"math score\"],[\"Donald Mooberry\",\"male\",\"group D\",\"bachelor's degree\",\"standard\",\"completed\",\"math score\"],[\"Gerald Gramham\",\"male\",\"group A\",\"some high school\",\"standard\",\"none\",\"math score\"],[\"Christopher Hernandez\",\"male\",\"group B\",\"some high school\",\"standard\",\"none\",\"math score\"],[\"Sarah Flannery\",\"female\",\"group B\",\"master's degree\",\"standard\",\"none\",\"math score\"],[\"Weldon Auston\",\"male\",\"group D\",\"associate's degree\",\"free/reduced\",\"none\",\"math score\"],[\"John Ousley\",\"male\",\"group B\",\"master's degree\",\"free/reduced\",\"none\",\"math score\"],[\"Mack Gilliland\",\"male\",\"group D\",\"high school\",\"standard\",\"none\",\"math score\"],[\"Harold Kakos\",\"male\",\"group A\",\"high school\",\"standard\",\"none\",\"math score\"],[\"William Gebhard\",\"male\",\"group C\",\"some college\",\"free/reduced\",\"completed\",\"math score\"],[\"Raymond Wiggins\",\"male\",\"group C\",\"associate's degree\",\"free/reduced\",\"none\",\"math score\"],[\"Arlene Seymour\",\"female\",\"group B\",\"high school\",\"standard\",\"none\",\"math score\"],[\"Randy Werth\",\"male\",\"group A\",\"associate's degree\",\"standard\",\"none\",\"math score\"],[\"Arthur Daschofsky\",\"male\",\"group A\",\"some high school\",\"free/reduced\",\"none\",\"math score\"],[\"Tanya Macinnes\",\"female\",\"group A\",\"some high school\",\"standard\",\"completed\",\"math score\"],[\"Scott Rogers\",\"male\",\"group E\",\"associate's degree\",\"free/reduced\",\"completed\",\"math score\"],[\"Julie Lopez\",\"female\",\"group E\",\"some college\",\"standard\",\"completed\",\"math score\"],[\"Marx Loftis\",\"female\",\"group E\",\"some college\",\"standard\",\"none\",\"math score\"],[\"Sandra Case\",\"female\",\"group D\",\"bachelor's degree\",\"standard\",\"none\",\"math score\"],[\"Justin Harris\",\"male\",\"group D\",\"some college\",\"standard\",\"none\",\"math score\"],[\"Willie Gilbert\",\"male\",\"group E\",\"some high school\",\"standard\",\"none\",\"math score\"],[\"Nicole Obrien\",\"female\",\"group B\",\"bachelor's degree\",\"free/reduced\",\"none\",\"math score\"],[\"Rose Nguyen\",\"female\",\"group C\",\"master's degree\",\"standard\",\"completed\",\"math score\"],[\"Rachel Angelini\",\"female\",\"group B\",\"some college\",\"standard\",\"none\",\"math score\"],[\"Mindi Cruz\",\"female\",\"group C\",\"some college\",\"standard\",\"none\",\"math score\"],[\"Russel Broussard\",\"male\",\"group C\",\"associate's degree\",\"free/reduced\",\"completed\",\"math score\"],[\"Karl Hernandez\",\"male\",\"group C\",\"bachelor's degree\",\"standard\",\"none\",\"math score\"],[\"Anthony Kenny\",\"male\",\"group D\",\"some college\",\"standard\",\"none\",\"math score\"],[\"Jimmy Jones\",\"male\",\"group B\",\"associate's degree\",\"free/reduced\",\"completed\",\"math score\"],[\"Julie Tang\",\"female\",\"group D\",\"associate's degree\",\"standard\",\"none\",\"math score\"],[\"Eddie Strom\",\"male\",\"group E\",\"some college\",\"standard\",\"none\",\"math score\"],[\"Lavera Lowrie\",\"female\",\"group C\",\"high school\",\"standard\",\"none\",\"math score\"],[\"Lance Russell\",\"male\",\"group D\",\"high school\",\"standard\",\"none\",\"math score\"],[\"Maria Cottone\",\"female\",\"group B\",\"some college\",\"free/reduced\",\"none\",\"math score\"],[\"David Padilla\",\"male\",\"group B\",\"bachelor's degree\",\"free/reduced\",\"none\",\"math score\"],[\"Connie Workman\",\"female\",\"group D\",\"some college\",\"standard\",\"completed\",\"math score\"],[\"Maryann Russell\",\"female\",\"group D\",\"high school\",\"standard\",\"completed\",\"math score\"],[\"Ofelia Evans\",\"female\",\"group C\",\"master's degree\",\"standard\",\"completed\",\"math score\"],[\"Anastasia Starks\",\"female\",\"group B\",\"high school\",\"free/reduced\",\"completed\",\"math score\"],[\"Dolores Sprinkle\",\"female\",\"group C\",\"bachelor's degree\",\"standard\",\"none\",\"math score\"],[\"Stella Stephens\",\"female\",\"group D\",\"master's degree\",\"standard\",\"none\",\"math score\"],[\"Eric Nunes\",\"male\",\"group C\",\"bachelor's degree\",\"standard\",\"completed\",\"math score\"],[\"Mark Oconnor\",\"male\",\"group B\",\"some high school\",\"standard\",\"completed\",\"math score\"],[\"Emory Kelley\",\"male\",\"group D\",\"some high school\",\"free/reduced\",\"none\",\"math score\"],[\"Michael Leta\",\"male\",\"group E\",\"bachelor's degree\",\"standard\",\"none\",\"math score\"],[\"Maria Caballero\",\"female\",\"group C\",\"high school\",\"standard\",\"completed\",\"math score\"],[\"Richard Brasure\",\"male\",\"group D\",\"associate's degree\",\"free/reduced\",\"none\",\"math score\"],[\"Wanda Hardin\",\"female\",\"group E\",\"some college\",\"standard\",\"none\",\"math score\"],[\"Jerome Lopze\",\"male\",\"group E\",\"associate's degree\",\"free/reduced\",\"completed\",\"math score\"],[\"Arlene Trotter\",\"female\",\"group B\",\"high school\",\"standard\",\"none\",\"math score\"],[\"Christopher Wall\",\"male\",\"group C\",\"high school\",\"free/reduced\",\"none\",\"math score\"],[\"Patricia Mcclurg\",\"female\",\"group D\",\"some high school\",\"standard\",\"none\",\"math score\"],[\"Rosemary Oliveros\",\"female\",\"group C\",\"high school\",\"standard\",\"none\",\"math score\"],[\"Shannon Weaver\",\"male\",\"group D\",\"bachelor's degree\",\"free/reduced\",\"none\",\"math score\"],[\"Patricia Spiller\",\"female\",\"group D\",\"associate's degree\",\"free/reduced\",\"completed\",\"math score\"],[\"Andrew Bussell\",\"male\",\"group A\",\"some high school\",\"standard\",\"none\",\"math score\"],[\"Jackie Moons\",\"female\",\"group B\",\"some college\",\"free/reduced\",\"none\",\"math score\"],[\"Edward Fields\",\"male\",\"group D\",\"some high school\",\"standard\",\"none\",\"math score\"],[\"Robert Byrd\",\"male\",\"group C\",\"master's degree\",\"standard\",\"none\",\"math score\"],[\"Josephine Hall\",\"female\",\"group B\",\"high school\",\"free/reduced\",\"none\",\"math score\"],[\"Larry Maldonado\",\"male\",\"group E\",\"master's degree\",\"standard\",\"none\",\"math score\"],[\"Mark Spicer\",\"male\",\"group E\",\"associate's degree\",\"standard\",\"none\",\"math score\"],[\"Janet Hamer\",\"female\",\"group B\",\"some college\",\"free/reduced\",\"completed\",\"math score\"],[\"Virginia Blubaugh\",\"female\",\"group B\",\"some high school\",\"standard\",\"completed\",\"math score\"],[\"Nicole Nesbitt\",\"female\",\"group C\",\"some college\",\"standard\",\"none\",\"math score\"],[\"Martha Ball\",\"female\",\"group C\",\"some college\",\"standard\",\"none\",\"math score\"],[\"Rebecca Hammond\",\"female\",\"group C\",\"associate's degree\",\"free/reduced\",\"none\",\"math score\"],[\"Chris Spitler\",\"male\",\"group C\",\"some college\",\"standard\",\"none\",\"math score\"],[\"Ann Polston\",\"female\",\"group D\",\"master's degree\",\"free/reduced\",\"completed\",\"math score\"],[\"Lynn Hovey\",\"female\",\"group B\",\"associate's degree\",\"standard\",\"none\",\"math score\"],[\"Shannon Bale\",\"male\",\"group E\",\"associate's degree\",\"free/reduced\",\"completed\",\"math score\"],[\"Theresa White\",\"female\",\"group E\",\"some college\",\"standard\",\"none\",\"math score\"],[\"Doris Bridgewater\",\"female\",\"group D\",\"some college\",\"standard\",\"completed\",\"math score\"],[\"Robin Ahmed\",\"female\",\"group C\",\"bachelor's degree\",\"free/reduced\",\"none\",\"math score\"],[\"Andrew Baker\",\"male\",\"group E\",\"associate's degree\",\"standard\",\"completed\",\"math score\"],[\"Jessica Salas\",\"female\",\"group C\",\"associate's degree\",\"standard\",\"completed\",\"math score\"],[\"Christopher Barnett\",\"male\",\"group D\",\"associate's degree\",\"standard\",\"none\",\"math score\"],[\"Jody Pond\",\"female\",\"group A\",\"some college\",\"standard\",\"completed\",\"math score\"],[\"Agatha Bergman\",\"female\",\"group D\",\"master's degree\",\"standard\",\"none\",\"math score\"],[\"Maude Greco\",\"female\",\"group E\",\"some college\",\"standard\",\"none\",\"math score\"],[\"Melanie Acevedo\",\"female\",\"group E\",\"master's degree\",\"standard\",\"completed\",\"math score\"],[\"Gloria Gambrell\",\"female\",\"group A\",\"associate's degree\",\"standard\",\"none\",\"math score\"],[\"Thomas Hochmuth\",\"male\",\"group D\",\"some high school\",\"standard\",\"completed\",\"math score\"],[\"Amanda Terrell\",\"female\",\"group A\",\"high school\",\"standard\",\"completed\",\"math score\"],[\"Brenna Pate\",\"female\",\"group A\",\"bachelor's degree\",\"standard\",\"none\",\"math score\"],[\"William Pool\",\"male\",\"group C\",\"high school\",\"standard\",\"none\",\"math score\"],[\"Rachele Hammer\",\"female\",\"group C\",\"some college\",\"standard\",\"completed\",\"math score\"],[\"John Suh\",\"male\",\"group D\",\"some college\",\"standard\",\"completed\",\"math score\"],[\"Amber Hicks\",\"female\",\"group B\",\"associate's degree\",\"standard\",\"none\",\"math score\"],[\"Fannie Hindman\",\"female\",\"group D\",\"high school\",\"standard\",\"none\",\"math score\"],[\"Sue Gorman\",\"female\",\"group A\",\"some high school\",\"standard\",\"none\",\"math score\"],[\"John Gonzales\",\"male\",\"group B\",\"some high school\",\"standard\",\"completed\",\"math score\"],[\"Ira Mercer\",\"male\",\"group C\",\"some high school\",\"free/reduced\",\"completed\",\"math score\"],[\"James Stanley\",\"male\",\"group C\",\"some college\",\"standard\",\"completed\",\"math score\"],[\"Rolando Widmer\",\"male\",\"group C\",\"high school\",\"standard\",\"completed\",\"math score\"],[\"Christine Cruson\",\"female\",\"group C\",\"high school\",\"standard\",\"none\",\"math score\"],[\"Geraldine Gamboa\",\"female\",\"group C\",\"some college\",\"free/reduced\",\"none\",\"math score\"],[\"Leon Patton\",\"male\",\"group B\",\"some college\",\"standard\",\"completed\",\"math score\"],[\"Rosa Clagon\",\"female\",\"group A\",\"some high school\",\"free/reduced\",\"none\",\"math score\"],[\"Christian Marshall\",\"male\",\"group D\",\"some high school\",\"standard\",\"completed\",\"math score\"],[\"Jennie Blackwood\",\"female\",\"group C\",\"associate's degree\",\"standard\",\"none\",\"math score\"],[\"Paul Ellis\",\"male\",\"group B\",\"high school\",\"standard\",\"none\",\"math score\"],[\"Mitchell Eguia\",\"male\",\"group B\",\"some college\",\"free/reduced\",\"none\",\"math score\"],[\"Eugene Jewett\",\"male\",\"group C\",\"high school\",\"free/reduced\",\"none\",\"math score\"],[\"Travis Burkey\",\"male\",\"group B\",\"some college\",\"standard\",\"none\",\"math score\"],[\"Bernard Gilmore\",\"male\",\"group E\",\"bachelor's degree\",\"standard\",\"completed\",\"math score\"],[\"Emma Fussell\",\"female\",\"group A\",\"some high school\",\"free/reduced\",\"none\",\"math score\"],[\"Pamela Scott\",\"female\",\"group C\",\"some college\",\"free/reduced\",\"completed\",\"math score\"],[\"Olivia Papp\",\"female\",\"group E\",\"some college\",\"standard\",\"none\",\"math score\"],[\"Thomas Kent\",\"male\",\"group E\",\"associate's degree\",\"standard\",\"none\",\"math score\"],[\"Christina Cullins\",\"female\",\"group C\",\"some college\",\"free/reduced\",\"none\",\"math score\"],[\"Isaac Pagan\",\"male\",\"group D\",\"some college\",\"standard\",\"completed\",\"math score\"],[\"Tracy Varley\",\"female\",\"group D\",\"high school\",\"standard\",\"none\",\"math score\"],[\"George Howard\",\"male\",\"group A\",\"associate's degree\",\"free/reduced\",\"completed\",\"math score\"],[\"Jorge Apana\",\"male\",\"group A\",\"some high school\",\"standard\",\"completed\",\"math score\"],[\"Louise Romero\",\"female\",\"group D\",\"associate's degree\",\"standard\",\"none\",\"math score\"],[\"Theodore Sims\",\"male\",\"group B\",\"high school\",\"free/reduced\",\"none\",\"math score\"],[\"Arthur Johnson\",\"male\",\"group C\",\"associate's degree\",\"standard\",\"none\",\"math score\"],[\"Renee Worley\",\"female\",\"group D\",\"some college\",\"standard\",\"none\",\"math score\"],[\"James Verhaag\",\"male\",\"group D\",\"high school\",\"free/reduced\",\"completed\",\"math score\"],[\"Jonathan Moser\",\"male\",\"group B\",\"high school\",\"standard\",\"none\",\"math score\"],[\"Leann Widrick\",\"female\",\"group D\",\"master's degree\",\"standard\",\"completed\",\"math score\"],[\"Kenneth Armendariz\",\"male\",\"group B\",\"associate's degree\",\"free/reduced\",\"completed\",\"math score\"],[\"Lance Santana\",\"male\",\"group B\",\"some high school\",\"standard\",\"none\",\"math score\"],[\"Carol Salinas\",\"female\",\"group D\",\"high school\",\"standard\",\"none\",\"math score\"],[\"Eleanor Bond\",\"female\",\"group E\",\"associate's degree\",\"standard\",\"none\",\"math score\"],[\"Micheal Thompson\",\"male\",\"group C\",\"high school\",\"standard\",\"none\",\"math score\"],[\"Anne Scheer\",\"female\",\"group C\",\"high school\",\"standard\",\"none\",\"math score\"],[\"Sheila Carboni\",\"female\",\"group C\",\"associate's degree\",\"standard\",\"none\",\"math score\"],[\"Michael Gore\",\"male\",\"group B\",\"some college\",\"free/reduced\",\"none\",\"math score\"],[\"Doris Sandiford\",\"female\",\"group D\",\"master's degree\",\"free/reduced\",\"completed\",\"math score\"],[\"Ashley Bradburn\",\"female\",\"group B\",\"some high school\",\"standard\",\"none\",\"math score\"],[\"Catalina Brooks\",\"female\",\"group C\",\"some college\",\"standard\",\"none\",\"math score\"],[\"Richard Bacon\",\"male\",\"group C\",\"some college\",\"standard\",\"none\",\"math score\"],[\"Jennifer Phillips\",\"female\",\"group C\",\"some college\",\"standard\",\"none\",\"math score\"],[\"Andrew Butler\",\"male\",\"group B\",\"high school\",\"standard\",\"none\",\"math score\"],[\"Richard Stackhouse\",\"male\",\"group A\",\"some college\",\"free/reduced\",\"none\",\"math score\"],[\"Irma Shedd\",\"female\",\"group B\",\"some college\",\"standard\",\"none\",\"math score\"],[\"Albert Duran\",\"male\",\"group D\",\"some college\",\"standard\",\"completed\",\"math score\"],[\"Gloria Ocasio\",\"female\",\"group D\",\"associate's degree\",\"free/reduced\",\"completed\",\"math score\"],[\"Franklin Hawkins\",\"male\",\"group D\",\"some college\",\"standard\",\"none\",\"math score\"],[\"Joshua Davis\",\"male\",\"group C\",\"some college\",\"free/reduced\",\"none\",\"math score\"],[\"Willie Nicholson\",\"female\",\"group D\",\"some college\",\"free/reduced\",\"completed\",\"math score\"],[\"Evelyn Galligan\",\"female\",\"group B\",\"master's degree\",\"free/reduced\",\"completed\",\"math score\"],[\"Jonathan Calcote\",\"male\",\"group D\",\"some high school\",\"free/reduced\",\"none\",\"math score\"],[\"Michael Mcdonnell\",\"male\",\"group D\",\"some high school\",\"standard\",\"none\",\"math score\"],[\"David Moya\",\"male\",\"group B\",\"bachelor's degree\",\"standard\",\"none\",\"math score\"],[\"Brandi Fisher\",\"female\",\"group E\",\"high school\",\"standard\",\"none\",\"math score\"],[\"Patricia Harrell\",\"female\",\"group C\",\"associate's degree\",\"standard\",\"none\",\"math score\"],[\"Steven Jackson\",\"male\",\"group B\",\"some high school\",\"standard\",\"none\",\"math score\"],[\"Phillip Powell\",\"male\",\"group E\",\"some college\",\"standard\",\"completed\",\"math score\"],[\"Kevin Ibrahim\",\"male\",\"group A\",\"some high school\",\"free/reduced\",\"none\",\"math score\"],[\"David Hooker\",\"male\",\"group B\",\"associate's degree\",\"standard\",\"none\",\"math score\"],[\"Barbara Barahona\",\"female\",\"group C\",\"associate's degree\",\"free/reduced\",\"none\",\"math score\"],[\"Eileen Hardin\",\"female\",\"group D\",\"bachelor's degree\",\"standard\",\"none\",\"math score\"],[\"Julie Smith\",\"female\",\"group D\",\"associate's degree\",\"standard\",\"completed\",\"math score\"],[\"Kristie Mccarthy\",\"female\",\"group C\",\"some college\",\"free/reduced\",\"none\",\"math score\"],[\"Karen Wagaman\",\"female\",\"group B\",\"associate's degree\",\"standard\",\"none\",\"math score\"],[\"William Gambino\",\"male\",\"group D\",\"associate's degree\",\"standard\",\"none\",\"math score\"],[\"Alan Sigmon\",\"male\",\"group C\",\"high school\",\"standard\",\"none\",\"math score\"],[\"Marie Crate\",\"female\",\"group E\",\"high school\",\"standard\",\"none\",\"math score\"],[\"Maritza Kielbasa\",\"female\",\"group C\",\"some college\",\"standard\",\"none\",\"math score\"],[\"John Ponce\",\"male\",\"group B\",\"bachelor's degree\",\"free/reduced\",\"none\",\"math score\"],[\"Robert Strain\",\"male\",\"group C\",\"associate's degree\",\"free/reduced\",\"none\",\"math score\"],[\"Alexis Rosenberg\",\"female\",\"group C\",\"some high school\",\"free/reduced\",\"completed\",\"math score\"],[\"Frances Johnson\",\"female\",\"group D\",\"associate's degree\",\"free/reduced\",\"completed\",\"math score\"],[\"Cynthia Mandeville\",\"female\",\"group C\",\"some high school\",\"standard\",\"none\",\"math score\"],[\"Ronald Jett\",\"male\",\"group D\",\"high school\",\"free/reduced\",\"none\",\"math score\"],[\"Kari Roth\",\"female\",\"group C\",\"high school\",\"standard\",\"completed\",\"math score\"],[\"Hazel Posey\",\"female\",\"group B\",\"some high school\",\"free/reduced\",\"none\",\"math score\"],[\"Audrey Head\",\"female\",\"group C\",\"associate's degree\",\"standard\",\"completed\",\"math score\"],[\"Jennifer Tucker\",\"female\",\"group E\",\"associate's degree\",\"standard\",\"none\",\"math score\"],[\"Patrick Watson\",\"male\",\"group D\",\"some college\",\"free/reduced\",\"none\",\"math score\"],[\"Loretta Velez\",\"female\",\"group C\",\"associate's degree\",\"standard\",\"completed\",\"math score\"],[\"Eric Baldwin\",\"male\",\"group A\",\"high school\",\"free/reduced\",\"none\",\"math score\"],[\"Danny Goodyear\",\"male\",\"group B\",\"some college\",\"standard\",\"completed\",\"math score\"],[\"Louis Christopher\",\"male\",\"group A\",\"high school\",\"free/reduced\",\"completed\",\"math score\"],[\"Robert Twitty\",\"male\",\"group C\",\"master's degree\",\"free/reduced\",\"none\",\"math score\"],[\"James Aguirre\",\"male\",\"group E\",\"high school\",\"standard\",\"completed\",\"math score\"],[\"Cody Garcia\",\"male\",\"group B\",\"some high school\",\"standard\",\"completed\",\"math score\"],[\"Dana Smith\",\"female\",\"group C\",\"bachelor's degree\",\"free/reduced\",\"completed\",\"math score\"],[\"Cheryl Patel\",\"female\",\"group B\",\"some high school\",\"free/reduced\",\"none\",\"math score\"],[\"Alyssa Mcgee\",\"female\",\"group D\",\"master's degree\",\"standard\",\"none\",\"math score\"],[\"Kathleen Hernandez\",\"female\",\"group C\",\"some college\",\"standard\",\"completed\",\"math score\"],[\"John Lambert\",\"male\",\"group B\",\"high school\",\"standard\",\"none\",\"math score\"],[\"Edmond Lerner\",\"male\",\"group D\",\"high school\",\"standard\",\"none\",\"math score\"],[\"Sarah Adu\",\"female\",\"group A\",\"some high school\",\"standard\",\"completed\",\"math score\"],[\"Mandy Bays\",\"female\",\"group E\",\"high school\",\"free/reduced\",\"none\",\"math score\"],[\"Charles Hopson\",\"male\",\"group C\",\"associate's degree\",\"free/reduced\",\"none\",\"math score\"],[\"George Estrada\",\"male\",\"group A\",\"bachelor's degree\",\"standard\",\"none\",\"math score\"],[\"Christopher Thornburg\",\"male\",\"group D\",\"some college\",\"standard\",\"none\",\"math score\"],[\"Arnold Dodson\",\"male\",\"group C\",\"some college\",\"standard\",\"none\",\"math score\"],[\"Rosalia Arrants\",\"female\",\"group E\",\"some high school\",\"free/reduced\",\"none\",\"math score\"],[\"Carolyn Webley\",\"female\",\"group D\",\"high school\",\"free/reduced\",\"none\",\"math score\"],[\"Jon Norris\",\"male\",\"group E\",\"bachelor's degree\",\"standard\",\"completed\",\"math score\"],[\"Virginia Thompson\",\"female\",\"group D\",\"associate's degree\",\"standard\",\"none\",\"math score\"],[\"Deborah Clark\",\"female\",\"group B\",\"some high school\",\"free/reduced\",\"completed\",\"math score\"],[\"Samantha Devore\",\"female\",\"group B\",\"high school\",\"standard\",\"none\",\"math score\"],[\"Shirley Ybanez\",\"female\",\"group C\",\"some high school\",\"standard\",\"completed\",\"math score\"],[\"Walter Mata\",\"male\",\"group D\",\"associate's degree\",\"free/reduced\",\"none\",\"math score\"],[\"Coleen Stough\",\"female\",\"group C\",\"associate's degree\",\"standard\",\"completed\",\"math score\"],[\"Victor Turner\",\"male\",\"group C\",\"high school\",\"free/reduced\",\"none\",\"math score\"],[\"Audrey Shorey\",\"female\",\"group A\",\"some college\",\"standard\",\"none\",\"math score\"],[\"Jose Wheeler\",\"male\",\"group C\",\"associate's degree\",\"free/reduced\",\"completed\",\"math score\"],[\"Sharon Roberts\",\"female\",\"group C\",\"high school\",\"free/reduced\",\"none\",\"math score\"],[\"Anthony Pedigo\",\"male\",\"group B\",\"bachelor's degree\",\"free/reduced\",\"completed\",\"math score\"],[\"Lucy Thompson\",\"female\",\"group B\",\"some college\",\"free/reduced\",\"completed\",\"math score\"],[\"Sonya Porter\",\"female\",\"group C\",\"bachelor's degree\",\"free/reduced\",\"completed\",\"math score\"],[\"Shirley Wilson\",\"female\",\"group A\",\"some college\",\"free/reduced\",\"none\",\"math score\"],[\"Collette Williams\",\"female\",\"group C\",\"some high school\",\"standard\",\"completed\",\"math score\"],[\"Shawn Frank\",\"female\",\"group C\",\"associate's degree\",\"standard\",\"completed\",\"math score\"],[\"Richard Guercio\",\"male\",\"group B\",\"high school\",\"free/reduced\",\"none\",\"math score\"],[\"Eileen Gray\",\"female\",\"group D\",\"high school\",\"free/reduced\",\"none\",\"math score\"],[\"Roberta Fravel\",\"female\",\"group B\",\"high school\",\"standard\",\"none\",\"math score\"],[\"Charles Irizarry\",\"male\",\"group B\",\"high school\",\"standard\",\"none\",\"math score\"],[\"Jerome Riddle\",\"male\",\"group D\",\"high school\",\"free/reduced\",\"none\",\"math score\"],[\"Kimberly Routzahn\",\"female\",\"group C\",\"master's degree\",\"free/reduced\",\"none\",\"math score\"],[\"Joyce Thornton\",\"female\",\"group B\",\"master's degree\",\"free/reduced\",\"completed\",\"math score\"],[\"Maria Murphy\",\"female\",\"group D\",\"bachelor's degree\",\"free/reduced\",\"none\",\"math score\"],[\"Lynda Stotts\",\"female\",\"group D\",\"some college\",\"standard\",\"none\",\"math score\"],[\"Judy Webb\",\"female\",\"group E\",\"associate's degree\",\"standard\",\"none\",\"math score\"],[\"Terri Motley\",\"female\",\"group D\",\"some college\",\"standard\",\"completed\",\"math score\"],[\"Nathan Mewborn\",\"male\",\"group D\",\"master's degree\",\"standard\",\"none\",\"math score\"],[\"Jeanne White\",\"female\",\"group C\",\"associate's degree\",\"standard\",\"none\",\"math score\"],[\"Julia Hagan\",\"female\",\"group C\",\"bachelor's degree\",\"free/reduced\",\"completed\",\"math score\"],[\"David Lemke\",\"male\",\"group E\",\"some college\",\"standard\",\"completed\",\"math score\"],[\"Clarice Machida\",\"female\",\"group D\",\"some college\",\"free/reduced\",\"completed\",\"math score\"],[\"Wendy Lewis\",\"female\",\"group B\",\"high school\",\"standard\",\"none\",\"math score\"],[\"Beatrice Aragon\",\"female\",\"group B\",\"master's degree\",\"free/reduced\",\"completed\",\"math score\"],[\"Christopher Emmons\",\"male\",\"group C\",\"high school\",\"free/reduced\",\"completed\",\"math score\"],[\"Richard Lindenbaum\",\"male\",\"group D\",\"some college\",\"free/reduced\",\"none\",\"math score\"],[\"Jesus Currier\",\"male\",\"group B\",\"some high school\",\"standard\",\"completed\",\"math score\"],[\"Angie Laskoski\",\"female\",\"group C\",\"bachelor's degree\",\"standard\",\"completed\",\"math score\"],[\"Michael Diaz\",\"male\",\"group E\",\"associate's degree\",\"standard\",\"none\",\"math score\"],[\"William Musick\",\"male\",\"group B\",\"some college\",\"standard\",\"none\",\"math score\"],[\"George Lindsay\",\"male\",\"group E\",\"some high school\",\"free/reduced\",\"completed\",\"math score\"],[\"Brandi Adams\",\"female\",\"group A\",\"some college\",\"free/reduced\",\"none\",\"math score\"],[\"Karolyn Hollingsworth\",\"female\",\"group C\",\"some college\",\"standard\",\"completed\",\"math score\"],[\"Diane Olson\",\"female\",\"group C\",\"some college\",\"standard\",\"completed\",\"math score\"],[\"Kathryn Novak\",\"female\",\"group B\",\"some college\",\"free/reduced\",\"none\",\"math score\"],[\"Karen Honea\",\"female\",\"group D\",\"some high school\",\"standard\",\"completed\",\"math score\"],[\"Lorena Reed\",\"female\",\"group C\",\"high school\",\"free/reduced\",\"none\",\"math score\"],[\"Christopher Kilkenny\",\"male\",\"group D\",\"high school\",\"standard\",\"none\",\"math score\"],[\"William Barich\",\"male\",\"group A\",\"bachelor's degree\",\"free/reduced\",\"completed\",\"math score\"],[\"John Sabir\",\"male\",\"group C\",\"some high school\",\"free/reduced\",\"completed\",\"math score\"],[\"Isaiah Massey\",\"male\",\"group C\",\"some college\",\"standard\",\"none\",\"math score\"],[\"James Braun\",\"male\",\"group D\",\"some college\",\"standard\",\"completed\",\"math score\"],[\"Jane Larson\",\"female\",\"group B\",\"bachelor's degree\",\"standard\",\"none\",\"math score\"],[\"Richard Stevens\",\"male\",\"group D\",\"some high school\",\"standard\",\"none\",\"math score\"],[\"Tanya Anderson\",\"female\",\"group C\",\"some college\",\"free/reduced\",\"completed\",\"math score\"],[\"Laree Keene\",\"female\",\"group C\",\"master's degree\",\"standard\",\"completed\",\"math score\"],[\"Sheron Luzar\",\"female\",\"group B\",\"some high school\",\"free/reduced\",\"completed\",\"math score\"],[\"Judith Forker\",\"female\",\"group C\",\"associate's degree\",\"free/reduced\",\"completed\",\"math score\"],[\"Robert Beard\",\"male\",\"group C\",\"some college\",\"standard\",\"none\",\"math score\"],[\"Emmie Mooreland\",\"female\",\"group C\",\"bachelor's degree\",\"standard\",\"completed\",\"math score\"],[\"Thomas Whitehead\",\"male\",\"group D\",\"high school\",\"standard\",\"completed\",\"math score\"],[\"Shirley Witt\",\"female\",\"group C\",\"some high school\",\"standard\",\"none\",\"math score\"],[\"Barbra Wade\",\"female\",\"group E\",\"some college\",\"free/reduced\",\"none\",\"math score\"],[\"Carrie Robinson\",\"female\",\"group C\",\"high school\",\"free/reduced\",\"none\",\"math score\"],[\"Alex Mcdowell\",\"male\",\"group D\",\"some high school\",\"standard\",\"none\",\"math score\"],[\"Larry Braun\",\"male\",\"group C\",\"some high school\",\"free/reduced\",\"completed\",\"math score\"],[\"Mitchell Fisher\",\"male\",\"group B\",\"associate's degree\",\"standard\",\"none\",\"math score\"],[\"Howard Parham\",\"male\",\"group D\",\"some high school\",\"standard\",\"completed\",\"math score\"],[\"Jose Walker\",\"male\",\"group B\",\"bachelor's degree\",\"standard\",\"none\",\"math score\"],[\"Linda Odonnell\",\"female\",\"group E\",\"associate's degree\",\"free/reduced\",\"completed\",\"math score\"],[\"Kim Adams\",\"female\",\"group A\",\"some college\",\"standard\",\"none\",\"math score\"],[\"Andreas Browder\",\"male\",\"group C\",\"master's degree\",\"free/reduced\",\"completed\",\"math score\"],[\"Ruth Patrick\",\"female\",\"group A\",\"associate's degree\",\"standard\",\"completed\",\"math score\"],[\"Kathy Edwards\",\"female\",\"group D\",\"some high school\",\"standard\",\"completed\",\"math score\"],[\"Bertha Nelson\",\"female\",\"group B\",\"some high school\",\"standard\",\"none\",\"math score\"],[\"Oscar Markow\",\"male\",\"group C\",\"some high school\",\"free/reduced\",\"completed\",\"math score\"],[\"Anthony Bommarito\",\"male\",\"group C\",\"associate's degree\",\"standard\",\"none\",\"math score\"],[\"Esther Childress\",\"female\",\"group E\",\"master's degree\",\"standard\",\"none\",\"math score\"],[\"Esther Riebe\",\"female\",\"group C\",\"associate's degree\",\"standard\",\"completed\",\"math score\"],[\"Sonia Brent\",\"female\",\"group B\",\"some high school\",\"free/reduced\",\"none\",\"math score\"],[\"Darlene Owsley\",\"female\",\"group D\",\"bachelor's degree\",\"free/reduced\",\"none\",\"math score\"],[\"Tom Perez\",\"male\",\"group B\",\"some high school\",\"standard\",\"completed\",\"math score\"],[\"Gladys Kennedy\",\"female\",\"group A\",\"some high school\",\"free/reduced\",\"none\",\"math score\"],[\"Allen Schwarz\",\"male\",\"group C\",\"some high school\",\"standard\",\"completed\",\"math score\"],[\"Anna Mascia\",\"female\",\"group C\",\"some high school\",\"standard\",\"none\",\"math score\"],[\"Suzanne Trosclair\",\"female\",\"group D\",\"some high school\",\"standard\",\"none\",\"math score\"],[\"James Michael\",\"male\",\"group B\",\"high school\",\"standard\",\"completed\",\"math score\"],[\"Kenneth Webster\",\"male\",\"group E\",\"associate's degree\",\"free/reduced\",\"none\",\"math score\"],[\"Angela Cressey\",\"female\",\"group D\",\"some college\",\"standard\",\"none\",\"math score\"],[\"Judy Schwantes\",\"female\",\"group C\",\"some college\",\"standard\",\"none\",\"math score\"],[\"Donna Duarte\",\"female\",\"group C\",\"high school\",\"standard\",\"none\",\"math score\"],[\"Jonathan Mitchell\",\"male\",\"group E\",\"high school\",\"standard\",\"completed\",\"math score\"],[\"Crystal Smith\",\"female\",\"group C\",\"high school\",\"free/reduced\",\"none\",\"math score\"],[\"Alberto Roberts\",\"male\",\"group D\",\"associate's degree\",\"standard\",\"none\",\"math score\"],[\"Chanel Payne\",\"female\",\"group D\",\"associate's degree\",\"standard\",\"completed\",\"math score\"],[\"Michael Cooney\",\"male\",\"group E\",\"some high school\",\"standard\",\"completed\",\"math score\"],[\"James Denk\",\"male\",\"group B\",\"some college\",\"standard\",\"none\",\"math score\"],[\"Terry Pulcher\",\"male\",\"group D\",\"some college\",\"free/reduced\",\"completed\",\"math score\"],[\"Betty Ellis\",\"female\",\"group D\",\"master's degree\",\"free/reduced\",\"completed\",\"math score\"],[\"Clarence Querry\",\"male\",\"group C\",\"associate's degree\",\"standard\",\"none\",\"math score\"],[\"Stacy Parker\",\"female\",\"group B\",\"associate's degree\",\"standard\",\"none\",\"math score\"],[\"Susan Miller\",\"female\",\"group B\",\"some college\",\"standard\",\"completed\",\"math score\"],[\"James Brooks\",\"male\",\"group C\",\"master's degree\",\"standard\",\"none\",\"math score\"],[\"Richard Laughlin\",\"male\",\"group A\",\"some high school\",\"standard\",\"none\",\"math score\"],[\"Peter Perez\",\"male\",\"group D\",\"master's degree\",\"standard\",\"none\",\"math score\"],[\"Audrey Shaffer\",\"female\",\"group D\",\"some college\",\"free/reduced\",\"none\",\"math score\"],[\"Derrick Crasco\",\"male\",\"group B\",\"associate's degree\",\"free/reduced\",\"completed\",\"math score\"],[\"Lee Trent\",\"female\",\"group D\",\"associate's degree\",\"standard\",\"none\",\"math score\"],[\"Dustin Henry\",\"male\",\"group C\",\"high school\",\"free/reduced\",\"completed\",\"math score\"],[\"Joy Hasler\",\"female\",\"group C\",\"some college\",\"standard\",\"none\",\"math score\"],[\"Shirley Nicholls\",\"female\",\"group E\",\"master's degree\",\"free/reduced\",\"none\",\"math score\"],[\"Jonathan Pearson\",\"male\",\"group C\",\"high school\",\"standard\",\"completed\",\"math score\"],[\"Stuart Stanford\",\"male\",\"group D\",\"associate's degree\",\"standard\",\"completed\",\"math score\"],[\"James King\",\"male\",\"group B\",\"some college\",\"standard\",\"completed\",\"math score\"],[\"Verda Perryman\",\"female\",\"group C\",\"bachelor's degree\",\"free/reduced\",\"none\",\"math score\"],[\"Wendy Freel\",\"female\",\"group C\",\"some high school\",\"standard\",\"completed\",\"math score\"],[\"Kathryn White\",\"female\",\"group C\",\"some college\",\"standard\",\"none\",\"math score\"],[\"Martin Wilson\",\"male\",\"group D\",\"high school\",\"standard\",\"completed\",\"math score\"],[\"Kelly Bowar\",\"female\",\"group D\",\"some high school\",\"standard\",\"none\",\"math score\"],[\"Kelly Greer\",\"female\",\"group C\",\"associate's degree\",\"free/reduced\",\"none\",\"math score\"],[\"Fred Jaeger\",\"male\",\"group E\",\"bachelor's degree\",\"standard\",\"completed\",\"math score\"],[\"Haydee Kunkel\",\"female\",\"group C\",\"high school\",\"free/reduced\",\"none\",\"math score\"],[\"Kayla Lopez\",\"female\",\"group C\",\"associate's degree\",\"standard\",\"completed\",\"math score\"],[\"Paul Brownell\",\"male\",\"group B\",\"high school\",\"standard\",\"none\",\"math score\"],[\"Jose Rogers\",\"male\",\"group D\",\"some college\",\"free/reduced\",\"none\",\"math score\"],[\"Joyce Bland\",\"female\",\"group D\",\"some high school\",\"free/reduced\",\"none\",\"math score\"],[\"Fannie Alvarez\",\"female\",\"group D\",\"some college\",\"free/reduced\",\"none\",\"math score\"],[\"Melissa Johnston\",\"female\",\"group C\",\"some high school\",\"free/reduced\",\"none\",\"math score\"],[\"Judith Mcenany\",\"female\",\"group D\",\"bachelor's degree\",\"standard\",\"none\",\"math score\"],[\"Nancy Mccormick\",\"female\",\"group D\",\"some high school\",\"free/reduced\",\"completed\",\"math score\"],[\"Timothy Long\",\"male\",\"group C\",\"high school\",\"standard\",\"completed\",\"math score\"],[\"Sandra Pompey\",\"female\",\"group E\",\"associate's degree\",\"standard\",\"none\",\"math score\"],[\"Steven Marriot\",\"male\",\"group C\",\"some college\",\"free/reduced\",\"none\",\"math score\"],[\"Stanley Chappell\",\"male\",\"group A\",\"associate's degree\",\"free/reduced\",\"none\",\"math score\"],[\"Michelle Smithson\",\"female\",\"group E\",\"associate's degree\",\"standard\",\"none\",\"math score\"],[\"Jeffrey Bostrom\",\"male\",\"group E\",\"associate's degree\",\"standard\",\"completed\",\"math score\"],[\"Earnest Cole\",\"male\",\"group D\",\"some college\",\"standard\",\"completed\",\"math score\"],[\"Sharon Garcia\",\"female\",\"group C\",\"some high school\",\"free/reduced\",\"none\",\"math score\"],[\"Carol Miller\",\"female\",\"group C\",\"associate's degree\",\"standard\",\"completed\",\"math score\"],[\"Antonio Evans\",\"male\",\"group C\",\"high school\",\"free/reduced\",\"none\",\"math score\"],[\"Pam Otoole\",\"female\",\"group B\",\"bachelor's degree\",\"standard\",\"none\",\"math score\"],[\"Matthew Burns\",\"male\",\"group E\",\"high school\",\"standard\",\"none\",\"math score\"],[\"Gregory Fernandez\",\"male\",\"group E\",\"high school\",\"free/reduced\",\"completed\",\"math score\"],[\"Charles Herandez\",\"male\",\"group D\",\"master's degree\",\"free/reduced\",\"completed\",\"math score\"],[\"Aaron Shelly\",\"male\",\"group D\",\"associate's degree\",\"standard\",\"none\",\"math score\"],[\"Charles Harian\",\"male\",\"group C\",\"some high school\",\"free/reduced\",\"completed\",\"math score\"],[\"Steven Hacker\",\"male\",\"group A\",\"some high school\",\"free/reduced\",\"none\",\"math score\"],[\"Wendy Gunnell\",\"female\",\"group D\",\"some high school\",\"free/reduced\",\"none\",\"math score\"],[\"Manuel Glover\",\"male\",\"group D\",\"some college\",\"standard\",\"none\",\"math score\"],[\"Linda Nevin\",\"female\",\"group B\",\"some high school\",\"standard\",\"completed\",\"math score\"],[\"James Piper\",\"male\",\"group D\",\"bachelor's degree\",\"free/reduced\",\"none\",\"math score\"],[\"Timothy Anderson\",\"male\",\"group C\",\"associate's degree\",\"free/reduced\",\"completed\",\"math score\"],[\"Julie Sciancalepore\",\"female\",\"group C\",\"bachelor's degree\",\"standard\",\"none\",\"math score\"],[\"Brandon Palmer\",\"male\",\"group D\",\"associate's degree\",\"free/reduced\",\"none\",\"math score\"],[\"Robert Morrison\",\"male\",\"group D\",\"some college\",\"standard\",\"completed\",\"math score\"],[\"Claudio Millender\",\"male\",\"group C\",\"some college\",\"free/reduced\",\"completed\",\"math score\"],[\"Emily King\",\"female\",\"group D\",\"some college\",\"standard\",\"completed\",\"math score\"],[\"William Sakkinen\",\"male\",\"group E\",\"some college\",\"standard\",\"none\",\"math score\"],[\"Elsa Hyman\",\"female\",\"group B\",\"high school\",\"standard\",\"none\",\"math score\"],[\"Virginia Sievers\",\"female\",\"group C\",\"bachelor's degree\",\"standard\",\"completed\",\"math score\"],[\"Laura Cavanaugh\",\"female\",\"group C\",\"associate's degree\",\"standard\",\"completed\",\"math score\"],[\"Diana Costa\",\"female\",\"group C\",\"high school\",\"free/reduced\",\"none\",\"math score\"],[\"Amy Sieving\",\"female\",\"group C\",\"high school\",\"standard\",\"none\",\"math score\"],[\"Richard Young\",\"male\",\"group D\",\"high school\",\"standard\",\"none\",\"math score\"],[\"Wanda Russell\",\"female\",\"group B\",\"high school\",\"free/reduced\",\"completed\",\"math score\"],[\"Marina Zeigler\",\"female\",\"group C\",\"bachelor's degree\",\"free/reduced\",\"completed\",\"math score\"],[\"Laurie Carter\",\"female\",\"group B\",\"some high school\",\"standard\",\"completed\",\"math score\"],[\"Amanda Perez\",\"female\",\"group A\",\"high school\",\"standard\",\"completed\",\"math score\"]],\"hovertemplate\":\"variable=%{customdata[6]}<br>value=%{x}<br>names=%{customdata[0]}<br>gender=%{customdata[1]}<br>race/ethnicity=%{customdata[2]}<br>parental level of education=%{customdata[3]}<br>lunch=%{customdata[4]}<br>test preparation course=%{customdata[5]}<extra></extra>\",\"legendgroup\":\"math score\",\"marker\":{\"color\":\"#636efa\"},\"name\":\"math score\",\"notched\":true,\"offsetgroup\":\"math score\",\"showlegend\":false,\"type\":\"box\",\"x\":[3.22,5.8,5.38,5.86,6.64,5.26,5.5,3.04,4.78,6.64,4.9,4.12,4.72,5.44,4.72,5.38,3.76,5.92,4.78,4.84,5.8,6.58,5.14,3.76,6.16,4.54,6.04,4.84,5.38,5.98,5.5,5.14,5.08,4.42,4.96,4.66,3.4,4.0,3.88,3.16,5.68,4.42,5.14,3.4,6.52,3.1,4.78,5.38,4.78,4.12,5.38,4.78,5.26,3.7,6.1,5.8,5.62,6.46,4.6,4.78,3.4,4.42,4.48,6.82,5.86,5.08,4.54,6.76,6.22,4.42,6.64,6.82,4.9,5.92,5.32,4.72,3.64,5.92,5.5,4.54,5.5,5.32,5.08,4.96,5.02,6.58,5.14,4.78,3.76,4.96,4.72,3.88,5.26,4.24,5.8,4.3,6.4,6.64,5.86,4.18,4.66,5.5,5.44,4.72,5.2,4.54,4.72,4.18,5.8,5.14,5.14,5.14,3.94,5.98,4.9,5.38,5.08,4.84,4.9,3.94,4.48,4.96,4.9,4.9,5.2,5.74,4.0,4.84,5.08,2.92,5.08,4.48,2.14,5.14,5.32,4.18,4.66,5.68,4.18,3.7,3.64,5.98,4.9,6.28,6.28,6.46,6.04,4.06,3.2800000000000002,3.8200000000000003,4.96,4.66,4.6,5.26,3.7,5.62,4.18,4.42,5.32,5.5600000000000005,3.7,6.94,4.06,4.84,4.12,5.8,4.06,4.0,4.84,5.44,5.26,4.42,5.14,5.62,5.5,3.58,5.8,4.54,6.1,4.3,3.64,3.52,4.48,4.66,4.0,6.28,5.38,5.02,6.82,4.66,4.72,4.24,4.96,5.68,6.1,6.04,5.5600000000000005,3.64,5.86,4.24,4.48,5.86,5.32,5.26,4.66,4.96,5.26,5.26,6.34,5.38,5.86,3.76,2.32,3.88,3.64,6.46,5.5600000000000005,5.62,4.72,5.02,6.16,4.48,4.18,4.42,5.14,4.72,3.22,6.28,6.4,5.08,4.9,4.78,4.12,3.88,4.9,4.24,2.74,2.56,5.2,5.5,4.6,6.88,6.58,4.54,3.76,5.5600000000000005,5.74,2.68,4.3,4.66,3.1,6.64,3.76,7.0,5.02,4.0,5.74,5.26,5.98,4.3,3.88,5.5600000000000005,5.62,4.72,4.36,5.08,6.04,5.8,4.72,4.6,4.84,2.74,4.12,4.18,5.02,5.92,4.36,5.74,5.38,4.96,5.38,4.96,6.04,5.44,5.5600000000000005,5.86,5.74,5.08,4.78,4.0,5.32,6.1,5.98,6.04,4.9,6.1,5.2,4.48,6.16,4.84,4.9,4.66,3.94,4.18,6.82,5.5,5.32,5.44,4.54,5.08,5.68,4.18,5.32,6.94,5.74,6.46,5.98,5.32,4.66,5.38,4.54,7.0,4.66,5.62,5.26,3.94,4.72,6.16,5.5,3.8200000000000003,4.78,5.2,5.08,4.66,5.26,5.86,7.0,5.62,4.18,5.26,5.38,4.9,3.94,4.12,4.9,4.54,5.8,4.72,4.42,3.76,4.48,5.02,5.38,5.32,3.4,5.68,4.78,4.66,5.74,5.62,5.2,4.18,3.7,3.4,5.92,5.68,5.5,5.2,4.3,5.2,2.8,5.5,4.78,5.92,5.44,4.24,5.26,5.38,5.62,5.62,6.22,6.22,5.44,5.02,3.58,3.94,3.94,4.18,4.84,4.66,5.74,5.14,4.24,4.9,5.62,4.48,5.38,4.24,4.24,4.84,4.54,5.5600000000000005,6.1,6.82,4.18,4.12,5.62,5.74,4.42,4.96,4.78,4.9,5.08,4.3,5.32,6.16,6.82,5.5,4.12,5.44,5.2,3.34,4.66,3.64,6.22,4.96,5.08,4.72,5.86,5.2,5.44,5.5600000000000005,4.54,5.08,5.38,7.0,1.48,4.9,3.4,3.88,6.34,5.62,4.9,5.14,5.08,3.94,4.72,4.36,3.76,4.6,6.46,6.4,5.38,5.2,3.8200000000000003,4.9,5.86,4.3,6.58,4.9,4.72,3.88,5.08,4.96,4.3,3.52,5.44,3.22,4.96,6.28,5.14,4.66,3.34,6.22,4.84,3.64,4.54,5.8,5.26,4.18,5.68,4.3,5.2,4.9,6.16,4.24,3.46,6.4,4.54,4.9,5.02,6.34,4.54,5.38,5.44,6.16,4.66,4.42,4.48,3.7,4.78,5.02,6.64,4.36,4.72,5.2,5.2,5.5600000000000005,4.84,3.8200000000000003,4.96,3.4,4.96,5.08,4.06,6.28,6.4,4.12,3.94,4.18,5.26,4.0,4.48,3.52,5.02,3.34,6.1,5.68,5.38,5.08,6.34,3.4,5.92,5.62,5.14,5.74,4.18,3.58,4.48,6.28,5.14,6.1,5.14,5.32,4.42,4.48,4.72,5.5,6.28,5.86,5.02,5.02,5.44,5.26,6.1,4.36,5.92,4.6,5.86,6.22,3.76,4.48,4.72,5.5600000000000005,4.6,4.0,5.62,4.84,4.66,4.6,5.02,4.84,6.4,4.18,3.88,4.6,5.92,4.48,4.6,4.96,6.1,3.94,5.62,5.02,5.14,4.0,4.72,5.98,5.86,5.32,6.52,5.26,6.28,5.92,5.26,5.5,4.06,4.72,5.5,4.78,5.26,5.02,5.26,4.66,4.36,6.88,5.92,5.5,4.54,5.26,3.64,5.62,4.9,4.42,4.6,2.62,4.48,5.2,3.2800000000000002,3.52,7.0,6.34,3.1,5.62,4.72,5.74,3.76,4.54,4.96,3.8200000000000003,5.62,5.68,4.12,5.2,4.48,5.08,5.14,6.22,4.12,5.32,6.1,3.46,4.66,5.02,4.24,4.78,4.12,4.72,4.48,4.72,4.9,5.44,5.74,5.08,4.78,4.12,4.54,4.3,4.96,5.44,6.46,5.44,5.86,5.74,6.4,4.24,5.68,6.28,4.72,5.8,5.8,5.26,5.5,4.6,6.28,4.3,4.0,3.52,5.14,3.52,4.48,2.44,5.02,4.54,4.54,6.76,3.7,6.28,5.32,4.66,5.86,5.74,3.8200000000000003,3.94,4.24,5.26,4.54,6.34,4.54,4.42,5.62,5.62,4.6,5.5600000000000005,2.92,3.94,5.5600000000000005,4.84,4.78,4.0,3.64,4.96,5.02,4.66,5.14,4.9,4.18,6.22,4.18,4.96,3.94,5.02,4.3,2.8,5.38,4.72,5.74,4.78,4.12,4.48,5.68,5.44,5.08,5.92,5.38,4.54,5.44,6.04,5.02,6.22,5.62,4.48,5.14,4.9,6.52,6.22,5.14,5.38,4.66,5.02,5.14,5.44,4.84,3.16,3.46,3.94,4.54,6.04,5.5600000000000005,4.66,4.72,5.02,4.24,4.54,5.08,6.46,6.76,5.08,5.44,5.26,3.1,5.86,4.18,5.8,5.5600000000000005,4.78,4.42,4.48,5.32,4.3,5.8,3.46,4.06,6.1,5.86,4.12,2.08,5.38,4.78,4.54,4.78,4.78,5.8,4.6,4.84,6.88,4.54,4.9,6.22,4.96,4.12,5.38,6.22,5.74,5.14,3.8200000000000003,6.52,4.42,6.28,5.74,5.26,5.86,4.9,5.92,4.9,3.4,5.38,4.36,5.14,5.02,6.46,5.02,4.9,4.48,4.3,3.88,4.18,6.1,4.72,4.9,5.92,5.62,4.0,5.14,1.0,4.9,5.14,5.32,7.0,4.9,3.8200000000000003,4.06,5.26,5.92,4.3,5.5,4.96,5.32,5.2,4.42,6.04,4.66,3.7,4.9,2.62,6.28,4.9,4.78,5.68,4.9,6.4,7.0,5.02,5.44,5.5600000000000005,4.96,4.54,4.72,3.46,2.74,5.14,2.38,4.96,4.24,5.08],\"xaxis\":\"x2\",\"yaxis\":\"y2\"},{\"alignmentgroup\":\"True\",\"bingroup\":\"x\",\"hovertemplate\":\"variable=reading score<br>value=%{x}<br>count=%{y}<extra></extra>\",\"legendgroup\":\"reading score\",\"marker\":{\"color\":\"#EF553B\",\"pattern\":{\"shape\":\"\"}},\"name\":\"reading score\",\"offsetgroup\":\"reading score\",\"orientation\":\"v\",\"showlegend\":true,\"type\":\"histogram\",\"x\":[3.76,5.68,4.96,5.5,6.16,4.66,5.08,3.88,4.66,5.38,5.68,5.5600000000000005,4.9,5.44,4.42,5.14,3.52,5.92,4.66,5.38,5.5,7.0,5.5600000000000005,4.66,5.86,5.32,5.98,4.84,5.5600000000000005,6.16,6.28,5.44,5.32,4.66,4.84,4.66,4.54,5.02,4.72,2.74,5.74,5.02,4.48,4.3,6.22,2.68,5.02,5.44,4.84,4.54,5.74,5.38,4.6,4.54,6.52,5.5600000000000005,6.64,6.1,4.72,3.88,3.88,4.24,4.24,5.92,5.92,4.9,5.26,6.4,6.04,5.5,6.28,6.58,5.86,6.58,4.42,5.44,4.24,6.04,6.4,3.46,5.38,5.08,5.68,5.44,4.72,6.4,4.78,5.44,4.84,5.08,5.38,4.36,5.2,5.32,5.98,4.54,6.22,6.94,5.38,3.58,5.08,6.1,5.86,5.32,5.68,4.06,5.32,4.0,6.1,4.96,5.68,5.62,3.7,6.58,4.66,4.84,5.98,4.96,5.62,4.42,5.02,5.68,5.2,5.74,5.08,5.86,5.02,4.24,4.6,4.06,4.06,4.42,3.2800000000000002,5.62,5.74,4.48,4.06,5.32,4.72,4.36,4.06,5.98,5.5600000000000005,5.68,6.7,6.34,6.22,4.96,3.94,4.18,4.42,5.38,5.08,5.26,4.78,6.16,4.48,4.06,4.84,5.26,3.88,6.58,5.32,4.6,4.66,5.38,4.24,3.88,5.38,5.44,5.62,5.44,5.2,6.4,5.44,4.06,5.08,5.32,5.86,5.5600000000000005,4.78,4.72,4.54,3.8200000000000003,4.96,5.44,5.68,6.16,7.0,4.48,4.84,4.78,5.26,6.46,5.5,6.04,6.64,4.66,6.04,3.94,4.78,5.92,5.86,3.94,3.52,5.62,5.5600000000000005,4.96,6.28,5.98,5.86,3.04,3.34,4.12,4.84,5.86,5.8,5.68,5.32,4.84,5.86,5.2,4.12,4.48,5.38,4.96,4.42,6.34,5.5,5.2,5.5,5.14,4.42,3.58,4.24,4.24,3.46,2.86,5.5,5.44,4.42,6.22,6.04,4.24,4.24,4.84,6.28,2.38,5.26,4.42,4.18,6.1,4.48,7.0,5.8,3.8200000000000003,6.04,5.86,5.92,4.84,4.48,5.38,5.62,5.68,5.08,6.16,5.62,5.5,5.2,4.96,4.72,3.4,4.9,4.66,4.66,6.7,5.74,5.5600000000000005,5.08,5.44,6.16,4.9,5.38,5.62,5.26,5.32,6.34,5.26,5.68,4.36,4.9,6.52,5.68,6.7,5.62,6.16,5.2,4.78,5.8,5.92,5.86,4.3,4.06,4.06,6.82,5.32,5.38,5.74,5.02,5.08,5.62,4.48,4.42,7.0,6.34,5.38,5.32,5.74,4.72,5.44,4.24,6.76,4.96,5.74,5.02,4.18,4.66,6.52,5.86,4.54,5.5,5.5,4.78,4.36,4.96,6.82,7.0,6.4,3.64,5.98,5.08,5.92,3.94,4.54,5.5,4.6,4.84,3.94,3.58,3.58,5.38,4.24,4.96,5.32,3.58,5.98,4.9,5.32,5.44,5.92,6.04,4.24,4.18,4.48,6.1,5.32,4.96,4.84,4.3,6.34,2.56,6.04,4.84,5.92,5.86,4.54,6.04,6.04,6.28,6.28,6.04,5.44,5.38,4.84,4.72,4.12,4.9,4.24,4.18,6.16,6.52,5.26,4.12,6.16,6.46,4.66,5.5600000000000005,4.84,4.18,4.48,5.32,5.44,6.04,6.52,5.2,4.3,5.5600000000000005,5.32,5.62,5.14,5.38,6.1,5.02,4.48,4.96,5.5600000000000005,6.22,5.08,3.94,5.2,5.92,4.12,5.44,4.0,6.04,4.9,5.62,5.02,4.96,4.78,5.5,5.68,5.2,5.08,4.96,7.0,2.44,4.84,4.9,4.96,6.04,5.92,5.38,5.62,5.32,4.06,5.14,5.08,4.36,4.06,6.7,6.4,4.36,5.32,3.94,4.9,5.62,3.76,7.0,5.2,4.66,3.7,4.54,5.14,3.76,4.3,5.62,4.36,4.78,5.68,5.62,5.26,4.84,7.0,4.78,3.46,5.68,5.74,6.22,4.48,5.86,5.38,5.2,5.14,5.38,4.12,4.06,6.4,4.48,5.86,5.74,6.04,4.78,5.26,6.4,5.98,4.48,5.68,4.12,3.22,4.78,5.38,6.22,4.12,4.96,4.9,5.44,5.98,5.44,4.24,5.44,4.12,5.44,5.44,2.86,6.04,6.7,4.42,4.18,4.12,5.44,3.88,4.3,4.12,4.42,3.34,6.4,5.44,5.68,5.2,7.0,3.52,5.02,6.1,6.04,6.16,4.72,3.7,4.3,5.62,5.2,6.46,4.6,5.8,4.0,4.66,4.78,5.62,6.94,6.46,5.68,5.14,5.74,5.44,6.04,4.24,4.72,4.84,5.5,6.1,3.58,5.08,4.3,5.32,5.08,3.52,6.34,4.0,5.08,4.54,4.42,5.38,6.1,3.7,4.36,5.2,6.4,5.02,5.5,4.54,6.7,4.12,5.14,5.5600000000000005,5.74,4.6,4.36,6.1,5.26,5.74,7.0,5.2,6.94,6.58,5.14,5.92,3.94,4.3,5.86,4.3,5.98,5.32,5.98,4.36,4.66,6.16,6.04,6.28,4.72,5.5,3.7,5.08,5.5600000000000005,3.88,4.6,3.04,4.0,4.84,3.58,4.96,6.52,5.5600000000000005,3.64,4.72,4.84,5.92,3.46,5.2,5.62,3.22,5.08,5.62,3.88,5.26,4.42,4.24,5.32,6.64,4.18,5.8,6.34,3.34,5.26,6.34,3.88,4.78,4.48,4.3,4.6,5.02,5.62,6.28,5.38,5.08,5.8,5.2,3.52,3.8200000000000003,4.6,5.5600000000000005,6.16,4.78,5.44,5.92,5.68,4.48,5.92,6.52,5.02,6.16,4.78,5.74,6.16,5.32,5.5,4.66,4.6,4.66,5.5,3.34,5.5,3.2800000000000002,6.04,4.72,4.72,6.76,3.8200000000000003,6.1,5.02,5.02,5.8,6.1,4.72,4.48,4.6,5.26,4.48,6.22,6.1,4.48,5.02,5.02,4.78,5.68,3.04,4.42,4.72,5.5600000000000005,5.68,4.18,4.06,4.72,6.04,4.6,6.04,5.38,5.32,6.4,4.96,5.98,4.9,5.44,5.32,2.44,6.52,4.72,4.6,4.42,4.9,5.5600000000000005,6.4,6.34,5.5600000000000005,6.82,5.2,4.96,6.16,5.98,6.16,6.7,6.82,4.06,4.96,4.96,7.0,5.44,4.24,5.02,4.6,5.86,6.4,5.86,4.6,4.18,4.12,4.48,5.14,6.22,5.98,5.32,5.02,5.5,4.84,4.78,5.02,5.44,7.0,4.84,5.5,5.5600000000000005,4.66,5.68,3.22,5.5600000000000005,5.2,5.26,5.08,5.2,4.96,4.9,6.52,4.3,4.36,5.5600000000000005,6.52,4.54,2.92,5.74,5.02,5.38,4.6,5.38,6.4,3.64,4.36,7.0,5.26,5.14,6.46,5.5600000000000005,4.3,5.5,6.04,5.02,4.6,4.48,5.74,5.14,6.7,5.68,4.72,5.86,5.86,5.68,5.14,3.76,5.8,5.32,4.48,5.32,6.76,5.5,5.44,4.54,3.46,4.48,4.66,4.96,5.02,6.04,5.92,4.72,4.84,4.9,2.02,5.02,6.16,5.02,7.0,4.48,4.42,4.06,5.44,5.92,4.9,5.92,4.96,5.32,4.3,4.36,6.34,3.88,4.12,4.54,3.04,5.38,5.92,4.96,5.86,5.32,6.22,6.82,5.44,5.5,5.02,5.32,4.84,5.5600000000000005,3.76,2.74,5.5,3.64,5.44,4.66,5.8],\"xaxis\":\"x\",\"yaxis\":\"y\"},{\"alignmentgroup\":\"True\",\"customdata\":[[\"Rita Courtney\",\"female\",\"group B\",\"some high school\",\"standard\",\"none\",\"reading score\"],[\"Charles Linstrom\",\"male\",\"group A\",\"bachelor's degree\",\"standard\",\"completed\",\"reading score\"],[\"Brian Young\",\"male\",\"group C\",\"some high school\",\"standard\",\"none\",\"reading score\"],[\"Howard Jimenez\",\"male\",\"group E\",\"some high school\",\"standard\",\"completed\",\"reading score\"],[\"Wayne Wilson\",\"male\",\"group B\",\"some high school\",\"standard\",\"completed\",\"reading score\"],[\"Jonathan Clingan\",\"male\",\"group D\",\"some college\",\"standard\",\"completed\",\"reading score\"],[\"William Tang\",\"male\",\"group D\",\"associate's degree\",\"standard\",\"none\",\"reading score\"],[\"Mikki Amaya\",\"female\",\"group A\",\"high school\",\"free/reduced\",\"completed\",\"reading score\"],[\"Gerald Wilson\",\"male\",\"group A\",\"associate's degree\",\"standard\",\"none\",\"reading score\"],[\"Damon Mckee\",\"male\",\"group E\",\"high school\",\"standard\",\"none\",\"reading score\"],[\"Sophia Bijou\",\"female\",\"group D\",\"some high school\",\"standard\",\"completed\",\"reading score\"],[\"Monica Schwartz\",\"female\",\"group B\",\"associate's degree\",\"free/reduced\",\"none\",\"reading score\"],[\"Donald Upchurch\",\"male\",\"group C\",\"associate's degree\",\"standard\",\"none\",\"reading score\"],[\"Donald Dunnings\",\"male\",\"group D\",\"some high school\",\"standard\",\"none\",\"reading score\"],[\"Joseph Mccoy\",\"male\",\"group D\",\"some college\",\"free/reduced\",\"none\",\"reading score\"],[\"David Dupree\",\"male\",\"group B\",\"high school\",\"standard\",\"completed\",\"reading score\"],[\"Samuel Dougal\",\"male\",\"group C\",\"master's degree\",\"free/reduced\",\"completed\",\"reading score\"],[\"Richard Pina\",\"male\",\"group D\",\"master's degree\",\"standard\",\"none\",\"reading score\"],[\"Dale Sylvain\",\"male\",\"group D\",\"some college\",\"free/reduced\",\"none\",\"reading score\"],[\"Janine Taylor\",\"female\",\"group C\",\"associate's degree\",\"free/reduced\",\"none\",\"reading score\"],[\"Alexander Dillon\",\"male\",\"group D\",\"associate's degree\",\"standard\",\"none\",\"reading score\"],[\"Shanna Braswell\",\"female\",\"group D\",\"bachelor's degree\",\"free/reduced\",\"completed\",\"reading score\"],[\"Bonnie Ramos\",\"female\",\"group B\",\"high school\",\"standard\",\"completed\",\"reading score\"],[\"Connie Shinn\",\"female\",\"group B\",\"associate's degree\",\"free/reduced\",\"none\",\"reading score\"],[\"Daniel Cartwright\",\"male\",\"group C\",\"high school\",\"standard\",\"completed\",\"reading score\"],[\"Betty Buntin\",\"female\",\"group A\",\"bachelor's degree\",\"standard\",\"none\",\"reading score\"],[\"Francis Seibold\",\"male\",\"group B\",\"some high school\",\"standard\",\"completed\",\"reading score\"],[\"Arthur Byer\",\"male\",\"group D\",\"high school\",\"free/reduced\",\"completed\",\"reading score\"],[\"Willie Neff\",\"female\",\"group E\",\"associate's degree\",\"free/reduced\",\"none\",\"reading score\"],[\"Thelma Yeates\",\"female\",\"group E\",\"associate's degree\",\"free/reduced\",\"completed\",\"reading score\"],[\"Mary Piotrowski\",\"female\",\"group E\",\"some college\",\"free/reduced\",\"completed\",\"reading score\"],[\"Hazel Montoya\",\"female\",\"group D\",\"some college\",\"standard\",\"none\",\"reading score\"],[\"James Eury\",\"male\",\"group E\",\"some college\",\"standard\",\"none\",\"reading score\"],[\"Larry Dunn\",\"male\",\"group C\",\"some high school\",\"standard\",\"none\",\"reading score\"],[\"David Dunham\",\"male\",\"group A\",\"bachelor's degree\",\"standard\",\"none\",\"reading score\"],[\"Jeffery Wiedmann\",\"male\",\"group C\",\"some college\",\"standard\",\"none\",\"reading score\"],[\"Lisa Watters\",\"female\",\"group D\",\"master's degree\",\"free/reduced\",\"none\",\"reading score\"],[\"Katharine Kellum\",\"female\",\"group B\",\"high school\",\"free/reduced\",\"none\",\"reading score\"],[\"Marjorie Brown\",\"female\",\"group B\",\"high school\",\"standard\",\"none\",\"reading score\"],[\"Rodger Talavera\",\"male\",\"group B\",\"high school\",\"free/reduced\",\"none\",\"reading score\"],[\"Mary Jackson\",\"female\",\"group B\",\"bachelor's degree\",\"free/reduced\",\"none\",\"reading score\"],[\"Rebecca Dalton\",\"female\",\"group B\",\"some high school\",\"standard\",\"none\",\"reading score\"],[\"David Fisk\",\"male\",\"group D\",\"bachelor's degree\",\"standard\",\"none\",\"reading score\"],[\"Morris Johnson\",\"male\",\"group A\",\"associate's degree\",\"free/reduced\",\"completed\",\"reading score\"],[\"Rodrick Rasch\",\"male\",\"group E\",\"some high school\",\"standard\",\"none\",\"reading score\"],[\"Anthony Malcomb\",\"male\",\"group C\",\"some college\",\"free/reduced\",\"none\",\"reading score\"],[\"Joyce Amos\",\"female\",\"group C\",\"associate's degree\",\"standard\",\"none\",\"reading score\"],[\"Donald Chestnut\",\"male\",\"group C\",\"some college\",\"standard\",\"none\",\"reading score\"],[\"Lynne Rodgers\",\"female\",\"group D\",\"some college\",\"standard\",\"none\",\"reading score\"],[\"Diane Preister\",\"female\",\"group D\",\"some college\",\"free/reduced\",\"completed\",\"reading score\"],[\"Brenda Kitchin\",\"female\",\"group B\",\"some high school\",\"standard\",\"none\",\"reading score\"],[\"Susan Palmo\",\"female\",\"group C\",\"some college\",\"free/reduced\",\"completed\",\"reading score\"],[\"Edward Hohn\",\"male\",\"group C\",\"high school\",\"standard\",\"none\",\"reading score\"],[\"Donita Hill\",\"female\",\"group A\",\"bachelor's degree\",\"standard\",\"none\",\"reading score\"],[\"Natalie Turney\",\"female\",\"group E\",\"associate's degree\",\"standard\",\"none\",\"reading score\"],[\"Joe Burks\",\"male\",\"group E\",\"high school\",\"standard\",\"none\",\"reading score\"],[\"Kim Stallard\",\"female\",\"group C\",\"bachelor's degree\",\"standard\",\"completed\",\"reading score\"],[\"Dennis Campbell\",\"male\",\"group C\",\"master's degree\",\"standard\",\"completed\",\"reading score\"],[\"Alan Mccloud\",\"male\",\"group B\",\"some college\",\"free/reduced\",\"completed\",\"reading score\"],[\"Troy Kittleson\",\"male\",\"group B\",\"high school\",\"free/reduced\",\"none\",\"reading score\"],[\"Ann Pence\",\"female\",\"group B\",\"associate's degree\",\"standard\",\"none\",\"reading score\"],[\"William Austin\",\"male\",\"group C\",\"associate's degree\",\"standard\",\"completed\",\"reading score\"],[\"Shaun Johnson\",\"male\",\"group C\",\"associate's degree\",\"standard\",\"none\",\"reading score\"],[\"Darryl Ruble\",\"male\",\"group E\",\"associate's degree\",\"standard\",\"completed\",\"reading score\"],[\"Harry Berry\",\"male\",\"group B\",\"associate's degree\",\"standard\",\"completed\",\"reading score\"],[\"Logan Camp\",\"male\",\"group C\",\"associate's degree\",\"free/reduced\",\"none\",\"reading score\"],[\"Margaret Spannaus\",\"female\",\"group C\",\"high school\",\"free/reduced\",\"completed\",\"reading score\"],[\"Joseph Dean\",\"male\",\"group C\",\"bachelor's degree\",\"standard\",\"completed\",\"reading score\"],[\"Leon Shipley\",\"male\",\"group B\",\"some college\",\"standard\",\"completed\",\"reading score\"],[\"Cathy Kuhl\",\"female\",\"group E\",\"high school\",\"free/reduced\",\"completed\",\"reading score\"],[\"Sylvester Beveridge\",\"male\",\"group E\",\"some high school\",\"standard\",\"none\",\"reading score\"],[\"Joseph Sisk\",\"male\",\"group C\",\"associate's degree\",\"standard\",\"none\",\"reading score\"],[\"Debra Fannin\",\"female\",\"group B\",\"bachelor's degree\",\"standard\",\"completed\",\"reading score\"],[\"Susan Cook\",\"female\",\"group C\",\"associate's degree\",\"free/reduced\",\"completed\",\"reading score\"],[\"Andrew Duran\",\"male\",\"group D\",\"some college\",\"standard\",\"none\",\"reading score\"],[\"Tina Spillman\",\"female\",\"group C\",\"associate's degree\",\"standard\",\"none\",\"reading score\"],[\"John Salter\",\"male\",\"group D\",\"some college\",\"standard\",\"none\",\"reading score\"],[\"Francisco Johnson\",\"male\",\"group B\",\"associate's degree\",\"standard\",\"completed\",\"reading score\"],[\"Audrey Vargas\",\"female\",\"group D\",\"associate's degree\",\"free/reduced\",\"completed\",\"reading score\"],[\"Brian Green\",\"male\",\"group C\",\"some college\",\"standard\",\"none\",\"reading score\"],[\"Rodney Guerrera\",\"male\",\"group D\",\"bachelor's degree\",\"standard\",\"none\",\"reading score\"],[\"Floyd Annino\",\"male\",\"group B\",\"some high school\",\"standard\",\"none\",\"reading score\"],[\"Vickie Sellers\",\"female\",\"group D\",\"some college\",\"standard\",\"completed\",\"reading score\"],[\"Estelle Jackson\",\"female\",\"group E\",\"high school\",\"free/reduced\",\"completed\",\"reading score\"],[\"Sergio Littlejohn\",\"male\",\"group B\",\"associate's degree\",\"free/reduced\",\"none\",\"reading score\"],[\"Norman Arnold\",\"male\",\"group E\",\"some college\",\"free/reduced\",\"none\",\"reading score\"],[\"Bruce Tang\",\"male\",\"group C\",\"bachelor's degree\",\"standard\",\"none\",\"reading score\"],[\"Heather Cunningham\",\"female\",\"group C\",\"some college\",\"standard\",\"none\",\"reading score\"],[\"Tamara Mckinney\",\"female\",\"group C\",\"some college\",\"free/reduced\",\"none\",\"reading score\"],[\"David Okeeffe\",\"male\",\"group A\",\"some high school\",\"standard\",\"completed\",\"reading score\"],[\"Martha Johnson\",\"female\",\"group E\",\"some college\",\"standard\",\"none\",\"reading score\"],[\"Kathy Castro\",\"female\",\"group C\",\"some high school\",\"free/reduced\",\"none\",\"reading score\"],[\"Ayana Childs\",\"female\",\"group E\",\"bachelor's degree\",\"standard\",\"completed\",\"reading score\"],[\"Robert Miranda\",\"male\",\"group C\",\"high school\",\"free/reduced\",\"none\",\"reading score\"],[\"Katrina Wilcox\",\"female\",\"group E\",\"bachelor's degree\",\"standard\",\"none\",\"reading score\"],[\"Robert Wallace\",\"male\",\"group B\",\"bachelor's degree\",\"free/reduced\",\"none\",\"reading score\"],[\"John Echols\",\"male\",\"group D\",\"associate's degree\",\"standard\",\"none\",\"reading score\"],[\"Ana Loredo\",\"female\",\"group E\",\"master's degree\",\"standard\",\"completed\",\"reading score\"],[\"Bobby Labounty\",\"male\",\"group B\",\"associate's degree\",\"standard\",\"none\",\"reading score\"],[\"Carl Caruthers\",\"male\",\"group A\",\"some college\",\"standard\",\"none\",\"reading score\"],[\"Lessie Thompson\",\"female\",\"group A\",\"high school\",\"standard\",\"none\",\"reading score\"],[\"Pamela Cannady\",\"female\",\"group B\",\"bachelor's degree\",\"free/reduced\",\"none\",\"reading score\"],[\"Stacy Wickman\",\"female\",\"group E\",\"high school\",\"standard\",\"none\",\"reading score\"],[\"Matthew Harris\",\"male\",\"group A\",\"bachelor's degree\",\"free/reduced\",\"none\",\"reading score\"],[\"Melissa Flores\",\"female\",\"group D\",\"some college\",\"free/reduced\",\"completed\",\"reading score\"],[\"Scott Mercer\",\"male\",\"group E\",\"some college\",\"standard\",\"none\",\"reading score\"],[\"Ethel Kirby\",\"female\",\"group D\",\"bachelor's degree\",\"free/reduced\",\"none\",\"reading score\"],[\"Karen Ogburn\",\"female\",\"group A\",\"high school\",\"free/reduced\",\"completed\",\"reading score\"],[\"Marilyn Provino\",\"female\",\"group E\",\"some high school\",\"standard\",\"completed\",\"reading score\"],[\"Jose Hines\",\"male\",\"group D\",\"some high school\",\"standard\",\"none\",\"reading score\"],[\"Ma Smith\",\"female\",\"group C\",\"some college\",\"standard\",\"none\",\"reading score\"],[\"Audrey Mcdonald\",\"female\",\"group D\",\"some college\",\"standard\",\"none\",\"reading score\"],[\"Paul Sherrill\",\"male\",\"group B\",\"high school\",\"free/reduced\",\"none\",\"reading score\"],[\"Judith Foster\",\"female\",\"group C\",\"bachelor's degree\",\"standard\",\"none\",\"reading score\"],[\"Janice Wells\",\"female\",\"group D\",\"high school\",\"free/reduced\",\"completed\",\"reading score\"],[\"Anthony Murphy\",\"male\",\"group E\",\"high school\",\"standard\",\"none\",\"reading score\"],[\"Denise Chavez\",\"female\",\"group B\",\"high school\",\"standard\",\"completed\",\"reading score\"],[\"Dan Atchley\",\"male\",\"group C\",\"associate's degree\",\"free/reduced\",\"none\",\"reading score\"],[\"Carmen Tenery\",\"female\",\"group C\",\"associate's degree\",\"free/reduced\",\"none\",\"reading score\"],[\"Richard Harden\",\"male\",\"group D\",\"some college\",\"free/reduced\",\"none\",\"reading score\"],[\"Patricia Hearn\",\"female\",\"group D\",\"some college\",\"free/reduced\",\"none\",\"reading score\"],[\"Audrey Darby\",\"female\",\"group D\",\"some high school\",\"standard\",\"completed\",\"reading score\"],[\"Vivian Elliott\",\"female\",\"group A\",\"associate's degree\",\"standard\",\"completed\",\"reading score\"],[\"Joanna Gardner\",\"female\",\"group C\",\"bachelor's degree\",\"standard\",\"none\",\"reading score\"],[\"Alan Roll\",\"male\",\"group E\",\"bachelor's degree\",\"free/reduced\",\"completed\",\"reading score\"],[\"Lisa Forry\",\"female\",\"group E\",\"bachelor's degree\",\"standard\",\"completed\",\"reading score\"],[\"Jacqueline Mcneill\",\"female\",\"group A\",\"master's degree\",\"free/reduced\",\"none\",\"reading score\"],[\"Russell Newlin\",\"male\",\"group D\",\"high school\",\"standard\",\"none\",\"reading score\"],[\"Matthew Aucoin\",\"male\",\"group E\",\"some college\",\"standard\",\"none\",\"reading score\"],[\"Alicia Ratliff\",\"female\",\"group B\",\"some high school\",\"standard\",\"completed\",\"reading score\"],[\"Jason Throneberry\",\"male\",\"group E\",\"some high school\",\"standard\",\"completed\",\"reading score\"],[\"Eric Mitchell\",\"male\",\"group C\",\"some college\",\"free/reduced\",\"none\",\"reading score\"],[\"Patricia Briney\",\"female\",\"group B\",\"some college\",\"standard\",\"none\",\"reading score\"],[\"Christine Everhart\",\"female\",\"group D\",\"high school\",\"standard\",\"none\",\"reading score\"],[\"Daniel Adams\",\"male\",\"group D\",\"associate's degree\",\"standard\",\"none\",\"reading score\"],[\"Carmen Tyson\",\"female\",\"group E\",\"some college\",\"free/reduced\",\"none\",\"reading score\"],[\"John Johnson\",\"male\",\"group A\",\"some college\",\"standard\",\"completed\",\"reading score\"],[\"Curt Ruiz\",\"male\",\"group C\",\"some high school\",\"standard\",\"completed\",\"reading score\"],[\"Amy Cook\",\"female\",\"group C\",\"associate's degree\",\"standard\",\"none\",\"reading score\"],[\"Chanelle Mauricio\",\"female\",\"group E\",\"master's degree\",\"free/reduced\",\"none\",\"reading score\"],[\"Chris Chauncey\",\"male\",\"group D\",\"high school\",\"free/reduced\",\"none\",\"reading score\"],[\"Arlene Calhoun\",\"female\",\"group C\",\"some college\",\"standard\",\"none\",\"reading score\"],[\"Therese Dobbins\",\"female\",\"group C\",\"some high school\",\"free/reduced\",\"completed\",\"reading score\"],[\"Alfred Penn\",\"male\",\"group D\",\"bachelor's degree\",\"standard\",\"none\",\"reading score\"],[\"Kelly Summers\",\"female\",\"group C\",\"some college\",\"standard\",\"completed\",\"reading score\"],[\"Earl Rodriguez\",\"male\",\"group B\",\"associate's degree\",\"standard\",\"completed\",\"reading score\"],[\"Ulrike Davidson\",\"female\",\"group C\",\"some college\",\"standard\",\"none\",\"reading score\"],[\"Autumn Miller\",\"female\",\"group D\",\"high school\",\"standard\",\"none\",\"reading score\"],[\"Julie Watkins\",\"female\",\"group E\",\"some high school\",\"free/reduced\",\"none\",\"reading score\"],[\"Marie Mcgovern\",\"female\",\"group D\",\"associate's degree\",\"free/reduced\",\"none\",\"reading score\"],[\"Mark Lewis\",\"male\",\"group E\",\"some college\",\"standard\",\"none\",\"reading score\"],[\"Ana Rodriguez\",\"female\",\"group C\",\"high school\",\"standard\",\"none\",\"reading score\"],[\"Duane Baisley\",\"male\",\"group B\",\"high school\",\"standard\",\"none\",\"reading score\"],[\"Mable Collins\",\"female\",\"group D\",\"associate's degree\",\"standard\",\"none\",\"reading score\"],[\"Concepcion Burkett\",\"female\",\"group D\",\"high school\",\"standard\",\"none\",\"reading score\"],[\"Kari Mitchell\",\"female\",\"group D\",\"some college\",\"free/reduced\",\"none\",\"reading score\"],[\"David Davis\",\"male\",\"group C\",\"bachelor's degree\",\"free/reduced\",\"none\",\"reading score\"],[\"Harry Murphy\",\"male\",\"group A\",\"high school\",\"standard\",\"none\",\"reading score\"],[\"Casey Brenneman\",\"male\",\"group E\",\"associate's degree\",\"standard\",\"none\",\"reading score\"],[\"Donald Griffin\",\"male\",\"group D\",\"some college\",\"standard\",\"none\",\"reading score\"],[\"Michael Reel\",\"male\",\"group D\",\"high school\",\"standard\",\"none\",\"reading score\"],[\"Cheryl Leonard\",\"female\",\"group E\",\"high school\",\"standard\",\"none\",\"reading score\"],[\"Judith Lindsay\",\"female\",\"group C\",\"bachelor's degree\",\"free/reduced\",\"completed\",\"reading score\"],[\"Anthony Casey\",\"male\",\"group A\",\"bachelor's degree\",\"standard\",\"none\",\"reading score\"],[\"Michele Montgomery\",\"female\",\"group C\",\"bachelor's degree\",\"standard\",\"completed\",\"reading score\"],[\"James Deluca\",\"male\",\"group D\",\"bachelor's degree\",\"standard\",\"none\",\"reading score\"],[\"Gary Spencer\",\"male\",\"group B\",\"some high school\",\"standard\",\"completed\",\"reading score\"],[\"Michael Mederos\",\"male\",\"group C\",\"high school\",\"standard\",\"none\",\"reading score\"],[\"Thelma Kabat\",\"female\",\"group E\",\"bachelor's degree\",\"standard\",\"none\",\"reading score\"],[\"Maxine Walton\",\"female\",\"group E\",\"some high school\",\"free/reduced\",\"none\",\"reading score\"],[\"Rosalind Knauer\",\"female\",\"group C\",\"associate's degree\",\"standard\",\"completed\",\"reading score\"],[\"Tanya Favela\",\"female\",\"group D\",\"associate's degree\",\"free/reduced\",\"completed\",\"reading score\"],[\"Joseph Guerriero\",\"male\",\"group D\",\"high school\",\"free/reduced\",\"none\",\"reading score\"],[\"Mollie Vasquez\",\"female\",\"group C\",\"some high school\",\"standard\",\"completed\",\"reading score\"],[\"Darrell Xiong\",\"male\",\"group D\",\"high school\",\"free/reduced\",\"none\",\"reading score\"],[\"Callie Mork\",\"female\",\"group C\",\"bachelor's degree\",\"free/reduced\",\"completed\",\"reading score\"],[\"Shelby Flores\",\"male\",\"group D\",\"associate's degree\",\"standard\",\"none\",\"reading score\"],[\"Virginia Griest\",\"female\",\"group C\",\"high school\",\"standard\",\"none\",\"reading score\"],[\"David Moss\",\"male\",\"group D\",\"some college\",\"standard\",\"completed\",\"reading score\"],[\"Rebecca Souliere\",\"female\",\"group D\",\"associate's degree\",\"free/reduced\",\"none\",\"reading score\"],[\"Ashley Atkinson\",\"female\",\"group C\",\"bachelor's degree\",\"free/reduced\",\"none\",\"reading score\"],[\"Tina Willis\",\"female\",\"group C\",\"high school\",\"free/reduced\",\"none\",\"reading score\"],[\"Shawn Lopez\",\"male\",\"group D\",\"some college\",\"standard\",\"completed\",\"reading score\"],[\"Ivan King\",\"male\",\"group D\",\"some college\",\"free/reduced\",\"none\",\"reading score\"],[\"Caroline Atchison\",\"female\",\"group C\",\"high school\",\"free/reduced\",\"completed\",\"reading score\"],[\"Joel Reed\",\"male\",\"group D\",\"some high school\",\"standard\",\"completed\",\"reading score\"],[\"David Lafave\",\"male\",\"group C\",\"associate's degree\",\"standard\",\"completed\",\"reading score\"],[\"Audrey Love\",\"female\",\"group B\",\"bachelor's degree\",\"standard\",\"none\",\"reading score\"],[\"Emma Brasher\",\"female\",\"group D\",\"some high school\",\"standard\",\"completed\",\"reading score\"],[\"Michael Young\",\"male\",\"group B\",\"associate's degree\",\"free/reduced\",\"none\",\"reading score\"],[\"Georgia Collins\",\"female\",\"group B\",\"some high school\",\"standard\",\"none\",\"reading score\"],[\"Denise Potts\",\"female\",\"group A\",\"some college\",\"standard\",\"none\",\"reading score\"],[\"Donna Cortez\",\"female\",\"group C\",\"high school\",\"standard\",\"none\",\"reading score\"],[\"Barbar Gonzalez\",\"female\",\"group D\",\"master's degree\",\"standard\",\"none\",\"reading score\"],[\"Andrew Bledsoe\",\"male\",\"group E\",\"some college\",\"standard\",\"completed\",\"reading score\"],[\"James Cambron\",\"male\",\"group D\",\"some high school\",\"standard\",\"none\",\"reading score\"],[\"Marybeth Mazzone\",\"female\",\"group B\",\"associate's degree\",\"free/reduced\",\"completed\",\"reading score\"],[\"Mary Nelson\",\"female\",\"group C\",\"high school\",\"standard\",\"none\",\"reading score\"],[\"Lucille Stanphill\",\"female\",\"group C\",\"high school\",\"standard\",\"none\",\"reading score\"],[\"Jim Burkhart\",\"male\",\"group D\",\"bachelor's degree\",\"standard\",\"none\",\"reading score\"],[\"Maria Holscher\",\"female\",\"group B\",\"associate's degree\",\"standard\",\"none\",\"reading score\"],[\"Steven Kelly\",\"male\",\"group D\",\"some college\",\"standard\",\"none\",\"reading score\"],[\"Eileen Parra\",\"female\",\"group B\",\"some high school\",\"free/reduced\",\"none\",\"reading score\"],[\"Charles Smith\",\"male\",\"group D\",\"some college\",\"standard\",\"none\",\"reading score\"],[\"William Saska\",\"male\",\"group B\",\"associate's degree\",\"standard\",\"none\",\"reading score\"],[\"Anna Lauterbach\",\"female\",\"group C\",\"associate's degree\",\"standard\",\"none\",\"reading score\"],[\"Ruth Bolduc\",\"female\",\"group D\",\"bachelor's degree\",\"standard\",\"completed\",\"reading score\"],[\"David Osteen\",\"male\",\"group C\",\"high school\",\"standard\",\"none\",\"reading score\"],[\"Edward Lee\",\"male\",\"group D\",\"some high school\",\"standard\",\"completed\",\"reading score\"],[\"Rosemary Pratt\",\"female\",\"group B\",\"associate's degree\",\"standard\",\"none\",\"reading score\"],[\"Arthur William\",\"male\",\"group E\",\"associate's degree\",\"standard\",\"completed\",\"reading score\"],[\"Gerald Brunner\",\"male\",\"group D\",\"high school\",\"standard\",\"none\",\"reading score\"],[\"Barbara Henriques\",\"female\",\"group C\",\"some college\",\"free/reduced\",\"none\",\"reading score\"],[\"John Moreno\",\"male\",\"group B\",\"some high school\",\"free/reduced\",\"none\",\"reading score\"],[\"Leona Cohen\",\"female\",\"group A\",\"some high school\",\"free/reduced\",\"none\",\"reading score\"],[\"Benjamin Finch\",\"male\",\"group C\",\"bachelor's degree\",\"standard\",\"completed\",\"reading score\"],[\"John Greenway\",\"male\",\"group C\",\"some high school\",\"standard\",\"completed\",\"reading score\"],[\"Thomas Schweitzer\",\"male\",\"group D\",\"associate's degree\",\"free/reduced\",\"none\",\"reading score\"],[\"Allison Tankersley\",\"female\",\"group C\",\"some college\",\"free/reduced\",\"none\",\"reading score\"],[\"Solomon Washington\",\"male\",\"group B\",\"some high school\",\"standard\",\"none\",\"reading score\"],[\"Robert Taylor\",\"male\",\"group E\",\"high school\",\"free/reduced\",\"completed\",\"reading score\"],[\"Pamela Tanguay\",\"female\",\"group B\",\"high school\",\"standard\",\"completed\",\"reading score\"],[\"Adam Romero\",\"male\",\"group C\",\"high school\",\"standard\",\"completed\",\"reading score\"],[\"Sarah Mcbride\",\"female\",\"group D\",\"high school\",\"standard\",\"completed\",\"reading score\"],[\"Denise Harstad\",\"female\",\"group C\",\"some high school\",\"standard\",\"none\",\"reading score\"],[\"Frank Moran\",\"male\",\"group B\",\"some college\",\"standard\",\"completed\",\"reading score\"],[\"Florencia Morrison\",\"female\",\"group A\",\"associate's degree\",\"free/reduced\",\"none\",\"reading score\"],[\"Charles Johnson\",\"male\",\"group C\",\"high school\",\"standard\",\"none\",\"reading score\"],[\"Mark Wilson\",\"male\",\"group C\",\"high school\",\"standard\",\"none\",\"reading score\"],[\"James Lydon\",\"male\",\"group A\",\"high school\",\"standard\",\"none\",\"reading score\"],[\"Judith Malone\",\"female\",\"group B\",\"some college\",\"free/reduced\",\"completed\",\"reading score\"],[\"Vanessa Welch\",\"female\",\"group C\",\"high school\",\"standard\",\"none\",\"reading score\"],[\"Leona Martinez\",\"female\",\"group D\",\"high school\",\"free/reduced\",\"completed\",\"reading score\"],[\"Kermit Gates\",\"male\",\"group B\",\"associate's degree\",\"standard\",\"none\",\"reading score\"],[\"Lawrence Cormier\",\"male\",\"group B\",\"associate's degree\",\"standard\",\"none\",\"reading score\"],[\"Michael Gaccione\",\"male\",\"group B\",\"some college\",\"free/reduced\",\"none\",\"reading score\"],[\"Paula Barriere\",\"female\",\"group D\",\"bachelor's degree\",\"free/reduced\",\"none\",\"reading score\"],[\"Marina Smith\",\"female\",\"group D\",\"associate's degree\",\"free/reduced\",\"none\",\"reading score\"],[\"Kathryn Dale\",\"female\",\"group B\",\"some college\",\"standard\",\"none\",\"reading score\"],[\"Larry Werts\",\"male\",\"group D\",\"some high school\",\"standard\",\"none\",\"reading score\"],[\"Stanley Warren\",\"male\",\"group D\",\"high school\",\"free/reduced\",\"none\",\"reading score\"],[\"Clyde Gay\",\"male\",\"group C\",\"associate's degree\",\"standard\",\"completed\",\"reading score\"],[\"Walter Ortiz\",\"male\",\"group C\",\"some college\",\"standard\",\"completed\",\"reading score\"],[\"Jose Dunagan\",\"male\",\"group B\",\"bachelor's degree\",\"standard\",\"none\",\"reading score\"],[\"Aurelia Spaulding\",\"female\",\"group B\",\"high school\",\"free/reduced\",\"completed\",\"reading score\"],[\"Ray Juul\",\"male\",\"group D\",\"some college\",\"standard\",\"none\",\"reading score\"],[\"Sherri Turner\",\"female\",\"group E\",\"associate's degree\",\"standard\",\"completed\",\"reading score\"],[\"John Gunter\",\"male\",\"group A\",\"some college\",\"free/reduced\",\"none\",\"reading score\"],[\"Lorene Hall\",\"female\",\"group D\",\"some college\",\"free/reduced\",\"none\",\"reading score\"],[\"Victor Kinkead\",\"male\",\"group C\",\"some high school\",\"free/reduced\",\"none\",\"reading score\"],[\"Sara Ray\",\"female\",\"group C\",\"high school\",\"free/reduced\",\"none\",\"reading score\"],[\"Ronald Mason\",\"male\",\"group E\",\"associate's degree\",\"standard\",\"completed\",\"reading score\"],[\"Dawn Cummings\",\"female\",\"group C\",\"associate's degree\",\"standard\",\"none\",\"reading score\"],[\"Elizabeth Beasley\",\"female\",\"group E\",\"bachelor's degree\",\"standard\",\"none\",\"reading score\"],[\"Maribel Gates\",\"female\",\"group B\",\"high school\",\"free/reduced\",\"completed\",\"reading score\"],[\"Scott Oviedo\",\"male\",\"group A\",\"some college\",\"free/reduced\",\"completed\",\"reading score\"],[\"Gaylene Hunt\",\"female\",\"group D\",\"some college\",\"standard\",\"completed\",\"reading score\"],[\"Doris Arujo\",\"female\",\"group C\",\"some college\",\"standard\",\"none\",\"reading score\"],[\"Christopher Martinez\",\"male\",\"group C\",\"bachelor's degree\",\"standard\",\"completed\",\"reading score\"],[\"Kimberly Vega\",\"female\",\"group D\",\"master's degree\",\"standard\",\"none\",\"reading score\"],[\"Jennifer Koczera\",\"female\",\"group C\",\"some high school\",\"free/reduced\",\"none\",\"reading score\"],[\"Julian Burke\",\"male\",\"group D\",\"high school\",\"standard\",\"none\",\"reading score\"],[\"Kimberly Moberg\",\"female\",\"group D\",\"associate's degree\",\"standard\",\"none\",\"reading score\"],[\"Shirley Damon\",\"female\",\"group C\",\"bachelor's degree\",\"free/reduced\",\"none\",\"reading score\"],[\"Kathleen Taylor\",\"female\",\"group C\",\"associate's degree\",\"free/reduced\",\"completed\",\"reading score\"],[\"Ann Cain\",\"female\",\"group C\",\"associate's degree\",\"standard\",\"completed\",\"reading score\"],[\"Josh Moore\",\"male\",\"group C\",\"high school\",\"standard\",\"none\",\"reading score\"],[\"David Carnagey\",\"male\",\"group D\",\"associate's degree\",\"standard\",\"none\",\"reading score\"],[\"Viola Santiago\",\"female\",\"group D\",\"master's degree\",\"standard\",\"none\",\"reading score\"],[\"Mary Levy\",\"female\",\"group D\",\"some college\",\"free/reduced\",\"none\",\"reading score\"],[\"Terry Wingerd\",\"female\",\"group E\",\"high school\",\"free/reduced\",\"none\",\"reading score\"],[\"Flossie Streeter\",\"female\",\"group C\",\"some high school\",\"free/reduced\",\"completed\",\"reading score\"],[\"Kimberly Bradford\",\"female\",\"group B\",\"bachelor's degree\",\"standard\",\"none\",\"reading score\"],[\"Erica Maynard\",\"female\",\"group D\",\"master's degree\",\"standard\",\"none\",\"reading score\"],[\"David Haffner\",\"male\",\"group D\",\"bachelor's degree\",\"standard\",\"completed\",\"reading score\"],[\"Anna Cotman\",\"female\",\"group D\",\"associate's degree\",\"standard\",\"none\",\"reading score\"],[\"Mary Trager\",\"female\",\"group C\",\"bachelor's degree\",\"standard\",\"completed\",\"reading score\"],[\"Joseph Agustin\",\"male\",\"group C\",\"some high school\",\"free/reduced\",\"none\",\"reading score\"],[\"Thomas Watson\",\"male\",\"group D\",\"high school\",\"free/reduced\",\"completed\",\"reading score\"],[\"Aaron Oakden\",\"male\",\"group D\",\"high school\",\"free/reduced\",\"none\",\"reading score\"],[\"Maritza Gasaway\",\"female\",\"group D\",\"some high school\",\"standard\",\"none\",\"reading score\"],[\"Gail Cassady\",\"female\",\"group E\",\"associate's degree\",\"standard\",\"none\",\"reading score\"],[\"Joe Thomas\",\"male\",\"group E\",\"high school\",\"standard\",\"none\",\"reading score\"],[\"Charles Suggs\",\"male\",\"group C\",\"some college\",\"free/reduced\",\"none\",\"reading score\"],[\"Henry Mcgowen\",\"male\",\"group E\",\"some college\",\"standard\",\"none\",\"reading score\"],[\"Greg Westerberg\",\"male\",\"group D\",\"associate's degree\",\"standard\",\"completed\",\"reading score\"],[\"Sherri Todd\",\"female\",\"group D\",\"some college\",\"free/reduced\",\"none\",\"reading score\"],[\"Karen Flye\",\"female\",\"group D\",\"some high school\",\"standard\",\"none\",\"reading score\"],[\"Judith Mckay\",\"female\",\"group C\",\"some college\",\"standard\",\"completed\",\"reading score\"],[\"Celeste Petch\",\"female\",\"group E\",\"associate's degree\",\"free/reduced\",\"none\",\"reading score\"],[\"Charles Dearing\",\"male\",\"group B\",\"high school\",\"standard\",\"completed\",\"reading score\"],[\"Molly House\",\"female\",\"group C\",\"some high school\",\"standard\",\"completed\",\"reading score\"],[\"Michael Bashaw\",\"male\",\"group C\",\"bachelor's degree\",\"standard\",\"none\",\"reading score\"],[\"Tracy Fowler\",\"female\",\"group E\",\"associate's degree\",\"standard\",\"none\",\"reading score\"],[\"Aletha Bonds\",\"female\",\"group C\",\"associate's degree\",\"standard\",\"none\",\"reading score\"],[\"Carmen Simcoe\",\"female\",\"group D\",\"some college\",\"standard\",\"completed\",\"reading score\"],[\"Milton Chaput\",\"male\",\"group D\",\"high school\",\"standard\",\"none\",\"reading score\"],[\"Denise Mcdonald\",\"female\",\"group D\",\"some college\",\"free/reduced\",\"completed\",\"reading score\"],[\"Osvaldo Barraza\",\"male\",\"group D\",\"some high school\",\"standard\",\"none\",\"reading score\"],[\"Nicole Roberts\",\"female\",\"group C\",\"some college\",\"standard\",\"completed\",\"reading score\"],[\"Agnes Dobbs\",\"female\",\"group C\",\"master's degree\",\"free/reduced\",\"completed\",\"reading score\"],[\"Richard Henry\",\"male\",\"group D\",\"associate's degree\",\"standard\",\"none\",\"reading score\"],[\"Marvin Cooper\",\"male\",\"group C\",\"associate's degree\",\"free/reduced\",\"none\",\"reading score\"],[\"Daniel Deas\",\"male\",\"group C\",\"high school\",\"free/reduced\",\"completed\",\"reading score\"],[\"Jeanine Diaz\",\"female\",\"group B\",\"bachelor's degree\",\"standard\",\"none\",\"reading score\"],[\"Alfonzo Kellar\",\"male\",\"group C\",\"some high school\",\"standard\",\"none\",\"reading score\"],[\"Richard Royals\",\"male\",\"group A\",\"high school\",\"standard\",\"completed\",\"reading score\"],[\"Matthew Mcdonald\",\"male\",\"group D\",\"bachelor's degree\",\"free/reduced\",\"completed\",\"reading score\"],[\"Nancy Sumler\",\"female\",\"group D\",\"some high school\",\"standard\",\"none\",\"reading score\"],[\"Evan Ammons\",\"male\",\"group D\",\"bachelor's degree\",\"free/reduced\",\"none\",\"reading score\"],[\"Jamie Jackson\",\"male\",\"group C\",\"associate's degree\",\"standard\",\"completed\",\"reading score\"],[\"Travis Shoun\",\"male\",\"group A\",\"high school\",\"free/reduced\",\"none\",\"reading score\"],[\"Randy Mccarthy\",\"male\",\"group E\",\"associate's degree\",\"standard\",\"none\",\"reading score\"],[\"Emma Gray\",\"female\",\"group E\",\"bachelor's degree\",\"standard\",\"completed\",\"reading score\"],[\"Sara Kochan\",\"female\",\"group D\",\"bachelor's degree\",\"standard\",\"none\",\"reading score\"],[\"Edward Lowman\",\"male\",\"group E\",\"associate's degree\",\"free/reduced\",\"completed\",\"reading score\"],[\"Corey Brown\",\"male\",\"group C\",\"associate's degree\",\"standard\",\"none\",\"reading score\"],[\"Jacqueline Mayrant\",\"female\",\"group E\",\"some high school\",\"free/reduced\",\"none\",\"reading score\"],[\"Joseph Holsapple\",\"male\",\"group A\",\"some high school\",\"free/reduced\",\"completed\",\"reading score\"],[\"Edward Hutcheson\",\"male\",\"group A\",\"master's degree\",\"free/reduced\",\"none\",\"reading score\"],[\"Aimee Tamayo\",\"female\",\"group C\",\"some high school\",\"standard\",\"completed\",\"reading score\"],[\"Raymond Stuart\",\"male\",\"group A\",\"some college\",\"standard\",\"completed\",\"reading score\"],[\"Ralph Cleveland\",\"male\",\"group C\",\"bachelor's degree\",\"free/reduced\",\"none\",\"reading score\"],[\"Helen Pince\",\"female\",\"group E\",\"some high school\",\"standard\",\"none\",\"reading score\"],[\"Stephen Boers\",\"male\",\"group C\",\"master's degree\",\"standard\",\"none\",\"reading score\"],[\"Heather Banks\",\"female\",\"group C\",\"associate's degree\",\"standard\",\"none\",\"reading score\"],[\"Jeffrey Massa\",\"male\",\"group A\",\"associate's degree\",\"free/reduced\",\"none\",\"reading score\"],[\"Marguerite Ramos\",\"female\",\"group C\",\"bachelor's degree\",\"standard\",\"none\",\"reading score\"],[\"Frank Barrera\",\"male\",\"group C\",\"high school\",\"standard\",\"none\",\"reading score\"],[\"Quiana Rohrbach\",\"female\",\"group A\",\"some high school\",\"free/reduced\",\"none\",\"reading score\"],[\"May Kelly\",\"female\",\"group C\",\"bachelor's degree\",\"standard\",\"none\",\"reading score\"],[\"Damien Gomez\",\"male\",\"group C\",\"bachelor's degree\",\"free/reduced\",\"completed\",\"reading score\"],[\"Thomas Rabb\",\"male\",\"group C\",\"some high school\",\"free/reduced\",\"none\",\"reading score\"],[\"Darron Allen\",\"male\",\"group C\",\"high school\",\"standard\",\"none\",\"reading score\"],[\"Alan Harper\",\"male\",\"group D\",\"associate's degree\",\"standard\",\"none\",\"reading score\"],[\"Linda Michael\",\"female\",\"group D\",\"some high school\",\"standard\",\"none\",\"reading score\"],[\"David Martinez\",\"male\",\"group E\",\"associate's degree\",\"free/reduced\",\"completed\",\"reading score\"],[\"Katharine Martinez\",\"female\",\"group C\",\"some college\",\"free/reduced\",\"none\",\"reading score\"],[\"Charles Ayala\",\"male\",\"group C\",\"some college\",\"standard\",\"none\",\"reading score\"],[\"Dawn Tamborlane\",\"female\",\"group D\",\"some college\",\"free/reduced\",\"none\",\"reading score\"],[\"Randy Olson\",\"male\",\"group C\",\"associate's degree\",\"free/reduced\",\"none\",\"reading score\"],[\"Monica Howington\",\"female\",\"group D\",\"some high school\",\"standard\",\"none\",\"reading score\"],[\"Anthony Hinerman\",\"male\",\"group C\",\"some high school\",\"standard\",\"none\",\"reading score\"],[\"Bambi Dyer\",\"female\",\"group D\",\"associate's degree\",\"free/reduced\",\"none\",\"reading score\"],[\"Barbara Otto\",\"female\",\"group E\",\"associate's degree\",\"standard\",\"completed\",\"reading score\"],[\"Joseph Alfaro\",\"male\",\"group C\",\"some college\",\"standard\",\"none\",\"reading score\"],[\"Roy Williams\",\"male\",\"group C\",\"some college\",\"free/reduced\",\"none\",\"reading score\"],[\"Michael Dudas\",\"male\",\"group D\",\"some high school\",\"free/reduced\",\"none\",\"reading score\"],[\"Doyle Johnson\",\"male\",\"group A\",\"high school\",\"standard\",\"none\",\"reading score\"],[\"Evan Smith\",\"male\",\"group E\",\"associate's degree\",\"free/reduced\",\"none\",\"reading score\"],[\"Margery Rattan\",\"female\",\"group C\",\"associate's degree\",\"standard\",\"none\",\"reading score\"],[\"Jonathan Rochon\",\"male\",\"group D\",\"associate's degree\",\"standard\",\"completed\",\"reading score\"],[\"Edward Sullivan\",\"male\",\"group D\",\"some high school\",\"standard\",\"none\",\"reading score\"],[\"Helen Mcatee\",\"female\",\"group C\",\"some college\",\"standard\",\"none\",\"reading score\"],[\"Joseph Jaco\",\"male\",\"group B\",\"some college\",\"free/reduced\",\"none\",\"reading score\"],[\"Matthew Thompson\",\"male\",\"group E\",\"some high school\",\"free/reduced\",\"completed\",\"reading score\"],[\"Dana Belcher\",\"female\",\"group B\",\"some college\",\"standard\",\"none\",\"reading score\"],[\"Joyce Jennings\",\"female\",\"group C\",\"high school\",\"standard\",\"none\",\"reading score\"],[\"Richard Bratcher\",\"male\",\"group E\",\"bachelor's degree\",\"free/reduced\",\"completed\",\"reading score\"],[\"Stephanie Jun\",\"female\",\"group B\",\"high school\",\"standard\",\"completed\",\"reading score\"],[\"Karen Hankinson\",\"female\",\"group E\",\"associate's degree\",\"free/reduced\",\"none\",\"reading score\"],[\"Sam Barnette\",\"male\",\"group A\",\"some high school\",\"standard\",\"none\",\"reading score\"],[\"Robbie Stevens\",\"female\",\"group B\",\"some college\",\"free/reduced\",\"none\",\"reading score\"],[\"Emilia Porat\",\"female\",\"group C\",\"master's degree\",\"free/reduced\",\"none\",\"reading score\"],[\"Dorothea Martin\",\"female\",\"group E\",\"associate's degree\",\"standard\",\"completed\",\"reading score\"],[\"Anthony Brown\",\"male\",\"group A\",\"some college\",\"standard\",\"completed\",\"reading score\"],[\"Michael King\",\"male\",\"group D\",\"associate's degree\",\"free/reduced\",\"none\",\"reading score\"],[\"Gladys Thompson\",\"female\",\"group B\",\"some high school\",\"standard\",\"none\",\"reading score\"],[\"Michael Hughes\",\"male\",\"group B\",\"some college\",\"free/reduced\",\"none\",\"reading score\"],[\"Virginia Trible\",\"female\",\"group C\",\"some college\",\"standard\",\"completed\",\"reading score\"],[\"Charles Jackson\",\"male\",\"group E\",\"some high school\",\"standard\",\"none\",\"reading score\"],[\"Amy Hawes\",\"female\",\"group B\",\"bachelor's degree\",\"standard\",\"none\",\"reading score\"],[\"Marcus Mcfarland\",\"male\",\"group C\",\"bachelor's degree\",\"standard\",\"completed\",\"reading score\"],[\"Annie Roeder\",\"female\",\"group B\",\"some high school\",\"standard\",\"none\",\"reading score\"],[\"Joyce Turpen\",\"female\",\"group D\",\"associate's degree\",\"standard\",\"none\",\"reading score\"],[\"Stanley Denny\",\"male\",\"group C\",\"master's degree\",\"free/reduced\",\"none\",\"reading score\"],[\"Sharon Sikes\",\"female\",\"group C\",\"some high school\",\"free/reduced\",\"completed\",\"reading score\"],[\"Sheryl Johnson\",\"female\",\"group D\",\"some high school\",\"standard\",\"none\",\"reading score\"],[\"Kimberly Chavez\",\"female\",\"group C\",\"bachelor's degree\",\"standard\",\"none\",\"reading score\"],[\"Jennie Ferguson\",\"female\",\"group A\",\"high school\",\"free/reduced\",\"completed\",\"reading score\"],[\"Kenneth Robertson\",\"male\",\"group A\",\"bachelor's degree\",\"standard\",\"completed\",\"reading score\"],[\"Albert Vaughn\",\"male\",\"group E\",\"some college\",\"free/reduced\",\"completed\",\"reading score\"],[\"Louis Mckinzie\",\"male\",\"group C\",\"associate's degree\",\"standard\",\"none\",\"reading score\"],[\"Darryl Ward\",\"male\",\"group D\",\"some college\",\"standard\",\"none\",\"reading score\"],[\"Patricia Mcninch\",\"female\",\"group C\",\"bachelor's degree\",\"free/reduced\",\"none\",\"reading score\"],[\"Robert Dickerson\",\"male\",\"group E\",\"some college\",\"free/reduced\",\"completed\",\"reading score\"],[\"Barbara Torres\",\"female\",\"group D\",\"some college\",\"free/reduced\",\"none\",\"reading score\"],[\"Larry Torres\",\"male\",\"group D\",\"associate's degree\",\"free/reduced\",\"none\",\"reading score\"],[\"John Lopez\",\"male\",\"group B\",\"some high school\",\"standard\",\"completed\",\"reading score\"],[\"Clora Machado\",\"female\",\"group B\",\"associate's degree\",\"standard\",\"completed\",\"reading score\"],[\"Diane Hopkins\",\"female\",\"group C\",\"bachelor's degree\",\"standard\",\"completed\",\"reading score\"],[\"Dwight Zapata\",\"male\",\"group C\",\"some high school\",\"free/reduced\",\"none\",\"reading score\"],[\"John Ratcliff\",\"male\",\"group D\",\"high school\",\"standard\",\"none\",\"reading score\"],[\"Sarah Defazio\",\"female\",\"group C\",\"some high school\",\"free/reduced\",\"none\",\"reading score\"],[\"Karl Dietrich\",\"female\",\"group C\",\"some high school\",\"standard\",\"none\",\"reading score\"],[\"Vincent Tucker\",\"male\",\"group C\",\"high school\",\"free/reduced\",\"none\",\"reading score\"],[\"Janet Housel\",\"female\",\"group B\",\"associate's degree\",\"standard\",\"none\",\"reading score\"],[\"Gloria Bradford\",\"female\",\"group B\",\"high school\",\"standard\",\"none\",\"reading score\"],[\"Arthur Patterson\",\"male\",\"group A\",\"associate's degree\",\"standard\",\"none\",\"reading score\"],[\"Ronald Wilson\",\"male\",\"group C\",\"some high school\",\"standard\",\"none\",\"reading score\"],[\"Cheryl Kraus\",\"female\",\"group D\",\"some high school\",\"standard\",\"none\",\"reading score\"],[\"Kristy Glass\",\"female\",\"group D\",\"associate's degree\",\"standard\",\"none\",\"reading score\"],[\"Timothy Botello\",\"male\",\"group D\",\"master's degree\",\"standard\",\"none\",\"reading score\"],[\"Ronald Coria\",\"male\",\"group A\",\"associate's degree\",\"standard\",\"completed\",\"reading score\"],[\"Jessica Martin\",\"female\",\"group B\",\"associate's degree\",\"free/reduced\",\"none\",\"reading score\"],[\"Valarie Trujillo\",\"female\",\"group C\",\"associate's degree\",\"standard\",\"none\",\"reading score\"],[\"Santiago Luther\",\"male\",\"group E\",\"some high school\",\"standard\",\"completed\",\"reading score\"],[\"William Novoa\",\"male\",\"group C\",\"master's degree\",\"standard\",\"none\",\"reading score\"],[\"Frances Archer\",\"female\",\"group C\",\"associate's degree\",\"standard\",\"completed\",\"reading score\"],[\"Hubert Mitchell\",\"male\",\"group D\",\"high school\",\"standard\",\"none\",\"reading score\"],[\"Marcia York\",\"female\",\"group D\",\"bachelor's degree\",\"free/reduced\",\"none\",\"reading score\"],[\"Anita Hill\",\"female\",\"group A\",\"associate's degree\",\"free/reduced\",\"none\",\"reading score\"],[\"Mary Kovac\",\"female\",\"group C\",\"associate's degree\",\"standard\",\"completed\",\"reading score\"],[\"Rodney Torres\",\"male\",\"group D\",\"some college\",\"standard\",\"none\",\"reading score\"],[\"Julio Fuller\",\"male\",\"group D\",\"high school\",\"standard\",\"none\",\"reading score\"],[\"Norman Reed\",\"male\",\"group E\",\"some college\",\"standard\",\"none\",\"reading score\"],[\"Matthew Demelis\",\"male\",\"group E\",\"some college\",\"standard\",\"none\",\"reading score\"],[\"Darryl Skinner\",\"male\",\"group B\",\"some college\",\"free/reduced\",\"none\",\"reading score\"],[\"Matthew Freeman\",\"male\",\"group B\",\"high school\",\"standard\",\"completed\",\"reading score\"],[\"Mauricio Deering\",\"male\",\"group D\",\"high school\",\"free/reduced\",\"none\",\"reading score\"],[\"Viki Fraser\",\"female\",\"group C\",\"some high school\",\"standard\",\"completed\",\"reading score\"],[\"Dana Mojica\",\"female\",\"group D\",\"high school\",\"free/reduced\",\"none\",\"reading score\"],[\"Kara Greene\",\"female\",\"group D\",\"some high school\",\"standard\",\"completed\",\"reading score\"],[\"Lauren Warren\",\"female\",\"group C\",\"some high school\",\"free/reduced\",\"none\",\"reading score\"],[\"Gary Hunter\",\"male\",\"group D\",\"associate's degree\",\"standard\",\"completed\",\"reading score\"],[\"Irving Wheeler\",\"male\",\"group B\",\"some college\",\"standard\",\"none\",\"reading score\"],[\"Teresa Yanez\",\"female\",\"group B\",\"associate's degree\",\"free/reduced\",\"completed\",\"reading score\"],[\"Brent Sollenberger\",\"male\",\"group C\",\"high school\",\"standard\",\"none\",\"reading score\"],[\"James Muir\",\"male\",\"group C\",\"high school\",\"standard\",\"none\",\"reading score\"],[\"Sean Staples\",\"male\",\"group D\",\"some college\",\"free/reduced\",\"none\",\"reading score\"],[\"Evangelina Hahn\",\"female\",\"group C\",\"associate's degree\",\"standard\",\"completed\",\"reading score\"],[\"Joann Liesmann\",\"female\",\"group E\",\"some college\",\"standard\",\"none\",\"reading score\"],[\"Ronnie Lim\",\"female\",\"group B\",\"associate's degree\",\"standard\",\"completed\",\"reading score\"],[\"James Walker\",\"male\",\"group E\",\"bachelor's degree\",\"standard\",\"none\",\"reading score\"],[\"Jerome Herring\",\"male\",\"group C\",\"some high school\",\"standard\",\"none\",\"reading score\"],[\"Richard Pryor\",\"male\",\"group E\",\"bachelor's degree\",\"standard\",\"completed\",\"reading score\"],[\"Luetta Caponigro\",\"female\",\"group B\",\"high school\",\"free/reduced\",\"none\",\"reading score\"],[\"Jacqueline Akers\",\"female\",\"group B\",\"high school\",\"standard\",\"none\",\"reading score\"],[\"Angela Atterberry\",\"female\",\"group D\",\"some high school\",\"free/reduced\",\"completed\",\"reading score\"],[\"Maggie Rugg\",\"female\",\"group A\",\"some high school\",\"standard\",\"none\",\"reading score\"],[\"James Crawford\",\"male\",\"group D\",\"master's degree\",\"standard\",\"none\",\"reading score\"],[\"Marlene Sullivan\",\"female\",\"group D\",\"master's degree\",\"standard\",\"completed\",\"reading score\"],[\"Patricia Farias\",\"female\",\"group E\",\"bachelor's degree\",\"standard\",\"none\",\"reading score\"],[\"Brenton Graap\",\"male\",\"group C\",\"associate's degree\",\"standard\",\"none\",\"reading score\"],[\"Henry Rogers\",\"male\",\"group A\",\"some high school\",\"free/reduced\",\"none\",\"reading score\"],[\"Antonio Pelaez\",\"male\",\"group C\",\"associate's degree\",\"standard\",\"none\",\"reading score\"],[\"Edith Cervera\",\"female\",\"group C\",\"some college\",\"standard\",\"none\",\"reading score\"],[\"Kathleen Johnson\",\"female\",\"group D\",\"high school\",\"standard\",\"completed\",\"reading score\"],[\"Deborah Ladner\",\"female\",\"group D\",\"associate's degree\",\"free/reduced\",\"none\",\"reading score\"],[\"Justin Esparza\",\"male\",\"group C\",\"associate's degree\",\"free/reduced\",\"completed\",\"reading score\"],[\"Belinda Tuholski\",\"female\",\"group C\",\"associate's degree\",\"standard\",\"none\",\"reading score\"],[\"Bette Williams\",\"female\",\"group B\",\"associate's degree\",\"standard\",\"completed\",\"reading score\"],[\"Richard Christiansen\",\"male\",\"group B\",\"bachelor's degree\",\"free/reduced\",\"none\",\"reading score\"],[\"Carol Gamboa\",\"female\",\"group C\",\"some college\",\"standard\",\"completed\",\"reading score\"],[\"Emily Devins\",\"female\",\"group B\",\"associate's degree\",\"standard\",\"none\",\"reading score\"],[\"Richard Zayas\",\"male\",\"group B\",\"associate's degree\",\"standard\",\"completed\",\"reading score\"],[\"Pura Ross\",\"female\",\"group C\",\"associate's degree\",\"standard\",\"none\",\"reading score\"],[\"Harvey Pribbenow\",\"male\",\"group D\",\"bachelor's degree\",\"free/reduced\",\"none\",\"reading score\"],[\"Sharon Matthews\",\"female\",\"group E\",\"associate's degree\",\"standard\",\"completed\",\"reading score\"],[\"Krystal Ford\",\"female\",\"group D\",\"some college\",\"standard\",\"none\",\"reading score\"],[\"Harold Ackerson\",\"male\",\"group B\",\"some college\",\"standard\",\"none\",\"reading score\"],[\"Joseph Rains\",\"male\",\"group A\",\"high school\",\"free/reduced\",\"none\",\"reading score\"],[\"Samuel Low\",\"male\",\"group D\",\"some college\",\"standard\",\"none\",\"reading score\"],[\"Mary Hahn\",\"female\",\"group B\",\"some high school\",\"standard\",\"none\",\"reading score\"],[\"Charles Vaughan\",\"male\",\"group A\",\"some high school\",\"free/reduced\",\"none\",\"reading score\"],[\"Mary Delgado\",\"female\",\"group E\",\"some college\",\"free/reduced\",\"completed\",\"reading score\"],[\"Steven Maness\",\"male\",\"group B\",\"some college\",\"free/reduced\",\"completed\",\"reading score\"],[\"Walter Simmons\",\"male\",\"group C\",\"bachelor's degree\",\"free/reduced\",\"none\",\"reading score\"],[\"Larry Workman\",\"male\",\"group E\",\"associate's degree\",\"standard\",\"completed\",\"reading score\"],[\"Anthony Anderson\",\"male\",\"group D\",\"high school\",\"standard\",\"none\",\"reading score\"],[\"Shannon Zamarripa\",\"female\",\"group D\",\"high school\",\"standard\",\"completed\",\"reading score\"],[\"Melvin Mastrangelo\",\"male\",\"group D\",\"associate's degree\",\"free/reduced\",\"completed\",\"reading score\"],[\"Clarissa Mccarthy\",\"female\",\"group C\",\"associate's degree\",\"standard\",\"none\",\"reading score\"],[\"Garth Zayas\",\"male\",\"group C\",\"associate's degree\",\"standard\",\"completed\",\"reading score\"],[\"Camille Rodrigue\",\"female\",\"group D\",\"master's degree\",\"standard\",\"none\",\"reading score\"],[\"Larry Matthews\",\"male\",\"group B\",\"associate's degree\",\"free/reduced\",\"none\",\"reading score\"],[\"Melissa Hughes\",\"female\",\"group D\",\"some college\",\"free/reduced\",\"completed\",\"reading score\"],[\"Horace Morefield\",\"male\",\"group D\",\"some high school\",\"free/reduced\",\"completed\",\"reading score\"],[\"Marion Murdy\",\"female\",\"group B\",\"high school\",\"free/reduced\",\"none\",\"reading score\"],[\"Heike Miller\",\"female\",\"group B\",\"associate's degree\",\"standard\",\"none\",\"reading score\"],[\"Terry Davis\",\"male\",\"group D\",\"some high school\",\"standard\",\"completed\",\"reading score\"],[\"Micki Banks\",\"female\",\"group A\",\"high school\",\"standard\",\"none\",\"reading score\"],[\"Edward Killingsworth\",\"male\",\"group C\",\"high school\",\"standard\",\"none\",\"reading score\"],[\"Ashley Church\",\"female\",\"group C\",\"some high school\",\"standard\",\"none\",\"reading score\"],[\"Cameron Estrada\",\"male\",\"group D\",\"some high school\",\"standard\",\"none\",\"reading score\"],[\"Stephen Broenneke\",\"male\",\"group B\",\"some college\",\"standard\",\"none\",\"reading score\"],[\"Olga Hatcher\",\"female\",\"group A\",\"associate's degree\",\"free/reduced\",\"none\",\"reading score\"],[\"Larry Mclane\",\"male\",\"group E\",\"associate's degree\",\"free/reduced\",\"none\",\"reading score\"],[\"Dana Bolyard\",\"female\",\"group D\",\"some high school\",\"standard\",\"none\",\"reading score\"],[\"Camie Hamilton\",\"female\",\"group B\",\"high school\",\"standard\",\"none\",\"reading score\"],[\"Jacqueline Holton\",\"female\",\"group C\",\"high school\",\"free/reduced\",\"completed\",\"reading score\"],[\"Todd Price\",\"male\",\"group E\",\"some high school\",\"standard\",\"completed\",\"reading score\"],[\"Joyce Lamarche\",\"female\",\"group E\",\"high school\",\"standard\",\"completed\",\"reading score\"],[\"Donald Durbin\",\"male\",\"group B\",\"high school\",\"standard\",\"completed\",\"reading score\"],[\"Kimberly Ross\",\"female\",\"group B\",\"some high school\",\"free/reduced\",\"completed\",\"reading score\"],[\"James Hughey\",\"male\",\"group C\",\"bachelor's degree\",\"standard\",\"none\",\"reading score\"],[\"Laura Hunter\",\"female\",\"group E\",\"bachelor's degree\",\"free/reduced\",\"none\",\"reading score\"],[\"Anna Larios\",\"female\",\"group D\",\"associate's degree\",\"standard\",\"completed\",\"reading score\"],[\"Alex Estimable\",\"male\",\"group C\",\"high school\",\"standard\",\"completed\",\"reading score\"],[\"Jean Stamdifer\",\"male\",\"group D\",\"some high school\",\"free/reduced\",\"none\",\"reading score\"],[\"Arturo Brown\",\"male\",\"group A\",\"high school\",\"standard\",\"none\",\"reading score\"],[\"Richard Anderson\",\"male\",\"group C\",\"some high school\",\"standard\",\"completed\",\"reading score\"],[\"Monica Duggins\",\"female\",\"group B\",\"associate's degree\",\"standard\",\"completed\",\"reading score\"],[\"Fallon Simson\",\"female\",\"group D\",\"high school\",\"standard\",\"none\",\"reading score\"],[\"Hans Crabtree\",\"male\",\"group D\",\"some high school\",\"standard\",\"completed\",\"reading score\"],[\"Paul Smith\",\"male\",\"group B\",\"high school\",\"standard\",\"none\",\"reading score\"],[\"Gerald Brannon\",\"male\",\"group C\",\"high school\",\"standard\",\"none\",\"reading score\"],[\"Nancy Rand\",\"female\",\"group C\",\"some college\",\"free/reduced\",\"none\",\"reading score\"],[\"Helen Alexander\",\"female\",\"group D\",\"some college\",\"free/reduced\",\"none\",\"reading score\"],[\"Susan Cuevas\",\"female\",\"group C\",\"some high school\",\"standard\",\"none\",\"reading score\"],[\"Diana Bertran\",\"female\",\"group E\",\"some college\",\"standard\",\"completed\",\"reading score\"],[\"Lamar Becker\",\"male\",\"group D\",\"associate's degree\",\"standard\",\"none\",\"reading score\"],[\"Faye Schatz\",\"female\",\"group B\",\"bachelor's degree\",\"standard\",\"completed\",\"reading score\"],[\"Donald Mooberry\",\"male\",\"group D\",\"bachelor's degree\",\"standard\",\"completed\",\"reading score\"],[\"Gerald Gramham\",\"male\",\"group A\",\"some high school\",\"standard\",\"none\",\"reading score\"],[\"Christopher Hernandez\",\"male\",\"group B\",\"some high school\",\"standard\",\"none\",\"reading score\"],[\"Sarah Flannery\",\"female\",\"group B\",\"master's degree\",\"standard\",\"none\",\"reading score\"],[\"Weldon Auston\",\"male\",\"group D\",\"associate's degree\",\"free/reduced\",\"none\",\"reading score\"],[\"John Ousley\",\"male\",\"group B\",\"master's degree\",\"free/reduced\",\"none\",\"reading score\"],[\"Mack Gilliland\",\"male\",\"group D\",\"high school\",\"standard\",\"none\",\"reading score\"],[\"Harold Kakos\",\"male\",\"group A\",\"high school\",\"standard\",\"none\",\"reading score\"],[\"William Gebhard\",\"male\",\"group C\",\"some college\",\"free/reduced\",\"completed\",\"reading score\"],[\"Raymond Wiggins\",\"male\",\"group C\",\"associate's degree\",\"free/reduced\",\"none\",\"reading score\"],[\"Arlene Seymour\",\"female\",\"group B\",\"high school\",\"standard\",\"none\",\"reading score\"],[\"Randy Werth\",\"male\",\"group A\",\"associate's degree\",\"standard\",\"none\",\"reading score\"],[\"Arthur Daschofsky\",\"male\",\"group A\",\"some high school\",\"free/reduced\",\"none\",\"reading score\"],[\"Tanya Macinnes\",\"female\",\"group A\",\"some high school\",\"standard\",\"completed\",\"reading score\"],[\"Scott Rogers\",\"male\",\"group E\",\"associate's degree\",\"free/reduced\",\"completed\",\"reading score\"],[\"Julie Lopez\",\"female\",\"group E\",\"some college\",\"standard\",\"completed\",\"reading score\"],[\"Marx Loftis\",\"female\",\"group E\",\"some college\",\"standard\",\"none\",\"reading score\"],[\"Sandra Case\",\"female\",\"group D\",\"bachelor's degree\",\"standard\",\"none\",\"reading score\"],[\"Justin Harris\",\"male\",\"group D\",\"some college\",\"standard\",\"none\",\"reading score\"],[\"Willie Gilbert\",\"male\",\"group E\",\"some high school\",\"standard\",\"none\",\"reading score\"],[\"Nicole Obrien\",\"female\",\"group B\",\"bachelor's degree\",\"free/reduced\",\"none\",\"reading score\"],[\"Rose Nguyen\",\"female\",\"group C\",\"master's degree\",\"standard\",\"completed\",\"reading score\"],[\"Rachel Angelini\",\"female\",\"group B\",\"some college\",\"standard\",\"none\",\"reading score\"],[\"Mindi Cruz\",\"female\",\"group C\",\"some college\",\"standard\",\"none\",\"reading score\"],[\"Russel Broussard\",\"male\",\"group C\",\"associate's degree\",\"free/reduced\",\"completed\",\"reading score\"],[\"Karl Hernandez\",\"male\",\"group C\",\"bachelor's degree\",\"standard\",\"none\",\"reading score\"],[\"Anthony Kenny\",\"male\",\"group D\",\"some college\",\"standard\",\"none\",\"reading score\"],[\"Jimmy Jones\",\"male\",\"group B\",\"associate's degree\",\"free/reduced\",\"completed\",\"reading score\"],[\"Julie Tang\",\"female\",\"group D\",\"associate's degree\",\"standard\",\"none\",\"reading score\"],[\"Eddie Strom\",\"male\",\"group E\",\"some college\",\"standard\",\"none\",\"reading score\"],[\"Lavera Lowrie\",\"female\",\"group C\",\"high school\",\"standard\",\"none\",\"reading score\"],[\"Lance Russell\",\"male\",\"group D\",\"high school\",\"standard\",\"none\",\"reading score\"],[\"Maria Cottone\",\"female\",\"group B\",\"some college\",\"free/reduced\",\"none\",\"reading score\"],[\"David Padilla\",\"male\",\"group B\",\"bachelor's degree\",\"free/reduced\",\"none\",\"reading score\"],[\"Connie Workman\",\"female\",\"group D\",\"some college\",\"standard\",\"completed\",\"reading score\"],[\"Maryann Russell\",\"female\",\"group D\",\"high school\",\"standard\",\"completed\",\"reading score\"],[\"Ofelia Evans\",\"female\",\"group C\",\"master's degree\",\"standard\",\"completed\",\"reading score\"],[\"Anastasia Starks\",\"female\",\"group B\",\"high school\",\"free/reduced\",\"completed\",\"reading score\"],[\"Dolores Sprinkle\",\"female\",\"group C\",\"bachelor's degree\",\"standard\",\"none\",\"reading score\"],[\"Stella Stephens\",\"female\",\"group D\",\"master's degree\",\"standard\",\"none\",\"reading score\"],[\"Eric Nunes\",\"male\",\"group C\",\"bachelor's degree\",\"standard\",\"completed\",\"reading score\"],[\"Mark Oconnor\",\"male\",\"group B\",\"some high school\",\"standard\",\"completed\",\"reading score\"],[\"Emory Kelley\",\"male\",\"group D\",\"some high school\",\"free/reduced\",\"none\",\"reading score\"],[\"Michael Leta\",\"male\",\"group E\",\"bachelor's degree\",\"standard\",\"none\",\"reading score\"],[\"Maria Caballero\",\"female\",\"group C\",\"high school\",\"standard\",\"completed\",\"reading score\"],[\"Richard Brasure\",\"male\",\"group D\",\"associate's degree\",\"free/reduced\",\"none\",\"reading score\"],[\"Wanda Hardin\",\"female\",\"group E\",\"some college\",\"standard\",\"none\",\"reading score\"],[\"Jerome Lopze\",\"male\",\"group E\",\"associate's degree\",\"free/reduced\",\"completed\",\"reading score\"],[\"Arlene Trotter\",\"female\",\"group B\",\"high school\",\"standard\",\"none\",\"reading score\"],[\"Christopher Wall\",\"male\",\"group C\",\"high school\",\"free/reduced\",\"none\",\"reading score\"],[\"Patricia Mcclurg\",\"female\",\"group D\",\"some high school\",\"standard\",\"none\",\"reading score\"],[\"Rosemary Oliveros\",\"female\",\"group C\",\"high school\",\"standard\",\"none\",\"reading score\"],[\"Shannon Weaver\",\"male\",\"group D\",\"bachelor's degree\",\"free/reduced\",\"none\",\"reading score\"],[\"Patricia Spiller\",\"female\",\"group D\",\"associate's degree\",\"free/reduced\",\"completed\",\"reading score\"],[\"Andrew Bussell\",\"male\",\"group A\",\"some high school\",\"standard\",\"none\",\"reading score\"],[\"Jackie Moons\",\"female\",\"group B\",\"some college\",\"free/reduced\",\"none\",\"reading score\"],[\"Edward Fields\",\"male\",\"group D\",\"some high school\",\"standard\",\"none\",\"reading score\"],[\"Robert Byrd\",\"male\",\"group C\",\"master's degree\",\"standard\",\"none\",\"reading score\"],[\"Josephine Hall\",\"female\",\"group B\",\"high school\",\"free/reduced\",\"none\",\"reading score\"],[\"Larry Maldonado\",\"male\",\"group E\",\"master's degree\",\"standard\",\"none\",\"reading score\"],[\"Mark Spicer\",\"male\",\"group E\",\"associate's degree\",\"standard\",\"none\",\"reading score\"],[\"Janet Hamer\",\"female\",\"group B\",\"some college\",\"free/reduced\",\"completed\",\"reading score\"],[\"Virginia Blubaugh\",\"female\",\"group B\",\"some high school\",\"standard\",\"completed\",\"reading score\"],[\"Nicole Nesbitt\",\"female\",\"group C\",\"some college\",\"standard\",\"none\",\"reading score\"],[\"Martha Ball\",\"female\",\"group C\",\"some college\",\"standard\",\"none\",\"reading score\"],[\"Rebecca Hammond\",\"female\",\"group C\",\"associate's degree\",\"free/reduced\",\"none\",\"reading score\"],[\"Chris Spitler\",\"male\",\"group C\",\"some college\",\"standard\",\"none\",\"reading score\"],[\"Ann Polston\",\"female\",\"group D\",\"master's degree\",\"free/reduced\",\"completed\",\"reading score\"],[\"Lynn Hovey\",\"female\",\"group B\",\"associate's degree\",\"standard\",\"none\",\"reading score\"],[\"Shannon Bale\",\"male\",\"group E\",\"associate's degree\",\"free/reduced\",\"completed\",\"reading score\"],[\"Theresa White\",\"female\",\"group E\",\"some college\",\"standard\",\"none\",\"reading score\"],[\"Doris Bridgewater\",\"female\",\"group D\",\"some college\",\"standard\",\"completed\",\"reading score\"],[\"Robin Ahmed\",\"female\",\"group C\",\"bachelor's degree\",\"free/reduced\",\"none\",\"reading score\"],[\"Andrew Baker\",\"male\",\"group E\",\"associate's degree\",\"standard\",\"completed\",\"reading score\"],[\"Jessica Salas\",\"female\",\"group C\",\"associate's degree\",\"standard\",\"completed\",\"reading score\"],[\"Christopher Barnett\",\"male\",\"group D\",\"associate's degree\",\"standard\",\"none\",\"reading score\"],[\"Jody Pond\",\"female\",\"group A\",\"some college\",\"standard\",\"completed\",\"reading score\"],[\"Agatha Bergman\",\"female\",\"group D\",\"master's degree\",\"standard\",\"none\",\"reading score\"],[\"Maude Greco\",\"female\",\"group E\",\"some college\",\"standard\",\"none\",\"reading score\"],[\"Melanie Acevedo\",\"female\",\"group E\",\"master's degree\",\"standard\",\"completed\",\"reading score\"],[\"Gloria Gambrell\",\"female\",\"group A\",\"associate's degree\",\"standard\",\"none\",\"reading score\"],[\"Thomas Hochmuth\",\"male\",\"group D\",\"some high school\",\"standard\",\"completed\",\"reading score\"],[\"Amanda Terrell\",\"female\",\"group A\",\"high school\",\"standard\",\"completed\",\"reading score\"],[\"Brenna Pate\",\"female\",\"group A\",\"bachelor's degree\",\"standard\",\"none\",\"reading score\"],[\"William Pool\",\"male\",\"group C\",\"high school\",\"standard\",\"none\",\"reading score\"],[\"Rachele Hammer\",\"female\",\"group C\",\"some college\",\"standard\",\"completed\",\"reading score\"],[\"John Suh\",\"male\",\"group D\",\"some college\",\"standard\",\"completed\",\"reading score\"],[\"Amber Hicks\",\"female\",\"group B\",\"associate's degree\",\"standard\",\"none\",\"reading score\"],[\"Fannie Hindman\",\"female\",\"group D\",\"high school\",\"standard\",\"none\",\"reading score\"],[\"Sue Gorman\",\"female\",\"group A\",\"some high school\",\"standard\",\"none\",\"reading score\"],[\"John Gonzales\",\"male\",\"group B\",\"some high school\",\"standard\",\"completed\",\"reading score\"],[\"Ira Mercer\",\"male\",\"group C\",\"some high school\",\"free/reduced\",\"completed\",\"reading score\"],[\"James Stanley\",\"male\",\"group C\",\"some college\",\"standard\",\"completed\",\"reading score\"],[\"Rolando Widmer\",\"male\",\"group C\",\"high school\",\"standard\",\"completed\",\"reading score\"],[\"Christine Cruson\",\"female\",\"group C\",\"high school\",\"standard\",\"none\",\"reading score\"],[\"Geraldine Gamboa\",\"female\",\"group C\",\"some college\",\"free/reduced\",\"none\",\"reading score\"],[\"Leon Patton\",\"male\",\"group B\",\"some college\",\"standard\",\"completed\",\"reading score\"],[\"Rosa Clagon\",\"female\",\"group A\",\"some high school\",\"free/reduced\",\"none\",\"reading score\"],[\"Christian Marshall\",\"male\",\"group D\",\"some high school\",\"standard\",\"completed\",\"reading score\"],[\"Jennie Blackwood\",\"female\",\"group C\",\"associate's degree\",\"standard\",\"none\",\"reading score\"],[\"Paul Ellis\",\"male\",\"group B\",\"high school\",\"standard\",\"none\",\"reading score\"],[\"Mitchell Eguia\",\"male\",\"group B\",\"some college\",\"free/reduced\",\"none\",\"reading score\"],[\"Eugene Jewett\",\"male\",\"group C\",\"high school\",\"free/reduced\",\"none\",\"reading score\"],[\"Travis Burkey\",\"male\",\"group B\",\"some college\",\"standard\",\"none\",\"reading score\"],[\"Bernard Gilmore\",\"male\",\"group E\",\"bachelor's degree\",\"standard\",\"completed\",\"reading score\"],[\"Emma Fussell\",\"female\",\"group A\",\"some high school\",\"free/reduced\",\"none\",\"reading score\"],[\"Pamela Scott\",\"female\",\"group C\",\"some college\",\"free/reduced\",\"completed\",\"reading score\"],[\"Olivia Papp\",\"female\",\"group E\",\"some college\",\"standard\",\"none\",\"reading score\"],[\"Thomas Kent\",\"male\",\"group E\",\"associate's degree\",\"standard\",\"none\",\"reading score\"],[\"Christina Cullins\",\"female\",\"group C\",\"some college\",\"free/reduced\",\"none\",\"reading score\"],[\"Isaac Pagan\",\"male\",\"group D\",\"some college\",\"standard\",\"completed\",\"reading score\"],[\"Tracy Varley\",\"female\",\"group D\",\"high school\",\"standard\",\"none\",\"reading score\"],[\"George Howard\",\"male\",\"group A\",\"associate's degree\",\"free/reduced\",\"completed\",\"reading score\"],[\"Jorge Apana\",\"male\",\"group A\",\"some high school\",\"standard\",\"completed\",\"reading score\"],[\"Louise Romero\",\"female\",\"group D\",\"associate's degree\",\"standard\",\"none\",\"reading score\"],[\"Theodore Sims\",\"male\",\"group B\",\"high school\",\"free/reduced\",\"none\",\"reading score\"],[\"Arthur Johnson\",\"male\",\"group C\",\"associate's degree\",\"standard\",\"none\",\"reading score\"],[\"Renee Worley\",\"female\",\"group D\",\"some college\",\"standard\",\"none\",\"reading score\"],[\"James Verhaag\",\"male\",\"group D\",\"high school\",\"free/reduced\",\"completed\",\"reading score\"],[\"Jonathan Moser\",\"male\",\"group B\",\"high school\",\"standard\",\"none\",\"reading score\"],[\"Leann Widrick\",\"female\",\"group D\",\"master's degree\",\"standard\",\"completed\",\"reading score\"],[\"Kenneth Armendariz\",\"male\",\"group B\",\"associate's degree\",\"free/reduced\",\"completed\",\"reading score\"],[\"Lance Santana\",\"male\",\"group B\",\"some high school\",\"standard\",\"none\",\"reading score\"],[\"Carol Salinas\",\"female\",\"group D\",\"high school\",\"standard\",\"none\",\"reading score\"],[\"Eleanor Bond\",\"female\",\"group E\",\"associate's degree\",\"standard\",\"none\",\"reading score\"],[\"Micheal Thompson\",\"male\",\"group C\",\"high school\",\"standard\",\"none\",\"reading score\"],[\"Anne Scheer\",\"female\",\"group C\",\"high school\",\"standard\",\"none\",\"reading score\"],[\"Sheila Carboni\",\"female\",\"group C\",\"associate's degree\",\"standard\",\"none\",\"reading score\"],[\"Michael Gore\",\"male\",\"group B\",\"some college\",\"free/reduced\",\"none\",\"reading score\"],[\"Doris Sandiford\",\"female\",\"group D\",\"master's degree\",\"free/reduced\",\"completed\",\"reading score\"],[\"Ashley Bradburn\",\"female\",\"group B\",\"some high school\",\"standard\",\"none\",\"reading score\"],[\"Catalina Brooks\",\"female\",\"group C\",\"some college\",\"standard\",\"none\",\"reading score\"],[\"Richard Bacon\",\"male\",\"group C\",\"some college\",\"standard\",\"none\",\"reading score\"],[\"Jennifer Phillips\",\"female\",\"group C\",\"some college\",\"standard\",\"none\",\"reading score\"],[\"Andrew Butler\",\"male\",\"group B\",\"high school\",\"standard\",\"none\",\"reading score\"],[\"Richard Stackhouse\",\"male\",\"group A\",\"some college\",\"free/reduced\",\"none\",\"reading score\"],[\"Irma Shedd\",\"female\",\"group B\",\"some college\",\"standard\",\"none\",\"reading score\"],[\"Albert Duran\",\"male\",\"group D\",\"some college\",\"standard\",\"completed\",\"reading score\"],[\"Gloria Ocasio\",\"female\",\"group D\",\"associate's degree\",\"free/reduced\",\"completed\",\"reading score\"],[\"Franklin Hawkins\",\"male\",\"group D\",\"some college\",\"standard\",\"none\",\"reading score\"],[\"Joshua Davis\",\"male\",\"group C\",\"some college\",\"free/reduced\",\"none\",\"reading score\"],[\"Willie Nicholson\",\"female\",\"group D\",\"some college\",\"free/reduced\",\"completed\",\"reading score\"],[\"Evelyn Galligan\",\"female\",\"group B\",\"master's degree\",\"free/reduced\",\"completed\",\"reading score\"],[\"Jonathan Calcote\",\"male\",\"group D\",\"some high school\",\"free/reduced\",\"none\",\"reading score\"],[\"Michael Mcdonnell\",\"male\",\"group D\",\"some high school\",\"standard\",\"none\",\"reading score\"],[\"David Moya\",\"male\",\"group B\",\"bachelor's degree\",\"standard\",\"none\",\"reading score\"],[\"Brandi Fisher\",\"female\",\"group E\",\"high school\",\"standard\",\"none\",\"reading score\"],[\"Patricia Harrell\",\"female\",\"group C\",\"associate's degree\",\"standard\",\"none\",\"reading score\"],[\"Steven Jackson\",\"male\",\"group B\",\"some high school\",\"standard\",\"none\",\"reading score\"],[\"Phillip Powell\",\"male\",\"group E\",\"some college\",\"standard\",\"completed\",\"reading score\"],[\"Kevin Ibrahim\",\"male\",\"group A\",\"some high school\",\"free/reduced\",\"none\",\"reading score\"],[\"David Hooker\",\"male\",\"group B\",\"associate's degree\",\"standard\",\"none\",\"reading score\"],[\"Barbara Barahona\",\"female\",\"group C\",\"associate's degree\",\"free/reduced\",\"none\",\"reading score\"],[\"Eileen Hardin\",\"female\",\"group D\",\"bachelor's degree\",\"standard\",\"none\",\"reading score\"],[\"Julie Smith\",\"female\",\"group D\",\"associate's degree\",\"standard\",\"completed\",\"reading score\"],[\"Kristie Mccarthy\",\"female\",\"group C\",\"some college\",\"free/reduced\",\"none\",\"reading score\"],[\"Karen Wagaman\",\"female\",\"group B\",\"associate's degree\",\"standard\",\"none\",\"reading score\"],[\"William Gambino\",\"male\",\"group D\",\"associate's degree\",\"standard\",\"none\",\"reading score\"],[\"Alan Sigmon\",\"male\",\"group C\",\"high school\",\"standard\",\"none\",\"reading score\"],[\"Marie Crate\",\"female\",\"group E\",\"high school\",\"standard\",\"none\",\"reading score\"],[\"Maritza Kielbasa\",\"female\",\"group C\",\"some college\",\"standard\",\"none\",\"reading score\"],[\"John Ponce\",\"male\",\"group B\",\"bachelor's degree\",\"free/reduced\",\"none\",\"reading score\"],[\"Robert Strain\",\"male\",\"group C\",\"associate's degree\",\"free/reduced\",\"none\",\"reading score\"],[\"Alexis Rosenberg\",\"female\",\"group C\",\"some high school\",\"free/reduced\",\"completed\",\"reading score\"],[\"Frances Johnson\",\"female\",\"group D\",\"associate's degree\",\"free/reduced\",\"completed\",\"reading score\"],[\"Cynthia Mandeville\",\"female\",\"group C\",\"some high school\",\"standard\",\"none\",\"reading score\"],[\"Ronald Jett\",\"male\",\"group D\",\"high school\",\"free/reduced\",\"none\",\"reading score\"],[\"Kari Roth\",\"female\",\"group C\",\"high school\",\"standard\",\"completed\",\"reading score\"],[\"Hazel Posey\",\"female\",\"group B\",\"some high school\",\"free/reduced\",\"none\",\"reading score\"],[\"Audrey Head\",\"female\",\"group C\",\"associate's degree\",\"standard\",\"completed\",\"reading score\"],[\"Jennifer Tucker\",\"female\",\"group E\",\"associate's degree\",\"standard\",\"none\",\"reading score\"],[\"Patrick Watson\",\"male\",\"group D\",\"some college\",\"free/reduced\",\"none\",\"reading score\"],[\"Loretta Velez\",\"female\",\"group C\",\"associate's degree\",\"standard\",\"completed\",\"reading score\"],[\"Eric Baldwin\",\"male\",\"group A\",\"high school\",\"free/reduced\",\"none\",\"reading score\"],[\"Danny Goodyear\",\"male\",\"group B\",\"some college\",\"standard\",\"completed\",\"reading score\"],[\"Louis Christopher\",\"male\",\"group A\",\"high school\",\"free/reduced\",\"completed\",\"reading score\"],[\"Robert Twitty\",\"male\",\"group C\",\"master's degree\",\"free/reduced\",\"none\",\"reading score\"],[\"James Aguirre\",\"male\",\"group E\",\"high school\",\"standard\",\"completed\",\"reading score\"],[\"Cody Garcia\",\"male\",\"group B\",\"some high school\",\"standard\",\"completed\",\"reading score\"],[\"Dana Smith\",\"female\",\"group C\",\"bachelor's degree\",\"free/reduced\",\"completed\",\"reading score\"],[\"Cheryl Patel\",\"female\",\"group B\",\"some high school\",\"free/reduced\",\"none\",\"reading score\"],[\"Alyssa Mcgee\",\"female\",\"group D\",\"master's degree\",\"standard\",\"none\",\"reading score\"],[\"Kathleen Hernandez\",\"female\",\"group C\",\"some college\",\"standard\",\"completed\",\"reading score\"],[\"John Lambert\",\"male\",\"group B\",\"high school\",\"standard\",\"none\",\"reading score\"],[\"Edmond Lerner\",\"male\",\"group D\",\"high school\",\"standard\",\"none\",\"reading score\"],[\"Sarah Adu\",\"female\",\"group A\",\"some high school\",\"standard\",\"completed\",\"reading score\"],[\"Mandy Bays\",\"female\",\"group E\",\"high school\",\"free/reduced\",\"none\",\"reading score\"],[\"Charles Hopson\",\"male\",\"group C\",\"associate's degree\",\"free/reduced\",\"none\",\"reading score\"],[\"George Estrada\",\"male\",\"group A\",\"bachelor's degree\",\"standard\",\"none\",\"reading score\"],[\"Christopher Thornburg\",\"male\",\"group D\",\"some college\",\"standard\",\"none\",\"reading score\"],[\"Arnold Dodson\",\"male\",\"group C\",\"some college\",\"standard\",\"none\",\"reading score\"],[\"Rosalia Arrants\",\"female\",\"group E\",\"some high school\",\"free/reduced\",\"none\",\"reading score\"],[\"Carolyn Webley\",\"female\",\"group D\",\"high school\",\"free/reduced\",\"none\",\"reading score\"],[\"Jon Norris\",\"male\",\"group E\",\"bachelor's degree\",\"standard\",\"completed\",\"reading score\"],[\"Virginia Thompson\",\"female\",\"group D\",\"associate's degree\",\"standard\",\"none\",\"reading score\"],[\"Deborah Clark\",\"female\",\"group B\",\"some high school\",\"free/reduced\",\"completed\",\"reading score\"],[\"Samantha Devore\",\"female\",\"group B\",\"high school\",\"standard\",\"none\",\"reading score\"],[\"Shirley Ybanez\",\"female\",\"group C\",\"some high school\",\"standard\",\"completed\",\"reading score\"],[\"Walter Mata\",\"male\",\"group D\",\"associate's degree\",\"free/reduced\",\"none\",\"reading score\"],[\"Coleen Stough\",\"female\",\"group C\",\"associate's degree\",\"standard\",\"completed\",\"reading score\"],[\"Victor Turner\",\"male\",\"group C\",\"high school\",\"free/reduced\",\"none\",\"reading score\"],[\"Audrey Shorey\",\"female\",\"group A\",\"some college\",\"standard\",\"none\",\"reading score\"],[\"Jose Wheeler\",\"male\",\"group C\",\"associate's degree\",\"free/reduced\",\"completed\",\"reading score\"],[\"Sharon Roberts\",\"female\",\"group C\",\"high school\",\"free/reduced\",\"none\",\"reading score\"],[\"Anthony Pedigo\",\"male\",\"group B\",\"bachelor's degree\",\"free/reduced\",\"completed\",\"reading score\"],[\"Lucy Thompson\",\"female\",\"group B\",\"some college\",\"free/reduced\",\"completed\",\"reading score\"],[\"Sonya Porter\",\"female\",\"group C\",\"bachelor's degree\",\"free/reduced\",\"completed\",\"reading score\"],[\"Shirley Wilson\",\"female\",\"group A\",\"some college\",\"free/reduced\",\"none\",\"reading score\"],[\"Collette Williams\",\"female\",\"group C\",\"some high school\",\"standard\",\"completed\",\"reading score\"],[\"Shawn Frank\",\"female\",\"group C\",\"associate's degree\",\"standard\",\"completed\",\"reading score\"],[\"Richard Guercio\",\"male\",\"group B\",\"high school\",\"free/reduced\",\"none\",\"reading score\"],[\"Eileen Gray\",\"female\",\"group D\",\"high school\",\"free/reduced\",\"none\",\"reading score\"],[\"Roberta Fravel\",\"female\",\"group B\",\"high school\",\"standard\",\"none\",\"reading score\"],[\"Charles Irizarry\",\"male\",\"group B\",\"high school\",\"standard\",\"none\",\"reading score\"],[\"Jerome Riddle\",\"male\",\"group D\",\"high school\",\"free/reduced\",\"none\",\"reading score\"],[\"Kimberly Routzahn\",\"female\",\"group C\",\"master's degree\",\"free/reduced\",\"none\",\"reading score\"],[\"Joyce Thornton\",\"female\",\"group B\",\"master's degree\",\"free/reduced\",\"completed\",\"reading score\"],[\"Maria Murphy\",\"female\",\"group D\",\"bachelor's degree\",\"free/reduced\",\"none\",\"reading score\"],[\"Lynda Stotts\",\"female\",\"group D\",\"some college\",\"standard\",\"none\",\"reading score\"],[\"Judy Webb\",\"female\",\"group E\",\"associate's degree\",\"standard\",\"none\",\"reading score\"],[\"Terri Motley\",\"female\",\"group D\",\"some college\",\"standard\",\"completed\",\"reading score\"],[\"Nathan Mewborn\",\"male\",\"group D\",\"master's degree\",\"standard\",\"none\",\"reading score\"],[\"Jeanne White\",\"female\",\"group C\",\"associate's degree\",\"standard\",\"none\",\"reading score\"],[\"Julia Hagan\",\"female\",\"group C\",\"bachelor's degree\",\"free/reduced\",\"completed\",\"reading score\"],[\"David Lemke\",\"male\",\"group E\",\"some college\",\"standard\",\"completed\",\"reading score\"],[\"Clarice Machida\",\"female\",\"group D\",\"some college\",\"free/reduced\",\"completed\",\"reading score\"],[\"Wendy Lewis\",\"female\",\"group B\",\"high school\",\"standard\",\"none\",\"reading score\"],[\"Beatrice Aragon\",\"female\",\"group B\",\"master's degree\",\"free/reduced\",\"completed\",\"reading score\"],[\"Christopher Emmons\",\"male\",\"group C\",\"high school\",\"free/reduced\",\"completed\",\"reading score\"],[\"Richard Lindenbaum\",\"male\",\"group D\",\"some college\",\"free/reduced\",\"none\",\"reading score\"],[\"Jesus Currier\",\"male\",\"group B\",\"some high school\",\"standard\",\"completed\",\"reading score\"],[\"Angie Laskoski\",\"female\",\"group C\",\"bachelor's degree\",\"standard\",\"completed\",\"reading score\"],[\"Michael Diaz\",\"male\",\"group E\",\"associate's degree\",\"standard\",\"none\",\"reading score\"],[\"William Musick\",\"male\",\"group B\",\"some college\",\"standard\",\"none\",\"reading score\"],[\"George Lindsay\",\"male\",\"group E\",\"some high school\",\"free/reduced\",\"completed\",\"reading score\"],[\"Brandi Adams\",\"female\",\"group A\",\"some college\",\"free/reduced\",\"none\",\"reading score\"],[\"Karolyn Hollingsworth\",\"female\",\"group C\",\"some college\",\"standard\",\"completed\",\"reading score\"],[\"Diane Olson\",\"female\",\"group C\",\"some college\",\"standard\",\"completed\",\"reading score\"],[\"Kathryn Novak\",\"female\",\"group B\",\"some college\",\"free/reduced\",\"none\",\"reading score\"],[\"Karen Honea\",\"female\",\"group D\",\"some high school\",\"standard\",\"completed\",\"reading score\"],[\"Lorena Reed\",\"female\",\"group C\",\"high school\",\"free/reduced\",\"none\",\"reading score\"],[\"Christopher Kilkenny\",\"male\",\"group D\",\"high school\",\"standard\",\"none\",\"reading score\"],[\"William Barich\",\"male\",\"group A\",\"bachelor's degree\",\"free/reduced\",\"completed\",\"reading score\"],[\"John Sabir\",\"male\",\"group C\",\"some high school\",\"free/reduced\",\"completed\",\"reading score\"],[\"Isaiah Massey\",\"male\",\"group C\",\"some college\",\"standard\",\"none\",\"reading score\"],[\"James Braun\",\"male\",\"group D\",\"some college\",\"standard\",\"completed\",\"reading score\"],[\"Jane Larson\",\"female\",\"group B\",\"bachelor's degree\",\"standard\",\"none\",\"reading score\"],[\"Richard Stevens\",\"male\",\"group D\",\"some high school\",\"standard\",\"none\",\"reading score\"],[\"Tanya Anderson\",\"female\",\"group C\",\"some college\",\"free/reduced\",\"completed\",\"reading score\"],[\"Laree Keene\",\"female\",\"group C\",\"master's degree\",\"standard\",\"completed\",\"reading score\"],[\"Sheron Luzar\",\"female\",\"group B\",\"some high school\",\"free/reduced\",\"completed\",\"reading score\"],[\"Judith Forker\",\"female\",\"group C\",\"associate's degree\",\"free/reduced\",\"completed\",\"reading score\"],[\"Robert Beard\",\"male\",\"group C\",\"some college\",\"standard\",\"none\",\"reading score\"],[\"Emmie Mooreland\",\"female\",\"group C\",\"bachelor's degree\",\"standard\",\"completed\",\"reading score\"],[\"Thomas Whitehead\",\"male\",\"group D\",\"high school\",\"standard\",\"completed\",\"reading score\"],[\"Shirley Witt\",\"female\",\"group C\",\"some high school\",\"standard\",\"none\",\"reading score\"],[\"Barbra Wade\",\"female\",\"group E\",\"some college\",\"free/reduced\",\"none\",\"reading score\"],[\"Carrie Robinson\",\"female\",\"group C\",\"high school\",\"free/reduced\",\"none\",\"reading score\"],[\"Alex Mcdowell\",\"male\",\"group D\",\"some high school\",\"standard\",\"none\",\"reading score\"],[\"Larry Braun\",\"male\",\"group C\",\"some high school\",\"free/reduced\",\"completed\",\"reading score\"],[\"Mitchell Fisher\",\"male\",\"group B\",\"associate's degree\",\"standard\",\"none\",\"reading score\"],[\"Howard Parham\",\"male\",\"group D\",\"some high school\",\"standard\",\"completed\",\"reading score\"],[\"Jose Walker\",\"male\",\"group B\",\"bachelor's degree\",\"standard\",\"none\",\"reading score\"],[\"Linda Odonnell\",\"female\",\"group E\",\"associate's degree\",\"free/reduced\",\"completed\",\"reading score\"],[\"Kim Adams\",\"female\",\"group A\",\"some college\",\"standard\",\"none\",\"reading score\"],[\"Andreas Browder\",\"male\",\"group C\",\"master's degree\",\"free/reduced\",\"completed\",\"reading score\"],[\"Ruth Patrick\",\"female\",\"group A\",\"associate's degree\",\"standard\",\"completed\",\"reading score\"],[\"Kathy Edwards\",\"female\",\"group D\",\"some high school\",\"standard\",\"completed\",\"reading score\"],[\"Bertha Nelson\",\"female\",\"group B\",\"some high school\",\"standard\",\"none\",\"reading score\"],[\"Oscar Markow\",\"male\",\"group C\",\"some high school\",\"free/reduced\",\"completed\",\"reading score\"],[\"Anthony Bommarito\",\"male\",\"group C\",\"associate's degree\",\"standard\",\"none\",\"reading score\"],[\"Esther Childress\",\"female\",\"group E\",\"master's degree\",\"standard\",\"none\",\"reading score\"],[\"Esther Riebe\",\"female\",\"group C\",\"associate's degree\",\"standard\",\"completed\",\"reading score\"],[\"Sonia Brent\",\"female\",\"group B\",\"some high school\",\"free/reduced\",\"none\",\"reading score\"],[\"Darlene Owsley\",\"female\",\"group D\",\"bachelor's degree\",\"free/reduced\",\"none\",\"reading score\"],[\"Tom Perez\",\"male\",\"group B\",\"some high school\",\"standard\",\"completed\",\"reading score\"],[\"Gladys Kennedy\",\"female\",\"group A\",\"some high school\",\"free/reduced\",\"none\",\"reading score\"],[\"Allen Schwarz\",\"male\",\"group C\",\"some high school\",\"standard\",\"completed\",\"reading score\"],[\"Anna Mascia\",\"female\",\"group C\",\"some high school\",\"standard\",\"none\",\"reading score\"],[\"Suzanne Trosclair\",\"female\",\"group D\",\"some high school\",\"standard\",\"none\",\"reading score\"],[\"James Michael\",\"male\",\"group B\",\"high school\",\"standard\",\"completed\",\"reading score\"],[\"Kenneth Webster\",\"male\",\"group E\",\"associate's degree\",\"free/reduced\",\"none\",\"reading score\"],[\"Angela Cressey\",\"female\",\"group D\",\"some college\",\"standard\",\"none\",\"reading score\"],[\"Judy Schwantes\",\"female\",\"group C\",\"some college\",\"standard\",\"none\",\"reading score\"],[\"Donna Duarte\",\"female\",\"group C\",\"high school\",\"standard\",\"none\",\"reading score\"],[\"Jonathan Mitchell\",\"male\",\"group E\",\"high school\",\"standard\",\"completed\",\"reading score\"],[\"Crystal Smith\",\"female\",\"group C\",\"high school\",\"free/reduced\",\"none\",\"reading score\"],[\"Alberto Roberts\",\"male\",\"group D\",\"associate's degree\",\"standard\",\"none\",\"reading score\"],[\"Chanel Payne\",\"female\",\"group D\",\"associate's degree\",\"standard\",\"completed\",\"reading score\"],[\"Michael Cooney\",\"male\",\"group E\",\"some high school\",\"standard\",\"completed\",\"reading score\"],[\"James Denk\",\"male\",\"group B\",\"some college\",\"standard\",\"none\",\"reading score\"],[\"Terry Pulcher\",\"male\",\"group D\",\"some college\",\"free/reduced\",\"completed\",\"reading score\"],[\"Betty Ellis\",\"female\",\"group D\",\"master's degree\",\"free/reduced\",\"completed\",\"reading score\"],[\"Clarence Querry\",\"male\",\"group C\",\"associate's degree\",\"standard\",\"none\",\"reading score\"],[\"Stacy Parker\",\"female\",\"group B\",\"associate's degree\",\"standard\",\"none\",\"reading score\"],[\"Susan Miller\",\"female\",\"group B\",\"some college\",\"standard\",\"completed\",\"reading score\"],[\"James Brooks\",\"male\",\"group C\",\"master's degree\",\"standard\",\"none\",\"reading score\"],[\"Richard Laughlin\",\"male\",\"group A\",\"some high school\",\"standard\",\"none\",\"reading score\"],[\"Peter Perez\",\"male\",\"group D\",\"master's degree\",\"standard\",\"none\",\"reading score\"],[\"Audrey Shaffer\",\"female\",\"group D\",\"some college\",\"free/reduced\",\"none\",\"reading score\"],[\"Derrick Crasco\",\"male\",\"group B\",\"associate's degree\",\"free/reduced\",\"completed\",\"reading score\"],[\"Lee Trent\",\"female\",\"group D\",\"associate's degree\",\"standard\",\"none\",\"reading score\"],[\"Dustin Henry\",\"male\",\"group C\",\"high school\",\"free/reduced\",\"completed\",\"reading score\"],[\"Joy Hasler\",\"female\",\"group C\",\"some college\",\"standard\",\"none\",\"reading score\"],[\"Shirley Nicholls\",\"female\",\"group E\",\"master's degree\",\"free/reduced\",\"none\",\"reading score\"],[\"Jonathan Pearson\",\"male\",\"group C\",\"high school\",\"standard\",\"completed\",\"reading score\"],[\"Stuart Stanford\",\"male\",\"group D\",\"associate's degree\",\"standard\",\"completed\",\"reading score\"],[\"James King\",\"male\",\"group B\",\"some college\",\"standard\",\"completed\",\"reading score\"],[\"Verda Perryman\",\"female\",\"group C\",\"bachelor's degree\",\"free/reduced\",\"none\",\"reading score\"],[\"Wendy Freel\",\"female\",\"group C\",\"some high school\",\"standard\",\"completed\",\"reading score\"],[\"Kathryn White\",\"female\",\"group C\",\"some college\",\"standard\",\"none\",\"reading score\"],[\"Martin Wilson\",\"male\",\"group D\",\"high school\",\"standard\",\"completed\",\"reading score\"],[\"Kelly Bowar\",\"female\",\"group D\",\"some high school\",\"standard\",\"none\",\"reading score\"],[\"Kelly Greer\",\"female\",\"group C\",\"associate's degree\",\"free/reduced\",\"none\",\"reading score\"],[\"Fred Jaeger\",\"male\",\"group E\",\"bachelor's degree\",\"standard\",\"completed\",\"reading score\"],[\"Haydee Kunkel\",\"female\",\"group C\",\"high school\",\"free/reduced\",\"none\",\"reading score\"],[\"Kayla Lopez\",\"female\",\"group C\",\"associate's degree\",\"standard\",\"completed\",\"reading score\"],[\"Paul Brownell\",\"male\",\"group B\",\"high school\",\"standard\",\"none\",\"reading score\"],[\"Jose Rogers\",\"male\",\"group D\",\"some college\",\"free/reduced\",\"none\",\"reading score\"],[\"Joyce Bland\",\"female\",\"group D\",\"some high school\",\"free/reduced\",\"none\",\"reading score\"],[\"Fannie Alvarez\",\"female\",\"group D\",\"some college\",\"free/reduced\",\"none\",\"reading score\"],[\"Melissa Johnston\",\"female\",\"group C\",\"some high school\",\"free/reduced\",\"none\",\"reading score\"],[\"Judith Mcenany\",\"female\",\"group D\",\"bachelor's degree\",\"standard\",\"none\",\"reading score\"],[\"Nancy Mccormick\",\"female\",\"group D\",\"some high school\",\"free/reduced\",\"completed\",\"reading score\"],[\"Timothy Long\",\"male\",\"group C\",\"high school\",\"standard\",\"completed\",\"reading score\"],[\"Sandra Pompey\",\"female\",\"group E\",\"associate's degree\",\"standard\",\"none\",\"reading score\"],[\"Steven Marriot\",\"male\",\"group C\",\"some college\",\"free/reduced\",\"none\",\"reading score\"],[\"Stanley Chappell\",\"male\",\"group A\",\"associate's degree\",\"free/reduced\",\"none\",\"reading score\"],[\"Michelle Smithson\",\"female\",\"group E\",\"associate's degree\",\"standard\",\"none\",\"reading score\"],[\"Jeffrey Bostrom\",\"male\",\"group E\",\"associate's degree\",\"standard\",\"completed\",\"reading score\"],[\"Earnest Cole\",\"male\",\"group D\",\"some college\",\"standard\",\"completed\",\"reading score\"],[\"Sharon Garcia\",\"female\",\"group C\",\"some high school\",\"free/reduced\",\"none\",\"reading score\"],[\"Carol Miller\",\"female\",\"group C\",\"associate's degree\",\"standard\",\"completed\",\"reading score\"],[\"Antonio Evans\",\"male\",\"group C\",\"high school\",\"free/reduced\",\"none\",\"reading score\"],[\"Pam Otoole\",\"female\",\"group B\",\"bachelor's degree\",\"standard\",\"none\",\"reading score\"],[\"Matthew Burns\",\"male\",\"group E\",\"high school\",\"standard\",\"none\",\"reading score\"],[\"Gregory Fernandez\",\"male\",\"group E\",\"high school\",\"free/reduced\",\"completed\",\"reading score\"],[\"Charles Herandez\",\"male\",\"group D\",\"master's degree\",\"free/reduced\",\"completed\",\"reading score\"],[\"Aaron Shelly\",\"male\",\"group D\",\"associate's degree\",\"standard\",\"none\",\"reading score\"],[\"Charles Harian\",\"male\",\"group C\",\"some high school\",\"free/reduced\",\"completed\",\"reading score\"],[\"Steven Hacker\",\"male\",\"group A\",\"some high school\",\"free/reduced\",\"none\",\"reading score\"],[\"Wendy Gunnell\",\"female\",\"group D\",\"some high school\",\"free/reduced\",\"none\",\"reading score\"],[\"Manuel Glover\",\"male\",\"group D\",\"some college\",\"standard\",\"none\",\"reading score\"],[\"Linda Nevin\",\"female\",\"group B\",\"some high school\",\"standard\",\"completed\",\"reading score\"],[\"James Piper\",\"male\",\"group D\",\"bachelor's degree\",\"free/reduced\",\"none\",\"reading score\"],[\"Timothy Anderson\",\"male\",\"group C\",\"associate's degree\",\"free/reduced\",\"completed\",\"reading score\"],[\"Julie Sciancalepore\",\"female\",\"group C\",\"bachelor's degree\",\"standard\",\"none\",\"reading score\"],[\"Brandon Palmer\",\"male\",\"group D\",\"associate's degree\",\"free/reduced\",\"none\",\"reading score\"],[\"Robert Morrison\",\"male\",\"group D\",\"some college\",\"standard\",\"completed\",\"reading score\"],[\"Claudio Millender\",\"male\",\"group C\",\"some college\",\"free/reduced\",\"completed\",\"reading score\"],[\"Emily King\",\"female\",\"group D\",\"some college\",\"standard\",\"completed\",\"reading score\"],[\"William Sakkinen\",\"male\",\"group E\",\"some college\",\"standard\",\"none\",\"reading score\"],[\"Elsa Hyman\",\"female\",\"group B\",\"high school\",\"standard\",\"none\",\"reading score\"],[\"Virginia Sievers\",\"female\",\"group C\",\"bachelor's degree\",\"standard\",\"completed\",\"reading score\"],[\"Laura Cavanaugh\",\"female\",\"group C\",\"associate's degree\",\"standard\",\"completed\",\"reading score\"],[\"Diana Costa\",\"female\",\"group C\",\"high school\",\"free/reduced\",\"none\",\"reading score\"],[\"Amy Sieving\",\"female\",\"group C\",\"high school\",\"standard\",\"none\",\"reading score\"],[\"Richard Young\",\"male\",\"group D\",\"high school\",\"standard\",\"none\",\"reading score\"],[\"Wanda Russell\",\"female\",\"group B\",\"high school\",\"free/reduced\",\"completed\",\"reading score\"],[\"Marina Zeigler\",\"female\",\"group C\",\"bachelor's degree\",\"free/reduced\",\"completed\",\"reading score\"],[\"Laurie Carter\",\"female\",\"group B\",\"some high school\",\"standard\",\"completed\",\"reading score\"],[\"Amanda Perez\",\"female\",\"group A\",\"high school\",\"standard\",\"completed\",\"reading score\"]],\"hovertemplate\":\"variable=%{customdata[6]}<br>value=%{x}<br>names=%{customdata[0]}<br>gender=%{customdata[1]}<br>race/ethnicity=%{customdata[2]}<br>parental level of education=%{customdata[3]}<br>lunch=%{customdata[4]}<br>test preparation course=%{customdata[5]}<extra></extra>\",\"legendgroup\":\"reading score\",\"marker\":{\"color\":\"#EF553B\"},\"name\":\"reading score\",\"notched\":true,\"offsetgroup\":\"reading score\",\"showlegend\":false,\"type\":\"box\",\"x\":[3.76,5.68,4.96,5.5,6.16,4.66,5.08,3.88,4.66,5.38,5.68,5.5600000000000005,4.9,5.44,4.42,5.14,3.52,5.92,4.66,5.38,5.5,7.0,5.5600000000000005,4.66,5.86,5.32,5.98,4.84,5.5600000000000005,6.16,6.28,5.44,5.32,4.66,4.84,4.66,4.54,5.02,4.72,2.74,5.74,5.02,4.48,4.3,6.22,2.68,5.02,5.44,4.84,4.54,5.74,5.38,4.6,4.54,6.52,5.5600000000000005,6.64,6.1,4.72,3.88,3.88,4.24,4.24,5.92,5.92,4.9,5.26,6.4,6.04,5.5,6.28,6.58,5.86,6.58,4.42,5.44,4.24,6.04,6.4,3.46,5.38,5.08,5.68,5.44,4.72,6.4,4.78,5.44,4.84,5.08,5.38,4.36,5.2,5.32,5.98,4.54,6.22,6.94,5.38,3.58,5.08,6.1,5.86,5.32,5.68,4.06,5.32,4.0,6.1,4.96,5.68,5.62,3.7,6.58,4.66,4.84,5.98,4.96,5.62,4.42,5.02,5.68,5.2,5.74,5.08,5.86,5.02,4.24,4.6,4.06,4.06,4.42,3.2800000000000002,5.62,5.74,4.48,4.06,5.32,4.72,4.36,4.06,5.98,5.5600000000000005,5.68,6.7,6.34,6.22,4.96,3.94,4.18,4.42,5.38,5.08,5.26,4.78,6.16,4.48,4.06,4.84,5.26,3.88,6.58,5.32,4.6,4.66,5.38,4.24,3.88,5.38,5.44,5.62,5.44,5.2,6.4,5.44,4.06,5.08,5.32,5.86,5.5600000000000005,4.78,4.72,4.54,3.8200000000000003,4.96,5.44,5.68,6.16,7.0,4.48,4.84,4.78,5.26,6.46,5.5,6.04,6.64,4.66,6.04,3.94,4.78,5.92,5.86,3.94,3.52,5.62,5.5600000000000005,4.96,6.28,5.98,5.86,3.04,3.34,4.12,4.84,5.86,5.8,5.68,5.32,4.84,5.86,5.2,4.12,4.48,5.38,4.96,4.42,6.34,5.5,5.2,5.5,5.14,4.42,3.58,4.24,4.24,3.46,2.86,5.5,5.44,4.42,6.22,6.04,4.24,4.24,4.84,6.28,2.38,5.26,4.42,4.18,6.1,4.48,7.0,5.8,3.8200000000000003,6.04,5.86,5.92,4.84,4.48,5.38,5.62,5.68,5.08,6.16,5.62,5.5,5.2,4.96,4.72,3.4,4.9,4.66,4.66,6.7,5.74,5.5600000000000005,5.08,5.44,6.16,4.9,5.38,5.62,5.26,5.32,6.34,5.26,5.68,4.36,4.9,6.52,5.68,6.7,5.62,6.16,5.2,4.78,5.8,5.92,5.86,4.3,4.06,4.06,6.82,5.32,5.38,5.74,5.02,5.08,5.62,4.48,4.42,7.0,6.34,5.38,5.32,5.74,4.72,5.44,4.24,6.76,4.96,5.74,5.02,4.18,4.66,6.52,5.86,4.54,5.5,5.5,4.78,4.36,4.96,6.82,7.0,6.4,3.64,5.98,5.08,5.92,3.94,4.54,5.5,4.6,4.84,3.94,3.58,3.58,5.38,4.24,4.96,5.32,3.58,5.98,4.9,5.32,5.44,5.92,6.04,4.24,4.18,4.48,6.1,5.32,4.96,4.84,4.3,6.34,2.56,6.04,4.84,5.92,5.86,4.54,6.04,6.04,6.28,6.28,6.04,5.44,5.38,4.84,4.72,4.12,4.9,4.24,4.18,6.16,6.52,5.26,4.12,6.16,6.46,4.66,5.5600000000000005,4.84,4.18,4.48,5.32,5.44,6.04,6.52,5.2,4.3,5.5600000000000005,5.32,5.62,5.14,5.38,6.1,5.02,4.48,4.96,5.5600000000000005,6.22,5.08,3.94,5.2,5.92,4.12,5.44,4.0,6.04,4.9,5.62,5.02,4.96,4.78,5.5,5.68,5.2,5.08,4.96,7.0,2.44,4.84,4.9,4.96,6.04,5.92,5.38,5.62,5.32,4.06,5.14,5.08,4.36,4.06,6.7,6.4,4.36,5.32,3.94,4.9,5.62,3.76,7.0,5.2,4.66,3.7,4.54,5.14,3.76,4.3,5.62,4.36,4.78,5.68,5.62,5.26,4.84,7.0,4.78,3.46,5.68,5.74,6.22,4.48,5.86,5.38,5.2,5.14,5.38,4.12,4.06,6.4,4.48,5.86,5.74,6.04,4.78,5.26,6.4,5.98,4.48,5.68,4.12,3.22,4.78,5.38,6.22,4.12,4.96,4.9,5.44,5.98,5.44,4.24,5.44,4.12,5.44,5.44,2.86,6.04,6.7,4.42,4.18,4.12,5.44,3.88,4.3,4.12,4.42,3.34,6.4,5.44,5.68,5.2,7.0,3.52,5.02,6.1,6.04,6.16,4.72,3.7,4.3,5.62,5.2,6.46,4.6,5.8,4.0,4.66,4.78,5.62,6.94,6.46,5.68,5.14,5.74,5.44,6.04,4.24,4.72,4.84,5.5,6.1,3.58,5.08,4.3,5.32,5.08,3.52,6.34,4.0,5.08,4.54,4.42,5.38,6.1,3.7,4.36,5.2,6.4,5.02,5.5,4.54,6.7,4.12,5.14,5.5600000000000005,5.74,4.6,4.36,6.1,5.26,5.74,7.0,5.2,6.94,6.58,5.14,5.92,3.94,4.3,5.86,4.3,5.98,5.32,5.98,4.36,4.66,6.16,6.04,6.28,4.72,5.5,3.7,5.08,5.5600000000000005,3.88,4.6,3.04,4.0,4.84,3.58,4.96,6.52,5.5600000000000005,3.64,4.72,4.84,5.92,3.46,5.2,5.62,3.22,5.08,5.62,3.88,5.26,4.42,4.24,5.32,6.64,4.18,5.8,6.34,3.34,5.26,6.34,3.88,4.78,4.48,4.3,4.6,5.02,5.62,6.28,5.38,5.08,5.8,5.2,3.52,3.8200000000000003,4.6,5.5600000000000005,6.16,4.78,5.44,5.92,5.68,4.48,5.92,6.52,5.02,6.16,4.78,5.74,6.16,5.32,5.5,4.66,4.6,4.66,5.5,3.34,5.5,3.2800000000000002,6.04,4.72,4.72,6.76,3.8200000000000003,6.1,5.02,5.02,5.8,6.1,4.72,4.48,4.6,5.26,4.48,6.22,6.1,4.48,5.02,5.02,4.78,5.68,3.04,4.42,4.72,5.5600000000000005,5.68,4.18,4.06,4.72,6.04,4.6,6.04,5.38,5.32,6.4,4.96,5.98,4.9,5.44,5.32,2.44,6.52,4.72,4.6,4.42,4.9,5.5600000000000005,6.4,6.34,5.5600000000000005,6.82,5.2,4.96,6.16,5.98,6.16,6.7,6.82,4.06,4.96,4.96,7.0,5.44,4.24,5.02,4.6,5.86,6.4,5.86,4.6,4.18,4.12,4.48,5.14,6.22,5.98,5.32,5.02,5.5,4.84,4.78,5.02,5.44,7.0,4.84,5.5,5.5600000000000005,4.66,5.68,3.22,5.5600000000000005,5.2,5.26,5.08,5.2,4.96,4.9,6.52,4.3,4.36,5.5600000000000005,6.52,4.54,2.92,5.74,5.02,5.38,4.6,5.38,6.4,3.64,4.36,7.0,5.26,5.14,6.46,5.5600000000000005,4.3,5.5,6.04,5.02,4.6,4.48,5.74,5.14,6.7,5.68,4.72,5.86,5.86,5.68,5.14,3.76,5.8,5.32,4.48,5.32,6.76,5.5,5.44,4.54,3.46,4.48,4.66,4.96,5.02,6.04,5.92,4.72,4.84,4.9,2.02,5.02,6.16,5.02,7.0,4.48,4.42,4.06,5.44,5.92,4.9,5.92,4.96,5.32,4.3,4.36,6.34,3.88,4.12,4.54,3.04,5.38,5.92,4.96,5.86,5.32,6.22,6.82,5.44,5.5,5.02,5.32,4.84,5.5600000000000005,3.76,2.74,5.5,3.64,5.44,4.66,5.8],\"xaxis\":\"x2\",\"yaxis\":\"y2\"},{\"alignmentgroup\":\"True\",\"bingroup\":\"x\",\"hovertemplate\":\"variable=writing score<br>value=%{x}<br>count=%{y}<extra></extra>\",\"legendgroup\":\"writing score\",\"marker\":{\"color\":\"#00cc96\",\"pattern\":{\"shape\":\"\"}},\"name\":\"writing score\",\"offsetgroup\":\"writing score\",\"orientation\":\"v\",\"showlegend\":true,\"type\":\"histogram\",\"x\":[3.76,5.86,4.78,5.5600000000000005,6.22,5.14,4.84,3.46,4.66,5.26,5.92,5.2,4.48,5.32,4.72,5.08,3.76,5.44,4.6,5.08,5.62,7.0,5.44,4.3,5.8,5.2,5.5,5.02,5.68,6.28,6.1,5.44,4.9,4.24,4.72,4.72,4.24,4.78,4.6,2.62,5.5600000000000005,5.32,4.42,4.18,5.68,2.62,5.2,4.66,5.02,4.9,5.74,5.26,4.66,4.84,6.1,4.9,6.7,6.1,4.6,3.8200000000000003,4.0,4.36,4.12,6.28,5.92,4.66,4.9,6.52,6.16,5.38,5.68,6.46,5.86,6.58,4.48,5.2,4.18,5.68,6.28,3.52,5.44,5.02,5.62,5.68,4.6,5.98,4.66,5.44,4.96,4.84,5.2,4.06,5.2,4.54,5.98,4.24,6.1,7.0,5.32,3.58,4.78,5.92,5.26,4.9,5.68,3.58,5.44,4.6,6.1,4.66,5.5600000000000005,5.62,3.7,6.7,5.26,4.42,5.68,4.54,5.44,3.76,4.72,5.68,5.44,5.86,5.32,5.92,5.38,4.0,4.54,3.64,4.42,4.24,2.92,5.38,5.44,4.42,4.12,5.14,4.18,4.24,3.88,6.4,5.5,5.98,6.64,6.52,6.46,4.72,3.7,4.48,4.12,4.78,4.6,5.44,4.54,6.16,4.3,4.24,4.78,5.38,3.76,6.4,5.74,4.48,4.96,5.32,3.46,3.52,5.2,5.32,5.62,5.5600000000000005,5.02,6.1,4.96,4.24,5.32,5.08,6.1,5.5600000000000005,4.72,4.6,4.48,4.36,4.84,5.5,5.32,5.98,7.0,4.36,4.96,5.02,5.5600000000000005,6.76,5.08,5.8,6.22,4.12,5.92,3.8200000000000003,4.9,6.04,5.74,4.12,3.46,5.38,5.98,4.9,5.92,5.5600000000000005,5.74,3.16,2.98,3.7,4.48,5.74,5.38,5.38,5.2,4.66,5.5,5.08,3.94,4.84,5.38,5.08,4.36,6.16,5.14,4.96,5.2,5.44,4.36,3.7,4.42,3.7,3.8200000000000003,3.2800000000000002,5.68,5.14,4.06,6.4,6.4,4.06,4.48,4.96,6.64,2.14,5.14,4.36,3.76,5.92,4.42,7.0,5.86,4.24,6.46,5.8,6.04,5.2,4.12,5.08,5.38,5.74,5.2,6.04,5.44,5.14,5.5,5.2,5.08,3.64,5.14,5.08,5.08,6.34,5.32,4.9,4.96,5.14,5.92,5.14,5.14,5.38,5.32,5.62,6.16,5.5,5.8,4.24,5.08,6.58,5.38,6.52,5.44,6.88,5.2,5.38,5.5,5.62,5.86,4.12,4.06,4.06,6.76,4.72,5.44,5.5,4.66,5.02,5.62,3.64,4.72,7.0,6.34,5.8,5.68,5.62,4.66,5.32,5.02,6.16,4.66,5.8,5.02,4.18,4.3,6.22,5.26,4.0,5.86,5.44,4.24,4.3,4.6,6.76,6.58,6.46,3.52,5.98,4.96,5.86,3.46,4.36,5.62,4.48,4.96,4.12,3.8200000000000003,3.46,5.08,4.78,4.72,5.26,3.34,5.8,4.66,5.2,5.32,6.34,5.86,3.88,4.3,4.24,6.16,5.2,5.38,5.32,3.8200000000000003,6.28,2.32,5.8,4.96,5.8,5.98,4.0,6.22,6.1,6.22,6.1,6.22,5.2,5.02,5.2,4.66,4.06,4.66,3.88,4.42,6.22,6.34,4.9,4.12,5.8,6.28,4.12,5.8,5.08,3.8200000000000003,4.06,5.8,5.38,6.34,6.16,5.2,4.42,5.62,5.14,5.8,4.78,5.68,5.5600000000000005,5.38,4.12,4.96,5.44,5.92,4.9,3.76,5.14,5.5600000000000005,3.76,5.32,4.06,6.1,4.6,5.8,4.48,4.84,4.48,5.98,5.8,4.96,4.84,4.96,7.0,2.38,4.72,4.84,4.9,5.92,6.46,5.5,5.14,4.84,3.58,5.14,5.44,4.42,4.36,6.64,6.46,4.42,5.5600000000000005,4.0,4.78,5.74,3.64,6.7,5.26,4.42,3.46,4.72,5.08,3.58,4.24,5.5600000000000005,3.8200000000000003,4.84,5.5,5.68,5.38,4.42,6.7,4.96,3.2800000000000002,5.5600000000000005,5.74,5.92,4.9,6.16,5.38,4.9,5.5600000000000005,5.2,4.06,3.88,5.92,4.54,5.38,6.04,5.62,5.5,5.08,6.28,6.16,4.72,5.74,4.24,3.22,4.72,5.08,6.52,4.3,5.08,4.6,5.26,6.28,5.5,4.18,5.38,3.58,5.86,5.44,3.16,5.5,6.58,4.0,4.12,3.52,4.84,4.18,4.18,4.06,4.18,3.04,6.52,5.32,5.5600000000000005,4.96,7.0,3.2800000000000002,4.66,6.22,6.1,6.52,4.36,4.0,3.88,5.62,4.78,6.34,4.24,5.98,4.24,4.96,4.36,5.98,7.0,6.22,5.74,5.5,5.92,5.08,5.68,4.12,4.72,5.44,5.68,6.58,3.64,4.66,4.3,5.26,5.32,3.88,6.88,3.58,4.96,4.24,4.54,5.26,6.04,3.4,4.48,5.2,6.64,5.32,5.44,4.12,7.0,4.24,5.08,5.5,5.86,4.54,4.18,6.4,5.38,5.92,7.0,5.5600000000000005,6.7,6.58,5.08,5.74,4.06,3.94,6.04,4.78,5.68,5.44,5.62,4.36,4.6,6.4,5.92,6.1,4.84,5.2,3.7,5.14,5.5600000000000005,4.06,4.6,3.16,3.7,5.2,3.58,5.14,6.82,5.44,3.58,4.72,4.84,5.92,3.58,4.9,5.2,3.1,5.62,5.8,3.94,5.44,4.18,4.18,5.62,6.7,3.94,5.5,6.7,3.04,5.68,5.92,4.12,4.6,4.48,4.24,4.42,5.02,5.44,6.4,5.02,4.66,5.8,4.72,3.46,3.64,4.42,5.38,6.04,4.42,5.26,5.38,5.86,4.66,5.74,6.7,4.72,5.98,4.78,5.26,5.74,5.44,5.5600000000000005,4.24,4.6,4.48,5.68,3.04,5.62,2.62,6.16,5.14,4.66,6.94,3.94,5.5600000000000005,4.9,4.96,5.5600000000000005,6.16,4.96,4.3,4.78,5.8,3.8200000000000003,5.74,5.8,4.42,4.84,5.08,4.54,5.5,3.2800000000000002,4.12,4.96,5.44,5.74,4.3,4.3,4.84,5.86,4.3,5.92,5.08,4.84,6.28,5.38,5.98,4.3,5.62,5.74,1.9,6.04,4.78,4.9,4.36,4.66,5.68,6.58,6.04,5.02,6.76,5.5,5.02,6.34,5.68,5.98,6.16,6.64,4.12,4.6,4.72,6.94,5.5600000000000005,4.3,4.54,4.42,5.74,6.28,5.5600000000000005,5.44,3.58,4.06,4.6,4.9,5.86,5.74,5.2,4.66,5.2,5.02,4.84,5.14,5.5600000000000005,7.0,4.96,5.92,5.2,4.24,5.68,3.4,4.84,5.14,5.14,5.38,5.02,5.32,4.72,6.28,4.06,4.18,5.26,6.46,4.72,2.68,6.04,5.02,5.14,4.42,5.08,5.92,3.8200000000000003,4.12,6.94,5.2,5.02,5.86,5.08,3.94,5.8,5.5600000000000005,5.02,4.78,5.02,6.04,5.08,6.52,5.62,4.0,6.04,5.62,5.44,5.2,4.0,5.92,4.9,4.18,5.02,6.46,5.32,5.62,4.96,3.88,4.24,4.72,5.26,4.84,6.04,5.8,4.84,4.54,5.44,1.6,4.72,5.86,4.84,7.0,3.94,3.64,4.24,5.08,6.28,4.72,6.4,4.54,5.44,4.36,4.24,6.4,3.76,3.94,4.18,2.92,5.68,5.68,5.02,5.92,5.44,5.5,6.94,5.2,5.74,5.02,5.2,5.5,5.8,3.58,2.8,5.26,3.16,5.86,4.72,5.5600000000000005],\"xaxis\":\"x\",\"yaxis\":\"y\"},{\"alignmentgroup\":\"True\",\"customdata\":[[\"Rita Courtney\",\"female\",\"group B\",\"some high school\",\"standard\",\"none\",\"writing score\"],[\"Charles Linstrom\",\"male\",\"group A\",\"bachelor's degree\",\"standard\",\"completed\",\"writing score\"],[\"Brian Young\",\"male\",\"group C\",\"some high school\",\"standard\",\"none\",\"writing score\"],[\"Howard Jimenez\",\"male\",\"group E\",\"some high school\",\"standard\",\"completed\",\"writing score\"],[\"Wayne Wilson\",\"male\",\"group B\",\"some high school\",\"standard\",\"completed\",\"writing score\"],[\"Jonathan Clingan\",\"male\",\"group D\",\"some college\",\"standard\",\"completed\",\"writing score\"],[\"William Tang\",\"male\",\"group D\",\"associate's degree\",\"standard\",\"none\",\"writing score\"],[\"Mikki Amaya\",\"female\",\"group A\",\"high school\",\"free/reduced\",\"completed\",\"writing score\"],[\"Gerald Wilson\",\"male\",\"group A\",\"associate's degree\",\"standard\",\"none\",\"writing score\"],[\"Damon Mckee\",\"male\",\"group E\",\"high school\",\"standard\",\"none\",\"writing score\"],[\"Sophia Bijou\",\"female\",\"group D\",\"some high school\",\"standard\",\"completed\",\"writing score\"],[\"Monica Schwartz\",\"female\",\"group B\",\"associate's degree\",\"free/reduced\",\"none\",\"writing score\"],[\"Donald Upchurch\",\"male\",\"group C\",\"associate's degree\",\"standard\",\"none\",\"writing score\"],[\"Donald Dunnings\",\"male\",\"group D\",\"some high school\",\"standard\",\"none\",\"writing score\"],[\"Joseph Mccoy\",\"male\",\"group D\",\"some college\",\"free/reduced\",\"none\",\"writing score\"],[\"David Dupree\",\"male\",\"group B\",\"high school\",\"standard\",\"completed\",\"writing score\"],[\"Samuel Dougal\",\"male\",\"group C\",\"master's degree\",\"free/reduced\",\"completed\",\"writing score\"],[\"Richard Pina\",\"male\",\"group D\",\"master's degree\",\"standard\",\"none\",\"writing score\"],[\"Dale Sylvain\",\"male\",\"group D\",\"some college\",\"free/reduced\",\"none\",\"writing score\"],[\"Janine Taylor\",\"female\",\"group C\",\"associate's degree\",\"free/reduced\",\"none\",\"writing score\"],[\"Alexander Dillon\",\"male\",\"group D\",\"associate's degree\",\"standard\",\"none\",\"writing score\"],[\"Shanna Braswell\",\"female\",\"group D\",\"bachelor's degree\",\"free/reduced\",\"completed\",\"writing score\"],[\"Bonnie Ramos\",\"female\",\"group B\",\"high school\",\"standard\",\"completed\",\"writing score\"],[\"Connie Shinn\",\"female\",\"group B\",\"associate's degree\",\"free/reduced\",\"none\",\"writing score\"],[\"Daniel Cartwright\",\"male\",\"group C\",\"high school\",\"standard\",\"completed\",\"writing score\"],[\"Betty Buntin\",\"female\",\"group A\",\"bachelor's degree\",\"standard\",\"none\",\"writing score\"],[\"Francis Seibold\",\"male\",\"group B\",\"some high school\",\"standard\",\"completed\",\"writing score\"],[\"Arthur Byer\",\"male\",\"group D\",\"high school\",\"free/reduced\",\"completed\",\"writing score\"],[\"Willie Neff\",\"female\",\"group E\",\"associate's degree\",\"free/reduced\",\"none\",\"writing score\"],[\"Thelma Yeates\",\"female\",\"group E\",\"associate's degree\",\"free/reduced\",\"completed\",\"writing score\"],[\"Mary Piotrowski\",\"female\",\"group E\",\"some college\",\"free/reduced\",\"completed\",\"writing score\"],[\"Hazel Montoya\",\"female\",\"group D\",\"some college\",\"standard\",\"none\",\"writing score\"],[\"James Eury\",\"male\",\"group E\",\"some college\",\"standard\",\"none\",\"writing score\"],[\"Larry Dunn\",\"male\",\"group C\",\"some high school\",\"standard\",\"none\",\"writing score\"],[\"David Dunham\",\"male\",\"group A\",\"bachelor's degree\",\"standard\",\"none\",\"writing score\"],[\"Jeffery Wiedmann\",\"male\",\"group C\",\"some college\",\"standard\",\"none\",\"writing score\"],[\"Lisa Watters\",\"female\",\"group D\",\"master's degree\",\"free/reduced\",\"none\",\"writing score\"],[\"Katharine Kellum\",\"female\",\"group B\",\"high school\",\"free/reduced\",\"none\",\"writing score\"],[\"Marjorie Brown\",\"female\",\"group B\",\"high school\",\"standard\",\"none\",\"writing score\"],[\"Rodger Talavera\",\"male\",\"group B\",\"high school\",\"free/reduced\",\"none\",\"writing score\"],[\"Mary Jackson\",\"female\",\"group B\",\"bachelor's degree\",\"free/reduced\",\"none\",\"writing score\"],[\"Rebecca Dalton\",\"female\",\"group B\",\"some high school\",\"standard\",\"none\",\"writing score\"],[\"David Fisk\",\"male\",\"group D\",\"bachelor's degree\",\"standard\",\"none\",\"writing score\"],[\"Morris Johnson\",\"male\",\"group A\",\"associate's degree\",\"free/reduced\",\"completed\",\"writing score\"],[\"Rodrick Rasch\",\"male\",\"group E\",\"some high school\",\"standard\",\"none\",\"writing score\"],[\"Anthony Malcomb\",\"male\",\"group C\",\"some college\",\"free/reduced\",\"none\",\"writing score\"],[\"Joyce Amos\",\"female\",\"group C\",\"associate's degree\",\"standard\",\"none\",\"writing score\"],[\"Donald Chestnut\",\"male\",\"group C\",\"some college\",\"standard\",\"none\",\"writing score\"],[\"Lynne Rodgers\",\"female\",\"group D\",\"some college\",\"standard\",\"none\",\"writing score\"],[\"Diane Preister\",\"female\",\"group D\",\"some college\",\"free/reduced\",\"completed\",\"writing score\"],[\"Brenda Kitchin\",\"female\",\"group B\",\"some high school\",\"standard\",\"none\",\"writing score\"],[\"Susan Palmo\",\"female\",\"group C\",\"some college\",\"free/reduced\",\"completed\",\"writing score\"],[\"Edward Hohn\",\"male\",\"group C\",\"high school\",\"standard\",\"none\",\"writing score\"],[\"Donita Hill\",\"female\",\"group A\",\"bachelor's degree\",\"standard\",\"none\",\"writing score\"],[\"Natalie Turney\",\"female\",\"group E\",\"associate's degree\",\"standard\",\"none\",\"writing score\"],[\"Joe Burks\",\"male\",\"group E\",\"high school\",\"standard\",\"none\",\"writing score\"],[\"Kim Stallard\",\"female\",\"group C\",\"bachelor's degree\",\"standard\",\"completed\",\"writing score\"],[\"Dennis Campbell\",\"male\",\"group C\",\"master's degree\",\"standard\",\"completed\",\"writing score\"],[\"Alan Mccloud\",\"male\",\"group B\",\"some college\",\"free/reduced\",\"completed\",\"writing score\"],[\"Troy Kittleson\",\"male\",\"group B\",\"high school\",\"free/reduced\",\"none\",\"writing score\"],[\"Ann Pence\",\"female\",\"group B\",\"associate's degree\",\"standard\",\"none\",\"writing score\"],[\"William Austin\",\"male\",\"group C\",\"associate's degree\",\"standard\",\"completed\",\"writing score\"],[\"Shaun Johnson\",\"male\",\"group C\",\"associate's degree\",\"standard\",\"none\",\"writing score\"],[\"Darryl Ruble\",\"male\",\"group E\",\"associate's degree\",\"standard\",\"completed\",\"writing score\"],[\"Harry Berry\",\"male\",\"group B\",\"associate's degree\",\"standard\",\"completed\",\"writing score\"],[\"Logan Camp\",\"male\",\"group C\",\"associate's degree\",\"free/reduced\",\"none\",\"writing score\"],[\"Margaret Spannaus\",\"female\",\"group C\",\"high school\",\"free/reduced\",\"completed\",\"writing score\"],[\"Joseph Dean\",\"male\",\"group C\",\"bachelor's degree\",\"standard\",\"completed\",\"writing score\"],[\"Leon Shipley\",\"male\",\"group B\",\"some college\",\"standard\",\"completed\",\"writing score\"],[\"Cathy Kuhl\",\"female\",\"group E\",\"high school\",\"free/reduced\",\"completed\",\"writing score\"],[\"Sylvester Beveridge\",\"male\",\"group E\",\"some high school\",\"standard\",\"none\",\"writing score\"],[\"Joseph Sisk\",\"male\",\"group C\",\"associate's degree\",\"standard\",\"none\",\"writing score\"],[\"Debra Fannin\",\"female\",\"group B\",\"bachelor's degree\",\"standard\",\"completed\",\"writing score\"],[\"Susan Cook\",\"female\",\"group C\",\"associate's degree\",\"free/reduced\",\"completed\",\"writing score\"],[\"Andrew Duran\",\"male\",\"group D\",\"some college\",\"standard\",\"none\",\"writing score\"],[\"Tina Spillman\",\"female\",\"group C\",\"associate's degree\",\"standard\",\"none\",\"writing score\"],[\"John Salter\",\"male\",\"group D\",\"some college\",\"standard\",\"none\",\"writing score\"],[\"Francisco Johnson\",\"male\",\"group B\",\"associate's degree\",\"standard\",\"completed\",\"writing score\"],[\"Audrey Vargas\",\"female\",\"group D\",\"associate's degree\",\"free/reduced\",\"completed\",\"writing score\"],[\"Brian Green\",\"male\",\"group C\",\"some college\",\"standard\",\"none\",\"writing score\"],[\"Rodney Guerrera\",\"male\",\"group D\",\"bachelor's degree\",\"standard\",\"none\",\"writing score\"],[\"Floyd Annino\",\"male\",\"group B\",\"some high school\",\"standard\",\"none\",\"writing score\"],[\"Vickie Sellers\",\"female\",\"group D\",\"some college\",\"standard\",\"completed\",\"writing score\"],[\"Estelle Jackson\",\"female\",\"group E\",\"high school\",\"free/reduced\",\"completed\",\"writing score\"],[\"Sergio Littlejohn\",\"male\",\"group B\",\"associate's degree\",\"free/reduced\",\"none\",\"writing score\"],[\"Norman Arnold\",\"male\",\"group E\",\"some college\",\"free/reduced\",\"none\",\"writing score\"],[\"Bruce Tang\",\"male\",\"group C\",\"bachelor's degree\",\"standard\",\"none\",\"writing score\"],[\"Heather Cunningham\",\"female\",\"group C\",\"some college\",\"standard\",\"none\",\"writing score\"],[\"Tamara Mckinney\",\"female\",\"group C\",\"some college\",\"free/reduced\",\"none\",\"writing score\"],[\"David Okeeffe\",\"male\",\"group A\",\"some high school\",\"standard\",\"completed\",\"writing score\"],[\"Martha Johnson\",\"female\",\"group E\",\"some college\",\"standard\",\"none\",\"writing score\"],[\"Kathy Castro\",\"female\",\"group C\",\"some high school\",\"free/reduced\",\"none\",\"writing score\"],[\"Ayana Childs\",\"female\",\"group E\",\"bachelor's degree\",\"standard\",\"completed\",\"writing score\"],[\"Robert Miranda\",\"male\",\"group C\",\"high school\",\"free/reduced\",\"none\",\"writing score\"],[\"Katrina Wilcox\",\"female\",\"group E\",\"bachelor's degree\",\"standard\",\"none\",\"writing score\"],[\"Robert Wallace\",\"male\",\"group B\",\"bachelor's degree\",\"free/reduced\",\"none\",\"writing score\"],[\"John Echols\",\"male\",\"group D\",\"associate's degree\",\"standard\",\"none\",\"writing score\"],[\"Ana Loredo\",\"female\",\"group E\",\"master's degree\",\"standard\",\"completed\",\"writing score\"],[\"Bobby Labounty\",\"male\",\"group B\",\"associate's degree\",\"standard\",\"none\",\"writing score\"],[\"Carl Caruthers\",\"male\",\"group A\",\"some college\",\"standard\",\"none\",\"writing score\"],[\"Lessie Thompson\",\"female\",\"group A\",\"high school\",\"standard\",\"none\",\"writing score\"],[\"Pamela Cannady\",\"female\",\"group B\",\"bachelor's degree\",\"free/reduced\",\"none\",\"writing score\"],[\"Stacy Wickman\",\"female\",\"group E\",\"high school\",\"standard\",\"none\",\"writing score\"],[\"Matthew Harris\",\"male\",\"group A\",\"bachelor's degree\",\"free/reduced\",\"none\",\"writing score\"],[\"Melissa Flores\",\"female\",\"group D\",\"some college\",\"free/reduced\",\"completed\",\"writing score\"],[\"Scott Mercer\",\"male\",\"group E\",\"some college\",\"standard\",\"none\",\"writing score\"],[\"Ethel Kirby\",\"female\",\"group D\",\"bachelor's degree\",\"free/reduced\",\"none\",\"writing score\"],[\"Karen Ogburn\",\"female\",\"group A\",\"high school\",\"free/reduced\",\"completed\",\"writing score\"],[\"Marilyn Provino\",\"female\",\"group E\",\"some high school\",\"standard\",\"completed\",\"writing score\"],[\"Jose Hines\",\"male\",\"group D\",\"some high school\",\"standard\",\"none\",\"writing score\"],[\"Ma Smith\",\"female\",\"group C\",\"some college\",\"standard\",\"none\",\"writing score\"],[\"Audrey Mcdonald\",\"female\",\"group D\",\"some college\",\"standard\",\"none\",\"writing score\"],[\"Paul Sherrill\",\"male\",\"group B\",\"high school\",\"free/reduced\",\"none\",\"writing score\"],[\"Judith Foster\",\"female\",\"group C\",\"bachelor's degree\",\"standard\",\"none\",\"writing score\"],[\"Janice Wells\",\"female\",\"group D\",\"high school\",\"free/reduced\",\"completed\",\"writing score\"],[\"Anthony Murphy\",\"male\",\"group E\",\"high school\",\"standard\",\"none\",\"writing score\"],[\"Denise Chavez\",\"female\",\"group B\",\"high school\",\"standard\",\"completed\",\"writing score\"],[\"Dan Atchley\",\"male\",\"group C\",\"associate's degree\",\"free/reduced\",\"none\",\"writing score\"],[\"Carmen Tenery\",\"female\",\"group C\",\"associate's degree\",\"free/reduced\",\"none\",\"writing score\"],[\"Richard Harden\",\"male\",\"group D\",\"some college\",\"free/reduced\",\"none\",\"writing score\"],[\"Patricia Hearn\",\"female\",\"group D\",\"some college\",\"free/reduced\",\"none\",\"writing score\"],[\"Audrey Darby\",\"female\",\"group D\",\"some high school\",\"standard\",\"completed\",\"writing score\"],[\"Vivian Elliott\",\"female\",\"group A\",\"associate's degree\",\"standard\",\"completed\",\"writing score\"],[\"Joanna Gardner\",\"female\",\"group C\",\"bachelor's degree\",\"standard\",\"none\",\"writing score\"],[\"Alan Roll\",\"male\",\"group E\",\"bachelor's degree\",\"free/reduced\",\"completed\",\"writing score\"],[\"Lisa Forry\",\"female\",\"group E\",\"bachelor's degree\",\"standard\",\"completed\",\"writing score\"],[\"Jacqueline Mcneill\",\"female\",\"group A\",\"master's degree\",\"free/reduced\",\"none\",\"writing score\"],[\"Russell Newlin\",\"male\",\"group D\",\"high school\",\"standard\",\"none\",\"writing score\"],[\"Matthew Aucoin\",\"male\",\"group E\",\"some college\",\"standard\",\"none\",\"writing score\"],[\"Alicia Ratliff\",\"female\",\"group B\",\"some high school\",\"standard\",\"completed\",\"writing score\"],[\"Jason Throneberry\",\"male\",\"group E\",\"some high school\",\"standard\",\"completed\",\"writing score\"],[\"Eric Mitchell\",\"male\",\"group C\",\"some college\",\"free/reduced\",\"none\",\"writing score\"],[\"Patricia Briney\",\"female\",\"group B\",\"some college\",\"standard\",\"none\",\"writing score\"],[\"Christine Everhart\",\"female\",\"group D\",\"high school\",\"standard\",\"none\",\"writing score\"],[\"Daniel Adams\",\"male\",\"group D\",\"associate's degree\",\"standard\",\"none\",\"writing score\"],[\"Carmen Tyson\",\"female\",\"group E\",\"some college\",\"free/reduced\",\"none\",\"writing score\"],[\"John Johnson\",\"male\",\"group A\",\"some college\",\"standard\",\"completed\",\"writing score\"],[\"Curt Ruiz\",\"male\",\"group C\",\"some high school\",\"standard\",\"completed\",\"writing score\"],[\"Amy Cook\",\"female\",\"group C\",\"associate's degree\",\"standard\",\"none\",\"writing score\"],[\"Chanelle Mauricio\",\"female\",\"group E\",\"master's degree\",\"free/reduced\",\"none\",\"writing score\"],[\"Chris Chauncey\",\"male\",\"group D\",\"high school\",\"free/reduced\",\"none\",\"writing score\"],[\"Arlene Calhoun\",\"female\",\"group C\",\"some college\",\"standard\",\"none\",\"writing score\"],[\"Therese Dobbins\",\"female\",\"group C\",\"some high school\",\"free/reduced\",\"completed\",\"writing score\"],[\"Alfred Penn\",\"male\",\"group D\",\"bachelor's degree\",\"standard\",\"none\",\"writing score\"],[\"Kelly Summers\",\"female\",\"group C\",\"some college\",\"standard\",\"completed\",\"writing score\"],[\"Earl Rodriguez\",\"male\",\"group B\",\"associate's degree\",\"standard\",\"completed\",\"writing score\"],[\"Ulrike Davidson\",\"female\",\"group C\",\"some college\",\"standard\",\"none\",\"writing score\"],[\"Autumn Miller\",\"female\",\"group D\",\"high school\",\"standard\",\"none\",\"writing score\"],[\"Julie Watkins\",\"female\",\"group E\",\"some high school\",\"free/reduced\",\"none\",\"writing score\"],[\"Marie Mcgovern\",\"female\",\"group D\",\"associate's degree\",\"free/reduced\",\"none\",\"writing score\"],[\"Mark Lewis\",\"male\",\"group E\",\"some college\",\"standard\",\"none\",\"writing score\"],[\"Ana Rodriguez\",\"female\",\"group C\",\"high school\",\"standard\",\"none\",\"writing score\"],[\"Duane Baisley\",\"male\",\"group B\",\"high school\",\"standard\",\"none\",\"writing score\"],[\"Mable Collins\",\"female\",\"group D\",\"associate's degree\",\"standard\",\"none\",\"writing score\"],[\"Concepcion Burkett\",\"female\",\"group D\",\"high school\",\"standard\",\"none\",\"writing score\"],[\"Kari Mitchell\",\"female\",\"group D\",\"some college\",\"free/reduced\",\"none\",\"writing score\"],[\"David Davis\",\"male\",\"group C\",\"bachelor's degree\",\"free/reduced\",\"none\",\"writing score\"],[\"Harry Murphy\",\"male\",\"group A\",\"high school\",\"standard\",\"none\",\"writing score\"],[\"Casey Brenneman\",\"male\",\"group E\",\"associate's degree\",\"standard\",\"none\",\"writing score\"],[\"Donald Griffin\",\"male\",\"group D\",\"some college\",\"standard\",\"none\",\"writing score\"],[\"Michael Reel\",\"male\",\"group D\",\"high school\",\"standard\",\"none\",\"writing score\"],[\"Cheryl Leonard\",\"female\",\"group E\",\"high school\",\"standard\",\"none\",\"writing score\"],[\"Judith Lindsay\",\"female\",\"group C\",\"bachelor's degree\",\"free/reduced\",\"completed\",\"writing score\"],[\"Anthony Casey\",\"male\",\"group A\",\"bachelor's degree\",\"standard\",\"none\",\"writing score\"],[\"Michele Montgomery\",\"female\",\"group C\",\"bachelor's degree\",\"standard\",\"completed\",\"writing score\"],[\"James Deluca\",\"male\",\"group D\",\"bachelor's degree\",\"standard\",\"none\",\"writing score\"],[\"Gary Spencer\",\"male\",\"group B\",\"some high school\",\"standard\",\"completed\",\"writing score\"],[\"Michael Mederos\",\"male\",\"group C\",\"high school\",\"standard\",\"none\",\"writing score\"],[\"Thelma Kabat\",\"female\",\"group E\",\"bachelor's degree\",\"standard\",\"none\",\"writing score\"],[\"Maxine Walton\",\"female\",\"group E\",\"some high school\",\"free/reduced\",\"none\",\"writing score\"],[\"Rosalind Knauer\",\"female\",\"group C\",\"associate's degree\",\"standard\",\"completed\",\"writing score\"],[\"Tanya Favela\",\"female\",\"group D\",\"associate's degree\",\"free/reduced\",\"completed\",\"writing score\"],[\"Joseph Guerriero\",\"male\",\"group D\",\"high school\",\"free/reduced\",\"none\",\"writing score\"],[\"Mollie Vasquez\",\"female\",\"group C\",\"some high school\",\"standard\",\"completed\",\"writing score\"],[\"Darrell Xiong\",\"male\",\"group D\",\"high school\",\"free/reduced\",\"none\",\"writing score\"],[\"Callie Mork\",\"female\",\"group C\",\"bachelor's degree\",\"free/reduced\",\"completed\",\"writing score\"],[\"Shelby Flores\",\"male\",\"group D\",\"associate's degree\",\"standard\",\"none\",\"writing score\"],[\"Virginia Griest\",\"female\",\"group C\",\"high school\",\"standard\",\"none\",\"writing score\"],[\"David Moss\",\"male\",\"group D\",\"some college\",\"standard\",\"completed\",\"writing score\"],[\"Rebecca Souliere\",\"female\",\"group D\",\"associate's degree\",\"free/reduced\",\"none\",\"writing score\"],[\"Ashley Atkinson\",\"female\",\"group C\",\"bachelor's degree\",\"free/reduced\",\"none\",\"writing score\"],[\"Tina Willis\",\"female\",\"group C\",\"high school\",\"free/reduced\",\"none\",\"writing score\"],[\"Shawn Lopez\",\"male\",\"group D\",\"some college\",\"standard\",\"completed\",\"writing score\"],[\"Ivan King\",\"male\",\"group D\",\"some college\",\"free/reduced\",\"none\",\"writing score\"],[\"Caroline Atchison\",\"female\",\"group C\",\"high school\",\"free/reduced\",\"completed\",\"writing score\"],[\"Joel Reed\",\"male\",\"group D\",\"some high school\",\"standard\",\"completed\",\"writing score\"],[\"David Lafave\",\"male\",\"group C\",\"associate's degree\",\"standard\",\"completed\",\"writing score\"],[\"Audrey Love\",\"female\",\"group B\",\"bachelor's degree\",\"standard\",\"none\",\"writing score\"],[\"Emma Brasher\",\"female\",\"group D\",\"some high school\",\"standard\",\"completed\",\"writing score\"],[\"Michael Young\",\"male\",\"group B\",\"associate's degree\",\"free/reduced\",\"none\",\"writing score\"],[\"Georgia Collins\",\"female\",\"group B\",\"some high school\",\"standard\",\"none\",\"writing score\"],[\"Denise Potts\",\"female\",\"group A\",\"some college\",\"standard\",\"none\",\"writing score\"],[\"Donna Cortez\",\"female\",\"group C\",\"high school\",\"standard\",\"none\",\"writing score\"],[\"Barbar Gonzalez\",\"female\",\"group D\",\"master's degree\",\"standard\",\"none\",\"writing score\"],[\"Andrew Bledsoe\",\"male\",\"group E\",\"some college\",\"standard\",\"completed\",\"writing score\"],[\"James Cambron\",\"male\",\"group D\",\"some high school\",\"standard\",\"none\",\"writing score\"],[\"Marybeth Mazzone\",\"female\",\"group B\",\"associate's degree\",\"free/reduced\",\"completed\",\"writing score\"],[\"Mary Nelson\",\"female\",\"group C\",\"high school\",\"standard\",\"none\",\"writing score\"],[\"Lucille Stanphill\",\"female\",\"group C\",\"high school\",\"standard\",\"none\",\"writing score\"],[\"Jim Burkhart\",\"male\",\"group D\",\"bachelor's degree\",\"standard\",\"none\",\"writing score\"],[\"Maria Holscher\",\"female\",\"group B\",\"associate's degree\",\"standard\",\"none\",\"writing score\"],[\"Steven Kelly\",\"male\",\"group D\",\"some college\",\"standard\",\"none\",\"writing score\"],[\"Eileen Parra\",\"female\",\"group B\",\"some high school\",\"free/reduced\",\"none\",\"writing score\"],[\"Charles Smith\",\"male\",\"group D\",\"some college\",\"standard\",\"none\",\"writing score\"],[\"William Saska\",\"male\",\"group B\",\"associate's degree\",\"standard\",\"none\",\"writing score\"],[\"Anna Lauterbach\",\"female\",\"group C\",\"associate's degree\",\"standard\",\"none\",\"writing score\"],[\"Ruth Bolduc\",\"female\",\"group D\",\"bachelor's degree\",\"standard\",\"completed\",\"writing score\"],[\"David Osteen\",\"male\",\"group C\",\"high school\",\"standard\",\"none\",\"writing score\"],[\"Edward Lee\",\"male\",\"group D\",\"some high school\",\"standard\",\"completed\",\"writing score\"],[\"Rosemary Pratt\",\"female\",\"group B\",\"associate's degree\",\"standard\",\"none\",\"writing score\"],[\"Arthur William\",\"male\",\"group E\",\"associate's degree\",\"standard\",\"completed\",\"writing score\"],[\"Gerald Brunner\",\"male\",\"group D\",\"high school\",\"standard\",\"none\",\"writing score\"],[\"Barbara Henriques\",\"female\",\"group C\",\"some college\",\"free/reduced\",\"none\",\"writing score\"],[\"John Moreno\",\"male\",\"group B\",\"some high school\",\"free/reduced\",\"none\",\"writing score\"],[\"Leona Cohen\",\"female\",\"group A\",\"some high school\",\"free/reduced\",\"none\",\"writing score\"],[\"Benjamin Finch\",\"male\",\"group C\",\"bachelor's degree\",\"standard\",\"completed\",\"writing score\"],[\"John Greenway\",\"male\",\"group C\",\"some high school\",\"standard\",\"completed\",\"writing score\"],[\"Thomas Schweitzer\",\"male\",\"group D\",\"associate's degree\",\"free/reduced\",\"none\",\"writing score\"],[\"Allison Tankersley\",\"female\",\"group C\",\"some college\",\"free/reduced\",\"none\",\"writing score\"],[\"Solomon Washington\",\"male\",\"group B\",\"some high school\",\"standard\",\"none\",\"writing score\"],[\"Robert Taylor\",\"male\",\"group E\",\"high school\",\"free/reduced\",\"completed\",\"writing score\"],[\"Pamela Tanguay\",\"female\",\"group B\",\"high school\",\"standard\",\"completed\",\"writing score\"],[\"Adam Romero\",\"male\",\"group C\",\"high school\",\"standard\",\"completed\",\"writing score\"],[\"Sarah Mcbride\",\"female\",\"group D\",\"high school\",\"standard\",\"completed\",\"writing score\"],[\"Denise Harstad\",\"female\",\"group C\",\"some high school\",\"standard\",\"none\",\"writing score\"],[\"Frank Moran\",\"male\",\"group B\",\"some college\",\"standard\",\"completed\",\"writing score\"],[\"Florencia Morrison\",\"female\",\"group A\",\"associate's degree\",\"free/reduced\",\"none\",\"writing score\"],[\"Charles Johnson\",\"male\",\"group C\",\"high school\",\"standard\",\"none\",\"writing score\"],[\"Mark Wilson\",\"male\",\"group C\",\"high school\",\"standard\",\"none\",\"writing score\"],[\"James Lydon\",\"male\",\"group A\",\"high school\",\"standard\",\"none\",\"writing score\"],[\"Judith Malone\",\"female\",\"group B\",\"some college\",\"free/reduced\",\"completed\",\"writing score\"],[\"Vanessa Welch\",\"female\",\"group C\",\"high school\",\"standard\",\"none\",\"writing score\"],[\"Leona Martinez\",\"female\",\"group D\",\"high school\",\"free/reduced\",\"completed\",\"writing score\"],[\"Kermit Gates\",\"male\",\"group B\",\"associate's degree\",\"standard\",\"none\",\"writing score\"],[\"Lawrence Cormier\",\"male\",\"group B\",\"associate's degree\",\"standard\",\"none\",\"writing score\"],[\"Michael Gaccione\",\"male\",\"group B\",\"some college\",\"free/reduced\",\"none\",\"writing score\"],[\"Paula Barriere\",\"female\",\"group D\",\"bachelor's degree\",\"free/reduced\",\"none\",\"writing score\"],[\"Marina Smith\",\"female\",\"group D\",\"associate's degree\",\"free/reduced\",\"none\",\"writing score\"],[\"Kathryn Dale\",\"female\",\"group B\",\"some college\",\"standard\",\"none\",\"writing score\"],[\"Larry Werts\",\"male\",\"group D\",\"some high school\",\"standard\",\"none\",\"writing score\"],[\"Stanley Warren\",\"male\",\"group D\",\"high school\",\"free/reduced\",\"none\",\"writing score\"],[\"Clyde Gay\",\"male\",\"group C\",\"associate's degree\",\"standard\",\"completed\",\"writing score\"],[\"Walter Ortiz\",\"male\",\"group C\",\"some college\",\"standard\",\"completed\",\"writing score\"],[\"Jose Dunagan\",\"male\",\"group B\",\"bachelor's degree\",\"standard\",\"none\",\"writing score\"],[\"Aurelia Spaulding\",\"female\",\"group B\",\"high school\",\"free/reduced\",\"completed\",\"writing score\"],[\"Ray Juul\",\"male\",\"group D\",\"some college\",\"standard\",\"none\",\"writing score\"],[\"Sherri Turner\",\"female\",\"group E\",\"associate's degree\",\"standard\",\"completed\",\"writing score\"],[\"John Gunter\",\"male\",\"group A\",\"some college\",\"free/reduced\",\"none\",\"writing score\"],[\"Lorene Hall\",\"female\",\"group D\",\"some college\",\"free/reduced\",\"none\",\"writing score\"],[\"Victor Kinkead\",\"male\",\"group C\",\"some high school\",\"free/reduced\",\"none\",\"writing score\"],[\"Sara Ray\",\"female\",\"group C\",\"high school\",\"free/reduced\",\"none\",\"writing score\"],[\"Ronald Mason\",\"male\",\"group E\",\"associate's degree\",\"standard\",\"completed\",\"writing score\"],[\"Dawn Cummings\",\"female\",\"group C\",\"associate's degree\",\"standard\",\"none\",\"writing score\"],[\"Elizabeth Beasley\",\"female\",\"group E\",\"bachelor's degree\",\"standard\",\"none\",\"writing score\"],[\"Maribel Gates\",\"female\",\"group B\",\"high school\",\"free/reduced\",\"completed\",\"writing score\"],[\"Scott Oviedo\",\"male\",\"group A\",\"some college\",\"free/reduced\",\"completed\",\"writing score\"],[\"Gaylene Hunt\",\"female\",\"group D\",\"some college\",\"standard\",\"completed\",\"writing score\"],[\"Doris Arujo\",\"female\",\"group C\",\"some college\",\"standard\",\"none\",\"writing score\"],[\"Christopher Martinez\",\"male\",\"group C\",\"bachelor's degree\",\"standard\",\"completed\",\"writing score\"],[\"Kimberly Vega\",\"female\",\"group D\",\"master's degree\",\"standard\",\"none\",\"writing score\"],[\"Jennifer Koczera\",\"female\",\"group C\",\"some high school\",\"free/reduced\",\"none\",\"writing score\"],[\"Julian Burke\",\"male\",\"group D\",\"high school\",\"standard\",\"none\",\"writing score\"],[\"Kimberly Moberg\",\"female\",\"group D\",\"associate's degree\",\"standard\",\"none\",\"writing score\"],[\"Shirley Damon\",\"female\",\"group C\",\"bachelor's degree\",\"free/reduced\",\"none\",\"writing score\"],[\"Kathleen Taylor\",\"female\",\"group C\",\"associate's degree\",\"free/reduced\",\"completed\",\"writing score\"],[\"Ann Cain\",\"female\",\"group C\",\"associate's degree\",\"standard\",\"completed\",\"writing score\"],[\"Josh Moore\",\"male\",\"group C\",\"high school\",\"standard\",\"none\",\"writing score\"],[\"David Carnagey\",\"male\",\"group D\",\"associate's degree\",\"standard\",\"none\",\"writing score\"],[\"Viola Santiago\",\"female\",\"group D\",\"master's degree\",\"standard\",\"none\",\"writing score\"],[\"Mary Levy\",\"female\",\"group D\",\"some college\",\"free/reduced\",\"none\",\"writing score\"],[\"Terry Wingerd\",\"female\",\"group E\",\"high school\",\"free/reduced\",\"none\",\"writing score\"],[\"Flossie Streeter\",\"female\",\"group C\",\"some high school\",\"free/reduced\",\"completed\",\"writing score\"],[\"Kimberly Bradford\",\"female\",\"group B\",\"bachelor's degree\",\"standard\",\"none\",\"writing score\"],[\"Erica Maynard\",\"female\",\"group D\",\"master's degree\",\"standard\",\"none\",\"writing score\"],[\"David Haffner\",\"male\",\"group D\",\"bachelor's degree\",\"standard\",\"completed\",\"writing score\"],[\"Anna Cotman\",\"female\",\"group D\",\"associate's degree\",\"standard\",\"none\",\"writing score\"],[\"Mary Trager\",\"female\",\"group C\",\"bachelor's degree\",\"standard\",\"completed\",\"writing score\"],[\"Joseph Agustin\",\"male\",\"group C\",\"some high school\",\"free/reduced\",\"none\",\"writing score\"],[\"Thomas Watson\",\"male\",\"group D\",\"high school\",\"free/reduced\",\"completed\",\"writing score\"],[\"Aaron Oakden\",\"male\",\"group D\",\"high school\",\"free/reduced\",\"none\",\"writing score\"],[\"Maritza Gasaway\",\"female\",\"group D\",\"some high school\",\"standard\",\"none\",\"writing score\"],[\"Gail Cassady\",\"female\",\"group E\",\"associate's degree\",\"standard\",\"none\",\"writing score\"],[\"Joe Thomas\",\"male\",\"group E\",\"high school\",\"standard\",\"none\",\"writing score\"],[\"Charles Suggs\",\"male\",\"group C\",\"some college\",\"free/reduced\",\"none\",\"writing score\"],[\"Henry Mcgowen\",\"male\",\"group E\",\"some college\",\"standard\",\"none\",\"writing score\"],[\"Greg Westerberg\",\"male\",\"group D\",\"associate's degree\",\"standard\",\"completed\",\"writing score\"],[\"Sherri Todd\",\"female\",\"group D\",\"some college\",\"free/reduced\",\"none\",\"writing score\"],[\"Karen Flye\",\"female\",\"group D\",\"some high school\",\"standard\",\"none\",\"writing score\"],[\"Judith Mckay\",\"female\",\"group C\",\"some college\",\"standard\",\"completed\",\"writing score\"],[\"Celeste Petch\",\"female\",\"group E\",\"associate's degree\",\"free/reduced\",\"none\",\"writing score\"],[\"Charles Dearing\",\"male\",\"group B\",\"high school\",\"standard\",\"completed\",\"writing score\"],[\"Molly House\",\"female\",\"group C\",\"some high school\",\"standard\",\"completed\",\"writing score\"],[\"Michael Bashaw\",\"male\",\"group C\",\"bachelor's degree\",\"standard\",\"none\",\"writing score\"],[\"Tracy Fowler\",\"female\",\"group E\",\"associate's degree\",\"standard\",\"none\",\"writing score\"],[\"Aletha Bonds\",\"female\",\"group C\",\"associate's degree\",\"standard\",\"none\",\"writing score\"],[\"Carmen Simcoe\",\"female\",\"group D\",\"some college\",\"standard\",\"completed\",\"writing score\"],[\"Milton Chaput\",\"male\",\"group D\",\"high school\",\"standard\",\"none\",\"writing score\"],[\"Denise Mcdonald\",\"female\",\"group D\",\"some college\",\"free/reduced\",\"completed\",\"writing score\"],[\"Osvaldo Barraza\",\"male\",\"group D\",\"some high school\",\"standard\",\"none\",\"writing score\"],[\"Nicole Roberts\",\"female\",\"group C\",\"some college\",\"standard\",\"completed\",\"writing score\"],[\"Agnes Dobbs\",\"female\",\"group C\",\"master's degree\",\"free/reduced\",\"completed\",\"writing score\"],[\"Richard Henry\",\"male\",\"group D\",\"associate's degree\",\"standard\",\"none\",\"writing score\"],[\"Marvin Cooper\",\"male\",\"group C\",\"associate's degree\",\"free/reduced\",\"none\",\"writing score\"],[\"Daniel Deas\",\"male\",\"group C\",\"high school\",\"free/reduced\",\"completed\",\"writing score\"],[\"Jeanine Diaz\",\"female\",\"group B\",\"bachelor's degree\",\"standard\",\"none\",\"writing score\"],[\"Alfonzo Kellar\",\"male\",\"group C\",\"some high school\",\"standard\",\"none\",\"writing score\"],[\"Richard Royals\",\"male\",\"group A\",\"high school\",\"standard\",\"completed\",\"writing score\"],[\"Matthew Mcdonald\",\"male\",\"group D\",\"bachelor's degree\",\"free/reduced\",\"completed\",\"writing score\"],[\"Nancy Sumler\",\"female\",\"group D\",\"some high school\",\"standard\",\"none\",\"writing score\"],[\"Evan Ammons\",\"male\",\"group D\",\"bachelor's degree\",\"free/reduced\",\"none\",\"writing score\"],[\"Jamie Jackson\",\"male\",\"group C\",\"associate's degree\",\"standard\",\"completed\",\"writing score\"],[\"Travis Shoun\",\"male\",\"group A\",\"high school\",\"free/reduced\",\"none\",\"writing score\"],[\"Randy Mccarthy\",\"male\",\"group E\",\"associate's degree\",\"standard\",\"none\",\"writing score\"],[\"Emma Gray\",\"female\",\"group E\",\"bachelor's degree\",\"standard\",\"completed\",\"writing score\"],[\"Sara Kochan\",\"female\",\"group D\",\"bachelor's degree\",\"standard\",\"none\",\"writing score\"],[\"Edward Lowman\",\"male\",\"group E\",\"associate's degree\",\"free/reduced\",\"completed\",\"writing score\"],[\"Corey Brown\",\"male\",\"group C\",\"associate's degree\",\"standard\",\"none\",\"writing score\"],[\"Jacqueline Mayrant\",\"female\",\"group E\",\"some high school\",\"free/reduced\",\"none\",\"writing score\"],[\"Joseph Holsapple\",\"male\",\"group A\",\"some high school\",\"free/reduced\",\"completed\",\"writing score\"],[\"Edward Hutcheson\",\"male\",\"group A\",\"master's degree\",\"free/reduced\",\"none\",\"writing score\"],[\"Aimee Tamayo\",\"female\",\"group C\",\"some high school\",\"standard\",\"completed\",\"writing score\"],[\"Raymond Stuart\",\"male\",\"group A\",\"some college\",\"standard\",\"completed\",\"writing score\"],[\"Ralph Cleveland\",\"male\",\"group C\",\"bachelor's degree\",\"free/reduced\",\"none\",\"writing score\"],[\"Helen Pince\",\"female\",\"group E\",\"some high school\",\"standard\",\"none\",\"writing score\"],[\"Stephen Boers\",\"male\",\"group C\",\"master's degree\",\"standard\",\"none\",\"writing score\"],[\"Heather Banks\",\"female\",\"group C\",\"associate's degree\",\"standard\",\"none\",\"writing score\"],[\"Jeffrey Massa\",\"male\",\"group A\",\"associate's degree\",\"free/reduced\",\"none\",\"writing score\"],[\"Marguerite Ramos\",\"female\",\"group C\",\"bachelor's degree\",\"standard\",\"none\",\"writing score\"],[\"Frank Barrera\",\"male\",\"group C\",\"high school\",\"standard\",\"none\",\"writing score\"],[\"Quiana Rohrbach\",\"female\",\"group A\",\"some high school\",\"free/reduced\",\"none\",\"writing score\"],[\"May Kelly\",\"female\",\"group C\",\"bachelor's degree\",\"standard\",\"none\",\"writing score\"],[\"Damien Gomez\",\"male\",\"group C\",\"bachelor's degree\",\"free/reduced\",\"completed\",\"writing score\"],[\"Thomas Rabb\",\"male\",\"group C\",\"some high school\",\"free/reduced\",\"none\",\"writing score\"],[\"Darron Allen\",\"male\",\"group C\",\"high school\",\"standard\",\"none\",\"writing score\"],[\"Alan Harper\",\"male\",\"group D\",\"associate's degree\",\"standard\",\"none\",\"writing score\"],[\"Linda Michael\",\"female\",\"group D\",\"some high school\",\"standard\",\"none\",\"writing score\"],[\"David Martinez\",\"male\",\"group E\",\"associate's degree\",\"free/reduced\",\"completed\",\"writing score\"],[\"Katharine Martinez\",\"female\",\"group C\",\"some college\",\"free/reduced\",\"none\",\"writing score\"],[\"Charles Ayala\",\"male\",\"group C\",\"some college\",\"standard\",\"none\",\"writing score\"],[\"Dawn Tamborlane\",\"female\",\"group D\",\"some college\",\"free/reduced\",\"none\",\"writing score\"],[\"Randy Olson\",\"male\",\"group C\",\"associate's degree\",\"free/reduced\",\"none\",\"writing score\"],[\"Monica Howington\",\"female\",\"group D\",\"some high school\",\"standard\",\"none\",\"writing score\"],[\"Anthony Hinerman\",\"male\",\"group C\",\"some high school\",\"standard\",\"none\",\"writing score\"],[\"Bambi Dyer\",\"female\",\"group D\",\"associate's degree\",\"free/reduced\",\"none\",\"writing score\"],[\"Barbara Otto\",\"female\",\"group E\",\"associate's degree\",\"standard\",\"completed\",\"writing score\"],[\"Joseph Alfaro\",\"male\",\"group C\",\"some college\",\"standard\",\"none\",\"writing score\"],[\"Roy Williams\",\"male\",\"group C\",\"some college\",\"free/reduced\",\"none\",\"writing score\"],[\"Michael Dudas\",\"male\",\"group D\",\"some high school\",\"free/reduced\",\"none\",\"writing score\"],[\"Doyle Johnson\",\"male\",\"group A\",\"high school\",\"standard\",\"none\",\"writing score\"],[\"Evan Smith\",\"male\",\"group E\",\"associate's degree\",\"free/reduced\",\"none\",\"writing score\"],[\"Margery Rattan\",\"female\",\"group C\",\"associate's degree\",\"standard\",\"none\",\"writing score\"],[\"Jonathan Rochon\",\"male\",\"group D\",\"associate's degree\",\"standard\",\"completed\",\"writing score\"],[\"Edward Sullivan\",\"male\",\"group D\",\"some high school\",\"standard\",\"none\",\"writing score\"],[\"Helen Mcatee\",\"female\",\"group C\",\"some college\",\"standard\",\"none\",\"writing score\"],[\"Joseph Jaco\",\"male\",\"group B\",\"some college\",\"free/reduced\",\"none\",\"writing score\"],[\"Matthew Thompson\",\"male\",\"group E\",\"some high school\",\"free/reduced\",\"completed\",\"writing score\"],[\"Dana Belcher\",\"female\",\"group B\",\"some college\",\"standard\",\"none\",\"writing score\"],[\"Joyce Jennings\",\"female\",\"group C\",\"high school\",\"standard\",\"none\",\"writing score\"],[\"Richard Bratcher\",\"male\",\"group E\",\"bachelor's degree\",\"free/reduced\",\"completed\",\"writing score\"],[\"Stephanie Jun\",\"female\",\"group B\",\"high school\",\"standard\",\"completed\",\"writing score\"],[\"Karen Hankinson\",\"female\",\"group E\",\"associate's degree\",\"free/reduced\",\"none\",\"writing score\"],[\"Sam Barnette\",\"male\",\"group A\",\"some high school\",\"standard\",\"none\",\"writing score\"],[\"Robbie Stevens\",\"female\",\"group B\",\"some college\",\"free/reduced\",\"none\",\"writing score\"],[\"Emilia Porat\",\"female\",\"group C\",\"master's degree\",\"free/reduced\",\"none\",\"writing score\"],[\"Dorothea Martin\",\"female\",\"group E\",\"associate's degree\",\"standard\",\"completed\",\"writing score\"],[\"Anthony Brown\",\"male\",\"group A\",\"some college\",\"standard\",\"completed\",\"writing score\"],[\"Michael King\",\"male\",\"group D\",\"associate's degree\",\"free/reduced\",\"none\",\"writing score\"],[\"Gladys Thompson\",\"female\",\"group B\",\"some high school\",\"standard\",\"none\",\"writing score\"],[\"Michael Hughes\",\"male\",\"group B\",\"some college\",\"free/reduced\",\"none\",\"writing score\"],[\"Virginia Trible\",\"female\",\"group C\",\"some college\",\"standard\",\"completed\",\"writing score\"],[\"Charles Jackson\",\"male\",\"group E\",\"some high school\",\"standard\",\"none\",\"writing score\"],[\"Amy Hawes\",\"female\",\"group B\",\"bachelor's degree\",\"standard\",\"none\",\"writing score\"],[\"Marcus Mcfarland\",\"male\",\"group C\",\"bachelor's degree\",\"standard\",\"completed\",\"writing score\"],[\"Annie Roeder\",\"female\",\"group B\",\"some high school\",\"standard\",\"none\",\"writing score\"],[\"Joyce Turpen\",\"female\",\"group D\",\"associate's degree\",\"standard\",\"none\",\"writing score\"],[\"Stanley Denny\",\"male\",\"group C\",\"master's degree\",\"free/reduced\",\"none\",\"writing score\"],[\"Sharon Sikes\",\"female\",\"group C\",\"some high school\",\"free/reduced\",\"completed\",\"writing score\"],[\"Sheryl Johnson\",\"female\",\"group D\",\"some high school\",\"standard\",\"none\",\"writing score\"],[\"Kimberly Chavez\",\"female\",\"group C\",\"bachelor's degree\",\"standard\",\"none\",\"writing score\"],[\"Jennie Ferguson\",\"female\",\"group A\",\"high school\",\"free/reduced\",\"completed\",\"writing score\"],[\"Kenneth Robertson\",\"male\",\"group A\",\"bachelor's degree\",\"standard\",\"completed\",\"writing score\"],[\"Albert Vaughn\",\"male\",\"group E\",\"some college\",\"free/reduced\",\"completed\",\"writing score\"],[\"Louis Mckinzie\",\"male\",\"group C\",\"associate's degree\",\"standard\",\"none\",\"writing score\"],[\"Darryl Ward\",\"male\",\"group D\",\"some college\",\"standard\",\"none\",\"writing score\"],[\"Patricia Mcninch\",\"female\",\"group C\",\"bachelor's degree\",\"free/reduced\",\"none\",\"writing score\"],[\"Robert Dickerson\",\"male\",\"group E\",\"some college\",\"free/reduced\",\"completed\",\"writing score\"],[\"Barbara Torres\",\"female\",\"group D\",\"some college\",\"free/reduced\",\"none\",\"writing score\"],[\"Larry Torres\",\"male\",\"group D\",\"associate's degree\",\"free/reduced\",\"none\",\"writing score\"],[\"John Lopez\",\"male\",\"group B\",\"some high school\",\"standard\",\"completed\",\"writing score\"],[\"Clora Machado\",\"female\",\"group B\",\"associate's degree\",\"standard\",\"completed\",\"writing score\"],[\"Diane Hopkins\",\"female\",\"group C\",\"bachelor's degree\",\"standard\",\"completed\",\"writing score\"],[\"Dwight Zapata\",\"male\",\"group C\",\"some high school\",\"free/reduced\",\"none\",\"writing score\"],[\"John Ratcliff\",\"male\",\"group D\",\"high school\",\"standard\",\"none\",\"writing score\"],[\"Sarah Defazio\",\"female\",\"group C\",\"some high school\",\"free/reduced\",\"none\",\"writing score\"],[\"Karl Dietrich\",\"female\",\"group C\",\"some high school\",\"standard\",\"none\",\"writing score\"],[\"Vincent Tucker\",\"male\",\"group C\",\"high school\",\"free/reduced\",\"none\",\"writing score\"],[\"Janet Housel\",\"female\",\"group B\",\"associate's degree\",\"standard\",\"none\",\"writing score\"],[\"Gloria Bradford\",\"female\",\"group B\",\"high school\",\"standard\",\"none\",\"writing score\"],[\"Arthur Patterson\",\"male\",\"group A\",\"associate's degree\",\"standard\",\"none\",\"writing score\"],[\"Ronald Wilson\",\"male\",\"group C\",\"some high school\",\"standard\",\"none\",\"writing score\"],[\"Cheryl Kraus\",\"female\",\"group D\",\"some high school\",\"standard\",\"none\",\"writing score\"],[\"Kristy Glass\",\"female\",\"group D\",\"associate's degree\",\"standard\",\"none\",\"writing score\"],[\"Timothy Botello\",\"male\",\"group D\",\"master's degree\",\"standard\",\"none\",\"writing score\"],[\"Ronald Coria\",\"male\",\"group A\",\"associate's degree\",\"standard\",\"completed\",\"writing score\"],[\"Jessica Martin\",\"female\",\"group B\",\"associate's degree\",\"free/reduced\",\"none\",\"writing score\"],[\"Valarie Trujillo\",\"female\",\"group C\",\"associate's degree\",\"standard\",\"none\",\"writing score\"],[\"Santiago Luther\",\"male\",\"group E\",\"some high school\",\"standard\",\"completed\",\"writing score\"],[\"William Novoa\",\"male\",\"group C\",\"master's degree\",\"standard\",\"none\",\"writing score\"],[\"Frances Archer\",\"female\",\"group C\",\"associate's degree\",\"standard\",\"completed\",\"writing score\"],[\"Hubert Mitchell\",\"male\",\"group D\",\"high school\",\"standard\",\"none\",\"writing score\"],[\"Marcia York\",\"female\",\"group D\",\"bachelor's degree\",\"free/reduced\",\"none\",\"writing score\"],[\"Anita Hill\",\"female\",\"group A\",\"associate's degree\",\"free/reduced\",\"none\",\"writing score\"],[\"Mary Kovac\",\"female\",\"group C\",\"associate's degree\",\"standard\",\"completed\",\"writing score\"],[\"Rodney Torres\",\"male\",\"group D\",\"some college\",\"standard\",\"none\",\"writing score\"],[\"Julio Fuller\",\"male\",\"group D\",\"high school\",\"standard\",\"none\",\"writing score\"],[\"Norman Reed\",\"male\",\"group E\",\"some college\",\"standard\",\"none\",\"writing score\"],[\"Matthew Demelis\",\"male\",\"group E\",\"some college\",\"standard\",\"none\",\"writing score\"],[\"Darryl Skinner\",\"male\",\"group B\",\"some college\",\"free/reduced\",\"none\",\"writing score\"],[\"Matthew Freeman\",\"male\",\"group B\",\"high school\",\"standard\",\"completed\",\"writing score\"],[\"Mauricio Deering\",\"male\",\"group D\",\"high school\",\"free/reduced\",\"none\",\"writing score\"],[\"Viki Fraser\",\"female\",\"group C\",\"some high school\",\"standard\",\"completed\",\"writing score\"],[\"Dana Mojica\",\"female\",\"group D\",\"high school\",\"free/reduced\",\"none\",\"writing score\"],[\"Kara Greene\",\"female\",\"group D\",\"some high school\",\"standard\",\"completed\",\"writing score\"],[\"Lauren Warren\",\"female\",\"group C\",\"some high school\",\"free/reduced\",\"none\",\"writing score\"],[\"Gary Hunter\",\"male\",\"group D\",\"associate's degree\",\"standard\",\"completed\",\"writing score\"],[\"Irving Wheeler\",\"male\",\"group B\",\"some college\",\"standard\",\"none\",\"writing score\"],[\"Teresa Yanez\",\"female\",\"group B\",\"associate's degree\",\"free/reduced\",\"completed\",\"writing score\"],[\"Brent Sollenberger\",\"male\",\"group C\",\"high school\",\"standard\",\"none\",\"writing score\"],[\"James Muir\",\"male\",\"group C\",\"high school\",\"standard\",\"none\",\"writing score\"],[\"Sean Staples\",\"male\",\"group D\",\"some college\",\"free/reduced\",\"none\",\"writing score\"],[\"Evangelina Hahn\",\"female\",\"group C\",\"associate's degree\",\"standard\",\"completed\",\"writing score\"],[\"Joann Liesmann\",\"female\",\"group E\",\"some college\",\"standard\",\"none\",\"writing score\"],[\"Ronnie Lim\",\"female\",\"group B\",\"associate's degree\",\"standard\",\"completed\",\"writing score\"],[\"James Walker\",\"male\",\"group E\",\"bachelor's degree\",\"standard\",\"none\",\"writing score\"],[\"Jerome Herring\",\"male\",\"group C\",\"some high school\",\"standard\",\"none\",\"writing score\"],[\"Richard Pryor\",\"male\",\"group E\",\"bachelor's degree\",\"standard\",\"completed\",\"writing score\"],[\"Luetta Caponigro\",\"female\",\"group B\",\"high school\",\"free/reduced\",\"none\",\"writing score\"],[\"Jacqueline Akers\",\"female\",\"group B\",\"high school\",\"standard\",\"none\",\"writing score\"],[\"Angela Atterberry\",\"female\",\"group D\",\"some high school\",\"free/reduced\",\"completed\",\"writing score\"],[\"Maggie Rugg\",\"female\",\"group A\",\"some high school\",\"standard\",\"none\",\"writing score\"],[\"James Crawford\",\"male\",\"group D\",\"master's degree\",\"standard\",\"none\",\"writing score\"],[\"Marlene Sullivan\",\"female\",\"group D\",\"master's degree\",\"standard\",\"completed\",\"writing score\"],[\"Patricia Farias\",\"female\",\"group E\",\"bachelor's degree\",\"standard\",\"none\",\"writing score\"],[\"Brenton Graap\",\"male\",\"group C\",\"associate's degree\",\"standard\",\"none\",\"writing score\"],[\"Henry Rogers\",\"male\",\"group A\",\"some high school\",\"free/reduced\",\"none\",\"writing score\"],[\"Antonio Pelaez\",\"male\",\"group C\",\"associate's degree\",\"standard\",\"none\",\"writing score\"],[\"Edith Cervera\",\"female\",\"group C\",\"some college\",\"standard\",\"none\",\"writing score\"],[\"Kathleen Johnson\",\"female\",\"group D\",\"high school\",\"standard\",\"completed\",\"writing score\"],[\"Deborah Ladner\",\"female\",\"group D\",\"associate's degree\",\"free/reduced\",\"none\",\"writing score\"],[\"Justin Esparza\",\"male\",\"group C\",\"associate's degree\",\"free/reduced\",\"completed\",\"writing score\"],[\"Belinda Tuholski\",\"female\",\"group C\",\"associate's degree\",\"standard\",\"none\",\"writing score\"],[\"Bette Williams\",\"female\",\"group B\",\"associate's degree\",\"standard\",\"completed\",\"writing score\"],[\"Richard Christiansen\",\"male\",\"group B\",\"bachelor's degree\",\"free/reduced\",\"none\",\"writing score\"],[\"Carol Gamboa\",\"female\",\"group C\",\"some college\",\"standard\",\"completed\",\"writing score\"],[\"Emily Devins\",\"female\",\"group B\",\"associate's degree\",\"standard\",\"none\",\"writing score\"],[\"Richard Zayas\",\"male\",\"group B\",\"associate's degree\",\"standard\",\"completed\",\"writing score\"],[\"Pura Ross\",\"female\",\"group C\",\"associate's degree\",\"standard\",\"none\",\"writing score\"],[\"Harvey Pribbenow\",\"male\",\"group D\",\"bachelor's degree\",\"free/reduced\",\"none\",\"writing score\"],[\"Sharon Matthews\",\"female\",\"group E\",\"associate's degree\",\"standard\",\"completed\",\"writing score\"],[\"Krystal Ford\",\"female\",\"group D\",\"some college\",\"standard\",\"none\",\"writing score\"],[\"Harold Ackerson\",\"male\",\"group B\",\"some college\",\"standard\",\"none\",\"writing score\"],[\"Joseph Rains\",\"male\",\"group A\",\"high school\",\"free/reduced\",\"none\",\"writing score\"],[\"Samuel Low\",\"male\",\"group D\",\"some college\",\"standard\",\"none\",\"writing score\"],[\"Mary Hahn\",\"female\",\"group B\",\"some high school\",\"standard\",\"none\",\"writing score\"],[\"Charles Vaughan\",\"male\",\"group A\",\"some high school\",\"free/reduced\",\"none\",\"writing score\"],[\"Mary Delgado\",\"female\",\"group E\",\"some college\",\"free/reduced\",\"completed\",\"writing score\"],[\"Steven Maness\",\"male\",\"group B\",\"some college\",\"free/reduced\",\"completed\",\"writing score\"],[\"Walter Simmons\",\"male\",\"group C\",\"bachelor's degree\",\"free/reduced\",\"none\",\"writing score\"],[\"Larry Workman\",\"male\",\"group E\",\"associate's degree\",\"standard\",\"completed\",\"writing score\"],[\"Anthony Anderson\",\"male\",\"group D\",\"high school\",\"standard\",\"none\",\"writing score\"],[\"Shannon Zamarripa\",\"female\",\"group D\",\"high school\",\"standard\",\"completed\",\"writing score\"],[\"Melvin Mastrangelo\",\"male\",\"group D\",\"associate's degree\",\"free/reduced\",\"completed\",\"writing score\"],[\"Clarissa Mccarthy\",\"female\",\"group C\",\"associate's degree\",\"standard\",\"none\",\"writing score\"],[\"Garth Zayas\",\"male\",\"group C\",\"associate's degree\",\"standard\",\"completed\",\"writing score\"],[\"Camille Rodrigue\",\"female\",\"group D\",\"master's degree\",\"standard\",\"none\",\"writing score\"],[\"Larry Matthews\",\"male\",\"group B\",\"associate's degree\",\"free/reduced\",\"none\",\"writing score\"],[\"Melissa Hughes\",\"female\",\"group D\",\"some college\",\"free/reduced\",\"completed\",\"writing score\"],[\"Horace Morefield\",\"male\",\"group D\",\"some high school\",\"free/reduced\",\"completed\",\"writing score\"],[\"Marion Murdy\",\"female\",\"group B\",\"high school\",\"free/reduced\",\"none\",\"writing score\"],[\"Heike Miller\",\"female\",\"group B\",\"associate's degree\",\"standard\",\"none\",\"writing score\"],[\"Terry Davis\",\"male\",\"group D\",\"some high school\",\"standard\",\"completed\",\"writing score\"],[\"Micki Banks\",\"female\",\"group A\",\"high school\",\"standard\",\"none\",\"writing score\"],[\"Edward Killingsworth\",\"male\",\"group C\",\"high school\",\"standard\",\"none\",\"writing score\"],[\"Ashley Church\",\"female\",\"group C\",\"some high school\",\"standard\",\"none\",\"writing score\"],[\"Cameron Estrada\",\"male\",\"group D\",\"some high school\",\"standard\",\"none\",\"writing score\"],[\"Stephen Broenneke\",\"male\",\"group B\",\"some college\",\"standard\",\"none\",\"writing score\"],[\"Olga Hatcher\",\"female\",\"group A\",\"associate's degree\",\"free/reduced\",\"none\",\"writing score\"],[\"Larry Mclane\",\"male\",\"group E\",\"associate's degree\",\"free/reduced\",\"none\",\"writing score\"],[\"Dana Bolyard\",\"female\",\"group D\",\"some high school\",\"standard\",\"none\",\"writing score\"],[\"Camie Hamilton\",\"female\",\"group B\",\"high school\",\"standard\",\"none\",\"writing score\"],[\"Jacqueline Holton\",\"female\",\"group C\",\"high school\",\"free/reduced\",\"completed\",\"writing score\"],[\"Todd Price\",\"male\",\"group E\",\"some high school\",\"standard\",\"completed\",\"writing score\"],[\"Joyce Lamarche\",\"female\",\"group E\",\"high school\",\"standard\",\"completed\",\"writing score\"],[\"Donald Durbin\",\"male\",\"group B\",\"high school\",\"standard\",\"completed\",\"writing score\"],[\"Kimberly Ross\",\"female\",\"group B\",\"some high school\",\"free/reduced\",\"completed\",\"writing score\"],[\"James Hughey\",\"male\",\"group C\",\"bachelor's degree\",\"standard\",\"none\",\"writing score\"],[\"Laura Hunter\",\"female\",\"group E\",\"bachelor's degree\",\"free/reduced\",\"none\",\"writing score\"],[\"Anna Larios\",\"female\",\"group D\",\"associate's degree\",\"standard\",\"completed\",\"writing score\"],[\"Alex Estimable\",\"male\",\"group C\",\"high school\",\"standard\",\"completed\",\"writing score\"],[\"Jean Stamdifer\",\"male\",\"group D\",\"some high school\",\"free/reduced\",\"none\",\"writing score\"],[\"Arturo Brown\",\"male\",\"group A\",\"high school\",\"standard\",\"none\",\"writing score\"],[\"Richard Anderson\",\"male\",\"group C\",\"some high school\",\"standard\",\"completed\",\"writing score\"],[\"Monica Duggins\",\"female\",\"group B\",\"associate's degree\",\"standard\",\"completed\",\"writing score\"],[\"Fallon Simson\",\"female\",\"group D\",\"high school\",\"standard\",\"none\",\"writing score\"],[\"Hans Crabtree\",\"male\",\"group D\",\"some high school\",\"standard\",\"completed\",\"writing score\"],[\"Paul Smith\",\"male\",\"group B\",\"high school\",\"standard\",\"none\",\"writing score\"],[\"Gerald Brannon\",\"male\",\"group C\",\"high school\",\"standard\",\"none\",\"writing score\"],[\"Nancy Rand\",\"female\",\"group C\",\"some college\",\"free/reduced\",\"none\",\"writing score\"],[\"Helen Alexander\",\"female\",\"group D\",\"some college\",\"free/reduced\",\"none\",\"writing score\"],[\"Susan Cuevas\",\"female\",\"group C\",\"some high school\",\"standard\",\"none\",\"writing score\"],[\"Diana Bertran\",\"female\",\"group E\",\"some college\",\"standard\",\"completed\",\"writing score\"],[\"Lamar Becker\",\"male\",\"group D\",\"associate's degree\",\"standard\",\"none\",\"writing score\"],[\"Faye Schatz\",\"female\",\"group B\",\"bachelor's degree\",\"standard\",\"completed\",\"writing score\"],[\"Donald Mooberry\",\"male\",\"group D\",\"bachelor's degree\",\"standard\",\"completed\",\"writing score\"],[\"Gerald Gramham\",\"male\",\"group A\",\"some high school\",\"standard\",\"none\",\"writing score\"],[\"Christopher Hernandez\",\"male\",\"group B\",\"some high school\",\"standard\",\"none\",\"writing score\"],[\"Sarah Flannery\",\"female\",\"group B\",\"master's degree\",\"standard\",\"none\",\"writing score\"],[\"Weldon Auston\",\"male\",\"group D\",\"associate's degree\",\"free/reduced\",\"none\",\"writing score\"],[\"John Ousley\",\"male\",\"group B\",\"master's degree\",\"free/reduced\",\"none\",\"writing score\"],[\"Mack Gilliland\",\"male\",\"group D\",\"high school\",\"standard\",\"none\",\"writing score\"],[\"Harold Kakos\",\"male\",\"group A\",\"high school\",\"standard\",\"none\",\"writing score\"],[\"William Gebhard\",\"male\",\"group C\",\"some college\",\"free/reduced\",\"completed\",\"writing score\"],[\"Raymond Wiggins\",\"male\",\"group C\",\"associate's degree\",\"free/reduced\",\"none\",\"writing score\"],[\"Arlene Seymour\",\"female\",\"group B\",\"high school\",\"standard\",\"none\",\"writing score\"],[\"Randy Werth\",\"male\",\"group A\",\"associate's degree\",\"standard\",\"none\",\"writing score\"],[\"Arthur Daschofsky\",\"male\",\"group A\",\"some high school\",\"free/reduced\",\"none\",\"writing score\"],[\"Tanya Macinnes\",\"female\",\"group A\",\"some high school\",\"standard\",\"completed\",\"writing score\"],[\"Scott Rogers\",\"male\",\"group E\",\"associate's degree\",\"free/reduced\",\"completed\",\"writing score\"],[\"Julie Lopez\",\"female\",\"group E\",\"some college\",\"standard\",\"completed\",\"writing score\"],[\"Marx Loftis\",\"female\",\"group E\",\"some college\",\"standard\",\"none\",\"writing score\"],[\"Sandra Case\",\"female\",\"group D\",\"bachelor's degree\",\"standard\",\"none\",\"writing score\"],[\"Justin Harris\",\"male\",\"group D\",\"some college\",\"standard\",\"none\",\"writing score\"],[\"Willie Gilbert\",\"male\",\"group E\",\"some high school\",\"standard\",\"none\",\"writing score\"],[\"Nicole Obrien\",\"female\",\"group B\",\"bachelor's degree\",\"free/reduced\",\"none\",\"writing score\"],[\"Rose Nguyen\",\"female\",\"group C\",\"master's degree\",\"standard\",\"completed\",\"writing score\"],[\"Rachel Angelini\",\"female\",\"group B\",\"some college\",\"standard\",\"none\",\"writing score\"],[\"Mindi Cruz\",\"female\",\"group C\",\"some college\",\"standard\",\"none\",\"writing score\"],[\"Russel Broussard\",\"male\",\"group C\",\"associate's degree\",\"free/reduced\",\"completed\",\"writing score\"],[\"Karl Hernandez\",\"male\",\"group C\",\"bachelor's degree\",\"standard\",\"none\",\"writing score\"],[\"Anthony Kenny\",\"male\",\"group D\",\"some college\",\"standard\",\"none\",\"writing score\"],[\"Jimmy Jones\",\"male\",\"group B\",\"associate's degree\",\"free/reduced\",\"completed\",\"writing score\"],[\"Julie Tang\",\"female\",\"group D\",\"associate's degree\",\"standard\",\"none\",\"writing score\"],[\"Eddie Strom\",\"male\",\"group E\",\"some college\",\"standard\",\"none\",\"writing score\"],[\"Lavera Lowrie\",\"female\",\"group C\",\"high school\",\"standard\",\"none\",\"writing score\"],[\"Lance Russell\",\"male\",\"group D\",\"high school\",\"standard\",\"none\",\"writing score\"],[\"Maria Cottone\",\"female\",\"group B\",\"some college\",\"free/reduced\",\"none\",\"writing score\"],[\"David Padilla\",\"male\",\"group B\",\"bachelor's degree\",\"free/reduced\",\"none\",\"writing score\"],[\"Connie Workman\",\"female\",\"group D\",\"some college\",\"standard\",\"completed\",\"writing score\"],[\"Maryann Russell\",\"female\",\"group D\",\"high school\",\"standard\",\"completed\",\"writing score\"],[\"Ofelia Evans\",\"female\",\"group C\",\"master's degree\",\"standard\",\"completed\",\"writing score\"],[\"Anastasia Starks\",\"female\",\"group B\",\"high school\",\"free/reduced\",\"completed\",\"writing score\"],[\"Dolores Sprinkle\",\"female\",\"group C\",\"bachelor's degree\",\"standard\",\"none\",\"writing score\"],[\"Stella Stephens\",\"female\",\"group D\",\"master's degree\",\"standard\",\"none\",\"writing score\"],[\"Eric Nunes\",\"male\",\"group C\",\"bachelor's degree\",\"standard\",\"completed\",\"writing score\"],[\"Mark Oconnor\",\"male\",\"group B\",\"some high school\",\"standard\",\"completed\",\"writing score\"],[\"Emory Kelley\",\"male\",\"group D\",\"some high school\",\"free/reduced\",\"none\",\"writing score\"],[\"Michael Leta\",\"male\",\"group E\",\"bachelor's degree\",\"standard\",\"none\",\"writing score\"],[\"Maria Caballero\",\"female\",\"group C\",\"high school\",\"standard\",\"completed\",\"writing score\"],[\"Richard Brasure\",\"male\",\"group D\",\"associate's degree\",\"free/reduced\",\"none\",\"writing score\"],[\"Wanda Hardin\",\"female\",\"group E\",\"some college\",\"standard\",\"none\",\"writing score\"],[\"Jerome Lopze\",\"male\",\"group E\",\"associate's degree\",\"free/reduced\",\"completed\",\"writing score\"],[\"Arlene Trotter\",\"female\",\"group B\",\"high school\",\"standard\",\"none\",\"writing score\"],[\"Christopher Wall\",\"male\",\"group C\",\"high school\",\"free/reduced\",\"none\",\"writing score\"],[\"Patricia Mcclurg\",\"female\",\"group D\",\"some high school\",\"standard\",\"none\",\"writing score\"],[\"Rosemary Oliveros\",\"female\",\"group C\",\"high school\",\"standard\",\"none\",\"writing score\"],[\"Shannon Weaver\",\"male\",\"group D\",\"bachelor's degree\",\"free/reduced\",\"none\",\"writing score\"],[\"Patricia Spiller\",\"female\",\"group D\",\"associate's degree\",\"free/reduced\",\"completed\",\"writing score\"],[\"Andrew Bussell\",\"male\",\"group A\",\"some high school\",\"standard\",\"none\",\"writing score\"],[\"Jackie Moons\",\"female\",\"group B\",\"some college\",\"free/reduced\",\"none\",\"writing score\"],[\"Edward Fields\",\"male\",\"group D\",\"some high school\",\"standard\",\"none\",\"writing score\"],[\"Robert Byrd\",\"male\",\"group C\",\"master's degree\",\"standard\",\"none\",\"writing score\"],[\"Josephine Hall\",\"female\",\"group B\",\"high school\",\"free/reduced\",\"none\",\"writing score\"],[\"Larry Maldonado\",\"male\",\"group E\",\"master's degree\",\"standard\",\"none\",\"writing score\"],[\"Mark Spicer\",\"male\",\"group E\",\"associate's degree\",\"standard\",\"none\",\"writing score\"],[\"Janet Hamer\",\"female\",\"group B\",\"some college\",\"free/reduced\",\"completed\",\"writing score\"],[\"Virginia Blubaugh\",\"female\",\"group B\",\"some high school\",\"standard\",\"completed\",\"writing score\"],[\"Nicole Nesbitt\",\"female\",\"group C\",\"some college\",\"standard\",\"none\",\"writing score\"],[\"Martha Ball\",\"female\",\"group C\",\"some college\",\"standard\",\"none\",\"writing score\"],[\"Rebecca Hammond\",\"female\",\"group C\",\"associate's degree\",\"free/reduced\",\"none\",\"writing score\"],[\"Chris Spitler\",\"male\",\"group C\",\"some college\",\"standard\",\"none\",\"writing score\"],[\"Ann Polston\",\"female\",\"group D\",\"master's degree\",\"free/reduced\",\"completed\",\"writing score\"],[\"Lynn Hovey\",\"female\",\"group B\",\"associate's degree\",\"standard\",\"none\",\"writing score\"],[\"Shannon Bale\",\"male\",\"group E\",\"associate's degree\",\"free/reduced\",\"completed\",\"writing score\"],[\"Theresa White\",\"female\",\"group E\",\"some college\",\"standard\",\"none\",\"writing score\"],[\"Doris Bridgewater\",\"female\",\"group D\",\"some college\",\"standard\",\"completed\",\"writing score\"],[\"Robin Ahmed\",\"female\",\"group C\",\"bachelor's degree\",\"free/reduced\",\"none\",\"writing score\"],[\"Andrew Baker\",\"male\",\"group E\",\"associate's degree\",\"standard\",\"completed\",\"writing score\"],[\"Jessica Salas\",\"female\",\"group C\",\"associate's degree\",\"standard\",\"completed\",\"writing score\"],[\"Christopher Barnett\",\"male\",\"group D\",\"associate's degree\",\"standard\",\"none\",\"writing score\"],[\"Jody Pond\",\"female\",\"group A\",\"some college\",\"standard\",\"completed\",\"writing score\"],[\"Agatha Bergman\",\"female\",\"group D\",\"master's degree\",\"standard\",\"none\",\"writing score\"],[\"Maude Greco\",\"female\",\"group E\",\"some college\",\"standard\",\"none\",\"writing score\"],[\"Melanie Acevedo\",\"female\",\"group E\",\"master's degree\",\"standard\",\"completed\",\"writing score\"],[\"Gloria Gambrell\",\"female\",\"group A\",\"associate's degree\",\"standard\",\"none\",\"writing score\"],[\"Thomas Hochmuth\",\"male\",\"group D\",\"some high school\",\"standard\",\"completed\",\"writing score\"],[\"Amanda Terrell\",\"female\",\"group A\",\"high school\",\"standard\",\"completed\",\"writing score\"],[\"Brenna Pate\",\"female\",\"group A\",\"bachelor's degree\",\"standard\",\"none\",\"writing score\"],[\"William Pool\",\"male\",\"group C\",\"high school\",\"standard\",\"none\",\"writing score\"],[\"Rachele Hammer\",\"female\",\"group C\",\"some college\",\"standard\",\"completed\",\"writing score\"],[\"John Suh\",\"male\",\"group D\",\"some college\",\"standard\",\"completed\",\"writing score\"],[\"Amber Hicks\",\"female\",\"group B\",\"associate's degree\",\"standard\",\"none\",\"writing score\"],[\"Fannie Hindman\",\"female\",\"group D\",\"high school\",\"standard\",\"none\",\"writing score\"],[\"Sue Gorman\",\"female\",\"group A\",\"some high school\",\"standard\",\"none\",\"writing score\"],[\"John Gonzales\",\"male\",\"group B\",\"some high school\",\"standard\",\"completed\",\"writing score\"],[\"Ira Mercer\",\"male\",\"group C\",\"some high school\",\"free/reduced\",\"completed\",\"writing score\"],[\"James Stanley\",\"male\",\"group C\",\"some college\",\"standard\",\"completed\",\"writing score\"],[\"Rolando Widmer\",\"male\",\"group C\",\"high school\",\"standard\",\"completed\",\"writing score\"],[\"Christine Cruson\",\"female\",\"group C\",\"high school\",\"standard\",\"none\",\"writing score\"],[\"Geraldine Gamboa\",\"female\",\"group C\",\"some college\",\"free/reduced\",\"none\",\"writing score\"],[\"Leon Patton\",\"male\",\"group B\",\"some college\",\"standard\",\"completed\",\"writing score\"],[\"Rosa Clagon\",\"female\",\"group A\",\"some high school\",\"free/reduced\",\"none\",\"writing score\"],[\"Christian Marshall\",\"male\",\"group D\",\"some high school\",\"standard\",\"completed\",\"writing score\"],[\"Jennie Blackwood\",\"female\",\"group C\",\"associate's degree\",\"standard\",\"none\",\"writing score\"],[\"Paul Ellis\",\"male\",\"group B\",\"high school\",\"standard\",\"none\",\"writing score\"],[\"Mitchell Eguia\",\"male\",\"group B\",\"some college\",\"free/reduced\",\"none\",\"writing score\"],[\"Eugene Jewett\",\"male\",\"group C\",\"high school\",\"free/reduced\",\"none\",\"writing score\"],[\"Travis Burkey\",\"male\",\"group B\",\"some college\",\"standard\",\"none\",\"writing score\"],[\"Bernard Gilmore\",\"male\",\"group E\",\"bachelor's degree\",\"standard\",\"completed\",\"writing score\"],[\"Emma Fussell\",\"female\",\"group A\",\"some high school\",\"free/reduced\",\"none\",\"writing score\"],[\"Pamela Scott\",\"female\",\"group C\",\"some college\",\"free/reduced\",\"completed\",\"writing score\"],[\"Olivia Papp\",\"female\",\"group E\",\"some college\",\"standard\",\"none\",\"writing score\"],[\"Thomas Kent\",\"male\",\"group E\",\"associate's degree\",\"standard\",\"none\",\"writing score\"],[\"Christina Cullins\",\"female\",\"group C\",\"some college\",\"free/reduced\",\"none\",\"writing score\"],[\"Isaac Pagan\",\"male\",\"group D\",\"some college\",\"standard\",\"completed\",\"writing score\"],[\"Tracy Varley\",\"female\",\"group D\",\"high school\",\"standard\",\"none\",\"writing score\"],[\"George Howard\",\"male\",\"group A\",\"associate's degree\",\"free/reduced\",\"completed\",\"writing score\"],[\"Jorge Apana\",\"male\",\"group A\",\"some high school\",\"standard\",\"completed\",\"writing score\"],[\"Louise Romero\",\"female\",\"group D\",\"associate's degree\",\"standard\",\"none\",\"writing score\"],[\"Theodore Sims\",\"male\",\"group B\",\"high school\",\"free/reduced\",\"none\",\"writing score\"],[\"Arthur Johnson\",\"male\",\"group C\",\"associate's degree\",\"standard\",\"none\",\"writing score\"],[\"Renee Worley\",\"female\",\"group D\",\"some college\",\"standard\",\"none\",\"writing score\"],[\"James Verhaag\",\"male\",\"group D\",\"high school\",\"free/reduced\",\"completed\",\"writing score\"],[\"Jonathan Moser\",\"male\",\"group B\",\"high school\",\"standard\",\"none\",\"writing score\"],[\"Leann Widrick\",\"female\",\"group D\",\"master's degree\",\"standard\",\"completed\",\"writing score\"],[\"Kenneth Armendariz\",\"male\",\"group B\",\"associate's degree\",\"free/reduced\",\"completed\",\"writing score\"],[\"Lance Santana\",\"male\",\"group B\",\"some high school\",\"standard\",\"none\",\"writing score\"],[\"Carol Salinas\",\"female\",\"group D\",\"high school\",\"standard\",\"none\",\"writing score\"],[\"Eleanor Bond\",\"female\",\"group E\",\"associate's degree\",\"standard\",\"none\",\"writing score\"],[\"Micheal Thompson\",\"male\",\"group C\",\"high school\",\"standard\",\"none\",\"writing score\"],[\"Anne Scheer\",\"female\",\"group C\",\"high school\",\"standard\",\"none\",\"writing score\"],[\"Sheila Carboni\",\"female\",\"group C\",\"associate's degree\",\"standard\",\"none\",\"writing score\"],[\"Michael Gore\",\"male\",\"group B\",\"some college\",\"free/reduced\",\"none\",\"writing score\"],[\"Doris Sandiford\",\"female\",\"group D\",\"master's degree\",\"free/reduced\",\"completed\",\"writing score\"],[\"Ashley Bradburn\",\"female\",\"group B\",\"some high school\",\"standard\",\"none\",\"writing score\"],[\"Catalina Brooks\",\"female\",\"group C\",\"some college\",\"standard\",\"none\",\"writing score\"],[\"Richard Bacon\",\"male\",\"group C\",\"some college\",\"standard\",\"none\",\"writing score\"],[\"Jennifer Phillips\",\"female\",\"group C\",\"some college\",\"standard\",\"none\",\"writing score\"],[\"Andrew Butler\",\"male\",\"group B\",\"high school\",\"standard\",\"none\",\"writing score\"],[\"Richard Stackhouse\",\"male\",\"group A\",\"some college\",\"free/reduced\",\"none\",\"writing score\"],[\"Irma Shedd\",\"female\",\"group B\",\"some college\",\"standard\",\"none\",\"writing score\"],[\"Albert Duran\",\"male\",\"group D\",\"some college\",\"standard\",\"completed\",\"writing score\"],[\"Gloria Ocasio\",\"female\",\"group D\",\"associate's degree\",\"free/reduced\",\"completed\",\"writing score\"],[\"Franklin Hawkins\",\"male\",\"group D\",\"some college\",\"standard\",\"none\",\"writing score\"],[\"Joshua Davis\",\"male\",\"group C\",\"some college\",\"free/reduced\",\"none\",\"writing score\"],[\"Willie Nicholson\",\"female\",\"group D\",\"some college\",\"free/reduced\",\"completed\",\"writing score\"],[\"Evelyn Galligan\",\"female\",\"group B\",\"master's degree\",\"free/reduced\",\"completed\",\"writing score\"],[\"Jonathan Calcote\",\"male\",\"group D\",\"some high school\",\"free/reduced\",\"none\",\"writing score\"],[\"Michael Mcdonnell\",\"male\",\"group D\",\"some high school\",\"standard\",\"none\",\"writing score\"],[\"David Moya\",\"male\",\"group B\",\"bachelor's degree\",\"standard\",\"none\",\"writing score\"],[\"Brandi Fisher\",\"female\",\"group E\",\"high school\",\"standard\",\"none\",\"writing score\"],[\"Patricia Harrell\",\"female\",\"group C\",\"associate's degree\",\"standard\",\"none\",\"writing score\"],[\"Steven Jackson\",\"male\",\"group B\",\"some high school\",\"standard\",\"none\",\"writing score\"],[\"Phillip Powell\",\"male\",\"group E\",\"some college\",\"standard\",\"completed\",\"writing score\"],[\"Kevin Ibrahim\",\"male\",\"group A\",\"some high school\",\"free/reduced\",\"none\",\"writing score\"],[\"David Hooker\",\"male\",\"group B\",\"associate's degree\",\"standard\",\"none\",\"writing score\"],[\"Barbara Barahona\",\"female\",\"group C\",\"associate's degree\",\"free/reduced\",\"none\",\"writing score\"],[\"Eileen Hardin\",\"female\",\"group D\",\"bachelor's degree\",\"standard\",\"none\",\"writing score\"],[\"Julie Smith\",\"female\",\"group D\",\"associate's degree\",\"standard\",\"completed\",\"writing score\"],[\"Kristie Mccarthy\",\"female\",\"group C\",\"some college\",\"free/reduced\",\"none\",\"writing score\"],[\"Karen Wagaman\",\"female\",\"group B\",\"associate's degree\",\"standard\",\"none\",\"writing score\"],[\"William Gambino\",\"male\",\"group D\",\"associate's degree\",\"standard\",\"none\",\"writing score\"],[\"Alan Sigmon\",\"male\",\"group C\",\"high school\",\"standard\",\"none\",\"writing score\"],[\"Marie Crate\",\"female\",\"group E\",\"high school\",\"standard\",\"none\",\"writing score\"],[\"Maritza Kielbasa\",\"female\",\"group C\",\"some college\",\"standard\",\"none\",\"writing score\"],[\"John Ponce\",\"male\",\"group B\",\"bachelor's degree\",\"free/reduced\",\"none\",\"writing score\"],[\"Robert Strain\",\"male\",\"group C\",\"associate's degree\",\"free/reduced\",\"none\",\"writing score\"],[\"Alexis Rosenberg\",\"female\",\"group C\",\"some high school\",\"free/reduced\",\"completed\",\"writing score\"],[\"Frances Johnson\",\"female\",\"group D\",\"associate's degree\",\"free/reduced\",\"completed\",\"writing score\"],[\"Cynthia Mandeville\",\"female\",\"group C\",\"some high school\",\"standard\",\"none\",\"writing score\"],[\"Ronald Jett\",\"male\",\"group D\",\"high school\",\"free/reduced\",\"none\",\"writing score\"],[\"Kari Roth\",\"female\",\"group C\",\"high school\",\"standard\",\"completed\",\"writing score\"],[\"Hazel Posey\",\"female\",\"group B\",\"some high school\",\"free/reduced\",\"none\",\"writing score\"],[\"Audrey Head\",\"female\",\"group C\",\"associate's degree\",\"standard\",\"completed\",\"writing score\"],[\"Jennifer Tucker\",\"female\",\"group E\",\"associate's degree\",\"standard\",\"none\",\"writing score\"],[\"Patrick Watson\",\"male\",\"group D\",\"some college\",\"free/reduced\",\"none\",\"writing score\"],[\"Loretta Velez\",\"female\",\"group C\",\"associate's degree\",\"standard\",\"completed\",\"writing score\"],[\"Eric Baldwin\",\"male\",\"group A\",\"high school\",\"free/reduced\",\"none\",\"writing score\"],[\"Danny Goodyear\",\"male\",\"group B\",\"some college\",\"standard\",\"completed\",\"writing score\"],[\"Louis Christopher\",\"male\",\"group A\",\"high school\",\"free/reduced\",\"completed\",\"writing score\"],[\"Robert Twitty\",\"male\",\"group C\",\"master's degree\",\"free/reduced\",\"none\",\"writing score\"],[\"James Aguirre\",\"male\",\"group E\",\"high school\",\"standard\",\"completed\",\"writing score\"],[\"Cody Garcia\",\"male\",\"group B\",\"some high school\",\"standard\",\"completed\",\"writing score\"],[\"Dana Smith\",\"female\",\"group C\",\"bachelor's degree\",\"free/reduced\",\"completed\",\"writing score\"],[\"Cheryl Patel\",\"female\",\"group B\",\"some high school\",\"free/reduced\",\"none\",\"writing score\"],[\"Alyssa Mcgee\",\"female\",\"group D\",\"master's degree\",\"standard\",\"none\",\"writing score\"],[\"Kathleen Hernandez\",\"female\",\"group C\",\"some college\",\"standard\",\"completed\",\"writing score\"],[\"John Lambert\",\"male\",\"group B\",\"high school\",\"standard\",\"none\",\"writing score\"],[\"Edmond Lerner\",\"male\",\"group D\",\"high school\",\"standard\",\"none\",\"writing score\"],[\"Sarah Adu\",\"female\",\"group A\",\"some high school\",\"standard\",\"completed\",\"writing score\"],[\"Mandy Bays\",\"female\",\"group E\",\"high school\",\"free/reduced\",\"none\",\"writing score\"],[\"Charles Hopson\",\"male\",\"group C\",\"associate's degree\",\"free/reduced\",\"none\",\"writing score\"],[\"George Estrada\",\"male\",\"group A\",\"bachelor's degree\",\"standard\",\"none\",\"writing score\"],[\"Christopher Thornburg\",\"male\",\"group D\",\"some college\",\"standard\",\"none\",\"writing score\"],[\"Arnold Dodson\",\"male\",\"group C\",\"some college\",\"standard\",\"none\",\"writing score\"],[\"Rosalia Arrants\",\"female\",\"group E\",\"some high school\",\"free/reduced\",\"none\",\"writing score\"],[\"Carolyn Webley\",\"female\",\"group D\",\"high school\",\"free/reduced\",\"none\",\"writing score\"],[\"Jon Norris\",\"male\",\"group E\",\"bachelor's degree\",\"standard\",\"completed\",\"writing score\"],[\"Virginia Thompson\",\"female\",\"group D\",\"associate's degree\",\"standard\",\"none\",\"writing score\"],[\"Deborah Clark\",\"female\",\"group B\",\"some high school\",\"free/reduced\",\"completed\",\"writing score\"],[\"Samantha Devore\",\"female\",\"group B\",\"high school\",\"standard\",\"none\",\"writing score\"],[\"Shirley Ybanez\",\"female\",\"group C\",\"some high school\",\"standard\",\"completed\",\"writing score\"],[\"Walter Mata\",\"male\",\"group D\",\"associate's degree\",\"free/reduced\",\"none\",\"writing score\"],[\"Coleen Stough\",\"female\",\"group C\",\"associate's degree\",\"standard\",\"completed\",\"writing score\"],[\"Victor Turner\",\"male\",\"group C\",\"high school\",\"free/reduced\",\"none\",\"writing score\"],[\"Audrey Shorey\",\"female\",\"group A\",\"some college\",\"standard\",\"none\",\"writing score\"],[\"Jose Wheeler\",\"male\",\"group C\",\"associate's degree\",\"free/reduced\",\"completed\",\"writing score\"],[\"Sharon Roberts\",\"female\",\"group C\",\"high school\",\"free/reduced\",\"none\",\"writing score\"],[\"Anthony Pedigo\",\"male\",\"group B\",\"bachelor's degree\",\"free/reduced\",\"completed\",\"writing score\"],[\"Lucy Thompson\",\"female\",\"group B\",\"some college\",\"free/reduced\",\"completed\",\"writing score\"],[\"Sonya Porter\",\"female\",\"group C\",\"bachelor's degree\",\"free/reduced\",\"completed\",\"writing score\"],[\"Shirley Wilson\",\"female\",\"group A\",\"some college\",\"free/reduced\",\"none\",\"writing score\"],[\"Collette Williams\",\"female\",\"group C\",\"some high school\",\"standard\",\"completed\",\"writing score\"],[\"Shawn Frank\",\"female\",\"group C\",\"associate's degree\",\"standard\",\"completed\",\"writing score\"],[\"Richard Guercio\",\"male\",\"group B\",\"high school\",\"free/reduced\",\"none\",\"writing score\"],[\"Eileen Gray\",\"female\",\"group D\",\"high school\",\"free/reduced\",\"none\",\"writing score\"],[\"Roberta Fravel\",\"female\",\"group B\",\"high school\",\"standard\",\"none\",\"writing score\"],[\"Charles Irizarry\",\"male\",\"group B\",\"high school\",\"standard\",\"none\",\"writing score\"],[\"Jerome Riddle\",\"male\",\"group D\",\"high school\",\"free/reduced\",\"none\",\"writing score\"],[\"Kimberly Routzahn\",\"female\",\"group C\",\"master's degree\",\"free/reduced\",\"none\",\"writing score\"],[\"Joyce Thornton\",\"female\",\"group B\",\"master's degree\",\"free/reduced\",\"completed\",\"writing score\"],[\"Maria Murphy\",\"female\",\"group D\",\"bachelor's degree\",\"free/reduced\",\"none\",\"writing score\"],[\"Lynda Stotts\",\"female\",\"group D\",\"some college\",\"standard\",\"none\",\"writing score\"],[\"Judy Webb\",\"female\",\"group E\",\"associate's degree\",\"standard\",\"none\",\"writing score\"],[\"Terri Motley\",\"female\",\"group D\",\"some college\",\"standard\",\"completed\",\"writing score\"],[\"Nathan Mewborn\",\"male\",\"group D\",\"master's degree\",\"standard\",\"none\",\"writing score\"],[\"Jeanne White\",\"female\",\"group C\",\"associate's degree\",\"standard\",\"none\",\"writing score\"],[\"Julia Hagan\",\"female\",\"group C\",\"bachelor's degree\",\"free/reduced\",\"completed\",\"writing score\"],[\"David Lemke\",\"male\",\"group E\",\"some college\",\"standard\",\"completed\",\"writing score\"],[\"Clarice Machida\",\"female\",\"group D\",\"some college\",\"free/reduced\",\"completed\",\"writing score\"],[\"Wendy Lewis\",\"female\",\"group B\",\"high school\",\"standard\",\"none\",\"writing score\"],[\"Beatrice Aragon\",\"female\",\"group B\",\"master's degree\",\"free/reduced\",\"completed\",\"writing score\"],[\"Christopher Emmons\",\"male\",\"group C\",\"high school\",\"free/reduced\",\"completed\",\"writing score\"],[\"Richard Lindenbaum\",\"male\",\"group D\",\"some college\",\"free/reduced\",\"none\",\"writing score\"],[\"Jesus Currier\",\"male\",\"group B\",\"some high school\",\"standard\",\"completed\",\"writing score\"],[\"Angie Laskoski\",\"female\",\"group C\",\"bachelor's degree\",\"standard\",\"completed\",\"writing score\"],[\"Michael Diaz\",\"male\",\"group E\",\"associate's degree\",\"standard\",\"none\",\"writing score\"],[\"William Musick\",\"male\",\"group B\",\"some college\",\"standard\",\"none\",\"writing score\"],[\"George Lindsay\",\"male\",\"group E\",\"some high school\",\"free/reduced\",\"completed\",\"writing score\"],[\"Brandi Adams\",\"female\",\"group A\",\"some college\",\"free/reduced\",\"none\",\"writing score\"],[\"Karolyn Hollingsworth\",\"female\",\"group C\",\"some college\",\"standard\",\"completed\",\"writing score\"],[\"Diane Olson\",\"female\",\"group C\",\"some college\",\"standard\",\"completed\",\"writing score\"],[\"Kathryn Novak\",\"female\",\"group B\",\"some college\",\"free/reduced\",\"none\",\"writing score\"],[\"Karen Honea\",\"female\",\"group D\",\"some high school\",\"standard\",\"completed\",\"writing score\"],[\"Lorena Reed\",\"female\",\"group C\",\"high school\",\"free/reduced\",\"none\",\"writing score\"],[\"Christopher Kilkenny\",\"male\",\"group D\",\"high school\",\"standard\",\"none\",\"writing score\"],[\"William Barich\",\"male\",\"group A\",\"bachelor's degree\",\"free/reduced\",\"completed\",\"writing score\"],[\"John Sabir\",\"male\",\"group C\",\"some high school\",\"free/reduced\",\"completed\",\"writing score\"],[\"Isaiah Massey\",\"male\",\"group C\",\"some college\",\"standard\",\"none\",\"writing score\"],[\"James Braun\",\"male\",\"group D\",\"some college\",\"standard\",\"completed\",\"writing score\"],[\"Jane Larson\",\"female\",\"group B\",\"bachelor's degree\",\"standard\",\"none\",\"writing score\"],[\"Richard Stevens\",\"male\",\"group D\",\"some high school\",\"standard\",\"none\",\"writing score\"],[\"Tanya Anderson\",\"female\",\"group C\",\"some college\",\"free/reduced\",\"completed\",\"writing score\"],[\"Laree Keene\",\"female\",\"group C\",\"master's degree\",\"standard\",\"completed\",\"writing score\"],[\"Sheron Luzar\",\"female\",\"group B\",\"some high school\",\"free/reduced\",\"completed\",\"writing score\"],[\"Judith Forker\",\"female\",\"group C\",\"associate's degree\",\"free/reduced\",\"completed\",\"writing score\"],[\"Robert Beard\",\"male\",\"group C\",\"some college\",\"standard\",\"none\",\"writing score\"],[\"Emmie Mooreland\",\"female\",\"group C\",\"bachelor's degree\",\"standard\",\"completed\",\"writing score\"],[\"Thomas Whitehead\",\"male\",\"group D\",\"high school\",\"standard\",\"completed\",\"writing score\"],[\"Shirley Witt\",\"female\",\"group C\",\"some high school\",\"standard\",\"none\",\"writing score\"],[\"Barbra Wade\",\"female\",\"group E\",\"some college\",\"free/reduced\",\"none\",\"writing score\"],[\"Carrie Robinson\",\"female\",\"group C\",\"high school\",\"free/reduced\",\"none\",\"writing score\"],[\"Alex Mcdowell\",\"male\",\"group D\",\"some high school\",\"standard\",\"none\",\"writing score\"],[\"Larry Braun\",\"male\",\"group C\",\"some high school\",\"free/reduced\",\"completed\",\"writing score\"],[\"Mitchell Fisher\",\"male\",\"group B\",\"associate's degree\",\"standard\",\"none\",\"writing score\"],[\"Howard Parham\",\"male\",\"group D\",\"some high school\",\"standard\",\"completed\",\"writing score\"],[\"Jose Walker\",\"male\",\"group B\",\"bachelor's degree\",\"standard\",\"none\",\"writing score\"],[\"Linda Odonnell\",\"female\",\"group E\",\"associate's degree\",\"free/reduced\",\"completed\",\"writing score\"],[\"Kim Adams\",\"female\",\"group A\",\"some college\",\"standard\",\"none\",\"writing score\"],[\"Andreas Browder\",\"male\",\"group C\",\"master's degree\",\"free/reduced\",\"completed\",\"writing score\"],[\"Ruth Patrick\",\"female\",\"group A\",\"associate's degree\",\"standard\",\"completed\",\"writing score\"],[\"Kathy Edwards\",\"female\",\"group D\",\"some high school\",\"standard\",\"completed\",\"writing score\"],[\"Bertha Nelson\",\"female\",\"group B\",\"some high school\",\"standard\",\"none\",\"writing score\"],[\"Oscar Markow\",\"male\",\"group C\",\"some high school\",\"free/reduced\",\"completed\",\"writing score\"],[\"Anthony Bommarito\",\"male\",\"group C\",\"associate's degree\",\"standard\",\"none\",\"writing score\"],[\"Esther Childress\",\"female\",\"group E\",\"master's degree\",\"standard\",\"none\",\"writing score\"],[\"Esther Riebe\",\"female\",\"group C\",\"associate's degree\",\"standard\",\"completed\",\"writing score\"],[\"Sonia Brent\",\"female\",\"group B\",\"some high school\",\"free/reduced\",\"none\",\"writing score\"],[\"Darlene Owsley\",\"female\",\"group D\",\"bachelor's degree\",\"free/reduced\",\"none\",\"writing score\"],[\"Tom Perez\",\"male\",\"group B\",\"some high school\",\"standard\",\"completed\",\"writing score\"],[\"Gladys Kennedy\",\"female\",\"group A\",\"some high school\",\"free/reduced\",\"none\",\"writing score\"],[\"Allen Schwarz\",\"male\",\"group C\",\"some high school\",\"standard\",\"completed\",\"writing score\"],[\"Anna Mascia\",\"female\",\"group C\",\"some high school\",\"standard\",\"none\",\"writing score\"],[\"Suzanne Trosclair\",\"female\",\"group D\",\"some high school\",\"standard\",\"none\",\"writing score\"],[\"James Michael\",\"male\",\"group B\",\"high school\",\"standard\",\"completed\",\"writing score\"],[\"Kenneth Webster\",\"male\",\"group E\",\"associate's degree\",\"free/reduced\",\"none\",\"writing score\"],[\"Angela Cressey\",\"female\",\"group D\",\"some college\",\"standard\",\"none\",\"writing score\"],[\"Judy Schwantes\",\"female\",\"group C\",\"some college\",\"standard\",\"none\",\"writing score\"],[\"Donna Duarte\",\"female\",\"group C\",\"high school\",\"standard\",\"none\",\"writing score\"],[\"Jonathan Mitchell\",\"male\",\"group E\",\"high school\",\"standard\",\"completed\",\"writing score\"],[\"Crystal Smith\",\"female\",\"group C\",\"high school\",\"free/reduced\",\"none\",\"writing score\"],[\"Alberto Roberts\",\"male\",\"group D\",\"associate's degree\",\"standard\",\"none\",\"writing score\"],[\"Chanel Payne\",\"female\",\"group D\",\"associate's degree\",\"standard\",\"completed\",\"writing score\"],[\"Michael Cooney\",\"male\",\"group E\",\"some high school\",\"standard\",\"completed\",\"writing score\"],[\"James Denk\",\"male\",\"group B\",\"some college\",\"standard\",\"none\",\"writing score\"],[\"Terry Pulcher\",\"male\",\"group D\",\"some college\",\"free/reduced\",\"completed\",\"writing score\"],[\"Betty Ellis\",\"female\",\"group D\",\"master's degree\",\"free/reduced\",\"completed\",\"writing score\"],[\"Clarence Querry\",\"male\",\"group C\",\"associate's degree\",\"standard\",\"none\",\"writing score\"],[\"Stacy Parker\",\"female\",\"group B\",\"associate's degree\",\"standard\",\"none\",\"writing score\"],[\"Susan Miller\",\"female\",\"group B\",\"some college\",\"standard\",\"completed\",\"writing score\"],[\"James Brooks\",\"male\",\"group C\",\"master's degree\",\"standard\",\"none\",\"writing score\"],[\"Richard Laughlin\",\"male\",\"group A\",\"some high school\",\"standard\",\"none\",\"writing score\"],[\"Peter Perez\",\"male\",\"group D\",\"master's degree\",\"standard\",\"none\",\"writing score\"],[\"Audrey Shaffer\",\"female\",\"group D\",\"some college\",\"free/reduced\",\"none\",\"writing score\"],[\"Derrick Crasco\",\"male\",\"group B\",\"associate's degree\",\"free/reduced\",\"completed\",\"writing score\"],[\"Lee Trent\",\"female\",\"group D\",\"associate's degree\",\"standard\",\"none\",\"writing score\"],[\"Dustin Henry\",\"male\",\"group C\",\"high school\",\"free/reduced\",\"completed\",\"writing score\"],[\"Joy Hasler\",\"female\",\"group C\",\"some college\",\"standard\",\"none\",\"writing score\"],[\"Shirley Nicholls\",\"female\",\"group E\",\"master's degree\",\"free/reduced\",\"none\",\"writing score\"],[\"Jonathan Pearson\",\"male\",\"group C\",\"high school\",\"standard\",\"completed\",\"writing score\"],[\"Stuart Stanford\",\"male\",\"group D\",\"associate's degree\",\"standard\",\"completed\",\"writing score\"],[\"James King\",\"male\",\"group B\",\"some college\",\"standard\",\"completed\",\"writing score\"],[\"Verda Perryman\",\"female\",\"group C\",\"bachelor's degree\",\"free/reduced\",\"none\",\"writing score\"],[\"Wendy Freel\",\"female\",\"group C\",\"some high school\",\"standard\",\"completed\",\"writing score\"],[\"Kathryn White\",\"female\",\"group C\",\"some college\",\"standard\",\"none\",\"writing score\"],[\"Martin Wilson\",\"male\",\"group D\",\"high school\",\"standard\",\"completed\",\"writing score\"],[\"Kelly Bowar\",\"female\",\"group D\",\"some high school\",\"standard\",\"none\",\"writing score\"],[\"Kelly Greer\",\"female\",\"group C\",\"associate's degree\",\"free/reduced\",\"none\",\"writing score\"],[\"Fred Jaeger\",\"male\",\"group E\",\"bachelor's degree\",\"standard\",\"completed\",\"writing score\"],[\"Haydee Kunkel\",\"female\",\"group C\",\"high school\",\"free/reduced\",\"none\",\"writing score\"],[\"Kayla Lopez\",\"female\",\"group C\",\"associate's degree\",\"standard\",\"completed\",\"writing score\"],[\"Paul Brownell\",\"male\",\"group B\",\"high school\",\"standard\",\"none\",\"writing score\"],[\"Jose Rogers\",\"male\",\"group D\",\"some college\",\"free/reduced\",\"none\",\"writing score\"],[\"Joyce Bland\",\"female\",\"group D\",\"some high school\",\"free/reduced\",\"none\",\"writing score\"],[\"Fannie Alvarez\",\"female\",\"group D\",\"some college\",\"free/reduced\",\"none\",\"writing score\"],[\"Melissa Johnston\",\"female\",\"group C\",\"some high school\",\"free/reduced\",\"none\",\"writing score\"],[\"Judith Mcenany\",\"female\",\"group D\",\"bachelor's degree\",\"standard\",\"none\",\"writing score\"],[\"Nancy Mccormick\",\"female\",\"group D\",\"some high school\",\"free/reduced\",\"completed\",\"writing score\"],[\"Timothy Long\",\"male\",\"group C\",\"high school\",\"standard\",\"completed\",\"writing score\"],[\"Sandra Pompey\",\"female\",\"group E\",\"associate's degree\",\"standard\",\"none\",\"writing score\"],[\"Steven Marriot\",\"male\",\"group C\",\"some college\",\"free/reduced\",\"none\",\"writing score\"],[\"Stanley Chappell\",\"male\",\"group A\",\"associate's degree\",\"free/reduced\",\"none\",\"writing score\"],[\"Michelle Smithson\",\"female\",\"group E\",\"associate's degree\",\"standard\",\"none\",\"writing score\"],[\"Jeffrey Bostrom\",\"male\",\"group E\",\"associate's degree\",\"standard\",\"completed\",\"writing score\"],[\"Earnest Cole\",\"male\",\"group D\",\"some college\",\"standard\",\"completed\",\"writing score\"],[\"Sharon Garcia\",\"female\",\"group C\",\"some high school\",\"free/reduced\",\"none\",\"writing score\"],[\"Carol Miller\",\"female\",\"group C\",\"associate's degree\",\"standard\",\"completed\",\"writing score\"],[\"Antonio Evans\",\"male\",\"group C\",\"high school\",\"free/reduced\",\"none\",\"writing score\"],[\"Pam Otoole\",\"female\",\"group B\",\"bachelor's degree\",\"standard\",\"none\",\"writing score\"],[\"Matthew Burns\",\"male\",\"group E\",\"high school\",\"standard\",\"none\",\"writing score\"],[\"Gregory Fernandez\",\"male\",\"group E\",\"high school\",\"free/reduced\",\"completed\",\"writing score\"],[\"Charles Herandez\",\"male\",\"group D\",\"master's degree\",\"free/reduced\",\"completed\",\"writing score\"],[\"Aaron Shelly\",\"male\",\"group D\",\"associate's degree\",\"standard\",\"none\",\"writing score\"],[\"Charles Harian\",\"male\",\"group C\",\"some high school\",\"free/reduced\",\"completed\",\"writing score\"],[\"Steven Hacker\",\"male\",\"group A\",\"some high school\",\"free/reduced\",\"none\",\"writing score\"],[\"Wendy Gunnell\",\"female\",\"group D\",\"some high school\",\"free/reduced\",\"none\",\"writing score\"],[\"Manuel Glover\",\"male\",\"group D\",\"some college\",\"standard\",\"none\",\"writing score\"],[\"Linda Nevin\",\"female\",\"group B\",\"some high school\",\"standard\",\"completed\",\"writing score\"],[\"James Piper\",\"male\",\"group D\",\"bachelor's degree\",\"free/reduced\",\"none\",\"writing score\"],[\"Timothy Anderson\",\"male\",\"group C\",\"associate's degree\",\"free/reduced\",\"completed\",\"writing score\"],[\"Julie Sciancalepore\",\"female\",\"group C\",\"bachelor's degree\",\"standard\",\"none\",\"writing score\"],[\"Brandon Palmer\",\"male\",\"group D\",\"associate's degree\",\"free/reduced\",\"none\",\"writing score\"],[\"Robert Morrison\",\"male\",\"group D\",\"some college\",\"standard\",\"completed\",\"writing score\"],[\"Claudio Millender\",\"male\",\"group C\",\"some college\",\"free/reduced\",\"completed\",\"writing score\"],[\"Emily King\",\"female\",\"group D\",\"some college\",\"standard\",\"completed\",\"writing score\"],[\"William Sakkinen\",\"male\",\"group E\",\"some college\",\"standard\",\"none\",\"writing score\"],[\"Elsa Hyman\",\"female\",\"group B\",\"high school\",\"standard\",\"none\",\"writing score\"],[\"Virginia Sievers\",\"female\",\"group C\",\"bachelor's degree\",\"standard\",\"completed\",\"writing score\"],[\"Laura Cavanaugh\",\"female\",\"group C\",\"associate's degree\",\"standard\",\"completed\",\"writing score\"],[\"Diana Costa\",\"female\",\"group C\",\"high school\",\"free/reduced\",\"none\",\"writing score\"],[\"Amy Sieving\",\"female\",\"group C\",\"high school\",\"standard\",\"none\",\"writing score\"],[\"Richard Young\",\"male\",\"group D\",\"high school\",\"standard\",\"none\",\"writing score\"],[\"Wanda Russell\",\"female\",\"group B\",\"high school\",\"free/reduced\",\"completed\",\"writing score\"],[\"Marina Zeigler\",\"female\",\"group C\",\"bachelor's degree\",\"free/reduced\",\"completed\",\"writing score\"],[\"Laurie Carter\",\"female\",\"group B\",\"some high school\",\"standard\",\"completed\",\"writing score\"],[\"Amanda Perez\",\"female\",\"group A\",\"high school\",\"standard\",\"completed\",\"writing score\"]],\"hovertemplate\":\"variable=%{customdata[6]}<br>value=%{x}<br>names=%{customdata[0]}<br>gender=%{customdata[1]}<br>race/ethnicity=%{customdata[2]}<br>parental level of education=%{customdata[3]}<br>lunch=%{customdata[4]}<br>test preparation course=%{customdata[5]}<extra></extra>\",\"legendgroup\":\"writing score\",\"marker\":{\"color\":\"#00cc96\"},\"name\":\"writing score\",\"notched\":true,\"offsetgroup\":\"writing score\",\"showlegend\":false,\"type\":\"box\",\"x\":[3.76,5.86,4.78,5.5600000000000005,6.22,5.14,4.84,3.46,4.66,5.26,5.92,5.2,4.48,5.32,4.72,5.08,3.76,5.44,4.6,5.08,5.62,7.0,5.44,4.3,5.8,5.2,5.5,5.02,5.68,6.28,6.1,5.44,4.9,4.24,4.72,4.72,4.24,4.78,4.6,2.62,5.5600000000000005,5.32,4.42,4.18,5.68,2.62,5.2,4.66,5.02,4.9,5.74,5.26,4.66,4.84,6.1,4.9,6.7,6.1,4.6,3.8200000000000003,4.0,4.36,4.12,6.28,5.92,4.66,4.9,6.52,6.16,5.38,5.68,6.46,5.86,6.58,4.48,5.2,4.18,5.68,6.28,3.52,5.44,5.02,5.62,5.68,4.6,5.98,4.66,5.44,4.96,4.84,5.2,4.06,5.2,4.54,5.98,4.24,6.1,7.0,5.32,3.58,4.78,5.92,5.26,4.9,5.68,3.58,5.44,4.6,6.1,4.66,5.5600000000000005,5.62,3.7,6.7,5.26,4.42,5.68,4.54,5.44,3.76,4.72,5.68,5.44,5.86,5.32,5.92,5.38,4.0,4.54,3.64,4.42,4.24,2.92,5.38,5.44,4.42,4.12,5.14,4.18,4.24,3.88,6.4,5.5,5.98,6.64,6.52,6.46,4.72,3.7,4.48,4.12,4.78,4.6,5.44,4.54,6.16,4.3,4.24,4.78,5.38,3.76,6.4,5.74,4.48,4.96,5.32,3.46,3.52,5.2,5.32,5.62,5.5600000000000005,5.02,6.1,4.96,4.24,5.32,5.08,6.1,5.5600000000000005,4.72,4.6,4.48,4.36,4.84,5.5,5.32,5.98,7.0,4.36,4.96,5.02,5.5600000000000005,6.76,5.08,5.8,6.22,4.12,5.92,3.8200000000000003,4.9,6.04,5.74,4.12,3.46,5.38,5.98,4.9,5.92,5.5600000000000005,5.74,3.16,2.98,3.7,4.48,5.74,5.38,5.38,5.2,4.66,5.5,5.08,3.94,4.84,5.38,5.08,4.36,6.16,5.14,4.96,5.2,5.44,4.36,3.7,4.42,3.7,3.8200000000000003,3.2800000000000002,5.68,5.14,4.06,6.4,6.4,4.06,4.48,4.96,6.64,2.14,5.14,4.36,3.76,5.92,4.42,7.0,5.86,4.24,6.46,5.8,6.04,5.2,4.12,5.08,5.38,5.74,5.2,6.04,5.44,5.14,5.5,5.2,5.08,3.64,5.14,5.08,5.08,6.34,5.32,4.9,4.96,5.14,5.92,5.14,5.14,5.38,5.32,5.62,6.16,5.5,5.8,4.24,5.08,6.58,5.38,6.52,5.44,6.88,5.2,5.38,5.5,5.62,5.86,4.12,4.06,4.06,6.76,4.72,5.44,5.5,4.66,5.02,5.62,3.64,4.72,7.0,6.34,5.8,5.68,5.62,4.66,5.32,5.02,6.16,4.66,5.8,5.02,4.18,4.3,6.22,5.26,4.0,5.86,5.44,4.24,4.3,4.6,6.76,6.58,6.46,3.52,5.98,4.96,5.86,3.46,4.36,5.62,4.48,4.96,4.12,3.8200000000000003,3.46,5.08,4.78,4.72,5.26,3.34,5.8,4.66,5.2,5.32,6.34,5.86,3.88,4.3,4.24,6.16,5.2,5.38,5.32,3.8200000000000003,6.28,2.32,5.8,4.96,5.8,5.98,4.0,6.22,6.1,6.22,6.1,6.22,5.2,5.02,5.2,4.66,4.06,4.66,3.88,4.42,6.22,6.34,4.9,4.12,5.8,6.28,4.12,5.8,5.08,3.8200000000000003,4.06,5.8,5.38,6.34,6.16,5.2,4.42,5.62,5.14,5.8,4.78,5.68,5.5600000000000005,5.38,4.12,4.96,5.44,5.92,4.9,3.76,5.14,5.5600000000000005,3.76,5.32,4.06,6.1,4.6,5.8,4.48,4.84,4.48,5.98,5.8,4.96,4.84,4.96,7.0,2.38,4.72,4.84,4.9,5.92,6.46,5.5,5.14,4.84,3.58,5.14,5.44,4.42,4.36,6.64,6.46,4.42,5.5600000000000005,4.0,4.78,5.74,3.64,6.7,5.26,4.42,3.46,4.72,5.08,3.58,4.24,5.5600000000000005,3.8200000000000003,4.84,5.5,5.68,5.38,4.42,6.7,4.96,3.2800000000000002,5.5600000000000005,5.74,5.92,4.9,6.16,5.38,4.9,5.5600000000000005,5.2,4.06,3.88,5.92,4.54,5.38,6.04,5.62,5.5,5.08,6.28,6.16,4.72,5.74,4.24,3.22,4.72,5.08,6.52,4.3,5.08,4.6,5.26,6.28,5.5,4.18,5.38,3.58,5.86,5.44,3.16,5.5,6.58,4.0,4.12,3.52,4.84,4.18,4.18,4.06,4.18,3.04,6.52,5.32,5.5600000000000005,4.96,7.0,3.2800000000000002,4.66,6.22,6.1,6.52,4.36,4.0,3.88,5.62,4.78,6.34,4.24,5.98,4.24,4.96,4.36,5.98,7.0,6.22,5.74,5.5,5.92,5.08,5.68,4.12,4.72,5.44,5.68,6.58,3.64,4.66,4.3,5.26,5.32,3.88,6.88,3.58,4.96,4.24,4.54,5.26,6.04,3.4,4.48,5.2,6.64,5.32,5.44,4.12,7.0,4.24,5.08,5.5,5.86,4.54,4.18,6.4,5.38,5.92,7.0,5.5600000000000005,6.7,6.58,5.08,5.74,4.06,3.94,6.04,4.78,5.68,5.44,5.62,4.36,4.6,6.4,5.92,6.1,4.84,5.2,3.7,5.14,5.5600000000000005,4.06,4.6,3.16,3.7,5.2,3.58,5.14,6.82,5.44,3.58,4.72,4.84,5.92,3.58,4.9,5.2,3.1,5.62,5.8,3.94,5.44,4.18,4.18,5.62,6.7,3.94,5.5,6.7,3.04,5.68,5.92,4.12,4.6,4.48,4.24,4.42,5.02,5.44,6.4,5.02,4.66,5.8,4.72,3.46,3.64,4.42,5.38,6.04,4.42,5.26,5.38,5.86,4.66,5.74,6.7,4.72,5.98,4.78,5.26,5.74,5.44,5.5600000000000005,4.24,4.6,4.48,5.68,3.04,5.62,2.62,6.16,5.14,4.66,6.94,3.94,5.5600000000000005,4.9,4.96,5.5600000000000005,6.16,4.96,4.3,4.78,5.8,3.8200000000000003,5.74,5.8,4.42,4.84,5.08,4.54,5.5,3.2800000000000002,4.12,4.96,5.44,5.74,4.3,4.3,4.84,5.86,4.3,5.92,5.08,4.84,6.28,5.38,5.98,4.3,5.62,5.74,1.9,6.04,4.78,4.9,4.36,4.66,5.68,6.58,6.04,5.02,6.76,5.5,5.02,6.34,5.68,5.98,6.16,6.64,4.12,4.6,4.72,6.94,5.5600000000000005,4.3,4.54,4.42,5.74,6.28,5.5600000000000005,5.44,3.58,4.06,4.6,4.9,5.86,5.74,5.2,4.66,5.2,5.02,4.84,5.14,5.5600000000000005,7.0,4.96,5.92,5.2,4.24,5.68,3.4,4.84,5.14,5.14,5.38,5.02,5.32,4.72,6.28,4.06,4.18,5.26,6.46,4.72,2.68,6.04,5.02,5.14,4.42,5.08,5.92,3.8200000000000003,4.12,6.94,5.2,5.02,5.86,5.08,3.94,5.8,5.5600000000000005,5.02,4.78,5.02,6.04,5.08,6.52,5.62,4.0,6.04,5.62,5.44,5.2,4.0,5.92,4.9,4.18,5.02,6.46,5.32,5.62,4.96,3.88,4.24,4.72,5.26,4.84,6.04,5.8,4.84,4.54,5.44,1.6,4.72,5.86,4.84,7.0,3.94,3.64,4.24,5.08,6.28,4.72,6.4,4.54,5.44,4.36,4.24,6.4,3.76,3.94,4.18,2.92,5.68,5.68,5.02,5.92,5.44,5.5,6.94,5.2,5.74,5.02,5.2,5.5,5.8,3.58,2.8,5.26,3.16,5.86,4.72,5.5600000000000005],\"xaxis\":\"x2\",\"yaxis\":\"y2\"}],                        {\"barmode\":\"relative\",\"legend\":{\"title\":{\"text\":\"variable\"},\"tracegroupgap\":0},\"margin\":{\"t\":60},\"template\":{\"data\":{\"bar\":[{\"error_x\":{\"color\":\"#2a3f5f\"},\"error_y\":{\"color\":\"#2a3f5f\"},\"marker\":{\"line\":{\"color\":\"#E5ECF6\",\"width\":0.5},\"pattern\":{\"fillmode\":\"overlay\",\"size\":10,\"solidity\":0.2}},\"type\":\"bar\"}],\"barpolar\":[{\"marker\":{\"line\":{\"color\":\"#E5ECF6\",\"width\":0.5},\"pattern\":{\"fillmode\":\"overlay\",\"size\":10,\"solidity\":0.2}},\"type\":\"barpolar\"}],\"carpet\":[{\"aaxis\":{\"endlinecolor\":\"#2a3f5f\",\"gridcolor\":\"white\",\"linecolor\":\"white\",\"minorgridcolor\":\"white\",\"startlinecolor\":\"#2a3f5f\"},\"baxis\":{\"endlinecolor\":\"#2a3f5f\",\"gridcolor\":\"white\",\"linecolor\":\"white\",\"minorgridcolor\":\"white\",\"startlinecolor\":\"#2a3f5f\"},\"type\":\"carpet\"}],\"choropleth\":[{\"colorbar\":{\"outlinewidth\":0,\"ticks\":\"\"},\"type\":\"choropleth\"}],\"contour\":[{\"colorbar\":{\"outlinewidth\":0,\"ticks\":\"\"},\"colorscale\":[[0.0,\"#0d0887\"],[0.1111111111111111,\"#46039f\"],[0.2222222222222222,\"#7201a8\"],[0.3333333333333333,\"#9c179e\"],[0.4444444444444444,\"#bd3786\"],[0.5555555555555556,\"#d8576b\"],[0.6666666666666666,\"#ed7953\"],[0.7777777777777778,\"#fb9f3a\"],[0.8888888888888888,\"#fdca26\"],[1.0,\"#f0f921\"]],\"type\":\"contour\"}],\"contourcarpet\":[{\"colorbar\":{\"outlinewidth\":0,\"ticks\":\"\"},\"type\":\"contourcarpet\"}],\"heatmap\":[{\"colorbar\":{\"outlinewidth\":0,\"ticks\":\"\"},\"colorscale\":[[0.0,\"#0d0887\"],[0.1111111111111111,\"#46039f\"],[0.2222222222222222,\"#7201a8\"],[0.3333333333333333,\"#9c179e\"],[0.4444444444444444,\"#bd3786\"],[0.5555555555555556,\"#d8576b\"],[0.6666666666666666,\"#ed7953\"],[0.7777777777777778,\"#fb9f3a\"],[0.8888888888888888,\"#fdca26\"],[1.0,\"#f0f921\"]],\"type\":\"heatmap\"}],\"heatmapgl\":[{\"colorbar\":{\"outlinewidth\":0,\"ticks\":\"\"},\"colorscale\":[[0.0,\"#0d0887\"],[0.1111111111111111,\"#46039f\"],[0.2222222222222222,\"#7201a8\"],[0.3333333333333333,\"#9c179e\"],[0.4444444444444444,\"#bd3786\"],[0.5555555555555556,\"#d8576b\"],[0.6666666666666666,\"#ed7953\"],[0.7777777777777778,\"#fb9f3a\"],[0.8888888888888888,\"#fdca26\"],[1.0,\"#f0f921\"]],\"type\":\"heatmapgl\"}],\"histogram\":[{\"marker\":{\"pattern\":{\"fillmode\":\"overlay\",\"size\":10,\"solidity\":0.2}},\"type\":\"histogram\"}],\"histogram2d\":[{\"colorbar\":{\"outlinewidth\":0,\"ticks\":\"\"},\"colorscale\":[[0.0,\"#0d0887\"],[0.1111111111111111,\"#46039f\"],[0.2222222222222222,\"#7201a8\"],[0.3333333333333333,\"#9c179e\"],[0.4444444444444444,\"#bd3786\"],[0.5555555555555556,\"#d8576b\"],[0.6666666666666666,\"#ed7953\"],[0.7777777777777778,\"#fb9f3a\"],[0.8888888888888888,\"#fdca26\"],[1.0,\"#f0f921\"]],\"type\":\"histogram2d\"}],\"histogram2dcontour\":[{\"colorbar\":{\"outlinewidth\":0,\"ticks\":\"\"},\"colorscale\":[[0.0,\"#0d0887\"],[0.1111111111111111,\"#46039f\"],[0.2222222222222222,\"#7201a8\"],[0.3333333333333333,\"#9c179e\"],[0.4444444444444444,\"#bd3786\"],[0.5555555555555556,\"#d8576b\"],[0.6666666666666666,\"#ed7953\"],[0.7777777777777778,\"#fb9f3a\"],[0.8888888888888888,\"#fdca26\"],[1.0,\"#f0f921\"]],\"type\":\"histogram2dcontour\"}],\"mesh3d\":[{\"colorbar\":{\"outlinewidth\":0,\"ticks\":\"\"},\"type\":\"mesh3d\"}],\"parcoords\":[{\"line\":{\"colorbar\":{\"outlinewidth\":0,\"ticks\":\"\"}},\"type\":\"parcoords\"}],\"pie\":[{\"automargin\":true,\"type\":\"pie\"}],\"scatter\":[{\"marker\":{\"colorbar\":{\"outlinewidth\":0,\"ticks\":\"\"}},\"type\":\"scatter\"}],\"scatter3d\":[{\"line\":{\"colorbar\":{\"outlinewidth\":0,\"ticks\":\"\"}},\"marker\":{\"colorbar\":{\"outlinewidth\":0,\"ticks\":\"\"}},\"type\":\"scatter3d\"}],\"scattercarpet\":[{\"marker\":{\"colorbar\":{\"outlinewidth\":0,\"ticks\":\"\"}},\"type\":\"scattercarpet\"}],\"scattergeo\":[{\"marker\":{\"colorbar\":{\"outlinewidth\":0,\"ticks\":\"\"}},\"type\":\"scattergeo\"}],\"scattergl\":[{\"marker\":{\"colorbar\":{\"outlinewidth\":0,\"ticks\":\"\"}},\"type\":\"scattergl\"}],\"scattermapbox\":[{\"marker\":{\"colorbar\":{\"outlinewidth\":0,\"ticks\":\"\"}},\"type\":\"scattermapbox\"}],\"scatterpolar\":[{\"marker\":{\"colorbar\":{\"outlinewidth\":0,\"ticks\":\"\"}},\"type\":\"scatterpolar\"}],\"scatterpolargl\":[{\"marker\":{\"colorbar\":{\"outlinewidth\":0,\"ticks\":\"\"}},\"type\":\"scatterpolargl\"}],\"scatterternary\":[{\"marker\":{\"colorbar\":{\"outlinewidth\":0,\"ticks\":\"\"}},\"type\":\"scatterternary\"}],\"surface\":[{\"colorbar\":{\"outlinewidth\":0,\"ticks\":\"\"},\"colorscale\":[[0.0,\"#0d0887\"],[0.1111111111111111,\"#46039f\"],[0.2222222222222222,\"#7201a8\"],[0.3333333333333333,\"#9c179e\"],[0.4444444444444444,\"#bd3786\"],[0.5555555555555556,\"#d8576b\"],[0.6666666666666666,\"#ed7953\"],[0.7777777777777778,\"#fb9f3a\"],[0.8888888888888888,\"#fdca26\"],[1.0,\"#f0f921\"]],\"type\":\"surface\"}],\"table\":[{\"cells\":{\"fill\":{\"color\":\"#EBF0F8\"},\"line\":{\"color\":\"white\"}},\"header\":{\"fill\":{\"color\":\"#C8D4E3\"},\"line\":{\"color\":\"white\"}},\"type\":\"table\"}]},\"layout\":{\"annotationdefaults\":{\"arrowcolor\":\"#2a3f5f\",\"arrowhead\":0,\"arrowwidth\":1},\"autotypenumbers\":\"strict\",\"coloraxis\":{\"colorbar\":{\"outlinewidth\":0,\"ticks\":\"\"}},\"colorscale\":{\"diverging\":[[0,\"#8e0152\"],[0.1,\"#c51b7d\"],[0.2,\"#de77ae\"],[0.3,\"#f1b6da\"],[0.4,\"#fde0ef\"],[0.5,\"#f7f7f7\"],[0.6,\"#e6f5d0\"],[0.7,\"#b8e186\"],[0.8,\"#7fbc41\"],[0.9,\"#4d9221\"],[1,\"#276419\"]],\"sequential\":[[0.0,\"#0d0887\"],[0.1111111111111111,\"#46039f\"],[0.2222222222222222,\"#7201a8\"],[0.3333333333333333,\"#9c179e\"],[0.4444444444444444,\"#bd3786\"],[0.5555555555555556,\"#d8576b\"],[0.6666666666666666,\"#ed7953\"],[0.7777777777777778,\"#fb9f3a\"],[0.8888888888888888,\"#fdca26\"],[1.0,\"#f0f921\"]],\"sequentialminus\":[[0.0,\"#0d0887\"],[0.1111111111111111,\"#46039f\"],[0.2222222222222222,\"#7201a8\"],[0.3333333333333333,\"#9c179e\"],[0.4444444444444444,\"#bd3786\"],[0.5555555555555556,\"#d8576b\"],[0.6666666666666666,\"#ed7953\"],[0.7777777777777778,\"#fb9f3a\"],[0.8888888888888888,\"#fdca26\"],[1.0,\"#f0f921\"]]},\"colorway\":[\"#636efa\",\"#EF553B\",\"#00cc96\",\"#ab63fa\",\"#FFA15A\",\"#19d3f3\",\"#FF6692\",\"#B6E880\",\"#FF97FF\",\"#FECB52\"],\"font\":{\"color\":\"#2a3f5f\"},\"geo\":{\"bgcolor\":\"white\",\"lakecolor\":\"white\",\"landcolor\":\"#E5ECF6\",\"showlakes\":true,\"showland\":true,\"subunitcolor\":\"white\"},\"hoverlabel\":{\"align\":\"left\"},\"hovermode\":\"closest\",\"mapbox\":{\"style\":\"light\"},\"paper_bgcolor\":\"white\",\"plot_bgcolor\":\"#E5ECF6\",\"polar\":{\"angularaxis\":{\"gridcolor\":\"white\",\"linecolor\":\"white\",\"ticks\":\"\"},\"bgcolor\":\"#E5ECF6\",\"radialaxis\":{\"gridcolor\":\"white\",\"linecolor\":\"white\",\"ticks\":\"\"}},\"scene\":{\"xaxis\":{\"backgroundcolor\":\"#E5ECF6\",\"gridcolor\":\"white\",\"gridwidth\":2,\"linecolor\":\"white\",\"showbackground\":true,\"ticks\":\"\",\"zerolinecolor\":\"white\"},\"yaxis\":{\"backgroundcolor\":\"#E5ECF6\",\"gridcolor\":\"white\",\"gridwidth\":2,\"linecolor\":\"white\",\"showbackground\":true,\"ticks\":\"\",\"zerolinecolor\":\"white\"},\"zaxis\":{\"backgroundcolor\":\"#E5ECF6\",\"gridcolor\":\"white\",\"gridwidth\":2,\"linecolor\":\"white\",\"showbackground\":true,\"ticks\":\"\",\"zerolinecolor\":\"white\"}},\"shapedefaults\":{\"line\":{\"color\":\"#2a3f5f\"}},\"ternary\":{\"aaxis\":{\"gridcolor\":\"white\",\"linecolor\":\"white\",\"ticks\":\"\"},\"baxis\":{\"gridcolor\":\"white\",\"linecolor\":\"white\",\"ticks\":\"\"},\"bgcolor\":\"#E5ECF6\",\"caxis\":{\"gridcolor\":\"white\",\"linecolor\":\"white\",\"ticks\":\"\"}},\"title\":{\"x\":0.05},\"xaxis\":{\"automargin\":true,\"gridcolor\":\"white\",\"linecolor\":\"white\",\"ticks\":\"\",\"title\":{\"standoff\":15},\"zerolinecolor\":\"white\",\"zerolinewidth\":2},\"yaxis\":{\"automargin\":true,\"gridcolor\":\"white\",\"linecolor\":\"white\",\"ticks\":\"\",\"title\":{\"standoff\":15},\"zerolinecolor\":\"white\",\"zerolinewidth\":2}}},\"xaxis\":{\"anchor\":\"y\",\"domain\":[0.0,1.0],\"title\":{\"text\":\"value\"}},\"xaxis2\":{\"anchor\":\"y2\",\"domain\":[0.0,1.0],\"matches\":\"x\",\"showgrid\":true,\"showticklabels\":false},\"yaxis\":{\"anchor\":\"x\",\"domain\":[0.0,0.7326],\"title\":{\"text\":\"count\"}},\"yaxis2\":{\"anchor\":\"x2\",\"domain\":[0.7426,1.0],\"matches\":\"y2\",\"showgrid\":false,\"showline\":false,\"showticklabels\":false,\"ticks\":\"\"}},                        {\"responsive\": true}                    ).then(function(){\n                            \nvar gd = document.getElementById('eed4355c-013a-429a-a121-53ac92f31cdd');\nvar x = new MutationObserver(function (mutations, observer) {{\n        var display = window.getComputedStyle(gd).display;\n        if (!display || display === 'none') {{\n            console.log([gd, 'removed!']);\n            Plotly.purge(gd);\n            observer.disconnect();\n        }}\n}});\n\n// Listen for the removal of the full notebook cells\nvar notebookContainer = gd.closest('#notebook-container');\nif (notebookContainer) {{\n    x.observe(notebookContainer, {childList: true});\n}}\n\n// Listen for the clearing of the current output cell\nvar outputEl = gd.closest('.output');\nif (outputEl) {{\n    x.observe(outputEl, {childList: true});\n}}\n\n                        })                };                            </script>        </div>\n</body>\n</html>"
     },
     "metadata": {},
     "output_type": "display_data"
    }
   ],
   "execution_count": 79
  },
  {
   "cell_type": "markdown",
   "source": "**Histograma con Faceta:**",
   "metadata": {
    "cell_id": "00022-decb1694-75c7-4d80-8a54-b3b1d65d4f00",
    "deepnote_cell_type": "markdown"
   }
  },
  {
   "cell_type": "code",
   "metadata": {
    "cell_id": "00023-2ed1a40f-79c5-4982-8c74-5d4ede0d8bf9",
    "deepnote_to_be_reexecuted": false,
    "source_hash": "cc15cdd2",
    "execution_start": 1633734266165,
    "execution_millis": 439,
    "deepnote_cell_type": "code"
   },
   "source": "df = px.data.tips()\nfig = px.histogram(df_grades_melted, x=\"value\",color=\"variable\" , facet_row=\"variable\", # or violin, rug\n                   hover_data=df_grades_melted.columns)\nfig.show()",
   "outputs": [
    {
     "data": {
      "text/html": "<html>\n<head><meta charset=\"utf-8\" /></head>\n<body>\n    <div>            <script src=\"https://cdnjs.cloudflare.com/ajax/libs/mathjax/2.7.5/MathJax.js?config=TeX-AMS-MML_SVG\"></script><script type=\"text/javascript\">if (window.MathJax) {MathJax.Hub.Config({SVG: {font: \"STIX-Web\"}});}</script>                <script type=\"text/javascript\">window.PlotlyConfig = {MathJaxConfig: 'local'};</script>\n        <script src=\"https://cdn.plot.ly/plotly-2.4.2.min.js\"></script>                <div id=\"661ae638-59b9-4846-a792-b95d513dbd3c\" class=\"plotly-graph-div\" style=\"height:525px; width:100%;\"></div>            <script type=\"text/javascript\">                                    window.PLOTLYENV=window.PLOTLYENV || {};                                    if (document.getElementById(\"661ae638-59b9-4846-a792-b95d513dbd3c\")) {                    Plotly.newPlot(                        \"661ae638-59b9-4846-a792-b95d513dbd3c\",                        [{\"alignmentgroup\":\"True\",\"bingroup\":\"x\",\"hovertemplate\":\"variable=math score<br>value=%{x}<br>count=%{y}<extra></extra>\",\"legendgroup\":\"math score\",\"marker\":{\"color\":\"#636efa\",\"pattern\":{\"shape\":\"\"}},\"name\":\"math score\",\"offsetgroup\":\"math score\",\"orientation\":\"v\",\"showlegend\":true,\"type\":\"histogram\",\"x\":[3.22,5.8,5.38,5.86,6.64,5.26,5.5,3.04,4.78,6.64,4.9,4.12,4.72,5.44,4.72,5.38,3.76,5.92,4.78,4.84,5.8,6.58,5.14,3.76,6.16,4.54,6.04,4.84,5.38,5.98,5.5,5.14,5.08,4.42,4.96,4.66,3.4,4.0,3.88,3.16,5.68,4.42,5.14,3.4,6.52,3.1,4.78,5.38,4.78,4.12,5.38,4.78,5.26,3.7,6.1,5.8,5.62,6.46,4.6,4.78,3.4,4.42,4.48,6.82,5.86,5.08,4.54,6.76,6.22,4.42,6.64,6.82,4.9,5.92,5.32,4.72,3.64,5.92,5.5,4.54,5.5,5.32,5.08,4.96,5.02,6.58,5.14,4.78,3.76,4.96,4.72,3.88,5.26,4.24,5.8,4.3,6.4,6.64,5.86,4.18,4.66,5.5,5.44,4.72,5.2,4.54,4.72,4.18,5.8,5.14,5.14,5.14,3.94,5.98,4.9,5.38,5.08,4.84,4.9,3.94,4.48,4.96,4.9,4.9,5.2,5.74,4.0,4.84,5.08,2.92,5.08,4.48,2.14,5.14,5.32,4.18,4.66,5.68,4.18,3.7,3.64,5.98,4.9,6.28,6.28,6.46,6.04,4.06,3.2800000000000002,3.8200000000000003,4.96,4.66,4.6,5.26,3.7,5.62,4.18,4.42,5.32,5.5600000000000005,3.7,6.94,4.06,4.84,4.12,5.8,4.06,4.0,4.84,5.44,5.26,4.42,5.14,5.62,5.5,3.58,5.8,4.54,6.1,4.3,3.64,3.52,4.48,4.66,4.0,6.28,5.38,5.02,6.82,4.66,4.72,4.24,4.96,5.68,6.1,6.04,5.5600000000000005,3.64,5.86,4.24,4.48,5.86,5.32,5.26,4.66,4.96,5.26,5.26,6.34,5.38,5.86,3.76,2.32,3.88,3.64,6.46,5.5600000000000005,5.62,4.72,5.02,6.16,4.48,4.18,4.42,5.14,4.72,3.22,6.28,6.4,5.08,4.9,4.78,4.12,3.88,4.9,4.24,2.74,2.56,5.2,5.5,4.6,6.88,6.58,4.54,3.76,5.5600000000000005,5.74,2.68,4.3,4.66,3.1,6.64,3.76,7.0,5.02,4.0,5.74,5.26,5.98,4.3,3.88,5.5600000000000005,5.62,4.72,4.36,5.08,6.04,5.8,4.72,4.6,4.84,2.74,4.12,4.18,5.02,5.92,4.36,5.74,5.38,4.96,5.38,4.96,6.04,5.44,5.5600000000000005,5.86,5.74,5.08,4.78,4.0,5.32,6.1,5.98,6.04,4.9,6.1,5.2,4.48,6.16,4.84,4.9,4.66,3.94,4.18,6.82,5.5,5.32,5.44,4.54,5.08,5.68,4.18,5.32,6.94,5.74,6.46,5.98,5.32,4.66,5.38,4.54,7.0,4.66,5.62,5.26,3.94,4.72,6.16,5.5,3.8200000000000003,4.78,5.2,5.08,4.66,5.26,5.86,7.0,5.62,4.18,5.26,5.38,4.9,3.94,4.12,4.9,4.54,5.8,4.72,4.42,3.76,4.48,5.02,5.38,5.32,3.4,5.68,4.78,4.66,5.74,5.62,5.2,4.18,3.7,3.4,5.92,5.68,5.5,5.2,4.3,5.2,2.8,5.5,4.78,5.92,5.44,4.24,5.26,5.38,5.62,5.62,6.22,6.22,5.44,5.02,3.58,3.94,3.94,4.18,4.84,4.66,5.74,5.14,4.24,4.9,5.62,4.48,5.38,4.24,4.24,4.84,4.54,5.5600000000000005,6.1,6.82,4.18,4.12,5.62,5.74,4.42,4.96,4.78,4.9,5.08,4.3,5.32,6.16,6.82,5.5,4.12,5.44,5.2,3.34,4.66,3.64,6.22,4.96,5.08,4.72,5.86,5.2,5.44,5.5600000000000005,4.54,5.08,5.38,7.0,1.48,4.9,3.4,3.88,6.34,5.62,4.9,5.14,5.08,3.94,4.72,4.36,3.76,4.6,6.46,6.4,5.38,5.2,3.8200000000000003,4.9,5.86,4.3,6.58,4.9,4.72,3.88,5.08,4.96,4.3,3.52,5.44,3.22,4.96,6.28,5.14,4.66,3.34,6.22,4.84,3.64,4.54,5.8,5.26,4.18,5.68,4.3,5.2,4.9,6.16,4.24,3.46,6.4,4.54,4.9,5.02,6.34,4.54,5.38,5.44,6.16,4.66,4.42,4.48,3.7,4.78,5.02,6.64,4.36,4.72,5.2,5.2,5.5600000000000005,4.84,3.8200000000000003,4.96,3.4,4.96,5.08,4.06,6.28,6.4,4.12,3.94,4.18,5.26,4.0,4.48,3.52,5.02,3.34,6.1,5.68,5.38,5.08,6.34,3.4,5.92,5.62,5.14,5.74,4.18,3.58,4.48,6.28,5.14,6.1,5.14,5.32,4.42,4.48,4.72,5.5,6.28,5.86,5.02,5.02,5.44,5.26,6.1,4.36,5.92,4.6,5.86,6.22,3.76,4.48,4.72,5.5600000000000005,4.6,4.0,5.62,4.84,4.66,4.6,5.02,4.84,6.4,4.18,3.88,4.6,5.92,4.48,4.6,4.96,6.1,3.94,5.62,5.02,5.14,4.0,4.72,5.98,5.86,5.32,6.52,5.26,6.28,5.92,5.26,5.5,4.06,4.72,5.5,4.78,5.26,5.02,5.26,4.66,4.36,6.88,5.92,5.5,4.54,5.26,3.64,5.62,4.9,4.42,4.6,2.62,4.48,5.2,3.2800000000000002,3.52,7.0,6.34,3.1,5.62,4.72,5.74,3.76,4.54,4.96,3.8200000000000003,5.62,5.68,4.12,5.2,4.48,5.08,5.14,6.22,4.12,5.32,6.1,3.46,4.66,5.02,4.24,4.78,4.12,4.72,4.48,4.72,4.9,5.44,5.74,5.08,4.78,4.12,4.54,4.3,4.96,5.44,6.46,5.44,5.86,5.74,6.4,4.24,5.68,6.28,4.72,5.8,5.8,5.26,5.5,4.6,6.28,4.3,4.0,3.52,5.14,3.52,4.48,2.44,5.02,4.54,4.54,6.76,3.7,6.28,5.32,4.66,5.86,5.74,3.8200000000000003,3.94,4.24,5.26,4.54,6.34,4.54,4.42,5.62,5.62,4.6,5.5600000000000005,2.92,3.94,5.5600000000000005,4.84,4.78,4.0,3.64,4.96,5.02,4.66,5.14,4.9,4.18,6.22,4.18,4.96,3.94,5.02,4.3,2.8,5.38,4.72,5.74,4.78,4.12,4.48,5.68,5.44,5.08,5.92,5.38,4.54,5.44,6.04,5.02,6.22,5.62,4.48,5.14,4.9,6.52,6.22,5.14,5.38,4.66,5.02,5.14,5.44,4.84,3.16,3.46,3.94,4.54,6.04,5.5600000000000005,4.66,4.72,5.02,4.24,4.54,5.08,6.46,6.76,5.08,5.44,5.26,3.1,5.86,4.18,5.8,5.5600000000000005,4.78,4.42,4.48,5.32,4.3,5.8,3.46,4.06,6.1,5.86,4.12,2.08,5.38,4.78,4.54,4.78,4.78,5.8,4.6,4.84,6.88,4.54,4.9,6.22,4.96,4.12,5.38,6.22,5.74,5.14,3.8200000000000003,6.52,4.42,6.28,5.74,5.26,5.86,4.9,5.92,4.9,3.4,5.38,4.36,5.14,5.02,6.46,5.02,4.9,4.48,4.3,3.88,4.18,6.1,4.72,4.9,5.92,5.62,4.0,5.14,1.0,4.9,5.14,5.32,7.0,4.9,3.8200000000000003,4.06,5.26,5.92,4.3,5.5,4.96,5.32,5.2,4.42,6.04,4.66,3.7,4.9,2.62,6.28,4.9,4.78,5.68,4.9,6.4,7.0,5.02,5.44,5.5600000000000005,4.96,4.54,4.72,3.46,2.74,5.14,2.38,4.96,4.24,5.08],\"xaxis\":\"x3\",\"yaxis\":\"y3\"},{\"alignmentgroup\":\"True\",\"bingroup\":\"x\",\"hovertemplate\":\"variable=reading score<br>value=%{x}<br>count=%{y}<extra></extra>\",\"legendgroup\":\"reading score\",\"marker\":{\"color\":\"#EF553B\",\"pattern\":{\"shape\":\"\"}},\"name\":\"reading score\",\"offsetgroup\":\"reading score\",\"orientation\":\"v\",\"showlegend\":true,\"type\":\"histogram\",\"x\":[3.76,5.68,4.96,5.5,6.16,4.66,5.08,3.88,4.66,5.38,5.68,5.5600000000000005,4.9,5.44,4.42,5.14,3.52,5.92,4.66,5.38,5.5,7.0,5.5600000000000005,4.66,5.86,5.32,5.98,4.84,5.5600000000000005,6.16,6.28,5.44,5.32,4.66,4.84,4.66,4.54,5.02,4.72,2.74,5.74,5.02,4.48,4.3,6.22,2.68,5.02,5.44,4.84,4.54,5.74,5.38,4.6,4.54,6.52,5.5600000000000005,6.64,6.1,4.72,3.88,3.88,4.24,4.24,5.92,5.92,4.9,5.26,6.4,6.04,5.5,6.28,6.58,5.86,6.58,4.42,5.44,4.24,6.04,6.4,3.46,5.38,5.08,5.68,5.44,4.72,6.4,4.78,5.44,4.84,5.08,5.38,4.36,5.2,5.32,5.98,4.54,6.22,6.94,5.38,3.58,5.08,6.1,5.86,5.32,5.68,4.06,5.32,4.0,6.1,4.96,5.68,5.62,3.7,6.58,4.66,4.84,5.98,4.96,5.62,4.42,5.02,5.68,5.2,5.74,5.08,5.86,5.02,4.24,4.6,4.06,4.06,4.42,3.2800000000000002,5.62,5.74,4.48,4.06,5.32,4.72,4.36,4.06,5.98,5.5600000000000005,5.68,6.7,6.34,6.22,4.96,3.94,4.18,4.42,5.38,5.08,5.26,4.78,6.16,4.48,4.06,4.84,5.26,3.88,6.58,5.32,4.6,4.66,5.38,4.24,3.88,5.38,5.44,5.62,5.44,5.2,6.4,5.44,4.06,5.08,5.32,5.86,5.5600000000000005,4.78,4.72,4.54,3.8200000000000003,4.96,5.44,5.68,6.16,7.0,4.48,4.84,4.78,5.26,6.46,5.5,6.04,6.64,4.66,6.04,3.94,4.78,5.92,5.86,3.94,3.52,5.62,5.5600000000000005,4.96,6.28,5.98,5.86,3.04,3.34,4.12,4.84,5.86,5.8,5.68,5.32,4.84,5.86,5.2,4.12,4.48,5.38,4.96,4.42,6.34,5.5,5.2,5.5,5.14,4.42,3.58,4.24,4.24,3.46,2.86,5.5,5.44,4.42,6.22,6.04,4.24,4.24,4.84,6.28,2.38,5.26,4.42,4.18,6.1,4.48,7.0,5.8,3.8200000000000003,6.04,5.86,5.92,4.84,4.48,5.38,5.62,5.68,5.08,6.16,5.62,5.5,5.2,4.96,4.72,3.4,4.9,4.66,4.66,6.7,5.74,5.5600000000000005,5.08,5.44,6.16,4.9,5.38,5.62,5.26,5.32,6.34,5.26,5.68,4.36,4.9,6.52,5.68,6.7,5.62,6.16,5.2,4.78,5.8,5.92,5.86,4.3,4.06,4.06,6.82,5.32,5.38,5.74,5.02,5.08,5.62,4.48,4.42,7.0,6.34,5.38,5.32,5.74,4.72,5.44,4.24,6.76,4.96,5.74,5.02,4.18,4.66,6.52,5.86,4.54,5.5,5.5,4.78,4.36,4.96,6.82,7.0,6.4,3.64,5.98,5.08,5.92,3.94,4.54,5.5,4.6,4.84,3.94,3.58,3.58,5.38,4.24,4.96,5.32,3.58,5.98,4.9,5.32,5.44,5.92,6.04,4.24,4.18,4.48,6.1,5.32,4.96,4.84,4.3,6.34,2.56,6.04,4.84,5.92,5.86,4.54,6.04,6.04,6.28,6.28,6.04,5.44,5.38,4.84,4.72,4.12,4.9,4.24,4.18,6.16,6.52,5.26,4.12,6.16,6.46,4.66,5.5600000000000005,4.84,4.18,4.48,5.32,5.44,6.04,6.52,5.2,4.3,5.5600000000000005,5.32,5.62,5.14,5.38,6.1,5.02,4.48,4.96,5.5600000000000005,6.22,5.08,3.94,5.2,5.92,4.12,5.44,4.0,6.04,4.9,5.62,5.02,4.96,4.78,5.5,5.68,5.2,5.08,4.96,7.0,2.44,4.84,4.9,4.96,6.04,5.92,5.38,5.62,5.32,4.06,5.14,5.08,4.36,4.06,6.7,6.4,4.36,5.32,3.94,4.9,5.62,3.76,7.0,5.2,4.66,3.7,4.54,5.14,3.76,4.3,5.62,4.36,4.78,5.68,5.62,5.26,4.84,7.0,4.78,3.46,5.68,5.74,6.22,4.48,5.86,5.38,5.2,5.14,5.38,4.12,4.06,6.4,4.48,5.86,5.74,6.04,4.78,5.26,6.4,5.98,4.48,5.68,4.12,3.22,4.78,5.38,6.22,4.12,4.96,4.9,5.44,5.98,5.44,4.24,5.44,4.12,5.44,5.44,2.86,6.04,6.7,4.42,4.18,4.12,5.44,3.88,4.3,4.12,4.42,3.34,6.4,5.44,5.68,5.2,7.0,3.52,5.02,6.1,6.04,6.16,4.72,3.7,4.3,5.62,5.2,6.46,4.6,5.8,4.0,4.66,4.78,5.62,6.94,6.46,5.68,5.14,5.74,5.44,6.04,4.24,4.72,4.84,5.5,6.1,3.58,5.08,4.3,5.32,5.08,3.52,6.34,4.0,5.08,4.54,4.42,5.38,6.1,3.7,4.36,5.2,6.4,5.02,5.5,4.54,6.7,4.12,5.14,5.5600000000000005,5.74,4.6,4.36,6.1,5.26,5.74,7.0,5.2,6.94,6.58,5.14,5.92,3.94,4.3,5.86,4.3,5.98,5.32,5.98,4.36,4.66,6.16,6.04,6.28,4.72,5.5,3.7,5.08,5.5600000000000005,3.88,4.6,3.04,4.0,4.84,3.58,4.96,6.52,5.5600000000000005,3.64,4.72,4.84,5.92,3.46,5.2,5.62,3.22,5.08,5.62,3.88,5.26,4.42,4.24,5.32,6.64,4.18,5.8,6.34,3.34,5.26,6.34,3.88,4.78,4.48,4.3,4.6,5.02,5.62,6.28,5.38,5.08,5.8,5.2,3.52,3.8200000000000003,4.6,5.5600000000000005,6.16,4.78,5.44,5.92,5.68,4.48,5.92,6.52,5.02,6.16,4.78,5.74,6.16,5.32,5.5,4.66,4.6,4.66,5.5,3.34,5.5,3.2800000000000002,6.04,4.72,4.72,6.76,3.8200000000000003,6.1,5.02,5.02,5.8,6.1,4.72,4.48,4.6,5.26,4.48,6.22,6.1,4.48,5.02,5.02,4.78,5.68,3.04,4.42,4.72,5.5600000000000005,5.68,4.18,4.06,4.72,6.04,4.6,6.04,5.38,5.32,6.4,4.96,5.98,4.9,5.44,5.32,2.44,6.52,4.72,4.6,4.42,4.9,5.5600000000000005,6.4,6.34,5.5600000000000005,6.82,5.2,4.96,6.16,5.98,6.16,6.7,6.82,4.06,4.96,4.96,7.0,5.44,4.24,5.02,4.6,5.86,6.4,5.86,4.6,4.18,4.12,4.48,5.14,6.22,5.98,5.32,5.02,5.5,4.84,4.78,5.02,5.44,7.0,4.84,5.5,5.5600000000000005,4.66,5.68,3.22,5.5600000000000005,5.2,5.26,5.08,5.2,4.96,4.9,6.52,4.3,4.36,5.5600000000000005,6.52,4.54,2.92,5.74,5.02,5.38,4.6,5.38,6.4,3.64,4.36,7.0,5.26,5.14,6.46,5.5600000000000005,4.3,5.5,6.04,5.02,4.6,4.48,5.74,5.14,6.7,5.68,4.72,5.86,5.86,5.68,5.14,3.76,5.8,5.32,4.48,5.32,6.76,5.5,5.44,4.54,3.46,4.48,4.66,4.96,5.02,6.04,5.92,4.72,4.84,4.9,2.02,5.02,6.16,5.02,7.0,4.48,4.42,4.06,5.44,5.92,4.9,5.92,4.96,5.32,4.3,4.36,6.34,3.88,4.12,4.54,3.04,5.38,5.92,4.96,5.86,5.32,6.22,6.82,5.44,5.5,5.02,5.32,4.84,5.5600000000000005,3.76,2.74,5.5,3.64,5.44,4.66,5.8],\"xaxis\":\"x2\",\"yaxis\":\"y2\"},{\"alignmentgroup\":\"True\",\"bingroup\":\"x\",\"hovertemplate\":\"variable=writing score<br>value=%{x}<br>count=%{y}<extra></extra>\",\"legendgroup\":\"writing score\",\"marker\":{\"color\":\"#00cc96\",\"pattern\":{\"shape\":\"\"}},\"name\":\"writing score\",\"offsetgroup\":\"writing score\",\"orientation\":\"v\",\"showlegend\":true,\"type\":\"histogram\",\"x\":[3.76,5.86,4.78,5.5600000000000005,6.22,5.14,4.84,3.46,4.66,5.26,5.92,5.2,4.48,5.32,4.72,5.08,3.76,5.44,4.6,5.08,5.62,7.0,5.44,4.3,5.8,5.2,5.5,5.02,5.68,6.28,6.1,5.44,4.9,4.24,4.72,4.72,4.24,4.78,4.6,2.62,5.5600000000000005,5.32,4.42,4.18,5.68,2.62,5.2,4.66,5.02,4.9,5.74,5.26,4.66,4.84,6.1,4.9,6.7,6.1,4.6,3.8200000000000003,4.0,4.36,4.12,6.28,5.92,4.66,4.9,6.52,6.16,5.38,5.68,6.46,5.86,6.58,4.48,5.2,4.18,5.68,6.28,3.52,5.44,5.02,5.62,5.68,4.6,5.98,4.66,5.44,4.96,4.84,5.2,4.06,5.2,4.54,5.98,4.24,6.1,7.0,5.32,3.58,4.78,5.92,5.26,4.9,5.68,3.58,5.44,4.6,6.1,4.66,5.5600000000000005,5.62,3.7,6.7,5.26,4.42,5.68,4.54,5.44,3.76,4.72,5.68,5.44,5.86,5.32,5.92,5.38,4.0,4.54,3.64,4.42,4.24,2.92,5.38,5.44,4.42,4.12,5.14,4.18,4.24,3.88,6.4,5.5,5.98,6.64,6.52,6.46,4.72,3.7,4.48,4.12,4.78,4.6,5.44,4.54,6.16,4.3,4.24,4.78,5.38,3.76,6.4,5.74,4.48,4.96,5.32,3.46,3.52,5.2,5.32,5.62,5.5600000000000005,5.02,6.1,4.96,4.24,5.32,5.08,6.1,5.5600000000000005,4.72,4.6,4.48,4.36,4.84,5.5,5.32,5.98,7.0,4.36,4.96,5.02,5.5600000000000005,6.76,5.08,5.8,6.22,4.12,5.92,3.8200000000000003,4.9,6.04,5.74,4.12,3.46,5.38,5.98,4.9,5.92,5.5600000000000005,5.74,3.16,2.98,3.7,4.48,5.74,5.38,5.38,5.2,4.66,5.5,5.08,3.94,4.84,5.38,5.08,4.36,6.16,5.14,4.96,5.2,5.44,4.36,3.7,4.42,3.7,3.8200000000000003,3.2800000000000002,5.68,5.14,4.06,6.4,6.4,4.06,4.48,4.96,6.64,2.14,5.14,4.36,3.76,5.92,4.42,7.0,5.86,4.24,6.46,5.8,6.04,5.2,4.12,5.08,5.38,5.74,5.2,6.04,5.44,5.14,5.5,5.2,5.08,3.64,5.14,5.08,5.08,6.34,5.32,4.9,4.96,5.14,5.92,5.14,5.14,5.38,5.32,5.62,6.16,5.5,5.8,4.24,5.08,6.58,5.38,6.52,5.44,6.88,5.2,5.38,5.5,5.62,5.86,4.12,4.06,4.06,6.76,4.72,5.44,5.5,4.66,5.02,5.62,3.64,4.72,7.0,6.34,5.8,5.68,5.62,4.66,5.32,5.02,6.16,4.66,5.8,5.02,4.18,4.3,6.22,5.26,4.0,5.86,5.44,4.24,4.3,4.6,6.76,6.58,6.46,3.52,5.98,4.96,5.86,3.46,4.36,5.62,4.48,4.96,4.12,3.8200000000000003,3.46,5.08,4.78,4.72,5.26,3.34,5.8,4.66,5.2,5.32,6.34,5.86,3.88,4.3,4.24,6.16,5.2,5.38,5.32,3.8200000000000003,6.28,2.32,5.8,4.96,5.8,5.98,4.0,6.22,6.1,6.22,6.1,6.22,5.2,5.02,5.2,4.66,4.06,4.66,3.88,4.42,6.22,6.34,4.9,4.12,5.8,6.28,4.12,5.8,5.08,3.8200000000000003,4.06,5.8,5.38,6.34,6.16,5.2,4.42,5.62,5.14,5.8,4.78,5.68,5.5600000000000005,5.38,4.12,4.96,5.44,5.92,4.9,3.76,5.14,5.5600000000000005,3.76,5.32,4.06,6.1,4.6,5.8,4.48,4.84,4.48,5.98,5.8,4.96,4.84,4.96,7.0,2.38,4.72,4.84,4.9,5.92,6.46,5.5,5.14,4.84,3.58,5.14,5.44,4.42,4.36,6.64,6.46,4.42,5.5600000000000005,4.0,4.78,5.74,3.64,6.7,5.26,4.42,3.46,4.72,5.08,3.58,4.24,5.5600000000000005,3.8200000000000003,4.84,5.5,5.68,5.38,4.42,6.7,4.96,3.2800000000000002,5.5600000000000005,5.74,5.92,4.9,6.16,5.38,4.9,5.5600000000000005,5.2,4.06,3.88,5.92,4.54,5.38,6.04,5.62,5.5,5.08,6.28,6.16,4.72,5.74,4.24,3.22,4.72,5.08,6.52,4.3,5.08,4.6,5.26,6.28,5.5,4.18,5.38,3.58,5.86,5.44,3.16,5.5,6.58,4.0,4.12,3.52,4.84,4.18,4.18,4.06,4.18,3.04,6.52,5.32,5.5600000000000005,4.96,7.0,3.2800000000000002,4.66,6.22,6.1,6.52,4.36,4.0,3.88,5.62,4.78,6.34,4.24,5.98,4.24,4.96,4.36,5.98,7.0,6.22,5.74,5.5,5.92,5.08,5.68,4.12,4.72,5.44,5.68,6.58,3.64,4.66,4.3,5.26,5.32,3.88,6.88,3.58,4.96,4.24,4.54,5.26,6.04,3.4,4.48,5.2,6.64,5.32,5.44,4.12,7.0,4.24,5.08,5.5,5.86,4.54,4.18,6.4,5.38,5.92,7.0,5.5600000000000005,6.7,6.58,5.08,5.74,4.06,3.94,6.04,4.78,5.68,5.44,5.62,4.36,4.6,6.4,5.92,6.1,4.84,5.2,3.7,5.14,5.5600000000000005,4.06,4.6,3.16,3.7,5.2,3.58,5.14,6.82,5.44,3.58,4.72,4.84,5.92,3.58,4.9,5.2,3.1,5.62,5.8,3.94,5.44,4.18,4.18,5.62,6.7,3.94,5.5,6.7,3.04,5.68,5.92,4.12,4.6,4.48,4.24,4.42,5.02,5.44,6.4,5.02,4.66,5.8,4.72,3.46,3.64,4.42,5.38,6.04,4.42,5.26,5.38,5.86,4.66,5.74,6.7,4.72,5.98,4.78,5.26,5.74,5.44,5.5600000000000005,4.24,4.6,4.48,5.68,3.04,5.62,2.62,6.16,5.14,4.66,6.94,3.94,5.5600000000000005,4.9,4.96,5.5600000000000005,6.16,4.96,4.3,4.78,5.8,3.8200000000000003,5.74,5.8,4.42,4.84,5.08,4.54,5.5,3.2800000000000002,4.12,4.96,5.44,5.74,4.3,4.3,4.84,5.86,4.3,5.92,5.08,4.84,6.28,5.38,5.98,4.3,5.62,5.74,1.9,6.04,4.78,4.9,4.36,4.66,5.68,6.58,6.04,5.02,6.76,5.5,5.02,6.34,5.68,5.98,6.16,6.64,4.12,4.6,4.72,6.94,5.5600000000000005,4.3,4.54,4.42,5.74,6.28,5.5600000000000005,5.44,3.58,4.06,4.6,4.9,5.86,5.74,5.2,4.66,5.2,5.02,4.84,5.14,5.5600000000000005,7.0,4.96,5.92,5.2,4.24,5.68,3.4,4.84,5.14,5.14,5.38,5.02,5.32,4.72,6.28,4.06,4.18,5.26,6.46,4.72,2.68,6.04,5.02,5.14,4.42,5.08,5.92,3.8200000000000003,4.12,6.94,5.2,5.02,5.86,5.08,3.94,5.8,5.5600000000000005,5.02,4.78,5.02,6.04,5.08,6.52,5.62,4.0,6.04,5.62,5.44,5.2,4.0,5.92,4.9,4.18,5.02,6.46,5.32,5.62,4.96,3.88,4.24,4.72,5.26,4.84,6.04,5.8,4.84,4.54,5.44,1.6,4.72,5.86,4.84,7.0,3.94,3.64,4.24,5.08,6.28,4.72,6.4,4.54,5.44,4.36,4.24,6.4,3.76,3.94,4.18,2.92,5.68,5.68,5.02,5.92,5.44,5.5,6.94,5.2,5.74,5.02,5.2,5.5,5.8,3.58,2.8,5.26,3.16,5.86,4.72,5.5600000000000005],\"xaxis\":\"x\",\"yaxis\":\"y\"}],                        {\"annotations\":[{\"font\":{},\"showarrow\":false,\"text\":\"variable=writing score\",\"textangle\":90,\"x\":0.98,\"xanchor\":\"left\",\"xref\":\"paper\",\"y\":0.15666666666666665,\"yanchor\":\"middle\",\"yref\":\"paper\"},{\"font\":{},\"showarrow\":false,\"text\":\"variable=reading score\",\"textangle\":90,\"x\":0.98,\"xanchor\":\"left\",\"xref\":\"paper\",\"y\":0.4999999999999999,\"yanchor\":\"middle\",\"yref\":\"paper\"},{\"font\":{},\"showarrow\":false,\"text\":\"variable=math score\",\"textangle\":90,\"x\":0.98,\"xanchor\":\"left\",\"xref\":\"paper\",\"y\":0.8433333333333332,\"yanchor\":\"middle\",\"yref\":\"paper\"}],\"barmode\":\"relative\",\"legend\":{\"title\":{\"text\":\"variable\"},\"tracegroupgap\":0},\"margin\":{\"t\":60},\"template\":{\"data\":{\"bar\":[{\"error_x\":{\"color\":\"#2a3f5f\"},\"error_y\":{\"color\":\"#2a3f5f\"},\"marker\":{\"line\":{\"color\":\"#E5ECF6\",\"width\":0.5},\"pattern\":{\"fillmode\":\"overlay\",\"size\":10,\"solidity\":0.2}},\"type\":\"bar\"}],\"barpolar\":[{\"marker\":{\"line\":{\"color\":\"#E5ECF6\",\"width\":0.5},\"pattern\":{\"fillmode\":\"overlay\",\"size\":10,\"solidity\":0.2}},\"type\":\"barpolar\"}],\"carpet\":[{\"aaxis\":{\"endlinecolor\":\"#2a3f5f\",\"gridcolor\":\"white\",\"linecolor\":\"white\",\"minorgridcolor\":\"white\",\"startlinecolor\":\"#2a3f5f\"},\"baxis\":{\"endlinecolor\":\"#2a3f5f\",\"gridcolor\":\"white\",\"linecolor\":\"white\",\"minorgridcolor\":\"white\",\"startlinecolor\":\"#2a3f5f\"},\"type\":\"carpet\"}],\"choropleth\":[{\"colorbar\":{\"outlinewidth\":0,\"ticks\":\"\"},\"type\":\"choropleth\"}],\"contour\":[{\"colorbar\":{\"outlinewidth\":0,\"ticks\":\"\"},\"colorscale\":[[0.0,\"#0d0887\"],[0.1111111111111111,\"#46039f\"],[0.2222222222222222,\"#7201a8\"],[0.3333333333333333,\"#9c179e\"],[0.4444444444444444,\"#bd3786\"],[0.5555555555555556,\"#d8576b\"],[0.6666666666666666,\"#ed7953\"],[0.7777777777777778,\"#fb9f3a\"],[0.8888888888888888,\"#fdca26\"],[1.0,\"#f0f921\"]],\"type\":\"contour\"}],\"contourcarpet\":[{\"colorbar\":{\"outlinewidth\":0,\"ticks\":\"\"},\"type\":\"contourcarpet\"}],\"heatmap\":[{\"colorbar\":{\"outlinewidth\":0,\"ticks\":\"\"},\"colorscale\":[[0.0,\"#0d0887\"],[0.1111111111111111,\"#46039f\"],[0.2222222222222222,\"#7201a8\"],[0.3333333333333333,\"#9c179e\"],[0.4444444444444444,\"#bd3786\"],[0.5555555555555556,\"#d8576b\"],[0.6666666666666666,\"#ed7953\"],[0.7777777777777778,\"#fb9f3a\"],[0.8888888888888888,\"#fdca26\"],[1.0,\"#f0f921\"]],\"type\":\"heatmap\"}],\"heatmapgl\":[{\"colorbar\":{\"outlinewidth\":0,\"ticks\":\"\"},\"colorscale\":[[0.0,\"#0d0887\"],[0.1111111111111111,\"#46039f\"],[0.2222222222222222,\"#7201a8\"],[0.3333333333333333,\"#9c179e\"],[0.4444444444444444,\"#bd3786\"],[0.5555555555555556,\"#d8576b\"],[0.6666666666666666,\"#ed7953\"],[0.7777777777777778,\"#fb9f3a\"],[0.8888888888888888,\"#fdca26\"],[1.0,\"#f0f921\"]],\"type\":\"heatmapgl\"}],\"histogram\":[{\"marker\":{\"pattern\":{\"fillmode\":\"overlay\",\"size\":10,\"solidity\":0.2}},\"type\":\"histogram\"}],\"histogram2d\":[{\"colorbar\":{\"outlinewidth\":0,\"ticks\":\"\"},\"colorscale\":[[0.0,\"#0d0887\"],[0.1111111111111111,\"#46039f\"],[0.2222222222222222,\"#7201a8\"],[0.3333333333333333,\"#9c179e\"],[0.4444444444444444,\"#bd3786\"],[0.5555555555555556,\"#d8576b\"],[0.6666666666666666,\"#ed7953\"],[0.7777777777777778,\"#fb9f3a\"],[0.8888888888888888,\"#fdca26\"],[1.0,\"#f0f921\"]],\"type\":\"histogram2d\"}],\"histogram2dcontour\":[{\"colorbar\":{\"outlinewidth\":0,\"ticks\":\"\"},\"colorscale\":[[0.0,\"#0d0887\"],[0.1111111111111111,\"#46039f\"],[0.2222222222222222,\"#7201a8\"],[0.3333333333333333,\"#9c179e\"],[0.4444444444444444,\"#bd3786\"],[0.5555555555555556,\"#d8576b\"],[0.6666666666666666,\"#ed7953\"],[0.7777777777777778,\"#fb9f3a\"],[0.8888888888888888,\"#fdca26\"],[1.0,\"#f0f921\"]],\"type\":\"histogram2dcontour\"}],\"mesh3d\":[{\"colorbar\":{\"outlinewidth\":0,\"ticks\":\"\"},\"type\":\"mesh3d\"}],\"parcoords\":[{\"line\":{\"colorbar\":{\"outlinewidth\":0,\"ticks\":\"\"}},\"type\":\"parcoords\"}],\"pie\":[{\"automargin\":true,\"type\":\"pie\"}],\"scatter\":[{\"marker\":{\"colorbar\":{\"outlinewidth\":0,\"ticks\":\"\"}},\"type\":\"scatter\"}],\"scatter3d\":[{\"line\":{\"colorbar\":{\"outlinewidth\":0,\"ticks\":\"\"}},\"marker\":{\"colorbar\":{\"outlinewidth\":0,\"ticks\":\"\"}},\"type\":\"scatter3d\"}],\"scattercarpet\":[{\"marker\":{\"colorbar\":{\"outlinewidth\":0,\"ticks\":\"\"}},\"type\":\"scattercarpet\"}],\"scattergeo\":[{\"marker\":{\"colorbar\":{\"outlinewidth\":0,\"ticks\":\"\"}},\"type\":\"scattergeo\"}],\"scattergl\":[{\"marker\":{\"colorbar\":{\"outlinewidth\":0,\"ticks\":\"\"}},\"type\":\"scattergl\"}],\"scattermapbox\":[{\"marker\":{\"colorbar\":{\"outlinewidth\":0,\"ticks\":\"\"}},\"type\":\"scattermapbox\"}],\"scatterpolar\":[{\"marker\":{\"colorbar\":{\"outlinewidth\":0,\"ticks\":\"\"}},\"type\":\"scatterpolar\"}],\"scatterpolargl\":[{\"marker\":{\"colorbar\":{\"outlinewidth\":0,\"ticks\":\"\"}},\"type\":\"scatterpolargl\"}],\"scatterternary\":[{\"marker\":{\"colorbar\":{\"outlinewidth\":0,\"ticks\":\"\"}},\"type\":\"scatterternary\"}],\"surface\":[{\"colorbar\":{\"outlinewidth\":0,\"ticks\":\"\"},\"colorscale\":[[0.0,\"#0d0887\"],[0.1111111111111111,\"#46039f\"],[0.2222222222222222,\"#7201a8\"],[0.3333333333333333,\"#9c179e\"],[0.4444444444444444,\"#bd3786\"],[0.5555555555555556,\"#d8576b\"],[0.6666666666666666,\"#ed7953\"],[0.7777777777777778,\"#fb9f3a\"],[0.8888888888888888,\"#fdca26\"],[1.0,\"#f0f921\"]],\"type\":\"surface\"}],\"table\":[{\"cells\":{\"fill\":{\"color\":\"#EBF0F8\"},\"line\":{\"color\":\"white\"}},\"header\":{\"fill\":{\"color\":\"#C8D4E3\"},\"line\":{\"color\":\"white\"}},\"type\":\"table\"}]},\"layout\":{\"annotationdefaults\":{\"arrowcolor\":\"#2a3f5f\",\"arrowhead\":0,\"arrowwidth\":1},\"autotypenumbers\":\"strict\",\"coloraxis\":{\"colorbar\":{\"outlinewidth\":0,\"ticks\":\"\"}},\"colorscale\":{\"diverging\":[[0,\"#8e0152\"],[0.1,\"#c51b7d\"],[0.2,\"#de77ae\"],[0.3,\"#f1b6da\"],[0.4,\"#fde0ef\"],[0.5,\"#f7f7f7\"],[0.6,\"#e6f5d0\"],[0.7,\"#b8e186\"],[0.8,\"#7fbc41\"],[0.9,\"#4d9221\"],[1,\"#276419\"]],\"sequential\":[[0.0,\"#0d0887\"],[0.1111111111111111,\"#46039f\"],[0.2222222222222222,\"#7201a8\"],[0.3333333333333333,\"#9c179e\"],[0.4444444444444444,\"#bd3786\"],[0.5555555555555556,\"#d8576b\"],[0.6666666666666666,\"#ed7953\"],[0.7777777777777778,\"#fb9f3a\"],[0.8888888888888888,\"#fdca26\"],[1.0,\"#f0f921\"]],\"sequentialminus\":[[0.0,\"#0d0887\"],[0.1111111111111111,\"#46039f\"],[0.2222222222222222,\"#7201a8\"],[0.3333333333333333,\"#9c179e\"],[0.4444444444444444,\"#bd3786\"],[0.5555555555555556,\"#d8576b\"],[0.6666666666666666,\"#ed7953\"],[0.7777777777777778,\"#fb9f3a\"],[0.8888888888888888,\"#fdca26\"],[1.0,\"#f0f921\"]]},\"colorway\":[\"#636efa\",\"#EF553B\",\"#00cc96\",\"#ab63fa\",\"#FFA15A\",\"#19d3f3\",\"#FF6692\",\"#B6E880\",\"#FF97FF\",\"#FECB52\"],\"font\":{\"color\":\"#2a3f5f\"},\"geo\":{\"bgcolor\":\"white\",\"lakecolor\":\"white\",\"landcolor\":\"#E5ECF6\",\"showlakes\":true,\"showland\":true,\"subunitcolor\":\"white\"},\"hoverlabel\":{\"align\":\"left\"},\"hovermode\":\"closest\",\"mapbox\":{\"style\":\"light\"},\"paper_bgcolor\":\"white\",\"plot_bgcolor\":\"#E5ECF6\",\"polar\":{\"angularaxis\":{\"gridcolor\":\"white\",\"linecolor\":\"white\",\"ticks\":\"\"},\"bgcolor\":\"#E5ECF6\",\"radialaxis\":{\"gridcolor\":\"white\",\"linecolor\":\"white\",\"ticks\":\"\"}},\"scene\":{\"xaxis\":{\"backgroundcolor\":\"#E5ECF6\",\"gridcolor\":\"white\",\"gridwidth\":2,\"linecolor\":\"white\",\"showbackground\":true,\"ticks\":\"\",\"zerolinecolor\":\"white\"},\"yaxis\":{\"backgroundcolor\":\"#E5ECF6\",\"gridcolor\":\"white\",\"gridwidth\":2,\"linecolor\":\"white\",\"showbackground\":true,\"ticks\":\"\",\"zerolinecolor\":\"white\"},\"zaxis\":{\"backgroundcolor\":\"#E5ECF6\",\"gridcolor\":\"white\",\"gridwidth\":2,\"linecolor\":\"white\",\"showbackground\":true,\"ticks\":\"\",\"zerolinecolor\":\"white\"}},\"shapedefaults\":{\"line\":{\"color\":\"#2a3f5f\"}},\"ternary\":{\"aaxis\":{\"gridcolor\":\"white\",\"linecolor\":\"white\",\"ticks\":\"\"},\"baxis\":{\"gridcolor\":\"white\",\"linecolor\":\"white\",\"ticks\":\"\"},\"bgcolor\":\"#E5ECF6\",\"caxis\":{\"gridcolor\":\"white\",\"linecolor\":\"white\",\"ticks\":\"\"}},\"title\":{\"x\":0.05},\"xaxis\":{\"automargin\":true,\"gridcolor\":\"white\",\"linecolor\":\"white\",\"ticks\":\"\",\"title\":{\"standoff\":15},\"zerolinecolor\":\"white\",\"zerolinewidth\":2},\"yaxis\":{\"automargin\":true,\"gridcolor\":\"white\",\"linecolor\":\"white\",\"ticks\":\"\",\"title\":{\"standoff\":15},\"zerolinecolor\":\"white\",\"zerolinewidth\":2}}},\"xaxis\":{\"anchor\":\"y\",\"domain\":[0.0,0.98],\"title\":{\"text\":\"value\"}},\"xaxis2\":{\"anchor\":\"y2\",\"domain\":[0.0,0.98],\"matches\":\"x\",\"showticklabels\":false},\"xaxis3\":{\"anchor\":\"y3\",\"domain\":[0.0,0.98],\"matches\":\"x\",\"showticklabels\":false},\"yaxis\":{\"anchor\":\"x\",\"domain\":[0.0,0.3133333333333333],\"title\":{\"text\":\"count\"}},\"yaxis2\":{\"anchor\":\"x2\",\"domain\":[0.34333333333333327,0.6566666666666665],\"matches\":\"y\",\"title\":{\"text\":\"count\"}},\"yaxis3\":{\"anchor\":\"x3\",\"domain\":[0.6866666666666665,0.9999999999999998],\"matches\":\"y\",\"title\":{\"text\":\"count\"}}},                        {\"responsive\": true}                    ).then(function(){\n                            \nvar gd = document.getElementById('661ae638-59b9-4846-a792-b95d513dbd3c');\nvar x = new MutationObserver(function (mutations, observer) {{\n        var display = window.getComputedStyle(gd).display;\n        if (!display || display === 'none') {{\n            console.log([gd, 'removed!']);\n            Plotly.purge(gd);\n            observer.disconnect();\n        }}\n}});\n\n// Listen for the removal of the full notebook cells\nvar notebookContainer = gd.closest('#notebook-container');\nif (notebookContainer) {{\n    x.observe(notebookContainer, {childList: true});\n}}\n\n// Listen for the clearing of the current output cell\nvar outputEl = gd.closest('.output');\nif (outputEl) {{\n    x.observe(outputEl, {childList: true});\n}}\n\n                        })                };                            </script>        </div>\n</body>\n</html>"
     },
     "metadata": {},
     "output_type": "display_data"
    }
   ],
   "execution_count": 80
  },
  {
   "cell_type": "markdown",
   "source": "**Resultados Esperados:**",
   "metadata": {
    "cell_id": "00024-46dc4be4-155a-48c9-9779-9bd0067cc294",
    "deepnote_cell_type": "markdown"
   }
  },
  {
   "cell_type": "code",
   "metadata": {
    "cell_id": "00025-ff5859f6-309a-4918-b064-891ee62edb48",
    "deepnote_to_be_reexecuted": false,
    "source_hash": "b31fd813",
    "execution_start": 1633729478589,
    "execution_millis": 128241,
    "deepnote_cell_type": "code"
   },
   "source": "\n",
   "outputs": [],
   "execution_count": 7
  },
  {
   "cell_type": "markdown",
   "source": "**Justifique:**",
   "metadata": {
    "cell_id": "00026-7802238a-f63f-4145-97db-a143ce43630a",
    "deepnote_cell_type": "markdown"
   }
  },
  {
   "cell_type": "markdown",
   "source": "```\n1.. ¿Existe una diferencia notable entre las notas?\nSí, en matematicas se nota que la media es más baja que en lectura y escritura. Se nota en la combinación de histograma y boxplot.\n¿Cuál de los gráficos mostrados cree que es adecuado para mostrarle al rector? ¿Y a los padres? ¿Y a un centro de estudios educativos? ¿Por qué?. Base sus respuestas en lo visto en la clase de visualizaciones como también en lo que usted y su equipo consideren correcto.\nCreo que el mejor para mostrar es el boxplot con histograma para el director, ya que una vez explicado es fácil de reconocer las diferencias ya que a diferencia del grafico de histograma en facetas es dificil comparar en que ramas van bien y cuales faltan más apoyo. El es el encargado de hacerse preguntas como \"porque nos va mejor en a que en b\" por lo que creo que es conveniente para el este tipo completo. Por otro lado a los padres el histograma con faceta que es simple sirve para ver por matería como esta su estudiante y poder decir a esta más bajo de uno que otro pero sin tener que comparar entre las mismas como un total o una vista completa, ya que eso no es mucho lo que le importa a un padre. El centro educativo creo que el mismo que el director tiene sentido ya que pueden comparar entre ellos como van con los distintos ramos. \n```",
   "metadata": {
    "cell_id": "00027-1406fc03-ba1c-4bcf-a602-bbfce4874aa1",
    "deepnote_cell_type": "markdown"
   }
  },
  {
   "cell_type": "markdown",
   "source": "## Análisis por Nivel Educacional Etnia de los Padres [1.5 Puntos]\n\nEl rector, basado en su experiencia, cree fuertemente que el nivel educacional y la etnia de los padres influyen en las notas que obtienen sus hijos. \nComo científicos de datos, ud. y su equipo creen que deben encontrar evidencia para confirmar o refutar la hipótesis del rector.\n\nPara esto, deciden generar dos análisis: una tabla de resumen por una parte y gráficos de caja por otro.\n\n### Tabla de Resumen\n\nPara generar la tabla de resumen:\n\n- [ ] Calcular el promedio de las notas y guardarlo en una variable `GPA` (grade point average).\n- [ ] Hacer una simplificación a través de un mapeo (investigar `map()`) de la variable `parental level of education`  según la siguiente conversión: \n\n        some high school -> school\n        some college -> school\n        high school -> school\n        bachelor's degree -> college\n        associate's degree -> college\n        master's degree -> postgraduate\n\n  Los resultados de este mapeo deben ser guardados en la columna `simple parental level of education`.\n\n\n- [ ] Agregar según 2 niveles: `race/ethnicity` y `simple parental level of education` para obtener el promedio de las notas. \n- [ ] Agregar según 2 niveles: `race/ethnicity` y `simple parental level of education` para obtener un conteo de los alumnos en cada grupo y agregarlos como una nueva fila count.\n- [ ] Obtener el porcentaje de alumnos con respecto al total. Los porcentajes deben ser strings que contienen la frecuencia de cada grupo con respecto al total y deben ser terminados en '%'. \n\n\nUtilizar la tabla de resultados esperados como guía para desarrollar este punto.",
   "metadata": {
    "cell_id": "00028-52f69ee4-85e3-4af3-887a-2dcf87caada8",
    "deepnote_cell_type": "markdown"
   }
  },
  {
   "cell_type": "markdown",
   "source": "### 1.3.4 Información por Categorías [1 punto]",
   "metadata": {
    "id": "nFP8X1L4B1v9",
    "cell_id": "00029-52856a5e-2807-4e3c-b923-68f0feeec901",
    "deepnote_cell_type": "markdown"
   }
  },
  {
   "cell_type": "code",
   "metadata": {
    "cell_id": "00030-59011e49-dec7-412d-8f65-aee89a9e0e5d",
    "deepnote_to_be_reexecuted": false,
    "source_hash": "583f8243",
    "execution_start": 1633734626148,
    "execution_millis": 399,
    "deepnote_cell_type": "code"
   },
   "source": "df_grades['GPA']= round(df_grades['math score']+df_grades['reading score']+df_grades['writing score']/ 3 ,2)\n\ndef simplify(education):\n    if education == \"some high school\" or education ==\"some college\" or  education == \"high school\" : \n        return \"school\"\n    elif education ==  \"bachelor's degree\" or education== \"associate's degree\" : \n        return \"college\"\n    elif education == \"master's degree\": \n        return \"postgraduate\"\n\n\ndf_grades['simple parental level of education'] = df_grades['parental level of education'].map(simplify)\ndf_grades_grouped1= df_grades.groupby([\"race/ethnicity\",\"simple parental level of education\"]).agg(count=('simple parental level of education', 'size'))\ndf_grades_grouped= df_grades.groupby([\"race/ethnicity\",\"simple parental level of education\"]).agg({\"math score\":\"mean\",\"reading score\":\"mean\",\"writing score\":\"mean\",\"GPA\":\"mean\"})\ndf_grades_grouped[\"count\"] =df_grades_grouped1['count'] \ndf_grades_grouped[\"percentage\"] = (df_grades_grouped1['count'] / df_grades_grouped1['count'].sum()) * 100\nprint(df_grades_grouped)\n",
   "outputs": [
    {
     "name": "stdout",
     "text": "                                                   math score  reading score  \\\nrace/ethnicity simple parental level of education                              \ngroup A        college                               4.735000       5.005000   \n               postgraduate                          4.690000       5.230000   \n               school                                4.568235       4.725882   \ngroup B        college                               5.070000       5.264444   \n               postgraduate                          4.912000       5.692000   \n               school                                4.689159       4.887664   \ngroup C        college                               5.021765       5.370588   \n               postgraduate                          4.924000       5.144000   \n               school                                4.764516       5.023871   \ngroup D        college                               5.108286       5.248000   \n               postgraduate                          5.218000       5.542000   \n               school                                5.018792       5.128725   \ngroup E        college                               5.542692       5.453846   \n               postgraduate                          5.540000       6.030000   \n               school                                5.396190       5.311429   \n\n                                                   writing score        GPA  \\\nrace/ethnicity simple parental level of education                             \ngroup A        college                                  4.890000  11.366667   \n               postgraduate                             5.350000  11.700000   \n               school                                   4.558824  10.810392   \ngroup B        college                                  5.192222  12.061852   \n               postgraduate                             5.548000  12.450000   \n               school                                   4.764299  11.161589   \ngroup C        college                                  5.354706  12.173922   \n               postgraduate                             5.104000  11.766000   \n               school                                   4.919355  11.424839   \ngroup D        college                                  5.248857  12.102571   \n               postgraduate                             5.734000  12.668000   \n               school                                   5.110201  11.847584   \ngroup E        college                                  5.450385  12.810000   \n               postgraduate                             5.890000  13.530000   \n               school                                   5.159048  12.423968   \n\n                                                   count  percentage  \nrace/ethnicity simple parental level of education                     \ngroup A        college                                24    2.742857  \n               postgraduate                            2    0.228571  \n               school                                 51    5.828571  \ngroup B        college                                54    6.171429  \n               postgraduate                            5    0.571429  \n               school                                107   12.228571  \ngroup C        college                               102   11.657143  \n               postgraduate                           15    1.714286  \n               school                                155   17.714286  \ngroup D        college                                70    8.000000  \n               postgraduate                           20    2.285714  \n               school                                149   17.028571  \ngroup E        college                                52    5.942857  \n               postgraduate                            6    0.685714  \n               school                                 63    7.200000  \n",
     "output_type": "stream"
    }
   ],
   "execution_count": 84
  },
  {
   "cell_type": "markdown",
   "source": "**Resultado Esperado**\n\n|    | race/ethnicity   | simple parental level of education   |   math score |   reading score |   writing score |   GPA |   count | percentage   |\n|---:|:-----------------|:-------------------------------------|-------------:|----------------:|----------------:|------:|--------:|:-------------|\n|  0 | group A          | college                              |         4.74 |            5    |            4.89 |  4.88 |      24 | 2.74 %       |\n|  1 |           | postgraduate                         |         4.69 |            5.23 |            5.35 |  5.09 |       2 | 0.23 %       |\n|  2 |           | school                               |         4.57 |            4.73 |            4.56 |  4.62 |      51 | 5.83 %       |\n|  3 | group B          | college                              |         5.07 |            5.26 |            5.19 |  5.18 |      54 | 6.17 %       |\n|  4 |           | postgraduate                         |         4.91 |            5.69 |            5.55 |  5.38 |       5 | 0.57 %       |\n|  5 |           | school                               |         4.69 |            4.89 |            4.76 |  4.78 |     107 | 12.23 %      |\n|  6 | group C          | college                              |         5.02 |            5.37 |            5.35 |  5.25 |     102 | 11.66 %      |\n|  7 |           | postgraduate                         |         4.92 |            5.14 |            5.1  |  5.06 |      15 | 1.71 %       |\n|  8 |           | school                               |         4.76 |            5.02 |            4.92 |  4.9  |     155 | 17.71 %      |\n|  9 | group D          | college                              |         5.11 |            5.25 |            5.25 |  5.2  |      70 | 8.0 %        |\n| 10 |           | postgraduate                         |         5.22 |            5.54 |            5.73 |  5.5  |      20 | 2.29 %       |\n| 11 |           | school                               |         5.02 |            5.13 |            5.11 |  5.09 |     149 | 17.03 %      |\n| 12 | group E          | college                              |         5.54 |            5.45 |            5.45 |  5.48 |      52 | 5.94 %       |\n| 13 |          | postgraduate                         |         5.54 |            6.03 |            5.89 |  5.82 |       6 | 0.69 %       |\n| 14 |          | school                               |         5.4  |            5.31 |            5.16 |  5.29 |      63 | 7.2 %        |",
   "metadata": {
    "cell_id": "00031-21e3fdc1-be7c-4629-b4ac-1655f79ff42d",
    "deepnote_cell_type": "markdown"
   }
  },
  {
   "cell_type": "markdown",
   "source": "## Visualizaciones [0.5 Puntos]\n\nAhora, implemente un gráfico de caja en donde se muestre el GPA con respecto al nivel educacional y que la variable de color sea la etnicidad y luego comente.",
   "metadata": {
    "cell_id": "00032-0f1fe08e-f284-4f7c-a614-dfd239f53d3b",
    "deepnote_cell_type": "markdown"
   }
  },
  {
   "cell_type": "code",
   "metadata": {
    "cell_id": "00033-1c049d0b-d494-4426-bbac-b73ee5d2f91f",
    "deepnote_to_be_reexecuted": false,
    "source_hash": "db3e3444",
    "execution_start": 1633734728955,
    "execution_millis": 482,
    "deepnote_cell_type": "code"
   },
   "source": "import plotly.express as px\ndf = px.data.tips()\nfig = px.box(df_grades_grouped.reset_index(),x=\"simple parental level of education\", y=\"GPA\",color=\"race/ethnicity\")\nfig.show()",
   "outputs": [
    {
     "data": {
      "text/html": "<html>\n<head><meta charset=\"utf-8\" /></head>\n<body>\n    <div>            <script src=\"https://cdnjs.cloudflare.com/ajax/libs/mathjax/2.7.5/MathJax.js?config=TeX-AMS-MML_SVG\"></script><script type=\"text/javascript\">if (window.MathJax) {MathJax.Hub.Config({SVG: {font: \"STIX-Web\"}});}</script>                <script type=\"text/javascript\">window.PlotlyConfig = {MathJaxConfig: 'local'};</script>\n        <script src=\"https://cdn.plot.ly/plotly-2.4.2.min.js\"></script>                <div id=\"4946a212-a743-44d8-91eb-d278bc10ef73\" class=\"plotly-graph-div\" style=\"height:525px; width:100%;\"></div>            <script type=\"text/javascript\">                                    window.PLOTLYENV=window.PLOTLYENV || {};                                    if (document.getElementById(\"4946a212-a743-44d8-91eb-d278bc10ef73\")) {                    Plotly.newPlot(                        \"4946a212-a743-44d8-91eb-d278bc10ef73\",                        [{\"alignmentgroup\":\"True\",\"hovertemplate\":\"race/ethnicity=group A<br>simple parental level of education=%{x}<br>GPA=%{y}<extra></extra>\",\"legendgroup\":\"group A\",\"marker\":{\"color\":\"#636efa\"},\"name\":\"group A\",\"notched\":false,\"offsetgroup\":\"group A\",\"orientation\":\"v\",\"showlegend\":true,\"type\":\"box\",\"x\":[\"college\",\"postgraduate\",\"school\"],\"x0\":\" \",\"xaxis\":\"x\",\"y\":[11.366666666666665,11.7,10.810392156862745],\"y0\":\" \",\"yaxis\":\"y\"},{\"alignmentgroup\":\"True\",\"hovertemplate\":\"race/ethnicity=group B<br>simple parental level of education=%{x}<br>GPA=%{y}<extra></extra>\",\"legendgroup\":\"group B\",\"marker\":{\"color\":\"#EF553B\"},\"name\":\"group B\",\"notched\":false,\"offsetgroup\":\"group B\",\"orientation\":\"v\",\"showlegend\":true,\"type\":\"box\",\"x\":[\"college\",\"postgraduate\",\"school\"],\"x0\":\" \",\"xaxis\":\"x\",\"y\":[12.061851851851854,12.45,11.161588785046728],\"y0\":\" \",\"yaxis\":\"y\"},{\"alignmentgroup\":\"True\",\"hovertemplate\":\"race/ethnicity=group C<br>simple parental level of education=%{x}<br>GPA=%{y}<extra></extra>\",\"legendgroup\":\"group C\",\"marker\":{\"color\":\"#00cc96\"},\"name\":\"group C\",\"notched\":false,\"offsetgroup\":\"group C\",\"orientation\":\"v\",\"showlegend\":true,\"type\":\"box\",\"x\":[\"college\",\"postgraduate\",\"school\"],\"x0\":\" \",\"xaxis\":\"x\",\"y\":[12.173921568627453,11.766,11.424838709677418],\"y0\":\" \",\"yaxis\":\"y\"},{\"alignmentgroup\":\"True\",\"hovertemplate\":\"race/ethnicity=group D<br>simple parental level of education=%{x}<br>GPA=%{y}<extra></extra>\",\"legendgroup\":\"group D\",\"marker\":{\"color\":\"#ab63fa\"},\"name\":\"group D\",\"notched\":false,\"offsetgroup\":\"group D\",\"orientation\":\"v\",\"showlegend\":true,\"type\":\"box\",\"x\":[\"college\",\"postgraduate\",\"school\"],\"x0\":\" \",\"xaxis\":\"x\",\"y\":[12.102571428571425,12.667999999999997,11.84758389261745],\"y0\":\" \",\"yaxis\":\"y\"},{\"alignmentgroup\":\"True\",\"hovertemplate\":\"race/ethnicity=group E<br>simple parental level of education=%{x}<br>GPA=%{y}<extra></extra>\",\"legendgroup\":\"group E\",\"marker\":{\"color\":\"#FFA15A\"},\"name\":\"group E\",\"notched\":false,\"offsetgroup\":\"group E\",\"orientation\":\"v\",\"showlegend\":true,\"type\":\"box\",\"x\":[\"college\",\"postgraduate\",\"school\"],\"x0\":\" \",\"xaxis\":\"x\",\"y\":[12.809999999999999,13.530000000000001,12.42396825396825],\"y0\":\" \",\"yaxis\":\"y\"}],                        {\"boxmode\":\"group\",\"legend\":{\"title\":{\"text\":\"race/ethnicity\"},\"tracegroupgap\":0},\"margin\":{\"t\":60},\"template\":{\"data\":{\"bar\":[{\"error_x\":{\"color\":\"#2a3f5f\"},\"error_y\":{\"color\":\"#2a3f5f\"},\"marker\":{\"line\":{\"color\":\"#E5ECF6\",\"width\":0.5},\"pattern\":{\"fillmode\":\"overlay\",\"size\":10,\"solidity\":0.2}},\"type\":\"bar\"}],\"barpolar\":[{\"marker\":{\"line\":{\"color\":\"#E5ECF6\",\"width\":0.5},\"pattern\":{\"fillmode\":\"overlay\",\"size\":10,\"solidity\":0.2}},\"type\":\"barpolar\"}],\"carpet\":[{\"aaxis\":{\"endlinecolor\":\"#2a3f5f\",\"gridcolor\":\"white\",\"linecolor\":\"white\",\"minorgridcolor\":\"white\",\"startlinecolor\":\"#2a3f5f\"},\"baxis\":{\"endlinecolor\":\"#2a3f5f\",\"gridcolor\":\"white\",\"linecolor\":\"white\",\"minorgridcolor\":\"white\",\"startlinecolor\":\"#2a3f5f\"},\"type\":\"carpet\"}],\"choropleth\":[{\"colorbar\":{\"outlinewidth\":0,\"ticks\":\"\"},\"type\":\"choropleth\"}],\"contour\":[{\"colorbar\":{\"outlinewidth\":0,\"ticks\":\"\"},\"colorscale\":[[0.0,\"#0d0887\"],[0.1111111111111111,\"#46039f\"],[0.2222222222222222,\"#7201a8\"],[0.3333333333333333,\"#9c179e\"],[0.4444444444444444,\"#bd3786\"],[0.5555555555555556,\"#d8576b\"],[0.6666666666666666,\"#ed7953\"],[0.7777777777777778,\"#fb9f3a\"],[0.8888888888888888,\"#fdca26\"],[1.0,\"#f0f921\"]],\"type\":\"contour\"}],\"contourcarpet\":[{\"colorbar\":{\"outlinewidth\":0,\"ticks\":\"\"},\"type\":\"contourcarpet\"}],\"heatmap\":[{\"colorbar\":{\"outlinewidth\":0,\"ticks\":\"\"},\"colorscale\":[[0.0,\"#0d0887\"],[0.1111111111111111,\"#46039f\"],[0.2222222222222222,\"#7201a8\"],[0.3333333333333333,\"#9c179e\"],[0.4444444444444444,\"#bd3786\"],[0.5555555555555556,\"#d8576b\"],[0.6666666666666666,\"#ed7953\"],[0.7777777777777778,\"#fb9f3a\"],[0.8888888888888888,\"#fdca26\"],[1.0,\"#f0f921\"]],\"type\":\"heatmap\"}],\"heatmapgl\":[{\"colorbar\":{\"outlinewidth\":0,\"ticks\":\"\"},\"colorscale\":[[0.0,\"#0d0887\"],[0.1111111111111111,\"#46039f\"],[0.2222222222222222,\"#7201a8\"],[0.3333333333333333,\"#9c179e\"],[0.4444444444444444,\"#bd3786\"],[0.5555555555555556,\"#d8576b\"],[0.6666666666666666,\"#ed7953\"],[0.7777777777777778,\"#fb9f3a\"],[0.8888888888888888,\"#fdca26\"],[1.0,\"#f0f921\"]],\"type\":\"heatmapgl\"}],\"histogram\":[{\"marker\":{\"pattern\":{\"fillmode\":\"overlay\",\"size\":10,\"solidity\":0.2}},\"type\":\"histogram\"}],\"histogram2d\":[{\"colorbar\":{\"outlinewidth\":0,\"ticks\":\"\"},\"colorscale\":[[0.0,\"#0d0887\"],[0.1111111111111111,\"#46039f\"],[0.2222222222222222,\"#7201a8\"],[0.3333333333333333,\"#9c179e\"],[0.4444444444444444,\"#bd3786\"],[0.5555555555555556,\"#d8576b\"],[0.6666666666666666,\"#ed7953\"],[0.7777777777777778,\"#fb9f3a\"],[0.8888888888888888,\"#fdca26\"],[1.0,\"#f0f921\"]],\"type\":\"histogram2d\"}],\"histogram2dcontour\":[{\"colorbar\":{\"outlinewidth\":0,\"ticks\":\"\"},\"colorscale\":[[0.0,\"#0d0887\"],[0.1111111111111111,\"#46039f\"],[0.2222222222222222,\"#7201a8\"],[0.3333333333333333,\"#9c179e\"],[0.4444444444444444,\"#bd3786\"],[0.5555555555555556,\"#d8576b\"],[0.6666666666666666,\"#ed7953\"],[0.7777777777777778,\"#fb9f3a\"],[0.8888888888888888,\"#fdca26\"],[1.0,\"#f0f921\"]],\"type\":\"histogram2dcontour\"}],\"mesh3d\":[{\"colorbar\":{\"outlinewidth\":0,\"ticks\":\"\"},\"type\":\"mesh3d\"}],\"parcoords\":[{\"line\":{\"colorbar\":{\"outlinewidth\":0,\"ticks\":\"\"}},\"type\":\"parcoords\"}],\"pie\":[{\"automargin\":true,\"type\":\"pie\"}],\"scatter\":[{\"marker\":{\"colorbar\":{\"outlinewidth\":0,\"ticks\":\"\"}},\"type\":\"scatter\"}],\"scatter3d\":[{\"line\":{\"colorbar\":{\"outlinewidth\":0,\"ticks\":\"\"}},\"marker\":{\"colorbar\":{\"outlinewidth\":0,\"ticks\":\"\"}},\"type\":\"scatter3d\"}],\"scattercarpet\":[{\"marker\":{\"colorbar\":{\"outlinewidth\":0,\"ticks\":\"\"}},\"type\":\"scattercarpet\"}],\"scattergeo\":[{\"marker\":{\"colorbar\":{\"outlinewidth\":0,\"ticks\":\"\"}},\"type\":\"scattergeo\"}],\"scattergl\":[{\"marker\":{\"colorbar\":{\"outlinewidth\":0,\"ticks\":\"\"}},\"type\":\"scattergl\"}],\"scattermapbox\":[{\"marker\":{\"colorbar\":{\"outlinewidth\":0,\"ticks\":\"\"}},\"type\":\"scattermapbox\"}],\"scatterpolar\":[{\"marker\":{\"colorbar\":{\"outlinewidth\":0,\"ticks\":\"\"}},\"type\":\"scatterpolar\"}],\"scatterpolargl\":[{\"marker\":{\"colorbar\":{\"outlinewidth\":0,\"ticks\":\"\"}},\"type\":\"scatterpolargl\"}],\"scatterternary\":[{\"marker\":{\"colorbar\":{\"outlinewidth\":0,\"ticks\":\"\"}},\"type\":\"scatterternary\"}],\"surface\":[{\"colorbar\":{\"outlinewidth\":0,\"ticks\":\"\"},\"colorscale\":[[0.0,\"#0d0887\"],[0.1111111111111111,\"#46039f\"],[0.2222222222222222,\"#7201a8\"],[0.3333333333333333,\"#9c179e\"],[0.4444444444444444,\"#bd3786\"],[0.5555555555555556,\"#d8576b\"],[0.6666666666666666,\"#ed7953\"],[0.7777777777777778,\"#fb9f3a\"],[0.8888888888888888,\"#fdca26\"],[1.0,\"#f0f921\"]],\"type\":\"surface\"}],\"table\":[{\"cells\":{\"fill\":{\"color\":\"#EBF0F8\"},\"line\":{\"color\":\"white\"}},\"header\":{\"fill\":{\"color\":\"#C8D4E3\"},\"line\":{\"color\":\"white\"}},\"type\":\"table\"}]},\"layout\":{\"annotationdefaults\":{\"arrowcolor\":\"#2a3f5f\",\"arrowhead\":0,\"arrowwidth\":1},\"autotypenumbers\":\"strict\",\"coloraxis\":{\"colorbar\":{\"outlinewidth\":0,\"ticks\":\"\"}},\"colorscale\":{\"diverging\":[[0,\"#8e0152\"],[0.1,\"#c51b7d\"],[0.2,\"#de77ae\"],[0.3,\"#f1b6da\"],[0.4,\"#fde0ef\"],[0.5,\"#f7f7f7\"],[0.6,\"#e6f5d0\"],[0.7,\"#b8e186\"],[0.8,\"#7fbc41\"],[0.9,\"#4d9221\"],[1,\"#276419\"]],\"sequential\":[[0.0,\"#0d0887\"],[0.1111111111111111,\"#46039f\"],[0.2222222222222222,\"#7201a8\"],[0.3333333333333333,\"#9c179e\"],[0.4444444444444444,\"#bd3786\"],[0.5555555555555556,\"#d8576b\"],[0.6666666666666666,\"#ed7953\"],[0.7777777777777778,\"#fb9f3a\"],[0.8888888888888888,\"#fdca26\"],[1.0,\"#f0f921\"]],\"sequentialminus\":[[0.0,\"#0d0887\"],[0.1111111111111111,\"#46039f\"],[0.2222222222222222,\"#7201a8\"],[0.3333333333333333,\"#9c179e\"],[0.4444444444444444,\"#bd3786\"],[0.5555555555555556,\"#d8576b\"],[0.6666666666666666,\"#ed7953\"],[0.7777777777777778,\"#fb9f3a\"],[0.8888888888888888,\"#fdca26\"],[1.0,\"#f0f921\"]]},\"colorway\":[\"#636efa\",\"#EF553B\",\"#00cc96\",\"#ab63fa\",\"#FFA15A\",\"#19d3f3\",\"#FF6692\",\"#B6E880\",\"#FF97FF\",\"#FECB52\"],\"font\":{\"color\":\"#2a3f5f\"},\"geo\":{\"bgcolor\":\"white\",\"lakecolor\":\"white\",\"landcolor\":\"#E5ECF6\",\"showlakes\":true,\"showland\":true,\"subunitcolor\":\"white\"},\"hoverlabel\":{\"align\":\"left\"},\"hovermode\":\"closest\",\"mapbox\":{\"style\":\"light\"},\"paper_bgcolor\":\"white\",\"plot_bgcolor\":\"#E5ECF6\",\"polar\":{\"angularaxis\":{\"gridcolor\":\"white\",\"linecolor\":\"white\",\"ticks\":\"\"},\"bgcolor\":\"#E5ECF6\",\"radialaxis\":{\"gridcolor\":\"white\",\"linecolor\":\"white\",\"ticks\":\"\"}},\"scene\":{\"xaxis\":{\"backgroundcolor\":\"#E5ECF6\",\"gridcolor\":\"white\",\"gridwidth\":2,\"linecolor\":\"white\",\"showbackground\":true,\"ticks\":\"\",\"zerolinecolor\":\"white\"},\"yaxis\":{\"backgroundcolor\":\"#E5ECF6\",\"gridcolor\":\"white\",\"gridwidth\":2,\"linecolor\":\"white\",\"showbackground\":true,\"ticks\":\"\",\"zerolinecolor\":\"white\"},\"zaxis\":{\"backgroundcolor\":\"#E5ECF6\",\"gridcolor\":\"white\",\"gridwidth\":2,\"linecolor\":\"white\",\"showbackground\":true,\"ticks\":\"\",\"zerolinecolor\":\"white\"}},\"shapedefaults\":{\"line\":{\"color\":\"#2a3f5f\"}},\"ternary\":{\"aaxis\":{\"gridcolor\":\"white\",\"linecolor\":\"white\",\"ticks\":\"\"},\"baxis\":{\"gridcolor\":\"white\",\"linecolor\":\"white\",\"ticks\":\"\"},\"bgcolor\":\"#E5ECF6\",\"caxis\":{\"gridcolor\":\"white\",\"linecolor\":\"white\",\"ticks\":\"\"}},\"title\":{\"x\":0.05},\"xaxis\":{\"automargin\":true,\"gridcolor\":\"white\",\"linecolor\":\"white\",\"ticks\":\"\",\"title\":{\"standoff\":15},\"zerolinecolor\":\"white\",\"zerolinewidth\":2},\"yaxis\":{\"automargin\":true,\"gridcolor\":\"white\",\"linecolor\":\"white\",\"ticks\":\"\",\"title\":{\"standoff\":15},\"zerolinecolor\":\"white\",\"zerolinewidth\":2}}},\"xaxis\":{\"anchor\":\"y\",\"domain\":[0.0,1.0],\"title\":{\"text\":\"simple parental level of education\"}},\"yaxis\":{\"anchor\":\"x\",\"domain\":[0.0,1.0],\"title\":{\"text\":\"GPA\"}}},                        {\"responsive\": true}                    ).then(function(){\n                            \nvar gd = document.getElementById('4946a212-a743-44d8-91eb-d278bc10ef73');\nvar x = new MutationObserver(function (mutations, observer) {{\n        var display = window.getComputedStyle(gd).display;\n        if (!display || display === 'none') {{\n            console.log([gd, 'removed!']);\n            Plotly.purge(gd);\n            observer.disconnect();\n        }}\n}});\n\n// Listen for the removal of the full notebook cells\nvar notebookContainer = gd.closest('#notebook-container');\nif (notebookContainer) {{\n    x.observe(notebookContainer, {childList: true});\n}}\n\n// Listen for the clearing of the current output cell\nvar outputEl = gd.closest('.output');\nif (outputEl) {{\n    x.observe(outputEl, {childList: true});\n}}\n\n                        })                };                            </script>        </div>\n</body>\n</html>"
     },
     "metadata": {},
     "output_type": "display_data"
    }
   ],
   "execution_count": 88
  },
  {
   "cell_type": "markdown",
   "source": "> 1. ¿Hay alguna diferencia entre los grupos graficados tanto para el nivel educacional de los padres como también para la etnicidad?\n> 2. ¿Este gráfico permite hacer facilmente un análisis conjunto de estas dos variables de forma sencilla?",
   "metadata": {
    "id": "loUzspGXijp1",
    "cell_id": "00034-28bcb4a0-ac1f-45c7-a60e-ebda4c49b2f3",
    "deepnote_cell_type": "markdown"
   }
  },
  {
   "cell_type": "markdown",
   "source": "**Justifique:**",
   "metadata": {
    "id": "jb9sjfJlwolM",
    "cell_id": "00035-d5223084-a50a-438d-a3a7-4113974b0811",
    "deepnote_cell_type": "markdown"
   }
  },
  {
   "cell_type": "markdown",
   "source": "```\n1. Sí, se puede observar que aquellos alumnos con padres con un nivel educacional menor tienen menores notas que aquellos con un mejor nivel educacional. Además notamos que  dentro de estos mismo grupos hay diferencias visibles con respecto a su etnicidad, tanto para college como postgraduate pero más notablemente en aquellos que sus padres solo obtuvieron el grado school.\n\n2.Sí, pese a que se pierde un poco el detalle de un boxplot con más datos, sirve para ver diferencias de dos niveles de categorización como aquí. \n```",
   "metadata": {
    "id": "vDl7h7JbwrKh",
    "cell_id": "00036-354aa5b5-ff90-4338-91f0-562c831e3f86",
    "deepnote_cell_type": "markdown"
   }
  },
  {
   "cell_type": "markdown",
   "source": "# 1.3.5 Combinar Dataset [1 punto]",
   "metadata": {
    "id": "PzF4GclNrwAt",
    "cell_id": "00037-aa8b34a8-27cc-4b0e-887c-c958c68717ec",
    "deepnote_cell_type": "markdown"
   }
  },
  {
   "cell_type": "markdown",
   "source": "Mientras le notificaba por videollamada los resultados de sus descubrimientos a Don Caguayo, un exaltado practicante del area de TI entra a la reunión y les informa que ha encontrado una nueva base de datos que cuenta con las notas de dos asignaturas (en escala chilena): historia y ciencias. \nPara más remate, antes de huir, el practicante les cuenta que este dataframe lamentablemente contiene nuevamente los alumnos de los registros corruptos que ud. y su equipo filtraron en el análisis anterior.\n \n \nEl rector (evidentemente molesto por la situación) les ruega incluir estos datos (vaciados en el archivo other_grades.csv) al estudio original(`students_grades.csv`). \n\n\nPara esto, carge el archivo `other_grades.csv` y busque la forma de unir ambos DataFrames, de tal manera que las columnas de `history score` y `science score` se anexen al final del DataFrame original. **NO LIMPIE LOS DATOS**, si no que explore los distintos tipos de merge para encontrar el mas situable para su situación (y así evitar buscar duplicados).\n\n**To-Do**\n\n- [ ] Cargar el `other_grades.csv`\n- [ ] Unir `df_grades` con `other_grades.csv` usando outer join y explique el resultado.\n- [ ] Unir `df_grades` con `other_grades.csv` usando left join y explique el resultado.\n- [ ] Unir `df_grades` con `other_grades.csv` usando right join y explique el resultado.\n- [ ] Unir `df_grades` con `other_grades.csv` usando inner join y explique el resultado.\n- [ ] Defina cuál join es el que utilizará para generar el nuevo DataFrame.\n\n> **Hint**: Puede explicar los resultados del merge a través de la cantidad de filas resultantes y los valores que estas contienen.",
   "metadata": {
    "id": "8p4P1F9q06SP",
    "cell_id": "00038-3105527f-f349-409c-b669-a7f284e5dcb5",
    "deepnote_cell_type": "markdown"
   }
  },
  {
   "cell_type": "code",
   "metadata": {
    "id": "WKBJJqLJ0DXN",
    "cell_id": "00039-7c67e23d-a641-4ee1-9b4f-d9e651a6485e",
    "deepnote_to_be_reexecuted": false,
    "source_hash": "cdc1d81c",
    "execution_start": 1633729478626,
    "execution_millis": 613,
    "deepnote_cell_type": "code"
   },
   "source": "df_other_grades = pd.read_csv(\"other_grades.csv\")\n\n#Outer Join\ndf_grades_outer = pd.merge(df_grades,df_other_grades,how='outer', on='names')\n\n#Left Join\ndf_grades_left = pd.merge(df_grades, df_other_grades,how='left', on='names')\n\n#Right Join\ndf_grades_right = pd.merge(df_grades, df_other_grades,how='right', on='names')\n\n#inner Join\ndf_grades_inner = pd.merge(df_grades, df_other_grades,how='inner', on='names')\n\nprint(len(df_grades))\nprint(len(df_other_grades))\nprint(len(df_grades_outer))\nprint(len(df_grades_left))\nprint(len(df_grades_right))\nprint(len(df_grades_inner))\n\n\ndf_grades_left",
   "outputs": [
    {
     "name": "stdout",
     "text": "875\n1000\n1000\n875\n1000\n875\n",
     "output_type": "stream"
    },
    {
     "output_type": "execute_result",
     "execution_count": 10,
     "data": {
      "application/vnd.deepnote.dataframe.v2+json": {
       "row_count": 875,
       "column_count": 13,
       "columns": [
        {
         "name": "names",
         "dtype": "object",
         "stats": {
          "unique_count": 875,
          "nan_count": 0,
          "categories": [
           {
            "name": "Rita Courtney",
            "count": 1
           },
           {
            "name": "Charles Linstrom",
            "count": 1
           },
           {
            "name": "873 others",
            "count": 873
           }
          ]
         }
        },
        {
         "name": "gender",
         "dtype": "object",
         "stats": {
          "unique_count": 2,
          "nan_count": 0,
          "categories": [
           {
            "name": "female",
            "count": 448
           },
           {
            "name": "male",
            "count": 427
           }
          ]
         }
        },
        {
         "name": "race/ethnicity",
         "dtype": "object",
         "stats": {
          "unique_count": 5,
          "nan_count": 0,
          "categories": [
           {
            "name": "group C",
            "count": 272
           },
           {
            "name": "group D",
            "count": 239
           },
           {
            "name": "3 others",
            "count": 364
           }
          ]
         }
        },
        {
         "name": "parental level of education",
         "dtype": "object",
         "stats": {
          "unique_count": 6,
          "nan_count": 0,
          "categories": [
           {
            "name": "associate's degree",
            "count": 196
           },
           {
            "name": "some college",
            "count": 191
           },
           {
            "name": "4 others",
            "count": 488
           }
          ]
         }
        },
        {
         "name": "lunch",
         "dtype": "object",
         "stats": {
          "unique_count": 2,
          "nan_count": 0,
          "categories": [
           {
            "name": "standard",
            "count": 562
           },
           {
            "name": "free/reduced",
            "count": 313
           }
          ]
         }
        },
        {
         "name": "test preparation course",
         "dtype": "object",
         "stats": {
          "unique_count": 2,
          "nan_count": 0,
          "categories": [
           {
            "name": "none",
            "count": 563
           },
           {
            "name": "completed",
            "count": 312
           }
          ]
         }
        },
        {
         "name": "math score",
         "dtype": "float64",
         "stats": {
          "unique_count": 79,
          "nan_count": 0,
          "min": "1.0",
          "max": "7.0",
          "histogram": [
           {
            "bin_start": 1,
            "bin_end": 1.6,
            "count": 2
           },
           {
            "bin_start": 1.6,
            "bin_end": 2.2,
            "count": 2
           },
           {
            "bin_start": 2.2,
            "bin_end": 2.8,
            "count": 10
           },
           {
            "bin_start": 2.8,
            "bin_end": 3.4,
            "count": 19
           },
           {
            "bin_start": 3.4,
            "bin_end": 4,
            "count": 81
           },
           {
            "bin_start": 4,
            "bin_end": 4.6,
            "count": 158
           },
           {
            "bin_start": 4.6,
            "bin_end": 5.2,
            "count": 245
           },
           {
            "bin_start": 5.2,
            "bin_end": 5.8,
            "count": 191
           },
           {
            "bin_start": 5.8,
            "bin_end": 6.3999999999999995,
            "count": 116
           },
           {
            "bin_start": 6.3999999999999995,
            "bin_end": 7,
            "count": 51
           }
          ]
         }
        },
        {
         "name": "reading score",
         "dtype": "float64",
         "stats": {
          "unique_count": 72,
          "nan_count": 0,
          "min": "2.02",
          "max": "7.0",
          "histogram": [
           {
            "bin_start": 2.02,
            "bin_end": 2.5180000000000002,
            "count": 4
           },
           {
            "bin_start": 2.5180000000000002,
            "bin_end": 3.016,
            "count": 7
           },
           {
            "bin_start": 3.016,
            "bin_end": 3.5140000000000002,
            "count": 19
           },
           {
            "bin_start": 3.5140000000000002,
            "bin_end": 4.0120000000000005,
            "count": 53
           },
           {
            "bin_start": 4.0120000000000005,
            "bin_end": 4.51,
            "count": 124
           },
           {
            "bin_start": 4.51,
            "bin_end": 5.008000000000001,
            "count": 157
           },
           {
            "bin_start": 5.008000000000001,
            "bin_end": 5.506,
            "count": 212
           },
           {
            "bin_start": 5.506,
            "bin_end": 6.0040000000000004,
            "count": 147
           },
           {
            "bin_start": 6.0040000000000004,
            "bin_end": 6.502000000000001,
            "count": 101
           },
           {
            "bin_start": 6.502000000000001,
            "bin_end": 7,
            "count": 51
           }
          ]
         }
        },
        {
         "name": "writing score",
         "dtype": "float64",
         "stats": {
          "unique_count": 77,
          "nan_count": 0,
          "min": "1.6",
          "max": "7.0",
          "histogram": [
           {
            "bin_start": 1.6,
            "bin_end": 2.14,
            "count": 2
           },
           {
            "bin_start": 2.14,
            "bin_end": 2.68,
            "count": 6
           },
           {
            "bin_start": 2.68,
            "bin_end": 3.22,
            "count": 13
           },
           {
            "bin_start": 3.22,
            "bin_end": 3.7600000000000002,
            "count": 52
           },
           {
            "bin_start": 3.7600000000000002,
            "bin_end": 4.300000000000001,
            "count": 115
           },
           {
            "bin_start": 4.300000000000001,
            "bin_end": 4.84,
            "count": 129
           },
           {
            "bin_start": 4.84,
            "bin_end": 5.380000000000001,
            "count": 218
           },
           {
            "bin_start": 5.380000000000001,
            "bin_end": 5.92,
            "count": 174
           },
           {
            "bin_start": 5.92,
            "bin_end": 6.460000000000001,
            "count": 116
           },
           {
            "bin_start": 6.460000000000001,
            "bin_end": 7,
            "count": 50
           }
          ]
         }
        },
        {
         "name": "GPA",
         "dtype": "float64",
         "stats": {
          "unique_count": 353,
          "nan_count": 0,
          "min": "3.55",
          "max": "16.33",
          "histogram": [
           {
            "bin_start": 3.55,
            "bin_end": 4.827999999999999,
            "count": 2
           },
           {
            "bin_start": 4.827999999999999,
            "bin_end": 6.106,
            "count": 3
           },
           {
            "bin_start": 6.106,
            "bin_end": 7.3839999999999995,
            "count": 13
           },
           {
            "bin_start": 7.3839999999999995,
            "bin_end": 8.661999999999999,
            "count": 29
           },
           {
            "bin_start": 8.661999999999999,
            "bin_end": 9.939999999999998,
            "count": 109
           },
           {
            "bin_start": 9.939999999999998,
            "bin_end": 11.218,
            "count": 154
           },
           {
            "bin_start": 11.218,
            "bin_end": 12.495999999999999,
            "count": 239
           },
           {
            "bin_start": 12.495999999999999,
            "bin_end": 13.773999999999997,
            "count": 182
           },
           {
            "bin_start": 13.773999999999997,
            "bin_end": 15.052,
            "count": 109
           },
           {
            "bin_start": 15.052,
            "bin_end": 16.33,
            "count": 35
           }
          ]
         }
        },
        {
         "name": "simple parental level of education",
         "dtype": "object",
         "stats": {
          "unique_count": 3,
          "nan_count": 0,
          "categories": [
           {
            "name": "school",
            "count": 525
           },
           {
            "name": "college",
            "count": 302
           },
           {
            "name": "postgraduate",
            "count": 48
           }
          ]
         }
        },
        {
         "name": "science score",
         "dtype": "int64",
         "stats": {
          "unique_count": 85,
          "nan_count": 0,
          "min": "0",
          "max": "100",
          "histogram": [
           {
            "bin_start": 0,
            "bin_end": 10,
            "count": 2
           },
           {
            "bin_start": 10,
            "bin_end": 20,
            "count": 6
           },
           {
            "bin_start": 20,
            "bin_end": 30,
            "count": 16
           },
           {
            "bin_start": 30,
            "bin_end": 40,
            "count": 85
           },
           {
            "bin_start": 40,
            "bin_end": 50,
            "count": 200
           },
           {
            "bin_start": 50,
            "bin_end": 60,
            "count": 230
           },
           {
            "bin_start": 60,
            "bin_end": 70,
            "count": 179
           },
           {
            "bin_start": 70,
            "bin_end": 80,
            "count": 92
           },
           {
            "bin_start": 80,
            "bin_end": 90,
            "count": 50
           },
           {
            "bin_start": 90,
            "bin_end": 100,
            "count": 15
           }
          ]
         }
        },
        {
         "name": "history score",
         "dtype": "float64",
         "stats": {
          "unique_count": 49,
          "nan_count": 0,
          "min": "1.8",
          "max": "7.0",
          "histogram": [
           {
            "bin_start": 1.8,
            "bin_end": 2.3200000000000003,
            "count": 5
           },
           {
            "bin_start": 2.3200000000000003,
            "bin_end": 2.84,
            "count": 17
           },
           {
            "bin_start": 2.84,
            "bin_end": 3.3600000000000003,
            "count": 54
           },
           {
            "bin_start": 3.3600000000000003,
            "bin_end": 3.88,
            "count": 128
           },
           {
            "bin_start": 3.88,
            "bin_end": 4.4,
            "count": 188
           },
           {
            "bin_start": 4.4,
            "bin_end": 4.92,
            "count": 232
           },
           {
            "bin_start": 4.92,
            "bin_end": 5.44,
            "count": 124
           },
           {
            "bin_start": 5.44,
            "bin_end": 5.96,
            "count": 79
           },
           {
            "bin_start": 5.96,
            "bin_end": 6.4799999999999995,
            "count": 34
           },
           {
            "bin_start": 6.4799999999999995,
            "bin_end": 7,
            "count": 14
           }
          ]
         }
        },
        {
         "name": "_deepnote_index_column",
         "dtype": "int64"
        }
       ],
       "rows_top": [
        {
         "names": "Rita Courtney",
         "gender": "female",
         "race/ethnicity": "group B",
         "parental level of education": "some high school",
         "lunch": "standard",
         "test preparation course": "none",
         "math score": 3.22,
         "reading score": 3.76,
         "writing score": 3.76,
         "GPA": 8.23,
         "simple parental level of education": "school",
         "science score": 25,
         "history score": 3.8,
         "_deepnote_index_column": 0
        },
        {
         "names": "Charles Linstrom",
         "gender": "male",
         "race/ethnicity": "group A",
         "parental level of education": "bachelor's degree",
         "lunch": "standard",
         "test preparation course": "completed",
         "math score": 5.8,
         "reading score": 5.68,
         "writing score": 5.86,
         "GPA": 13.43,
         "simple parental level of education": "college",
         "science score": 56,
         "history score": 5.2,
         "_deepnote_index_column": 1
        },
        {
         "names": "Brian Young",
         "gender": "male",
         "race/ethnicity": "group C",
         "parental level of education": "some high school",
         "lunch": "standard",
         "test preparation course": "none",
         "math score": 5.38,
         "reading score": 4.96,
         "writing score": 4.78,
         "GPA": 11.93,
         "simple parental level of education": "school",
         "science score": 58,
         "history score": 3.8,
         "_deepnote_index_column": 2
        },
        {
         "names": "Howard Jimenez",
         "gender": "male",
         "race/ethnicity": "group E",
         "parental level of education": "some high school",
         "lunch": "standard",
         "test preparation course": "completed",
         "math score": 5.86,
         "reading score": 5.5,
         "writing score": 5.5600000000000005,
         "GPA": 13.21,
         "simple parental level of education": "school",
         "science score": 72,
         "history score": 5,
         "_deepnote_index_column": 3
        },
        {
         "names": "Wayne Wilson",
         "gender": "male",
         "race/ethnicity": "group B",
         "parental level of education": "some high school",
         "lunch": "standard",
         "test preparation course": "completed",
         "math score": 6.64,
         "reading score": 6.16,
         "writing score": 6.22,
         "GPA": 14.87,
         "simple parental level of education": "school",
         "science score": 94,
         "history score": 4.6,
         "_deepnote_index_column": 4
        },
        {
         "names": "Jonathan Clingan",
         "gender": "male",
         "race/ethnicity": "group D",
         "parental level of education": "some college",
         "lunch": "standard",
         "test preparation course": "completed",
         "math score": 5.26,
         "reading score": 4.66,
         "writing score": 5.14,
         "GPA": 11.63,
         "simple parental level of education": "school",
         "science score": 56,
         "history score": 3.6,
         "_deepnote_index_column": 5
        },
        {
         "names": "William Tang",
         "gender": "male",
         "race/ethnicity": "group D",
         "parental level of education": "associate's degree",
         "lunch": "standard",
         "test preparation course": "none",
         "math score": 5.5,
         "reading score": 5.08,
         "writing score": 4.84,
         "GPA": 12.19,
         "simple parental level of education": "college",
         "science score": 52,
         "history score": 4.7,
         "_deepnote_index_column": 6
        },
        {
         "names": "Mikki Amaya",
         "gender": "female",
         "race/ethnicity": "group A",
         "parental level of education": "high school",
         "lunch": "free/reduced",
         "test preparation course": "completed",
         "math score": 3.04,
         "reading score": 3.88,
         "writing score": 3.46,
         "GPA": 8.07,
         "simple parental level of education": "school",
         "science score": 27,
         "history score": 3.9,
         "_deepnote_index_column": 7
        },
        {
         "names": "Gerald Wilson",
         "gender": "male",
         "race/ethnicity": "group A",
         "parental level of education": "associate's degree",
         "lunch": "standard",
         "test preparation course": "none",
         "math score": 4.78,
         "reading score": 4.66,
         "writing score": 4.66,
         "GPA": 10.99,
         "simple parental level of education": "college",
         "science score": 50,
         "history score": 4.7,
         "_deepnote_index_column": 8
        },
        {
         "names": "Damon Mckee",
         "gender": "male",
         "race/ethnicity": "group E",
         "parental level of education": "high school",
         "lunch": "standard",
         "test preparation course": "none",
         "math score": 6.64,
         "reading score": 5.38,
         "writing score": 5.26,
         "GPA": 13.77,
         "simple parental level of education": "school",
         "science score": 84,
         "history score": 4.1,
         "_deepnote_index_column": 9
        },
        {
         "names": "Sophia Bijou",
         "gender": "female",
         "race/ethnicity": "group D",
         "parental level of education": "some high school",
         "lunch": "standard",
         "test preparation course": "completed",
         "math score": 4.9,
         "reading score": 5.68,
         "writing score": 5.92,
         "GPA": 12.55,
         "simple parental level of education": "school",
         "science score": 58,
         "history score": 4.7,
         "_deepnote_index_column": 10
        },
        {
         "names": "Monica Schwartz",
         "gender": "female",
         "race/ethnicity": "group B",
         "parental level of education": "associate's degree",
         "lunch": "free/reduced",
         "test preparation course": "none",
         "math score": 4.12,
         "reading score": 5.5600000000000005,
         "writing score": 5.2,
         "GPA": 11.41,
         "simple parental level of education": "college",
         "science score": 46,
         "history score": 4.2,
         "_deepnote_index_column": 11
        },
        {
         "names": "Donald Upchurch",
         "gender": "male",
         "race/ethnicity": "group C",
         "parental level of education": "associate's degree",
         "lunch": "standard",
         "test preparation course": "none",
         "math score": 4.72,
         "reading score": 4.9,
         "writing score": 4.48,
         "GPA": 11.11,
         "simple parental level of education": "college",
         "science score": 49,
         "history score": 4.5,
         "_deepnote_index_column": 12
        },
        {
         "names": "Donald Dunnings",
         "gender": "male",
         "race/ethnicity": "group D",
         "parental level of education": "some high school",
         "lunch": "standard",
         "test preparation course": "none",
         "math score": 5.44,
         "reading score": 5.44,
         "writing score": 5.32,
         "GPA": 12.65,
         "simple parental level of education": "school",
         "science score": 51,
         "history score": 4.6,
         "_deepnote_index_column": 13
        },
        {
         "names": "Joseph Mccoy",
         "gender": "male",
         "race/ethnicity": "group D",
         "parental level of education": "some college",
         "lunch": "free/reduced",
         "test preparation course": "none",
         "math score": 4.72,
         "reading score": 4.42,
         "writing score": 4.72,
         "GPA": 10.71,
         "simple parental level of education": "school",
         "science score": 55,
         "history score": 3.4,
         "_deepnote_index_column": 14
        },
        {
         "names": "David Dupree",
         "gender": "male",
         "race/ethnicity": "group B",
         "parental level of education": "high school",
         "lunch": "standard",
         "test preparation course": "completed",
         "math score": 5.38,
         "reading score": 5.14,
         "writing score": 5.08,
         "GPA": 12.21,
         "simple parental level of education": "school",
         "science score": 51,
         "history score": 4.3,
         "_deepnote_index_column": 15
        },
        {
         "names": "Samuel Dougal",
         "gender": "male",
         "race/ethnicity": "group C",
         "parental level of education": "master's degree",
         "lunch": "free/reduced",
         "test preparation course": "completed",
         "math score": 3.76,
         "reading score": 3.52,
         "writing score": 3.76,
         "GPA": 8.53,
         "simple parental level of education": "postgraduate",
         "science score": 41,
         "history score": 3.3,
         "_deepnote_index_column": 16
        },
        {
         "names": "Richard Pina",
         "gender": "male",
         "race/ethnicity": "group D",
         "parental level of education": "master's degree",
         "lunch": "standard",
         "test preparation course": "none",
         "math score": 5.92,
         "reading score": 5.92,
         "writing score": 5.44,
         "GPA": 13.65,
         "simple parental level of education": "postgraduate",
         "science score": 73,
         "history score": 4.9,
         "_deepnote_index_column": 17
        },
        {
         "names": "Dale Sylvain",
         "gender": "male",
         "race/ethnicity": "group D",
         "parental level of education": "some college",
         "lunch": "free/reduced",
         "test preparation course": "none",
         "math score": 4.78,
         "reading score": 4.66,
         "writing score": 4.6,
         "GPA": 10.97,
         "simple parental level of education": "school",
         "science score": 63,
         "history score": 4.7,
         "_deepnote_index_column": 18
        },
        {
         "names": "Janine Taylor",
         "gender": "female",
         "race/ethnicity": "group C",
         "parental level of education": "associate's degree",
         "lunch": "free/reduced",
         "test preparation course": "none",
         "math score": 4.84,
         "reading score": 5.38,
         "writing score": 5.08,
         "GPA": 11.91,
         "simple parental level of education": "college",
         "science score": 64,
         "history score": 4.9,
         "_deepnote_index_column": 19
        },
        {
         "names": "Alexander Dillon",
         "gender": "male",
         "race/ethnicity": "group D",
         "parental level of education": "associate's degree",
         "lunch": "standard",
         "test preparation course": "none",
         "math score": 5.8,
         "reading score": 5.5,
         "writing score": 5.62,
         "GPA": 13.17,
         "simple parental level of education": "college",
         "science score": 80,
         "history score": 5,
         "_deepnote_index_column": 20
        },
        {
         "names": "Shanna Braswell",
         "gender": "female",
         "race/ethnicity": "group D",
         "parental level of education": "bachelor's degree",
         "lunch": "free/reduced",
         "test preparation course": "completed",
         "math score": 6.58,
         "reading score": 7,
         "writing score": 7,
         "GPA": 15.91,
         "simple parental level of education": "college",
         "science score": 65,
         "history score": 5.2,
         "_deepnote_index_column": 21
        },
        {
         "names": "Bonnie Ramos",
         "gender": "female",
         "race/ethnicity": "group B",
         "parental level of education": "high school",
         "lunch": "standard",
         "test preparation course": "completed",
         "math score": 5.14,
         "reading score": 5.5600000000000005,
         "writing score": 5.44,
         "GPA": 12.51,
         "simple parental level of education": "school",
         "science score": 69,
         "history score": 4.2,
         "_deepnote_index_column": 22
        },
        {
         "names": "Connie Shinn",
         "gender": "female",
         "race/ethnicity": "group B",
         "parental level of education": "associate's degree",
         "lunch": "free/reduced",
         "test preparation course": "none",
         "math score": 3.76,
         "reading score": 4.66,
         "writing score": 4.3,
         "GPA": 9.85,
         "simple parental level of education": "college",
         "science score": 36,
         "history score": 4.7,
         "_deepnote_index_column": 23
        },
        {
         "names": "Daniel Cartwright",
         "gender": "male",
         "race/ethnicity": "group C",
         "parental level of education": "high school",
         "lunch": "standard",
         "test preparation course": "completed",
         "math score": 6.16,
         "reading score": 5.86,
         "writing score": 5.8,
         "GPA": 13.95,
         "simple parental level of education": "school",
         "science score": 77,
         "history score": 5.4,
         "_deepnote_index_column": 24
        },
        {
         "names": "Betty Buntin",
         "gender": "female",
         "race/ethnicity": "group A",
         "parental level of education": "bachelor's degree",
         "lunch": "standard",
         "test preparation course": "none",
         "math score": 4.54,
         "reading score": 5.32,
         "writing score": 5.2,
         "GPA": 11.59,
         "simple parental level of education": "college",
         "science score": 53,
         "history score": 5.3,
         "_deepnote_index_column": 25
        },
        {
         "names": "Francis Seibold",
         "gender": "male",
         "race/ethnicity": "group B",
         "parental level of education": "some high school",
         "lunch": "standard",
         "test preparation course": "completed",
         "math score": 6.04,
         "reading score": 5.98,
         "writing score": 5.5,
         "GPA": 13.85,
         "simple parental level of education": "school",
         "science score": 84,
         "history score": 4.5,
         "_deepnote_index_column": 26
        },
        {
         "names": "Arthur Byer",
         "gender": "male",
         "race/ethnicity": "group D",
         "parental level of education": "high school",
         "lunch": "free/reduced",
         "test preparation course": "completed",
         "math score": 4.84,
         "reading score": 4.84,
         "writing score": 5.02,
         "GPA": 11.35,
         "simple parental level of education": "school",
         "science score": 64,
         "history score": 3.7,
         "_deepnote_index_column": 27
        },
        {
         "names": "Willie Neff",
         "gender": "female",
         "race/ethnicity": "group E",
         "parental level of education": "associate's degree",
         "lunch": "free/reduced",
         "test preparation course": "none",
         "math score": 5.38,
         "reading score": 5.5600000000000005,
         "writing score": 5.68,
         "GPA": 12.83,
         "simple parental level of education": "college",
         "science score": 58,
         "history score": 4.6,
         "_deepnote_index_column": 28
        },
        {
         "names": "Thelma Yeates",
         "gender": "female",
         "race/ethnicity": "group E",
         "parental level of education": "associate's degree",
         "lunch": "free/reduced",
         "test preparation course": "completed",
         "math score": 5.98,
         "reading score": 6.16,
         "writing score": 6.28,
         "GPA": 14.23,
         "simple parental level of education": "college",
         "science score": 74,
         "history score": 5.6,
         "_deepnote_index_column": 29
        },
        {
         "names": "Mary Piotrowski",
         "gender": "female",
         "race/ethnicity": "group E",
         "parental level of education": "some college",
         "lunch": "free/reduced",
         "test preparation course": "completed",
         "math score": 5.5,
         "reading score": 6.28,
         "writing score": 6.1,
         "GPA": 13.81,
         "simple parental level of education": "school",
         "science score": 60,
         "history score": 6.3,
         "_deepnote_index_column": 30
        },
        {
         "names": "Hazel Montoya",
         "gender": "female",
         "race/ethnicity": "group D",
         "parental level of education": "some college",
         "lunch": "standard",
         "test preparation course": "none",
         "math score": 5.14,
         "reading score": 5.44,
         "writing score": 5.44,
         "GPA": 12.39,
         "simple parental level of education": "school",
         "science score": 69,
         "history score": 5.4,
         "_deepnote_index_column": 31
        },
        {
         "names": "James Eury",
         "gender": "male",
         "race/ethnicity": "group E",
         "parental level of education": "some college",
         "lunch": "standard",
         "test preparation course": "none",
         "math score": 5.08,
         "reading score": 5.32,
         "writing score": 4.9,
         "GPA": 12.03,
         "simple parental level of education": "school",
         "science score": 54,
         "history score": 4.5,
         "_deepnote_index_column": 32
        },
        {
         "names": "Larry Dunn",
         "gender": "male",
         "race/ethnicity": "group C",
         "parental level of education": "some high school",
         "lunch": "standard",
         "test preparation course": "none",
         "math score": 4.42,
         "reading score": 4.66,
         "writing score": 4.24,
         "GPA": 10.49,
         "simple parental level of education": "school",
         "science score": 51,
         "history score": 3.6,
         "_deepnote_index_column": 33
        },
        {
         "names": "David Dunham",
         "gender": "male",
         "race/ethnicity": "group A",
         "parental level of education": "bachelor's degree",
         "lunch": "standard",
         "test preparation course": "none",
         "math score": 4.96,
         "reading score": 4.84,
         "writing score": 4.72,
         "GPA": 11.37,
         "simple parental level of education": "college",
         "science score": 52,
         "history score": 4.8,
         "_deepnote_index_column": 34
        },
        {
         "names": "Jeffery Wiedmann",
         "gender": "male",
         "race/ethnicity": "group C",
         "parental level of education": "some college",
         "lunch": "standard",
         "test preparation course": "none",
         "math score": 4.66,
         "reading score": 4.66,
         "writing score": 4.72,
         "GPA": 10.89,
         "simple parental level of education": "school",
         "science score": 48,
         "history score": 3.6,
         "_deepnote_index_column": 35
        },
        {
         "names": "Lisa Watters",
         "gender": "female",
         "race/ethnicity": "group D",
         "parental level of education": "master's degree",
         "lunch": "free/reduced",
         "test preparation course": "none",
         "math score": 3.4,
         "reading score": 4.54,
         "writing score": 4.24,
         "GPA": 9.35,
         "simple parental level of education": "postgraduate",
         "science score": 36,
         "history score": 3.8,
         "_deepnote_index_column": 36
        },
        {
         "names": "Katharine Kellum",
         "gender": "female",
         "race/ethnicity": "group B",
         "parental level of education": "high school",
         "lunch": "free/reduced",
         "test preparation course": "none",
         "math score": 4,
         "reading score": 5.02,
         "writing score": 4.78,
         "GPA": 10.61,
         "simple parental level of education": "school",
         "science score": 40,
         "history score": 4.6,
         "_deepnote_index_column": 37
        }
       ],
       "rows_bottom": [
        {
         "names": "Timothy Long",
         "gender": "male",
         "race/ethnicity": "group C",
         "parental level of education": "high school",
         "lunch": "standard",
         "test preparation course": "completed",
         "math score": 5.32,
         "reading score": 5.02,
         "writing score": 4.84,
         "GPA": 11.95,
         "simple parental level of education": "school",
         "science score": 72,
         "history score": 4.6,
         "_deepnote_index_column": 837
        },
        {
         "names": "Sandra Pompey",
         "gender": "female",
         "race/ethnicity": "group E",
         "parental level of education": "associate's degree",
         "lunch": "standard",
         "test preparation course": "none",
         "math score": 7,
         "reading score": 7,
         "writing score": 7,
         "GPA": 16.33,
         "simple parental level of education": "college",
         "science score": 70,
         "history score": 5.2,
         "_deepnote_index_column": 838
        },
        {
         "names": "Steven Marriot",
         "gender": "male",
         "race/ethnicity": "group C",
         "parental level of education": "some college",
         "lunch": "free/reduced",
         "test preparation course": "none",
         "math score": 4.9,
         "reading score": 4.48,
         "writing score": 3.94,
         "GPA": 10.69,
         "simple parental level of education": "school",
         "science score": 52,
         "history score": 3.4,
         "_deepnote_index_column": 839
        },
        {
         "names": "Stanley Chappell",
         "gender": "male",
         "race/ethnicity": "group A",
         "parental level of education": "associate's degree",
         "lunch": "free/reduced",
         "test preparation course": "none",
         "math score": 3.8200000000000003,
         "reading score": 4.42,
         "writing score": 3.64,
         "GPA": 9.45,
         "simple parental level of education": "college",
         "science score": 47,
         "history score": 3.7,
         "_deepnote_index_column": 840
        },
        {
         "names": "Michelle Smithson",
         "gender": "female",
         "race/ethnicity": "group E",
         "parental level of education": "associate's degree",
         "lunch": "standard",
         "test preparation course": "none",
         "math score": 4.06,
         "reading score": 4.06,
         "writing score": 4.24,
         "GPA": 9.53,
         "simple parental level of education": "college",
         "science score": 40,
         "history score": 3.8,
         "_deepnote_index_column": 841
        },
        {
         "names": "Jeffrey Bostrom",
         "gender": "male",
         "race/ethnicity": "group E",
         "parental level of education": "associate's degree",
         "lunch": "standard",
         "test preparation course": "completed",
         "math score": 5.26,
         "reading score": 5.44,
         "writing score": 5.08,
         "GPA": 12.39,
         "simple parental level of education": "college",
         "science score": 56,
         "history score": 4.1,
         "_deepnote_index_column": 842
        },
        {
         "names": "Earnest Cole",
         "gender": "male",
         "race/ethnicity": "group D",
         "parental level of education": "some college",
         "lunch": "standard",
         "test preparation course": "completed",
         "math score": 5.92,
         "reading score": 5.92,
         "writing score": 6.28,
         "GPA": 13.93,
         "simple parental level of education": "school",
         "science score": 73,
         "history score": 5.9,
         "_deepnote_index_column": 843
        },
        {
         "names": "Sharon Garcia",
         "gender": "female",
         "race/ethnicity": "group C",
         "parental level of education": "some high school",
         "lunch": "free/reduced",
         "test preparation course": "none",
         "math score": 4.3,
         "reading score": 4.9,
         "writing score": 4.72,
         "GPA": 10.77,
         "simple parental level of education": "school",
         "science score": 55,
         "history score": 4.5,
         "_deepnote_index_column": 844
        },
        {
         "names": "Carol Miller",
         "gender": "female",
         "race/ethnicity": "group C",
         "parental level of education": "associate's degree",
         "lunch": "standard",
         "test preparation course": "completed",
         "math score": 5.5,
         "reading score": 5.92,
         "writing score": 6.4,
         "GPA": 13.55,
         "simple parental level of education": "college",
         "science score": 60,
         "history score": 4.4,
         "_deepnote_index_column": 845
        },
        {
         "names": "Antonio Evans",
         "gender": "male",
         "race/ethnicity": "group C",
         "parental level of education": "high school",
         "lunch": "free/reduced",
         "test preparation course": "none",
         "math score": 4.96,
         "reading score": 4.96,
         "writing score": 4.54,
         "GPA": 11.43,
         "simple parental level of education": "school",
         "science score": 66,
         "history score": 4.6,
         "_deepnote_index_column": 846
        },
        {
         "names": "Pam Otoole",
         "gender": "female",
         "race/ethnicity": "group B",
         "parental level of education": "bachelor's degree",
         "lunch": "standard",
         "test preparation course": "none",
         "math score": 5.32,
         "reading score": 5.32,
         "writing score": 5.44,
         "GPA": 12.45,
         "simple parental level of education": "college",
         "science score": 57,
         "history score": 4,
         "_deepnote_index_column": 847
        },
        {
         "names": "Matthew Burns",
         "gender": "male",
         "race/ethnicity": "group E",
         "parental level of education": "high school",
         "lunch": "standard",
         "test preparation course": "none",
         "math score": 5.2,
         "reading score": 4.3,
         "writing score": 4.36,
         "GPA": 10.95,
         "simple parental level of education": "school",
         "science score": 56,
         "history score": 4.3,
         "_deepnote_index_column": 848
        },
        {
         "names": "Gregory Fernandez",
         "gender": "male",
         "race/ethnicity": "group E",
         "parental level of education": "high school",
         "lunch": "free/reduced",
         "test preparation course": "completed",
         "math score": 4.42,
         "reading score": 4.36,
         "writing score": 4.24,
         "GPA": 10.19,
         "simple parental level of education": "school",
         "science score": 45,
         "history score": 4,
         "_deepnote_index_column": 849
        },
        {
         "names": "Charles Herandez",
         "gender": "male",
         "race/ethnicity": "group D",
         "parental level of education": "master's degree",
         "lunch": "free/reduced",
         "test preparation course": "completed",
         "math score": 6.04,
         "reading score": 6.34,
         "writing score": 6.4,
         "GPA": 14.51,
         "simple parental level of education": "postgraduate",
         "science score": 58,
         "history score": 6.3,
         "_deepnote_index_column": 850
        },
        {
         "names": "Aaron Shelly",
         "gender": "male",
         "race/ethnicity": "group D",
         "parental level of education": "associate's degree",
         "lunch": "standard",
         "test preparation course": "none",
         "math score": 4.66,
         "reading score": 3.88,
         "writing score": 3.76,
         "GPA": 9.79,
         "simple parental level of education": "college",
         "science score": 48,
         "history score": 3.9,
         "_deepnote_index_column": 851
        },
        {
         "names": "Charles Harian",
         "gender": "male",
         "race/ethnicity": "group C",
         "parental level of education": "some high school",
         "lunch": "free/reduced",
         "test preparation course": "completed",
         "math score": 3.7,
         "reading score": 4.12,
         "writing score": 3.94,
         "GPA": 9.13,
         "simple parental level of education": "school",
         "science score": 31,
         "history score": 4.1,
         "_deepnote_index_column": 852
        },
        {
         "names": "Steven Hacker",
         "gender": "male",
         "race/ethnicity": "group A",
         "parental level of education": "some high school",
         "lunch": "free/reduced",
         "test preparation course": "none",
         "math score": 4.9,
         "reading score": 4.54,
         "writing score": 4.18,
         "GPA": 10.83,
         "simple parental level of education": "school",
         "science score": 45,
         "history score": 3.5,
         "_deepnote_index_column": 853
        },
        {
         "names": "Wendy Gunnell",
         "gender": "female",
         "race/ethnicity": "group D",
         "parental level of education": "some high school",
         "lunch": "free/reduced",
         "test preparation course": "none",
         "math score": 2.62,
         "reading score": 3.04,
         "writing score": 2.92,
         "GPA": 6.63,
         "simple parental level of education": "school",
         "science score": 27,
         "history score": 2.4,
         "_deepnote_index_column": 854
        },
        {
         "names": "Manuel Glover",
         "gender": "male",
         "race/ethnicity": "group D",
         "parental level of education": "some college",
         "lunch": "standard",
         "test preparation course": "none",
         "math score": 6.28,
         "reading score": 5.38,
         "writing score": 5.68,
         "GPA": 13.55,
         "simple parental level of education": "school",
         "science score": 88,
         "history score": 4.9,
         "_deepnote_index_column": 855
        },
        {
         "names": "Linda Nevin",
         "gender": "female",
         "race/ethnicity": "group B",
         "parental level of education": "some high school",
         "lunch": "standard",
         "test preparation course": "completed",
         "math score": 4.9,
         "reading score": 5.92,
         "writing score": 5.68,
         "GPA": 12.71,
         "simple parental level of education": "school",
         "science score": 45,
         "history score": 5.4,
         "_deepnote_index_column": 856
        },
        {
         "names": "James Piper",
         "gender": "male",
         "race/ethnicity": "group D",
         "parental level of education": "bachelor's degree",
         "lunch": "free/reduced",
         "test preparation course": "none",
         "math score": 4.78,
         "reading score": 4.96,
         "writing score": 5.02,
         "GPA": 11.41,
         "simple parental level of education": "college",
         "science score": 63,
         "history score": 4.2,
         "_deepnote_index_column": 857
        },
        {
         "names": "Timothy Anderson",
         "gender": "male",
         "race/ethnicity": "group C",
         "parental level of education": "associate's degree",
         "lunch": "free/reduced",
         "test preparation course": "completed",
         "math score": 5.68,
         "reading score": 5.86,
         "writing score": 5.92,
         "GPA": 13.51,
         "simple parental level of education": "college",
         "science score": 62,
         "history score": 4.4,
         "_deepnote_index_column": 858
        },
        {
         "names": "Julie Sciancalepore",
         "gender": "female",
         "race/ethnicity": "group C",
         "parental level of education": "bachelor's degree",
         "lunch": "standard",
         "test preparation course": "none",
         "math score": 4.9,
         "reading score": 5.32,
         "writing score": 5.44,
         "GPA": 12.03,
         "simple parental level of education": "college",
         "science score": 45,
         "history score": 4.9,
         "_deepnote_index_column": 859
        },
        {
         "names": "Brandon Palmer",
         "gender": "male",
         "race/ethnicity": "group D",
         "parental level of education": "associate's degree",
         "lunch": "free/reduced",
         "test preparation course": "none",
         "math score": 6.4,
         "reading score": 6.22,
         "writing score": 5.5,
         "GPA": 14.45,
         "simple parental level of education": "college",
         "science score": 90,
         "history score": 6.2,
         "_deepnote_index_column": 860
        },
        {
         "names": "Robert Morrison",
         "gender": "male",
         "race/ethnicity": "group D",
         "parental level of education": "some college",
         "lunch": "standard",
         "test preparation course": "completed",
         "math score": 7,
         "reading score": 6.82,
         "writing score": 6.94,
         "GPA": 16.13,
         "simple parental level of education": "school",
         "science score": 80,
         "history score": 6.8,
         "_deepnote_index_column": 861
        },
        {
         "names": "Claudio Millender",
         "gender": "male",
         "race/ethnicity": "group C",
         "parental level of education": "some college",
         "lunch": "free/reduced",
         "test preparation course": "completed",
         "math score": 5.02,
         "reading score": 5.44,
         "writing score": 5.2,
         "GPA": 12.19,
         "simple parental level of education": "school",
         "science score": 46,
         "history score": 4.1,
         "_deepnote_index_column": 862
        },
        {
         "names": "Emily King",
         "gender": "female",
         "race/ethnicity": "group D",
         "parental level of education": "some college",
         "lunch": "standard",
         "test preparation course": "completed",
         "math score": 5.44,
         "reading score": 5.5,
         "writing score": 5.74,
         "GPA": 12.85,
         "simple parental level of education": "school",
         "science score": 74,
         "history score": 5,
         "_deepnote_index_column": 863
        },
        {
         "names": "William Sakkinen",
         "gender": "male",
         "race/ethnicity": "group E",
         "parental level of education": "some college",
         "lunch": "standard",
         "test preparation course": "none",
         "math score": 5.5600000000000005,
         "reading score": 5.02,
         "writing score": 5.02,
         "GPA": 12.25,
         "simple parental level of education": "school",
         "science score": 53,
         "history score": 3.8,
         "_deepnote_index_column": 864
        },
        {
         "names": "Elsa Hyman",
         "gender": "female",
         "race/ethnicity": "group B",
         "parental level of education": "high school",
         "lunch": "standard",
         "test preparation course": "none",
         "math score": 4.96,
         "reading score": 5.32,
         "writing score": 5.2,
         "GPA": 12.01,
         "simple parental level of education": "school",
         "science score": 52,
         "history score": 4.9,
         "_deepnote_index_column": 865
        },
        {
         "names": "Virginia Sievers",
         "gender": "female",
         "race/ethnicity": "group C",
         "parental level of education": "bachelor's degree",
         "lunch": "standard",
         "test preparation course": "completed",
         "math score": 4.54,
         "reading score": 4.84,
         "writing score": 5.5,
         "GPA": 11.21,
         "simple parental level of education": "college",
         "science score": 41,
         "history score": 4.1,
         "_deepnote_index_column": 866
        },
        {
         "names": "Laura Cavanaugh",
         "gender": "female",
         "race/ethnicity": "group C",
         "parental level of education": "associate's degree",
         "lunch": "standard",
         "test preparation course": "completed",
         "math score": 4.72,
         "reading score": 5.5600000000000005,
         "writing score": 5.8,
         "GPA": 12.21,
         "simple parental level of education": "college",
         "science score": 55,
         "history score": 5.6,
         "_deepnote_index_column": 867
        },
        {
         "names": "Diana Costa",
         "gender": "female",
         "race/ethnicity": "group C",
         "parental level of education": "high school",
         "lunch": "free/reduced",
         "test preparation course": "none",
         "math score": 3.46,
         "reading score": 3.76,
         "writing score": 3.58,
         "GPA": 8.41,
         "simple parental level of education": "school",
         "science score": 36,
         "history score": 2.9,
         "_deepnote_index_column": 868
        },
        {
         "names": "Amy Sieving",
         "gender": "female",
         "race/ethnicity": "group C",
         "parental level of education": "high school",
         "lunch": "standard",
         "test preparation course": "none",
         "math score": 2.74,
         "reading score": 2.74,
         "writing score": 2.8,
         "GPA": 6.41,
         "simple parental level of education": "school",
         "science score": 29,
         "history score": 2.4,
         "_deepnote_index_column": 869
        },
        {
         "names": "Richard Young",
         "gender": "male",
         "race/ethnicity": "group D",
         "parental level of education": "high school",
         "lunch": "standard",
         "test preparation course": "none",
         "math score": 5.14,
         "reading score": 5.5,
         "writing score": 5.26,
         "GPA": 12.39,
         "simple parental level of education": "school",
         "science score": 62,
         "history score": 4.2,
         "_deepnote_index_column": 870
        },
        {
         "names": "Wanda Russell",
         "gender": "female",
         "race/ethnicity": "group B",
         "parental level of education": "high school",
         "lunch": "free/reduced",
         "test preparation course": "completed",
         "math score": 2.38,
         "reading score": 3.64,
         "writing score": 3.16,
         "GPA": 7.07,
         "simple parental level of education": "school",
         "science score": 16,
         "history score": 3.6,
         "_deepnote_index_column": 871
        },
        {
         "names": "Marina Zeigler",
         "gender": "female",
         "race/ethnicity": "group C",
         "parental level of education": "bachelor's degree",
         "lunch": "free/reduced",
         "test preparation course": "completed",
         "math score": 4.96,
         "reading score": 5.44,
         "writing score": 5.86,
         "GPA": 12.35,
         "simple parental level of education": "college",
         "science score": 59,
         "history score": 4.1,
         "_deepnote_index_column": 872
        },
        {
         "names": "Laurie Carter",
         "gender": "female",
         "race/ethnicity": "group B",
         "parental level of education": "some high school",
         "lunch": "standard",
         "test preparation course": "completed",
         "math score": 4.24,
         "reading score": 4.66,
         "writing score": 4.72,
         "GPA": 10.47,
         "simple parental level of education": "school",
         "science score": 43,
         "history score": 4.3,
         "_deepnote_index_column": 873
        },
        {
         "names": "Amanda Perez",
         "gender": "female",
         "race/ethnicity": "group A",
         "parental level of education": "high school",
         "lunch": "standard",
         "test preparation course": "completed",
         "math score": 5.08,
         "reading score": 5.8,
         "writing score": 5.5600000000000005,
         "GPA": 12.73,
         "simple parental level of education": "school",
         "science score": 61,
         "history score": 5.3,
         "_deepnote_index_column": 874
        }
       ]
      },
      "text/plain": "                names  gender race/ethnicity parental level of education  \\\n0       Rita Courtney  female        group B            some high school   \n1    Charles Linstrom    male        group A           bachelor's degree   \n2         Brian Young    male        group C            some high school   \n3      Howard Jimenez    male        group E            some high school   \n4        Wayne Wilson    male        group B            some high school   \n..                ...     ...            ...                         ...   \n870     Richard Young    male        group D                 high school   \n871     Wanda Russell  female        group B                 high school   \n872    Marina Zeigler  female        group C           bachelor's degree   \n873     Laurie Carter  female        group B            some high school   \n874      Amanda Perez  female        group A                 high school   \n\n            lunch test preparation course  math score  reading score  \\\n0        standard                    none        3.22           3.76   \n1        standard               completed        5.80           5.68   \n2        standard                    none        5.38           4.96   \n3        standard               completed        5.86           5.50   \n4        standard               completed        6.64           6.16   \n..            ...                     ...         ...            ...   \n870      standard                    none        5.14           5.50   \n871  free/reduced               completed        2.38           3.64   \n872  free/reduced               completed        4.96           5.44   \n873      standard               completed        4.24           4.66   \n874      standard               completed        5.08           5.80   \n\n     writing score    GPA simple parental level of education  science score  \\\n0             3.76   8.23                             school             25   \n1             5.86  13.43                            college             56   \n2             4.78  11.93                             school             58   \n3             5.56  13.21                             school             72   \n4             6.22  14.87                             school             94   \n..             ...    ...                                ...            ...   \n870           5.26  12.39                             school             62   \n871           3.16   7.07                             school             16   \n872           5.86  12.35                            college             59   \n873           4.72  10.47                             school             43   \n874           5.56  12.73                             school             61   \n\n     history score  \n0              3.8  \n1              5.2  \n2              3.8  \n3              5.0  \n4              4.6  \n..             ...  \n870            4.2  \n871            3.6  \n872            4.1  \n873            4.3  \n874            5.3  \n\n[875 rows x 13 columns]",
      "text/html": "<div>\n<style scoped>\n    .dataframe tbody tr th:only-of-type {\n        vertical-align: middle;\n    }\n\n    .dataframe tbody tr th {\n        vertical-align: top;\n    }\n\n    .dataframe thead th {\n        text-align: right;\n    }\n</style>\n<table border=\"1\" class=\"dataframe\">\n  <thead>\n    <tr style=\"text-align: right;\">\n      <th></th>\n      <th>names</th>\n      <th>gender</th>\n      <th>race/ethnicity</th>\n      <th>parental level of education</th>\n      <th>lunch</th>\n      <th>test preparation course</th>\n      <th>math score</th>\n      <th>reading score</th>\n      <th>writing score</th>\n      <th>GPA</th>\n      <th>simple parental level of education</th>\n      <th>science score</th>\n      <th>history score</th>\n    </tr>\n  </thead>\n  <tbody>\n    <tr>\n      <th>0</th>\n      <td>Rita Courtney</td>\n      <td>female</td>\n      <td>group B</td>\n      <td>some high school</td>\n      <td>standard</td>\n      <td>none</td>\n      <td>3.22</td>\n      <td>3.76</td>\n      <td>3.76</td>\n      <td>8.23</td>\n      <td>school</td>\n      <td>25</td>\n      <td>3.8</td>\n    </tr>\n    <tr>\n      <th>1</th>\n      <td>Charles Linstrom</td>\n      <td>male</td>\n      <td>group A</td>\n      <td>bachelor's degree</td>\n      <td>standard</td>\n      <td>completed</td>\n      <td>5.80</td>\n      <td>5.68</td>\n      <td>5.86</td>\n      <td>13.43</td>\n      <td>college</td>\n      <td>56</td>\n      <td>5.2</td>\n    </tr>\n    <tr>\n      <th>2</th>\n      <td>Brian Young</td>\n      <td>male</td>\n      <td>group C</td>\n      <td>some high school</td>\n      <td>standard</td>\n      <td>none</td>\n      <td>5.38</td>\n      <td>4.96</td>\n      <td>4.78</td>\n      <td>11.93</td>\n      <td>school</td>\n      <td>58</td>\n      <td>3.8</td>\n    </tr>\n    <tr>\n      <th>3</th>\n      <td>Howard Jimenez</td>\n      <td>male</td>\n      <td>group E</td>\n      <td>some high school</td>\n      <td>standard</td>\n      <td>completed</td>\n      <td>5.86</td>\n      <td>5.50</td>\n      <td>5.56</td>\n      <td>13.21</td>\n      <td>school</td>\n      <td>72</td>\n      <td>5.0</td>\n    </tr>\n    <tr>\n      <th>4</th>\n      <td>Wayne Wilson</td>\n      <td>male</td>\n      <td>group B</td>\n      <td>some high school</td>\n      <td>standard</td>\n      <td>completed</td>\n      <td>6.64</td>\n      <td>6.16</td>\n      <td>6.22</td>\n      <td>14.87</td>\n      <td>school</td>\n      <td>94</td>\n      <td>4.6</td>\n    </tr>\n    <tr>\n      <th>...</th>\n      <td>...</td>\n      <td>...</td>\n      <td>...</td>\n      <td>...</td>\n      <td>...</td>\n      <td>...</td>\n      <td>...</td>\n      <td>...</td>\n      <td>...</td>\n      <td>...</td>\n      <td>...</td>\n      <td>...</td>\n      <td>...</td>\n    </tr>\n    <tr>\n      <th>870</th>\n      <td>Richard Young</td>\n      <td>male</td>\n      <td>group D</td>\n      <td>high school</td>\n      <td>standard</td>\n      <td>none</td>\n      <td>5.14</td>\n      <td>5.50</td>\n      <td>5.26</td>\n      <td>12.39</td>\n      <td>school</td>\n      <td>62</td>\n      <td>4.2</td>\n    </tr>\n    <tr>\n      <th>871</th>\n      <td>Wanda Russell</td>\n      <td>female</td>\n      <td>group B</td>\n      <td>high school</td>\n      <td>free/reduced</td>\n      <td>completed</td>\n      <td>2.38</td>\n      <td>3.64</td>\n      <td>3.16</td>\n      <td>7.07</td>\n      <td>school</td>\n      <td>16</td>\n      <td>3.6</td>\n    </tr>\n    <tr>\n      <th>872</th>\n      <td>Marina Zeigler</td>\n      <td>female</td>\n      <td>group C</td>\n      <td>bachelor's degree</td>\n      <td>free/reduced</td>\n      <td>completed</td>\n      <td>4.96</td>\n      <td>5.44</td>\n      <td>5.86</td>\n      <td>12.35</td>\n      <td>college</td>\n      <td>59</td>\n      <td>4.1</td>\n    </tr>\n    <tr>\n      <th>873</th>\n      <td>Laurie Carter</td>\n      <td>female</td>\n      <td>group B</td>\n      <td>some high school</td>\n      <td>standard</td>\n      <td>completed</td>\n      <td>4.24</td>\n      <td>4.66</td>\n      <td>4.72</td>\n      <td>10.47</td>\n      <td>school</td>\n      <td>43</td>\n      <td>4.3</td>\n    </tr>\n    <tr>\n      <th>874</th>\n      <td>Amanda Perez</td>\n      <td>female</td>\n      <td>group A</td>\n      <td>high school</td>\n      <td>standard</td>\n      <td>completed</td>\n      <td>5.08</td>\n      <td>5.80</td>\n      <td>5.56</td>\n      <td>12.73</td>\n      <td>school</td>\n      <td>61</td>\n      <td>5.3</td>\n    </tr>\n  </tbody>\n</table>\n<p>875 rows × 13 columns</p>\n</div>"
     },
     "metadata": {}
    }
   ],
   "execution_count": 10
  },
  {
   "cell_type": "markdown",
   "source": "> **Justificación:**\n",
   "metadata": {
    "cell_id": "00040-faacb7b9-82e5-4a64-ab1c-3c5206d1d75f",
    "deepnote_cell_type": "markdown"
   }
  },
  {
   "cell_type": "markdown",
   "source": "```\nDeberíamos usar left_join, considerando que nuestro dataset inicial, df_grades, esta completo. Si por ejemplo no estuviese completo y solo nos interesan los alumnos que tengas las 5 notas, usando inner_join obtendriamos eso, pero como vemos a através de los largos de los datasets creados en el segmento anterior, inner join y outer join nos dan las misma cantidad de alumnos. \n```",
   "metadata": {
    "cell_id": "00041-0d45fd1c-550b-48e1-a616-e792dbc0a0f0",
    "deepnote_cell_type": "markdown"
   }
  },
  {
   "cell_type": "markdown",
   "source": "## 1.4 Más visualizaciones [Bonus - 0.5 puntos por cada Gráfico, máximo 1 punto]\n\n\n**Desde aquí parte el bonus para el lab.**\n\n\n<p align=\"center\">\n  <img src=\"https://media4.giphy.com/media/xT5LMWNOjGqJzUfyve/giphy.gif?cid=ecf05e47phkhvg6vadqvcoobvxwj9bzxxk38jjvkcc6eak6t&rid=giphy.gif&ct=g\">\n</p>\n\n\n",
   "metadata": {
    "id": "pj7LOu6GTH5Q",
    "cell_id": "00042-7be84b1c-5702-4d07-94b1-c333d651f2a8",
    "deepnote_cell_type": "markdown"
   }
  },
  {
   "cell_type": "markdown",
   "source": "Genere dos visualizaciones extras que encuentre interesantes (y no triviales) con estos datos y explique sus resultados. Agrupe los atributos que estime convenientes.\n\n\n**To-Do:**\n- [ ] Generar dos nuevas visualizaciones con los datos y explicar que están representando.\n\n\n> **NOTA: No utilice historia ni ciencias, son notas generadas aleatoriamente.**",
   "metadata": {
    "id": "4f1PIBgMDt5H",
    "cell_id": "00043-7f5dcae7-2408-4670-b80e-758e5fc3c025",
    "deepnote_cell_type": "markdown"
   }
  },
  {
   "cell_type": "code",
   "source": "#Primera Visualización\ndf_grades_grouped2= df_grades_melted.groupby([\"gender\",\"variable\"]).agg(count=('variable', 'size'))\ndf_grades_grouped3= df_grades_melted.groupby([\"gender\",\"variable\"]).agg({\"value\": \"mean\" })\ndf_grades_grouped3['count']=df_grades_grouped2['count']\ndf_grades_grouped3.reset_index()\ndf = px.data.tips()\nfig = px.box(df_grades_grouped3.reset_index(),x=\"variable\", y=\"value\",color=\"gender\")\nfig.show()\n\n#Podemos notar que hay diferencias entre los promedios de las distintas pruebas según el género de los alumnos",
   "metadata": {
    "tags": [],
    "cell_id": "00046-32284236-6b8a-4bb4-a3f1-b49a8af9492e",
    "deepnote_to_be_reexecuted": false,
    "source_hash": "9e9c506b",
    "execution_start": 1633737109354,
    "execution_millis": 461,
    "deepnote_cell_type": "code"
   },
   "outputs": [
    {
     "data": {
      "text/html": "<html>\n<head><meta charset=\"utf-8\" /></head>\n<body>\n    <div>            <script src=\"https://cdnjs.cloudflare.com/ajax/libs/mathjax/2.7.5/MathJax.js?config=TeX-AMS-MML_SVG\"></script><script type=\"text/javascript\">if (window.MathJax) {MathJax.Hub.Config({SVG: {font: \"STIX-Web\"}});}</script>                <script type=\"text/javascript\">window.PlotlyConfig = {MathJaxConfig: 'local'};</script>\n        <script src=\"https://cdn.plot.ly/plotly-2.4.2.min.js\"></script>                <div id=\"28acc4d2-48da-4259-8e9a-357598a4619c\" class=\"plotly-graph-div\" style=\"height:525px; width:100%;\"></div>            <script type=\"text/javascript\">                                    window.PLOTLYENV=window.PLOTLYENV || {};                                    if (document.getElementById(\"28acc4d2-48da-4259-8e9a-357598a4619c\")) {                    Plotly.newPlot(                        \"28acc4d2-48da-4259-8e9a-357598a4619c\",                        [{\"alignmentgroup\":\"True\",\"hovertemplate\":\"gender=female<br>variable=%{x}<br>value=%{y}<extra></extra>\",\"legendgroup\":\"female\",\"marker\":{\"color\":\"#636efa\"},\"name\":\"female\",\"notched\":false,\"offsetgroup\":\"female\",\"orientation\":\"v\",\"showlegend\":true,\"type\":\"box\",\"x\":[\"math score\",\"reading score\",\"writing score\"],\"x0\":\" \",\"xaxis\":\"x\",\"y\":[4.826741071428572,5.36714285714286,5.364999999999997],\"y0\":\" \",\"yaxis\":\"y\"},{\"alignmentgroup\":\"True\",\"hovertemplate\":\"gender=male<br>variable=%{x}<br>value=%{y}<extra></extra>\",\"legendgroup\":\"male\",\"marker\":{\"color\":\"#EF553B\"},\"name\":\"male\",\"notched\":false,\"offsetgroup\":\"male\",\"orientation\":\"v\",\"showlegend\":true,\"type\":\"box\",\"x\":[\"math score\",\"reading score\",\"writing score\"],\"x0\":\" \",\"xaxis\":\"x\",\"y\":[5.127494145199061,4.925714285714285,4.7950351288056225],\"y0\":\" \",\"yaxis\":\"y\"}],                        {\"boxmode\":\"group\",\"legend\":{\"title\":{\"text\":\"gender\"},\"tracegroupgap\":0},\"margin\":{\"t\":60},\"template\":{\"data\":{\"bar\":[{\"error_x\":{\"color\":\"#2a3f5f\"},\"error_y\":{\"color\":\"#2a3f5f\"},\"marker\":{\"line\":{\"color\":\"#E5ECF6\",\"width\":0.5},\"pattern\":{\"fillmode\":\"overlay\",\"size\":10,\"solidity\":0.2}},\"type\":\"bar\"}],\"barpolar\":[{\"marker\":{\"line\":{\"color\":\"#E5ECF6\",\"width\":0.5},\"pattern\":{\"fillmode\":\"overlay\",\"size\":10,\"solidity\":0.2}},\"type\":\"barpolar\"}],\"carpet\":[{\"aaxis\":{\"endlinecolor\":\"#2a3f5f\",\"gridcolor\":\"white\",\"linecolor\":\"white\",\"minorgridcolor\":\"white\",\"startlinecolor\":\"#2a3f5f\"},\"baxis\":{\"endlinecolor\":\"#2a3f5f\",\"gridcolor\":\"white\",\"linecolor\":\"white\",\"minorgridcolor\":\"white\",\"startlinecolor\":\"#2a3f5f\"},\"type\":\"carpet\"}],\"choropleth\":[{\"colorbar\":{\"outlinewidth\":0,\"ticks\":\"\"},\"type\":\"choropleth\"}],\"contour\":[{\"colorbar\":{\"outlinewidth\":0,\"ticks\":\"\"},\"colorscale\":[[0.0,\"#0d0887\"],[0.1111111111111111,\"#46039f\"],[0.2222222222222222,\"#7201a8\"],[0.3333333333333333,\"#9c179e\"],[0.4444444444444444,\"#bd3786\"],[0.5555555555555556,\"#d8576b\"],[0.6666666666666666,\"#ed7953\"],[0.7777777777777778,\"#fb9f3a\"],[0.8888888888888888,\"#fdca26\"],[1.0,\"#f0f921\"]],\"type\":\"contour\"}],\"contourcarpet\":[{\"colorbar\":{\"outlinewidth\":0,\"ticks\":\"\"},\"type\":\"contourcarpet\"}],\"heatmap\":[{\"colorbar\":{\"outlinewidth\":0,\"ticks\":\"\"},\"colorscale\":[[0.0,\"#0d0887\"],[0.1111111111111111,\"#46039f\"],[0.2222222222222222,\"#7201a8\"],[0.3333333333333333,\"#9c179e\"],[0.4444444444444444,\"#bd3786\"],[0.5555555555555556,\"#d8576b\"],[0.6666666666666666,\"#ed7953\"],[0.7777777777777778,\"#fb9f3a\"],[0.8888888888888888,\"#fdca26\"],[1.0,\"#f0f921\"]],\"type\":\"heatmap\"}],\"heatmapgl\":[{\"colorbar\":{\"outlinewidth\":0,\"ticks\":\"\"},\"colorscale\":[[0.0,\"#0d0887\"],[0.1111111111111111,\"#46039f\"],[0.2222222222222222,\"#7201a8\"],[0.3333333333333333,\"#9c179e\"],[0.4444444444444444,\"#bd3786\"],[0.5555555555555556,\"#d8576b\"],[0.6666666666666666,\"#ed7953\"],[0.7777777777777778,\"#fb9f3a\"],[0.8888888888888888,\"#fdca26\"],[1.0,\"#f0f921\"]],\"type\":\"heatmapgl\"}],\"histogram\":[{\"marker\":{\"pattern\":{\"fillmode\":\"overlay\",\"size\":10,\"solidity\":0.2}},\"type\":\"histogram\"}],\"histogram2d\":[{\"colorbar\":{\"outlinewidth\":0,\"ticks\":\"\"},\"colorscale\":[[0.0,\"#0d0887\"],[0.1111111111111111,\"#46039f\"],[0.2222222222222222,\"#7201a8\"],[0.3333333333333333,\"#9c179e\"],[0.4444444444444444,\"#bd3786\"],[0.5555555555555556,\"#d8576b\"],[0.6666666666666666,\"#ed7953\"],[0.7777777777777778,\"#fb9f3a\"],[0.8888888888888888,\"#fdca26\"],[1.0,\"#f0f921\"]],\"type\":\"histogram2d\"}],\"histogram2dcontour\":[{\"colorbar\":{\"outlinewidth\":0,\"ticks\":\"\"},\"colorscale\":[[0.0,\"#0d0887\"],[0.1111111111111111,\"#46039f\"],[0.2222222222222222,\"#7201a8\"],[0.3333333333333333,\"#9c179e\"],[0.4444444444444444,\"#bd3786\"],[0.5555555555555556,\"#d8576b\"],[0.6666666666666666,\"#ed7953\"],[0.7777777777777778,\"#fb9f3a\"],[0.8888888888888888,\"#fdca26\"],[1.0,\"#f0f921\"]],\"type\":\"histogram2dcontour\"}],\"mesh3d\":[{\"colorbar\":{\"outlinewidth\":0,\"ticks\":\"\"},\"type\":\"mesh3d\"}],\"parcoords\":[{\"line\":{\"colorbar\":{\"outlinewidth\":0,\"ticks\":\"\"}},\"type\":\"parcoords\"}],\"pie\":[{\"automargin\":true,\"type\":\"pie\"}],\"scatter\":[{\"marker\":{\"colorbar\":{\"outlinewidth\":0,\"ticks\":\"\"}},\"type\":\"scatter\"}],\"scatter3d\":[{\"line\":{\"colorbar\":{\"outlinewidth\":0,\"ticks\":\"\"}},\"marker\":{\"colorbar\":{\"outlinewidth\":0,\"ticks\":\"\"}},\"type\":\"scatter3d\"}],\"scattercarpet\":[{\"marker\":{\"colorbar\":{\"outlinewidth\":0,\"ticks\":\"\"}},\"type\":\"scattercarpet\"}],\"scattergeo\":[{\"marker\":{\"colorbar\":{\"outlinewidth\":0,\"ticks\":\"\"}},\"type\":\"scattergeo\"}],\"scattergl\":[{\"marker\":{\"colorbar\":{\"outlinewidth\":0,\"ticks\":\"\"}},\"type\":\"scattergl\"}],\"scattermapbox\":[{\"marker\":{\"colorbar\":{\"outlinewidth\":0,\"ticks\":\"\"}},\"type\":\"scattermapbox\"}],\"scatterpolar\":[{\"marker\":{\"colorbar\":{\"outlinewidth\":0,\"ticks\":\"\"}},\"type\":\"scatterpolar\"}],\"scatterpolargl\":[{\"marker\":{\"colorbar\":{\"outlinewidth\":0,\"ticks\":\"\"}},\"type\":\"scatterpolargl\"}],\"scatterternary\":[{\"marker\":{\"colorbar\":{\"outlinewidth\":0,\"ticks\":\"\"}},\"type\":\"scatterternary\"}],\"surface\":[{\"colorbar\":{\"outlinewidth\":0,\"ticks\":\"\"},\"colorscale\":[[0.0,\"#0d0887\"],[0.1111111111111111,\"#46039f\"],[0.2222222222222222,\"#7201a8\"],[0.3333333333333333,\"#9c179e\"],[0.4444444444444444,\"#bd3786\"],[0.5555555555555556,\"#d8576b\"],[0.6666666666666666,\"#ed7953\"],[0.7777777777777778,\"#fb9f3a\"],[0.8888888888888888,\"#fdca26\"],[1.0,\"#f0f921\"]],\"type\":\"surface\"}],\"table\":[{\"cells\":{\"fill\":{\"color\":\"#EBF0F8\"},\"line\":{\"color\":\"white\"}},\"header\":{\"fill\":{\"color\":\"#C8D4E3\"},\"line\":{\"color\":\"white\"}},\"type\":\"table\"}]},\"layout\":{\"annotationdefaults\":{\"arrowcolor\":\"#2a3f5f\",\"arrowhead\":0,\"arrowwidth\":1},\"autotypenumbers\":\"strict\",\"coloraxis\":{\"colorbar\":{\"outlinewidth\":0,\"ticks\":\"\"}},\"colorscale\":{\"diverging\":[[0,\"#8e0152\"],[0.1,\"#c51b7d\"],[0.2,\"#de77ae\"],[0.3,\"#f1b6da\"],[0.4,\"#fde0ef\"],[0.5,\"#f7f7f7\"],[0.6,\"#e6f5d0\"],[0.7,\"#b8e186\"],[0.8,\"#7fbc41\"],[0.9,\"#4d9221\"],[1,\"#276419\"]],\"sequential\":[[0.0,\"#0d0887\"],[0.1111111111111111,\"#46039f\"],[0.2222222222222222,\"#7201a8\"],[0.3333333333333333,\"#9c179e\"],[0.4444444444444444,\"#bd3786\"],[0.5555555555555556,\"#d8576b\"],[0.6666666666666666,\"#ed7953\"],[0.7777777777777778,\"#fb9f3a\"],[0.8888888888888888,\"#fdca26\"],[1.0,\"#f0f921\"]],\"sequentialminus\":[[0.0,\"#0d0887\"],[0.1111111111111111,\"#46039f\"],[0.2222222222222222,\"#7201a8\"],[0.3333333333333333,\"#9c179e\"],[0.4444444444444444,\"#bd3786\"],[0.5555555555555556,\"#d8576b\"],[0.6666666666666666,\"#ed7953\"],[0.7777777777777778,\"#fb9f3a\"],[0.8888888888888888,\"#fdca26\"],[1.0,\"#f0f921\"]]},\"colorway\":[\"#636efa\",\"#EF553B\",\"#00cc96\",\"#ab63fa\",\"#FFA15A\",\"#19d3f3\",\"#FF6692\",\"#B6E880\",\"#FF97FF\",\"#FECB52\"],\"font\":{\"color\":\"#2a3f5f\"},\"geo\":{\"bgcolor\":\"white\",\"lakecolor\":\"white\",\"landcolor\":\"#E5ECF6\",\"showlakes\":true,\"showland\":true,\"subunitcolor\":\"white\"},\"hoverlabel\":{\"align\":\"left\"},\"hovermode\":\"closest\",\"mapbox\":{\"style\":\"light\"},\"paper_bgcolor\":\"white\",\"plot_bgcolor\":\"#E5ECF6\",\"polar\":{\"angularaxis\":{\"gridcolor\":\"white\",\"linecolor\":\"white\",\"ticks\":\"\"},\"bgcolor\":\"#E5ECF6\",\"radialaxis\":{\"gridcolor\":\"white\",\"linecolor\":\"white\",\"ticks\":\"\"}},\"scene\":{\"xaxis\":{\"backgroundcolor\":\"#E5ECF6\",\"gridcolor\":\"white\",\"gridwidth\":2,\"linecolor\":\"white\",\"showbackground\":true,\"ticks\":\"\",\"zerolinecolor\":\"white\"},\"yaxis\":{\"backgroundcolor\":\"#E5ECF6\",\"gridcolor\":\"white\",\"gridwidth\":2,\"linecolor\":\"white\",\"showbackground\":true,\"ticks\":\"\",\"zerolinecolor\":\"white\"},\"zaxis\":{\"backgroundcolor\":\"#E5ECF6\",\"gridcolor\":\"white\",\"gridwidth\":2,\"linecolor\":\"white\",\"showbackground\":true,\"ticks\":\"\",\"zerolinecolor\":\"white\"}},\"shapedefaults\":{\"line\":{\"color\":\"#2a3f5f\"}},\"ternary\":{\"aaxis\":{\"gridcolor\":\"white\",\"linecolor\":\"white\",\"ticks\":\"\"},\"baxis\":{\"gridcolor\":\"white\",\"linecolor\":\"white\",\"ticks\":\"\"},\"bgcolor\":\"#E5ECF6\",\"caxis\":{\"gridcolor\":\"white\",\"linecolor\":\"white\",\"ticks\":\"\"}},\"title\":{\"x\":0.05},\"xaxis\":{\"automargin\":true,\"gridcolor\":\"white\",\"linecolor\":\"white\",\"ticks\":\"\",\"title\":{\"standoff\":15},\"zerolinecolor\":\"white\",\"zerolinewidth\":2},\"yaxis\":{\"automargin\":true,\"gridcolor\":\"white\",\"linecolor\":\"white\",\"ticks\":\"\",\"title\":{\"standoff\":15},\"zerolinecolor\":\"white\",\"zerolinewidth\":2}}},\"xaxis\":{\"anchor\":\"y\",\"domain\":[0.0,1.0],\"title\":{\"text\":\"variable\"}},\"yaxis\":{\"anchor\":\"x\",\"domain\":[0.0,1.0],\"title\":{\"text\":\"value\"}}},                        {\"responsive\": true}                    ).then(function(){\n                            \nvar gd = document.getElementById('28acc4d2-48da-4259-8e9a-357598a4619c');\nvar x = new MutationObserver(function (mutations, observer) {{\n        var display = window.getComputedStyle(gd).display;\n        if (!display || display === 'none') {{\n            console.log([gd, 'removed!']);\n            Plotly.purge(gd);\n            observer.disconnect();\n        }}\n}});\n\n// Listen for the removal of the full notebook cells\nvar notebookContainer = gd.closest('#notebook-container');\nif (notebookContainer) {{\n    x.observe(notebookContainer, {childList: true});\n}}\n\n// Listen for the clearing of the current output cell\nvar outputEl = gd.closest('.output');\nif (outputEl) {{\n    x.observe(outputEl, {childList: true});\n}}\n\n                        })                };                            </script>        </div>\n</body>\n</html>"
     },
     "metadata": {},
     "output_type": "display_data"
    }
   ],
   "execution_count": 110
  },
  {
   "cell_type": "code",
   "source": "#Segunda Visualización \ndf_grades_gpa = pd.merge(df_grades_melted, df_grades,how='inner', on='names')\nfig = px.scatter(df_grades_gpa, x=\"GPA\", y=\"value\", color=\"variable\",facet_col=\"gender_y\")\nfig.show()\n\n#Basandonos en lo anterior, las peores notas en mujeres son los de matematicas mientras que en hombres es en escritura y leer.\n# Ambos, escritura y lectura tienen un comportamiento similar para ambos casos.  \n",
   "metadata": {
    "tags": [],
    "cell_id": "00046-8628296a-d3d5-4ee4-a837-7150336cb467",
    "deepnote_to_be_reexecuted": false,
    "source_hash": "d09836e6",
    "execution_start": 1633738296128,
    "execution_millis": 519,
    "deepnote_cell_type": "code"
   },
   "outputs": [
    {
     "data": {
      "text/html": "<html>\n<head><meta charset=\"utf-8\" /></head>\n<body>\n    <div>            <script src=\"https://cdnjs.cloudflare.com/ajax/libs/mathjax/2.7.5/MathJax.js?config=TeX-AMS-MML_SVG\"></script><script type=\"text/javascript\">if (window.MathJax) {MathJax.Hub.Config({SVG: {font: \"STIX-Web\"}});}</script>                <script type=\"text/javascript\">window.PlotlyConfig = {MathJaxConfig: 'local'};</script>\n        <script src=\"https://cdn.plot.ly/plotly-2.4.2.min.js\"></script>                <div id=\"5468d754-5443-46a0-9389-7e39611f24d0\" class=\"plotly-graph-div\" style=\"height:525px; width:100%;\"></div>            <script type=\"text/javascript\">                                    window.PLOTLYENV=window.PLOTLYENV || {};                                    if (document.getElementById(\"5468d754-5443-46a0-9389-7e39611f24d0\")) {                    Plotly.newPlot(                        \"5468d754-5443-46a0-9389-7e39611f24d0\",                        [{\"hovertemplate\":\"variable=math score<br>gender_y=female<br>GPA=%{x}<br>value=%{y}<extra></extra>\",\"legendgroup\":\"math score\",\"marker\":{\"color\":\"#636efa\",\"symbol\":\"circle\"},\"mode\":\"markers\",\"name\":\"math score\",\"showlegend\":true,\"type\":\"scattergl\",\"x\":[8.23,8.07,12.55,11.41,11.91,15.91,12.51,9.85,11.59,12.83,14.23,13.81,12.39,9.35,10.61,10.13,13.27,11.21,11.53,11.29,10.29,13.03,11.91,9.85,14.65,14.49,8.61,11.43,11.71,12.71,14.69,11.89,13.99,12.63,12.29,12.03,10.25,11.83,9.59,12.19,13.77,15.91,11.33,13.57,13.05,12.77,11.85,9.71,13.93,12.67,12.63,14.79,11.31,12.95,12.33,11.07,12.53,11.91,12.59,13.57,10.81,8.19,6.39,12.55,10.13,10.29,9.47,14.09,12.29,15.19,14.41,10.59,8.45,9.49,11.63,12.33,9.99,13.83,15.65,11.29,10.43,11.95,12.65,12.75,11.71,14.05,9.05,11.55,11.71,9.99,9.77,10.57,13.17,16.15,11.21,10.69,12.07,14.39,14.27,9.67,13.87,10.89,13.09,12.37,12.81,13.21,6.65,9.97,11.77,11.37,10.51,12.31,9.09,12.13,11.73,9.99,7.47,6.51,12.59,9.49,14.23,11.27,8.53,9.71,16.33,12.77,13.93,13.05,10.87,9.73,13.03,12.31,11.17,13.25,11.75,11.29,11.25,7.35,10.73,10.53,14.73,11.87,13.51,11.57,14.13,12.17,12.39,9.77,14.81,14.91,12.33,14.55,11.05,12.63,12.71,15.89,11.11,16.27,14.19,12.93,10.45,13.29,9.51,14.75,9.69,12.23,14.93,14.17,13.23,12.77,10.11,12.27,11.55,12.39,11.23,11.71,13.65,13.19,9.31,9.29,14.07,11.81,13.63,13.47,13.77,13.29,13.37,13.45,13.97,13.93,9.85,10.39,12.89,14.37,12.99,14.17,12.87,10.77,11.79,12.79,11.11,9.89,11.97,12.05,12.85,11.89,12.97,8.71,11.87,8.99,12.63,12.93,13.17,11.39,4.71,11.31,9.91,10.47,13.69,12.11,11.57,11.25,9.59,15.37,14.95,12.37,9.09,13.39,15.81,11.85,11.79,9.23,12.65,9.65,11.27,12.07,13.45,10.29,11.47,11.89,8.81,10.53,12.55,12.77,11.15,13.93,10.71,12.01,15.03,9.91,13.63,12.11,9.45,12.19,12.35,15.29,8.99,14.67,12.91,11.93,15.67,13.79,13.21,14.07,10.35,14.67,13.11,10.79,13.11,15.55,14.39,12.61,11.99,13.15,11.25,14.51,11.11,12.63,11.45,14.25,11.39,11.97,9.73,11.53,14.53,11.27,11.91,15.13,9.47,12.41,12.83,10.11,14.21,13.03,15.85,12.31,15.45,14.69,13.33,9.35,13.37,13.13,12.15,13.11,13.81,10.87,8.57,12.31,8.05,10.19,15.79,7.93,11.17,11.37,12.57,12.27,12.33,15.09,12.95,14.67,11.81,13.33,9.49,10.09,11.41,13.85,12.51,10.89,12.79,14.63,10.27,13.51,15.03,11.31,13.95,13.57,11.73,10.13,9.67,12.53,11.85,6.59,13.11,10.97,15.83,10.19,9.85,10.43,12.45,12.57,10.37,7.05,9.73,12.21,12.37,9.61,9.13,13.01,13.15,11.11,10.93,12.93,10.27,12.33,11.53,13.91,11.03,10.57,11.93,14.27,13.79,12.31,14.99,11.17,13.71,13.17,14.97,14.65,15.83,10.73,12.79,13.63,13.15,11.25,8.53,11.71,12.25,10.75,10.93,11.81,16.09,12.91,12.55,9.17,11.29,11.35,10.77,14.41,9.11,14.53,10.23,5.89,13.13,11.63,11.85,14.17,16.19,11.53,11.71,12.21,12.81,9.97,11.25,15.15,12.63,11.77,13.15,11.31,12.29,12.21,10.67,9.77,10.41,11.35,12.95,10.35,11.85,3.55,11.49,13.25,16.33,9.53,10.77,13.55,12.45,6.63,12.71,12.03,12.85,12.01,11.21,12.21,8.41,6.41,7.07,12.35,10.47,12.73],\"xaxis\":\"x\",\"y\":[3.22,3.04,4.9,4.12,4.84,6.58,5.14,3.76,4.54,5.38,5.98,5.5,5.14,3.4,4.0,3.88,5.68,4.42,4.78,4.78,4.12,5.38,4.78,3.7,6.1,5.62,3.4,4.54,4.42,4.9,5.92,4.72,5.5,5.08,4.96,4.78,3.76,4.72,3.88,5.26,5.8,6.64,4.66,5.5,5.44,5.2,4.72,4.18,5.8,5.14,5.14,5.98,4.9,5.08,4.9,4.48,4.96,4.9,4.9,5.74,4.0,2.92,2.14,5.14,4.18,4.18,3.7,5.98,4.9,6.28,6.04,4.06,3.2800000000000002,3.8200000000000003,4.66,5.26,3.7,5.62,6.94,4.06,4.12,4.84,5.44,5.26,4.42,5.62,3.58,4.54,4.3,3.64,3.52,4.0,5.02,6.82,4.72,4.24,4.96,5.68,5.5600000000000005,3.64,5.86,4.48,5.32,4.96,5.26,5.38,2.32,3.64,4.72,4.48,4.42,5.14,3.22,4.9,4.78,4.12,2.74,2.56,5.2,3.76,5.74,4.3,3.1,3.76,7.0,5.02,5.74,5.26,4.3,3.88,5.62,4.72,4.36,5.08,4.72,4.6,4.84,2.74,4.12,4.18,5.92,4.36,5.38,4.96,5.74,5.08,4.78,4.0,6.1,6.04,4.9,6.1,4.48,4.84,4.9,6.82,4.54,6.94,5.74,5.32,4.54,5.62,3.94,6.16,3.8200000000000003,4.78,5.86,5.62,5.26,4.9,4.12,4.9,4.48,5.32,4.78,4.66,5.62,5.2,3.7,3.4,5.92,5.2,5.2,5.5,5.92,5.44,5.26,5.38,5.62,5.62,3.58,3.94,4.66,5.74,4.9,5.62,5.38,4.24,4.54,5.5600000000000005,4.18,4.12,4.42,4.78,4.9,5.08,5.2,3.34,4.66,3.64,5.08,5.44,5.5600000000000005,4.54,1.48,4.9,3.4,3.88,5.62,4.9,4.72,4.36,3.76,6.46,6.4,5.2,3.8200000000000003,5.86,6.58,4.9,4.96,3.52,5.14,3.34,4.84,4.54,5.26,4.18,4.3,4.9,3.46,4.54,4.9,5.02,4.54,5.44,4.66,4.42,6.64,4.36,5.5600000000000005,4.84,3.8200000000000003,4.96,4.96,6.4,3.52,6.1,5.38,5.08,6.34,5.62,5.14,5.74,4.18,6.1,5.32,4.48,5.5,6.28,5.86,5.02,5.02,5.44,4.6,6.22,4.48,5.5600000000000005,4.6,5.62,4.66,4.84,3.88,4.6,5.92,4.48,4.6,6.1,3.94,5.02,5.14,4.0,5.98,5.32,6.52,5.26,6.28,5.92,5.5,4.06,5.5,5.26,5.02,5.26,5.5,4.54,3.64,4.9,3.2800000000000002,3.52,7.0,3.1,4.72,4.54,5.62,5.2,5.14,6.22,5.32,6.1,4.66,5.02,4.24,4.12,4.72,5.44,4.78,4.12,5.44,6.46,4.24,5.68,6.28,4.72,5.8,5.5,4.6,4.0,3.52,5.14,4.48,2.44,5.02,4.54,6.76,3.8200000000000003,3.94,4.24,5.26,4.54,4.42,2.92,3.94,4.84,4.78,4.0,3.64,5.02,5.14,4.18,4.18,4.96,3.94,5.02,4.3,5.38,4.72,4.12,4.48,5.68,5.44,5.08,5.92,4.54,5.44,5.02,6.22,5.62,6.52,4.66,5.02,5.14,5.44,4.84,3.16,4.66,5.02,4.24,4.54,5.08,6.76,5.44,5.26,3.1,4.42,4.48,4.3,5.8,3.46,5.86,4.12,2.08,5.38,4.54,4.78,5.8,6.88,4.54,4.9,4.96,5.38,3.8200000000000003,4.42,6.28,4.9,4.9,5.38,4.36,5.02,4.9,4.48,3.88,4.18,4.72,4.9,4.0,5.14,1.0,4.9,5.14,7.0,4.06,4.3,5.5,5.32,2.62,4.9,4.9,5.44,4.96,4.54,4.72,3.46,2.74,2.38,4.96,4.24,5.08],\"yaxis\":\"y\"},{\"hovertemplate\":\"variable=math score<br>gender_y=male<br>GPA=%{x}<br>value=%{y}<extra></extra>\",\"legendgroup\":\"math score\",\"marker\":{\"color\":\"#636efa\",\"symbol\":\"circle\"},\"mode\":\"markers\",\"name\":\"math score\",\"showlegend\":false,\"type\":\"scattergl\",\"x\":[13.43,11.93,13.21,14.87,11.63,12.19,10.99,13.77,11.11,12.65,10.71,12.21,8.53,13.65,10.97,13.17,13.95,13.85,11.35,12.03,10.49,11.37,10.89,6.77,11.09,9.09,14.63,6.65,12.37,11.41,12.99,14.59,10.85,9.93,10.11,10.09,14.83,13.75,11.53,15.33,14.31,14.81,15.55,11.23,9.27,13.85,9.17,12.69,12.07,11.27,14.97,11.47,11.65,11.07,10.25,14.65,13.01,8.95,11.67,9.79,11.65,8.87,11.69,11.31,9.61,12.05,10.41,11.19,10.61,10.31,12.87,10.09,12.71,8.99,13.95,14.97,10.75,11.21,10.09,9.89,11.75,12.61,8.83,10.93,12.95,9.45,9.05,12.01,12.59,12.65,13.99,10.51,9.93,13.55,12.83,10.59,13.29,14.01,9.45,13.79,10.57,9.33,11.85,14.59,13.63,7.85,9.23,14.23,13.15,13.09,11.41,13.85,9.61,11.37,14.67,13.61,11.93,8.69,10.61,9.71,12.65,10.37,15.23,14.75,10.13,12.05,5.77,10.53,14.71,9.23,13.91,12.63,13.47,13.01,11.37,12.93,12.11,12.11,13.13,12.85,12.59,13.05,11.91,13.45,12.13,13.79,10.33,9.35,9.59,12.39,12.51,13.01,11.83,13.17,9.87,11.31,13.77,13.19,10.93,12.59,15.81,11.17,11.95,10.81,13.11,12.51,11.27,10.45,11.75,16.19,8.99,12.11,9.03,10.63,12.29,10.03,9.27,8.49,10.85,11.91,8.09,13.59,12.95,9.71,12.73,12.25,9.87,6.13,11.27,10.11,14.33,13.39,12.49,11.59,9.41,9.71,10.49,12.03,9.73,10.51,9.69,10.67,14.25,15.39,13.05,12.77,11.69,10.15,11.93,13.53,15.01,12.21,9.31,12.35,14.29,11.39,11.23,12.43,11.47,11.77,11.99,16.33,14.35,12.47,12.01,9.19,10.11,11.21,11.39,9.27,10.85,8.73,11.19,9.25,12.91,8.85,11.35,13.79,11.71,15.45,8.19,13.45,13.59,12.03,13.27,9.71,14.77,14.25,12.33,14.19,10.01,7.99,11.13,12.09,11.37,11.63,12.39,8.71,12.33,7.97,14.15,9.87,9.49,9.47,12.31,9.27,10.17,10.83,7.69,12.89,8.01,12.49,8.61,10.07,13.77,11.93,11.15,9.83,10.95,12.39,14.03,9.97,12.21,13.25,8.55,10.45,8.81,10.03,10.55,10.95,14.51,9.01,10.87,12.45,10.47,12.91,12.09,10.33,10.67,10.47,10.55,15.17,13.93,12.49,12.41,9.65,10.73,6.71,9.71,11.77,13.71,11.91,13.63,8.41,12.31,8.07,13.23,9.31,10.29,10.71,9.61,7.81,11.09,10.43,10.55,12.33,12.79,11.71,9.21,9.33,11.03,11.69,13.05,13.45,14.03,12.17,12.75,13.63,10.37,7.87,10.81,8.83,14.23,11.97,11.33,13.51,13.89,10.29,14.47,12.25,12.33,10.89,13.07,11.93,11.29,10.69,11.97,14.71,5.87,11.97,10.65,12.41,13.91,9.91,11.63,11.43,13.51,10.81,11.91,8.93,9.95,11.31,14.21,13.45,11.29,13.75,11.57,13.43,8.53,12.97,12.47,11.75,12.05,9.81,13.41,11.47,10.85,9.51,10.57,14.63,9.73,14.11,12.43,11.33,14.27,13.29,11.31,13.73,13.41,8.49,11.01,12.01,15.37,9.05,12.81,13.77,11.95,11.95,10.69,9.45,12.39,13.93,11.43,10.95,10.19,14.51,9.79,9.13,10.83,13.55,11.41,13.51,14.45,16.13,12.19,12.25,12.39],\"xaxis\":\"x2\",\"y\":[5.8,5.38,5.86,6.64,5.26,5.5,4.78,6.64,4.72,5.44,4.72,5.38,3.76,5.92,4.78,5.8,6.16,6.04,4.84,5.08,4.42,4.96,4.66,3.16,5.14,3.4,6.52,3.1,5.38,5.26,5.8,6.46,4.6,4.78,4.42,4.48,6.82,5.86,5.08,6.76,6.22,6.64,6.82,5.32,3.64,5.92,4.54,5.5,5.32,5.02,6.58,5.14,4.96,4.24,4.3,6.4,5.86,4.18,4.72,4.54,5.14,3.94,5.38,4.84,3.94,5.2,4.84,5.08,5.08,4.48,5.32,4.66,5.68,3.64,6.28,6.46,4.96,4.6,4.18,4.42,5.32,5.5600000000000005,3.7,4.84,5.8,4.06,4.0,5.14,5.5,5.8,6.1,4.48,4.66,6.28,5.38,4.66,6.1,6.04,4.24,5.86,5.26,4.66,5.26,6.34,5.86,3.76,3.88,6.46,5.5600000000000005,5.62,5.02,6.16,4.18,4.72,6.28,6.4,5.08,3.88,4.9,4.24,5.5,4.6,6.88,6.58,4.54,5.5600000000000005,2.68,4.66,6.64,4.0,5.98,5.5600000000000005,6.04,5.8,5.02,5.74,5.38,4.96,6.04,5.44,5.5600000000000005,5.86,5.32,5.98,5.2,6.16,4.66,3.94,4.18,5.5,5.32,5.44,5.08,5.68,4.18,5.32,6.46,5.98,4.66,5.38,7.0,4.66,5.26,4.72,5.5,5.2,5.08,4.66,5.26,7.0,4.18,5.38,3.94,4.54,5.8,4.72,4.42,3.76,5.02,5.38,3.4,5.68,5.74,4.18,5.68,5.5,4.3,2.8,4.78,4.24,6.22,6.22,5.44,5.02,3.94,4.18,4.84,5.14,4.24,4.48,4.24,4.84,6.1,6.82,5.62,5.74,4.96,4.3,5.32,6.16,6.82,5.5,4.12,5.44,6.22,4.96,4.72,5.86,5.2,5.08,5.38,7.0,6.34,5.14,5.08,3.94,4.6,5.38,4.9,4.3,4.72,3.88,5.08,4.3,5.44,3.22,4.96,6.28,4.66,6.22,3.64,5.8,5.68,5.2,6.16,4.24,6.4,6.34,5.38,6.16,4.48,3.7,4.78,5.02,4.72,5.2,5.2,3.4,5.08,4.06,6.28,4.12,3.94,4.18,5.26,4.0,4.48,5.02,3.34,5.68,3.4,5.92,3.58,4.48,6.28,5.14,5.14,4.42,4.72,5.26,6.1,4.36,5.92,5.86,3.76,4.72,4.0,4.84,4.6,5.02,6.4,4.18,4.96,5.62,4.72,5.86,5.26,4.72,4.78,4.66,4.36,6.88,5.92,5.26,5.62,4.42,4.6,2.62,4.48,5.2,6.34,5.62,5.74,3.76,4.96,3.8200000000000003,5.68,4.12,4.48,5.08,4.12,3.46,4.78,4.72,4.48,4.9,5.74,5.08,4.54,4.3,4.96,5.44,5.86,5.74,6.4,5.8,5.26,6.28,4.3,3.52,4.54,3.7,6.28,5.32,4.66,5.86,5.74,4.54,6.34,5.62,5.62,4.6,5.5600000000000005,5.5600000000000005,4.96,4.66,4.9,6.22,2.8,5.74,4.78,5.38,6.04,4.48,5.14,4.9,6.22,5.14,5.38,3.46,3.94,4.54,6.04,5.5600000000000005,4.72,6.46,5.08,5.86,4.18,5.8,5.5600000000000005,4.78,5.32,4.06,6.1,4.78,4.78,4.6,4.84,6.22,4.12,6.22,5.74,5.14,6.52,5.74,5.26,5.86,5.92,3.4,5.14,5.02,6.46,4.3,6.1,5.92,5.62,5.32,4.9,3.8200000000000003,5.26,5.92,4.96,5.2,4.42,6.04,4.66,3.7,4.9,6.28,4.78,5.68,6.4,7.0,5.02,5.5600000000000005,5.14],\"yaxis\":\"y2\"},{\"hovertemplate\":\"variable=reading score<br>gender_y=female<br>GPA=%{x}<br>value=%{y}<extra></extra>\",\"legendgroup\":\"reading score\",\"marker\":{\"color\":\"#EF553B\",\"symbol\":\"circle\"},\"mode\":\"markers\",\"name\":\"reading score\",\"showlegend\":true,\"type\":\"scattergl\",\"x\":[8.23,8.07,12.55,11.41,11.91,15.91,12.51,9.85,11.59,12.83,14.23,13.81,12.39,9.35,10.61,10.13,13.27,11.21,11.53,11.29,10.29,13.03,11.91,9.85,14.65,14.49,8.61,11.43,11.71,12.71,14.69,11.89,13.99,12.63,12.29,12.03,10.25,11.83,9.59,12.19,13.77,15.91,11.33,13.57,13.05,12.77,11.85,9.71,13.93,12.67,12.63,14.79,11.31,12.95,12.33,11.07,12.53,11.91,12.59,13.57,10.81,8.19,6.39,12.55,10.13,10.29,9.47,14.09,12.29,15.19,14.41,10.59,8.45,9.49,11.63,12.33,9.99,13.83,15.65,11.29,10.43,11.95,12.65,12.75,11.71,14.05,9.05,11.55,11.71,9.99,9.77,10.57,13.17,16.15,11.21,10.69,12.07,14.39,14.27,9.67,13.87,10.89,13.09,12.37,12.81,13.21,6.65,9.97,11.77,11.37,10.51,12.31,9.09,12.13,11.73,9.99,7.47,6.51,12.59,9.49,14.23,11.27,8.53,9.71,16.33,12.77,13.93,13.05,10.87,9.73,13.03,12.31,11.17,13.25,11.75,11.29,11.25,7.35,10.73,10.53,14.73,11.87,13.51,11.57,14.13,12.17,12.39,9.77,14.81,14.91,12.33,14.55,11.05,12.63,12.71,15.89,11.11,16.27,14.19,12.93,10.45,13.29,9.51,14.75,9.69,12.23,14.93,14.17,13.23,12.77,10.11,12.27,11.55,12.39,11.23,11.71,13.65,13.19,9.31,9.29,14.07,11.81,13.63,13.47,13.77,13.29,13.37,13.45,13.97,13.93,9.85,10.39,12.89,14.37,12.99,14.17,12.87,10.77,11.79,12.79,11.11,9.89,11.97,12.05,12.85,11.89,12.97,8.71,11.87,8.99,12.63,12.93,13.17,11.39,4.71,11.31,9.91,10.47,13.69,12.11,11.57,11.25,9.59,15.37,14.95,12.37,9.09,13.39,15.81,11.85,11.79,9.23,12.65,9.65,11.27,12.07,13.45,10.29,11.47,11.89,8.81,10.53,12.55,12.77,11.15,13.93,10.71,12.01,15.03,9.91,13.63,12.11,9.45,12.19,12.35,15.29,8.99,14.67,12.91,11.93,15.67,13.79,13.21,14.07,10.35,14.67,13.11,10.79,13.11,15.55,14.39,12.61,11.99,13.15,11.25,14.51,11.11,12.63,11.45,14.25,11.39,11.97,9.73,11.53,14.53,11.27,11.91,15.13,9.47,12.41,12.83,10.11,14.21,13.03,15.85,12.31,15.45,14.69,13.33,9.35,13.37,13.13,12.15,13.11,13.81,10.87,8.57,12.31,8.05,10.19,15.79,7.93,11.17,11.37,12.57,12.27,12.33,15.09,12.95,14.67,11.81,13.33,9.49,10.09,11.41,13.85,12.51,10.89,12.79,14.63,10.27,13.51,15.03,11.31,13.95,13.57,11.73,10.13,9.67,12.53,11.85,6.59,13.11,10.97,15.83,10.19,9.85,10.43,12.45,12.57,10.37,7.05,9.73,12.21,12.37,9.61,9.13,13.01,13.15,11.11,10.93,12.93,10.27,12.33,11.53,13.91,11.03,10.57,11.93,14.27,13.79,12.31,14.99,11.17,13.71,13.17,14.97,14.65,15.83,10.73,12.79,13.63,13.15,11.25,8.53,11.71,12.25,10.75,10.93,11.81,16.09,12.91,12.55,9.17,11.29,11.35,10.77,14.41,9.11,14.53,10.23,5.89,13.13,11.63,11.85,14.17,16.19,11.53,11.71,12.21,12.81,9.97,11.25,15.15,12.63,11.77,13.15,11.31,12.29,12.21,10.67,9.77,10.41,11.35,12.95,10.35,11.85,3.55,11.49,13.25,16.33,9.53,10.77,13.55,12.45,6.63,12.71,12.03,12.85,12.01,11.21,12.21,8.41,6.41,7.07,12.35,10.47,12.73],\"xaxis\":\"x\",\"y\":[3.76,3.88,5.68,5.5600000000000005,5.38,7.0,5.5600000000000005,4.66,5.32,5.5600000000000005,6.16,6.28,5.44,4.54,5.02,4.72,5.74,5.02,5.02,4.84,4.54,5.74,5.38,4.54,6.52,6.64,3.88,5.26,5.5,5.86,6.58,5.44,6.4,5.68,5.44,5.44,4.84,5.38,4.36,5.2,5.98,6.94,5.08,6.1,5.86,5.68,5.32,4.0,6.1,5.68,5.62,6.58,4.66,5.98,5.62,5.02,5.68,5.2,5.74,5.86,5.02,4.06,3.2800000000000002,5.62,4.48,4.72,4.36,5.98,5.5600000000000005,6.7,6.22,4.96,3.94,4.18,5.38,5.26,4.78,6.16,6.58,5.32,4.66,5.38,5.44,5.62,5.44,6.4,4.06,5.32,5.5600000000000005,4.78,4.72,4.96,6.16,7.0,4.84,4.78,5.26,6.46,6.64,4.66,6.04,4.78,5.86,5.62,5.5600000000000005,5.98,3.34,4.84,5.32,5.2,4.48,5.38,4.42,5.5,5.14,4.42,3.46,2.86,5.5,4.24,6.28,5.26,4.18,4.48,7.0,5.8,6.04,5.86,4.84,4.48,5.62,5.68,5.08,6.16,5.2,4.96,4.72,3.4,4.9,4.66,6.7,5.74,6.16,4.9,6.34,5.26,5.68,4.36,6.52,6.7,5.62,6.16,4.78,5.92,5.86,6.82,5.02,7.0,6.34,5.74,4.24,5.74,4.18,6.52,4.54,5.5,6.82,6.4,5.98,5.92,4.54,5.5,5.38,5.32,4.9,5.32,5.92,6.04,4.18,4.48,6.1,4.84,6.34,6.04,5.92,5.86,6.04,6.04,6.28,6.28,4.72,4.9,6.16,6.52,6.16,6.46,5.5600000000000005,4.84,5.32,5.44,5.2,4.3,5.62,5.38,6.1,5.02,5.92,4.12,5.44,4.0,5.62,5.5,5.68,5.2,2.44,4.84,4.9,4.96,5.92,5.38,5.14,5.08,4.36,6.7,6.4,5.32,3.94,5.62,7.0,5.2,5.14,4.3,5.62,4.84,4.78,5.68,6.22,4.48,5.38,5.14,4.06,4.48,5.86,5.74,4.78,6.4,4.48,5.68,6.22,4.12,5.98,5.44,4.24,5.44,5.44,6.7,4.12,6.4,5.68,5.2,7.0,6.1,6.04,6.16,4.72,6.46,5.8,4.66,5.62,6.94,6.46,5.68,5.14,5.74,4.84,6.1,5.08,5.32,5.08,6.34,5.08,5.38,4.36,5.2,6.4,5.02,5.5,6.7,4.12,5.5600000000000005,5.74,4.6,6.1,5.74,7.0,5.2,6.94,6.58,5.92,3.94,5.86,5.98,5.32,5.98,6.28,4.72,3.7,5.5600000000000005,3.58,4.96,6.52,3.64,4.84,5.2,5.08,5.26,5.32,6.64,5.8,6.34,5.26,6.34,3.88,4.48,5.02,6.28,5.8,5.2,5.5600000000000005,6.16,4.48,5.92,6.52,5.02,6.16,6.16,5.32,4.6,4.66,5.5,5.5,3.2800000000000002,6.04,4.72,6.76,4.72,4.48,4.6,5.26,6.1,4.48,3.04,4.42,5.5600000000000005,5.68,4.18,4.06,6.04,6.04,5.32,4.96,5.98,4.9,5.44,5.32,6.52,4.72,4.9,5.5600000000000005,6.4,6.34,5.5600000000000005,6.82,4.96,6.16,6.16,6.7,6.82,7.0,4.6,5.86,6.4,5.86,4.6,4.18,5.32,5.5,4.84,4.78,5.02,7.0,5.5,5.5600000000000005,4.66,5.08,5.2,4.9,6.52,4.3,6.52,4.54,2.92,5.74,5.38,5.38,6.4,7.0,5.26,5.14,5.5600000000000005,5.5,4.48,5.14,6.7,5.86,5.14,5.8,5.32,5.5,5.44,4.54,4.48,4.66,5.02,6.04,4.84,4.9,2.02,5.02,6.16,7.0,4.06,4.9,5.92,5.32,3.04,5.92,5.32,5.5,5.32,4.84,5.5600000000000005,3.76,2.74,3.64,5.44,4.66,5.8],\"yaxis\":\"y\"},{\"hovertemplate\":\"variable=reading score<br>gender_y=male<br>GPA=%{x}<br>value=%{y}<extra></extra>\",\"legendgroup\":\"reading score\",\"marker\":{\"color\":\"#EF553B\",\"symbol\":\"circle\"},\"mode\":\"markers\",\"name\":\"reading score\",\"showlegend\":false,\"type\":\"scattergl\",\"x\":[13.43,11.93,13.21,14.87,11.63,12.19,10.99,13.77,11.11,12.65,10.71,12.21,8.53,13.65,10.97,13.17,13.95,13.85,11.35,12.03,10.49,11.37,10.89,6.77,11.09,9.09,14.63,6.65,12.37,11.41,12.99,14.59,10.85,9.93,10.11,10.09,14.83,13.75,11.53,15.33,14.31,14.81,15.55,11.23,9.27,13.85,9.17,12.69,12.07,11.27,14.97,11.47,11.65,11.07,10.25,14.65,13.01,8.95,11.67,9.79,11.65,8.87,11.69,11.31,9.61,12.05,10.41,11.19,10.61,10.31,12.87,10.09,12.71,8.99,13.95,14.97,10.75,11.21,10.09,9.89,11.75,12.61,8.83,10.93,12.95,9.45,9.05,12.01,12.59,12.65,13.99,10.51,9.93,13.55,12.83,10.59,13.29,14.01,9.45,13.79,10.57,9.33,11.85,14.59,13.63,7.85,9.23,14.23,13.15,13.09,11.41,13.85,9.61,11.37,14.67,13.61,11.93,8.69,10.61,9.71,12.65,10.37,15.23,14.75,10.13,12.05,5.77,10.53,14.71,9.23,13.91,12.63,13.47,13.01,11.37,12.93,12.11,12.11,13.13,12.85,12.59,13.05,11.91,13.45,12.13,13.79,10.33,9.35,9.59,12.39,12.51,13.01,11.83,13.17,9.87,11.31,13.77,13.19,10.93,12.59,15.81,11.17,11.95,10.81,13.11,12.51,11.27,10.45,11.75,16.19,8.99,12.11,9.03,10.63,12.29,10.03,9.27,8.49,10.85,11.91,8.09,13.59,12.95,9.71,12.73,12.25,9.87,6.13,11.27,10.11,14.33,13.39,12.49,11.59,9.41,9.71,10.49,12.03,9.73,10.51,9.69,10.67,14.25,15.39,13.05,12.77,11.69,10.15,11.93,13.53,15.01,12.21,9.31,12.35,14.29,11.39,11.23,12.43,11.47,11.77,11.99,16.33,14.35,12.47,12.01,9.19,10.11,11.21,11.39,9.27,10.85,8.73,11.19,9.25,12.91,8.85,11.35,13.79,11.71,15.45,8.19,13.45,13.59,12.03,13.27,9.71,14.77,14.25,12.33,14.19,10.01,7.99,11.13,12.09,11.37,11.63,12.39,8.71,12.33,7.97,14.15,9.87,9.49,9.47,12.31,9.27,10.17,10.83,7.69,12.89,8.01,12.49,8.61,10.07,13.77,11.93,11.15,9.83,10.95,12.39,14.03,9.97,12.21,13.25,8.55,10.45,8.81,10.03,10.55,10.95,14.51,9.01,10.87,12.45,10.47,12.91,12.09,10.33,10.67,10.47,10.55,15.17,13.93,12.49,12.41,9.65,10.73,6.71,9.71,11.77,13.71,11.91,13.63,8.41,12.31,8.07,13.23,9.31,10.29,10.71,9.61,7.81,11.09,10.43,10.55,12.33,12.79,11.71,9.21,9.33,11.03,11.69,13.05,13.45,14.03,12.17,12.75,13.63,10.37,7.87,10.81,8.83,14.23,11.97,11.33,13.51,13.89,10.29,14.47,12.25,12.33,10.89,13.07,11.93,11.29,10.69,11.97,14.71,5.87,11.97,10.65,12.41,13.91,9.91,11.63,11.43,13.51,10.81,11.91,8.93,9.95,11.31,14.21,13.45,11.29,13.75,11.57,13.43,8.53,12.97,12.47,11.75,12.05,9.81,13.41,11.47,10.85,9.51,10.57,14.63,9.73,14.11,12.43,11.33,14.27,13.29,11.31,13.73,13.41,8.49,11.01,12.01,15.37,9.05,12.81,13.77,11.95,11.95,10.69,9.45,12.39,13.93,11.43,10.95,10.19,14.51,9.79,9.13,10.83,13.55,11.41,13.51,14.45,16.13,12.19,12.25,12.39],\"xaxis\":\"x2\",\"y\":[5.68,4.96,5.5,6.16,4.66,5.08,4.66,5.38,4.9,5.44,4.42,5.14,3.52,5.92,4.66,5.5,5.86,5.98,4.84,5.32,4.66,4.84,4.66,2.74,4.48,4.3,6.22,2.68,5.44,4.6,5.5600000000000005,6.1,4.72,3.88,4.24,4.24,5.92,5.92,4.9,6.4,6.04,6.28,6.58,4.42,4.24,6.04,3.46,5.38,5.08,4.72,6.4,4.78,5.08,5.32,4.54,6.22,5.38,3.58,5.32,4.06,4.96,3.7,4.84,4.96,4.42,5.08,4.24,4.6,4.06,4.42,5.74,4.06,5.32,4.06,5.68,6.34,4.42,5.08,4.48,4.06,4.84,5.26,3.88,4.6,5.38,4.24,3.88,5.2,5.44,5.08,5.86,4.54,3.8200000000000003,5.44,5.68,4.48,5.5,6.04,3.94,5.92,3.94,3.52,4.96,6.28,5.86,3.04,4.12,5.86,5.8,5.68,4.84,5.86,4.12,4.96,6.34,5.5,5.2,3.58,4.24,4.24,5.44,4.42,6.22,6.04,4.24,4.84,2.38,4.42,6.1,3.8200000000000003,5.92,5.38,5.62,5.5,4.66,5.5600000000000005,5.08,5.44,5.38,5.62,5.26,5.32,4.9,5.68,5.2,5.8,4.3,4.06,4.06,5.32,5.38,5.74,5.08,5.62,4.48,4.42,5.38,5.32,4.72,5.44,6.76,4.96,5.02,4.66,5.86,5.5,4.78,4.36,4.96,7.0,3.64,5.08,3.94,4.6,4.84,3.94,3.58,3.58,4.24,4.96,3.58,5.98,5.44,4.24,5.32,4.96,4.3,2.56,4.84,4.54,6.04,5.44,5.38,4.84,4.12,4.24,4.18,5.26,4.12,4.66,4.18,4.48,6.04,6.52,5.5600000000000005,5.32,5.14,4.48,4.96,5.5600000000000005,6.22,5.08,3.94,5.2,6.04,4.9,5.02,4.96,4.78,5.08,4.96,7.0,6.04,5.62,5.32,4.06,4.06,4.36,4.9,3.76,4.66,3.7,4.54,3.76,5.62,4.36,4.78,5.68,5.26,7.0,3.46,5.74,5.86,5.2,5.38,4.12,6.4,6.04,5.26,5.98,4.12,3.22,4.78,5.38,4.96,4.9,5.44,4.12,5.44,2.86,6.04,4.42,4.18,4.12,5.44,3.88,4.3,4.42,3.34,5.44,3.52,5.02,3.7,4.3,5.62,5.2,4.6,4.0,4.78,5.44,6.04,4.24,4.72,5.5,3.58,4.3,3.52,4.0,4.54,4.42,6.1,3.7,4.54,5.14,4.36,5.26,5.14,4.3,4.3,4.36,4.66,6.16,6.04,5.5,5.08,3.88,4.6,3.04,4.0,4.84,5.5600000000000005,4.72,5.92,3.46,5.62,3.22,5.62,3.88,4.42,4.24,4.18,3.34,4.78,4.3,4.6,5.62,5.38,5.08,3.52,3.8200000000000003,4.6,4.78,5.44,5.92,5.68,4.78,5.74,5.5,4.66,3.34,4.72,3.8200000000000003,6.1,5.02,5.02,5.8,6.1,4.48,6.22,5.02,5.02,4.78,5.68,4.72,4.72,4.6,5.38,6.4,2.44,4.6,4.42,5.2,5.98,4.06,4.96,4.96,5.44,4.24,5.02,4.12,4.48,5.14,6.22,5.98,5.02,5.44,4.84,5.68,3.22,5.5600000000000005,5.2,5.26,4.96,4.36,5.5600000000000005,5.02,4.6,3.64,4.36,6.46,4.3,6.04,5.02,4.6,5.74,5.68,4.72,5.86,5.68,3.76,4.48,5.32,6.76,3.46,4.96,5.92,4.72,5.02,4.48,4.42,5.44,5.92,4.96,4.3,4.36,6.34,3.88,4.12,4.54,5.38,4.96,5.86,6.22,6.82,5.44,5.02,5.5],\"yaxis\":\"y2\"},{\"hovertemplate\":\"variable=writing score<br>gender_y=female<br>GPA=%{x}<br>value=%{y}<extra></extra>\",\"legendgroup\":\"writing score\",\"marker\":{\"color\":\"#00cc96\",\"symbol\":\"circle\"},\"mode\":\"markers\",\"name\":\"writing score\",\"showlegend\":true,\"type\":\"scattergl\",\"x\":[8.23,8.07,12.55,11.41,11.91,15.91,12.51,9.85,11.59,12.83,14.23,13.81,12.39,9.35,10.61,10.13,13.27,11.21,11.53,11.29,10.29,13.03,11.91,9.85,14.65,14.49,8.61,11.43,11.71,12.71,14.69,11.89,13.99,12.63,12.29,12.03,10.25,11.83,9.59,12.19,13.77,15.91,11.33,13.57,13.05,12.77,11.85,9.71,13.93,12.67,12.63,14.79,11.31,12.95,12.33,11.07,12.53,11.91,12.59,13.57,10.81,8.19,6.39,12.55,10.13,10.29,9.47,14.09,12.29,15.19,14.41,10.59,8.45,9.49,11.63,12.33,9.99,13.83,15.65,11.29,10.43,11.95,12.65,12.75,11.71,14.05,9.05,11.55,11.71,9.99,9.77,10.57,13.17,16.15,11.21,10.69,12.07,14.39,14.27,9.67,13.87,10.89,13.09,12.37,12.81,13.21,6.65,9.97,11.77,11.37,10.51,12.31,9.09,12.13,11.73,9.99,7.47,6.51,12.59,9.49,14.23,11.27,8.53,9.71,16.33,12.77,13.93,13.05,10.87,9.73,13.03,12.31,11.17,13.25,11.75,11.29,11.25,7.35,10.73,10.53,14.73,11.87,13.51,11.57,14.13,12.17,12.39,9.77,14.81,14.91,12.33,14.55,11.05,12.63,12.71,15.89,11.11,16.27,14.19,12.93,10.45,13.29,9.51,14.75,9.69,12.23,14.93,14.17,13.23,12.77,10.11,12.27,11.55,12.39,11.23,11.71,13.65,13.19,9.31,9.29,14.07,11.81,13.63,13.47,13.77,13.29,13.37,13.45,13.97,13.93,9.85,10.39,12.89,14.37,12.99,14.17,12.87,10.77,11.79,12.79,11.11,9.89,11.97,12.05,12.85,11.89,12.97,8.71,11.87,8.99,12.63,12.93,13.17,11.39,4.71,11.31,9.91,10.47,13.69,12.11,11.57,11.25,9.59,15.37,14.95,12.37,9.09,13.39,15.81,11.85,11.79,9.23,12.65,9.65,11.27,12.07,13.45,10.29,11.47,11.89,8.81,10.53,12.55,12.77,11.15,13.93,10.71,12.01,15.03,9.91,13.63,12.11,9.45,12.19,12.35,15.29,8.99,14.67,12.91,11.93,15.67,13.79,13.21,14.07,10.35,14.67,13.11,10.79,13.11,15.55,14.39,12.61,11.99,13.15,11.25,14.51,11.11,12.63,11.45,14.25,11.39,11.97,9.73,11.53,14.53,11.27,11.91,15.13,9.47,12.41,12.83,10.11,14.21,13.03,15.85,12.31,15.45,14.69,13.33,9.35,13.37,13.13,12.15,13.11,13.81,10.87,8.57,12.31,8.05,10.19,15.79,7.93,11.17,11.37,12.57,12.27,12.33,15.09,12.95,14.67,11.81,13.33,9.49,10.09,11.41,13.85,12.51,10.89,12.79,14.63,10.27,13.51,15.03,11.31,13.95,13.57,11.73,10.13,9.67,12.53,11.85,6.59,13.11,10.97,15.83,10.19,9.85,10.43,12.45,12.57,10.37,7.05,9.73,12.21,12.37,9.61,9.13,13.01,13.15,11.11,10.93,12.93,10.27,12.33,11.53,13.91,11.03,10.57,11.93,14.27,13.79,12.31,14.99,11.17,13.71,13.17,14.97,14.65,15.83,10.73,12.79,13.63,13.15,11.25,8.53,11.71,12.25,10.75,10.93,11.81,16.09,12.91,12.55,9.17,11.29,11.35,10.77,14.41,9.11,14.53,10.23,5.89,13.13,11.63,11.85,14.17,16.19,11.53,11.71,12.21,12.81,9.97,11.25,15.15,12.63,11.77,13.15,11.31,12.29,12.21,10.67,9.77,10.41,11.35,12.95,10.35,11.85,3.55,11.49,13.25,16.33,9.53,10.77,13.55,12.45,6.63,12.71,12.03,12.85,12.01,11.21,12.21,8.41,6.41,7.07,12.35,10.47,12.73],\"xaxis\":\"x\",\"y\":[3.76,3.46,5.92,5.2,5.08,7.0,5.44,4.3,5.2,5.68,6.28,6.1,5.44,4.24,4.78,4.6,5.5600000000000005,5.32,5.2,5.02,4.9,5.74,5.26,4.84,6.1,6.7,4.0,4.9,5.38,5.86,6.58,5.2,6.28,5.62,5.68,5.44,4.96,5.2,4.06,5.2,5.98,7.0,4.78,5.92,5.26,5.68,5.44,4.6,6.1,5.5600000000000005,5.62,6.7,5.26,5.68,5.44,4.72,5.68,5.44,5.86,5.92,5.38,3.64,2.92,5.38,4.42,4.18,4.24,6.4,5.5,6.64,6.46,4.72,3.7,4.48,4.78,5.44,4.54,6.16,6.4,5.74,4.96,5.2,5.32,5.62,5.5600000000000005,6.1,4.24,5.08,5.5600000000000005,4.72,4.6,4.84,5.98,7.0,4.96,5.02,5.5600000000000005,6.76,6.22,4.12,5.92,4.9,5.74,5.38,5.98,5.5600000000000005,2.98,4.48,5.2,5.08,4.84,5.38,4.36,5.2,5.44,4.36,3.8200000000000003,3.2800000000000002,5.68,4.48,6.64,5.14,3.76,4.42,7.0,5.86,6.46,5.8,5.2,4.12,5.38,5.74,5.2,6.04,5.5,5.2,5.08,3.64,5.14,5.08,6.34,5.32,5.92,5.14,6.16,5.5,5.8,4.24,6.58,6.52,5.44,6.88,5.38,5.62,5.86,6.76,4.66,7.0,6.34,5.62,5.02,5.8,4.18,6.22,4.0,5.86,6.76,6.46,5.98,5.86,4.36,5.62,5.08,5.26,4.66,5.2,6.34,5.86,4.3,4.24,6.16,5.32,6.28,5.8,5.8,5.98,6.22,6.1,6.22,6.1,4.66,4.66,6.22,6.34,5.8,6.28,5.8,5.08,5.8,5.38,5.2,4.42,5.8,5.68,5.5600000000000005,5.38,5.5600000000000005,3.76,5.32,4.06,5.8,5.98,5.8,4.96,2.38,4.72,4.84,4.9,6.46,5.5,5.14,5.44,4.42,6.64,6.46,5.5600000000000005,4.0,5.74,6.7,5.26,5.08,4.24,5.68,4.42,4.96,5.5600000000000005,5.92,4.9,5.38,5.5600000000000005,3.88,4.54,5.38,6.04,5.5,6.28,4.72,5.74,6.52,4.3,6.28,5.5,4.18,5.38,5.86,6.58,4.06,6.52,5.5600000000000005,4.96,7.0,6.22,6.1,6.52,4.36,6.34,5.98,4.96,5.98,7.0,6.22,5.74,5.5,5.92,5.44,6.58,4.66,5.26,5.32,6.88,4.96,5.26,4.48,5.2,6.64,5.32,5.44,7.0,4.24,5.5,5.86,4.54,6.4,5.92,7.0,5.5600000000000005,6.7,6.58,5.74,4.06,6.04,5.68,5.44,5.62,6.1,4.84,3.7,5.5600000000000005,3.58,5.14,6.82,3.58,4.84,4.9,5.62,5.44,5.62,6.7,5.5,6.7,5.68,5.92,4.12,4.48,5.02,6.4,5.8,4.72,5.38,6.04,4.66,5.74,6.7,4.72,5.98,5.74,5.44,4.6,4.48,5.68,5.62,2.62,6.16,5.14,6.94,4.96,4.3,4.78,5.8,5.8,4.42,3.2800000000000002,4.12,5.44,5.74,4.3,4.3,5.86,5.92,4.84,5.38,5.98,4.3,5.62,5.74,6.04,4.78,4.66,5.68,6.58,6.04,5.02,6.76,5.02,6.34,5.98,6.16,6.64,6.94,4.42,5.74,6.28,5.5600000000000005,5.44,3.58,5.2,5.2,5.02,4.84,5.14,7.0,5.92,5.2,4.24,5.38,5.02,4.72,6.28,4.06,6.46,4.72,2.68,6.04,5.14,5.08,5.92,6.94,5.2,5.02,5.08,5.8,5.02,5.08,6.52,5.62,5.2,5.92,4.9,5.32,5.62,4.96,4.24,4.72,4.84,6.04,4.54,5.44,1.6,4.72,5.86,7.0,4.24,4.72,6.4,5.44,2.92,5.68,5.44,5.74,5.2,5.5,5.8,3.58,2.8,3.16,5.86,4.72,5.5600000000000005],\"yaxis\":\"y\"},{\"hovertemplate\":\"variable=writing score<br>gender_y=male<br>GPA=%{x}<br>value=%{y}<extra></extra>\",\"legendgroup\":\"writing score\",\"marker\":{\"color\":\"#00cc96\",\"symbol\":\"circle\"},\"mode\":\"markers\",\"name\":\"writing score\",\"showlegend\":false,\"type\":\"scattergl\",\"x\":[13.43,11.93,13.21,14.87,11.63,12.19,10.99,13.77,11.11,12.65,10.71,12.21,8.53,13.65,10.97,13.17,13.95,13.85,11.35,12.03,10.49,11.37,10.89,6.77,11.09,9.09,14.63,6.65,12.37,11.41,12.99,14.59,10.85,9.93,10.11,10.09,14.83,13.75,11.53,15.33,14.31,14.81,15.55,11.23,9.27,13.85,9.17,12.69,12.07,11.27,14.97,11.47,11.65,11.07,10.25,14.65,13.01,8.95,11.67,9.79,11.65,8.87,11.69,11.31,9.61,12.05,10.41,11.19,10.61,10.31,12.87,10.09,12.71,8.99,13.95,14.97,10.75,11.21,10.09,9.89,11.75,12.61,8.83,10.93,12.95,9.45,9.05,12.01,12.59,12.65,13.99,10.51,9.93,13.55,12.83,10.59,13.29,14.01,9.45,13.79,10.57,9.33,11.85,14.59,13.63,7.85,9.23,14.23,13.15,13.09,11.41,13.85,9.61,11.37,14.67,13.61,11.93,8.69,10.61,9.71,12.65,10.37,15.23,14.75,10.13,12.05,5.77,10.53,14.71,9.23,13.91,12.63,13.47,13.01,11.37,12.93,12.11,12.11,13.13,12.85,12.59,13.05,11.91,13.45,12.13,13.79,10.33,9.35,9.59,12.39,12.51,13.01,11.83,13.17,9.87,11.31,13.77,13.19,10.93,12.59,15.81,11.17,11.95,10.81,13.11,12.51,11.27,10.45,11.75,16.19,8.99,12.11,9.03,10.63,12.29,10.03,9.27,8.49,10.85,11.91,8.09,13.59,12.95,9.71,12.73,12.25,9.87,6.13,11.27,10.11,14.33,13.39,12.49,11.59,9.41,9.71,10.49,12.03,9.73,10.51,9.69,10.67,14.25,15.39,13.05,12.77,11.69,10.15,11.93,13.53,15.01,12.21,9.31,12.35,14.29,11.39,11.23,12.43,11.47,11.77,11.99,16.33,14.35,12.47,12.01,9.19,10.11,11.21,11.39,9.27,10.85,8.73,11.19,9.25,12.91,8.85,11.35,13.79,11.71,15.45,8.19,13.45,13.59,12.03,13.27,9.71,14.77,14.25,12.33,14.19,10.01,7.99,11.13,12.09,11.37,11.63,12.39,8.71,12.33,7.97,14.15,9.87,9.49,9.47,12.31,9.27,10.17,10.83,7.69,12.89,8.01,12.49,8.61,10.07,13.77,11.93,11.15,9.83,10.95,12.39,14.03,9.97,12.21,13.25,8.55,10.45,8.81,10.03,10.55,10.95,14.51,9.01,10.87,12.45,10.47,12.91,12.09,10.33,10.67,10.47,10.55,15.17,13.93,12.49,12.41,9.65,10.73,6.71,9.71,11.77,13.71,11.91,13.63,8.41,12.31,8.07,13.23,9.31,10.29,10.71,9.61,7.81,11.09,10.43,10.55,12.33,12.79,11.71,9.21,9.33,11.03,11.69,13.05,13.45,14.03,12.17,12.75,13.63,10.37,7.87,10.81,8.83,14.23,11.97,11.33,13.51,13.89,10.29,14.47,12.25,12.33,10.89,13.07,11.93,11.29,10.69,11.97,14.71,5.87,11.97,10.65,12.41,13.91,9.91,11.63,11.43,13.51,10.81,11.91,8.93,9.95,11.31,14.21,13.45,11.29,13.75,11.57,13.43,8.53,12.97,12.47,11.75,12.05,9.81,13.41,11.47,10.85,9.51,10.57,14.63,9.73,14.11,12.43,11.33,14.27,13.29,11.31,13.73,13.41,8.49,11.01,12.01,15.37,9.05,12.81,13.77,11.95,11.95,10.69,9.45,12.39,13.93,11.43,10.95,10.19,14.51,9.79,9.13,10.83,13.55,11.41,13.51,14.45,16.13,12.19,12.25,12.39],\"xaxis\":\"x2\",\"y\":[5.86,4.78,5.5600000000000005,6.22,5.14,4.84,4.66,5.26,4.48,5.32,4.72,5.08,3.76,5.44,4.6,5.62,5.8,5.5,5.02,4.9,4.24,4.72,4.72,2.62,4.42,4.18,5.68,2.62,4.66,4.66,4.9,6.1,4.6,3.8200000000000003,4.36,4.12,6.28,5.92,4.66,6.52,6.16,5.68,6.46,4.48,4.18,5.68,3.52,5.44,5.02,4.6,5.98,4.66,4.84,4.54,4.24,6.1,5.32,3.58,4.9,3.58,4.66,3.7,4.42,4.54,3.76,5.32,4.0,4.54,4.42,4.24,5.44,4.12,5.14,3.88,5.98,6.52,4.12,4.6,4.3,4.24,4.78,5.38,3.76,4.48,5.32,3.46,3.52,5.02,4.96,5.32,6.1,4.48,4.36,5.5,5.32,4.36,5.08,5.8,3.8200000000000003,6.04,4.12,3.46,4.9,5.92,5.74,3.16,3.7,5.74,5.38,5.38,4.66,5.5,3.94,5.08,6.16,5.14,4.96,3.7,4.42,3.7,5.14,4.06,6.4,6.4,4.06,4.96,2.14,4.36,5.92,4.24,6.04,5.08,5.44,5.14,5.08,4.9,4.96,5.14,5.14,5.38,5.32,5.62,5.08,5.38,5.2,5.5,4.12,4.06,4.06,4.72,5.44,5.5,5.02,5.62,3.64,4.72,5.8,5.68,4.66,5.32,6.16,4.66,5.02,4.3,5.26,5.44,4.24,4.3,4.6,6.58,3.52,4.96,3.46,4.48,4.96,4.12,3.8200000000000003,3.46,4.78,4.72,3.34,5.8,5.32,3.88,5.2,5.38,3.8200000000000003,2.32,4.96,4.0,6.22,5.2,5.02,5.2,4.06,3.88,4.42,4.9,4.12,4.12,3.8200000000000003,4.06,6.34,6.16,5.62,5.14,4.78,4.12,4.96,5.44,5.92,4.9,3.76,5.14,6.1,4.6,4.48,4.84,4.48,4.84,4.96,7.0,5.92,5.14,4.84,3.58,4.36,4.42,4.78,3.64,4.42,3.46,4.72,3.58,5.5600000000000005,3.8200000000000003,4.84,5.5,5.38,6.7,3.2800000000000002,5.74,6.16,4.9,5.2,4.06,5.92,5.62,5.08,6.16,4.24,3.22,4.72,5.08,5.08,4.6,5.26,3.58,5.44,3.16,5.5,4.0,4.12,3.52,4.84,4.18,4.18,4.18,3.04,5.32,3.2800000000000002,4.66,4.0,3.88,5.62,4.78,4.24,4.24,4.36,5.08,5.68,4.12,4.72,5.68,3.64,4.3,3.88,3.58,4.24,4.54,6.04,3.4,4.12,5.08,4.18,5.38,5.08,3.94,4.78,4.36,4.6,6.4,5.92,5.2,5.14,4.06,4.6,3.16,3.7,5.2,5.44,4.72,5.92,3.58,5.2,3.1,5.8,3.94,4.18,4.18,3.94,3.04,4.6,4.24,4.42,5.44,5.02,4.66,3.46,3.64,4.42,4.42,5.26,5.38,5.86,4.78,5.26,5.5600000000000005,4.24,3.04,4.66,3.94,5.5600000000000005,4.9,4.96,5.5600000000000005,6.16,3.8200000000000003,5.74,4.84,5.08,4.54,5.5,4.96,4.84,4.3,5.08,6.28,1.9,4.9,4.36,5.5,5.68,4.12,4.6,4.72,5.5600000000000005,4.3,4.54,4.06,4.6,4.9,5.86,5.74,4.66,5.5600000000000005,4.96,5.68,3.4,4.84,5.14,5.14,5.32,4.18,5.26,5.02,4.42,3.8200000000000003,4.12,5.86,3.94,5.5600000000000005,5.02,4.78,6.04,5.62,4.0,6.04,5.44,4.0,4.18,5.02,6.46,3.88,5.26,5.8,4.84,4.84,3.94,3.64,5.08,6.28,4.54,4.36,4.24,6.4,3.76,3.94,4.18,5.68,5.02,5.92,5.5,6.94,5.2,5.02,5.26],\"yaxis\":\"y2\"}],                        {\"annotations\":[{\"font\":{},\"showarrow\":false,\"text\":\"gender_y=female\",\"x\":0.245,\"xanchor\":\"center\",\"xref\":\"paper\",\"y\":1.0,\"yanchor\":\"bottom\",\"yref\":\"paper\"},{\"font\":{},\"showarrow\":false,\"text\":\"gender_y=male\",\"x\":0.755,\"xanchor\":\"center\",\"xref\":\"paper\",\"y\":1.0,\"yanchor\":\"bottom\",\"yref\":\"paper\"}],\"legend\":{\"title\":{\"text\":\"variable\"},\"tracegroupgap\":0},\"margin\":{\"t\":60},\"template\":{\"data\":{\"bar\":[{\"error_x\":{\"color\":\"#2a3f5f\"},\"error_y\":{\"color\":\"#2a3f5f\"},\"marker\":{\"line\":{\"color\":\"#E5ECF6\",\"width\":0.5},\"pattern\":{\"fillmode\":\"overlay\",\"size\":10,\"solidity\":0.2}},\"type\":\"bar\"}],\"barpolar\":[{\"marker\":{\"line\":{\"color\":\"#E5ECF6\",\"width\":0.5},\"pattern\":{\"fillmode\":\"overlay\",\"size\":10,\"solidity\":0.2}},\"type\":\"barpolar\"}],\"carpet\":[{\"aaxis\":{\"endlinecolor\":\"#2a3f5f\",\"gridcolor\":\"white\",\"linecolor\":\"white\",\"minorgridcolor\":\"white\",\"startlinecolor\":\"#2a3f5f\"},\"baxis\":{\"endlinecolor\":\"#2a3f5f\",\"gridcolor\":\"white\",\"linecolor\":\"white\",\"minorgridcolor\":\"white\",\"startlinecolor\":\"#2a3f5f\"},\"type\":\"carpet\"}],\"choropleth\":[{\"colorbar\":{\"outlinewidth\":0,\"ticks\":\"\"},\"type\":\"choropleth\"}],\"contour\":[{\"colorbar\":{\"outlinewidth\":0,\"ticks\":\"\"},\"colorscale\":[[0.0,\"#0d0887\"],[0.1111111111111111,\"#46039f\"],[0.2222222222222222,\"#7201a8\"],[0.3333333333333333,\"#9c179e\"],[0.4444444444444444,\"#bd3786\"],[0.5555555555555556,\"#d8576b\"],[0.6666666666666666,\"#ed7953\"],[0.7777777777777778,\"#fb9f3a\"],[0.8888888888888888,\"#fdca26\"],[1.0,\"#f0f921\"]],\"type\":\"contour\"}],\"contourcarpet\":[{\"colorbar\":{\"outlinewidth\":0,\"ticks\":\"\"},\"type\":\"contourcarpet\"}],\"heatmap\":[{\"colorbar\":{\"outlinewidth\":0,\"ticks\":\"\"},\"colorscale\":[[0.0,\"#0d0887\"],[0.1111111111111111,\"#46039f\"],[0.2222222222222222,\"#7201a8\"],[0.3333333333333333,\"#9c179e\"],[0.4444444444444444,\"#bd3786\"],[0.5555555555555556,\"#d8576b\"],[0.6666666666666666,\"#ed7953\"],[0.7777777777777778,\"#fb9f3a\"],[0.8888888888888888,\"#fdca26\"],[1.0,\"#f0f921\"]],\"type\":\"heatmap\"}],\"heatmapgl\":[{\"colorbar\":{\"outlinewidth\":0,\"ticks\":\"\"},\"colorscale\":[[0.0,\"#0d0887\"],[0.1111111111111111,\"#46039f\"],[0.2222222222222222,\"#7201a8\"],[0.3333333333333333,\"#9c179e\"],[0.4444444444444444,\"#bd3786\"],[0.5555555555555556,\"#d8576b\"],[0.6666666666666666,\"#ed7953\"],[0.7777777777777778,\"#fb9f3a\"],[0.8888888888888888,\"#fdca26\"],[1.0,\"#f0f921\"]],\"type\":\"heatmapgl\"}],\"histogram\":[{\"marker\":{\"pattern\":{\"fillmode\":\"overlay\",\"size\":10,\"solidity\":0.2}},\"type\":\"histogram\"}],\"histogram2d\":[{\"colorbar\":{\"outlinewidth\":0,\"ticks\":\"\"},\"colorscale\":[[0.0,\"#0d0887\"],[0.1111111111111111,\"#46039f\"],[0.2222222222222222,\"#7201a8\"],[0.3333333333333333,\"#9c179e\"],[0.4444444444444444,\"#bd3786\"],[0.5555555555555556,\"#d8576b\"],[0.6666666666666666,\"#ed7953\"],[0.7777777777777778,\"#fb9f3a\"],[0.8888888888888888,\"#fdca26\"],[1.0,\"#f0f921\"]],\"type\":\"histogram2d\"}],\"histogram2dcontour\":[{\"colorbar\":{\"outlinewidth\":0,\"ticks\":\"\"},\"colorscale\":[[0.0,\"#0d0887\"],[0.1111111111111111,\"#46039f\"],[0.2222222222222222,\"#7201a8\"],[0.3333333333333333,\"#9c179e\"],[0.4444444444444444,\"#bd3786\"],[0.5555555555555556,\"#d8576b\"],[0.6666666666666666,\"#ed7953\"],[0.7777777777777778,\"#fb9f3a\"],[0.8888888888888888,\"#fdca26\"],[1.0,\"#f0f921\"]],\"type\":\"histogram2dcontour\"}],\"mesh3d\":[{\"colorbar\":{\"outlinewidth\":0,\"ticks\":\"\"},\"type\":\"mesh3d\"}],\"parcoords\":[{\"line\":{\"colorbar\":{\"outlinewidth\":0,\"ticks\":\"\"}},\"type\":\"parcoords\"}],\"pie\":[{\"automargin\":true,\"type\":\"pie\"}],\"scatter\":[{\"marker\":{\"colorbar\":{\"outlinewidth\":0,\"ticks\":\"\"}},\"type\":\"scatter\"}],\"scatter3d\":[{\"line\":{\"colorbar\":{\"outlinewidth\":0,\"ticks\":\"\"}},\"marker\":{\"colorbar\":{\"outlinewidth\":0,\"ticks\":\"\"}},\"type\":\"scatter3d\"}],\"scattercarpet\":[{\"marker\":{\"colorbar\":{\"outlinewidth\":0,\"ticks\":\"\"}},\"type\":\"scattercarpet\"}],\"scattergeo\":[{\"marker\":{\"colorbar\":{\"outlinewidth\":0,\"ticks\":\"\"}},\"type\":\"scattergeo\"}],\"scattergl\":[{\"marker\":{\"colorbar\":{\"outlinewidth\":0,\"ticks\":\"\"}},\"type\":\"scattergl\"}],\"scattermapbox\":[{\"marker\":{\"colorbar\":{\"outlinewidth\":0,\"ticks\":\"\"}},\"type\":\"scattermapbox\"}],\"scatterpolar\":[{\"marker\":{\"colorbar\":{\"outlinewidth\":0,\"ticks\":\"\"}},\"type\":\"scatterpolar\"}],\"scatterpolargl\":[{\"marker\":{\"colorbar\":{\"outlinewidth\":0,\"ticks\":\"\"}},\"type\":\"scatterpolargl\"}],\"scatterternary\":[{\"marker\":{\"colorbar\":{\"outlinewidth\":0,\"ticks\":\"\"}},\"type\":\"scatterternary\"}],\"surface\":[{\"colorbar\":{\"outlinewidth\":0,\"ticks\":\"\"},\"colorscale\":[[0.0,\"#0d0887\"],[0.1111111111111111,\"#46039f\"],[0.2222222222222222,\"#7201a8\"],[0.3333333333333333,\"#9c179e\"],[0.4444444444444444,\"#bd3786\"],[0.5555555555555556,\"#d8576b\"],[0.6666666666666666,\"#ed7953\"],[0.7777777777777778,\"#fb9f3a\"],[0.8888888888888888,\"#fdca26\"],[1.0,\"#f0f921\"]],\"type\":\"surface\"}],\"table\":[{\"cells\":{\"fill\":{\"color\":\"#EBF0F8\"},\"line\":{\"color\":\"white\"}},\"header\":{\"fill\":{\"color\":\"#C8D4E3\"},\"line\":{\"color\":\"white\"}},\"type\":\"table\"}]},\"layout\":{\"annotationdefaults\":{\"arrowcolor\":\"#2a3f5f\",\"arrowhead\":0,\"arrowwidth\":1},\"autotypenumbers\":\"strict\",\"coloraxis\":{\"colorbar\":{\"outlinewidth\":0,\"ticks\":\"\"}},\"colorscale\":{\"diverging\":[[0,\"#8e0152\"],[0.1,\"#c51b7d\"],[0.2,\"#de77ae\"],[0.3,\"#f1b6da\"],[0.4,\"#fde0ef\"],[0.5,\"#f7f7f7\"],[0.6,\"#e6f5d0\"],[0.7,\"#b8e186\"],[0.8,\"#7fbc41\"],[0.9,\"#4d9221\"],[1,\"#276419\"]],\"sequential\":[[0.0,\"#0d0887\"],[0.1111111111111111,\"#46039f\"],[0.2222222222222222,\"#7201a8\"],[0.3333333333333333,\"#9c179e\"],[0.4444444444444444,\"#bd3786\"],[0.5555555555555556,\"#d8576b\"],[0.6666666666666666,\"#ed7953\"],[0.7777777777777778,\"#fb9f3a\"],[0.8888888888888888,\"#fdca26\"],[1.0,\"#f0f921\"]],\"sequentialminus\":[[0.0,\"#0d0887\"],[0.1111111111111111,\"#46039f\"],[0.2222222222222222,\"#7201a8\"],[0.3333333333333333,\"#9c179e\"],[0.4444444444444444,\"#bd3786\"],[0.5555555555555556,\"#d8576b\"],[0.6666666666666666,\"#ed7953\"],[0.7777777777777778,\"#fb9f3a\"],[0.8888888888888888,\"#fdca26\"],[1.0,\"#f0f921\"]]},\"colorway\":[\"#636efa\",\"#EF553B\",\"#00cc96\",\"#ab63fa\",\"#FFA15A\",\"#19d3f3\",\"#FF6692\",\"#B6E880\",\"#FF97FF\",\"#FECB52\"],\"font\":{\"color\":\"#2a3f5f\"},\"geo\":{\"bgcolor\":\"white\",\"lakecolor\":\"white\",\"landcolor\":\"#E5ECF6\",\"showlakes\":true,\"showland\":true,\"subunitcolor\":\"white\"},\"hoverlabel\":{\"align\":\"left\"},\"hovermode\":\"closest\",\"mapbox\":{\"style\":\"light\"},\"paper_bgcolor\":\"white\",\"plot_bgcolor\":\"#E5ECF6\",\"polar\":{\"angularaxis\":{\"gridcolor\":\"white\",\"linecolor\":\"white\",\"ticks\":\"\"},\"bgcolor\":\"#E5ECF6\",\"radialaxis\":{\"gridcolor\":\"white\",\"linecolor\":\"white\",\"ticks\":\"\"}},\"scene\":{\"xaxis\":{\"backgroundcolor\":\"#E5ECF6\",\"gridcolor\":\"white\",\"gridwidth\":2,\"linecolor\":\"white\",\"showbackground\":true,\"ticks\":\"\",\"zerolinecolor\":\"white\"},\"yaxis\":{\"backgroundcolor\":\"#E5ECF6\",\"gridcolor\":\"white\",\"gridwidth\":2,\"linecolor\":\"white\",\"showbackground\":true,\"ticks\":\"\",\"zerolinecolor\":\"white\"},\"zaxis\":{\"backgroundcolor\":\"#E5ECF6\",\"gridcolor\":\"white\",\"gridwidth\":2,\"linecolor\":\"white\",\"showbackground\":true,\"ticks\":\"\",\"zerolinecolor\":\"white\"}},\"shapedefaults\":{\"line\":{\"color\":\"#2a3f5f\"}},\"ternary\":{\"aaxis\":{\"gridcolor\":\"white\",\"linecolor\":\"white\",\"ticks\":\"\"},\"baxis\":{\"gridcolor\":\"white\",\"linecolor\":\"white\",\"ticks\":\"\"},\"bgcolor\":\"#E5ECF6\",\"caxis\":{\"gridcolor\":\"white\",\"linecolor\":\"white\",\"ticks\":\"\"}},\"title\":{\"x\":0.05},\"xaxis\":{\"automargin\":true,\"gridcolor\":\"white\",\"linecolor\":\"white\",\"ticks\":\"\",\"title\":{\"standoff\":15},\"zerolinecolor\":\"white\",\"zerolinewidth\":2},\"yaxis\":{\"automargin\":true,\"gridcolor\":\"white\",\"linecolor\":\"white\",\"ticks\":\"\",\"title\":{\"standoff\":15},\"zerolinecolor\":\"white\",\"zerolinewidth\":2}}},\"xaxis\":{\"anchor\":\"y\",\"domain\":[0.0,0.49],\"title\":{\"text\":\"GPA\"}},\"xaxis2\":{\"anchor\":\"y2\",\"domain\":[0.51,1.0],\"matches\":\"x\",\"title\":{\"text\":\"GPA\"}},\"yaxis\":{\"anchor\":\"x\",\"domain\":[0.0,1.0],\"title\":{\"text\":\"value\"}},\"yaxis2\":{\"anchor\":\"x2\",\"domain\":[0.0,1.0],\"matches\":\"y\",\"showticklabels\":false}},                        {\"responsive\": true}                    ).then(function(){\n                            \nvar gd = document.getElementById('5468d754-5443-46a0-9389-7e39611f24d0');\nvar x = new MutationObserver(function (mutations, observer) {{\n        var display = window.getComputedStyle(gd).display;\n        if (!display || display === 'none') {{\n            console.log([gd, 'removed!']);\n            Plotly.purge(gd);\n            observer.disconnect();\n        }}\n}});\n\n// Listen for the removal of the full notebook cells\nvar notebookContainer = gd.closest('#notebook-container');\nif (notebookContainer) {{\n    x.observe(notebookContainer, {childList: true});\n}}\n\n// Listen for the clearing of the current output cell\nvar outputEl = gd.closest('.output');\nif (outputEl) {{\n    x.observe(outputEl, {childList: true});\n}}\n\n                        })                };                            </script>        </div>\n</body>\n</html>"
     },
     "metadata": {},
     "output_type": "display_data"
    }
   ],
   "execution_count": 125
  },
  {
   "cell_type": "markdown",
   "source": "# Conclusión\nEso ha sido todo para el lab de hoy, recuerden que el laboratorio tiene un plazo de entrega de una semana y que **los días de atraso no se pueden utilizar para entregas de lab** solo para tareas. Cualquier duda del laboratorio, no duden en contactarnos por mail o U-cursos.\n\n<p align=\"center\">\n  <img src=\"https://media1.tenor.com/images/2f7df460196625edc45b8380d158e5ee/tenor.gif?itemid=16669403\">\n</p>",
   "metadata": {
    "id": "Rg4ZMq8ezAH6",
    "cell_id": "00044-385d326d-0611-49b0-88c0-f25efb74892a",
    "deepnote_cell_type": "markdown"
   }
  },
  {
   "cell_type": "markdown",
   "source": "<br>\n<center>\n<img src=\"https://i.kym-cdn.com/photos/images/original/001/194/195/b18.png\" width=100 height=50 />\n</center>\n<br>",
   "metadata": {
    "id": "wCL1lACBzAH7",
    "cell_id": "00045-f3782698-c550-4806-8552-982b550e8ba8",
    "deepnote_cell_type": "markdown"
   }
  },
  {
   "cell_type": "markdown",
   "source": "<a style='text-decoration:none;line-height:16px;display:flex;color:#5B5B62;padding:10px;justify-content:end;' href='https://deepnote.com?utm_source=created-in-deepnote-cell&projectId=c9b14a22-dd4b-493f-9f3e-301d517315e1' target=\"_blank\">\n<img alt='Created in deepnote.com' style='display:inline;max-height:16px;margin:0px;margin-right:7.5px;' src='data:image/svg+xml;base64,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' > </img>\nCreated in <span style='font-weight:600;margin-left:4px;'>Deepnote</span></a>",
   "metadata": {
    "tags": [],
    "created_in_deepnote_cell": true,
    "deepnote_cell_type": "markdown"
   }
  }
 ],
 "nbformat": 4,
 "nbformat_minor": 2,
 "metadata": {
  "kernelspec": {
   "name": "python3",
   "display_name": "Python 3.9.6 64-bit ('base': conda)"
  },
  "language_info": {
   "codemirror_mode": {
    "name": "ipython",
    "version": 3
   },
   "file_extension": ".py",
   "mimetype": "text/x-python",
   "name": "python",
   "nbconvert_exporter": "python",
   "pygments_lexer": "ipython3",
   "version": "3.9.6"
  },
  "toc": {
   "base_numbering": 1,
   "nav_menu": {},
   "number_sections": true,
   "sideBar": true,
   "skip_h1_title": true,
   "title_cell": "Tabla de Contenidos",
   "title_sidebar": "Contenidos",
   "toc_cell": false,
   "toc_position": {
    "height": "calc(100% - 180px)",
    "left": "10px",
    "top": "150px",
    "width": "241.867px"
   },
   "toc_section_display": true,
   "toc_window_display": true
  },
  "varInspector": {
   "cols": {
    "lenName": 16,
    "lenType": 16,
    "lenVar": 40
   },
   "kernels_config": {
    "python": {
     "delete_cmd_postfix": "",
     "delete_cmd_prefix": "del ",
     "library": "var_list.py",
     "varRefreshCmd": "print(var_dic_list())"
    },
    "r": {
     "delete_cmd_postfix": ") ",
     "delete_cmd_prefix": "rm(",
     "library": "var_list.r",
     "varRefreshCmd": "cat(var_dic_list()) "
    }
   },
   "types_to_exclude": [
    "module",
    "function",
    "builtin_function_or_method",
    "instance",
    "_Feature"
   ],
   "window_display": false
  },
  "colab": {
   "name": "Laboratoriov2.ipynb",
   "provenance": [],
   "collapsed_sections": []
  },
  "interpreter": {
   "hash": "09cf3d5909f3828bf53c46564821f879a9c8405e40e27fb09b54d745264e4a6d"
  },
  "deepnote_notebook_id": "df41b99e-c4cc-4e55-8835-4f9654044d59",
  "deepnote": {},
  "deepnote_execution_queue": []
 }
}