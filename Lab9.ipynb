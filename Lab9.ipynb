{
  "cells": [
    {
      "cell_type": "markdown",
      "metadata": {
        "cell_id": "00000-e58a33a7-5695-4e1a-8e41-ee4fad094973",
        "deepnote_cell_type": "markdown",
        "id": "XUZ1dFPHzAHl"
      },
      "source": [
        "<h1><center>Laboratorio 9: Benchmark Estadístico con Reddit 🧮</center></h1>\n",
        "\n",
        "<center><strong>MDS7202: Laboratorio de Programación Científica para Ciencia de Datos</strong></center>"
      ]
    },
    {
      "cell_type": "markdown",
      "metadata": {
        "cell_id": "00001-a6e1cf75-da72-4116-8013-b0aec5bc17ea",
        "deepnote_cell_type": "markdown",
        "id": "UD8X1uhGzAHq"
      },
      "source": [
        "### Cuerpo Docente:\n",
        "\n",
        "- Profesor: Pablo Badilla\n",
        "- Auxiliar: Ignacio Meza D.\n",
        "- Ayudante: Constanza Peña"
      ]
    },
    {
      "cell_type": "markdown",
      "metadata": {
        "cell_id": "00002-cc69b7e1-bad8-41c0-ae4a-f9a6671c3509",
        "deepnote_cell_type": "markdown",
        "id": "tXflExjqzAHr"
      },
      "source": [
        "### Equipo: SUPER IMPORTANTE - notebooks sin nombre no serán revisados\n",
        "\n",
        "- Nombre de alumno 1: Catalina Contreras \n",
        "- Nombre de alumno 2:\n"
      ]
    },
    {
      "cell_type": "markdown",
      "metadata": {
        "cell_id": "00003-fc7bdf37-e0ed-46b2-9ece-3f16c761f0d6",
        "deepnote_cell_type": "markdown",
        "id": "AD-V0bbZzAHr"
      },
      "source": [
        "### **Link de repositorio de GitHub:** `https://github.com/catafarro/MDS7202/blob/main/Lab9.ipynb`"
      ]
    },
    {
      "cell_type": "markdown",
      "metadata": {
        "cell_id": "00005-002cc95e-3cd9-4a83-ba9d-40b8a26bb665",
        "deepnote_cell_type": "markdown",
        "id": "6uBLPj1PzAHs"
      },
      "source": [
        "# Temas a tratar\n",
        "\n",
        "- Optimización de Código en Python.\n",
        "- Utilización de librerías para medir el tiempo de ejecución de funciones.\n",
        "- Métodos para optimizar el rendimiento de las funciones.\n",
        "\n",
        "# Reglas:\n",
        "\n",
        "- Fecha de entrega: 3/12/2021\n",
        "- **Grupos de 2 personas**\n",
        "- **Ausentes** deberán realizar la actividad solos. \n",
        "- Cualquier duda fuera del horario de clases al foro. Mensajes al equipo docente serán respondidos por este medio.\n",
        "- Prohibidas las copias. \n",
        "- Pueden usar cualquer matrial del curso que estimen conveniente.\n",
        "\n",
        "# Objetivos principales del laboratorio\n",
        "\n",
        "- Obtener datos desde Reddit a partir de la librería `praw` y visualizar cuales post son más probables que sean puntuados positivamente.\n",
        "- Aplicar un atajo estadístico para obtener la mean posterior de datos.\n",
        "- Optimizar a través de librerías funciones."
      ]
    },
    {
      "cell_type": "markdown",
      "metadata": {
        "cell_id": "00006-95054c9c-35b6-4246-8808-a9bc5019f321",
        "deepnote_cell_type": "markdown",
        "id": "MhISwri4zAHy"
      },
      "source": [
        "#Importamos librerias utiles 😸"
      ]
    },
    {
      "cell_type": "code",
      "execution_count": 1,
      "metadata": {
        "cell_id": "00007-26cb5765-42df-4c44-8039-62904faf80c9",
        "deepnote_cell_type": "code",
        "deepnote_to_be_reexecuted": false,
        "execution_millis": 11794,
        "execution_start": 1637947671330,
        "id": "cO7AQ9ciQ59U",
        "source_hash": "5f812e77"
      },
      "outputs": [],
      "source": [
        "%%capture\n",
        "!pip install praw\n",
        "!pip install line_profiler\n",
        "!pip install numba\n",
        "\n",
        "import sys\n",
        "import praw\n",
        "import time\n",
        "import numpy as np\n",
        "import pandas as pd\n",
        "from numba import jit\n",
        "import plotly.express as px\n",
        "from functools import lru_cache\n",
        "from IPython.core.display import Image"
      ]
    },
    {
      "cell_type": "markdown",
      "metadata": {
        "cell_id": "00008-42ae92fb-1318-4753-87ce-2a0d26da1b07",
        "deepnote_cell_type": "markdown",
        "id": "xpOTbQcxbSiy"
      },
      "source": [
        "# 1. Recomendando Posts de Subreddit"
      ]
    },
    {
      "cell_type": "markdown",
      "metadata": {
        "cell_id": "00009-6a4d7e77-29a6-4132-8b14-d0f9d5ea4f92",
        "deepnote_cell_type": "markdown",
        "id": "3Q93vbNS25bM"
      },
      "source": [
        "<p align=\"center\">\n",
        "  <img src=\"https://styles.redditmedia.com/t5_2rer8/styles/bannerBackgroundImage_xzrb6my122181.jpg\">\n",
        "</p>"
      ]
    },
    {
      "cell_type": "markdown",
      "metadata": {
        "cell_id": "00010-34fea2e6-4b5b-42a8-adc5-cc5ee77a6afe",
        "deepnote_cell_type": "markdown",
        "id": "jnmZfFpxTTYX"
      },
      "source": [
        "Unos intrépidos alumnos del curso, quienes frecuentemente participan en subreddits y foros de reviews, se preguntan lo siguiente: ¿Podremos confiar que un post es bueno, si este tiene solamente 1 o 3 votos positivos?. los compañeros, creen que esto claramente no representa una opinión general, ya que estamos mucho menos seguros acerca de la verdadera proporción de votos a favor de los comentarios con pocos datos. ¿Pero cómo podemos obtener una representación más creíble para este problema?.\n",
        "\n",
        "Lo señalado forma parte de un problema estadísticos, donde a través del cálculo de la posterior se puede conocer que tan probable es que un post sea bueno. Para efectos de este laboratorio, no se exige un conocimiento previo para resolver este problema, simplemente se deberá aplicar las ecuaciones presentadas más adelante (De igual forma si quedan interesados sobre el tema se les invita a tomar el ramo [CC6104](https://github.com/dccuchile/CC6104))."
      ]
    },
    {
      "cell_type": "markdown",
      "metadata": {
        "cell_id": "00011-d4a7a560-6425-4ccb-9d84-f59a9c36e3ac",
        "deepnote_cell_type": "markdown",
        "id": "xdbrb3AMi6EF"
      },
      "source": [
        "## 1.1 Obtención de Subrredits y Análisis [1 Punto]"
      ]
    },
    {
      "cell_type": "markdown",
      "metadata": {
        "cell_id": "00012-b7ddd335-dbd8-4db8-9533-07a0a75fa4e1",
        "deepnote_cell_type": "markdown",
        "id": "YI-IRspcjPee"
      },
      "source": [
        "Para estudiar que tan probable es que un post sea positivo se comenzará cargando datos reales del subreddit chile desde reddit (si usted desea puede cambiar el subreddit a uno de su gusto). Para esto le proponemos la utilización de la función que aparece mas abajo, la que presenta un usuario ya creado por el equipo docente. Dese un tiempo para entender que hace cada parte de la función, visualizando que se obtiene de estas.\n",
        "\n",
        "Revisada la función, utilice un **perfilador** para monitorear el tiempo y memoria que les toma a cada liena de código para ser ejecutada. Señale cuales son los procesos que mas tiempo consumen en la ejecución del Código, comentando si es posible mejorar el desempeño de la función.\n",
        "\n",
        "**TO-DO:**\n",
        "- [ ] Estudiar la función propuesta por el equipo docente.\n",
        "- [ ] Estudiar los tiempos de ejecución del código a través de un perfilador.\n",
        "- [ ] Estudiar la memoria ocupada por el código a través de un perfilador.\n",
        "- [ ] Comente los resultados. ¿Qué lineas ocupan más memoria o más/menos tiempo?¿Por qué?"
      ]
    },
    {
      "cell_type": "code",
      "execution_count": 38,
      "metadata": {
        "cell_id": "00013-93efc05f-d7c4-43ab-a5e7-25678ec45bf7",
        "deepnote_cell_type": "code",
        "deepnote_to_be_reexecuted": false,
        "execution_millis": 1,
        "execution_start": 1637947497504,
        "id": "R4PQbceVPJzh",
        "source_hash": "a55fad36"
      },
      "outputs": [],
      "source": [
        "def praw_reddit(nombre_subreddit=\"chile\", n_hot=1000):\n",
        "    reddit = praw.Reddit(\n",
        "        client_id=\"-w2hyFINxZ8T3g\",\n",
        "        client_secret=\"zGPCI4s3g6Ic6AsRi7vIpP0NoxbFdw\",\n",
        "        password=\"ClasesMDS7202\",\n",
        "        user_agent=\"Clases\",\n",
        "        username=\"DocenciaDataScience\",\n",
        "        check_for_async=False,\n",
        "    )\n",
        "    subreddit = reddit.subreddit(nombre_subreddit)\n",
        "\n",
        "    votes, post, url = {}, {}, {}\n",
        "    top_submissions = list(subreddit.hot(limit=n_hot))\n",
        "    for it, top_n in enumerate(range(50, len(top_submissions), 50)):\n",
        "        top_n_submissions = top_submissions[:top_n]\n",
        "        upvotes, downvotes, url[it], post[it] = [], [], [], []\n",
        "\n",
        "        for submission in top_n_submissions:\n",
        "            try:\n",
        "                ratio = submission.upvote_ratio\n",
        "                ups = int(\n",
        "                    round((ratio * submission.score) / (2 * ratio - 1))\n",
        "                    if ratio != 0.5\n",
        "                    else round(submission.score / 2)\n",
        "                )\n",
        "                upvotes.append(ups)\n",
        "                downvotes.append(ups - submission.score)\n",
        "                post[it].append(submission.title)\n",
        "                url[it].append(submission.url)\n",
        "            except Exception as e:\n",
        "                continue\n",
        "        votes[it] = np.array([upvotes, downvotes]).T\n",
        "    return votes, post, url\n"
      ]
    },
    {
      "cell_type": "code",
      "execution_count": 39,
      "metadata": {
        "cell_id": "00014-24e5a8eb-4a22-4588-9cc4-1d3d132ca121",
        "deepnote_cell_type": "code",
        "deepnote_to_be_reexecuted": false,
        "execution_millis": 11242,
        "execution_start": 1637947497523,
        "id": "v4rjrWf_pJHJ",
        "source_hash": "4b31fefe"
      },
      "outputs": [],
      "source": [
        "votes, post, url = praw_reddit()"
      ]
    },
    {
      "cell_type": "code",
      "execution_count": 15,
      "metadata": {
        "colab": {
          "base_uri": "https://localhost:8080/"
        },
        "id": "NmImRdeVbQ_8",
        "outputId": "5be0a53c-61f1-47b2-f1ac-0597edba4635"
      },
      "outputs": [
        {
          "output_type": "stream",
          "name": "stdout",
          "text": [
            "Requirement already satisfied: line_profiler in /usr/local/lib/python3.7/dist-packages (3.3.1)\n",
            "Requirement already satisfied: IPython>=0.13 in /usr/local/lib/python3.7/dist-packages (from line_profiler) (5.5.0)\n",
            "Requirement already satisfied: pickleshare in /usr/local/lib/python3.7/dist-packages (from IPython>=0.13->line_profiler) (0.7.5)\n",
            "Requirement already satisfied: pexpect in /usr/local/lib/python3.7/dist-packages (from IPython>=0.13->line_profiler) (4.8.0)\n",
            "Requirement already satisfied: pygments in /usr/local/lib/python3.7/dist-packages (from IPython>=0.13->line_profiler) (2.6.1)\n",
            "Requirement already satisfied: decorator in /usr/local/lib/python3.7/dist-packages (from IPython>=0.13->line_profiler) (4.4.2)\n",
            "Requirement already satisfied: simplegeneric>0.8 in /usr/local/lib/python3.7/dist-packages (from IPython>=0.13->line_profiler) (0.8.1)\n",
            "Requirement already satisfied: traitlets>=4.2 in /usr/local/lib/python3.7/dist-packages (from IPython>=0.13->line_profiler) (5.1.1)\n",
            "Requirement already satisfied: prompt-toolkit<2.0.0,>=1.0.4 in /usr/local/lib/python3.7/dist-packages (from IPython>=0.13->line_profiler) (1.0.18)\n",
            "Requirement already satisfied: setuptools>=18.5 in /usr/local/lib/python3.7/dist-packages (from IPython>=0.13->line_profiler) (57.4.0)\n",
            "Requirement already satisfied: wcwidth in /usr/local/lib/python3.7/dist-packages (from prompt-toolkit<2.0.0,>=1.0.4->IPython>=0.13->line_profiler) (0.2.5)\n",
            "Requirement already satisfied: six>=1.9.0 in /usr/local/lib/python3.7/dist-packages (from prompt-toolkit<2.0.0,>=1.0.4->IPython>=0.13->line_profiler) (1.15.0)\n",
            "Requirement already satisfied: ptyprocess>=0.5 in /usr/local/lib/python3.7/dist-packages (from pexpect->IPython>=0.13->line_profiler) (0.7.0)\n",
            "The line_profiler extension is already loaded. To reload it, use:\n",
            "  %reload_ext line_profiler\n"
          ]
        }
      ],
      "source": [
        "###### Código Aquí ######\n",
        "!pip install line_profiler\n",
        "%load_ext line_profiler\n",
        "\n",
        "%lprun -f   praw_reddit  praw_reddit()"
      ]
    },
    {
      "cell_type": "markdown",
      "source": [
        "Resultado : \n",
        "\n",
        "```\n",
        "Timer unit: 1e-06 s\n",
        "\n",
        "Total time: 12.4026 s\n",
        "File: <ipython-input-2-bd47716803a4>\n",
        "Function: praw_reddit at line 1\n",
        "\n",
        "Line #      Hits         Time  Per Hit   % Time  Line Contents\n",
        "==============================================================\n",
        "     1                                           def praw_reddit(nombre_subreddit=\"chile\", n_hot=1000):\n",
        "     2         1          9.0      9.0      0.0      reddit = praw.Reddit(\n",
        "     3         1          1.0      1.0      0.0          client_id=\"-w2hyFINxZ8T3g\",\n",
        "     4         1          2.0      2.0      0.0          client_secret=\"zGPCI4s3g6Ic6AsRi7vIpP0NoxbFdw\",\n",
        "     5         1          1.0      1.0      0.0          password=\"ClasesMDS7202\",\n",
        "     6         1          1.0      1.0      0.0          user_agent=\"Clases\",\n",
        "     7         1          1.0      1.0      0.0          username=\"DocenciaDataScience\",\n",
        "     8         1        942.0    942.0      0.0          check_for_async=False,\n",
        "     9                                               )\n",
        "    10         1         43.0     43.0      0.0      subreddit = reddit.subreddit(nombre_subreddit)\n",
        "    11                                           \n",
        "    12         1          2.0      2.0      0.0      votes, post, url = {}, {}, {}\n",
        "    13         1   12313462.0 12313462.0     99.3      top_submissions = list(subreddit.hot(limit=n_hot))\n",
        "    14        20         36.0      1.8      0.0      for it, top_n in enumerate(range(50, len(top_submissions), 50)):\n",
        "    15        19        168.0      8.8      0.0          top_n_submissions = top_submissions[:top_n]\n",
        "    16        19        118.0      6.2      0.0          upvotes, downvotes, url[it], post[it] = [], [], [], []\n",
        "    17                                           \n",
        "    18      9519       7548.0      0.8      0.1          for submission in top_n_submissions:\n",
        "    19      9500       7291.0      0.8      0.1              try:\n",
        "    20      9500      10107.0      1.1      0.1                  ratio = submission.upvote_ratio\n",
        "    21      9500       7729.0      0.8      0.1                  ups = int(\n",
        "    22                                                               round((ratio * submission.score) / (2 * ratio - 1))\n",
        "    23      9500      13829.0      1.5      0.1                      if ratio != 0.5\n",
        "    24       151        175.0      1.2      0.0                      else round(submission.score / 2)\n",
        "    25                                                           )\n",
        "    26      9500       8423.0      0.9      0.1                  upvotes.append(ups)\n",
        "    27      9500       9192.0      1.0      0.1                  downvotes.append(ups - submission.score)\n",
        "    28      9500      10586.0      1.1      0.1                  post[it].append(submission.title)\n",
        "    29      9500      11216.0      1.2      0.1                  url[it].append(submission.url)\n",
        "    30                                                       except Exception as e:\n",
        "    31                                                           continue\n",
        "    32        19       1739.0     91.5      0.0          votes[it] = np.array([upvotes, downvotes]).T\n",
        "    33         1          1.0      1.0      0.0      return votes, post, url\n",
        "\n",
        "```\n",
        "\n"
      ],
      "metadata": {
        "id": "4oc1bxkOevlQ"
      }
    },
    {
      "cell_type": "code",
      "source": [
        "!pip install memory_profiler\n",
        "%load_ext memory_profiler\n",
        "\n",
        "%memit "
      ],
      "metadata": {
        "id": "JI93JxrqdZkP",
        "outputId": "f71ab3ea-99a8-4210-e659-69f63481f45a",
        "colab": {
          "base_uri": "https://localhost:8080/"
        }
      },
      "execution_count": 25,
      "outputs": [
        {
          "output_type": "stream",
          "name": "stdout",
          "text": [
            "Requirement already satisfied: memory_profiler in /usr/local/lib/python3.7/dist-packages (0.59.0)\n",
            "Requirement already satisfied: psutil in /usr/local/lib/python3.7/dist-packages (from memory_profiler) (5.4.8)\n",
            "The memory_profiler extension is already loaded. To reload it, use:\n",
            "  %reload_ext memory_profiler\n",
            "peak memory: 275.84 MiB, increment: 0.00 MiB\n"
          ]
        }
      ]
    },
    {
      "cell_type": "markdown",
      "metadata": {
        "cell_id": "00016-51e64884-9168-46df-b5bb-96f7950e1a13",
        "deepnote_cell_type": "markdown",
        "id": "-diI_GpXmzqS"
      },
      "source": [
        "**Respuesta:**"
      ]
    },
    {
      "cell_type": "markdown",
      "metadata": {
        "cell_id": "00017-7ea262b8-c792-4f94-8dba-d8af3c5c4dd5",
        "deepnote_cell_type": "markdown",
        "id": "6gdqQBi1m_cu"
      },
      "source": [
        "Se ve que  la más tiempo demora es top_submissions = list(subreddit.hot(limit=n_hot))  "
      ]
    },
    {
      "cell_type": "markdown",
      "metadata": {
        "cell_id": "00018-c6945fe3-eec1-4bf6-82a1-35b7ded97982",
        "deepnote_cell_type": "markdown",
        "id": "tNDS2OpFnMnH"
      },
      "source": [
        "## 1.2 LRU y Análisis de Tiempo con Cache [1 Punto]"
      ]
    },
    {
      "cell_type": "markdown",
      "metadata": {
        "cell_id": "00019-98704da0-6417-4ed9-a753-5672d5a12f03",
        "deepnote_cell_type": "markdown",
        "id": "i3nsxCbAna4t"
      },
      "source": [
        "Respondan las siguientes preguntas:\n",
        "\n",
        "1.\t¿Qué es la memoria cache y a que se refiere las siglas LRU?\n",
        "2.\t¿Cuáles son los costos que tiene la aplicación de técnicas de Caching?\n",
        "3. ¿Cuál es la consecuencía de ocupar caching en la función anterior?.\n",
        "\n",
        "Respondidas las preguntas, se le solicita que aplique alguna técnica de caching para mejorar el desempeño de la función `praw_reddit`. Para esto compare solo el tiempo de ejecución del algoritmo con y sin caching, señalando el tiempo total de ejecución y el tiempo promedio que le toma ejecutar cada loop a la función. Con lo anterior, ¿es posible visualizar mejoras en este caso?.\n",
        "\n",
        "\n",
        "**TO-DO:**\n",
        "- [ ] Responder las preguntas.\n",
        "- [ ] Mejorar el código con cache.\n",
        "- [ ] Explicar las consecuencias de usar lru_cache sobre praw_reddit"
      ]
    },
    {
      "cell_type": "markdown",
      "metadata": {
        "cell_id": "00020-774c602b-0847-483f-9d94-d3db21772a60",
        "deepnote_cell_type": "markdown",
        "id": "fbQPpvYorOAF"
      },
      "source": [
        "**Respuestas Teóricas:**"
      ]
    },
    {
      "cell_type": "markdown",
      "metadata": {
        "cell_id": "00021-9d26f5d4-f9f1-4ce3-b47a-0955d7d5528e",
        "deepnote_cell_type": "markdown",
        "id": "RKfLXDs_rO-w"
      },
      "source": [
        "1. La memoria cache es un tipo de memoria a la cual el procesador tiene acceso directo, es rápida de leer y pequeña. Por otro lado LRU significa Least Recently Used y es una estrategia usada para entregar espacios en memoria, en este caso de la memoría caché donde los pedazos menos usados en un intervalo de tiempo se descartan para dar más espacio a nuevos pedazos. \n",
        "2. El algoritmo tiene un costo computacional alto ya que cada elemento o pedazo que guardemos debe ser actualizado ( movido) en cada pasada y esto demora tiempo\n",
        "3. Pese a que nos vemos enfrentados a este costo, aún así es más conveniente que leer desde la memoria normal por lo que el tiempo de ejecución bajara  \n",
        "\n"
      ]
    },
    {
      "cell_type": "code",
      "source": [
        "%timeit praw_reddit()"
      ],
      "metadata": {
        "id": "Xw9Jxb3Oqmrb",
        "outputId": "32d4c3bf-cd79-4b4c-d43f-5a2ec58e09eb",
        "colab": {
          "base_uri": "https://localhost:8080/"
        }
      },
      "execution_count": 57,
      "outputs": [
        {
          "output_type": "stream",
          "name": "stdout",
          "text": [
            "1 loop, best of 5: 11.7 s per loop\n"
          ]
        }
      ]
    },
    {
      "cell_type": "code",
      "execution_count": 62,
      "metadata": {
        "cell_id": "00022-d937bbea-3ff8-4700-a0b4-24e49e2036cc",
        "deepnote_cell_type": "code",
        "id": "X0u4WU11rLJd"
      },
      "outputs": [],
      "source": [
        "from functools import lru_cache\n",
        "\n",
        "@lru_cache()\n",
        "def praw_reddit(nombre_subreddit=\"chile\", n_hot=1000):\n",
        "    reddit = praw.Reddit(\n",
        "        client_id=\"-w2hyFINxZ8T3g\",\n",
        "        client_secret=\"zGPCI4s3g6Ic6AsRi7vIpP0NoxbFdw\",\n",
        "        password=\"ClasesMDS7202\",\n",
        "        user_agent=\"Clases\",\n",
        "        username=\"DocenciaDataScience\",\n",
        "        check_for_async=False,\n",
        "    )\n",
        "    subreddit = reddit.subreddit(nombre_subreddit)\n",
        "\n",
        "    votes, post, url = {}, {}, {}\n",
        "    top_submissions = list(subreddit.hot(limit=n_hot))\n",
        "    for it, top_n in enumerate(range(50, len(top_submissions), 50)):\n",
        "        top_n_submissions = top_submissions[:top_n]\n",
        "        upvotes, downvotes, url[it], post[it] = [], [], [], []\n",
        "\n",
        "        for submission in top_n_submissions:\n",
        "            try:\n",
        "                ratio = submission.upvote_ratio\n",
        "                ups = int(\n",
        "                    round((ratio * submission.score) / (2 * ratio - 1))\n",
        "                    if ratio != 0.5\n",
        "                    else round(submission.score / 2)\n",
        "                )\n",
        "                upvotes.append(ups)\n",
        "                downvotes.append(ups - submission.score)\n",
        "                post[it].append(submission.title)\n",
        "                url[it].append(submission.url)\n",
        "            except Exception as e:\n",
        "                continue\n",
        "        votes[it] = np.array([upvotes, downvotes]).T\n",
        "    return votes, post, url"
      ]
    },
    {
      "cell_type": "code",
      "source": [
        "%%timeit\n",
        "praw_reddit()"
      ],
      "metadata": {
        "id": "KeORNuqXq5pp",
        "outputId": "07b8ae75-407b-44a3-b2b8-6e705cde6297",
        "colab": {
          "base_uri": "https://localhost:8080/"
        }
      },
      "execution_count": 63,
      "outputs": [
        {
          "output_type": "stream",
          "name": "stdout",
          "text": [
            "The slowest run took 69644212.67 times longer than the fastest. This could mean that an intermediate result is being cached.\n",
            "1 loop, best of 5: 184 ns per loop\n"
          ]
        }
      ]
    },
    {
      "cell_type": "markdown",
      "metadata": {
        "id": "M5cOgIz0bRAF"
      },
      "source": [
        "**Respuesta de lru_cache sobre praw_reddit**"
      ]
    },
    {
      "cell_type": "markdown",
      "metadata": {
        "id": "Xwaj2xMYbRAF"
      },
      "source": [
        "Cómo se comento anteriormente, el tiempo baja considerablemente al utilizar memoria cache \n"
      ]
    },
    {
      "cell_type": "markdown",
      "metadata": {
        "cell_id": "00023-a70d4c89-5b01-4f62-b470-742d59287c02",
        "deepnote_cell_type": "markdown",
        "id": "2pS26u-trdg6"
      },
      "source": [
        "## 1.3 Obtención de Mean Posterior y Standard Error [1 Punto]\n",
        "\n",
        "Una forma de obtener la mean posterior y el Standard Error de los datos de reddit es aplicando un atajo de inferencia estadística. Este atajo se define de la siguiente forma:\n",
        "\n",
        "Sea **u** los votos positivos y **d** los votos negativos del subreddit, tendremos que:\n",
        "\n",
        "$$a = 1+u$$\n",
        "\n",
        "$$b = 1+d$$\n",
        "\n",
        "$$\\sigma= 1.65\\sqrt(\\dfrac{ab}{(a + b)^2(a + b + 1)})$$\n",
        "\n",
        "$$\\mu = \\dfrac{a}{a+b}$$\n",
        "\n",
        "Donde $\\mu$ es la mean posterior y $\\sigma$ el standard error.\n",
        "\n",
        "Con lo anterior, genere dos funciones que tengan como salida $\\mu$ y $\\sigma$ de acuerdo a las ecuaciones señaladas. La primera función, deberá ser construida sin el uso de numpy, aplicando for y aplicando comandos nativos de Python. Por otro lado, deberá generar una segunda función con el uso exclusivo de numpy. **OJO** que las funciones deben tener como entrada solo un elemento del diccionario votes (por ejemplo `votes[1]`), por lo que estas no deben tener como entrada el conjunto completo de datos."
      ]
    },
    {
      "cell_type": "code",
      "execution_count": 89,
      "metadata": {
        "cell_id": "00024-11d109a9-4e84-4291-bcab-9ff1924c1022",
        "deepnote_cell_type": "code",
        "deepnote_to_be_reexecuted": false,
        "execution_millis": 15,
        "execution_start": 1637947536256,
        "id": "ahzpJ-Sk0DOD",
        "source_hash": "b9b21217"
      },
      "outputs": [],
      "source": [
        "###### Código Aquí ######\n",
        "\n",
        "def sin_numpy(votos):\n",
        "  sigma =[]\n",
        "  mu =[]\n",
        "  for vote in votos : \n",
        "    a= vote[0]\n",
        "    b= vote[1]\n",
        "    sigma.append(1.65 *((a*b/((a+b)**2 * (a+b+1))))**0.5)\n",
        "    mu.append(a / (a+b))\n",
        "  return sigma , mu\n",
        "\n",
        "\n",
        "def con_numpy(votos):\n",
        "  votos =  1 + votos\n",
        "  a= votos[:,0]\n",
        "  b= votos[:,1]\n",
        "  sigma = 1.65 *((a*b/((a+b)**2 * (a+b+1))))**0.5\n",
        "  mu = a / (a+b)\n",
        "  return sigma , mu\n",
        "\n",
        "\n"
      ]
    },
    {
      "cell_type": "markdown",
      "metadata": {
        "cell_id": "00025-276ba904-2ebf-4b01-8355-00f104cd0aba",
        "deepnote_cell_type": "markdown",
        "id": "VhHhiTRYwpGu"
      },
      "source": [
        "## 1.4 Comparación de Rendimiento [2 Puntos]\n",
        "\n",
        "Creadas las funciones de la sección 1.3, de forma iterativa compare los diferentes batches de datos que contiene el diccionario `votes`. Para esto genere un gráfico utilizando plotly, donde se pueda observar las diferencias de tiempo que toma ejecutar las diferentes cantidades de datos. ¿es posible observar una diferencia? ¿a qué se deberá esto?.\n",
        "\n",
        "Aplique el compilador **Numba** sobre las funciones 1.3 y compare el tiempo de ejecución con los obtenidos sin el compilador. "
      ]
    },
    {
      "cell_type": "code",
      "execution_count": 91,
      "metadata": {
        "cell_id": "00026-46727626-7d9d-4ab1-8b94-ccf9809b2e55",
        "deepnote_cell_type": "code",
        "id": "b02IokToxPpO"
      },
      "outputs": [],
      "source": [
        "###### Código Aquí ######\n",
        "@jit(nopython=True)\n",
        "def sin_numpy_numba(votos):\n",
        "  sigma =[]\n",
        "  mu =[]\n",
        "  for vote in votos : \n",
        "    a= vote[0]\n",
        "    b= vote[1]\n",
        "    sigma.append(1.65 *((a*b/((a+b)**2 * (a+b+1))))**0.5)\n",
        "    mu.append(a / (a+b))\n",
        "  return sigma , mu\n",
        "\n",
        "@jit(nopython=True)\n",
        "def con_numpy_numba(votos):\n",
        "  votos =  1 + votos\n",
        "  a= votos[:,0]\n",
        "  b= votos[:,1]\n",
        "  sigma = 1.65 *((a*b/((a+b)**2 * (a+b+1))))**0.5\n",
        "  mu = a / (a+b)\n",
        "  return sigma , mu\n"
      ]
    },
    {
      "cell_type": "code",
      "source": [
        "time1=[]\n",
        "time2=[]\n",
        "time3=[]\n",
        "time4=[]\n",
        "\n",
        "for vote in votes : \n",
        "  sin_numpy(vote)\n",
        "  con_numpy(vote)\n",
        "  sin_numpy_numba(vote)\n",
        "  conn_numpy_numba(vote)"
      ],
      "metadata": {
        "id": "5wkZRrbZ7O7D",
        "outputId": "d39a4ce0-6a3e-4fd4-b3b1-b7214c3b096a",
        "colab": {
          "base_uri": "https://localhost:8080/",
          "height": 126
        }
      },
      "execution_count": 71,
      "outputs": [
        {
          "output_type": "error",
          "ename": "SyntaxError",
          "evalue": "ignored",
          "traceback": [
            "\u001b[0;36m  File \u001b[0;32m\"<unknown>\"\u001b[0;36m, line \u001b[0;32m1\u001b[0m\n\u001b[0;31m    for vote in votes :\u001b[0m\n\u001b[0m                       ^\u001b[0m\n\u001b[0;31mSyntaxError\u001b[0m\u001b[0;31m:\u001b[0m unexpected EOF while parsing\n"
          ]
        }
      ]
    },
    {
      "cell_type": "markdown",
      "metadata": {
        "id": "lRB-rFg7bRAG"
      },
      "source": [
        "Ahora, grafiquen los tiempos tomados y comente los desempeños.\n",
        "\n",
        "**Nota:** Ejecuten las funciones compiladas con algún ejemplo antes de graficar. De lo contrario, les indicará el tiempo de compilación, cosa que no queremos medir"
      ]
    },
    {
      "cell_type": "code",
      "execution_count": null,
      "metadata": {
        "cell_id": "00027-36165a18-3b75-41d7-9a27-121172c19a2f",
        "deepnote_cell_type": "code",
        "deepnote_output_heights": [
          527
        ],
        "id": "_iCONVWNn8Ti"
      },
      "outputs": [],
      "source": [
        "###### Código Aquí ######\n"
      ]
    },
    {
      "cell_type": "markdown",
      "metadata": {
        "cell_id": "00028-19d4d7d5-b8cc-4e02-b9b1-661b163db40b",
        "deepnote_cell_type": "markdown",
        "id": "DljdJw8m0gYC"
      },
      "source": [
        "## 1.5 Plot de Resultados [1 Punto]"
      ]
    },
    {
      "cell_type": "markdown",
      "metadata": {
        "cell_id": "00029-a2d26faa-9a0c-4654-b90a-8afea2987c40",
        "deepnote_cell_type": "markdown",
        "id": "cQAxOM5D08Hl"
      },
      "source": [
        "Llego la hora de visualizar los resultados obtenidos, para esto solo ejecute las siguientes celdas y observe lo que sucede :3. ¿Qué logra observar de los resultados?, ¿La solución resulta trivial?\n",
        "\n",
        "En esta sección esperamos que solo comenten con lo que logran visualizar de los dataframes."
      ]
    },
    {
      "cell_type": "code",
      "execution_count": 92,
      "metadata": {
        "cell_id": "00030-9cc49c95-022a-4b99-8e27-0c39de2d0007",
        "colab": {
          "base_uri": "https://localhost:8080/",
          "height": 1000
        },
        "deepnote_cell_type": "code",
        "deepnote_output_heights": [
          null,
          611
        ],
        "id": "N5E2mNYXaafI",
        "outputId": "896573cc-cc59-4c1d-f3f1-e099faf8b8ff",
        "scrolled": true
      },
      "outputs": [
        {
          "output_type": "stream",
          "name": "stdout",
          "text": [
            "lower bounds aproximados:\n",
            "[  92   36  282  480  101  144  193  160  137   32  150   29  117   39\n",
            "  249   46   22   32   61   27   16   30   45   40   72   44   13   53\n",
            "   41   10   95  456   52    5  261  306  843  181  253   10   21  167\n",
            "   78 1069  135  129  210   70   15  139  199   14    8   94  220   78\n",
            "    5  146   74  111  369    4   78   11   33  370  216  212   68    0\n",
            "   40   28  261    0  180  133  113   44   36  137 1265   49  153  124\n",
            "  810  120   73   37    0   61  419   70   28  512   16   23   22   10\n",
            "    5   66   25   65   62   35   10    0   29   44  265   36   24    0\n",
            "    0  735  151  187  162   85  800   43  559  129  218   12  384   63\n",
            "  277   53  113    9  258   57  144  392   70    0  191   90  127    0\n",
            "  178  158  126   86  110   27    0   49   10  347   16   92   72   33\n",
            "   25   40   38  227   72   53   15   90    0   26   31   38   15   43\n",
            "   79 1016   16   61   25   16    0   23  314   12   28   20   11   13\n",
            "   11   59    0    8  409  779   18    0    0   11  137   12  180  414\n",
            "    7   96  162    0    9    6  301   10  100   48   65  149   34   45\n",
            "   38   78    9   80   68   29  312   51    9   70   60  161   28  297\n",
            "  219    0   37    0   42  134  105   50   87  122   28  128  128   12\n",
            "   25    5   71    0   65    0    0   22  446  976    0    0    0   31\n",
            "   18   70   10    0   11  179  253    7   61    5   13  227   15   95\n",
            "  164   31  119   25    0   13  571   81    5    0   20   50  425    0\n",
            "    0   78  235    0  170  172   17  102   95  104   16   13   24   67\n",
            "   25   89  195    0   64   36  112    0   35   77   12   62   47   15\n",
            "   14   16  276  251   35  310 1301   46  231   20    0    9  506   17\n",
            "   16   10   16  110   18  106  247    7   13  472   33  273  177  515\n",
            "   30   54   41  119  218   62    9    4   94  135  200  118  292  144\n",
            "  176   56  110  149   14   88   60   41   72   16   31  145   25   54\n",
            "   95   42   22  104    6  140    0   79   16   43  352   43    0  636\n",
            "   32   26   46  120  461   34    0  468    0   16  249   18  301  183\n",
            "   24  460    0 1037  132    5   87  141  226   41    4  149  372  280\n",
            "  136  103  312  201    0   53    5    0  121    2   45    5   23   27\n",
            "  152   26   82   13  159   91  131  131   25   67   88  347   52   88\n",
            "   70   34   45  651   40    9   44  147   18   51   30   70   15    2\n",
            "   16   24   16  186   25    0   39    0  259   40    0  401   25    9\n",
            "   39  261   12   10  105    7    0   77  321   12  125   48   31   86\n",
            "  670   17    0  267   76   67  206   14   65  118  100  105  198   43\n",
            "  258    0   19   84   12  186  100   78   57   36   74   59  307   14\n",
            "  141   74    3  218  105   80   26  109  119   96    0 1163   58  639\n",
            "   38    0  337   39  120  193  440  156   27  112 1252  609  377    5\n",
            "  774  387   74  423  131    5   58  237  204   23    0  113    0  102\n",
            "   54  335  103    6   53  117   30  217   20   93   73  102   30   20\n",
            "   25   29   12   56  141   95   24   96    0   15   38  136  283    8\n",
            "   31    8  323   15    5   51   16   36    0    0   25   31  669   22\n",
            "   31   25   80   31  322   13  341    7   21  278    9    0  107  104\n",
            "  507   61   78   26   69   27   30   26  274  102    7  393   43  226\n",
            "    6  106  163   43   13  110  140   39  112  144   57   10   25   57\n",
            "  117   13  198    0   89   19  129   14   20   77  556   22  188   34\n",
            "  526  303   29  438   50   91   17   15  824   18  253    9   76  343\n",
            "  140  137   60    0  116   14  152   74  316   79  340    3  231    6\n",
            "  136   48  193   47   67   65   10   53   59   39  371    0   67   77\n",
            "   76   38    0    0   45    0  272  961  324  607   73  731   11    0\n",
            "  156  139  242  665   89   27   86  115  179  239   75  235  192   11\n",
            "    8  296  132   88   85    0   47    8  102   21   11  148   16   57\n",
            "    0  165    0   79    3   99   39    8   51   40   67   11   52  192\n",
            "   33   55   26   47    0  136  522    0   28  159   12   79    5  225\n",
            "  140   81  327  112   49  110  383   58  580   53   96  133   76  190\n",
            "   16  225   74   31   70   37   74  126  122   56  105   81  244   27\n",
            "   38   35   49    0   82   21    7   56   48  517    0   12   26   23\n",
            "   55  117   29   38   30    7   40   22   33    8  692  305   29  358\n",
            "  149  123  193    6   97   82  137    0   96   18   84  295  255   95\n",
            "   79   17   11   28   43   34  174   38   95  121   32   96  445   58\n",
            "   37   94   17  231   13   13    8   10  143   15   23   67   90  490\n",
            "   67    5   60   81    6   19    0    4   79  232   63   62   14 1297\n",
            "  505   38   71    0   21  625   16  195  250  849    8    3  266   14\n",
            "  156   20   56   10   11  124   19  118  267  141  315    0    7  297\n",
            "   29  129   63    0   35  286   54   94  183   80   53   20    0  148\n",
            "   23   74   67   88  203   97   51   15   54   68   40   65   76   38\n",
            "   13   28    9  594    6   31  328   48   34   19   32   12    7   25\n",
            "   17  309    7  189   24  521    0    6  218  501  773  587]\n",
            "\n",
            "Top 20 post ordenador por el limite inferior:\n",
            "\n"
          ]
        },
        {
          "output_type": "display_data",
          "data": {
            "text/html": [
              "<html>\n",
              "<head><meta charset=\"utf-8\" /></head>\n",
              "<body>\n",
              "    <div>\n",
              "            <script src=\"https://cdnjs.cloudflare.com/ajax/libs/mathjax/2.7.5/MathJax.js?config=TeX-AMS-MML_SVG\"></script><script type=\"text/javascript\">if (window.MathJax) {MathJax.Hub.Config({SVG: {font: \"STIX-Web\"}});}</script>\n",
              "                <script type=\"text/javascript\">window.PlotlyConfig = {MathJaxConfig: 'local'};</script>\n",
              "        <script src=\"https://cdn.plot.ly/plotly-latest.min.js\"></script>    \n",
              "            <div id=\"e1b8b620-85e2-48f8-9089-4291b726254e\" class=\"plotly-graph-div\" style=\"height:525px; width:100%;\"></div>\n",
              "            <script type=\"text/javascript\">\n",
              "                \n",
              "                    window.PLOTLYENV=window.PLOTLYENV || {};\n",
              "                    \n",
              "                if (document.getElementById(\"e1b8b620-85e2-48f8-9089-4291b726254e\")) {\n",
              "                    Plotly.newPlot(\n",
              "                        'e1b8b620-85e2-48f8-9089-4291b726254e',\n",
              "                        [{\"error_x\": {\"array\": [0.5, 0.5, 0.5, 0.5, 0.5, 0.5, 0.5, 0.5, 0.5, 0.5, 0.5, 0.5, 0.5, 0.5, 0.5, 0.5, 0.5, 0.5, 0.5, 0.5]}, \"hoverlabel\": {\"namelength\": 0}, \"hovertemplate\": \"mean=%{x}<br>post=%{y}\", \"legendgroup\": \"\", \"marker\": {\"color\": \"#636efa\", \"symbol\": \"circle\"}, \"mode\": \"markers\", \"name\": \"\", \"showlegend\": false, \"type\": \"scatter\", \"x\": [0.4763139720814412, 0.4763139720814412, 0.4763139720814412, 0.4763139720814412, 0.4763139720814412, 0.4763139720814412, 0.4763139720814412, 0.4763139720814412, 0.4763139720814412, 0.4763139720814412, 0.4763139720814412, 0.4763139720814412, 0.4763139720814412, 0.4763139720814412, 0.4763139720814412, 0.4763139720814412, 0.4763139720814412, 0.4763139720814412, 0.4763139720814412, 0.4763139720814412], \"xaxis\": \"x\", \"y\": [\"me he preguntado, de acuerdo a tantas encuestas chile es uno si no el pais donde mas \\\"Infelicidad\\\" se puede observar, que tan infelices son los usuarios de reddit chile?\", \"Lo que esta en juego en las elecciones chilenas del 19D\", \"Preguntan a Pablo Casado por el candidato de la ultraderecha de Chile y responde hablando de Podemos\", \"Mejor comercial de naviad\", \"Nicol\\u00e1s Ib\\u00e1\\u00f1ez, empresario: \\\"Mi visi\\u00f3n es que tenemos que hacer todo lo posible para que salga Boric\\\"\", \"\\u00bfEs verdad que en Chile los croatas son progresistas y los alemanes son conservadores?\", \"Sebasti\\u00e1n izquierdo: El Fin Del Caso Vanguardia\", \"Lejos de la casa y el \\u00e1rbol. Factores comunales de los resultados electorales de Apruebo Dignidad. Parte 2\", \"How do I get dual-citizenship (Brazil)\", \"Bellolio: la l\\u00f3gica del orden la ha canalizado Kast; el cambio pol\\u00edtico de las l\\u00f3gicas de pasado, Boric\", \"Quien gana?\", \"The Ultra-Conservative Who Vows to Save Chile From Communism\", \"PLAN DE ACCI\\u00d3N DE DESPLIEGUE TERRITORIAL ANEF POR LA CANDIDATURA DE GABRIEL BORIC FONT EN LA SEGUNDA VUELTA PRESIDENCIAL - ANEF - Agrupaci\\u00f3n Nacional de Empleados Fiscales\", \"[Showerthought] Si el conde Boroc gana las elecciones \\u00bfSe deber\\u00e1 afeitar la barba? \\u00bfCuantos a\\u00f1os han pasado desde la \\u00faltima vez que un presi tuvo barba? Abro hilo\", \"Ya cagaste, Kast.\", \"Ayudenme a encontrar esta wea\", \"FEMINISTAS DANDO JUGO EN EL CONGRESO DE CHILE 2021\", \"Jos\\u00e9 Antonio Kast: Chile\\u2019s left paves the way for a fascist\", \"Detalle de Bad Boys haciendo un dos al finalizar el live \\u00bfCasualidad?\", \"Algun turista Mexicano aqui en Chile?\"], \"yaxis\": \"y\"}],\n",
              "                        {\"legend\": {\"tracegroupgap\": 0}, \"margin\": {\"t\": 60}, \"template\": {\"data\": {\"bar\": [{\"error_x\": {\"color\": \"#2a3f5f\"}, \"error_y\": {\"color\": \"#2a3f5f\"}, \"marker\": {\"line\": {\"color\": \"#E5ECF6\", \"width\": 0.5}}, \"type\": \"bar\"}], \"barpolar\": [{\"marker\": {\"line\": {\"color\": \"#E5ECF6\", \"width\": 0.5}}, \"type\": \"barpolar\"}], \"carpet\": [{\"aaxis\": {\"endlinecolor\": \"#2a3f5f\", \"gridcolor\": \"white\", \"linecolor\": \"white\", \"minorgridcolor\": \"white\", \"startlinecolor\": \"#2a3f5f\"}, \"baxis\": {\"endlinecolor\": \"#2a3f5f\", \"gridcolor\": \"white\", \"linecolor\": \"white\", \"minorgridcolor\": \"white\", \"startlinecolor\": \"#2a3f5f\"}, \"type\": \"carpet\"}], \"choropleth\": [{\"colorbar\": {\"outlinewidth\": 0, \"ticks\": \"\"}, \"type\": \"choropleth\"}], \"contour\": [{\"colorbar\": {\"outlinewidth\": 0, \"ticks\": \"\"}, \"colorscale\": [[0.0, \"#0d0887\"], [0.1111111111111111, \"#46039f\"], [0.2222222222222222, \"#7201a8\"], [0.3333333333333333, \"#9c179e\"], [0.4444444444444444, \"#bd3786\"], [0.5555555555555556, \"#d8576b\"], [0.6666666666666666, \"#ed7953\"], [0.7777777777777778, \"#fb9f3a\"], [0.8888888888888888, \"#fdca26\"], [1.0, \"#f0f921\"]], \"type\": \"contour\"}], \"contourcarpet\": [{\"colorbar\": {\"outlinewidth\": 0, \"ticks\": \"\"}, \"type\": \"contourcarpet\"}], \"heatmap\": [{\"colorbar\": {\"outlinewidth\": 0, \"ticks\": \"\"}, \"colorscale\": [[0.0, \"#0d0887\"], [0.1111111111111111, \"#46039f\"], [0.2222222222222222, \"#7201a8\"], [0.3333333333333333, \"#9c179e\"], [0.4444444444444444, \"#bd3786\"], [0.5555555555555556, \"#d8576b\"], [0.6666666666666666, \"#ed7953\"], [0.7777777777777778, \"#fb9f3a\"], [0.8888888888888888, \"#fdca26\"], [1.0, \"#f0f921\"]], \"type\": \"heatmap\"}], \"heatmapgl\": [{\"colorbar\": {\"outlinewidth\": 0, \"ticks\": \"\"}, \"colorscale\": [[0.0, \"#0d0887\"], [0.1111111111111111, \"#46039f\"], [0.2222222222222222, \"#7201a8\"], [0.3333333333333333, \"#9c179e\"], [0.4444444444444444, \"#bd3786\"], [0.5555555555555556, \"#d8576b\"], [0.6666666666666666, \"#ed7953\"], [0.7777777777777778, \"#fb9f3a\"], [0.8888888888888888, \"#fdca26\"], [1.0, \"#f0f921\"]], \"type\": \"heatmapgl\"}], \"histogram\": [{\"marker\": {\"colorbar\": {\"outlinewidth\": 0, \"ticks\": \"\"}}, \"type\": \"histogram\"}], \"histogram2d\": [{\"colorbar\": {\"outlinewidth\": 0, \"ticks\": \"\"}, \"colorscale\": [[0.0, \"#0d0887\"], [0.1111111111111111, \"#46039f\"], [0.2222222222222222, \"#7201a8\"], [0.3333333333333333, \"#9c179e\"], [0.4444444444444444, \"#bd3786\"], [0.5555555555555556, \"#d8576b\"], [0.6666666666666666, \"#ed7953\"], [0.7777777777777778, \"#fb9f3a\"], [0.8888888888888888, \"#fdca26\"], [1.0, \"#f0f921\"]], \"type\": \"histogram2d\"}], \"histogram2dcontour\": [{\"colorbar\": {\"outlinewidth\": 0, \"ticks\": \"\"}, \"colorscale\": [[0.0, \"#0d0887\"], [0.1111111111111111, \"#46039f\"], [0.2222222222222222, \"#7201a8\"], [0.3333333333333333, \"#9c179e\"], [0.4444444444444444, \"#bd3786\"], [0.5555555555555556, \"#d8576b\"], [0.6666666666666666, \"#ed7953\"], [0.7777777777777778, \"#fb9f3a\"], [0.8888888888888888, \"#fdca26\"], [1.0, \"#f0f921\"]], \"type\": \"histogram2dcontour\"}], \"mesh3d\": [{\"colorbar\": {\"outlinewidth\": 0, \"ticks\": \"\"}, \"type\": \"mesh3d\"}], \"parcoords\": [{\"line\": {\"colorbar\": {\"outlinewidth\": 0, \"ticks\": \"\"}}, \"type\": \"parcoords\"}], \"pie\": [{\"automargin\": true, \"type\": \"pie\"}], \"scatter\": [{\"marker\": {\"colorbar\": {\"outlinewidth\": 0, \"ticks\": \"\"}}, \"type\": \"scatter\"}], \"scatter3d\": [{\"line\": {\"colorbar\": {\"outlinewidth\": 0, \"ticks\": \"\"}}, \"marker\": {\"colorbar\": {\"outlinewidth\": 0, \"ticks\": \"\"}}, \"type\": \"scatter3d\"}], \"scattercarpet\": [{\"marker\": {\"colorbar\": {\"outlinewidth\": 0, \"ticks\": \"\"}}, \"type\": \"scattercarpet\"}], \"scattergeo\": [{\"marker\": {\"colorbar\": {\"outlinewidth\": 0, \"ticks\": \"\"}}, \"type\": \"scattergeo\"}], \"scattergl\": [{\"marker\": {\"colorbar\": {\"outlinewidth\": 0, \"ticks\": \"\"}}, \"type\": \"scattergl\"}], \"scattermapbox\": [{\"marker\": {\"colorbar\": {\"outlinewidth\": 0, \"ticks\": \"\"}}, \"type\": \"scattermapbox\"}], \"scatterpolar\": [{\"marker\": {\"colorbar\": {\"outlinewidth\": 0, \"ticks\": \"\"}}, \"type\": \"scatterpolar\"}], \"scatterpolargl\": [{\"marker\": {\"colorbar\": {\"outlinewidth\": 0, \"ticks\": \"\"}}, \"type\": \"scatterpolargl\"}], \"scatterternary\": [{\"marker\": {\"colorbar\": {\"outlinewidth\": 0, \"ticks\": \"\"}}, \"type\": \"scatterternary\"}], \"surface\": [{\"colorbar\": {\"outlinewidth\": 0, \"ticks\": \"\"}, \"colorscale\": [[0.0, \"#0d0887\"], [0.1111111111111111, \"#46039f\"], [0.2222222222222222, \"#7201a8\"], [0.3333333333333333, \"#9c179e\"], [0.4444444444444444, \"#bd3786\"], [0.5555555555555556, \"#d8576b\"], [0.6666666666666666, \"#ed7953\"], [0.7777777777777778, \"#fb9f3a\"], [0.8888888888888888, \"#fdca26\"], [1.0, \"#f0f921\"]], \"type\": \"surface\"}], \"table\": [{\"cells\": {\"fill\": {\"color\": \"#EBF0F8\"}, \"line\": {\"color\": \"white\"}}, \"header\": {\"fill\": {\"color\": \"#C8D4E3\"}, \"line\": {\"color\": \"white\"}}, \"type\": \"table\"}]}, \"layout\": {\"annotationdefaults\": {\"arrowcolor\": \"#2a3f5f\", \"arrowhead\": 0, \"arrowwidth\": 1}, \"coloraxis\": {\"colorbar\": {\"outlinewidth\": 0, \"ticks\": \"\"}}, \"colorscale\": {\"diverging\": [[0, \"#8e0152\"], [0.1, \"#c51b7d\"], [0.2, \"#de77ae\"], [0.3, \"#f1b6da\"], [0.4, \"#fde0ef\"], [0.5, \"#f7f7f7\"], [0.6, \"#e6f5d0\"], [0.7, \"#b8e186\"], [0.8, \"#7fbc41\"], [0.9, \"#4d9221\"], [1, \"#276419\"]], \"sequential\": [[0.0, \"#0d0887\"], [0.1111111111111111, \"#46039f\"], [0.2222222222222222, \"#7201a8\"], [0.3333333333333333, \"#9c179e\"], [0.4444444444444444, \"#bd3786\"], [0.5555555555555556, \"#d8576b\"], [0.6666666666666666, \"#ed7953\"], [0.7777777777777778, \"#fb9f3a\"], [0.8888888888888888, \"#fdca26\"], [1.0, \"#f0f921\"]], \"sequentialminus\": [[0.0, \"#0d0887\"], [0.1111111111111111, \"#46039f\"], [0.2222222222222222, \"#7201a8\"], [0.3333333333333333, \"#9c179e\"], [0.4444444444444444, \"#bd3786\"], [0.5555555555555556, \"#d8576b\"], [0.6666666666666666, \"#ed7953\"], [0.7777777777777778, \"#fb9f3a\"], [0.8888888888888888, \"#fdca26\"], [1.0, \"#f0f921\"]]}, \"colorway\": [\"#636efa\", \"#EF553B\", \"#00cc96\", \"#ab63fa\", \"#FFA15A\", \"#19d3f3\", \"#FF6692\", \"#B6E880\", \"#FF97FF\", \"#FECB52\"], \"font\": {\"color\": \"#2a3f5f\"}, \"geo\": {\"bgcolor\": \"white\", \"lakecolor\": \"white\", \"landcolor\": \"#E5ECF6\", \"showlakes\": true, \"showland\": true, \"subunitcolor\": \"white\"}, \"hoverlabel\": {\"align\": \"left\"}, \"hovermode\": \"closest\", \"mapbox\": {\"style\": \"light\"}, \"paper_bgcolor\": \"white\", \"plot_bgcolor\": \"#E5ECF6\", \"polar\": {\"angularaxis\": {\"gridcolor\": \"white\", \"linecolor\": \"white\", \"ticks\": \"\"}, \"bgcolor\": \"#E5ECF6\", \"radialaxis\": {\"gridcolor\": \"white\", \"linecolor\": \"white\", \"ticks\": \"\"}}, \"scene\": {\"xaxis\": {\"backgroundcolor\": \"#E5ECF6\", \"gridcolor\": \"white\", \"gridwidth\": 2, \"linecolor\": \"white\", \"showbackground\": true, \"ticks\": \"\", \"zerolinecolor\": \"white\"}, \"yaxis\": {\"backgroundcolor\": \"#E5ECF6\", \"gridcolor\": \"white\", \"gridwidth\": 2, \"linecolor\": \"white\", \"showbackground\": true, \"ticks\": \"\", \"zerolinecolor\": \"white\"}, \"zaxis\": {\"backgroundcolor\": \"#E5ECF6\", \"gridcolor\": \"white\", \"gridwidth\": 2, \"linecolor\": \"white\", \"showbackground\": true, \"ticks\": \"\", \"zerolinecolor\": \"white\"}}, \"shapedefaults\": {\"line\": {\"color\": \"#2a3f5f\"}}, \"ternary\": {\"aaxis\": {\"gridcolor\": \"white\", \"linecolor\": \"white\", \"ticks\": \"\"}, \"baxis\": {\"gridcolor\": \"white\", \"linecolor\": \"white\", \"ticks\": \"\"}, \"bgcolor\": \"#E5ECF6\", \"caxis\": {\"gridcolor\": \"white\", \"linecolor\": \"white\", \"ticks\": \"\"}}, \"title\": {\"x\": 0.05}, \"xaxis\": {\"automargin\": true, \"gridcolor\": \"white\", \"linecolor\": \"white\", \"ticks\": \"\", \"title\": {\"standoff\": 15}, \"zerolinecolor\": \"white\", \"zerolinewidth\": 2}, \"yaxis\": {\"automargin\": true, \"gridcolor\": \"white\", \"linecolor\": \"white\", \"ticks\": \"\", \"title\": {\"standoff\": 15}, \"zerolinecolor\": \"white\", \"zerolinewidth\": 2}}}, \"xaxis\": {\"anchor\": \"y\", \"domain\": [0.0, 1.0], \"title\": {\"text\": \"mean\"}}, \"yaxis\": {\"anchor\": \"x\", \"domain\": [0.0, 1.0], \"title\": {\"text\": \"post\"}}},\n",
              "                        {\"responsive\": true}\n",
              "                    ).then(function(){\n",
              "                            \n",
              "var gd = document.getElementById('e1b8b620-85e2-48f8-9089-4291b726254e');\n",
              "var x = new MutationObserver(function (mutations, observer) {{\n",
              "        var display = window.getComputedStyle(gd).display;\n",
              "        if (!display || display === 'none') {{\n",
              "            console.log([gd, 'removed!']);\n",
              "            Plotly.purge(gd);\n",
              "            observer.disconnect();\n",
              "        }}\n",
              "}});\n",
              "\n",
              "// Listen for the removal of the full notebook cells\n",
              "var notebookContainer = gd.closest('#notebook-container');\n",
              "if (notebookContainer) {{\n",
              "    x.observe(notebookContainer, {childList: true});\n",
              "}}\n",
              "\n",
              "// Listen for the clearing of the current output cell\n",
              "var outputEl = gd.closest('.output');\n",
              "if (outputEl) {{\n",
              "    x.observe(outputEl, {childList: true});\n",
              "}}\n",
              "\n",
              "                        })\n",
              "                };\n",
              "                \n",
              "            </script>\n",
              "        </div>\n",
              "</body>\n",
              "</html>"
            ]
          },
          "metadata": {}
        }
      ],
      "source": [
        "votos = votes[len(votes) - 1]\n",
        "posteo = post[len(post) - 1]\n",
        "print(\"lower bounds aproximados:\")\n",
        "print(votos[:,0])\n",
        "posterior_mean, std_err = con_numpy_numba(votos)\n",
        "lb = posterior_mean - std_err\n",
        "print(\"\\nTop 20 post ordenador por el limite inferior:\\n\")\n",
        "order = np.argsort(-lb)\n",
        "vote_post = {\n",
        "    'Votos (+)': votos[order[:20], 0],\n",
        "    'Votos (-)': votos[order[:20], 1],\n",
        "    'Post': np.array(posteo)[order[:20]],\n",
        "    'url': np.array(url[len(url) - 1])[order[:20]]\n",
        "}\n",
        "df = pd.DataFrame(data=vote_post)\n",
        "ordered_post = df.Post\n",
        "\n",
        "r_order = order[::-1][-20:]\n",
        "data_dic = {\n",
        "    'mean': posterior_mean[r_order],\n",
        "    'std_err': std_err[r_order],\n",
        "    'post': ordered_post[::-1]\n",
        "}\n",
        "df = pd.DataFrame(data=data_dic)\n",
        "fig = px.scatter(df, x=\"mean\", y=\"post\", error_x=\"std_err\")\n",
        "fig.show()"
      ]
    },
    {
      "cell_type": "markdown",
      "metadata": {
        "cell_id": "00032-d71a3ab5-0048-4d25-a4d8-341d7cab6421",
        "deepnote_cell_type": "markdown",
        "id": "szOjXLKA1Rif"
      },
      "source": [
        "**Respuesta:**"
      ]
    },
    {
      "cell_type": "markdown",
      "metadata": {
        "cell_id": "00033-959c9ac0-1d28-4b75-9d1b-6a404fb2b1da",
        "deepnote_cell_type": "markdown",
        "id": "0F83QdD61Pd1"
      },
      "source": [
        "`Escriba su respuesta aquí`"
      ]
    },
    {
      "cell_type": "markdown",
      "metadata": {
        "cell_id": "00034-99362e55-ff3e-4160-b715-f235e1edf941",
        "deepnote_cell_type": "markdown",
        "id": "Rg4ZMq8ezAH6"
      },
      "source": [
        "<p align=\"center\">\n",
        "  <img src=\"https://media1.tenor.com/images/fb5bf7cc5a4acb91b4177672886a88ba/tenor.gif?itemid=5591338\">\n",
        "</p>"
      ]
    }
  ],
  "metadata": {
    "colab": {
      "collapsed_sections": [],
      "name": "20211126151009404D08DFAE674D__Lab9_Enunciado.ipynb",
      "provenance": []
    },
    "deepnote": {},
    "deepnote_execution_queue": [],
    "deepnote_notebook_id": "5d40e96b-943c-437d-9a87-f692c1b738de",
    "kernelspec": {
      "display_name": "Python 3 (ipykernel)",
      "language": "python",
      "name": "python3"
    },
    "language_info": {
      "codemirror_mode": {
        "name": "ipython",
        "version": 3
      },
      "file_extension": ".py",
      "mimetype": "text/x-python",
      "name": "python",
      "nbconvert_exporter": "python",
      "pygments_lexer": "ipython3",
      "version": "3.9.7"
    },
    "toc": {
      "base_numbering": 1,
      "nav_menu": {},
      "number_sections": true,
      "sideBar": true,
      "skip_h1_title": true,
      "title_cell": "Tabla de Contenidos",
      "title_sidebar": "Contenidos",
      "toc_cell": false,
      "toc_position": {
        "height": "calc(100% - 180px)",
        "left": "10px",
        "top": "150px",
        "width": "241.867px"
      },
      "toc_section_display": true,
      "toc_window_display": true
    },
    "varInspector": {
      "cols": {
        "lenName": 16,
        "lenType": 16,
        "lenVar": 40
      },
      "kernels_config": {
        "python": {
          "delete_cmd_postfix": "",
          "delete_cmd_prefix": "del ",
          "library": "var_list.py",
          "varRefreshCmd": "print(var_dic_list())"
        },
        "r": {
          "delete_cmd_postfix": ") ",
          "delete_cmd_prefix": "rm(",
          "library": "var_list.r",
          "varRefreshCmd": "cat(var_dic_list()) "
        }
      },
      "types_to_exclude": [
        "module",
        "function",
        "builtin_function_or_method",
        "instance",
        "_Feature"
      ],
      "window_display": false
    }
  },
  "nbformat": 4,
  "nbformat_minor": 0
}
